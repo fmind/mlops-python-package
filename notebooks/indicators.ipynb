{
 "cells": [
  {
   "cell_type": "markdown",
   "metadata": {},
   "source": [
    "**Compute Key-Performance Indicators (KPIs) from the MLflow server.**"
   ]
  },
  {
   "cell_type": "markdown",
   "metadata": {},
   "source": [
    "# IMPORTS"
   ]
  },
  {
   "cell_type": "code",
   "execution_count": 1,
   "metadata": {},
   "outputs": [],
   "source": [
    "import mlflow\n",
    "import pandas as pd\n",
    "import plotly.express as px"
   ]
  },
  {
   "cell_type": "markdown",
   "metadata": {},
   "source": [
    "# OPTIONS"
   ]
  },
  {
   "cell_type": "code",
   "execution_count": 2,
   "metadata": {},
   "outputs": [],
   "source": [
    "pd.options.display.max_columns = None"
   ]
  },
  {
   "cell_type": "markdown",
   "metadata": {},
   "source": [
    "# CONFIGS"
   ]
  },
  {
   "cell_type": "code",
   "execution_count": 3,
   "metadata": {},
   "outputs": [],
   "source": [
    "MAX_RESULTS = 100\n",
    "TRACKING_URI = \"http://localhost:5000\"\n",
    "REGISTRY_URI = \"http://localhost:5000\""
   ]
  },
  {
   "cell_type": "markdown",
   "metadata": {},
   "source": [
    "# CLIENTS"
   ]
  },
  {
   "cell_type": "code",
   "execution_count": 4,
   "metadata": {},
   "outputs": [],
   "source": [
    "client = mlflow.tracking.MlflowClient(tracking_uri=TRACKING_URI, registry_uri=REGISTRY_URI)"
   ]
  },
  {
   "cell_type": "markdown",
   "metadata": {},
   "source": [
    "# INDICATORS"
   ]
  },
  {
   "cell_type": "code",
   "execution_count": 5,
   "metadata": {},
   "outputs": [
    {
     "name": "stdout",
     "output_type": "stream",
     "text": [
      "(1, 7)\n"
     ]
    },
    {
     "data": {
      "text/html": [
       "<div>\n",
       "<style scoped>\n",
       "    .dataframe tbody tr th:only-of-type {\n",
       "        vertical-align: middle;\n",
       "    }\n",
       "\n",
       "    .dataframe tbody tr th {\n",
       "        vertical-align: top;\n",
       "    }\n",
       "\n",
       "    .dataframe thead th {\n",
       "        text-align: right;\n",
       "    }\n",
       "</style>\n",
       "<table border=\"1\" class=\"dataframe\">\n",
       "  <thead>\n",
       "    <tr style=\"text-align: right;\">\n",
       "      <th></th>\n",
       "      <th>artifact_location</th>\n",
       "      <th>creation_time</th>\n",
       "      <th>experiment_id</th>\n",
       "      <th>last_update_time</th>\n",
       "      <th>lifecycle_stage</th>\n",
       "      <th>name</th>\n",
       "      <th>tags</th>\n",
       "    </tr>\n",
       "  </thead>\n",
       "  <tbody>\n",
       "    <tr>\n",
       "      <th>0</th>\n",
       "      <td>file:///home/fmind/mlops-python-package/mlruns...</td>\n",
       "      <td>2024-07-20 12:43:59.721</td>\n",
       "      <td>562757566260573932</td>\n",
       "      <td>2024-07-20 12:43:59.721</td>\n",
       "      <td>active</td>\n",
       "      <td>bikes</td>\n",
       "      <td>{}</td>\n",
       "    </tr>\n",
       "  </tbody>\n",
       "</table>\n",
       "</div>"
      ],
      "text/plain": [
       "                                   artifact_location           creation_time  \\\n",
       "0  file:///home/fmind/mlops-python-package/mlruns... 2024-07-20 12:43:59.721   \n",
       "\n",
       "        experiment_id        last_update_time lifecycle_stage   name tags  \n",
       "0  562757566260573932 2024-07-20 12:43:59.721          active  bikes   {}  "
      ]
     },
     "execution_count": 5,
     "metadata": {},
     "output_type": "execute_result"
    }
   ],
   "source": [
    "experiments = client.search_experiments(\n",
    "    view_type=mlflow.entities.ViewType.ALL, max_results=MAX_RESULTS, order_by=[\"creation_time DESC\"]\n",
    ")\n",
    "experiments = [dict(experiment) for experiment in experiments]\n",
    "experiments = pd.DataFrame(experiments).assign(\n",
    "    creation_time=lambda data: pd.to_datetime(data[\"creation_time\"], unit=\"ms\"),\n",
    "    last_update_time=lambda data: pd.to_datetime(data[\"last_update_time\"], unit=\"ms\"),\n",
    ")\n",
    "print(experiments.shape)\n",
    "experiments.head()"
   ]
  },
  {
   "cell_type": "code",
   "execution_count": 6,
   "metadata": {},
   "outputs": [
    {
     "name": "stdout",
     "output_type": "stream",
     "text": [
      "(28, 29)\n"
     ]
    },
    {
     "data": {
      "text/html": [
       "<div>\n",
       "<style scoped>\n",
       "    .dataframe tbody tr th:only-of-type {\n",
       "        vertical-align: middle;\n",
       "    }\n",
       "\n",
       "    .dataframe tbody tr th {\n",
       "        vertical-align: top;\n",
       "    }\n",
       "\n",
       "    .dataframe thead th {\n",
       "        text-align: right;\n",
       "    }\n",
       "</style>\n",
       "<table border=\"1\" class=\"dataframe\">\n",
       "  <thead>\n",
       "    <tr style=\"text-align: right;\">\n",
       "      <th></th>\n",
       "      <th>artifact_uri</th>\n",
       "      <th>end_time</th>\n",
       "      <th>experiment_id</th>\n",
       "      <th>lifecycle_stage</th>\n",
       "      <th>run_id</th>\n",
       "      <th>run_name</th>\n",
       "      <th>run_uuid</th>\n",
       "      <th>start_time</th>\n",
       "      <th>status</th>\n",
       "      <th>user_id</th>\n",
       "      <th>metrics</th>\n",
       "      <th>params</th>\n",
       "      <th>tags</th>\n",
       "      <th>mlflow.user</th>\n",
       "      <th>mlflow.source.name</th>\n",
       "      <th>mlflow.source.type</th>\n",
       "      <th>mlflow.project.entryPoint</th>\n",
       "      <th>mlflow.source.git.commit</th>\n",
       "      <th>mlflow.source.git.repoURL</th>\n",
       "      <th>mlflow.gitRepoURL</th>\n",
       "      <th>mlflow.runName</th>\n",
       "      <th>mlflow.project.env</th>\n",
       "      <th>mlflow.project.backend</th>\n",
       "      <th>mlflow.datasets</th>\n",
       "      <th>estimator_name</th>\n",
       "      <th>estimator_class</th>\n",
       "      <th>mlflow.log-model.history</th>\n",
       "      <th>mlflow.autologging</th>\n",
       "      <th>mlflow.parentRunId</th>\n",
       "    </tr>\n",
       "  </thead>\n",
       "  <tbody>\n",
       "    <tr>\n",
       "      <th>0</th>\n",
       "      <td>file:///home/fmind/mlops-python-package/mlruns...</td>\n",
       "      <td>2024-07-21 14:08:59.757</td>\n",
       "      <td>562757566260573932</td>\n",
       "      <td>active</td>\n",
       "      <td>2f6920e2006841d7a72567e9f25df89f</td>\n",
       "      <td>Explanations</td>\n",
       "      <td>2f6920e2006841d7a72567e9f25df89f</td>\n",
       "      <td>2024-07-21 14:08:29.817</td>\n",
       "      <td>FINISHED</td>\n",
       "      <td>fmind</td>\n",
       "      <td>{}</td>\n",
       "      <td>{'conf_file': 'confs/explanations.yaml'}</td>\n",
       "      <td>{'mlflow.user': 'fmind', 'mlflow.source.name':...</td>\n",
       "      <td>fmind</td>\n",
       "      <td>file:///home/fmind/mlops-python-package</td>\n",
       "      <td>PROJECT</td>\n",
       "      <td>main</td>\n",
       "      <td>f071dd1397f5c7592fd82a2fe169f5ecaf3af901</td>\n",
       "      <td>git@github.com:fmind/mlops-python-package</td>\n",
       "      <td>git@github.com:fmind/mlops-python-package</td>\n",
       "      <td>Explanations</td>\n",
       "      <td>virtualenv</td>\n",
       "      <td>local</td>\n",
       "      <td>NaN</td>\n",
       "      <td>NaN</td>\n",
       "      <td>NaN</td>\n",
       "      <td>NaN</td>\n",
       "      <td>NaN</td>\n",
       "      <td>NaN</td>\n",
       "    </tr>\n",
       "    <tr>\n",
       "      <th>1</th>\n",
       "      <td>file:///home/fmind/mlops-python-package/mlruns...</td>\n",
       "      <td>2024-07-21 14:08:28.634</td>\n",
       "      <td>562757566260573932</td>\n",
       "      <td>active</td>\n",
       "      <td>94fa6a85393745f9b8bb5cac75f865e4</td>\n",
       "      <td>Evaluations</td>\n",
       "      <td>94fa6a85393745f9b8bb5cac75f865e4</td>\n",
       "      <td>2024-07-21 14:08:24.395</td>\n",
       "      <td>FINISHED</td>\n",
       "      <td>fmind</td>\n",
       "      <td>{'example_count': 13903.0, 'mean_absolute_erro...</td>\n",
       "      <td>{'conf_file': 'confs/evaluations.yaml'}</td>\n",
       "      <td>{'mlflow.user': 'fmind', 'mlflow.source.name':...</td>\n",
       "      <td>fmind</td>\n",
       "      <td>file:///home/fmind/mlops-python-package</td>\n",
       "      <td>PROJECT</td>\n",
       "      <td>main</td>\n",
       "      <td>f071dd1397f5c7592fd82a2fe169f5ecaf3af901</td>\n",
       "      <td>git@github.com:fmind/mlops-python-package</td>\n",
       "      <td>git@github.com:fmind/mlops-python-package</td>\n",
       "      <td>Evaluations</td>\n",
       "      <td>virtualenv</td>\n",
       "      <td>local</td>\n",
       "      <td>[{\"name\":\"ce0fe6e33c74e2fa3659d51482be5f27\",\"h...</td>\n",
       "      <td>NaN</td>\n",
       "      <td>NaN</td>\n",
       "      <td>NaN</td>\n",
       "      <td>NaN</td>\n",
       "      <td>NaN</td>\n",
       "    </tr>\n",
       "    <tr>\n",
       "      <th>2</th>\n",
       "      <td>file:///home/fmind/mlops-python-package/mlruns...</td>\n",
       "      <td>2024-07-21 14:08:23.205</td>\n",
       "      <td>562757566260573932</td>\n",
       "      <td>active</td>\n",
       "      <td>da669581953a4a46ab84efaabc8f3e92</td>\n",
       "      <td>Inference</td>\n",
       "      <td>da669581953a4a46ab84efaabc8f3e92</td>\n",
       "      <td>2024-07-21 14:08:19.775</td>\n",
       "      <td>FINISHED</td>\n",
       "      <td>fmind</td>\n",
       "      <td>{}</td>\n",
       "      <td>{'conf_file': 'confs/inference.yaml'}</td>\n",
       "      <td>{'mlflow.user': 'fmind', 'mlflow.source.name':...</td>\n",
       "      <td>fmind</td>\n",
       "      <td>file:///home/fmind/mlops-python-package</td>\n",
       "      <td>PROJECT</td>\n",
       "      <td>main</td>\n",
       "      <td>f071dd1397f5c7592fd82a2fe169f5ecaf3af901</td>\n",
       "      <td>git@github.com:fmind/mlops-python-package</td>\n",
       "      <td>git@github.com:fmind/mlops-python-package</td>\n",
       "      <td>Inference</td>\n",
       "      <td>virtualenv</td>\n",
       "      <td>local</td>\n",
       "      <td>NaN</td>\n",
       "      <td>NaN</td>\n",
       "      <td>NaN</td>\n",
       "      <td>NaN</td>\n",
       "      <td>NaN</td>\n",
       "      <td>NaN</td>\n",
       "    </tr>\n",
       "    <tr>\n",
       "      <th>3</th>\n",
       "      <td>file:///home/fmind/mlops-python-package/mlruns...</td>\n",
       "      <td>2024-07-21 14:08:18.412</td>\n",
       "      <td>562757566260573932</td>\n",
       "      <td>active</td>\n",
       "      <td>023a21263eaa43228b324fb432932cf4</td>\n",
       "      <td>Promotion</td>\n",
       "      <td>023a21263eaa43228b324fb432932cf4</td>\n",
       "      <td>2024-07-21 14:08:15.431</td>\n",
       "      <td>FINISHED</td>\n",
       "      <td>fmind</td>\n",
       "      <td>{}</td>\n",
       "      <td>{'conf_file': 'confs/promotion.yaml'}</td>\n",
       "      <td>{'mlflow.user': 'fmind', 'mlflow.source.name':...</td>\n",
       "      <td>fmind</td>\n",
       "      <td>file:///home/fmind/mlops-python-package</td>\n",
       "      <td>PROJECT</td>\n",
       "      <td>main</td>\n",
       "      <td>f071dd1397f5c7592fd82a2fe169f5ecaf3af901</td>\n",
       "      <td>git@github.com:fmind/mlops-python-package</td>\n",
       "      <td>git@github.com:fmind/mlops-python-package</td>\n",
       "      <td>Promotion</td>\n",
       "      <td>virtualenv</td>\n",
       "      <td>local</td>\n",
       "      <td>NaN</td>\n",
       "      <td>NaN</td>\n",
       "      <td>NaN</td>\n",
       "      <td>NaN</td>\n",
       "      <td>NaN</td>\n",
       "      <td>NaN</td>\n",
       "    </tr>\n",
       "    <tr>\n",
       "      <th>4</th>\n",
       "      <td>file:///home/fmind/mlops-python-package/mlruns...</td>\n",
       "      <td>2024-07-21 14:08:13.567</td>\n",
       "      <td>562757566260573932</td>\n",
       "      <td>active</td>\n",
       "      <td>d37276201a5b4ff98addae88f5ed1a34</td>\n",
       "      <td>Training</td>\n",
       "      <td>d37276201a5b4ff98addae88f5ed1a34</td>\n",
       "      <td>2024-07-21 14:07:54.473</td>\n",
       "      <td>FINISHED</td>\n",
       "      <td>fmind</td>\n",
       "      <td>{'training_mean_squared_error': 124.5105461557...</td>\n",
       "      <td>{'conf_file': 'confs/training.yaml', 'memory':...</td>\n",
       "      <td>{'mlflow.user': 'fmind', 'mlflow.source.name':...</td>\n",
       "      <td>fmind</td>\n",
       "      <td>file:///home/fmind/mlops-python-package</td>\n",
       "      <td>PROJECT</td>\n",
       "      <td>main</td>\n",
       "      <td>f071dd1397f5c7592fd82a2fe169f5ecaf3af901</td>\n",
       "      <td>git@github.com:fmind/mlops-python-package</td>\n",
       "      <td>git@github.com:fmind/mlops-python-package</td>\n",
       "      <td>Training</td>\n",
       "      <td>virtualenv</td>\n",
       "      <td>local</td>\n",
       "      <td>NaN</td>\n",
       "      <td>Pipeline</td>\n",
       "      <td>sklearn.pipeline.Pipeline</td>\n",
       "      <td>[{\"run_id\": \"d37276201a5b4ff98addae88f5ed1a34\"...</td>\n",
       "      <td>NaN</td>\n",
       "      <td>NaN</td>\n",
       "    </tr>\n",
       "  </tbody>\n",
       "</table>\n",
       "</div>"
      ],
      "text/plain": [
       "                                        artifact_uri                end_time  \\\n",
       "0  file:///home/fmind/mlops-python-package/mlruns... 2024-07-21 14:08:59.757   \n",
       "1  file:///home/fmind/mlops-python-package/mlruns... 2024-07-21 14:08:28.634   \n",
       "2  file:///home/fmind/mlops-python-package/mlruns... 2024-07-21 14:08:23.205   \n",
       "3  file:///home/fmind/mlops-python-package/mlruns... 2024-07-21 14:08:18.412   \n",
       "4  file:///home/fmind/mlops-python-package/mlruns... 2024-07-21 14:08:13.567   \n",
       "\n",
       "        experiment_id lifecycle_stage                            run_id  \\\n",
       "0  562757566260573932          active  2f6920e2006841d7a72567e9f25df89f   \n",
       "1  562757566260573932          active  94fa6a85393745f9b8bb5cac75f865e4   \n",
       "2  562757566260573932          active  da669581953a4a46ab84efaabc8f3e92   \n",
       "3  562757566260573932          active  023a21263eaa43228b324fb432932cf4   \n",
       "4  562757566260573932          active  d37276201a5b4ff98addae88f5ed1a34   \n",
       "\n",
       "       run_name                          run_uuid              start_time  \\\n",
       "0  Explanations  2f6920e2006841d7a72567e9f25df89f 2024-07-21 14:08:29.817   \n",
       "1   Evaluations  94fa6a85393745f9b8bb5cac75f865e4 2024-07-21 14:08:24.395   \n",
       "2     Inference  da669581953a4a46ab84efaabc8f3e92 2024-07-21 14:08:19.775   \n",
       "3     Promotion  023a21263eaa43228b324fb432932cf4 2024-07-21 14:08:15.431   \n",
       "4      Training  d37276201a5b4ff98addae88f5ed1a34 2024-07-21 14:07:54.473   \n",
       "\n",
       "     status user_id                                            metrics  \\\n",
       "0  FINISHED   fmind                                                 {}   \n",
       "1  FINISHED   fmind  {'example_count': 13903.0, 'mean_absolute_erro...   \n",
       "2  FINISHED   fmind                                                 {}   \n",
       "3  FINISHED   fmind                                                 {}   \n",
       "4  FINISHED   fmind  {'training_mean_squared_error': 124.5105461557...   \n",
       "\n",
       "                                              params  \\\n",
       "0           {'conf_file': 'confs/explanations.yaml'}   \n",
       "1            {'conf_file': 'confs/evaluations.yaml'}   \n",
       "2              {'conf_file': 'confs/inference.yaml'}   \n",
       "3              {'conf_file': 'confs/promotion.yaml'}   \n",
       "4  {'conf_file': 'confs/training.yaml', 'memory':...   \n",
       "\n",
       "                                                tags mlflow.user  \\\n",
       "0  {'mlflow.user': 'fmind', 'mlflow.source.name':...       fmind   \n",
       "1  {'mlflow.user': 'fmind', 'mlflow.source.name':...       fmind   \n",
       "2  {'mlflow.user': 'fmind', 'mlflow.source.name':...       fmind   \n",
       "3  {'mlflow.user': 'fmind', 'mlflow.source.name':...       fmind   \n",
       "4  {'mlflow.user': 'fmind', 'mlflow.source.name':...       fmind   \n",
       "\n",
       "                        mlflow.source.name mlflow.source.type  \\\n",
       "0  file:///home/fmind/mlops-python-package            PROJECT   \n",
       "1  file:///home/fmind/mlops-python-package            PROJECT   \n",
       "2  file:///home/fmind/mlops-python-package            PROJECT   \n",
       "3  file:///home/fmind/mlops-python-package            PROJECT   \n",
       "4  file:///home/fmind/mlops-python-package            PROJECT   \n",
       "\n",
       "  mlflow.project.entryPoint                  mlflow.source.git.commit  \\\n",
       "0                      main  f071dd1397f5c7592fd82a2fe169f5ecaf3af901   \n",
       "1                      main  f071dd1397f5c7592fd82a2fe169f5ecaf3af901   \n",
       "2                      main  f071dd1397f5c7592fd82a2fe169f5ecaf3af901   \n",
       "3                      main  f071dd1397f5c7592fd82a2fe169f5ecaf3af901   \n",
       "4                      main  f071dd1397f5c7592fd82a2fe169f5ecaf3af901   \n",
       "\n",
       "                   mlflow.source.git.repoURL  \\\n",
       "0  git@github.com:fmind/mlops-python-package   \n",
       "1  git@github.com:fmind/mlops-python-package   \n",
       "2  git@github.com:fmind/mlops-python-package   \n",
       "3  git@github.com:fmind/mlops-python-package   \n",
       "4  git@github.com:fmind/mlops-python-package   \n",
       "\n",
       "                           mlflow.gitRepoURL mlflow.runName  \\\n",
       "0  git@github.com:fmind/mlops-python-package   Explanations   \n",
       "1  git@github.com:fmind/mlops-python-package    Evaluations   \n",
       "2  git@github.com:fmind/mlops-python-package      Inference   \n",
       "3  git@github.com:fmind/mlops-python-package      Promotion   \n",
       "4  git@github.com:fmind/mlops-python-package       Training   \n",
       "\n",
       "  mlflow.project.env mlflow.project.backend  \\\n",
       "0         virtualenv                  local   \n",
       "1         virtualenv                  local   \n",
       "2         virtualenv                  local   \n",
       "3         virtualenv                  local   \n",
       "4         virtualenv                  local   \n",
       "\n",
       "                                     mlflow.datasets estimator_name  \\\n",
       "0                                                NaN            NaN   \n",
       "1  [{\"name\":\"ce0fe6e33c74e2fa3659d51482be5f27\",\"h...            NaN   \n",
       "2                                                NaN            NaN   \n",
       "3                                                NaN            NaN   \n",
       "4                                                NaN       Pipeline   \n",
       "\n",
       "             estimator_class  \\\n",
       "0                        NaN   \n",
       "1                        NaN   \n",
       "2                        NaN   \n",
       "3                        NaN   \n",
       "4  sklearn.pipeline.Pipeline   \n",
       "\n",
       "                            mlflow.log-model.history mlflow.autologging  \\\n",
       "0                                                NaN                NaN   \n",
       "1                                                NaN                NaN   \n",
       "2                                                NaN                NaN   \n",
       "3                                                NaN                NaN   \n",
       "4  [{\"run_id\": \"d37276201a5b4ff98addae88f5ed1a34\"...                NaN   \n",
       "\n",
       "  mlflow.parentRunId  \n",
       "0                NaN  \n",
       "1                NaN  \n",
       "2                NaN  \n",
       "3                NaN  \n",
       "4                NaN  "
      ]
     },
     "execution_count": 6,
     "metadata": {},
     "output_type": "execute_result"
    }
   ],
   "source": [
    "runs = client.search_runs(\n",
    "    experiment_ids=experiments[\"experiment_id\"].unique(),\n",
    "    run_view_type=mlflow.entities.ViewType.ALL,\n",
    "    max_results=MAX_RESULTS,\n",
    "    order_by=[\"created DESC\"],\n",
    ")\n",
    "runs = [dict(run.info) | dict(run.data) for run in runs]\n",
    "runs = pd.DataFrame(runs).assign(\n",
    "    end_time=lambda data: pd.to_datetime(data[\"end_time\"], unit=\"ms\"),\n",
    "    start_time=lambda data: pd.to_datetime(data[\"start_time\"], unit=\"ms\"),\n",
    ")\n",
    "runs = pd.concat([runs, pd.json_normalize(runs['tags'])], axis=\"columns\")\n",
    "print(runs.shape)\n",
    "runs.head()"
   ]
  },
  {
   "cell_type": "code",
   "execution_count": 7,
   "metadata": {},
   "outputs": [
    {
     "name": "stdout",
     "output_type": "stream",
     "text": [
      "(1, 6)\n"
     ]
    },
    {
     "data": {
      "text/html": [
       "<div>\n",
       "<style scoped>\n",
       "    .dataframe tbody tr th:only-of-type {\n",
       "        vertical-align: middle;\n",
       "    }\n",
       "\n",
       "    .dataframe tbody tr th {\n",
       "        vertical-align: top;\n",
       "    }\n",
       "\n",
       "    .dataframe thead th {\n",
       "        text-align: right;\n",
       "    }\n",
       "</style>\n",
       "<table border=\"1\" class=\"dataframe\">\n",
       "  <thead>\n",
       "    <tr style=\"text-align: right;\">\n",
       "      <th></th>\n",
       "      <th>aliases</th>\n",
       "      <th>creation_timestamp</th>\n",
       "      <th>description</th>\n",
       "      <th>last_updated_timestamp</th>\n",
       "      <th>name</th>\n",
       "      <th>tags</th>\n",
       "    </tr>\n",
       "  </thead>\n",
       "  <tbody>\n",
       "    <tr>\n",
       "      <th>0</th>\n",
       "      <td>{'Champion': '3'}</td>\n",
       "      <td>2024-07-20 12:46:27.013</td>\n",
       "      <td></td>\n",
       "      <td>2024-07-21 14:08:17.804</td>\n",
       "      <td>bikes</td>\n",
       "      <td>{}</td>\n",
       "    </tr>\n",
       "  </tbody>\n",
       "</table>\n",
       "</div>"
      ],
      "text/plain": [
       "             aliases      creation_timestamp description  \\\n",
       "0  {'Champion': '3'} 2024-07-20 12:46:27.013               \n",
       "\n",
       "   last_updated_timestamp   name tags  \n",
       "0 2024-07-21 14:08:17.804  bikes   {}  "
      ]
     },
     "execution_count": 7,
     "metadata": {},
     "output_type": "execute_result"
    }
   ],
   "source": [
    "models = client.search_registered_models(\n",
    "    max_results=MAX_RESULTS, order_by=[\"creation_timestamp DESC\"]\n",
    ")\n",
    "models = [dict(model) for model in models]\n",
    "models = pd.DataFrame(models).assign(\n",
    "    creation_timestamp=lambda data: pd.to_datetime(data[\"creation_timestamp\"], unit=\"ms\"),\n",
    "    last_updated_timestamp=lambda data: pd.to_datetime(data[\"last_updated_timestamp\"], unit=\"ms\"),\n",
    ").drop(columns=['latest_versions'])\n",
    "print(models.shape)\n",
    "models"
   ]
  },
  {
   "cell_type": "code",
   "execution_count": 8,
   "metadata": {},
   "outputs": [
    {
     "name": "stdout",
     "output_type": "stream",
     "text": [
      "(3, 14)\n"
     ]
    },
    {
     "data": {
      "text/html": [
       "<div>\n",
       "<style scoped>\n",
       "    .dataframe tbody tr th:only-of-type {\n",
       "        vertical-align: middle;\n",
       "    }\n",
       "\n",
       "    .dataframe tbody tr th {\n",
       "        vertical-align: top;\n",
       "    }\n",
       "\n",
       "    .dataframe thead th {\n",
       "        text-align: right;\n",
       "    }\n",
       "</style>\n",
       "<table border=\"1\" class=\"dataframe\">\n",
       "  <thead>\n",
       "    <tr style=\"text-align: right;\">\n",
       "      <th></th>\n",
       "      <th>aliases</th>\n",
       "      <th>creation_timestamp</th>\n",
       "      <th>current_stage</th>\n",
       "      <th>description</th>\n",
       "      <th>last_updated_timestamp</th>\n",
       "      <th>name</th>\n",
       "      <th>run_id</th>\n",
       "      <th>run_link</th>\n",
       "      <th>source</th>\n",
       "      <th>status</th>\n",
       "      <th>status_message</th>\n",
       "      <th>tags</th>\n",
       "      <th>user_id</th>\n",
       "      <th>version</th>\n",
       "    </tr>\n",
       "  </thead>\n",
       "  <tbody>\n",
       "    <tr>\n",
       "      <th>0</th>\n",
       "      <td>Champion</td>\n",
       "      <td>2024-07-21 14:08:12.799</td>\n",
       "      <td>None</td>\n",
       "      <td></td>\n",
       "      <td>2024-07-21 14:08:12.799</td>\n",
       "      <td>bikes</td>\n",
       "      <td>d37276201a5b4ff98addae88f5ed1a34</td>\n",
       "      <td></td>\n",
       "      <td>file:///home/fmind/mlops-python-package/mlruns...</td>\n",
       "      <td>READY</td>\n",
       "      <td></td>\n",
       "      <td>{}</td>\n",
       "      <td></td>\n",
       "      <td>3</td>\n",
       "    </tr>\n",
       "    <tr>\n",
       "      <th>1</th>\n",
       "      <td>None</td>\n",
       "      <td>2024-07-20 12:52:29.627</td>\n",
       "      <td>None</td>\n",
       "      <td></td>\n",
       "      <td>2024-07-20 12:52:29.627</td>\n",
       "      <td>bikes</td>\n",
       "      <td>b428ae1513a54e16a5bf3959cf3eeb8e</td>\n",
       "      <td></td>\n",
       "      <td>file:///home/fmind/mlops-python-package/mlruns...</td>\n",
       "      <td>READY</td>\n",
       "      <td></td>\n",
       "      <td>{}</td>\n",
       "      <td></td>\n",
       "      <td>2</td>\n",
       "    </tr>\n",
       "    <tr>\n",
       "      <th>2</th>\n",
       "      <td>None</td>\n",
       "      <td>2024-07-20 12:46:27.017</td>\n",
       "      <td>None</td>\n",
       "      <td></td>\n",
       "      <td>2024-07-20 12:46:27.017</td>\n",
       "      <td>bikes</td>\n",
       "      <td>795eace5f76a4fe4af3754460b5e25e4</td>\n",
       "      <td></td>\n",
       "      <td>file:///home/fmind/mlops-python-package/mlruns...</td>\n",
       "      <td>READY</td>\n",
       "      <td></td>\n",
       "      <td>{}</td>\n",
       "      <td></td>\n",
       "      <td>1</td>\n",
       "    </tr>\n",
       "  </tbody>\n",
       "</table>\n",
       "</div>"
      ],
      "text/plain": [
       "    aliases      creation_timestamp current_stage description  \\\n",
       "0  Champion 2024-07-21 14:08:12.799          None               \n",
       "1      None 2024-07-20 12:52:29.627          None               \n",
       "2      None 2024-07-20 12:46:27.017          None               \n",
       "\n",
       "   last_updated_timestamp   name                            run_id run_link  \\\n",
       "0 2024-07-21 14:08:12.799  bikes  d37276201a5b4ff98addae88f5ed1a34            \n",
       "1 2024-07-20 12:52:29.627  bikes  b428ae1513a54e16a5bf3959cf3eeb8e            \n",
       "2 2024-07-20 12:46:27.017  bikes  795eace5f76a4fe4af3754460b5e25e4            \n",
       "\n",
       "                                              source status status_message  \\\n",
       "0  file:///home/fmind/mlops-python-package/mlruns...  READY                  \n",
       "1  file:///home/fmind/mlops-python-package/mlruns...  READY                  \n",
       "2  file:///home/fmind/mlops-python-package/mlruns...  READY                  \n",
       "\n",
       "  tags user_id version  \n",
       "0   {}               3  \n",
       "1   {}               2  \n",
       "2   {}               1  "
      ]
     },
     "execution_count": 8,
     "metadata": {},
     "output_type": "execute_result"
    }
   ],
   "source": [
    "versions = client.search_model_versions(\n",
    "    max_results=MAX_RESULTS, order_by=[\"creation_timestamp DESC\"]\n",
    ")\n",
    "versions = [dict(version) for version in versions]\n",
    "versions = pd.DataFrame(versions).assign(\n",
    "    aliases=lambda data: data['aliases'].map(lambda x: x[0] if len(x) else None),\n",
    "    creation_timestamp=lambda data: pd.to_datetime(data[\"creation_timestamp\"], unit=\"ms\"),\n",
    "    last_updated_timestamp=lambda data: pd.to_datetime(data[\"last_updated_timestamp\"], unit=\"ms\"),\n",
    ")\n",
    "print(versions.shape)\n",
    "versions.head()"
   ]
  },
  {
   "cell_type": "markdown",
   "metadata": {},
   "source": [
    "# DASHBOARDS"
   ]
  },
  {
   "cell_type": "code",
   "execution_count": 9,
   "metadata": {},
   "outputs": [
    {
     "data": {
      "application/vnd.plotly.v1+json": {
       "config": {
        "plotlyServerURL": "https://plot.ly"
       },
       "data": [
        {
         "alignmentgroup": "True",
         "boxpoints": "all",
         "customdata": [
          [
           "file:///home/fmind/mlops-python-package/mlruns/562757566260573932",
           "562757566260573932",
           "2024-07-20T12:43:59.721000",
           "active",
           "bikes",
           {}
          ]
         ],
         "fillcolor": "rgba(255,255,255,0)",
         "hoveron": "points",
         "hovertemplate": "<b>%{hovertext}</b><br><br>lifecycle_stage=%{customdata[3]}<br>creation_time=%{x}<br>artifact_location=%{customdata[0]}<br>experiment_id=%{customdata[1]}<br>last_update_time=%{customdata[2]}<br>name=%{customdata[4]}<br>tags=%{customdata[5]}<extra></extra>",
         "hovertext": [
          "bikes"
         ],
         "legendgroup": "active",
         "line": {
          "color": "rgba(255,255,255,0)"
         },
         "marker": {
          "color": "#636efa"
         },
         "name": "active",
         "offsetgroup": "active",
         "orientation": "h",
         "pointpos": 0,
         "showlegend": true,
         "type": "box",
         "x": [
          "2024-07-20T12:43:59.721000"
         ],
         "x0": " ",
         "xaxis": "x",
         "y0": " ",
         "yaxis": "y"
        }
       ],
       "layout": {
        "boxmode": "group",
        "legend": {
         "title": {
          "text": "lifecycle_stage"
         },
         "tracegroupgap": 0
        },
        "template": {
         "data": {
          "bar": [
           {
            "error_x": {
             "color": "#2a3f5f"
            },
            "error_y": {
             "color": "#2a3f5f"
            },
            "marker": {
             "line": {
              "color": "#E5ECF6",
              "width": 0.5
             },
             "pattern": {
              "fillmode": "overlay",
              "size": 10,
              "solidity": 0.2
             }
            },
            "type": "bar"
           }
          ],
          "barpolar": [
           {
            "marker": {
             "line": {
              "color": "#E5ECF6",
              "width": 0.5
             },
             "pattern": {
              "fillmode": "overlay",
              "size": 10,
              "solidity": 0.2
             }
            },
            "type": "barpolar"
           }
          ],
          "carpet": [
           {
            "aaxis": {
             "endlinecolor": "#2a3f5f",
             "gridcolor": "white",
             "linecolor": "white",
             "minorgridcolor": "white",
             "startlinecolor": "#2a3f5f"
            },
            "baxis": {
             "endlinecolor": "#2a3f5f",
             "gridcolor": "white",
             "linecolor": "white",
             "minorgridcolor": "white",
             "startlinecolor": "#2a3f5f"
            },
            "type": "carpet"
           }
          ],
          "choropleth": [
           {
            "colorbar": {
             "outlinewidth": 0,
             "ticks": ""
            },
            "type": "choropleth"
           }
          ],
          "contour": [
           {
            "colorbar": {
             "outlinewidth": 0,
             "ticks": ""
            },
            "colorscale": [
             [
              0,
              "#0d0887"
             ],
             [
              0.1111111111111111,
              "#46039f"
             ],
             [
              0.2222222222222222,
              "#7201a8"
             ],
             [
              0.3333333333333333,
              "#9c179e"
             ],
             [
              0.4444444444444444,
              "#bd3786"
             ],
             [
              0.5555555555555556,
              "#d8576b"
             ],
             [
              0.6666666666666666,
              "#ed7953"
             ],
             [
              0.7777777777777778,
              "#fb9f3a"
             ],
             [
              0.8888888888888888,
              "#fdca26"
             ],
             [
              1,
              "#f0f921"
             ]
            ],
            "type": "contour"
           }
          ],
          "contourcarpet": [
           {
            "colorbar": {
             "outlinewidth": 0,
             "ticks": ""
            },
            "type": "contourcarpet"
           }
          ],
          "heatmap": [
           {
            "colorbar": {
             "outlinewidth": 0,
             "ticks": ""
            },
            "colorscale": [
             [
              0,
              "#0d0887"
             ],
             [
              0.1111111111111111,
              "#46039f"
             ],
             [
              0.2222222222222222,
              "#7201a8"
             ],
             [
              0.3333333333333333,
              "#9c179e"
             ],
             [
              0.4444444444444444,
              "#bd3786"
             ],
             [
              0.5555555555555556,
              "#d8576b"
             ],
             [
              0.6666666666666666,
              "#ed7953"
             ],
             [
              0.7777777777777778,
              "#fb9f3a"
             ],
             [
              0.8888888888888888,
              "#fdca26"
             ],
             [
              1,
              "#f0f921"
             ]
            ],
            "type": "heatmap"
           }
          ],
          "heatmapgl": [
           {
            "colorbar": {
             "outlinewidth": 0,
             "ticks": ""
            },
            "colorscale": [
             [
              0,
              "#0d0887"
             ],
             [
              0.1111111111111111,
              "#46039f"
             ],
             [
              0.2222222222222222,
              "#7201a8"
             ],
             [
              0.3333333333333333,
              "#9c179e"
             ],
             [
              0.4444444444444444,
              "#bd3786"
             ],
             [
              0.5555555555555556,
              "#d8576b"
             ],
             [
              0.6666666666666666,
              "#ed7953"
             ],
             [
              0.7777777777777778,
              "#fb9f3a"
             ],
             [
              0.8888888888888888,
              "#fdca26"
             ],
             [
              1,
              "#f0f921"
             ]
            ],
            "type": "heatmapgl"
           }
          ],
          "histogram": [
           {
            "marker": {
             "pattern": {
              "fillmode": "overlay",
              "size": 10,
              "solidity": 0.2
             }
            },
            "type": "histogram"
           }
          ],
          "histogram2d": [
           {
            "colorbar": {
             "outlinewidth": 0,
             "ticks": ""
            },
            "colorscale": [
             [
              0,
              "#0d0887"
             ],
             [
              0.1111111111111111,
              "#46039f"
             ],
             [
              0.2222222222222222,
              "#7201a8"
             ],
             [
              0.3333333333333333,
              "#9c179e"
             ],
             [
              0.4444444444444444,
              "#bd3786"
             ],
             [
              0.5555555555555556,
              "#d8576b"
             ],
             [
              0.6666666666666666,
              "#ed7953"
             ],
             [
              0.7777777777777778,
              "#fb9f3a"
             ],
             [
              0.8888888888888888,
              "#fdca26"
             ],
             [
              1,
              "#f0f921"
             ]
            ],
            "type": "histogram2d"
           }
          ],
          "histogram2dcontour": [
           {
            "colorbar": {
             "outlinewidth": 0,
             "ticks": ""
            },
            "colorscale": [
             [
              0,
              "#0d0887"
             ],
             [
              0.1111111111111111,
              "#46039f"
             ],
             [
              0.2222222222222222,
              "#7201a8"
             ],
             [
              0.3333333333333333,
              "#9c179e"
             ],
             [
              0.4444444444444444,
              "#bd3786"
             ],
             [
              0.5555555555555556,
              "#d8576b"
             ],
             [
              0.6666666666666666,
              "#ed7953"
             ],
             [
              0.7777777777777778,
              "#fb9f3a"
             ],
             [
              0.8888888888888888,
              "#fdca26"
             ],
             [
              1,
              "#f0f921"
             ]
            ],
            "type": "histogram2dcontour"
           }
          ],
          "mesh3d": [
           {
            "colorbar": {
             "outlinewidth": 0,
             "ticks": ""
            },
            "type": "mesh3d"
           }
          ],
          "parcoords": [
           {
            "line": {
             "colorbar": {
              "outlinewidth": 0,
              "ticks": ""
             }
            },
            "type": "parcoords"
           }
          ],
          "pie": [
           {
            "automargin": true,
            "type": "pie"
           }
          ],
          "scatter": [
           {
            "fillpattern": {
             "fillmode": "overlay",
             "size": 10,
             "solidity": 0.2
            },
            "type": "scatter"
           }
          ],
          "scatter3d": [
           {
            "line": {
             "colorbar": {
              "outlinewidth": 0,
              "ticks": ""
             }
            },
            "marker": {
             "colorbar": {
              "outlinewidth": 0,
              "ticks": ""
             }
            },
            "type": "scatter3d"
           }
          ],
          "scattercarpet": [
           {
            "marker": {
             "colorbar": {
              "outlinewidth": 0,
              "ticks": ""
             }
            },
            "type": "scattercarpet"
           }
          ],
          "scattergeo": [
           {
            "marker": {
             "colorbar": {
              "outlinewidth": 0,
              "ticks": ""
             }
            },
            "type": "scattergeo"
           }
          ],
          "scattergl": [
           {
            "marker": {
             "colorbar": {
              "outlinewidth": 0,
              "ticks": ""
             }
            },
            "type": "scattergl"
           }
          ],
          "scattermapbox": [
           {
            "marker": {
             "colorbar": {
              "outlinewidth": 0,
              "ticks": ""
             }
            },
            "type": "scattermapbox"
           }
          ],
          "scatterpolar": [
           {
            "marker": {
             "colorbar": {
              "outlinewidth": 0,
              "ticks": ""
             }
            },
            "type": "scatterpolar"
           }
          ],
          "scatterpolargl": [
           {
            "marker": {
             "colorbar": {
              "outlinewidth": 0,
              "ticks": ""
             }
            },
            "type": "scatterpolargl"
           }
          ],
          "scatterternary": [
           {
            "marker": {
             "colorbar": {
              "outlinewidth": 0,
              "ticks": ""
             }
            },
            "type": "scatterternary"
           }
          ],
          "surface": [
           {
            "colorbar": {
             "outlinewidth": 0,
             "ticks": ""
            },
            "colorscale": [
             [
              0,
              "#0d0887"
             ],
             [
              0.1111111111111111,
              "#46039f"
             ],
             [
              0.2222222222222222,
              "#7201a8"
             ],
             [
              0.3333333333333333,
              "#9c179e"
             ],
             [
              0.4444444444444444,
              "#bd3786"
             ],
             [
              0.5555555555555556,
              "#d8576b"
             ],
             [
              0.6666666666666666,
              "#ed7953"
             ],
             [
              0.7777777777777778,
              "#fb9f3a"
             ],
             [
              0.8888888888888888,
              "#fdca26"
             ],
             [
              1,
              "#f0f921"
             ]
            ],
            "type": "surface"
           }
          ],
          "table": [
           {
            "cells": {
             "fill": {
              "color": "#EBF0F8"
             },
             "line": {
              "color": "white"
             }
            },
            "header": {
             "fill": {
              "color": "#C8D4E3"
             },
             "line": {
              "color": "white"
             }
            },
            "type": "table"
           }
          ]
         },
         "layout": {
          "annotationdefaults": {
           "arrowcolor": "#2a3f5f",
           "arrowhead": 0,
           "arrowwidth": 1
          },
          "autotypenumbers": "strict",
          "coloraxis": {
           "colorbar": {
            "outlinewidth": 0,
            "ticks": ""
           }
          },
          "colorscale": {
           "diverging": [
            [
             0,
             "#8e0152"
            ],
            [
             0.1,
             "#c51b7d"
            ],
            [
             0.2,
             "#de77ae"
            ],
            [
             0.3,
             "#f1b6da"
            ],
            [
             0.4,
             "#fde0ef"
            ],
            [
             0.5,
             "#f7f7f7"
            ],
            [
             0.6,
             "#e6f5d0"
            ],
            [
             0.7,
             "#b8e186"
            ],
            [
             0.8,
             "#7fbc41"
            ],
            [
             0.9,
             "#4d9221"
            ],
            [
             1,
             "#276419"
            ]
           ],
           "sequential": [
            [
             0,
             "#0d0887"
            ],
            [
             0.1111111111111111,
             "#46039f"
            ],
            [
             0.2222222222222222,
             "#7201a8"
            ],
            [
             0.3333333333333333,
             "#9c179e"
            ],
            [
             0.4444444444444444,
             "#bd3786"
            ],
            [
             0.5555555555555556,
             "#d8576b"
            ],
            [
             0.6666666666666666,
             "#ed7953"
            ],
            [
             0.7777777777777778,
             "#fb9f3a"
            ],
            [
             0.8888888888888888,
             "#fdca26"
            ],
            [
             1,
             "#f0f921"
            ]
           ],
           "sequentialminus": [
            [
             0,
             "#0d0887"
            ],
            [
             0.1111111111111111,
             "#46039f"
            ],
            [
             0.2222222222222222,
             "#7201a8"
            ],
            [
             0.3333333333333333,
             "#9c179e"
            ],
            [
             0.4444444444444444,
             "#bd3786"
            ],
            [
             0.5555555555555556,
             "#d8576b"
            ],
            [
             0.6666666666666666,
             "#ed7953"
            ],
            [
             0.7777777777777778,
             "#fb9f3a"
            ],
            [
             0.8888888888888888,
             "#fdca26"
            ],
            [
             1,
             "#f0f921"
            ]
           ]
          },
          "colorway": [
           "#636efa",
           "#EF553B",
           "#00cc96",
           "#ab63fa",
           "#FFA15A",
           "#19d3f3",
           "#FF6692",
           "#B6E880",
           "#FF97FF",
           "#FECB52"
          ],
          "font": {
           "color": "#2a3f5f"
          },
          "geo": {
           "bgcolor": "white",
           "lakecolor": "white",
           "landcolor": "#E5ECF6",
           "showlakes": true,
           "showland": true,
           "subunitcolor": "white"
          },
          "hoverlabel": {
           "align": "left"
          },
          "hovermode": "closest",
          "mapbox": {
           "style": "light"
          },
          "paper_bgcolor": "white",
          "plot_bgcolor": "#E5ECF6",
          "polar": {
           "angularaxis": {
            "gridcolor": "white",
            "linecolor": "white",
            "ticks": ""
           },
           "bgcolor": "#E5ECF6",
           "radialaxis": {
            "gridcolor": "white",
            "linecolor": "white",
            "ticks": ""
           }
          },
          "scene": {
           "xaxis": {
            "backgroundcolor": "#E5ECF6",
            "gridcolor": "white",
            "gridwidth": 2,
            "linecolor": "white",
            "showbackground": true,
            "ticks": "",
            "zerolinecolor": "white"
           },
           "yaxis": {
            "backgroundcolor": "#E5ECF6",
            "gridcolor": "white",
            "gridwidth": 2,
            "linecolor": "white",
            "showbackground": true,
            "ticks": "",
            "zerolinecolor": "white"
           },
           "zaxis": {
            "backgroundcolor": "#E5ECF6",
            "gridcolor": "white",
            "gridwidth": 2,
            "linecolor": "white",
            "showbackground": true,
            "ticks": "",
            "zerolinecolor": "white"
           }
          },
          "shapedefaults": {
           "line": {
            "color": "#2a3f5f"
           }
          },
          "ternary": {
           "aaxis": {
            "gridcolor": "white",
            "linecolor": "white",
            "ticks": ""
           },
           "baxis": {
            "gridcolor": "white",
            "linecolor": "white",
            "ticks": ""
           },
           "bgcolor": "#E5ECF6",
           "caxis": {
            "gridcolor": "white",
            "linecolor": "white",
            "ticks": ""
           }
          },
          "title": {
           "x": 0.05
          },
          "xaxis": {
           "automargin": true,
           "gridcolor": "white",
           "linecolor": "white",
           "ticks": "",
           "title": {
            "standoff": 15
           },
           "zerolinecolor": "white",
           "zerolinewidth": 2
          },
          "yaxis": {
           "automargin": true,
           "gridcolor": "white",
           "linecolor": "white",
           "ticks": "",
           "title": {
            "standoff": 15
           },
           "zerolinecolor": "white",
           "zerolinewidth": 2
          }
         }
        },
        "title": {
         "text": "Experiment Creation Time"
        },
        "xaxis": {
         "anchor": "y",
         "domain": [
          0,
          1
         ],
         "title": {
          "text": "creation_time"
         }
        },
        "yaxis": {
         "anchor": "x",
         "domain": [
          0,
          1
         ]
        }
       }
      }
     },
     "metadata": {},
     "output_type": "display_data"
    }
   ],
   "source": [
    "px.strip(\n",
    "    experiments,\n",
    "    x=\"creation_time\",\n",
    "    color=\"lifecycle_stage\",\n",
    "    hover_name=\"name\",\n",
    "    hover_data=experiments.columns,\n",
    "    title=\"Experiment Creation Time\",\n",
    ")"
   ]
  },
  {
   "cell_type": "code",
   "execution_count": 10,
   "metadata": {},
   "outputs": [
    {
     "data": {
      "application/vnd.plotly.v1+json": {
       "config": {
        "plotlyServerURL": "https://plot.ly"
       },
       "data": [
        {
         "alignmentgroup": "True",
         "boxpoints": "all",
         "customdata": [
          [
           {
            "Champion": "3"
           },
           "",
           "2024-07-21T14:08:17.804000",
           "bikes",
           {}
          ]
         ],
         "fillcolor": "rgba(255,255,255,0)",
         "hoveron": "points",
         "hovertemplate": "<b>%{hovertext}</b><br><br>creation_timestamp=%{x}<br>aliases=%{customdata[0]}<br>description=%{customdata[1]}<br>last_updated_timestamp=%{customdata[2]}<br>name=%{customdata[3]}<br>tags=%{customdata[4]}<extra></extra>",
         "hovertext": [
          "bikes"
         ],
         "legendgroup": "",
         "line": {
          "color": "rgba(255,255,255,0)"
         },
         "marker": {
          "color": "#636efa"
         },
         "name": "",
         "offsetgroup": "",
         "orientation": "h",
         "pointpos": 0,
         "showlegend": false,
         "type": "box",
         "x": [
          "2024-07-20T12:46:27.013000"
         ],
         "x0": " ",
         "xaxis": "x",
         "y0": " ",
         "yaxis": "y"
        }
       ],
       "layout": {
        "boxmode": "group",
        "legend": {
         "tracegroupgap": 0
        },
        "template": {
         "data": {
          "bar": [
           {
            "error_x": {
             "color": "#2a3f5f"
            },
            "error_y": {
             "color": "#2a3f5f"
            },
            "marker": {
             "line": {
              "color": "#E5ECF6",
              "width": 0.5
             },
             "pattern": {
              "fillmode": "overlay",
              "size": 10,
              "solidity": 0.2
             }
            },
            "type": "bar"
           }
          ],
          "barpolar": [
           {
            "marker": {
             "line": {
              "color": "#E5ECF6",
              "width": 0.5
             },
             "pattern": {
              "fillmode": "overlay",
              "size": 10,
              "solidity": 0.2
             }
            },
            "type": "barpolar"
           }
          ],
          "carpet": [
           {
            "aaxis": {
             "endlinecolor": "#2a3f5f",
             "gridcolor": "white",
             "linecolor": "white",
             "minorgridcolor": "white",
             "startlinecolor": "#2a3f5f"
            },
            "baxis": {
             "endlinecolor": "#2a3f5f",
             "gridcolor": "white",
             "linecolor": "white",
             "minorgridcolor": "white",
             "startlinecolor": "#2a3f5f"
            },
            "type": "carpet"
           }
          ],
          "choropleth": [
           {
            "colorbar": {
             "outlinewidth": 0,
             "ticks": ""
            },
            "type": "choropleth"
           }
          ],
          "contour": [
           {
            "colorbar": {
             "outlinewidth": 0,
             "ticks": ""
            },
            "colorscale": [
             [
              0,
              "#0d0887"
             ],
             [
              0.1111111111111111,
              "#46039f"
             ],
             [
              0.2222222222222222,
              "#7201a8"
             ],
             [
              0.3333333333333333,
              "#9c179e"
             ],
             [
              0.4444444444444444,
              "#bd3786"
             ],
             [
              0.5555555555555556,
              "#d8576b"
             ],
             [
              0.6666666666666666,
              "#ed7953"
             ],
             [
              0.7777777777777778,
              "#fb9f3a"
             ],
             [
              0.8888888888888888,
              "#fdca26"
             ],
             [
              1,
              "#f0f921"
             ]
            ],
            "type": "contour"
           }
          ],
          "contourcarpet": [
           {
            "colorbar": {
             "outlinewidth": 0,
             "ticks": ""
            },
            "type": "contourcarpet"
           }
          ],
          "heatmap": [
           {
            "colorbar": {
             "outlinewidth": 0,
             "ticks": ""
            },
            "colorscale": [
             [
              0,
              "#0d0887"
             ],
             [
              0.1111111111111111,
              "#46039f"
             ],
             [
              0.2222222222222222,
              "#7201a8"
             ],
             [
              0.3333333333333333,
              "#9c179e"
             ],
             [
              0.4444444444444444,
              "#bd3786"
             ],
             [
              0.5555555555555556,
              "#d8576b"
             ],
             [
              0.6666666666666666,
              "#ed7953"
             ],
             [
              0.7777777777777778,
              "#fb9f3a"
             ],
             [
              0.8888888888888888,
              "#fdca26"
             ],
             [
              1,
              "#f0f921"
             ]
            ],
            "type": "heatmap"
           }
          ],
          "heatmapgl": [
           {
            "colorbar": {
             "outlinewidth": 0,
             "ticks": ""
            },
            "colorscale": [
             [
              0,
              "#0d0887"
             ],
             [
              0.1111111111111111,
              "#46039f"
             ],
             [
              0.2222222222222222,
              "#7201a8"
             ],
             [
              0.3333333333333333,
              "#9c179e"
             ],
             [
              0.4444444444444444,
              "#bd3786"
             ],
             [
              0.5555555555555556,
              "#d8576b"
             ],
             [
              0.6666666666666666,
              "#ed7953"
             ],
             [
              0.7777777777777778,
              "#fb9f3a"
             ],
             [
              0.8888888888888888,
              "#fdca26"
             ],
             [
              1,
              "#f0f921"
             ]
            ],
            "type": "heatmapgl"
           }
          ],
          "histogram": [
           {
            "marker": {
             "pattern": {
              "fillmode": "overlay",
              "size": 10,
              "solidity": 0.2
             }
            },
            "type": "histogram"
           }
          ],
          "histogram2d": [
           {
            "colorbar": {
             "outlinewidth": 0,
             "ticks": ""
            },
            "colorscale": [
             [
              0,
              "#0d0887"
             ],
             [
              0.1111111111111111,
              "#46039f"
             ],
             [
              0.2222222222222222,
              "#7201a8"
             ],
             [
              0.3333333333333333,
              "#9c179e"
             ],
             [
              0.4444444444444444,
              "#bd3786"
             ],
             [
              0.5555555555555556,
              "#d8576b"
             ],
             [
              0.6666666666666666,
              "#ed7953"
             ],
             [
              0.7777777777777778,
              "#fb9f3a"
             ],
             [
              0.8888888888888888,
              "#fdca26"
             ],
             [
              1,
              "#f0f921"
             ]
            ],
            "type": "histogram2d"
           }
          ],
          "histogram2dcontour": [
           {
            "colorbar": {
             "outlinewidth": 0,
             "ticks": ""
            },
            "colorscale": [
             [
              0,
              "#0d0887"
             ],
             [
              0.1111111111111111,
              "#46039f"
             ],
             [
              0.2222222222222222,
              "#7201a8"
             ],
             [
              0.3333333333333333,
              "#9c179e"
             ],
             [
              0.4444444444444444,
              "#bd3786"
             ],
             [
              0.5555555555555556,
              "#d8576b"
             ],
             [
              0.6666666666666666,
              "#ed7953"
             ],
             [
              0.7777777777777778,
              "#fb9f3a"
             ],
             [
              0.8888888888888888,
              "#fdca26"
             ],
             [
              1,
              "#f0f921"
             ]
            ],
            "type": "histogram2dcontour"
           }
          ],
          "mesh3d": [
           {
            "colorbar": {
             "outlinewidth": 0,
             "ticks": ""
            },
            "type": "mesh3d"
           }
          ],
          "parcoords": [
           {
            "line": {
             "colorbar": {
              "outlinewidth": 0,
              "ticks": ""
             }
            },
            "type": "parcoords"
           }
          ],
          "pie": [
           {
            "automargin": true,
            "type": "pie"
           }
          ],
          "scatter": [
           {
            "fillpattern": {
             "fillmode": "overlay",
             "size": 10,
             "solidity": 0.2
            },
            "type": "scatter"
           }
          ],
          "scatter3d": [
           {
            "line": {
             "colorbar": {
              "outlinewidth": 0,
              "ticks": ""
             }
            },
            "marker": {
             "colorbar": {
              "outlinewidth": 0,
              "ticks": ""
             }
            },
            "type": "scatter3d"
           }
          ],
          "scattercarpet": [
           {
            "marker": {
             "colorbar": {
              "outlinewidth": 0,
              "ticks": ""
             }
            },
            "type": "scattercarpet"
           }
          ],
          "scattergeo": [
           {
            "marker": {
             "colorbar": {
              "outlinewidth": 0,
              "ticks": ""
             }
            },
            "type": "scattergeo"
           }
          ],
          "scattergl": [
           {
            "marker": {
             "colorbar": {
              "outlinewidth": 0,
              "ticks": ""
             }
            },
            "type": "scattergl"
           }
          ],
          "scattermapbox": [
           {
            "marker": {
             "colorbar": {
              "outlinewidth": 0,
              "ticks": ""
             }
            },
            "type": "scattermapbox"
           }
          ],
          "scatterpolar": [
           {
            "marker": {
             "colorbar": {
              "outlinewidth": 0,
              "ticks": ""
             }
            },
            "type": "scatterpolar"
           }
          ],
          "scatterpolargl": [
           {
            "marker": {
             "colorbar": {
              "outlinewidth": 0,
              "ticks": ""
             }
            },
            "type": "scatterpolargl"
           }
          ],
          "scatterternary": [
           {
            "marker": {
             "colorbar": {
              "outlinewidth": 0,
              "ticks": ""
             }
            },
            "type": "scatterternary"
           }
          ],
          "surface": [
           {
            "colorbar": {
             "outlinewidth": 0,
             "ticks": ""
            },
            "colorscale": [
             [
              0,
              "#0d0887"
             ],
             [
              0.1111111111111111,
              "#46039f"
             ],
             [
              0.2222222222222222,
              "#7201a8"
             ],
             [
              0.3333333333333333,
              "#9c179e"
             ],
             [
              0.4444444444444444,
              "#bd3786"
             ],
             [
              0.5555555555555556,
              "#d8576b"
             ],
             [
              0.6666666666666666,
              "#ed7953"
             ],
             [
              0.7777777777777778,
              "#fb9f3a"
             ],
             [
              0.8888888888888888,
              "#fdca26"
             ],
             [
              1,
              "#f0f921"
             ]
            ],
            "type": "surface"
           }
          ],
          "table": [
           {
            "cells": {
             "fill": {
              "color": "#EBF0F8"
             },
             "line": {
              "color": "white"
             }
            },
            "header": {
             "fill": {
              "color": "#C8D4E3"
             },
             "line": {
              "color": "white"
             }
            },
            "type": "table"
           }
          ]
         },
         "layout": {
          "annotationdefaults": {
           "arrowcolor": "#2a3f5f",
           "arrowhead": 0,
           "arrowwidth": 1
          },
          "autotypenumbers": "strict",
          "coloraxis": {
           "colorbar": {
            "outlinewidth": 0,
            "ticks": ""
           }
          },
          "colorscale": {
           "diverging": [
            [
             0,
             "#8e0152"
            ],
            [
             0.1,
             "#c51b7d"
            ],
            [
             0.2,
             "#de77ae"
            ],
            [
             0.3,
             "#f1b6da"
            ],
            [
             0.4,
             "#fde0ef"
            ],
            [
             0.5,
             "#f7f7f7"
            ],
            [
             0.6,
             "#e6f5d0"
            ],
            [
             0.7,
             "#b8e186"
            ],
            [
             0.8,
             "#7fbc41"
            ],
            [
             0.9,
             "#4d9221"
            ],
            [
             1,
             "#276419"
            ]
           ],
           "sequential": [
            [
             0,
             "#0d0887"
            ],
            [
             0.1111111111111111,
             "#46039f"
            ],
            [
             0.2222222222222222,
             "#7201a8"
            ],
            [
             0.3333333333333333,
             "#9c179e"
            ],
            [
             0.4444444444444444,
             "#bd3786"
            ],
            [
             0.5555555555555556,
             "#d8576b"
            ],
            [
             0.6666666666666666,
             "#ed7953"
            ],
            [
             0.7777777777777778,
             "#fb9f3a"
            ],
            [
             0.8888888888888888,
             "#fdca26"
            ],
            [
             1,
             "#f0f921"
            ]
           ],
           "sequentialminus": [
            [
             0,
             "#0d0887"
            ],
            [
             0.1111111111111111,
             "#46039f"
            ],
            [
             0.2222222222222222,
             "#7201a8"
            ],
            [
             0.3333333333333333,
             "#9c179e"
            ],
            [
             0.4444444444444444,
             "#bd3786"
            ],
            [
             0.5555555555555556,
             "#d8576b"
            ],
            [
             0.6666666666666666,
             "#ed7953"
            ],
            [
             0.7777777777777778,
             "#fb9f3a"
            ],
            [
             0.8888888888888888,
             "#fdca26"
            ],
            [
             1,
             "#f0f921"
            ]
           ]
          },
          "colorway": [
           "#636efa",
           "#EF553B",
           "#00cc96",
           "#ab63fa",
           "#FFA15A",
           "#19d3f3",
           "#FF6692",
           "#B6E880",
           "#FF97FF",
           "#FECB52"
          ],
          "font": {
           "color": "#2a3f5f"
          },
          "geo": {
           "bgcolor": "white",
           "lakecolor": "white",
           "landcolor": "#E5ECF6",
           "showlakes": true,
           "showland": true,
           "subunitcolor": "white"
          },
          "hoverlabel": {
           "align": "left"
          },
          "hovermode": "closest",
          "mapbox": {
           "style": "light"
          },
          "paper_bgcolor": "white",
          "plot_bgcolor": "#E5ECF6",
          "polar": {
           "angularaxis": {
            "gridcolor": "white",
            "linecolor": "white",
            "ticks": ""
           },
           "bgcolor": "#E5ECF6",
           "radialaxis": {
            "gridcolor": "white",
            "linecolor": "white",
            "ticks": ""
           }
          },
          "scene": {
           "xaxis": {
            "backgroundcolor": "#E5ECF6",
            "gridcolor": "white",
            "gridwidth": 2,
            "linecolor": "white",
            "showbackground": true,
            "ticks": "",
            "zerolinecolor": "white"
           },
           "yaxis": {
            "backgroundcolor": "#E5ECF6",
            "gridcolor": "white",
            "gridwidth": 2,
            "linecolor": "white",
            "showbackground": true,
            "ticks": "",
            "zerolinecolor": "white"
           },
           "zaxis": {
            "backgroundcolor": "#E5ECF6",
            "gridcolor": "white",
            "gridwidth": 2,
            "linecolor": "white",
            "showbackground": true,
            "ticks": "",
            "zerolinecolor": "white"
           }
          },
          "shapedefaults": {
           "line": {
            "color": "#2a3f5f"
           }
          },
          "ternary": {
           "aaxis": {
            "gridcolor": "white",
            "linecolor": "white",
            "ticks": ""
           },
           "baxis": {
            "gridcolor": "white",
            "linecolor": "white",
            "ticks": ""
           },
           "bgcolor": "#E5ECF6",
           "caxis": {
            "gridcolor": "white",
            "linecolor": "white",
            "ticks": ""
           }
          },
          "title": {
           "x": 0.05
          },
          "xaxis": {
           "automargin": true,
           "gridcolor": "white",
           "linecolor": "white",
           "ticks": "",
           "title": {
            "standoff": 15
           },
           "zerolinecolor": "white",
           "zerolinewidth": 2
          },
          "yaxis": {
           "automargin": true,
           "gridcolor": "white",
           "linecolor": "white",
           "ticks": "",
           "title": {
            "standoff": 15
           },
           "zerolinecolor": "white",
           "zerolinewidth": 2
          }
         }
        },
        "title": {
         "text": "Model Creation Timestamp"
        },
        "xaxis": {
         "anchor": "y",
         "domain": [
          0,
          1
         ],
         "title": {
          "text": "creation_timestamp"
         }
        },
        "yaxis": {
         "anchor": "x",
         "domain": [
          0,
          1
         ]
        }
       }
      }
     },
     "metadata": {},
     "output_type": "display_data"
    }
   ],
   "source": [
    "px.strip(\n",
    "    models,\n",
    "    x=\"creation_timestamp\",\n",
    "    hover_name=\"name\",\n",
    "    hover_data=models.columns,\n",
    "    title=\"Model Creation Timestamp\",\n",
    ")"
   ]
  },
  {
   "cell_type": "code",
   "execution_count": 11,
   "metadata": {},
   "outputs": [
    {
     "data": {
      "application/vnd.plotly.v1+json": {
       "config": {
        "plotlyServerURL": "https://plot.ly"
       },
       "data": [
        {
         "alignmentgroup": "True",
         "boxpoints": "all",
         "customdata": [
          [
           {
            "Champion": "3"
           },
           "",
           "2024-07-21T14:08:17.804000",
           "bikes",
           {}
          ]
         ],
         "fillcolor": "rgba(255,255,255,0)",
         "hoveron": "points",
         "hovertemplate": "<b>%{hovertext}</b><br><br>creation_timestamp=%{x}<br>aliases=%{customdata[0]}<br>description=%{customdata[1]}<br>last_updated_timestamp=%{customdata[2]}<br>name=%{customdata[3]}<br>tags=%{customdata[4]}<extra></extra>",
         "hovertext": [
          "bikes"
         ],
         "legendgroup": "",
         "line": {
          "color": "rgba(255,255,255,0)"
         },
         "marker": {
          "color": "#636efa"
         },
         "name": "",
         "offsetgroup": "",
         "orientation": "h",
         "pointpos": 0,
         "showlegend": false,
         "type": "box",
         "x": [
          "2024-07-20T12:46:27.013000"
         ],
         "x0": " ",
         "xaxis": "x",
         "y0": " ",
         "yaxis": "y"
        }
       ],
       "layout": {
        "boxmode": "group",
        "legend": {
         "tracegroupgap": 0
        },
        "template": {
         "data": {
          "bar": [
           {
            "error_x": {
             "color": "#2a3f5f"
            },
            "error_y": {
             "color": "#2a3f5f"
            },
            "marker": {
             "line": {
              "color": "#E5ECF6",
              "width": 0.5
             },
             "pattern": {
              "fillmode": "overlay",
              "size": 10,
              "solidity": 0.2
             }
            },
            "type": "bar"
           }
          ],
          "barpolar": [
           {
            "marker": {
             "line": {
              "color": "#E5ECF6",
              "width": 0.5
             },
             "pattern": {
              "fillmode": "overlay",
              "size": 10,
              "solidity": 0.2
             }
            },
            "type": "barpolar"
           }
          ],
          "carpet": [
           {
            "aaxis": {
             "endlinecolor": "#2a3f5f",
             "gridcolor": "white",
             "linecolor": "white",
             "minorgridcolor": "white",
             "startlinecolor": "#2a3f5f"
            },
            "baxis": {
             "endlinecolor": "#2a3f5f",
             "gridcolor": "white",
             "linecolor": "white",
             "minorgridcolor": "white",
             "startlinecolor": "#2a3f5f"
            },
            "type": "carpet"
           }
          ],
          "choropleth": [
           {
            "colorbar": {
             "outlinewidth": 0,
             "ticks": ""
            },
            "type": "choropleth"
           }
          ],
          "contour": [
           {
            "colorbar": {
             "outlinewidth": 0,
             "ticks": ""
            },
            "colorscale": [
             [
              0,
              "#0d0887"
             ],
             [
              0.1111111111111111,
              "#46039f"
             ],
             [
              0.2222222222222222,
              "#7201a8"
             ],
             [
              0.3333333333333333,
              "#9c179e"
             ],
             [
              0.4444444444444444,
              "#bd3786"
             ],
             [
              0.5555555555555556,
              "#d8576b"
             ],
             [
              0.6666666666666666,
              "#ed7953"
             ],
             [
              0.7777777777777778,
              "#fb9f3a"
             ],
             [
              0.8888888888888888,
              "#fdca26"
             ],
             [
              1,
              "#f0f921"
             ]
            ],
            "type": "contour"
           }
          ],
          "contourcarpet": [
           {
            "colorbar": {
             "outlinewidth": 0,
             "ticks": ""
            },
            "type": "contourcarpet"
           }
          ],
          "heatmap": [
           {
            "colorbar": {
             "outlinewidth": 0,
             "ticks": ""
            },
            "colorscale": [
             [
              0,
              "#0d0887"
             ],
             [
              0.1111111111111111,
              "#46039f"
             ],
             [
              0.2222222222222222,
              "#7201a8"
             ],
             [
              0.3333333333333333,
              "#9c179e"
             ],
             [
              0.4444444444444444,
              "#bd3786"
             ],
             [
              0.5555555555555556,
              "#d8576b"
             ],
             [
              0.6666666666666666,
              "#ed7953"
             ],
             [
              0.7777777777777778,
              "#fb9f3a"
             ],
             [
              0.8888888888888888,
              "#fdca26"
             ],
             [
              1,
              "#f0f921"
             ]
            ],
            "type": "heatmap"
           }
          ],
          "heatmapgl": [
           {
            "colorbar": {
             "outlinewidth": 0,
             "ticks": ""
            },
            "colorscale": [
             [
              0,
              "#0d0887"
             ],
             [
              0.1111111111111111,
              "#46039f"
             ],
             [
              0.2222222222222222,
              "#7201a8"
             ],
             [
              0.3333333333333333,
              "#9c179e"
             ],
             [
              0.4444444444444444,
              "#bd3786"
             ],
             [
              0.5555555555555556,
              "#d8576b"
             ],
             [
              0.6666666666666666,
              "#ed7953"
             ],
             [
              0.7777777777777778,
              "#fb9f3a"
             ],
             [
              0.8888888888888888,
              "#fdca26"
             ],
             [
              1,
              "#f0f921"
             ]
            ],
            "type": "heatmapgl"
           }
          ],
          "histogram": [
           {
            "marker": {
             "pattern": {
              "fillmode": "overlay",
              "size": 10,
              "solidity": 0.2
             }
            },
            "type": "histogram"
           }
          ],
          "histogram2d": [
           {
            "colorbar": {
             "outlinewidth": 0,
             "ticks": ""
            },
            "colorscale": [
             [
              0,
              "#0d0887"
             ],
             [
              0.1111111111111111,
              "#46039f"
             ],
             [
              0.2222222222222222,
              "#7201a8"
             ],
             [
              0.3333333333333333,
              "#9c179e"
             ],
             [
              0.4444444444444444,
              "#bd3786"
             ],
             [
              0.5555555555555556,
              "#d8576b"
             ],
             [
              0.6666666666666666,
              "#ed7953"
             ],
             [
              0.7777777777777778,
              "#fb9f3a"
             ],
             [
              0.8888888888888888,
              "#fdca26"
             ],
             [
              1,
              "#f0f921"
             ]
            ],
            "type": "histogram2d"
           }
          ],
          "histogram2dcontour": [
           {
            "colorbar": {
             "outlinewidth": 0,
             "ticks": ""
            },
            "colorscale": [
             [
              0,
              "#0d0887"
             ],
             [
              0.1111111111111111,
              "#46039f"
             ],
             [
              0.2222222222222222,
              "#7201a8"
             ],
             [
              0.3333333333333333,
              "#9c179e"
             ],
             [
              0.4444444444444444,
              "#bd3786"
             ],
             [
              0.5555555555555556,
              "#d8576b"
             ],
             [
              0.6666666666666666,
              "#ed7953"
             ],
             [
              0.7777777777777778,
              "#fb9f3a"
             ],
             [
              0.8888888888888888,
              "#fdca26"
             ],
             [
              1,
              "#f0f921"
             ]
            ],
            "type": "histogram2dcontour"
           }
          ],
          "mesh3d": [
           {
            "colorbar": {
             "outlinewidth": 0,
             "ticks": ""
            },
            "type": "mesh3d"
           }
          ],
          "parcoords": [
           {
            "line": {
             "colorbar": {
              "outlinewidth": 0,
              "ticks": ""
             }
            },
            "type": "parcoords"
           }
          ],
          "pie": [
           {
            "automargin": true,
            "type": "pie"
           }
          ],
          "scatter": [
           {
            "fillpattern": {
             "fillmode": "overlay",
             "size": 10,
             "solidity": 0.2
            },
            "type": "scatter"
           }
          ],
          "scatter3d": [
           {
            "line": {
             "colorbar": {
              "outlinewidth": 0,
              "ticks": ""
             }
            },
            "marker": {
             "colorbar": {
              "outlinewidth": 0,
              "ticks": ""
             }
            },
            "type": "scatter3d"
           }
          ],
          "scattercarpet": [
           {
            "marker": {
             "colorbar": {
              "outlinewidth": 0,
              "ticks": ""
             }
            },
            "type": "scattercarpet"
           }
          ],
          "scattergeo": [
           {
            "marker": {
             "colorbar": {
              "outlinewidth": 0,
              "ticks": ""
             }
            },
            "type": "scattergeo"
           }
          ],
          "scattergl": [
           {
            "marker": {
             "colorbar": {
              "outlinewidth": 0,
              "ticks": ""
             }
            },
            "type": "scattergl"
           }
          ],
          "scattermapbox": [
           {
            "marker": {
             "colorbar": {
              "outlinewidth": 0,
              "ticks": ""
             }
            },
            "type": "scattermapbox"
           }
          ],
          "scatterpolar": [
           {
            "marker": {
             "colorbar": {
              "outlinewidth": 0,
              "ticks": ""
             }
            },
            "type": "scatterpolar"
           }
          ],
          "scatterpolargl": [
           {
            "marker": {
             "colorbar": {
              "outlinewidth": 0,
              "ticks": ""
             }
            },
            "type": "scatterpolargl"
           }
          ],
          "scatterternary": [
           {
            "marker": {
             "colorbar": {
              "outlinewidth": 0,
              "ticks": ""
             }
            },
            "type": "scatterternary"
           }
          ],
          "surface": [
           {
            "colorbar": {
             "outlinewidth": 0,
             "ticks": ""
            },
            "colorscale": [
             [
              0,
              "#0d0887"
             ],
             [
              0.1111111111111111,
              "#46039f"
             ],
             [
              0.2222222222222222,
              "#7201a8"
             ],
             [
              0.3333333333333333,
              "#9c179e"
             ],
             [
              0.4444444444444444,
              "#bd3786"
             ],
             [
              0.5555555555555556,
              "#d8576b"
             ],
             [
              0.6666666666666666,
              "#ed7953"
             ],
             [
              0.7777777777777778,
              "#fb9f3a"
             ],
             [
              0.8888888888888888,
              "#fdca26"
             ],
             [
              1,
              "#f0f921"
             ]
            ],
            "type": "surface"
           }
          ],
          "table": [
           {
            "cells": {
             "fill": {
              "color": "#EBF0F8"
             },
             "line": {
              "color": "white"
             }
            },
            "header": {
             "fill": {
              "color": "#C8D4E3"
             },
             "line": {
              "color": "white"
             }
            },
            "type": "table"
           }
          ]
         },
         "layout": {
          "annotationdefaults": {
           "arrowcolor": "#2a3f5f",
           "arrowhead": 0,
           "arrowwidth": 1
          },
          "autotypenumbers": "strict",
          "coloraxis": {
           "colorbar": {
            "outlinewidth": 0,
            "ticks": ""
           }
          },
          "colorscale": {
           "diverging": [
            [
             0,
             "#8e0152"
            ],
            [
             0.1,
             "#c51b7d"
            ],
            [
             0.2,
             "#de77ae"
            ],
            [
             0.3,
             "#f1b6da"
            ],
            [
             0.4,
             "#fde0ef"
            ],
            [
             0.5,
             "#f7f7f7"
            ],
            [
             0.6,
             "#e6f5d0"
            ],
            [
             0.7,
             "#b8e186"
            ],
            [
             0.8,
             "#7fbc41"
            ],
            [
             0.9,
             "#4d9221"
            ],
            [
             1,
             "#276419"
            ]
           ],
           "sequential": [
            [
             0,
             "#0d0887"
            ],
            [
             0.1111111111111111,
             "#46039f"
            ],
            [
             0.2222222222222222,
             "#7201a8"
            ],
            [
             0.3333333333333333,
             "#9c179e"
            ],
            [
             0.4444444444444444,
             "#bd3786"
            ],
            [
             0.5555555555555556,
             "#d8576b"
            ],
            [
             0.6666666666666666,
             "#ed7953"
            ],
            [
             0.7777777777777778,
             "#fb9f3a"
            ],
            [
             0.8888888888888888,
             "#fdca26"
            ],
            [
             1,
             "#f0f921"
            ]
           ],
           "sequentialminus": [
            [
             0,
             "#0d0887"
            ],
            [
             0.1111111111111111,
             "#46039f"
            ],
            [
             0.2222222222222222,
             "#7201a8"
            ],
            [
             0.3333333333333333,
             "#9c179e"
            ],
            [
             0.4444444444444444,
             "#bd3786"
            ],
            [
             0.5555555555555556,
             "#d8576b"
            ],
            [
             0.6666666666666666,
             "#ed7953"
            ],
            [
             0.7777777777777778,
             "#fb9f3a"
            ],
            [
             0.8888888888888888,
             "#fdca26"
            ],
            [
             1,
             "#f0f921"
            ]
           ]
          },
          "colorway": [
           "#636efa",
           "#EF553B",
           "#00cc96",
           "#ab63fa",
           "#FFA15A",
           "#19d3f3",
           "#FF6692",
           "#B6E880",
           "#FF97FF",
           "#FECB52"
          ],
          "font": {
           "color": "#2a3f5f"
          },
          "geo": {
           "bgcolor": "white",
           "lakecolor": "white",
           "landcolor": "#E5ECF6",
           "showlakes": true,
           "showland": true,
           "subunitcolor": "white"
          },
          "hoverlabel": {
           "align": "left"
          },
          "hovermode": "closest",
          "mapbox": {
           "style": "light"
          },
          "paper_bgcolor": "white",
          "plot_bgcolor": "#E5ECF6",
          "polar": {
           "angularaxis": {
            "gridcolor": "white",
            "linecolor": "white",
            "ticks": ""
           },
           "bgcolor": "#E5ECF6",
           "radialaxis": {
            "gridcolor": "white",
            "linecolor": "white",
            "ticks": ""
           }
          },
          "scene": {
           "xaxis": {
            "backgroundcolor": "#E5ECF6",
            "gridcolor": "white",
            "gridwidth": 2,
            "linecolor": "white",
            "showbackground": true,
            "ticks": "",
            "zerolinecolor": "white"
           },
           "yaxis": {
            "backgroundcolor": "#E5ECF6",
            "gridcolor": "white",
            "gridwidth": 2,
            "linecolor": "white",
            "showbackground": true,
            "ticks": "",
            "zerolinecolor": "white"
           },
           "zaxis": {
            "backgroundcolor": "#E5ECF6",
            "gridcolor": "white",
            "gridwidth": 2,
            "linecolor": "white",
            "showbackground": true,
            "ticks": "",
            "zerolinecolor": "white"
           }
          },
          "shapedefaults": {
           "line": {
            "color": "#2a3f5f"
           }
          },
          "ternary": {
           "aaxis": {
            "gridcolor": "white",
            "linecolor": "white",
            "ticks": ""
           },
           "baxis": {
            "gridcolor": "white",
            "linecolor": "white",
            "ticks": ""
           },
           "bgcolor": "#E5ECF6",
           "caxis": {
            "gridcolor": "white",
            "linecolor": "white",
            "ticks": ""
           }
          },
          "title": {
           "x": 0.05
          },
          "xaxis": {
           "automargin": true,
           "gridcolor": "white",
           "linecolor": "white",
           "ticks": "",
           "title": {
            "standoff": 15
           },
           "zerolinecolor": "white",
           "zerolinewidth": 2
          },
          "yaxis": {
           "automargin": true,
           "gridcolor": "white",
           "linecolor": "white",
           "ticks": "",
           "title": {
            "standoff": 15
           },
           "zerolinecolor": "white",
           "zerolinewidth": 2
          }
         }
        },
        "title": {
         "text": "Model Creation Timestamp"
        },
        "xaxis": {
         "anchor": "y",
         "domain": [
          0,
          1
         ],
         "title": {
          "text": "creation_timestamp"
         }
        },
        "yaxis": {
         "anchor": "x",
         "domain": [
          0,
          1
         ]
        }
       }
      }
     },
     "metadata": {},
     "output_type": "display_data"
    }
   ],
   "source": [
    "px.strip(\n",
    "    models,\n",
    "    x=\"creation_timestamp\",\n",
    "    hover_name=\"name\",\n",
    "    hover_data=models.columns,\n",
    "    title=\"Model Creation Timestamp\",\n",
    ")"
   ]
  },
  {
   "cell_type": "code",
   "execution_count": 12,
   "metadata": {},
   "outputs": [
    {
     "data": {
      "application/vnd.plotly.v1+json": {
       "config": {
        "plotlyServerURL": "https://plot.ly"
       },
       "data": [
        {
         "alignmentgroup": "True",
         "boxpoints": "all",
         "customdata": [
          [
           "Champion",
           "None",
           "",
           "2024-07-21T14:08:12.799000",
           "bikes",
           "d37276201a5b4ff98addae88f5ed1a34",
           "",
           "file:///home/fmind/mlops-python-package/mlruns/562757566260573932/d37276201a5b4ff98addae88f5ed1a34/artifacts/model",
           "READY",
           "",
           {},
           "",
           "3"
          ],
          [
           null,
           "None",
           "",
           "2024-07-20T12:52:29.627000",
           "bikes",
           "b428ae1513a54e16a5bf3959cf3eeb8e",
           "",
           "file:///home/fmind/mlops-python-package/mlruns/562757566260573932/b428ae1513a54e16a5bf3959cf3eeb8e/artifacts/model",
           "READY",
           "",
           {},
           "",
           "2"
          ],
          [
           null,
           "None",
           "",
           "2024-07-20T12:46:27.017000",
           "bikes",
           "795eace5f76a4fe4af3754460b5e25e4",
           "",
           "file:///home/fmind/mlops-python-package/mlruns/562757566260573932/795eace5f76a4fe4af3754460b5e25e4/artifacts/model",
           "READY",
           "",
           {},
           "",
           "1"
          ]
         ],
         "fillcolor": "rgba(255,255,255,0)",
         "hoveron": "points",
         "hovertemplate": "<b>%{hovertext}</b><br><br>name=%{customdata[4]}<br>creation_timestamp=%{x}<br>aliases=%{customdata[0]}<br>current_stage=%{customdata[1]}<br>description=%{customdata[2]}<br>last_updated_timestamp=%{customdata[3]}<br>run_id=%{customdata[5]}<br>run_link=%{customdata[6]}<br>source=%{customdata[7]}<br>status=%{customdata[8]}<br>status_message=%{customdata[9]}<br>tags=%{customdata[10]}<br>user_id=%{customdata[11]}<br>version=%{customdata[12]}<extra></extra>",
         "hovertext": [
          "bikes",
          "bikes",
          "bikes"
         ],
         "legendgroup": "bikes",
         "line": {
          "color": "rgba(255,255,255,0)"
         },
         "marker": {
          "color": "#636efa"
         },
         "name": "bikes",
         "offsetgroup": "bikes",
         "orientation": "h",
         "pointpos": 0,
         "showlegend": true,
         "type": "box",
         "x": [
          "2024-07-21T14:08:12.799000",
          "2024-07-20T12:52:29.627000",
          "2024-07-20T12:46:27.017000"
         ],
         "x0": " ",
         "xaxis": "x",
         "y0": " ",
         "yaxis": "y"
        }
       ],
       "layout": {
        "boxmode": "group",
        "legend": {
         "title": {
          "text": "name"
         },
         "tracegroupgap": 0
        },
        "template": {
         "data": {
          "bar": [
           {
            "error_x": {
             "color": "#2a3f5f"
            },
            "error_y": {
             "color": "#2a3f5f"
            },
            "marker": {
             "line": {
              "color": "#E5ECF6",
              "width": 0.5
             },
             "pattern": {
              "fillmode": "overlay",
              "size": 10,
              "solidity": 0.2
             }
            },
            "type": "bar"
           }
          ],
          "barpolar": [
           {
            "marker": {
             "line": {
              "color": "#E5ECF6",
              "width": 0.5
             },
             "pattern": {
              "fillmode": "overlay",
              "size": 10,
              "solidity": 0.2
             }
            },
            "type": "barpolar"
           }
          ],
          "carpet": [
           {
            "aaxis": {
             "endlinecolor": "#2a3f5f",
             "gridcolor": "white",
             "linecolor": "white",
             "minorgridcolor": "white",
             "startlinecolor": "#2a3f5f"
            },
            "baxis": {
             "endlinecolor": "#2a3f5f",
             "gridcolor": "white",
             "linecolor": "white",
             "minorgridcolor": "white",
             "startlinecolor": "#2a3f5f"
            },
            "type": "carpet"
           }
          ],
          "choropleth": [
           {
            "colorbar": {
             "outlinewidth": 0,
             "ticks": ""
            },
            "type": "choropleth"
           }
          ],
          "contour": [
           {
            "colorbar": {
             "outlinewidth": 0,
             "ticks": ""
            },
            "colorscale": [
             [
              0,
              "#0d0887"
             ],
             [
              0.1111111111111111,
              "#46039f"
             ],
             [
              0.2222222222222222,
              "#7201a8"
             ],
             [
              0.3333333333333333,
              "#9c179e"
             ],
             [
              0.4444444444444444,
              "#bd3786"
             ],
             [
              0.5555555555555556,
              "#d8576b"
             ],
             [
              0.6666666666666666,
              "#ed7953"
             ],
             [
              0.7777777777777778,
              "#fb9f3a"
             ],
             [
              0.8888888888888888,
              "#fdca26"
             ],
             [
              1,
              "#f0f921"
             ]
            ],
            "type": "contour"
           }
          ],
          "contourcarpet": [
           {
            "colorbar": {
             "outlinewidth": 0,
             "ticks": ""
            },
            "type": "contourcarpet"
           }
          ],
          "heatmap": [
           {
            "colorbar": {
             "outlinewidth": 0,
             "ticks": ""
            },
            "colorscale": [
             [
              0,
              "#0d0887"
             ],
             [
              0.1111111111111111,
              "#46039f"
             ],
             [
              0.2222222222222222,
              "#7201a8"
             ],
             [
              0.3333333333333333,
              "#9c179e"
             ],
             [
              0.4444444444444444,
              "#bd3786"
             ],
             [
              0.5555555555555556,
              "#d8576b"
             ],
             [
              0.6666666666666666,
              "#ed7953"
             ],
             [
              0.7777777777777778,
              "#fb9f3a"
             ],
             [
              0.8888888888888888,
              "#fdca26"
             ],
             [
              1,
              "#f0f921"
             ]
            ],
            "type": "heatmap"
           }
          ],
          "heatmapgl": [
           {
            "colorbar": {
             "outlinewidth": 0,
             "ticks": ""
            },
            "colorscale": [
             [
              0,
              "#0d0887"
             ],
             [
              0.1111111111111111,
              "#46039f"
             ],
             [
              0.2222222222222222,
              "#7201a8"
             ],
             [
              0.3333333333333333,
              "#9c179e"
             ],
             [
              0.4444444444444444,
              "#bd3786"
             ],
             [
              0.5555555555555556,
              "#d8576b"
             ],
             [
              0.6666666666666666,
              "#ed7953"
             ],
             [
              0.7777777777777778,
              "#fb9f3a"
             ],
             [
              0.8888888888888888,
              "#fdca26"
             ],
             [
              1,
              "#f0f921"
             ]
            ],
            "type": "heatmapgl"
           }
          ],
          "histogram": [
           {
            "marker": {
             "pattern": {
              "fillmode": "overlay",
              "size": 10,
              "solidity": 0.2
             }
            },
            "type": "histogram"
           }
          ],
          "histogram2d": [
           {
            "colorbar": {
             "outlinewidth": 0,
             "ticks": ""
            },
            "colorscale": [
             [
              0,
              "#0d0887"
             ],
             [
              0.1111111111111111,
              "#46039f"
             ],
             [
              0.2222222222222222,
              "#7201a8"
             ],
             [
              0.3333333333333333,
              "#9c179e"
             ],
             [
              0.4444444444444444,
              "#bd3786"
             ],
             [
              0.5555555555555556,
              "#d8576b"
             ],
             [
              0.6666666666666666,
              "#ed7953"
             ],
             [
              0.7777777777777778,
              "#fb9f3a"
             ],
             [
              0.8888888888888888,
              "#fdca26"
             ],
             [
              1,
              "#f0f921"
             ]
            ],
            "type": "histogram2d"
           }
          ],
          "histogram2dcontour": [
           {
            "colorbar": {
             "outlinewidth": 0,
             "ticks": ""
            },
            "colorscale": [
             [
              0,
              "#0d0887"
             ],
             [
              0.1111111111111111,
              "#46039f"
             ],
             [
              0.2222222222222222,
              "#7201a8"
             ],
             [
              0.3333333333333333,
              "#9c179e"
             ],
             [
              0.4444444444444444,
              "#bd3786"
             ],
             [
              0.5555555555555556,
              "#d8576b"
             ],
             [
              0.6666666666666666,
              "#ed7953"
             ],
             [
              0.7777777777777778,
              "#fb9f3a"
             ],
             [
              0.8888888888888888,
              "#fdca26"
             ],
             [
              1,
              "#f0f921"
             ]
            ],
            "type": "histogram2dcontour"
           }
          ],
          "mesh3d": [
           {
            "colorbar": {
             "outlinewidth": 0,
             "ticks": ""
            },
            "type": "mesh3d"
           }
          ],
          "parcoords": [
           {
            "line": {
             "colorbar": {
              "outlinewidth": 0,
              "ticks": ""
             }
            },
            "type": "parcoords"
           }
          ],
          "pie": [
           {
            "automargin": true,
            "type": "pie"
           }
          ],
          "scatter": [
           {
            "fillpattern": {
             "fillmode": "overlay",
             "size": 10,
             "solidity": 0.2
            },
            "type": "scatter"
           }
          ],
          "scatter3d": [
           {
            "line": {
             "colorbar": {
              "outlinewidth": 0,
              "ticks": ""
             }
            },
            "marker": {
             "colorbar": {
              "outlinewidth": 0,
              "ticks": ""
             }
            },
            "type": "scatter3d"
           }
          ],
          "scattercarpet": [
           {
            "marker": {
             "colorbar": {
              "outlinewidth": 0,
              "ticks": ""
             }
            },
            "type": "scattercarpet"
           }
          ],
          "scattergeo": [
           {
            "marker": {
             "colorbar": {
              "outlinewidth": 0,
              "ticks": ""
             }
            },
            "type": "scattergeo"
           }
          ],
          "scattergl": [
           {
            "marker": {
             "colorbar": {
              "outlinewidth": 0,
              "ticks": ""
             }
            },
            "type": "scattergl"
           }
          ],
          "scattermapbox": [
           {
            "marker": {
             "colorbar": {
              "outlinewidth": 0,
              "ticks": ""
             }
            },
            "type": "scattermapbox"
           }
          ],
          "scatterpolar": [
           {
            "marker": {
             "colorbar": {
              "outlinewidth": 0,
              "ticks": ""
             }
            },
            "type": "scatterpolar"
           }
          ],
          "scatterpolargl": [
           {
            "marker": {
             "colorbar": {
              "outlinewidth": 0,
              "ticks": ""
             }
            },
            "type": "scatterpolargl"
           }
          ],
          "scatterternary": [
           {
            "marker": {
             "colorbar": {
              "outlinewidth": 0,
              "ticks": ""
             }
            },
            "type": "scatterternary"
           }
          ],
          "surface": [
           {
            "colorbar": {
             "outlinewidth": 0,
             "ticks": ""
            },
            "colorscale": [
             [
              0,
              "#0d0887"
             ],
             [
              0.1111111111111111,
              "#46039f"
             ],
             [
              0.2222222222222222,
              "#7201a8"
             ],
             [
              0.3333333333333333,
              "#9c179e"
             ],
             [
              0.4444444444444444,
              "#bd3786"
             ],
             [
              0.5555555555555556,
              "#d8576b"
             ],
             [
              0.6666666666666666,
              "#ed7953"
             ],
             [
              0.7777777777777778,
              "#fb9f3a"
             ],
             [
              0.8888888888888888,
              "#fdca26"
             ],
             [
              1,
              "#f0f921"
             ]
            ],
            "type": "surface"
           }
          ],
          "table": [
           {
            "cells": {
             "fill": {
              "color": "#EBF0F8"
             },
             "line": {
              "color": "white"
             }
            },
            "header": {
             "fill": {
              "color": "#C8D4E3"
             },
             "line": {
              "color": "white"
             }
            },
            "type": "table"
           }
          ]
         },
         "layout": {
          "annotationdefaults": {
           "arrowcolor": "#2a3f5f",
           "arrowhead": 0,
           "arrowwidth": 1
          },
          "autotypenumbers": "strict",
          "coloraxis": {
           "colorbar": {
            "outlinewidth": 0,
            "ticks": ""
           }
          },
          "colorscale": {
           "diverging": [
            [
             0,
             "#8e0152"
            ],
            [
             0.1,
             "#c51b7d"
            ],
            [
             0.2,
             "#de77ae"
            ],
            [
             0.3,
             "#f1b6da"
            ],
            [
             0.4,
             "#fde0ef"
            ],
            [
             0.5,
             "#f7f7f7"
            ],
            [
             0.6,
             "#e6f5d0"
            ],
            [
             0.7,
             "#b8e186"
            ],
            [
             0.8,
             "#7fbc41"
            ],
            [
             0.9,
             "#4d9221"
            ],
            [
             1,
             "#276419"
            ]
           ],
           "sequential": [
            [
             0,
             "#0d0887"
            ],
            [
             0.1111111111111111,
             "#46039f"
            ],
            [
             0.2222222222222222,
             "#7201a8"
            ],
            [
             0.3333333333333333,
             "#9c179e"
            ],
            [
             0.4444444444444444,
             "#bd3786"
            ],
            [
             0.5555555555555556,
             "#d8576b"
            ],
            [
             0.6666666666666666,
             "#ed7953"
            ],
            [
             0.7777777777777778,
             "#fb9f3a"
            ],
            [
             0.8888888888888888,
             "#fdca26"
            ],
            [
             1,
             "#f0f921"
            ]
           ],
           "sequentialminus": [
            [
             0,
             "#0d0887"
            ],
            [
             0.1111111111111111,
             "#46039f"
            ],
            [
             0.2222222222222222,
             "#7201a8"
            ],
            [
             0.3333333333333333,
             "#9c179e"
            ],
            [
             0.4444444444444444,
             "#bd3786"
            ],
            [
             0.5555555555555556,
             "#d8576b"
            ],
            [
             0.6666666666666666,
             "#ed7953"
            ],
            [
             0.7777777777777778,
             "#fb9f3a"
            ],
            [
             0.8888888888888888,
             "#fdca26"
            ],
            [
             1,
             "#f0f921"
            ]
           ]
          },
          "colorway": [
           "#636efa",
           "#EF553B",
           "#00cc96",
           "#ab63fa",
           "#FFA15A",
           "#19d3f3",
           "#FF6692",
           "#B6E880",
           "#FF97FF",
           "#FECB52"
          ],
          "font": {
           "color": "#2a3f5f"
          },
          "geo": {
           "bgcolor": "white",
           "lakecolor": "white",
           "landcolor": "#E5ECF6",
           "showlakes": true,
           "showland": true,
           "subunitcolor": "white"
          },
          "hoverlabel": {
           "align": "left"
          },
          "hovermode": "closest",
          "mapbox": {
           "style": "light"
          },
          "paper_bgcolor": "white",
          "plot_bgcolor": "#E5ECF6",
          "polar": {
           "angularaxis": {
            "gridcolor": "white",
            "linecolor": "white",
            "ticks": ""
           },
           "bgcolor": "#E5ECF6",
           "radialaxis": {
            "gridcolor": "white",
            "linecolor": "white",
            "ticks": ""
           }
          },
          "scene": {
           "xaxis": {
            "backgroundcolor": "#E5ECF6",
            "gridcolor": "white",
            "gridwidth": 2,
            "linecolor": "white",
            "showbackground": true,
            "ticks": "",
            "zerolinecolor": "white"
           },
           "yaxis": {
            "backgroundcolor": "#E5ECF6",
            "gridcolor": "white",
            "gridwidth": 2,
            "linecolor": "white",
            "showbackground": true,
            "ticks": "",
            "zerolinecolor": "white"
           },
           "zaxis": {
            "backgroundcolor": "#E5ECF6",
            "gridcolor": "white",
            "gridwidth": 2,
            "linecolor": "white",
            "showbackground": true,
            "ticks": "",
            "zerolinecolor": "white"
           }
          },
          "shapedefaults": {
           "line": {
            "color": "#2a3f5f"
           }
          },
          "ternary": {
           "aaxis": {
            "gridcolor": "white",
            "linecolor": "white",
            "ticks": ""
           },
           "baxis": {
            "gridcolor": "white",
            "linecolor": "white",
            "ticks": ""
           },
           "bgcolor": "#E5ECF6",
           "caxis": {
            "gridcolor": "white",
            "linecolor": "white",
            "ticks": ""
           }
          },
          "title": {
           "x": 0.05
          },
          "xaxis": {
           "automargin": true,
           "gridcolor": "white",
           "linecolor": "white",
           "ticks": "",
           "title": {
            "standoff": 15
           },
           "zerolinecolor": "white",
           "zerolinewidth": 2
          },
          "yaxis": {
           "automargin": true,
           "gridcolor": "white",
           "linecolor": "white",
           "ticks": "",
           "title": {
            "standoff": 15
           },
           "zerolinecolor": "white",
           "zerolinewidth": 2
          }
         }
        },
        "title": {
         "text": "Version Creation Timestamp"
        },
        "xaxis": {
         "anchor": "y",
         "domain": [
          0,
          1
         ],
         "title": {
          "text": "creation_timestamp"
         }
        },
        "yaxis": {
         "anchor": "x",
         "domain": [
          0,
          1
         ]
        }
       }
      }
     },
     "metadata": {},
     "output_type": "display_data"
    }
   ],
   "source": [
    "px.strip(\n",
    "    versions,\n",
    "    x=\"creation_timestamp\",\n",
    "    color=\"name\",\n",
    "    hover_name=\"name\",\n",
    "    hover_data=versions.columns,\n",
    "    title=\"Version Creation Timestamp\",\n",
    ")"
   ]
  },
  {
   "cell_type": "code",
   "execution_count": 13,
   "metadata": {},
   "outputs": [
    {
     "data": {
      "application/vnd.plotly.v1+json": {
       "config": {
        "plotlyServerURL": "https://plot.ly"
       },
       "data": [
        {
         "alignmentgroup": "True",
         "boxpoints": "all",
         "customdata": [
          [
           "file:///home/fmind/mlops-python-package/mlruns/562757566260573932/2f6920e2006841d7a72567e9f25df89f/artifacts",
           "2024-07-21T14:08:59.757000",
           "562757566260573932",
           "active",
           "2f6920e2006841d7a72567e9f25df89f",
           "Explanations",
           "2f6920e2006841d7a72567e9f25df89f",
           "FINISHED",
           "fmind",
           {},
           {
            "conf_file": "confs/explanations.yaml"
           },
           {
            "mlflow.gitRepoURL": "git@github.com:fmind/mlops-python-package",
            "mlflow.project.backend": "local",
            "mlflow.project.entryPoint": "main",
            "mlflow.project.env": "virtualenv",
            "mlflow.runName": "Explanations",
            "mlflow.source.git.commit": "f071dd1397f5c7592fd82a2fe169f5ecaf3af901",
            "mlflow.source.git.repoURL": "git@github.com:fmind/mlops-python-package",
            "mlflow.source.name": "file:///home/fmind/mlops-python-package",
            "mlflow.source.type": "PROJECT",
            "mlflow.user": "fmind"
           },
           "fmind",
           "file:///home/fmind/mlops-python-package",
           "PROJECT",
           "main",
           "f071dd1397f5c7592fd82a2fe169f5ecaf3af901",
           "git@github.com:fmind/mlops-python-package",
           "git@github.com:fmind/mlops-python-package",
           "Explanations",
           "virtualenv",
           "local",
           null,
           null,
           null,
           null,
           null,
           null
          ],
          [
           "file:///home/fmind/mlops-python-package/mlruns/562757566260573932/94fa6a85393745f9b8bb5cac75f865e4/artifacts",
           "2024-07-21T14:08:28.634000",
           "562757566260573932",
           "active",
           "94fa6a85393745f9b8bb5cac75f865e4",
           "Evaluations",
           "94fa6a85393745f9b8bb5cac75f865e4",
           "FINISHED",
           "fmind",
           {
            "example_count": 13903,
            "max_error": 4294967295,
            "mean_absolute_error": 2044457567.3205063,
            "mean_absolute_percentage_error": 55189262.03890929,
            "mean_on_target": 174.63914263108683,
            "mean_squared_error": 296.66338200388407,
            "r2_score": 0.9893562621162568,
            "root_mean_squared_error": 17.223918892165166,
            "sum_on_target": 2428008
           },
           {
            "conf_file": "confs/evaluations.yaml"
           },
           {
            "mlflow.datasets": "[{\"name\":\"ce0fe6e33c74e2fa3659d51482be5f27\",\"hash\":\"ce0fe6e33c74e2fa3659d51482be5f27\",\"model\":\"8fce50ebd83a4de3af6a7245453472d3\"}]",
            "mlflow.gitRepoURL": "git@github.com:fmind/mlops-python-package",
            "mlflow.project.backend": "local",
            "mlflow.project.entryPoint": "main",
            "mlflow.project.env": "virtualenv",
            "mlflow.runName": "Evaluations",
            "mlflow.source.git.commit": "f071dd1397f5c7592fd82a2fe169f5ecaf3af901",
            "mlflow.source.git.repoURL": "git@github.com:fmind/mlops-python-package",
            "mlflow.source.name": "file:///home/fmind/mlops-python-package",
            "mlflow.source.type": "PROJECT",
            "mlflow.user": "fmind"
           },
           "fmind",
           "file:///home/fmind/mlops-python-package",
           "PROJECT",
           "main",
           "f071dd1397f5c7592fd82a2fe169f5ecaf3af901",
           "git@github.com:fmind/mlops-python-package",
           "git@github.com:fmind/mlops-python-package",
           "Evaluations",
           "virtualenv",
           "local",
           "[{\"name\":\"ce0fe6e33c74e2fa3659d51482be5f27\",\"hash\":\"ce0fe6e33c74e2fa3659d51482be5f27\",\"model\":\"8fce50ebd83a4de3af6a7245453472d3\"}]",
           null,
           null,
           null,
           null,
           null
          ],
          [
           "file:///home/fmind/mlops-python-package/mlruns/562757566260573932/da669581953a4a46ab84efaabc8f3e92/artifacts",
           "2024-07-21T14:08:23.205000",
           "562757566260573932",
           "active",
           "da669581953a4a46ab84efaabc8f3e92",
           "Inference",
           "da669581953a4a46ab84efaabc8f3e92",
           "FINISHED",
           "fmind",
           {},
           {
            "conf_file": "confs/inference.yaml"
           },
           {
            "mlflow.gitRepoURL": "git@github.com:fmind/mlops-python-package",
            "mlflow.project.backend": "local",
            "mlflow.project.entryPoint": "main",
            "mlflow.project.env": "virtualenv",
            "mlflow.runName": "Inference",
            "mlflow.source.git.commit": "f071dd1397f5c7592fd82a2fe169f5ecaf3af901",
            "mlflow.source.git.repoURL": "git@github.com:fmind/mlops-python-package",
            "mlflow.source.name": "file:///home/fmind/mlops-python-package",
            "mlflow.source.type": "PROJECT",
            "mlflow.user": "fmind"
           },
           "fmind",
           "file:///home/fmind/mlops-python-package",
           "PROJECT",
           "main",
           "f071dd1397f5c7592fd82a2fe169f5ecaf3af901",
           "git@github.com:fmind/mlops-python-package",
           "git@github.com:fmind/mlops-python-package",
           "Inference",
           "virtualenv",
           "local",
           null,
           null,
           null,
           null,
           null,
           null
          ],
          [
           "file:///home/fmind/mlops-python-package/mlruns/562757566260573932/023a21263eaa43228b324fb432932cf4/artifacts",
           "2024-07-21T14:08:18.412000",
           "562757566260573932",
           "active",
           "023a21263eaa43228b324fb432932cf4",
           "Promotion",
           "023a21263eaa43228b324fb432932cf4",
           "FINISHED",
           "fmind",
           {},
           {
            "conf_file": "confs/promotion.yaml"
           },
           {
            "mlflow.gitRepoURL": "git@github.com:fmind/mlops-python-package",
            "mlflow.project.backend": "local",
            "mlflow.project.entryPoint": "main",
            "mlflow.project.env": "virtualenv",
            "mlflow.runName": "Promotion",
            "mlflow.source.git.commit": "f071dd1397f5c7592fd82a2fe169f5ecaf3af901",
            "mlflow.source.git.repoURL": "git@github.com:fmind/mlops-python-package",
            "mlflow.source.name": "file:///home/fmind/mlops-python-package",
            "mlflow.source.type": "PROJECT",
            "mlflow.user": "fmind"
           },
           "fmind",
           "file:///home/fmind/mlops-python-package",
           "PROJECT",
           "main",
           "f071dd1397f5c7592fd82a2fe169f5ecaf3af901",
           "git@github.com:fmind/mlops-python-package",
           "git@github.com:fmind/mlops-python-package",
           "Promotion",
           "virtualenv",
           "local",
           null,
           null,
           null,
           null,
           null,
           null
          ],
          [
           "file:///home/fmind/mlops-python-package/mlruns/562757566260573932/d37276201a5b4ff98addae88f5ed1a34/artifacts",
           "2024-07-21T14:08:13.567000",
           "562757566260573932",
           "active",
           "d37276201a5b4ff98addae88f5ed1a34",
           "Training",
           "d37276201a5b4ff98addae88f5ed1a34",
           "FINISHED",
           "fmind",
           {
            "mean_squared_error": -1786.7527777777777,
            "system/cpu_utilization_percentage": 0,
            "system/disk_available_megabytes": 34541.6,
            "system/disk_usage_megabytes": 71449.6,
            "system/disk_usage_percentage": 67.4,
            "system/network_receive_megabytes": 0,
            "system/network_transmit_megabytes": 0,
            "system/system_memory_usage_megabytes": 4388.8,
            "system/system_memory_usage_percentage": 29.1,
            "training_mean_absolute_error": 6.8051192198812736,
            "training_mean_squared_error": 124.51054615575788,
            "training_r2_score": 0.9948851411922456,
            "training_root_mean_squared_error": 11.158429376742852,
            "training_score": 0.9948851411922456
           },
           {
            "conf_file": "confs/training.yaml",
            "memory": "None",
            "regressor": "RandomForestRegressor(max_depth=20, n_estimators=200, random_state=42)",
            "regressor__bootstrap": "True",
            "regressor__ccp_alpha": "0.0",
            "regressor__criterion": "squared_error",
            "regressor__max_depth": "20",
            "regressor__max_features": "1.0",
            "regressor__max_leaf_nodes": "None",
            "regressor__max_samples": "None",
            "regressor__min_impurity_decrease": "0.0",
            "regressor__min_samples_leaf": "1",
            "regressor__min_samples_split": "2",
            "regressor__min_weight_fraction_leaf": "0.0",
            "regressor__monotonic_cst": "None",
            "regressor__n_estimators": "200",
            "regressor__n_jobs": "None",
            "regressor__oob_score": "False",
            "regressor__random_state": "42",
            "regressor__verbose": "0",
            "regressor__warm_start": "False",
            "steps": "[('transformer', ColumnTransformer(transformers=[('categoricals',\n                                 OneHotEncoder(handle_unknown='ignore',\n                                               sparse_output=False),\n                                 ['season', 'weathersit']),\n                                ('numericals', 'passthrough',\n                                 ['yr', 'mnth', 'hr', 'holiday', 'weekday',\n                                  'workingday', 'temp', 'atemp', 'hum',\n                                  'windspeed', 'casual'])])), ('regressor', RandomForestRegressor(max_depth=20, n_estimators=200, random_state=42))]",
            "transformer": "ColumnTransformer(transformers=[('categoricals',\n                                 OneHotEncoder(handle_unknown='ignore',\n                                               sparse_output=False),\n                                 ['season', 'weathersit']),\n                                ('numericals', 'passthrough',\n                                 ['yr', 'mnth', 'hr', 'holiday', 'weekday',\n                                  'workingday', 'temp', 'atemp', 'hum',\n                                  'windspeed', 'casual'])])",
            "transformer__categoricals": "OneHotEncoder(handle_unknown='ignore', sparse_output=False)",
            "transformer__categoricals__categories": "auto",
            "transformer__categoricals__drop": "None",
            "transformer__categoricals__dtype": "<class 'numpy.float64'>",
            "transformer__categoricals__feature_name_combiner": "concat",
            "transformer__categoricals__handle_unknown": "ignore",
            "transformer__categoricals__max_categories": "None",
            "transformer__categoricals__min_frequency": "None",
            "transformer__categoricals__sparse_output": "False",
            "transformer__n_jobs": "None",
            "transformer__numericals": "passthrough",
            "transformer__remainder": "drop",
            "transformer__sparse_threshold": "0.3",
            "transformer__transformer_weights": "None",
            "transformer__transformers": "[('categoricals', OneHotEncoder(handle_unknown='ignore', sparse_output=False), ['season', 'weathersit']), ('numericals', 'passthrough', ['yr', 'mnth', 'hr', 'holiday', 'weekday', 'workingday', 'temp', 'atemp', 'hum', 'windspeed', 'casual'])]",
            "transformer__verbose": "False",
            "transformer__verbose_feature_names_out": "True",
            "verbose": "False"
           },
           {
            "estimator_class": "sklearn.pipeline.Pipeline",
            "estimator_name": "Pipeline",
            "mlflow.gitRepoURL": "git@github.com:fmind/mlops-python-package",
            "mlflow.log-model.history": "[{\"run_id\": \"d37276201a5b4ff98addae88f5ed1a34\", \"artifact_path\": \"model\", \"utc_time_created\": \"2024-07-21 14:08:05.047879\", \"flavors\": {\"python_function\": {\"model_path\": \"model.pkl\", \"predict_fn\": \"predict\", \"loader_module\": \"mlflow.sklearn\", \"python_version\": \"3.12.4\", \"env\": {\"conda\": \"conda.yaml\", \"virtualenv\": \"python_env.yaml\"}}, \"sklearn\": {\"pickled_model\": \"model.pkl\", \"sklearn_version\": \"1.4.2\", \"serialization_format\": \"cloudpickle\", \"code\": null}}, \"model_uuid\": \"e007980b27a14ec787fc3860c945fbe3\", \"mlflow_version\": \"2.14.3\", \"signature\": {\"inputs\": \"[{\\\"type\\\": \\\"datetime\\\", \\\"name\\\": \\\"dteday\\\", \\\"required\\\": true}, {\\\"type\\\": \\\"integer\\\", \\\"name\\\": \\\"season\\\", \\\"required\\\": true}, {\\\"type\\\": \\\"integer\\\", \\\"name\\\": \\\"yr\\\", \\\"required\\\": true}, {\\\"type\\\": \\\"integer\\\", \\\"name\\\": \\\"mnth\\\", \\\"required\\\": true}, {\\\"type\\\": \\\"integer\\\", \\\"name\\\": \\\"hr\\\", \\\"required\\\": true}, {\\\"type\\\": \\\"boolean\\\", \\\"name\\\": \\\"holiday\\\", \\\"required\\\": true}, {\\\"type\\\": \\\"integer\\\", \\\"name\\\": \\\"weekday\\\", \\\"required\\\": true}, {\\\"type\\\": \\\"boolean\\\", \\\"name\\\": \\\"workingday\\\", \\\"required\\\": true}, {\\\"type\\\": \\\"integer\\\", \\\"name\\\": \\\"weathersit\\\", \\\"required\\\": true}, {\\\"type\\\": \\\"float\\\", \\\"name\\\": \\\"temp\\\", \\\"required\\\": true}, {\\\"type\\\": \\\"float\\\", \\\"name\\\": \\\"atemp\\\", \\\"required\\\": true}, {\\\"type\\\": \\\"float\\\", \\\"name\\\": \\\"hum\\\", \\\"required\\\": true}, {\\\"type\\\": \\\"float\\\", \\\"name\\\": \\\"windspeed\\\", \\\"required\\\": true}, {\\\"type\\\": \\\"long\\\", \\\"name\\\": \\\"casual\\\", \\\"required\\\": true}, {\\\"type\\\": \\\"long\\\", \\\"name\\\": \\\"registered\\\", \\\"required\\\": true}]\", \"outputs\": \"[{\\\"type\\\": \\\"tensor\\\", \\\"tensor-spec\\\": {\\\"dtype\\\": \\\"float64\\\", \\\"shape\\\": [-1]}}]\", \"params\": null}, \"saved_input_example_info\": {\"artifact_path\": \"input_example.json\", \"type\": \"dataframe\", \"pandas_orient\": \"split\"}, \"model_size_bytes\": 203898413}, {\"run_id\": \"d37276201a5b4ff98addae88f5ed1a34\", \"artifact_path\": \"model\", \"utc_time_created\": \"2024-07-21 14:08:08.647799\", \"flavors\": {\"python_function\": {\"streamable\": false, \"cloudpickle_version\": \"3.0.0\", \"python_model\": \"python_model.pkl\", \"loader_module\": \"mlflow.pyfunc.model\", \"python_version\": \"3.12.4\", \"env\": {\"conda\": \"conda.yaml\", \"virtualenv\": \"python_env.yaml\"}, \"code\": null}}, \"model_uuid\": \"8fce50ebd83a4de3af6a7245453472d3\", \"mlflow_version\": \"2.14.3\", \"signature\": {\"inputs\": \"[{\\\"type\\\": \\\"datetime\\\", \\\"name\\\": \\\"dteday\\\", \\\"required\\\": true}, {\\\"type\\\": \\\"integer\\\", \\\"name\\\": \\\"season\\\", \\\"required\\\": true}, {\\\"type\\\": \\\"integer\\\", \\\"name\\\": \\\"yr\\\", \\\"required\\\": true}, {\\\"type\\\": \\\"integer\\\", \\\"name\\\": \\\"mnth\\\", \\\"required\\\": true}, {\\\"type\\\": \\\"integer\\\", \\\"name\\\": \\\"hr\\\", \\\"required\\\": true}, {\\\"type\\\": \\\"boolean\\\", \\\"name\\\": \\\"holiday\\\", \\\"required\\\": true}, {\\\"type\\\": \\\"integer\\\", \\\"name\\\": \\\"weekday\\\", \\\"required\\\": true}, {\\\"type\\\": \\\"boolean\\\", \\\"name\\\": \\\"workingday\\\", \\\"required\\\": true}, {\\\"type\\\": \\\"integer\\\", \\\"name\\\": \\\"weathersit\\\", \\\"required\\\": true}, {\\\"type\\\": \\\"float\\\", \\\"name\\\": \\\"temp\\\", \\\"required\\\": true}, {\\\"type\\\": \\\"float\\\", \\\"name\\\": \\\"atemp\\\", \\\"required\\\": true}, {\\\"type\\\": \\\"float\\\", \\\"name\\\": \\\"hum\\\", \\\"required\\\": true}, {\\\"type\\\": \\\"float\\\", \\\"name\\\": \\\"windspeed\\\", \\\"required\\\": true}, {\\\"type\\\": \\\"long\\\", \\\"name\\\": \\\"casual\\\", \\\"required\\\": true}, {\\\"type\\\": \\\"long\\\", \\\"name\\\": \\\"registered\\\", \\\"required\\\": true}]\", \"outputs\": \"[{\\\"type\\\": \\\"long\\\", \\\"name\\\": \\\"prediction\\\", \\\"required\\\": true}]\", \"params\": null}, \"saved_input_example_info\": {\"artifact_path\": \"input_example.json\", \"type\": \"dataframe\", \"pandas_orient\": \"split\"}, \"model_size_bytes\": 205599260}]",
            "mlflow.project.backend": "local",
            "mlflow.project.entryPoint": "main",
            "mlflow.project.env": "virtualenv",
            "mlflow.runName": "Training",
            "mlflow.source.git.commit": "f071dd1397f5c7592fd82a2fe169f5ecaf3af901",
            "mlflow.source.git.repoURL": "git@github.com:fmind/mlops-python-package",
            "mlflow.source.name": "file:///home/fmind/mlops-python-package",
            "mlflow.source.type": "PROJECT",
            "mlflow.user": "fmind"
           },
           "fmind",
           "file:///home/fmind/mlops-python-package",
           "PROJECT",
           "main",
           "f071dd1397f5c7592fd82a2fe169f5ecaf3af901",
           "git@github.com:fmind/mlops-python-package",
           "git@github.com:fmind/mlops-python-package",
           "Training",
           "virtualenv",
           "local",
           null,
           "Pipeline",
           "sklearn.pipeline.Pipeline",
           "[{\"run_id\": \"d37276201a5b4ff98addae88f5ed1a34\", \"artifact_path\": \"model\", \"utc_time_created\": \"2024-07-21 14:08:05.047879\", \"flavors\": {\"python_function\": {\"model_path\": \"model.pkl\", \"predict_fn\": \"predict\", \"loader_module\": \"mlflow.sklearn\", \"python_version\": \"3.12.4\", \"env\": {\"conda\": \"conda.yaml\", \"virtualenv\": \"python_env.yaml\"}}, \"sklearn\": {\"pickled_model\": \"model.pkl\", \"sklearn_version\": \"1.4.2\", \"serialization_format\": \"cloudpickle\", \"code\": null}}, \"model_uuid\": \"e007980b27a14ec787fc3860c945fbe3\", \"mlflow_version\": \"2.14.3\", \"signature\": {\"inputs\": \"[{\\\"type\\\": \\\"datetime\\\", \\\"name\\\": \\\"dteday\\\", \\\"required\\\": true}, {\\\"type\\\": \\\"integer\\\", \\\"name\\\": \\\"season\\\", \\\"required\\\": true}, {\\\"type\\\": \\\"integer\\\", \\\"name\\\": \\\"yr\\\", \\\"required\\\": true}, {\\\"type\\\": \\\"integer\\\", \\\"name\\\": \\\"mnth\\\", \\\"required\\\": true}, {\\\"type\\\": \\\"integer\\\", \\\"name\\\": \\\"hr\\\", \\\"required\\\": true}, {\\\"type\\\": \\\"boolean\\\", \\\"name\\\": \\\"holiday\\\", \\\"required\\\": true}, {\\\"type\\\": \\\"integer\\\", \\\"name\\\": \\\"weekday\\\", \\\"required\\\": true}, {\\\"type\\\": \\\"boolean\\\", \\\"name\\\": \\\"workingday\\\", \\\"required\\\": true}, {\\\"type\\\": \\\"integer\\\", \\\"name\\\": \\\"weathersit\\\", \\\"required\\\": true}, {\\\"type\\\": \\\"float\\\", \\\"name\\\": \\\"temp\\\", \\\"required\\\": true}, {\\\"type\\\": \\\"float\\\", \\\"name\\\": \\\"atemp\\\", \\\"required\\\": true}, {\\\"type\\\": \\\"float\\\", \\\"name\\\": \\\"hum\\\", \\\"required\\\": true}, {\\\"type\\\": \\\"float\\\", \\\"name\\\": \\\"windspeed\\\", \\\"required\\\": true}, {\\\"type\\\": \\\"long\\\", \\\"name\\\": \\\"casual\\\", \\\"required\\\": true}, {\\\"type\\\": \\\"long\\\", \\\"name\\\": \\\"registered\\\", \\\"required\\\": true}]\", \"outputs\": \"[{\\\"type\\\": \\\"tensor\\\", \\\"tensor-spec\\\": {\\\"dtype\\\": \\\"float64\\\", \\\"shape\\\": [-1]}}]\", \"params\": null}, \"saved_input_example_info\": {\"artifact_path\": \"input_example.json\", \"type\": \"dataframe\", \"pandas_orient\": \"split\"}, \"model_size_bytes\": 203898413}, {\"run_id\": \"d37276201a5b4ff98addae88f5ed1a34\", \"artifact_path\": \"model\", \"utc_time_created\": \"2024-07-21 14:08:08.647799\", \"flavors\": {\"python_function\": {\"streamable\": false, \"cloudpickle_version\": \"3.0.0\", \"python_model\": \"python_model.pkl\", \"loader_module\": \"mlflow.pyfunc.model\", \"python_version\": \"3.12.4\", \"env\": {\"conda\": \"conda.yaml\", \"virtualenv\": \"python_env.yaml\"}, \"code\": null}}, \"model_uuid\": \"8fce50ebd83a4de3af6a7245453472d3\", \"mlflow_version\": \"2.14.3\", \"signature\": {\"inputs\": \"[{\\\"type\\\": \\\"datetime\\\", \\\"name\\\": \\\"dteday\\\", \\\"required\\\": true}, {\\\"type\\\": \\\"integer\\\", \\\"name\\\": \\\"season\\\", \\\"required\\\": true}, {\\\"type\\\": \\\"integer\\\", \\\"name\\\": \\\"yr\\\", \\\"required\\\": true}, {\\\"type\\\": \\\"integer\\\", \\\"name\\\": \\\"mnth\\\", \\\"required\\\": true}, {\\\"type\\\": \\\"integer\\\", \\\"name\\\": \\\"hr\\\", \\\"required\\\": true}, {\\\"type\\\": \\\"boolean\\\", \\\"name\\\": \\\"holiday\\\", \\\"required\\\": true}, {\\\"type\\\": \\\"integer\\\", \\\"name\\\": \\\"weekday\\\", \\\"required\\\": true}, {\\\"type\\\": \\\"boolean\\\", \\\"name\\\": \\\"workingday\\\", \\\"required\\\": true}, {\\\"type\\\": \\\"integer\\\", \\\"name\\\": \\\"weathersit\\\", \\\"required\\\": true}, {\\\"type\\\": \\\"float\\\", \\\"name\\\": \\\"temp\\\", \\\"required\\\": true}, {\\\"type\\\": \\\"float\\\", \\\"name\\\": \\\"atemp\\\", \\\"required\\\": true}, {\\\"type\\\": \\\"float\\\", \\\"name\\\": \\\"hum\\\", \\\"required\\\": true}, {\\\"type\\\": \\\"float\\\", \\\"name\\\": \\\"windspeed\\\", \\\"required\\\": true}, {\\\"type\\\": \\\"long\\\", \\\"name\\\": \\\"casual\\\", \\\"required\\\": true}, {\\\"type\\\": \\\"long\\\", \\\"name\\\": \\\"registered\\\", \\\"required\\\": true}]\", \"outputs\": \"[{\\\"type\\\": \\\"long\\\", \\\"name\\\": \\\"prediction\\\", \\\"required\\\": true}]\", \"params\": null}, \"saved_input_example_info\": {\"artifact_path\": \"input_example.json\", \"type\": \"dataframe\", \"pandas_orient\": \"split\"}, \"model_size_bytes\": 205599260}]",
           null,
           null
          ],
          [
           "file:///home/fmind/mlops-python-package/mlruns/562757566260573932/2319443aa2dc4b93b3b42acd925b7070/artifacts",
           "2024-07-21T14:07:52.347000",
           "562757566260573932",
           "active",
           "2319443aa2dc4b93b3b42acd925b7070",
           "nimble-grouse-107",
           "2319443aa2dc4b93b3b42acd925b7070",
           "FINISHED",
           "fmind",
           {
            "mean_fit_time": 2.335359275341034,
            "mean_score_time": 0.04631972312927246,
            "mean_test_score": -5517.252604166667,
            "rank_test_score": 1,
            "std_fit_time": 0.3590436626364938,
            "std_score_time": 0.004401981271699938,
            "std_test_score": 1613.520146542553
           },
           {
            "max_depth": "7",
            "n_estimators": "200",
            "random_state": "42"
           },
           {
            "estimator_class": "bikes.core.models.BaselineSklearnModel",
            "estimator_name": "BaselineSklearnModel",
            "mlflow.autologging": "sklearn",
            "mlflow.parentRunId": "e9c8cff5399044b0a2637c0c0ce6689a",
            "mlflow.runName": "nimble-grouse-107",
            "mlflow.source.git.commit": "f071dd1397f5c7592fd82a2fe169f5ecaf3af901",
            "mlflow.source.name": "/home/fmind/mlops-python-package/src/bikes/__main__.py",
            "mlflow.source.type": "LOCAL",
            "mlflow.user": "fmind"
           },
           "fmind",
           "/home/fmind/mlops-python-package/src/bikes/__main__.py",
           "LOCAL",
           null,
           "f071dd1397f5c7592fd82a2fe169f5ecaf3af901",
           null,
           null,
           "nimble-grouse-107",
           null,
           null,
           null,
           "BaselineSklearnModel",
           "bikes.core.models.BaselineSklearnModel",
           null,
           "sklearn",
           "e9c8cff5399044b0a2637c0c0ce6689a"
          ],
          [
           "file:///home/fmind/mlops-python-package/mlruns/562757566260573932/37dc2776a7ea41d08c1350d9569813c6/artifacts",
           "2024-07-21T14:07:52.347000",
           "562757566260573932",
           "active",
           "37dc2776a7ea41d08c1350d9569813c6",
           "youthful-dog-682",
           "37dc2776a7ea41d08c1350d9569813c6",
           "FINISHED",
           "fmind",
           {
            "mean_fit_time": 1.6250869631767273,
            "mean_score_time": 0.039045751094818115,
            "mean_test_score": -8287.860416666666,
            "rank_test_score": 2,
            "std_fit_time": 0.30070612377456823,
            "std_score_time": 0.0034828563269759423,
            "std_test_score": 1045.7595024691313
           },
           {
            "max_depth": "5",
            "n_estimators": "200",
            "random_state": "42"
           },
           {
            "estimator_class": "bikes.core.models.BaselineSklearnModel",
            "estimator_name": "BaselineSklearnModel",
            "mlflow.autologging": "sklearn",
            "mlflow.parentRunId": "e9c8cff5399044b0a2637c0c0ce6689a",
            "mlflow.runName": "youthful-dog-682",
            "mlflow.source.git.commit": "f071dd1397f5c7592fd82a2fe169f5ecaf3af901",
            "mlflow.source.name": "/home/fmind/mlops-python-package/src/bikes/__main__.py",
            "mlflow.source.type": "LOCAL",
            "mlflow.user": "fmind"
           },
           "fmind",
           "/home/fmind/mlops-python-package/src/bikes/__main__.py",
           "LOCAL",
           null,
           "f071dd1397f5c7592fd82a2fe169f5ecaf3af901",
           null,
           null,
           "youthful-dog-682",
           null,
           null,
           null,
           "BaselineSklearnModel",
           "bikes.core.models.BaselineSklearnModel",
           null,
           "sklearn",
           "e9c8cff5399044b0a2637c0c0ce6689a"
          ],
          [
           "file:///home/fmind/mlops-python-package/mlruns/562757566260573932/54f8d9d33515402b875a1e36f7aa0319/artifacts",
           "2024-07-21T14:07:52.347000",
           "562757566260573932",
           "active",
           "54f8d9d33515402b875a1e36f7aa0319",
           "hilarious-frog-164",
           "54f8d9d33515402b875a1e36f7aa0319",
           "FINISHED",
           "fmind",
           {
            "mean_fit_time": 1.0542340278625488,
            "mean_score_time": 0.034685373306274414,
            "mean_test_score": -16644.957118055558,
            "rank_test_score": 3,
            "std_fit_time": 0.1530062338353499,
            "std_score_time": 0.0005786305205599668,
            "std_test_score": 5315.459715152708
           },
           {
            "max_depth": "3",
            "n_estimators": "200",
            "random_state": "42"
           },
           {
            "estimator_class": "bikes.core.models.BaselineSklearnModel",
            "estimator_name": "BaselineSklearnModel",
            "mlflow.autologging": "sklearn",
            "mlflow.parentRunId": "e9c8cff5399044b0a2637c0c0ce6689a",
            "mlflow.runName": "hilarious-frog-164",
            "mlflow.source.git.commit": "f071dd1397f5c7592fd82a2fe169f5ecaf3af901",
            "mlflow.source.name": "/home/fmind/mlops-python-package/src/bikes/__main__.py",
            "mlflow.source.type": "LOCAL",
            "mlflow.user": "fmind"
           },
           "fmind",
           "/home/fmind/mlops-python-package/src/bikes/__main__.py",
           "LOCAL",
           null,
           "f071dd1397f5c7592fd82a2fe169f5ecaf3af901",
           null,
           null,
           "hilarious-frog-164",
           null,
           null,
           null,
           "BaselineSklearnModel",
           "bikes.core.models.BaselineSklearnModel",
           null,
           "sklearn",
           "e9c8cff5399044b0a2637c0c0ce6689a"
          ],
          [
           "file:///home/fmind/mlops-python-package/mlruns/562757566260573932/e9c8cff5399044b0a2637c0c0ce6689a/artifacts",
           "2024-07-21T14:07:53.274000",
           "562757566260573932",
           "active",
           "e9c8cff5399044b0a2637c0c0ce6689a",
           "Tuning",
           "e9c8cff5399044b0a2637c0c0ce6689a",
           "FINISHED",
           "fmind",
           {
            "best_cv_score": -5517.252604166667,
            "system/cpu_utilization_percentage": 7.4,
            "system/disk_available_megabytes": 34541.7,
            "system/disk_usage_megabytes": 71449.5,
            "system/disk_usage_percentage": 67.4,
            "system/network_receive_megabytes": 8.62606500000004,
            "system/network_transmit_megabytes": 8.622220999999996,
            "system/system_memory_usage_megabytes": 4269.4,
            "system/system_memory_usage_percentage": 28.3,
            "training_score": -1951.0630079838884
           },
           {
            "best_max_depth": "7",
            "conf_file": "confs/tuning.yaml",
            "cv": "KIND='TimeSeriesSplitter' gap=0 n_splits=4 test_size=1440",
            "error_score": "raise",
            "estimator": "KIND='BaselineSklearnModel' max_depth=20 n_estimators=200 random_state=42",
            "n_jobs": "None",
            "param_grid": "{'max_depth': [3, 5, 7]}",
            "pre_dispatch": "2*n_jobs",
            "refit": "True",
            "return_train_score": "False",
            "scoring": "<bound method Metric.scorer of SklearnMetric(KIND='SklearnMetric', name='mean_squared_error', greater_is_better=False)>",
            "verbose": "3"
           },
           {
            "estimator_class": "sklearn.model_selection._search.GridSearchCV",
            "estimator_name": "GridSearchCV",
            "mlflow.gitRepoURL": "git@github.com:fmind/mlops-python-package",
            "mlflow.log-model.history": "[{\"run_id\": \"e9c8cff5399044b0a2637c0c0ce6689a\", \"artifact_path\": \"model\", \"utc_time_created\": \"2024-07-21 14:07:47.385038\", \"flavors\": {\"python_function\": {\"model_path\": \"model.pkl\", \"predict_fn\": \"predict\", \"loader_module\": \"mlflow.sklearn\", \"python_version\": \"3.12.4\", \"env\": {\"conda\": \"conda.yaml\", \"virtualenv\": \"python_env.yaml\"}}, \"sklearn\": {\"pickled_model\": \"model.pkl\", \"sklearn_version\": \"1.4.2\", \"serialization_format\": \"cloudpickle\", \"code\": null}}, \"model_uuid\": \"d1707c2f4b8346818f7747a0d7ab01ad\", \"mlflow_version\": \"2.14.3\", \"signature\": {\"inputs\": \"[{\\\"type\\\": \\\"datetime\\\", \\\"name\\\": \\\"dteday\\\", \\\"required\\\": true}, {\\\"type\\\": \\\"integer\\\", \\\"name\\\": \\\"season\\\", \\\"required\\\": true}, {\\\"type\\\": \\\"integer\\\", \\\"name\\\": \\\"yr\\\", \\\"required\\\": true}, {\\\"type\\\": \\\"integer\\\", \\\"name\\\": \\\"mnth\\\", \\\"required\\\": true}, {\\\"type\\\": \\\"integer\\\", \\\"name\\\": \\\"hr\\\", \\\"required\\\": true}, {\\\"type\\\": \\\"boolean\\\", \\\"name\\\": \\\"holiday\\\", \\\"required\\\": true}, {\\\"type\\\": \\\"integer\\\", \\\"name\\\": \\\"weekday\\\", \\\"required\\\": true}, {\\\"type\\\": \\\"boolean\\\", \\\"name\\\": \\\"workingday\\\", \\\"required\\\": true}, {\\\"type\\\": \\\"integer\\\", \\\"name\\\": \\\"weathersit\\\", \\\"required\\\": true}, {\\\"type\\\": \\\"float\\\", \\\"name\\\": \\\"temp\\\", \\\"required\\\": true}, {\\\"type\\\": \\\"float\\\", \\\"name\\\": \\\"atemp\\\", \\\"required\\\": true}, {\\\"type\\\": \\\"float\\\", \\\"name\\\": \\\"hum\\\", \\\"required\\\": true}, {\\\"type\\\": \\\"float\\\", \\\"name\\\": \\\"windspeed\\\", \\\"required\\\": true}, {\\\"type\\\": \\\"long\\\", \\\"name\\\": \\\"casual\\\", \\\"required\\\": true}, {\\\"type\\\": \\\"long\\\", \\\"name\\\": \\\"registered\\\", \\\"required\\\": true}]\", \"outputs\": \"[{\\\"type\\\": \\\"long\\\", \\\"name\\\": \\\"prediction\\\", \\\"required\\\": true}]\", \"params\": null}, \"saved_input_example_info\": {\"artifact_path\": \"input_example.json\", \"type\": \"dataframe\", \"pandas_orient\": \"split\"}, \"model_size_bytes\": 3726525}, {\"run_id\": \"e9c8cff5399044b0a2637c0c0ce6689a\", \"artifact_path\": \"best_estimator\", \"utc_time_created\": \"2024-07-21 14:07:50.180719\", \"flavors\": {\"python_function\": {\"model_path\": \"model.pkl\", \"predict_fn\": \"predict\", \"loader_module\": \"mlflow.sklearn\", \"python_version\": \"3.12.4\", \"env\": {\"conda\": \"conda.yaml\", \"virtualenv\": \"python_env.yaml\"}}, \"sklearn\": {\"pickled_model\": \"model.pkl\", \"sklearn_version\": \"1.4.2\", \"serialization_format\": \"cloudpickle\", \"code\": null}}, \"model_uuid\": \"982e3a8c13734ff58f0ff20b1f759967\", \"mlflow_version\": \"2.14.3\", \"signature\": {\"inputs\": \"[{\\\"type\\\": \\\"datetime\\\", \\\"name\\\": \\\"dteday\\\", \\\"required\\\": true}, {\\\"type\\\": \\\"integer\\\", \\\"name\\\": \\\"season\\\", \\\"required\\\": true}, {\\\"type\\\": \\\"integer\\\", \\\"name\\\": \\\"yr\\\", \\\"required\\\": true}, {\\\"type\\\": \\\"integer\\\", \\\"name\\\": \\\"mnth\\\", \\\"required\\\": true}, {\\\"type\\\": \\\"integer\\\", \\\"name\\\": \\\"hr\\\", \\\"required\\\": true}, {\\\"type\\\": \\\"boolean\\\", \\\"name\\\": \\\"holiday\\\", \\\"required\\\": true}, {\\\"type\\\": \\\"integer\\\", \\\"name\\\": \\\"weekday\\\", \\\"required\\\": true}, {\\\"type\\\": \\\"boolean\\\", \\\"name\\\": \\\"workingday\\\", \\\"required\\\": true}, {\\\"type\\\": \\\"integer\\\", \\\"name\\\": \\\"weathersit\\\", \\\"required\\\": true}, {\\\"type\\\": \\\"float\\\", \\\"name\\\": \\\"temp\\\", \\\"required\\\": true}, {\\\"type\\\": \\\"float\\\", \\\"name\\\": \\\"atemp\\\", \\\"required\\\": true}, {\\\"type\\\": \\\"float\\\", \\\"name\\\": \\\"hum\\\", \\\"required\\\": true}, {\\\"type\\\": \\\"float\\\", \\\"name\\\": \\\"windspeed\\\", \\\"required\\\": true}, {\\\"type\\\": \\\"long\\\", \\\"name\\\": \\\"casual\\\", \\\"required\\\": true}, {\\\"type\\\": \\\"long\\\", \\\"name\\\": \\\"registered\\\", \\\"required\\\": true}]\", \"outputs\": \"[{\\\"type\\\": \\\"long\\\", \\\"name\\\": \\\"prediction\\\", \\\"required\\\": true}]\", \"params\": null}, \"saved_input_example_info\": {\"artifact_path\": \"input_example.json\", \"type\": \"dataframe\", \"pandas_orient\": \"split\"}, \"model_size_bytes\": 3713919}]",
            "mlflow.project.backend": "local",
            "mlflow.project.entryPoint": "main",
            "mlflow.project.env": "virtualenv",
            "mlflow.runName": "Tuning",
            "mlflow.source.git.commit": "f071dd1397f5c7592fd82a2fe169f5ecaf3af901",
            "mlflow.source.git.repoURL": "git@github.com:fmind/mlops-python-package",
            "mlflow.source.name": "file:///home/fmind/mlops-python-package",
            "mlflow.source.type": "PROJECT",
            "mlflow.user": "fmind"
           },
           "fmind",
           "file:///home/fmind/mlops-python-package",
           "PROJECT",
           "main",
           "f071dd1397f5c7592fd82a2fe169f5ecaf3af901",
           "git@github.com:fmind/mlops-python-package",
           "git@github.com:fmind/mlops-python-package",
           "Tuning",
           "virtualenv",
           "local",
           null,
           "GridSearchCV",
           "sklearn.model_selection._search.GridSearchCV",
           "[{\"run_id\": \"e9c8cff5399044b0a2637c0c0ce6689a\", \"artifact_path\": \"model\", \"utc_time_created\": \"2024-07-21 14:07:47.385038\", \"flavors\": {\"python_function\": {\"model_path\": \"model.pkl\", \"predict_fn\": \"predict\", \"loader_module\": \"mlflow.sklearn\", \"python_version\": \"3.12.4\", \"env\": {\"conda\": \"conda.yaml\", \"virtualenv\": \"python_env.yaml\"}}, \"sklearn\": {\"pickled_model\": \"model.pkl\", \"sklearn_version\": \"1.4.2\", \"serialization_format\": \"cloudpickle\", \"code\": null}}, \"model_uuid\": \"d1707c2f4b8346818f7747a0d7ab01ad\", \"mlflow_version\": \"2.14.3\", \"signature\": {\"inputs\": \"[{\\\"type\\\": \\\"datetime\\\", \\\"name\\\": \\\"dteday\\\", \\\"required\\\": true}, {\\\"type\\\": \\\"integer\\\", \\\"name\\\": \\\"season\\\", \\\"required\\\": true}, {\\\"type\\\": \\\"integer\\\", \\\"name\\\": \\\"yr\\\", \\\"required\\\": true}, {\\\"type\\\": \\\"integer\\\", \\\"name\\\": \\\"mnth\\\", \\\"required\\\": true}, {\\\"type\\\": \\\"integer\\\", \\\"name\\\": \\\"hr\\\", \\\"required\\\": true}, {\\\"type\\\": \\\"boolean\\\", \\\"name\\\": \\\"holiday\\\", \\\"required\\\": true}, {\\\"type\\\": \\\"integer\\\", \\\"name\\\": \\\"weekday\\\", \\\"required\\\": true}, {\\\"type\\\": \\\"boolean\\\", \\\"name\\\": \\\"workingday\\\", \\\"required\\\": true}, {\\\"type\\\": \\\"integer\\\", \\\"name\\\": \\\"weathersit\\\", \\\"required\\\": true}, {\\\"type\\\": \\\"float\\\", \\\"name\\\": \\\"temp\\\", \\\"required\\\": true}, {\\\"type\\\": \\\"float\\\", \\\"name\\\": \\\"atemp\\\", \\\"required\\\": true}, {\\\"type\\\": \\\"float\\\", \\\"name\\\": \\\"hum\\\", \\\"required\\\": true}, {\\\"type\\\": \\\"float\\\", \\\"name\\\": \\\"windspeed\\\", \\\"required\\\": true}, {\\\"type\\\": \\\"long\\\", \\\"name\\\": \\\"casual\\\", \\\"required\\\": true}, {\\\"type\\\": \\\"long\\\", \\\"name\\\": \\\"registered\\\", \\\"required\\\": true}]\", \"outputs\": \"[{\\\"type\\\": \\\"long\\\", \\\"name\\\": \\\"prediction\\\", \\\"required\\\": true}]\", \"params\": null}, \"saved_input_example_info\": {\"artifact_path\": \"input_example.json\", \"type\": \"dataframe\", \"pandas_orient\": \"split\"}, \"model_size_bytes\": 3726525}, {\"run_id\": \"e9c8cff5399044b0a2637c0c0ce6689a\", \"artifact_path\": \"best_estimator\", \"utc_time_created\": \"2024-07-21 14:07:50.180719\", \"flavors\": {\"python_function\": {\"model_path\": \"model.pkl\", \"predict_fn\": \"predict\", \"loader_module\": \"mlflow.sklearn\", \"python_version\": \"3.12.4\", \"env\": {\"conda\": \"conda.yaml\", \"virtualenv\": \"python_env.yaml\"}}, \"sklearn\": {\"pickled_model\": \"model.pkl\", \"sklearn_version\": \"1.4.2\", \"serialization_format\": \"cloudpickle\", \"code\": null}}, \"model_uuid\": \"982e3a8c13734ff58f0ff20b1f759967\", \"mlflow_version\": \"2.14.3\", \"signature\": {\"inputs\": \"[{\\\"type\\\": \\\"datetime\\\", \\\"name\\\": \\\"dteday\\\", \\\"required\\\": true}, {\\\"type\\\": \\\"integer\\\", \\\"name\\\": \\\"season\\\", \\\"required\\\": true}, {\\\"type\\\": \\\"integer\\\", \\\"name\\\": \\\"yr\\\", \\\"required\\\": true}, {\\\"type\\\": \\\"integer\\\", \\\"name\\\": \\\"mnth\\\", \\\"required\\\": true}, {\\\"type\\\": \\\"integer\\\", \\\"name\\\": \\\"hr\\\", \\\"required\\\": true}, {\\\"type\\\": \\\"boolean\\\", \\\"name\\\": \\\"holiday\\\", \\\"required\\\": true}, {\\\"type\\\": \\\"integer\\\", \\\"name\\\": \\\"weekday\\\", \\\"required\\\": true}, {\\\"type\\\": \\\"boolean\\\", \\\"name\\\": \\\"workingday\\\", \\\"required\\\": true}, {\\\"type\\\": \\\"integer\\\", \\\"name\\\": \\\"weathersit\\\", \\\"required\\\": true}, {\\\"type\\\": \\\"float\\\", \\\"name\\\": \\\"temp\\\", \\\"required\\\": true}, {\\\"type\\\": \\\"float\\\", \\\"name\\\": \\\"atemp\\\", \\\"required\\\": true}, {\\\"type\\\": \\\"float\\\", \\\"name\\\": \\\"hum\\\", \\\"required\\\": true}, {\\\"type\\\": \\\"float\\\", \\\"name\\\": \\\"windspeed\\\", \\\"required\\\": true}, {\\\"type\\\": \\\"long\\\", \\\"name\\\": \\\"casual\\\", \\\"required\\\": true}, {\\\"type\\\": \\\"long\\\", \\\"name\\\": \\\"registered\\\", \\\"required\\\": true}]\", \"outputs\": \"[{\\\"type\\\": \\\"long\\\", \\\"name\\\": \\\"prediction\\\", \\\"required\\\": true}]\", \"params\": null}, \"saved_input_example_info\": {\"artifact_path\": \"input_example.json\", \"type\": \"dataframe\", \"pandas_orient\": \"split\"}, \"model_size_bytes\": 3713919}]",
           null,
           null
          ],
          [
           "file:///home/fmind/mlops-python-package/mlruns/562757566260573932/d0e46ae61af6441b856375a09e30594e/artifacts",
           "2024-07-20T12:53:12.588000",
           "562757566260573932",
           "active",
           "d0e46ae61af6441b856375a09e30594e",
           "EXPLANATIONS",
           "d0e46ae61af6441b856375a09e30594e",
           "FINISHED",
           "fmind",
           {},
           {
            "conf_file": "confs/explanations.yaml"
           },
           {
            "mlflow.gitRepoURL": "git@github.com:fmind/mlops-python-package",
            "mlflow.project.backend": "local",
            "mlflow.project.entryPoint": "main",
            "mlflow.project.env": "virtualenv",
            "mlflow.runName": "EXPLANATIONS",
            "mlflow.source.git.commit": "50ee7202afcbac4516be893b3c96c5434a5fd05b",
            "mlflow.source.git.repoURL": "git@github.com:fmind/mlops-python-package",
            "mlflow.source.name": "file:///home/fmind/mlops-python-package",
            "mlflow.source.type": "PROJECT",
            "mlflow.user": "fmind"
           },
           "fmind",
           "file:///home/fmind/mlops-python-package",
           "PROJECT",
           "main",
           "50ee7202afcbac4516be893b3c96c5434a5fd05b",
           "git@github.com:fmind/mlops-python-package",
           "git@github.com:fmind/mlops-python-package",
           "EXPLANATIONS",
           "virtualenv",
           "local",
           null,
           null,
           null,
           null,
           null,
           null
          ],
          [
           "file:///home/fmind/mlops-python-package/mlruns/562757566260573932/d54dd7a19b10422191be93d1cc53213a/artifacts",
           "2024-07-20T12:52:42.983000",
           "562757566260573932",
           "active",
           "d54dd7a19b10422191be93d1cc53213a",
           "EVALUATIONS",
           "d54dd7a19b10422191be93d1cc53213a",
           "FINISHED",
           "fmind",
           {
            "example_count": 13903,
            "max_error": 4294967295,
            "mean_absolute_error": 2044457567.3205063,
            "mean_absolute_percentage_error": 55189262.03890929,
            "mean_on_target": 174.63914263108683,
            "mean_squared_error": 296.66338200388407,
            "r2_score": 0.9893562621162568,
            "root_mean_squared_error": 17.223918892165166,
            "sum_on_target": 2428008
           },
           {
            "conf_file": "confs/evaluations.yaml"
           },
           {
            "mlflow.datasets": "[{\"name\":\"ce0fe6e33c74e2fa3659d51482be5f27\",\"hash\":\"ce0fe6e33c74e2fa3659d51482be5f27\",\"model\":\"d8305c29a5a54e0caed2ed9413d739d7\"}]",
            "mlflow.gitRepoURL": "git@github.com:fmind/mlops-python-package",
            "mlflow.project.backend": "local",
            "mlflow.project.entryPoint": "main",
            "mlflow.project.env": "virtualenv",
            "mlflow.runName": "EVALUATIONS",
            "mlflow.source.git.commit": "50ee7202afcbac4516be893b3c96c5434a5fd05b",
            "mlflow.source.git.repoURL": "git@github.com:fmind/mlops-python-package",
            "mlflow.source.name": "file:///home/fmind/mlops-python-package",
            "mlflow.source.type": "PROJECT",
            "mlflow.user": "fmind"
           },
           "fmind",
           "file:///home/fmind/mlops-python-package",
           "PROJECT",
           "main",
           "50ee7202afcbac4516be893b3c96c5434a5fd05b",
           "git@github.com:fmind/mlops-python-package",
           "git@github.com:fmind/mlops-python-package",
           "EVALUATIONS",
           "virtualenv",
           "local",
           "[{\"name\":\"ce0fe6e33c74e2fa3659d51482be5f27\",\"hash\":\"ce0fe6e33c74e2fa3659d51482be5f27\",\"model\":\"d8305c29a5a54e0caed2ed9413d739d7\"}]",
           null,
           null,
           null,
           null,
           null
          ],
          [
           "file:///home/fmind/mlops-python-package/mlruns/562757566260573932/7bd2297aa53b47a6b8bca64e9b4c4071/artifacts",
           "2024-07-20T12:52:38.115000",
           "562757566260573932",
           "active",
           "7bd2297aa53b47a6b8bca64e9b4c4071",
           "INFERENCE",
           "7bd2297aa53b47a6b8bca64e9b4c4071",
           "FINISHED",
           "fmind",
           {},
           {
            "conf_file": "confs/inference.yaml"
           },
           {
            "mlflow.gitRepoURL": "git@github.com:fmind/mlops-python-package",
            "mlflow.project.backend": "local",
            "mlflow.project.entryPoint": "main",
            "mlflow.project.env": "virtualenv",
            "mlflow.runName": "INFERENCE",
            "mlflow.source.git.commit": "50ee7202afcbac4516be893b3c96c5434a5fd05b",
            "mlflow.source.git.repoURL": "git@github.com:fmind/mlops-python-package",
            "mlflow.source.name": "file:///home/fmind/mlops-python-package",
            "mlflow.source.type": "PROJECT",
            "mlflow.user": "fmind"
           },
           "fmind",
           "file:///home/fmind/mlops-python-package",
           "PROJECT",
           "main",
           "50ee7202afcbac4516be893b3c96c5434a5fd05b",
           "git@github.com:fmind/mlops-python-package",
           "git@github.com:fmind/mlops-python-package",
           "INFERENCE",
           "virtualenv",
           "local",
           null,
           null,
           null,
           null,
           null,
           null
          ],
          [
           "file:///home/fmind/mlops-python-package/mlruns/562757566260573932/87d4d36b5b034e538dff16e40e80a5d9/artifacts",
           "2024-07-20T12:52:33.932000",
           "562757566260573932",
           "active",
           "87d4d36b5b034e538dff16e40e80a5d9",
           "PROMOTION",
           "87d4d36b5b034e538dff16e40e80a5d9",
           "FINISHED",
           "fmind",
           {},
           {
            "conf_file": "confs/promotion.yaml"
           },
           {
            "mlflow.gitRepoURL": "git@github.com:fmind/mlops-python-package",
            "mlflow.project.backend": "local",
            "mlflow.project.entryPoint": "main",
            "mlflow.project.env": "virtualenv",
            "mlflow.runName": "PROMOTION",
            "mlflow.source.git.commit": "50ee7202afcbac4516be893b3c96c5434a5fd05b",
            "mlflow.source.git.repoURL": "git@github.com:fmind/mlops-python-package",
            "mlflow.source.name": "file:///home/fmind/mlops-python-package",
            "mlflow.source.type": "PROJECT",
            "mlflow.user": "fmind"
           },
           "fmind",
           "file:///home/fmind/mlops-python-package",
           "PROJECT",
           "main",
           "50ee7202afcbac4516be893b3c96c5434a5fd05b",
           "git@github.com:fmind/mlops-python-package",
           "git@github.com:fmind/mlops-python-package",
           "PROMOTION",
           "virtualenv",
           "local",
           null,
           null,
           null,
           null,
           null,
           null
          ],
          [
           "file:///home/fmind/mlops-python-package/mlruns/562757566260573932/b428ae1513a54e16a5bf3959cf3eeb8e/artifacts",
           "2024-07-20T12:52:30.318000",
           "562757566260573932",
           "active",
           "b428ae1513a54e16a5bf3959cf3eeb8e",
           "TRAINING",
           "b428ae1513a54e16a5bf3959cf3eeb8e",
           "FINISHED",
           "fmind",
           {
            "mean_squared_error": -1786.7527777777777,
            "system/cpu_utilization_percentage": 0,
            "system/disk_available_megabytes": 35065.7,
            "system/disk_usage_megabytes": 70918.1,
            "system/disk_usage_percentage": 66.9,
            "system/network_receive_megabytes": 0,
            "system/network_transmit_megabytes": 0,
            "system/system_memory_usage_megabytes": 3441.1,
            "system/system_memory_usage_percentage": 22.8,
            "training_mean_absolute_error": 6.8051192198812736,
            "training_mean_squared_error": 124.51054615575788,
            "training_r2_score": 0.9948851411922456,
            "training_root_mean_squared_error": 11.158429376742852,
            "training_score": 0.9948851411922456
           },
           {
            "conf_file": "confs/training.yaml",
            "memory": "None",
            "regressor": "RandomForestRegressor(max_depth=20, n_estimators=200, random_state=42)",
            "regressor__bootstrap": "True",
            "regressor__ccp_alpha": "0.0",
            "regressor__criterion": "squared_error",
            "regressor__max_depth": "20",
            "regressor__max_features": "1.0",
            "regressor__max_leaf_nodes": "None",
            "regressor__max_samples": "None",
            "regressor__min_impurity_decrease": "0.0",
            "regressor__min_samples_leaf": "1",
            "regressor__min_samples_split": "2",
            "regressor__min_weight_fraction_leaf": "0.0",
            "regressor__monotonic_cst": "None",
            "regressor__n_estimators": "200",
            "regressor__n_jobs": "None",
            "regressor__oob_score": "False",
            "regressor__random_state": "42",
            "regressor__verbose": "0",
            "regressor__warm_start": "False",
            "steps": "[('transformer', ColumnTransformer(transformers=[('categoricals',\n                                 OneHotEncoder(handle_unknown='ignore',\n                                               sparse_output=False),\n                                 ['season', 'weathersit']),\n                                ('numericals', 'passthrough',\n                                 ['yr', 'mnth', 'hr', 'holiday', 'weekday',\n                                  'workingday', 'temp', 'atemp', 'hum',\n                                  'windspeed', 'casual'])])), ('regressor', RandomForestRegressor(max_depth=20, n_estimators=200, random_state=42))]",
            "transformer": "ColumnTransformer(transformers=[('categoricals',\n                                 OneHotEncoder(handle_unknown='ignore',\n                                               sparse_output=False),\n                                 ['season', 'weathersit']),\n                                ('numericals', 'passthrough',\n                                 ['yr', 'mnth', 'hr', 'holiday', 'weekday',\n                                  'workingday', 'temp', 'atemp', 'hum',\n                                  'windspeed', 'casual'])])",
            "transformer__categoricals": "OneHotEncoder(handle_unknown='ignore', sparse_output=False)",
            "transformer__categoricals__categories": "auto",
            "transformer__categoricals__drop": "None",
            "transformer__categoricals__dtype": "<class 'numpy.float64'>",
            "transformer__categoricals__feature_name_combiner": "concat",
            "transformer__categoricals__handle_unknown": "ignore",
            "transformer__categoricals__max_categories": "None",
            "transformer__categoricals__min_frequency": "None",
            "transformer__categoricals__sparse_output": "False",
            "transformer__n_jobs": "None",
            "transformer__numericals": "passthrough",
            "transformer__remainder": "drop",
            "transformer__sparse_threshold": "0.3",
            "transformer__transformer_weights": "None",
            "transformer__transformers": "[('categoricals', OneHotEncoder(handle_unknown='ignore', sparse_output=False), ['season', 'weathersit']), ('numericals', 'passthrough', ['yr', 'mnth', 'hr', 'holiday', 'weekday', 'workingday', 'temp', 'atemp', 'hum', 'windspeed', 'casual'])]",
            "transformer__verbose": "False",
            "transformer__verbose_feature_names_out": "True",
            "verbose": "False"
           },
           {
            "estimator_class": "sklearn.pipeline.Pipeline",
            "estimator_name": "Pipeline",
            "mlflow.gitRepoURL": "git@github.com:fmind/mlops-python-package",
            "mlflow.log-model.history": "[{\"run_id\": \"b428ae1513a54e16a5bf3959cf3eeb8e\", \"artifact_path\": \"model\", \"utc_time_created\": \"2024-07-20 12:52:24.146985\", \"flavors\": {\"python_function\": {\"model_path\": \"model.pkl\", \"predict_fn\": \"predict\", \"loader_module\": \"mlflow.sklearn\", \"python_version\": \"3.12.4\", \"env\": {\"conda\": \"conda.yaml\", \"virtualenv\": \"python_env.yaml\"}}, \"sklearn\": {\"pickled_model\": \"model.pkl\", \"sklearn_version\": \"1.4.2\", \"serialization_format\": \"cloudpickle\", \"code\": null}}, \"model_uuid\": \"6bf30a1cf60945d5837e380b08b18783\", \"mlflow_version\": \"2.14.3\", \"signature\": {\"inputs\": \"[{\\\"type\\\": \\\"datetime\\\", \\\"name\\\": \\\"dteday\\\", \\\"required\\\": true}, {\\\"type\\\": \\\"integer\\\", \\\"name\\\": \\\"season\\\", \\\"required\\\": true}, {\\\"type\\\": \\\"integer\\\", \\\"name\\\": \\\"yr\\\", \\\"required\\\": true}, {\\\"type\\\": \\\"integer\\\", \\\"name\\\": \\\"mnth\\\", \\\"required\\\": true}, {\\\"type\\\": \\\"integer\\\", \\\"name\\\": \\\"hr\\\", \\\"required\\\": true}, {\\\"type\\\": \\\"boolean\\\", \\\"name\\\": \\\"holiday\\\", \\\"required\\\": true}, {\\\"type\\\": \\\"integer\\\", \\\"name\\\": \\\"weekday\\\", \\\"required\\\": true}, {\\\"type\\\": \\\"boolean\\\", \\\"name\\\": \\\"workingday\\\", \\\"required\\\": true}, {\\\"type\\\": \\\"integer\\\", \\\"name\\\": \\\"weathersit\\\", \\\"required\\\": true}, {\\\"type\\\": \\\"float\\\", \\\"name\\\": \\\"temp\\\", \\\"required\\\": true}, {\\\"type\\\": \\\"float\\\", \\\"name\\\": \\\"atemp\\\", \\\"required\\\": true}, {\\\"type\\\": \\\"float\\\", \\\"name\\\": \\\"hum\\\", \\\"required\\\": true}, {\\\"type\\\": \\\"float\\\", \\\"name\\\": \\\"windspeed\\\", \\\"required\\\": true}, {\\\"type\\\": \\\"long\\\", \\\"name\\\": \\\"casual\\\", \\\"required\\\": true}, {\\\"type\\\": \\\"long\\\", \\\"name\\\": \\\"registered\\\", \\\"required\\\": true}]\", \"outputs\": \"[{\\\"type\\\": \\\"tensor\\\", \\\"tensor-spec\\\": {\\\"dtype\\\": \\\"float64\\\", \\\"shape\\\": [-1]}}]\", \"params\": null}, \"saved_input_example_info\": {\"artifact_path\": \"input_example.json\", \"type\": \"dataframe\", \"pandas_orient\": \"split\"}, \"model_size_bytes\": 203898413}, {\"run_id\": \"b428ae1513a54e16a5bf3959cf3eeb8e\", \"artifact_path\": \"model\", \"utc_time_created\": \"2024-07-20 12:52:26.416323\", \"flavors\": {\"python_function\": {\"streamable\": false, \"cloudpickle_version\": \"3.0.0\", \"python_model\": \"python_model.pkl\", \"loader_module\": \"mlflow.pyfunc.model\", \"python_version\": \"3.12.4\", \"env\": {\"conda\": \"conda.yaml\", \"virtualenv\": \"python_env.yaml\"}, \"code\": null}}, \"model_uuid\": \"d8305c29a5a54e0caed2ed9413d739d7\", \"mlflow_version\": \"2.14.3\", \"signature\": {\"inputs\": \"[{\\\"type\\\": \\\"datetime\\\", \\\"name\\\": \\\"dteday\\\", \\\"required\\\": true}, {\\\"type\\\": \\\"integer\\\", \\\"name\\\": \\\"season\\\", \\\"required\\\": true}, {\\\"type\\\": \\\"integer\\\", \\\"name\\\": \\\"yr\\\", \\\"required\\\": true}, {\\\"type\\\": \\\"integer\\\", \\\"name\\\": \\\"mnth\\\", \\\"required\\\": true}, {\\\"type\\\": \\\"integer\\\", \\\"name\\\": \\\"hr\\\", \\\"required\\\": true}, {\\\"type\\\": \\\"boolean\\\", \\\"name\\\": \\\"holiday\\\", \\\"required\\\": true}, {\\\"type\\\": \\\"integer\\\", \\\"name\\\": \\\"weekday\\\", \\\"required\\\": true}, {\\\"type\\\": \\\"boolean\\\", \\\"name\\\": \\\"workingday\\\", \\\"required\\\": true}, {\\\"type\\\": \\\"integer\\\", \\\"name\\\": \\\"weathersit\\\", \\\"required\\\": true}, {\\\"type\\\": \\\"float\\\", \\\"name\\\": \\\"temp\\\", \\\"required\\\": true}, {\\\"type\\\": \\\"float\\\", \\\"name\\\": \\\"atemp\\\", \\\"required\\\": true}, {\\\"type\\\": \\\"float\\\", \\\"name\\\": \\\"hum\\\", \\\"required\\\": true}, {\\\"type\\\": \\\"float\\\", \\\"name\\\": \\\"windspeed\\\", \\\"required\\\": true}, {\\\"type\\\": \\\"long\\\", \\\"name\\\": \\\"casual\\\", \\\"required\\\": true}, {\\\"type\\\": \\\"long\\\", \\\"name\\\": \\\"registered\\\", \\\"required\\\": true}]\", \"outputs\": \"[{\\\"type\\\": \\\"long\\\", \\\"name\\\": \\\"prediction\\\", \\\"required\\\": true}]\", \"params\": null}, \"saved_input_example_info\": {\"artifact_path\": \"input_example.json\", \"type\": \"dataframe\", \"pandas_orient\": \"split\"}, \"model_size_bytes\": 205599260}]",
            "mlflow.project.backend": "local",
            "mlflow.project.entryPoint": "main",
            "mlflow.project.env": "virtualenv",
            "mlflow.runName": "TRAINING",
            "mlflow.source.git.commit": "50ee7202afcbac4516be893b3c96c5434a5fd05b",
            "mlflow.source.git.repoURL": "git@github.com:fmind/mlops-python-package",
            "mlflow.source.name": "file:///home/fmind/mlops-python-package",
            "mlflow.source.type": "PROJECT",
            "mlflow.user": "fmind"
           },
           "fmind",
           "file:///home/fmind/mlops-python-package",
           "PROJECT",
           "main",
           "50ee7202afcbac4516be893b3c96c5434a5fd05b",
           "git@github.com:fmind/mlops-python-package",
           "git@github.com:fmind/mlops-python-package",
           "TRAINING",
           "virtualenv",
           "local",
           null,
           "Pipeline",
           "sklearn.pipeline.Pipeline",
           "[{\"run_id\": \"b428ae1513a54e16a5bf3959cf3eeb8e\", \"artifact_path\": \"model\", \"utc_time_created\": \"2024-07-20 12:52:24.146985\", \"flavors\": {\"python_function\": {\"model_path\": \"model.pkl\", \"predict_fn\": \"predict\", \"loader_module\": \"mlflow.sklearn\", \"python_version\": \"3.12.4\", \"env\": {\"conda\": \"conda.yaml\", \"virtualenv\": \"python_env.yaml\"}}, \"sklearn\": {\"pickled_model\": \"model.pkl\", \"sklearn_version\": \"1.4.2\", \"serialization_format\": \"cloudpickle\", \"code\": null}}, \"model_uuid\": \"6bf30a1cf60945d5837e380b08b18783\", \"mlflow_version\": \"2.14.3\", \"signature\": {\"inputs\": \"[{\\\"type\\\": \\\"datetime\\\", \\\"name\\\": \\\"dteday\\\", \\\"required\\\": true}, {\\\"type\\\": \\\"integer\\\", \\\"name\\\": \\\"season\\\", \\\"required\\\": true}, {\\\"type\\\": \\\"integer\\\", \\\"name\\\": \\\"yr\\\", \\\"required\\\": true}, {\\\"type\\\": \\\"integer\\\", \\\"name\\\": \\\"mnth\\\", \\\"required\\\": true}, {\\\"type\\\": \\\"integer\\\", \\\"name\\\": \\\"hr\\\", \\\"required\\\": true}, {\\\"type\\\": \\\"boolean\\\", \\\"name\\\": \\\"holiday\\\", \\\"required\\\": true}, {\\\"type\\\": \\\"integer\\\", \\\"name\\\": \\\"weekday\\\", \\\"required\\\": true}, {\\\"type\\\": \\\"boolean\\\", \\\"name\\\": \\\"workingday\\\", \\\"required\\\": true}, {\\\"type\\\": \\\"integer\\\", \\\"name\\\": \\\"weathersit\\\", \\\"required\\\": true}, {\\\"type\\\": \\\"float\\\", \\\"name\\\": \\\"temp\\\", \\\"required\\\": true}, {\\\"type\\\": \\\"float\\\", \\\"name\\\": \\\"atemp\\\", \\\"required\\\": true}, {\\\"type\\\": \\\"float\\\", \\\"name\\\": \\\"hum\\\", \\\"required\\\": true}, {\\\"type\\\": \\\"float\\\", \\\"name\\\": \\\"windspeed\\\", \\\"required\\\": true}, {\\\"type\\\": \\\"long\\\", \\\"name\\\": \\\"casual\\\", \\\"required\\\": true}, {\\\"type\\\": \\\"long\\\", \\\"name\\\": \\\"registered\\\", \\\"required\\\": true}]\", \"outputs\": \"[{\\\"type\\\": \\\"tensor\\\", \\\"tensor-spec\\\": {\\\"dtype\\\": \\\"float64\\\", \\\"shape\\\": [-1]}}]\", \"params\": null}, \"saved_input_example_info\": {\"artifact_path\": \"input_example.json\", \"type\": \"dataframe\", \"pandas_orient\": \"split\"}, \"model_size_bytes\": 203898413}, {\"run_id\": \"b428ae1513a54e16a5bf3959cf3eeb8e\", \"artifact_path\": \"model\", \"utc_time_created\": \"2024-07-20 12:52:26.416323\", \"flavors\": {\"python_function\": {\"streamable\": false, \"cloudpickle_version\": \"3.0.0\", \"python_model\": \"python_model.pkl\", \"loader_module\": \"mlflow.pyfunc.model\", \"python_version\": \"3.12.4\", \"env\": {\"conda\": \"conda.yaml\", \"virtualenv\": \"python_env.yaml\"}, \"code\": null}}, \"model_uuid\": \"d8305c29a5a54e0caed2ed9413d739d7\", \"mlflow_version\": \"2.14.3\", \"signature\": {\"inputs\": \"[{\\\"type\\\": \\\"datetime\\\", \\\"name\\\": \\\"dteday\\\", \\\"required\\\": true}, {\\\"type\\\": \\\"integer\\\", \\\"name\\\": \\\"season\\\", \\\"required\\\": true}, {\\\"type\\\": \\\"integer\\\", \\\"name\\\": \\\"yr\\\", \\\"required\\\": true}, {\\\"type\\\": \\\"integer\\\", \\\"name\\\": \\\"mnth\\\", \\\"required\\\": true}, {\\\"type\\\": \\\"integer\\\", \\\"name\\\": \\\"hr\\\", \\\"required\\\": true}, {\\\"type\\\": \\\"boolean\\\", \\\"name\\\": \\\"holiday\\\", \\\"required\\\": true}, {\\\"type\\\": \\\"integer\\\", \\\"name\\\": \\\"weekday\\\", \\\"required\\\": true}, {\\\"type\\\": \\\"boolean\\\", \\\"name\\\": \\\"workingday\\\", \\\"required\\\": true}, {\\\"type\\\": \\\"integer\\\", \\\"name\\\": \\\"weathersit\\\", \\\"required\\\": true}, {\\\"type\\\": \\\"float\\\", \\\"name\\\": \\\"temp\\\", \\\"required\\\": true}, {\\\"type\\\": \\\"float\\\", \\\"name\\\": \\\"atemp\\\", \\\"required\\\": true}, {\\\"type\\\": \\\"float\\\", \\\"name\\\": \\\"hum\\\", \\\"required\\\": true}, {\\\"type\\\": \\\"float\\\", \\\"name\\\": \\\"windspeed\\\", \\\"required\\\": true}, {\\\"type\\\": \\\"long\\\", \\\"name\\\": \\\"casual\\\", \\\"required\\\": true}, {\\\"type\\\": \\\"long\\\", \\\"name\\\": \\\"registered\\\", \\\"required\\\": true}]\", \"outputs\": \"[{\\\"type\\\": \\\"long\\\", \\\"name\\\": \\\"prediction\\\", \\\"required\\\": true}]\", \"params\": null}, \"saved_input_example_info\": {\"artifact_path\": \"input_example.json\", \"type\": \"dataframe\", \"pandas_orient\": \"split\"}, \"model_size_bytes\": 205599260}]",
           null,
           null
          ],
          [
           "file:///home/fmind/mlops-python-package/mlruns/562757566260573932/515ecd02027a4f19a43b586a0e19b221/artifacts",
           "2024-07-20T12:52:12.773000",
           "562757566260573932",
           "active",
           "515ecd02027a4f19a43b586a0e19b221",
           "TUNING",
           "515ecd02027a4f19a43b586a0e19b221",
           "FINISHED",
           "fmind",
           {
            "best_cv_score": -5517.252604166667,
            "system/cpu_utilization_percentage": 6.5,
            "system/disk_available_megabytes": 35065.7,
            "system/disk_usage_megabytes": 70918.1,
            "system/disk_usage_percentage": 66.9,
            "system/network_receive_megabytes": 0.007126000000027943,
            "system/network_transmit_megabytes": 0.007125999999999522,
            "system/system_memory_usage_megabytes": 3465.2,
            "system/system_memory_usage_percentage": 23,
            "training_score": -1951.0630079838884
           },
           {
            "best_max_depth": "7",
            "conf_file": "confs/tuning.yaml",
            "cv": "KIND='TimeSeriesSplitter' gap=0 n_splits=4 test_size=1440",
            "error_score": "raise",
            "estimator": "KIND='BaselineSklearnModel' max_depth=20 n_estimators=200 random_state=42",
            "n_jobs": "None",
            "param_grid": "{'max_depth': [3, 5, 7]}",
            "pre_dispatch": "2*n_jobs",
            "refit": "True",
            "return_train_score": "False",
            "scoring": "<bound method Metric.scorer of SklearnMetric(KIND='SklearnMetric', name='mean_squared_error', greater_is_better=False)>",
            "verbose": "3"
           },
           {
            "estimator_class": "sklearn.model_selection._search.GridSearchCV",
            "estimator_name": "GridSearchCV",
            "mlflow.gitRepoURL": "git@github.com:fmind/mlops-python-package",
            "mlflow.log-model.history": "[{\"run_id\": \"515ecd02027a4f19a43b586a0e19b221\", \"artifact_path\": \"model\", \"utc_time_created\": \"2024-07-20 12:52:07.924106\", \"flavors\": {\"python_function\": {\"model_path\": \"model.pkl\", \"predict_fn\": \"predict\", \"loader_module\": \"mlflow.sklearn\", \"python_version\": \"3.12.4\", \"env\": {\"conda\": \"conda.yaml\", \"virtualenv\": \"python_env.yaml\"}}, \"sklearn\": {\"pickled_model\": \"model.pkl\", \"sklearn_version\": \"1.4.2\", \"serialization_format\": \"cloudpickle\", \"code\": null}}, \"model_uuid\": \"de91989dcdc246068666a87d36e3287b\", \"mlflow_version\": \"2.14.3\", \"signature\": {\"inputs\": \"[{\\\"type\\\": \\\"datetime\\\", \\\"name\\\": \\\"dteday\\\", \\\"required\\\": true}, {\\\"type\\\": \\\"integer\\\", \\\"name\\\": \\\"season\\\", \\\"required\\\": true}, {\\\"type\\\": \\\"integer\\\", \\\"name\\\": \\\"yr\\\", \\\"required\\\": true}, {\\\"type\\\": \\\"integer\\\", \\\"name\\\": \\\"mnth\\\", \\\"required\\\": true}, {\\\"type\\\": \\\"integer\\\", \\\"name\\\": \\\"hr\\\", \\\"required\\\": true}, {\\\"type\\\": \\\"boolean\\\", \\\"name\\\": \\\"holiday\\\", \\\"required\\\": true}, {\\\"type\\\": \\\"integer\\\", \\\"name\\\": \\\"weekday\\\", \\\"required\\\": true}, {\\\"type\\\": \\\"boolean\\\", \\\"name\\\": \\\"workingday\\\", \\\"required\\\": true}, {\\\"type\\\": \\\"integer\\\", \\\"name\\\": \\\"weathersit\\\", \\\"required\\\": true}, {\\\"type\\\": \\\"float\\\", \\\"name\\\": \\\"temp\\\", \\\"required\\\": true}, {\\\"type\\\": \\\"float\\\", \\\"name\\\": \\\"atemp\\\", \\\"required\\\": true}, {\\\"type\\\": \\\"float\\\", \\\"name\\\": \\\"hum\\\", \\\"required\\\": true}, {\\\"type\\\": \\\"float\\\", \\\"name\\\": \\\"windspeed\\\", \\\"required\\\": true}, {\\\"type\\\": \\\"long\\\", \\\"name\\\": \\\"casual\\\", \\\"required\\\": true}, {\\\"type\\\": \\\"long\\\", \\\"name\\\": \\\"registered\\\", \\\"required\\\": true}]\", \"outputs\": \"[{\\\"type\\\": \\\"long\\\", \\\"name\\\": \\\"prediction\\\", \\\"required\\\": true}]\", \"params\": null}, \"saved_input_example_info\": {\"artifact_path\": \"input_example.json\", \"type\": \"dataframe\", \"pandas_orient\": \"split\"}, \"model_size_bytes\": 3726525}, {\"run_id\": \"515ecd02027a4f19a43b586a0e19b221\", \"artifact_path\": \"best_estimator\", \"utc_time_created\": \"2024-07-20 12:52:10.363319\", \"flavors\": {\"python_function\": {\"model_path\": \"model.pkl\", \"predict_fn\": \"predict\", \"loader_module\": \"mlflow.sklearn\", \"python_version\": \"3.12.4\", \"env\": {\"conda\": \"conda.yaml\", \"virtualenv\": \"python_env.yaml\"}}, \"sklearn\": {\"pickled_model\": \"model.pkl\", \"sklearn_version\": \"1.4.2\", \"serialization_format\": \"cloudpickle\", \"code\": null}}, \"model_uuid\": \"8f4374171a1347dd88c01b46e4196a8a\", \"mlflow_version\": \"2.14.3\", \"signature\": {\"inputs\": \"[{\\\"type\\\": \\\"datetime\\\", \\\"name\\\": \\\"dteday\\\", \\\"required\\\": true}, {\\\"type\\\": \\\"integer\\\", \\\"name\\\": \\\"season\\\", \\\"required\\\": true}, {\\\"type\\\": \\\"integer\\\", \\\"name\\\": \\\"yr\\\", \\\"required\\\": true}, {\\\"type\\\": \\\"integer\\\", \\\"name\\\": \\\"mnth\\\", \\\"required\\\": true}, {\\\"type\\\": \\\"integer\\\", \\\"name\\\": \\\"hr\\\", \\\"required\\\": true}, {\\\"type\\\": \\\"boolean\\\", \\\"name\\\": \\\"holiday\\\", \\\"required\\\": true}, {\\\"type\\\": \\\"integer\\\", \\\"name\\\": \\\"weekday\\\", \\\"required\\\": true}, {\\\"type\\\": \\\"boolean\\\", \\\"name\\\": \\\"workingday\\\", \\\"required\\\": true}, {\\\"type\\\": \\\"integer\\\", \\\"name\\\": \\\"weathersit\\\", \\\"required\\\": true}, {\\\"type\\\": \\\"float\\\", \\\"name\\\": \\\"temp\\\", \\\"required\\\": true}, {\\\"type\\\": \\\"float\\\", \\\"name\\\": \\\"atemp\\\", \\\"required\\\": true}, {\\\"type\\\": \\\"float\\\", \\\"name\\\": \\\"hum\\\", \\\"required\\\": true}, {\\\"type\\\": \\\"float\\\", \\\"name\\\": \\\"windspeed\\\", \\\"required\\\": true}, {\\\"type\\\": \\\"long\\\", \\\"name\\\": \\\"casual\\\", \\\"required\\\": true}, {\\\"type\\\": \\\"long\\\", \\\"name\\\": \\\"registered\\\", \\\"required\\\": true}]\", \"outputs\": \"[{\\\"type\\\": \\\"long\\\", \\\"name\\\": \\\"prediction\\\", \\\"required\\\": true}]\", \"params\": null}, \"saved_input_example_info\": {\"artifact_path\": \"input_example.json\", \"type\": \"dataframe\", \"pandas_orient\": \"split\"}, \"model_size_bytes\": 3713919}]",
            "mlflow.project.backend": "local",
            "mlflow.project.entryPoint": "main",
            "mlflow.project.env": "virtualenv",
            "mlflow.runName": "TUNING",
            "mlflow.source.git.commit": "50ee7202afcbac4516be893b3c96c5434a5fd05b",
            "mlflow.source.git.repoURL": "git@github.com:fmind/mlops-python-package",
            "mlflow.source.name": "file:///home/fmind/mlops-python-package",
            "mlflow.source.type": "PROJECT",
            "mlflow.user": "fmind"
           },
           "fmind",
           "file:///home/fmind/mlops-python-package",
           "PROJECT",
           "main",
           "50ee7202afcbac4516be893b3c96c5434a5fd05b",
           "git@github.com:fmind/mlops-python-package",
           "git@github.com:fmind/mlops-python-package",
           "TUNING",
           "virtualenv",
           "local",
           null,
           "GridSearchCV",
           "sklearn.model_selection._search.GridSearchCV",
           "[{\"run_id\": \"515ecd02027a4f19a43b586a0e19b221\", \"artifact_path\": \"model\", \"utc_time_created\": \"2024-07-20 12:52:07.924106\", \"flavors\": {\"python_function\": {\"model_path\": \"model.pkl\", \"predict_fn\": \"predict\", \"loader_module\": \"mlflow.sklearn\", \"python_version\": \"3.12.4\", \"env\": {\"conda\": \"conda.yaml\", \"virtualenv\": \"python_env.yaml\"}}, \"sklearn\": {\"pickled_model\": \"model.pkl\", \"sklearn_version\": \"1.4.2\", \"serialization_format\": \"cloudpickle\", \"code\": null}}, \"model_uuid\": \"de91989dcdc246068666a87d36e3287b\", \"mlflow_version\": \"2.14.3\", \"signature\": {\"inputs\": \"[{\\\"type\\\": \\\"datetime\\\", \\\"name\\\": \\\"dteday\\\", \\\"required\\\": true}, {\\\"type\\\": \\\"integer\\\", \\\"name\\\": \\\"season\\\", \\\"required\\\": true}, {\\\"type\\\": \\\"integer\\\", \\\"name\\\": \\\"yr\\\", \\\"required\\\": true}, {\\\"type\\\": \\\"integer\\\", \\\"name\\\": \\\"mnth\\\", \\\"required\\\": true}, {\\\"type\\\": \\\"integer\\\", \\\"name\\\": \\\"hr\\\", \\\"required\\\": true}, {\\\"type\\\": \\\"boolean\\\", \\\"name\\\": \\\"holiday\\\", \\\"required\\\": true}, {\\\"type\\\": \\\"integer\\\", \\\"name\\\": \\\"weekday\\\", \\\"required\\\": true}, {\\\"type\\\": \\\"boolean\\\", \\\"name\\\": \\\"workingday\\\", \\\"required\\\": true}, {\\\"type\\\": \\\"integer\\\", \\\"name\\\": \\\"weathersit\\\", \\\"required\\\": true}, {\\\"type\\\": \\\"float\\\", \\\"name\\\": \\\"temp\\\", \\\"required\\\": true}, {\\\"type\\\": \\\"float\\\", \\\"name\\\": \\\"atemp\\\", \\\"required\\\": true}, {\\\"type\\\": \\\"float\\\", \\\"name\\\": \\\"hum\\\", \\\"required\\\": true}, {\\\"type\\\": \\\"float\\\", \\\"name\\\": \\\"windspeed\\\", \\\"required\\\": true}, {\\\"type\\\": \\\"long\\\", \\\"name\\\": \\\"casual\\\", \\\"required\\\": true}, {\\\"type\\\": \\\"long\\\", \\\"name\\\": \\\"registered\\\", \\\"required\\\": true}]\", \"outputs\": \"[{\\\"type\\\": \\\"long\\\", \\\"name\\\": \\\"prediction\\\", \\\"required\\\": true}]\", \"params\": null}, \"saved_input_example_info\": {\"artifact_path\": \"input_example.json\", \"type\": \"dataframe\", \"pandas_orient\": \"split\"}, \"model_size_bytes\": 3726525}, {\"run_id\": \"515ecd02027a4f19a43b586a0e19b221\", \"artifact_path\": \"best_estimator\", \"utc_time_created\": \"2024-07-20 12:52:10.363319\", \"flavors\": {\"python_function\": {\"model_path\": \"model.pkl\", \"predict_fn\": \"predict\", \"loader_module\": \"mlflow.sklearn\", \"python_version\": \"3.12.4\", \"env\": {\"conda\": \"conda.yaml\", \"virtualenv\": \"python_env.yaml\"}}, \"sklearn\": {\"pickled_model\": \"model.pkl\", \"sklearn_version\": \"1.4.2\", \"serialization_format\": \"cloudpickle\", \"code\": null}}, \"model_uuid\": \"8f4374171a1347dd88c01b46e4196a8a\", \"mlflow_version\": \"2.14.3\", \"signature\": {\"inputs\": \"[{\\\"type\\\": \\\"datetime\\\", \\\"name\\\": \\\"dteday\\\", \\\"required\\\": true}, {\\\"type\\\": \\\"integer\\\", \\\"name\\\": \\\"season\\\", \\\"required\\\": true}, {\\\"type\\\": \\\"integer\\\", \\\"name\\\": \\\"yr\\\", \\\"required\\\": true}, {\\\"type\\\": \\\"integer\\\", \\\"name\\\": \\\"mnth\\\", \\\"required\\\": true}, {\\\"type\\\": \\\"integer\\\", \\\"name\\\": \\\"hr\\\", \\\"required\\\": true}, {\\\"type\\\": \\\"boolean\\\", \\\"name\\\": \\\"holiday\\\", \\\"required\\\": true}, {\\\"type\\\": \\\"integer\\\", \\\"name\\\": \\\"weekday\\\", \\\"required\\\": true}, {\\\"type\\\": \\\"boolean\\\", \\\"name\\\": \\\"workingday\\\", \\\"required\\\": true}, {\\\"type\\\": \\\"integer\\\", \\\"name\\\": \\\"weathersit\\\", \\\"required\\\": true}, {\\\"type\\\": \\\"float\\\", \\\"name\\\": \\\"temp\\\", \\\"required\\\": true}, {\\\"type\\\": \\\"float\\\", \\\"name\\\": \\\"atemp\\\", \\\"required\\\": true}, {\\\"type\\\": \\\"float\\\", \\\"name\\\": \\\"hum\\\", \\\"required\\\": true}, {\\\"type\\\": \\\"float\\\", \\\"name\\\": \\\"windspeed\\\", \\\"required\\\": true}, {\\\"type\\\": \\\"long\\\", \\\"name\\\": \\\"casual\\\", \\\"required\\\": true}, {\\\"type\\\": \\\"long\\\", \\\"name\\\": \\\"registered\\\", \\\"required\\\": true}]\", \"outputs\": \"[{\\\"type\\\": \\\"long\\\", \\\"name\\\": \\\"prediction\\\", \\\"required\\\": true}]\", \"params\": null}, \"saved_input_example_info\": {\"artifact_path\": \"input_example.json\", \"type\": \"dataframe\", \"pandas_orient\": \"split\"}, \"model_size_bytes\": 3713919}]",
           null,
           null
          ],
          [
           "file:///home/fmind/mlops-python-package/mlruns/562757566260573932/5f28aabdcccc494491f27e3700ee75dd/artifacts",
           "2024-07-20T12:52:12.230000",
           "562757566260573932",
           "active",
           "5f28aabdcccc494491f27e3700ee75dd",
           "treasured-shrimp-728",
           "5f28aabdcccc494491f27e3700ee75dd",
           "FINISHED",
           "fmind",
           {
            "mean_fit_time": 0.9817702770233154,
            "mean_score_time": 0.03579825162887573,
            "mean_test_score": -16644.957118055558,
            "rank_test_score": 3,
            "std_fit_time": 0.15158578334750608,
            "std_score_time": 0.006110784505381323,
            "std_test_score": 5315.459715152708
           },
           {
            "max_depth": "3",
            "n_estimators": "200",
            "random_state": "42"
           },
           {
            "estimator_class": "bikes.core.models.BaselineSklearnModel",
            "estimator_name": "BaselineSklearnModel",
            "mlflow.autologging": "sklearn",
            "mlflow.parentRunId": "515ecd02027a4f19a43b586a0e19b221",
            "mlflow.runName": "treasured-shrimp-728",
            "mlflow.source.git.commit": "50ee7202afcbac4516be893b3c96c5434a5fd05b",
            "mlflow.source.name": "/home/fmind/mlops-python-package/src/bikes/__main__.py",
            "mlflow.source.type": "LOCAL",
            "mlflow.user": "fmind"
           },
           "fmind",
           "/home/fmind/mlops-python-package/src/bikes/__main__.py",
           "LOCAL",
           null,
           "50ee7202afcbac4516be893b3c96c5434a5fd05b",
           null,
           null,
           "treasured-shrimp-728",
           null,
           null,
           null,
           "BaselineSklearnModel",
           "bikes.core.models.BaselineSklearnModel",
           null,
           "sklearn",
           "515ecd02027a4f19a43b586a0e19b221"
          ],
          [
           "file:///home/fmind/mlops-python-package/mlruns/562757566260573932/81386b0b3ac842e4a995576f092bbac5/artifacts",
           "2024-07-20T12:52:12.230000",
           "562757566260573932",
           "active",
           "81386b0b3ac842e4a995576f092bbac5",
           "angry-cub-96",
           "81386b0b3ac842e4a995576f092bbac5",
           "FINISHED",
           "fmind",
           {
            "mean_fit_time": 1.510183572769165,
            "mean_score_time": 0.03509628772735596,
            "mean_test_score": -8287.860416666666,
            "rank_test_score": 2,
            "std_fit_time": 0.23992070497194215,
            "std_score_time": 0.0011799521253510422,
            "std_test_score": 1045.7595024691313
           },
           {
            "max_depth": "5",
            "n_estimators": "200",
            "random_state": "42"
           },
           {
            "estimator_class": "bikes.core.models.BaselineSklearnModel",
            "estimator_name": "BaselineSklearnModel",
            "mlflow.autologging": "sklearn",
            "mlflow.parentRunId": "515ecd02027a4f19a43b586a0e19b221",
            "mlflow.runName": "angry-cub-96",
            "mlflow.source.git.commit": "50ee7202afcbac4516be893b3c96c5434a5fd05b",
            "mlflow.source.name": "/home/fmind/mlops-python-package/src/bikes/__main__.py",
            "mlflow.source.type": "LOCAL",
            "mlflow.user": "fmind"
           },
           "fmind",
           "/home/fmind/mlops-python-package/src/bikes/__main__.py",
           "LOCAL",
           null,
           "50ee7202afcbac4516be893b3c96c5434a5fd05b",
           null,
           null,
           "angry-cub-96",
           null,
           null,
           null,
           "BaselineSklearnModel",
           "bikes.core.models.BaselineSklearnModel",
           null,
           "sklearn",
           "515ecd02027a4f19a43b586a0e19b221"
          ],
          [
           "file:///home/fmind/mlops-python-package/mlruns/562757566260573932/a69515beaf3047b5816de516de1ecb83/artifacts",
           "2024-07-20T12:52:12.230000",
           "562757566260573932",
           "active",
           "a69515beaf3047b5816de516de1ecb83",
           "adaptable-gull-964",
           "a69515beaf3047b5816de516de1ecb83",
           "FINISHED",
           "fmind",
           {
            "mean_fit_time": 2.1361553072929382,
            "mean_score_time": 0.039887070655822754,
            "mean_test_score": -5517.252604166667,
            "rank_test_score": 1,
            "std_fit_time": 0.3223141495079878,
            "std_score_time": 0.0009398759994274763,
            "std_test_score": 1613.520146542553
           },
           {
            "max_depth": "7",
            "n_estimators": "200",
            "random_state": "42"
           },
           {
            "estimator_class": "bikes.core.models.BaselineSklearnModel",
            "estimator_name": "BaselineSklearnModel",
            "mlflow.autologging": "sklearn",
            "mlflow.parentRunId": "515ecd02027a4f19a43b586a0e19b221",
            "mlflow.runName": "adaptable-gull-964",
            "mlflow.source.git.commit": "50ee7202afcbac4516be893b3c96c5434a5fd05b",
            "mlflow.source.name": "/home/fmind/mlops-python-package/src/bikes/__main__.py",
            "mlflow.source.type": "LOCAL",
            "mlflow.user": "fmind"
           },
           "fmind",
           "/home/fmind/mlops-python-package/src/bikes/__main__.py",
           "LOCAL",
           null,
           "50ee7202afcbac4516be893b3c96c5434a5fd05b",
           null,
           null,
           "adaptable-gull-964",
           null,
           null,
           null,
           "BaselineSklearnModel",
           "bikes.core.models.BaselineSklearnModel",
           null,
           "sklearn",
           "515ecd02027a4f19a43b586a0e19b221"
          ],
          [
           "file:///home/fmind/mlops-python-package/mlruns/562757566260573932/f07658777ac84b83a238ab67713e31b2/artifacts",
           "2024-07-20T12:47:10.242000",
           "562757566260573932",
           "active",
           "f07658777ac84b83a238ab67713e31b2",
           "explanations",
           "f07658777ac84b83a238ab67713e31b2",
           "FINISHED",
           "fmind",
           {},
           {
            "conf_file": "confs/explanations.yaml"
           },
           {
            "mlflow.gitRepoURL": "git@github.com:fmind/mlops-python-package",
            "mlflow.project.backend": "local",
            "mlflow.project.entryPoint": "main",
            "mlflow.project.env": "virtualenv",
            "mlflow.runName": "explanations",
            "mlflow.source.git.commit": "50ee7202afcbac4516be893b3c96c5434a5fd05b",
            "mlflow.source.git.repoURL": "git@github.com:fmind/mlops-python-package",
            "mlflow.source.name": "file:///home/fmind/mlops-python-package",
            "mlflow.source.type": "PROJECT",
            "mlflow.user": "fmind"
           },
           "fmind",
           "file:///home/fmind/mlops-python-package",
           "PROJECT",
           "main",
           "50ee7202afcbac4516be893b3c96c5434a5fd05b",
           "git@github.com:fmind/mlops-python-package",
           "git@github.com:fmind/mlops-python-package",
           "explanations",
           "virtualenv",
           "local",
           null,
           null,
           null,
           null,
           null,
           null
          ],
          [
           "file:///home/fmind/mlops-python-package/mlruns/562757566260573932/b8e7d22143cd4330a42af7d4896549ad/artifacts",
           "2024-07-20T12:46:40.437000",
           "562757566260573932",
           "active",
           "b8e7d22143cd4330a42af7d4896549ad",
           "evaluations",
           "b8e7d22143cd4330a42af7d4896549ad",
           "FINISHED",
           "fmind",
           {
            "example_count": 13903,
            "max_error": 4294967295,
            "mean_absolute_error": 2044457567.3205063,
            "mean_absolute_percentage_error": 55189262.03890929,
            "mean_on_target": 174.63914263108683,
            "mean_squared_error": 296.66338200388407,
            "r2_score": 0.9893562621162568,
            "root_mean_squared_error": 17.223918892165166,
            "sum_on_target": 2428008
           },
           {
            "conf_file": "confs/evaluations.yaml"
           },
           {
            "mlflow.datasets": "[{\"name\":\"ce0fe6e33c74e2fa3659d51482be5f27\",\"hash\":\"ce0fe6e33c74e2fa3659d51482be5f27\",\"model\":\"b64cc85729ce4b2abf7546f49640eacf\"}]",
            "mlflow.gitRepoURL": "git@github.com:fmind/mlops-python-package",
            "mlflow.project.backend": "local",
            "mlflow.project.entryPoint": "main",
            "mlflow.project.env": "virtualenv",
            "mlflow.runName": "evaluations",
            "mlflow.source.git.commit": "50ee7202afcbac4516be893b3c96c5434a5fd05b",
            "mlflow.source.git.repoURL": "git@github.com:fmind/mlops-python-package",
            "mlflow.source.name": "file:///home/fmind/mlops-python-package",
            "mlflow.source.type": "PROJECT",
            "mlflow.user": "fmind"
           },
           "fmind",
           "file:///home/fmind/mlops-python-package",
           "PROJECT",
           "main",
           "50ee7202afcbac4516be893b3c96c5434a5fd05b",
           "git@github.com:fmind/mlops-python-package",
           "git@github.com:fmind/mlops-python-package",
           "evaluations",
           "virtualenv",
           "local",
           "[{\"name\":\"ce0fe6e33c74e2fa3659d51482be5f27\",\"hash\":\"ce0fe6e33c74e2fa3659d51482be5f27\",\"model\":\"b64cc85729ce4b2abf7546f49640eacf\"}]",
           null,
           null,
           null,
           null,
           null
          ],
          [
           "file:///home/fmind/mlops-python-package/mlruns/562757566260573932/e130d952a9fa4865aac2928db108d233/artifacts",
           "2024-07-20T12:46:35.412000",
           "562757566260573932",
           "active",
           "e130d952a9fa4865aac2928db108d233",
           "inference",
           "e130d952a9fa4865aac2928db108d233",
           "FINISHED",
           "fmind",
           {},
           {
            "conf_file": "confs/inference.yaml"
           },
           {
            "mlflow.gitRepoURL": "git@github.com:fmind/mlops-python-package",
            "mlflow.project.backend": "local",
            "mlflow.project.entryPoint": "main",
            "mlflow.project.env": "virtualenv",
            "mlflow.runName": "inference",
            "mlflow.source.git.commit": "50ee7202afcbac4516be893b3c96c5434a5fd05b",
            "mlflow.source.git.repoURL": "git@github.com:fmind/mlops-python-package",
            "mlflow.source.name": "file:///home/fmind/mlops-python-package",
            "mlflow.source.type": "PROJECT",
            "mlflow.user": "fmind"
           },
           "fmind",
           "file:///home/fmind/mlops-python-package",
           "PROJECT",
           "main",
           "50ee7202afcbac4516be893b3c96c5434a5fd05b",
           "git@github.com:fmind/mlops-python-package",
           "git@github.com:fmind/mlops-python-package",
           "inference",
           "virtualenv",
           "local",
           null,
           null,
           null,
           null,
           null,
           null
          ],
          [
           "file:///home/fmind/mlops-python-package/mlruns/562757566260573932/0ab3086f66e84ac79ef14ec1a5680922/artifacts",
           "2024-07-20T12:46:31.253000",
           "562757566260573932",
           "active",
           "0ab3086f66e84ac79ef14ec1a5680922",
           "promotion",
           "0ab3086f66e84ac79ef14ec1a5680922",
           "FINISHED",
           "fmind",
           {},
           {
            "conf_file": "confs/promotion.yaml"
           },
           {
            "mlflow.gitRepoURL": "git@github.com:fmind/mlops-python-package",
            "mlflow.project.backend": "local",
            "mlflow.project.entryPoint": "main",
            "mlflow.project.env": "virtualenv",
            "mlflow.runName": "promotion",
            "mlflow.source.git.commit": "50ee7202afcbac4516be893b3c96c5434a5fd05b",
            "mlflow.source.git.repoURL": "git@github.com:fmind/mlops-python-package",
            "mlflow.source.name": "file:///home/fmind/mlops-python-package",
            "mlflow.source.type": "PROJECT",
            "mlflow.user": "fmind"
           },
           "fmind",
           "file:///home/fmind/mlops-python-package",
           "PROJECT",
           "main",
           "50ee7202afcbac4516be893b3c96c5434a5fd05b",
           "git@github.com:fmind/mlops-python-package",
           "git@github.com:fmind/mlops-python-package",
           "promotion",
           "virtualenv",
           "local",
           null,
           null,
           null,
           null,
           null,
           null
          ],
          [
           "file:///home/fmind/mlops-python-package/mlruns/562757566260573932/795eace5f76a4fe4af3754460b5e25e4/artifacts",
           "2024-07-20T12:46:27.543000",
           "562757566260573932",
           "active",
           "795eace5f76a4fe4af3754460b5e25e4",
           "training",
           "795eace5f76a4fe4af3754460b5e25e4",
           "FINISHED",
           "fmind",
           {
            "mean_squared_error": -1786.7527777777777,
            "system/cpu_utilization_percentage": 0,
            "system/disk_available_megabytes": 35587.9,
            "system/disk_usage_megabytes": 70394.1,
            "system/disk_usage_percentage": 66.4,
            "system/network_receive_megabytes": 0,
            "system/network_transmit_megabytes": 0,
            "system/system_memory_usage_megabytes": 9466.8,
            "system/system_memory_usage_percentage": 62.8,
            "training_mean_absolute_error": 6.8051192198812736,
            "training_mean_squared_error": 124.51054615575788,
            "training_r2_score": 0.9948851411922456,
            "training_root_mean_squared_error": 11.158429376742852,
            "training_score": 0.9948851411922456
           },
           {
            "conf_file": "confs/training.yaml",
            "memory": "None",
            "regressor": "RandomForestRegressor(max_depth=20, n_estimators=200, random_state=42)",
            "regressor__bootstrap": "True",
            "regressor__ccp_alpha": "0.0",
            "regressor__criterion": "squared_error",
            "regressor__max_depth": "20",
            "regressor__max_features": "1.0",
            "regressor__max_leaf_nodes": "None",
            "regressor__max_samples": "None",
            "regressor__min_impurity_decrease": "0.0",
            "regressor__min_samples_leaf": "1",
            "regressor__min_samples_split": "2",
            "regressor__min_weight_fraction_leaf": "0.0",
            "regressor__monotonic_cst": "None",
            "regressor__n_estimators": "200",
            "regressor__n_jobs": "None",
            "regressor__oob_score": "False",
            "regressor__random_state": "42",
            "regressor__verbose": "0",
            "regressor__warm_start": "False",
            "steps": "[('transformer', ColumnTransformer(transformers=[('categoricals',\n                                 OneHotEncoder(handle_unknown='ignore',\n                                               sparse_output=False),\n                                 ['season', 'weathersit']),\n                                ('numericals', 'passthrough',\n                                 ['yr', 'mnth', 'hr', 'holiday', 'weekday',\n                                  'workingday', 'temp', 'atemp', 'hum',\n                                  'windspeed', 'casual'])])), ('regressor', RandomForestRegressor(max_depth=20, n_estimators=200, random_state=42))]",
            "transformer": "ColumnTransformer(transformers=[('categoricals',\n                                 OneHotEncoder(handle_unknown='ignore',\n                                               sparse_output=False),\n                                 ['season', 'weathersit']),\n                                ('numericals', 'passthrough',\n                                 ['yr', 'mnth', 'hr', 'holiday', 'weekday',\n                                  'workingday', 'temp', 'atemp', 'hum',\n                                  'windspeed', 'casual'])])",
            "transformer__categoricals": "OneHotEncoder(handle_unknown='ignore', sparse_output=False)",
            "transformer__categoricals__categories": "auto",
            "transformer__categoricals__drop": "None",
            "transformer__categoricals__dtype": "<class 'numpy.float64'>",
            "transformer__categoricals__feature_name_combiner": "concat",
            "transformer__categoricals__handle_unknown": "ignore",
            "transformer__categoricals__max_categories": "None",
            "transformer__categoricals__min_frequency": "None",
            "transformer__categoricals__sparse_output": "False",
            "transformer__n_jobs": "None",
            "transformer__numericals": "passthrough",
            "transformer__remainder": "drop",
            "transformer__sparse_threshold": "0.3",
            "transformer__transformer_weights": "None",
            "transformer__transformers": "[('categoricals', OneHotEncoder(handle_unknown='ignore', sparse_output=False), ['season', 'weathersit']), ('numericals', 'passthrough', ['yr', 'mnth', 'hr', 'holiday', 'weekday', 'workingday', 'temp', 'atemp', 'hum', 'windspeed', 'casual'])]",
            "transformer__verbose": "False",
            "transformer__verbose_feature_names_out": "True",
            "verbose": "False"
           },
           {
            "estimator_class": "sklearn.pipeline.Pipeline",
            "estimator_name": "Pipeline",
            "mlflow.gitRepoURL": "git@github.com:fmind/mlops-python-package",
            "mlflow.log-model.history": "[{\"run_id\": \"795eace5f76a4fe4af3754460b5e25e4\", \"artifact_path\": \"model\", \"utc_time_created\": \"2024-07-20 12:46:21.035281\", \"flavors\": {\"python_function\": {\"model_path\": \"model.pkl\", \"predict_fn\": \"predict\", \"loader_module\": \"mlflow.sklearn\", \"python_version\": \"3.12.4\", \"env\": {\"conda\": \"conda.yaml\", \"virtualenv\": \"python_env.yaml\"}}, \"sklearn\": {\"pickled_model\": \"model.pkl\", \"sklearn_version\": \"1.4.2\", \"serialization_format\": \"cloudpickle\", \"code\": null}}, \"model_uuid\": \"3cd314ac3cdb4c8eb2a7b60dd2d396df\", \"mlflow_version\": \"2.14.3\", \"signature\": {\"inputs\": \"[{\\\"type\\\": \\\"datetime\\\", \\\"name\\\": \\\"dteday\\\", \\\"required\\\": true}, {\\\"type\\\": \\\"integer\\\", \\\"name\\\": \\\"season\\\", \\\"required\\\": true}, {\\\"type\\\": \\\"integer\\\", \\\"name\\\": \\\"yr\\\", \\\"required\\\": true}, {\\\"type\\\": \\\"integer\\\", \\\"name\\\": \\\"mnth\\\", \\\"required\\\": true}, {\\\"type\\\": \\\"integer\\\", \\\"name\\\": \\\"hr\\\", \\\"required\\\": true}, {\\\"type\\\": \\\"boolean\\\", \\\"name\\\": \\\"holiday\\\", \\\"required\\\": true}, {\\\"type\\\": \\\"integer\\\", \\\"name\\\": \\\"weekday\\\", \\\"required\\\": true}, {\\\"type\\\": \\\"boolean\\\", \\\"name\\\": \\\"workingday\\\", \\\"required\\\": true}, {\\\"type\\\": \\\"integer\\\", \\\"name\\\": \\\"weathersit\\\", \\\"required\\\": true}, {\\\"type\\\": \\\"float\\\", \\\"name\\\": \\\"temp\\\", \\\"required\\\": true}, {\\\"type\\\": \\\"float\\\", \\\"name\\\": \\\"atemp\\\", \\\"required\\\": true}, {\\\"type\\\": \\\"float\\\", \\\"name\\\": \\\"hum\\\", \\\"required\\\": true}, {\\\"type\\\": \\\"float\\\", \\\"name\\\": \\\"windspeed\\\", \\\"required\\\": true}, {\\\"type\\\": \\\"long\\\", \\\"name\\\": \\\"casual\\\", \\\"required\\\": true}, {\\\"type\\\": \\\"long\\\", \\\"name\\\": \\\"registered\\\", \\\"required\\\": true}]\", \"outputs\": \"[{\\\"type\\\": \\\"tensor\\\", \\\"tensor-spec\\\": {\\\"dtype\\\": \\\"float64\\\", \\\"shape\\\": [-1]}}]\", \"params\": null}, \"saved_input_example_info\": {\"artifact_path\": \"input_example.json\", \"type\": \"dataframe\", \"pandas_orient\": \"split\"}, \"model_size_bytes\": 203898413}, {\"run_id\": \"795eace5f76a4fe4af3754460b5e25e4\", \"artifact_path\": \"model\", \"utc_time_created\": \"2024-07-20 12:46:23.203673\", \"flavors\": {\"python_function\": {\"streamable\": false, \"cloudpickle_version\": \"3.0.0\", \"python_model\": \"python_model.pkl\", \"loader_module\": \"mlflow.pyfunc.model\", \"python_version\": \"3.12.4\", \"env\": {\"conda\": \"conda.yaml\", \"virtualenv\": \"python_env.yaml\"}, \"code\": null}}, \"model_uuid\": \"b64cc85729ce4b2abf7546f49640eacf\", \"mlflow_version\": \"2.14.3\", \"signature\": {\"inputs\": \"[{\\\"type\\\": \\\"datetime\\\", \\\"name\\\": \\\"dteday\\\", \\\"required\\\": true}, {\\\"type\\\": \\\"integer\\\", \\\"name\\\": \\\"season\\\", \\\"required\\\": true}, {\\\"type\\\": \\\"integer\\\", \\\"name\\\": \\\"yr\\\", \\\"required\\\": true}, {\\\"type\\\": \\\"integer\\\", \\\"name\\\": \\\"mnth\\\", \\\"required\\\": true}, {\\\"type\\\": \\\"integer\\\", \\\"name\\\": \\\"hr\\\", \\\"required\\\": true}, {\\\"type\\\": \\\"boolean\\\", \\\"name\\\": \\\"holiday\\\", \\\"required\\\": true}, {\\\"type\\\": \\\"integer\\\", \\\"name\\\": \\\"weekday\\\", \\\"required\\\": true}, {\\\"type\\\": \\\"boolean\\\", \\\"name\\\": \\\"workingday\\\", \\\"required\\\": true}, {\\\"type\\\": \\\"integer\\\", \\\"name\\\": \\\"weathersit\\\", \\\"required\\\": true}, {\\\"type\\\": \\\"float\\\", \\\"name\\\": \\\"temp\\\", \\\"required\\\": true}, {\\\"type\\\": \\\"float\\\", \\\"name\\\": \\\"atemp\\\", \\\"required\\\": true}, {\\\"type\\\": \\\"float\\\", \\\"name\\\": \\\"hum\\\", \\\"required\\\": true}, {\\\"type\\\": \\\"float\\\", \\\"name\\\": \\\"windspeed\\\", \\\"required\\\": true}, {\\\"type\\\": \\\"long\\\", \\\"name\\\": \\\"casual\\\", \\\"required\\\": true}, {\\\"type\\\": \\\"long\\\", \\\"name\\\": \\\"registered\\\", \\\"required\\\": true}]\", \"outputs\": \"[{\\\"type\\\": \\\"long\\\", \\\"name\\\": \\\"prediction\\\", \\\"required\\\": true}]\", \"params\": null}, \"saved_input_example_info\": {\"artifact_path\": \"input_example.json\", \"type\": \"dataframe\", \"pandas_orient\": \"split\"}, \"model_size_bytes\": 205599260}]",
            "mlflow.project.backend": "local",
            "mlflow.project.entryPoint": "main",
            "mlflow.project.env": "virtualenv",
            "mlflow.runName": "training",
            "mlflow.source.git.commit": "50ee7202afcbac4516be893b3c96c5434a5fd05b",
            "mlflow.source.git.repoURL": "git@github.com:fmind/mlops-python-package",
            "mlflow.source.name": "file:///home/fmind/mlops-python-package",
            "mlflow.source.type": "PROJECT",
            "mlflow.user": "fmind"
           },
           "fmind",
           "file:///home/fmind/mlops-python-package",
           "PROJECT",
           "main",
           "50ee7202afcbac4516be893b3c96c5434a5fd05b",
           "git@github.com:fmind/mlops-python-package",
           "git@github.com:fmind/mlops-python-package",
           "training",
           "virtualenv",
           "local",
           null,
           "Pipeline",
           "sklearn.pipeline.Pipeline",
           "[{\"run_id\": \"795eace5f76a4fe4af3754460b5e25e4\", \"artifact_path\": \"model\", \"utc_time_created\": \"2024-07-20 12:46:21.035281\", \"flavors\": {\"python_function\": {\"model_path\": \"model.pkl\", \"predict_fn\": \"predict\", \"loader_module\": \"mlflow.sklearn\", \"python_version\": \"3.12.4\", \"env\": {\"conda\": \"conda.yaml\", \"virtualenv\": \"python_env.yaml\"}}, \"sklearn\": {\"pickled_model\": \"model.pkl\", \"sklearn_version\": \"1.4.2\", \"serialization_format\": \"cloudpickle\", \"code\": null}}, \"model_uuid\": \"3cd314ac3cdb4c8eb2a7b60dd2d396df\", \"mlflow_version\": \"2.14.3\", \"signature\": {\"inputs\": \"[{\\\"type\\\": \\\"datetime\\\", \\\"name\\\": \\\"dteday\\\", \\\"required\\\": true}, {\\\"type\\\": \\\"integer\\\", \\\"name\\\": \\\"season\\\", \\\"required\\\": true}, {\\\"type\\\": \\\"integer\\\", \\\"name\\\": \\\"yr\\\", \\\"required\\\": true}, {\\\"type\\\": \\\"integer\\\", \\\"name\\\": \\\"mnth\\\", \\\"required\\\": true}, {\\\"type\\\": \\\"integer\\\", \\\"name\\\": \\\"hr\\\", \\\"required\\\": true}, {\\\"type\\\": \\\"boolean\\\", \\\"name\\\": \\\"holiday\\\", \\\"required\\\": true}, {\\\"type\\\": \\\"integer\\\", \\\"name\\\": \\\"weekday\\\", \\\"required\\\": true}, {\\\"type\\\": \\\"boolean\\\", \\\"name\\\": \\\"workingday\\\", \\\"required\\\": true}, {\\\"type\\\": \\\"integer\\\", \\\"name\\\": \\\"weathersit\\\", \\\"required\\\": true}, {\\\"type\\\": \\\"float\\\", \\\"name\\\": \\\"temp\\\", \\\"required\\\": true}, {\\\"type\\\": \\\"float\\\", \\\"name\\\": \\\"atemp\\\", \\\"required\\\": true}, {\\\"type\\\": \\\"float\\\", \\\"name\\\": \\\"hum\\\", \\\"required\\\": true}, {\\\"type\\\": \\\"float\\\", \\\"name\\\": \\\"windspeed\\\", \\\"required\\\": true}, {\\\"type\\\": \\\"long\\\", \\\"name\\\": \\\"casual\\\", \\\"required\\\": true}, {\\\"type\\\": \\\"long\\\", \\\"name\\\": \\\"registered\\\", \\\"required\\\": true}]\", \"outputs\": \"[{\\\"type\\\": \\\"tensor\\\", \\\"tensor-spec\\\": {\\\"dtype\\\": \\\"float64\\\", \\\"shape\\\": [-1]}}]\", \"params\": null}, \"saved_input_example_info\": {\"artifact_path\": \"input_example.json\", \"type\": \"dataframe\", \"pandas_orient\": \"split\"}, \"model_size_bytes\": 203898413}, {\"run_id\": \"795eace5f76a4fe4af3754460b5e25e4\", \"artifact_path\": \"model\", \"utc_time_created\": \"2024-07-20 12:46:23.203673\", \"flavors\": {\"python_function\": {\"streamable\": false, \"cloudpickle_version\": \"3.0.0\", \"python_model\": \"python_model.pkl\", \"loader_module\": \"mlflow.pyfunc.model\", \"python_version\": \"3.12.4\", \"env\": {\"conda\": \"conda.yaml\", \"virtualenv\": \"python_env.yaml\"}, \"code\": null}}, \"model_uuid\": \"b64cc85729ce4b2abf7546f49640eacf\", \"mlflow_version\": \"2.14.3\", \"signature\": {\"inputs\": \"[{\\\"type\\\": \\\"datetime\\\", \\\"name\\\": \\\"dteday\\\", \\\"required\\\": true}, {\\\"type\\\": \\\"integer\\\", \\\"name\\\": \\\"season\\\", \\\"required\\\": true}, {\\\"type\\\": \\\"integer\\\", \\\"name\\\": \\\"yr\\\", \\\"required\\\": true}, {\\\"type\\\": \\\"integer\\\", \\\"name\\\": \\\"mnth\\\", \\\"required\\\": true}, {\\\"type\\\": \\\"integer\\\", \\\"name\\\": \\\"hr\\\", \\\"required\\\": true}, {\\\"type\\\": \\\"boolean\\\", \\\"name\\\": \\\"holiday\\\", \\\"required\\\": true}, {\\\"type\\\": \\\"integer\\\", \\\"name\\\": \\\"weekday\\\", \\\"required\\\": true}, {\\\"type\\\": \\\"boolean\\\", \\\"name\\\": \\\"workingday\\\", \\\"required\\\": true}, {\\\"type\\\": \\\"integer\\\", \\\"name\\\": \\\"weathersit\\\", \\\"required\\\": true}, {\\\"type\\\": \\\"float\\\", \\\"name\\\": \\\"temp\\\", \\\"required\\\": true}, {\\\"type\\\": \\\"float\\\", \\\"name\\\": \\\"atemp\\\", \\\"required\\\": true}, {\\\"type\\\": \\\"float\\\", \\\"name\\\": \\\"hum\\\", \\\"required\\\": true}, {\\\"type\\\": \\\"float\\\", \\\"name\\\": \\\"windspeed\\\", \\\"required\\\": true}, {\\\"type\\\": \\\"long\\\", \\\"name\\\": \\\"casual\\\", \\\"required\\\": true}, {\\\"type\\\": \\\"long\\\", \\\"name\\\": \\\"registered\\\", \\\"required\\\": true}]\", \"outputs\": \"[{\\\"type\\\": \\\"long\\\", \\\"name\\\": \\\"prediction\\\", \\\"required\\\": true}]\", \"params\": null}, \"saved_input_example_info\": {\"artifact_path\": \"input_example.json\", \"type\": \"dataframe\", \"pandas_orient\": \"split\"}, \"model_size_bytes\": 205599260}]",
           null,
           null
          ],
          [
           "file:///home/fmind/mlops-python-package/mlruns/562757566260573932/1bfdbbf6df3d4b899ab48941e58fa4de/artifacts",
           "2024-07-20T12:46:03.231000",
           "562757566260573932",
           "active",
           "1bfdbbf6df3d4b899ab48941e58fa4de",
           "learned-mole-85",
           "1bfdbbf6df3d4b899ab48941e58fa4de",
           "FINISHED",
           "fmind",
           {
            "mean_fit_time": 4.399524390697479,
            "mean_score_time": 0.14234960079193115,
            "mean_test_score": -8287.860416666666,
            "rank_test_score": 2,
            "std_fit_time": 0.6041601907827593,
            "std_score_time": 0.008689780141727426,
            "std_test_score": 1045.7595024691313
           },
           {
            "max_depth": "5",
            "n_estimators": "200",
            "random_state": "42"
           },
           {
            "estimator_class": "bikes.core.models.BaselineSklearnModel",
            "estimator_name": "BaselineSklearnModel",
            "mlflow.autologging": "sklearn",
            "mlflow.parentRunId": "bab549993e48428fb3f5a0b4b83d5645",
            "mlflow.runName": "learned-mole-85",
            "mlflow.source.git.commit": "50ee7202afcbac4516be893b3c96c5434a5fd05b",
            "mlflow.source.name": "/home/fmind/mlops-python-package/src/bikes/__main__.py",
            "mlflow.source.type": "LOCAL",
            "mlflow.user": "fmind"
           },
           "fmind",
           "/home/fmind/mlops-python-package/src/bikes/__main__.py",
           "LOCAL",
           null,
           "50ee7202afcbac4516be893b3c96c5434a5fd05b",
           null,
           null,
           "learned-mole-85",
           null,
           null,
           null,
           "BaselineSklearnModel",
           "bikes.core.models.BaselineSklearnModel",
           null,
           "sklearn",
           "bab549993e48428fb3f5a0b4b83d5645"
          ],
          [
           "file:///home/fmind/mlops-python-package/mlruns/562757566260573932/bab549993e48428fb3f5a0b4b83d5645/artifacts",
           "2024-07-20T12:46:03.878000",
           "562757566260573932",
           "active",
           "bab549993e48428fb3f5a0b4b83d5645",
           "tuning",
           "bab549993e48428fb3f5a0b4b83d5645",
           "FINISHED",
           "fmind",
           {
            "best_cv_score": -5517.252604166667,
            "system/cpu_utilization_percentage": 56.6,
            "system/disk_available_megabytes": 35635.6,
            "system/disk_usage_megabytes": 70345.4,
            "system/disk_usage_percentage": 66.4,
            "system/network_receive_megabytes": 0.03039199999994935,
            "system/network_transmit_megabytes": 0.48478400000000477,
            "system/system_memory_usage_megabytes": 9749,
            "system/system_memory_usage_percentage": 64.6,
            "training_score": -1951.0630079838884
           },
           {
            "best_max_depth": "7",
            "conf_file": "confs/tuning.yaml",
            "cv": "KIND='TimeSeriesSplitter' gap=0 n_splits=4 test_size=1440",
            "error_score": "raise",
            "estimator": "KIND='BaselineSklearnModel' max_depth=20 n_estimators=200 random_state=42",
            "n_jobs": "None",
            "param_grid": "{'max_depth': [3, 5, 7]}",
            "pre_dispatch": "2*n_jobs",
            "refit": "True",
            "return_train_score": "False",
            "scoring": "<bound method Metric.scorer of SklearnMetric(KIND='SklearnMetric', name='mean_squared_error', greater_is_better=False)>",
            "verbose": "3"
           },
           {
            "estimator_class": "sklearn.model_selection._search.GridSearchCV",
            "estimator_name": "GridSearchCV",
            "mlflow.gitRepoURL": "git@github.com:fmind/mlops-python-package",
            "mlflow.log-model.history": "[{\"run_id\": \"bab549993e48428fb3f5a0b4b83d5645\", \"artifact_path\": \"model\", \"utc_time_created\": \"2024-07-20 12:45:56.543992\", \"flavors\": {\"python_function\": {\"model_path\": \"model.pkl\", \"predict_fn\": \"predict\", \"loader_module\": \"mlflow.sklearn\", \"python_version\": \"3.12.4\", \"env\": {\"conda\": \"conda.yaml\", \"virtualenv\": \"python_env.yaml\"}}, \"sklearn\": {\"pickled_model\": \"model.pkl\", \"sklearn_version\": \"1.4.2\", \"serialization_format\": \"cloudpickle\", \"code\": null}}, \"model_uuid\": \"e78ada09386b4e6b98b52cbaae8196e6\", \"mlflow_version\": \"2.14.3\", \"signature\": {\"inputs\": \"[{\\\"type\\\": \\\"datetime\\\", \\\"name\\\": \\\"dteday\\\", \\\"required\\\": true}, {\\\"type\\\": \\\"integer\\\", \\\"name\\\": \\\"season\\\", \\\"required\\\": true}, {\\\"type\\\": \\\"integer\\\", \\\"name\\\": \\\"yr\\\", \\\"required\\\": true}, {\\\"type\\\": \\\"integer\\\", \\\"name\\\": \\\"mnth\\\", \\\"required\\\": true}, {\\\"type\\\": \\\"integer\\\", \\\"name\\\": \\\"hr\\\", \\\"required\\\": true}, {\\\"type\\\": \\\"boolean\\\", \\\"name\\\": \\\"holiday\\\", \\\"required\\\": true}, {\\\"type\\\": \\\"integer\\\", \\\"name\\\": \\\"weekday\\\", \\\"required\\\": true}, {\\\"type\\\": \\\"boolean\\\", \\\"name\\\": \\\"workingday\\\", \\\"required\\\": true}, {\\\"type\\\": \\\"integer\\\", \\\"name\\\": \\\"weathersit\\\", \\\"required\\\": true}, {\\\"type\\\": \\\"float\\\", \\\"name\\\": \\\"temp\\\", \\\"required\\\": true}, {\\\"type\\\": \\\"float\\\", \\\"name\\\": \\\"atemp\\\", \\\"required\\\": true}, {\\\"type\\\": \\\"float\\\", \\\"name\\\": \\\"hum\\\", \\\"required\\\": true}, {\\\"type\\\": \\\"float\\\", \\\"name\\\": \\\"windspeed\\\", \\\"required\\\": true}, {\\\"type\\\": \\\"long\\\", \\\"name\\\": \\\"casual\\\", \\\"required\\\": true}, {\\\"type\\\": \\\"long\\\", \\\"name\\\": \\\"registered\\\", \\\"required\\\": true}]\", \"outputs\": \"[{\\\"type\\\": \\\"long\\\", \\\"name\\\": \\\"prediction\\\", \\\"required\\\": true}]\", \"params\": null}, \"saved_input_example_info\": {\"artifact_path\": \"input_example.json\", \"type\": \"dataframe\", \"pandas_orient\": \"split\"}, \"model_size_bytes\": 3726525}, {\"run_id\": \"bab549993e48428fb3f5a0b4b83d5645\", \"artifact_path\": \"best_estimator\", \"utc_time_created\": \"2024-07-20 12:46:00.949836\", \"flavors\": {\"python_function\": {\"model_path\": \"model.pkl\", \"predict_fn\": \"predict\", \"loader_module\": \"mlflow.sklearn\", \"python_version\": \"3.12.4\", \"env\": {\"conda\": \"conda.yaml\", \"virtualenv\": \"python_env.yaml\"}}, \"sklearn\": {\"pickled_model\": \"model.pkl\", \"sklearn_version\": \"1.4.2\", \"serialization_format\": \"cloudpickle\", \"code\": null}}, \"model_uuid\": \"b84db06a9be445a3a4c35cd20cdc5532\", \"mlflow_version\": \"2.14.3\", \"signature\": {\"inputs\": \"[{\\\"type\\\": \\\"datetime\\\", \\\"name\\\": \\\"dteday\\\", \\\"required\\\": true}, {\\\"type\\\": \\\"integer\\\", \\\"name\\\": \\\"season\\\", \\\"required\\\": true}, {\\\"type\\\": \\\"integer\\\", \\\"name\\\": \\\"yr\\\", \\\"required\\\": true}, {\\\"type\\\": \\\"integer\\\", \\\"name\\\": \\\"mnth\\\", \\\"required\\\": true}, {\\\"type\\\": \\\"integer\\\", \\\"name\\\": \\\"hr\\\", \\\"required\\\": true}, {\\\"type\\\": \\\"boolean\\\", \\\"name\\\": \\\"holiday\\\", \\\"required\\\": true}, {\\\"type\\\": \\\"integer\\\", \\\"name\\\": \\\"weekday\\\", \\\"required\\\": true}, {\\\"type\\\": \\\"boolean\\\", \\\"name\\\": \\\"workingday\\\", \\\"required\\\": true}, {\\\"type\\\": \\\"integer\\\", \\\"name\\\": \\\"weathersit\\\", \\\"required\\\": true}, {\\\"type\\\": \\\"float\\\", \\\"name\\\": \\\"temp\\\", \\\"required\\\": true}, {\\\"type\\\": \\\"float\\\", \\\"name\\\": \\\"atemp\\\", \\\"required\\\": true}, {\\\"type\\\": \\\"float\\\", \\\"name\\\": \\\"hum\\\", \\\"required\\\": true}, {\\\"type\\\": \\\"float\\\", \\\"name\\\": \\\"windspeed\\\", \\\"required\\\": true}, {\\\"type\\\": \\\"long\\\", \\\"name\\\": \\\"casual\\\", \\\"required\\\": true}, {\\\"type\\\": \\\"long\\\", \\\"name\\\": \\\"registered\\\", \\\"required\\\": true}]\", \"outputs\": \"[{\\\"type\\\": \\\"long\\\", \\\"name\\\": \\\"prediction\\\", \\\"required\\\": true}]\", \"params\": null}, \"saved_input_example_info\": {\"artifact_path\": \"input_example.json\", \"type\": \"dataframe\", \"pandas_orient\": \"split\"}, \"model_size_bytes\": 3713919}]",
            "mlflow.project.backend": "local",
            "mlflow.project.entryPoint": "main",
            "mlflow.project.env": "virtualenv",
            "mlflow.runName": "tuning",
            "mlflow.source.git.commit": "50ee7202afcbac4516be893b3c96c5434a5fd05b",
            "mlflow.source.git.repoURL": "git@github.com:fmind/mlops-python-package",
            "mlflow.source.name": "file:///home/fmind/mlops-python-package",
            "mlflow.source.type": "PROJECT",
            "mlflow.user": "fmind"
           },
           "fmind",
           "file:///home/fmind/mlops-python-package",
           "PROJECT",
           "main",
           "50ee7202afcbac4516be893b3c96c5434a5fd05b",
           "git@github.com:fmind/mlops-python-package",
           "git@github.com:fmind/mlops-python-package",
           "tuning",
           "virtualenv",
           "local",
           null,
           "GridSearchCV",
           "sklearn.model_selection._search.GridSearchCV",
           "[{\"run_id\": \"bab549993e48428fb3f5a0b4b83d5645\", \"artifact_path\": \"model\", \"utc_time_created\": \"2024-07-20 12:45:56.543992\", \"flavors\": {\"python_function\": {\"model_path\": \"model.pkl\", \"predict_fn\": \"predict\", \"loader_module\": \"mlflow.sklearn\", \"python_version\": \"3.12.4\", \"env\": {\"conda\": \"conda.yaml\", \"virtualenv\": \"python_env.yaml\"}}, \"sklearn\": {\"pickled_model\": \"model.pkl\", \"sklearn_version\": \"1.4.2\", \"serialization_format\": \"cloudpickle\", \"code\": null}}, \"model_uuid\": \"e78ada09386b4e6b98b52cbaae8196e6\", \"mlflow_version\": \"2.14.3\", \"signature\": {\"inputs\": \"[{\\\"type\\\": \\\"datetime\\\", \\\"name\\\": \\\"dteday\\\", \\\"required\\\": true}, {\\\"type\\\": \\\"integer\\\", \\\"name\\\": \\\"season\\\", \\\"required\\\": true}, {\\\"type\\\": \\\"integer\\\", \\\"name\\\": \\\"yr\\\", \\\"required\\\": true}, {\\\"type\\\": \\\"integer\\\", \\\"name\\\": \\\"mnth\\\", \\\"required\\\": true}, {\\\"type\\\": \\\"integer\\\", \\\"name\\\": \\\"hr\\\", \\\"required\\\": true}, {\\\"type\\\": \\\"boolean\\\", \\\"name\\\": \\\"holiday\\\", \\\"required\\\": true}, {\\\"type\\\": \\\"integer\\\", \\\"name\\\": \\\"weekday\\\", \\\"required\\\": true}, {\\\"type\\\": \\\"boolean\\\", \\\"name\\\": \\\"workingday\\\", \\\"required\\\": true}, {\\\"type\\\": \\\"integer\\\", \\\"name\\\": \\\"weathersit\\\", \\\"required\\\": true}, {\\\"type\\\": \\\"float\\\", \\\"name\\\": \\\"temp\\\", \\\"required\\\": true}, {\\\"type\\\": \\\"float\\\", \\\"name\\\": \\\"atemp\\\", \\\"required\\\": true}, {\\\"type\\\": \\\"float\\\", \\\"name\\\": \\\"hum\\\", \\\"required\\\": true}, {\\\"type\\\": \\\"float\\\", \\\"name\\\": \\\"windspeed\\\", \\\"required\\\": true}, {\\\"type\\\": \\\"long\\\", \\\"name\\\": \\\"casual\\\", \\\"required\\\": true}, {\\\"type\\\": \\\"long\\\", \\\"name\\\": \\\"registered\\\", \\\"required\\\": true}]\", \"outputs\": \"[{\\\"type\\\": \\\"long\\\", \\\"name\\\": \\\"prediction\\\", \\\"required\\\": true}]\", \"params\": null}, \"saved_input_example_info\": {\"artifact_path\": \"input_example.json\", \"type\": \"dataframe\", \"pandas_orient\": \"split\"}, \"model_size_bytes\": 3726525}, {\"run_id\": \"bab549993e48428fb3f5a0b4b83d5645\", \"artifact_path\": \"best_estimator\", \"utc_time_created\": \"2024-07-20 12:46:00.949836\", \"flavors\": {\"python_function\": {\"model_path\": \"model.pkl\", \"predict_fn\": \"predict\", \"loader_module\": \"mlflow.sklearn\", \"python_version\": \"3.12.4\", \"env\": {\"conda\": \"conda.yaml\", \"virtualenv\": \"python_env.yaml\"}}, \"sklearn\": {\"pickled_model\": \"model.pkl\", \"sklearn_version\": \"1.4.2\", \"serialization_format\": \"cloudpickle\", \"code\": null}}, \"model_uuid\": \"b84db06a9be445a3a4c35cd20cdc5532\", \"mlflow_version\": \"2.14.3\", \"signature\": {\"inputs\": \"[{\\\"type\\\": \\\"datetime\\\", \\\"name\\\": \\\"dteday\\\", \\\"required\\\": true}, {\\\"type\\\": \\\"integer\\\", \\\"name\\\": \\\"season\\\", \\\"required\\\": true}, {\\\"type\\\": \\\"integer\\\", \\\"name\\\": \\\"yr\\\", \\\"required\\\": true}, {\\\"type\\\": \\\"integer\\\", \\\"name\\\": \\\"mnth\\\", \\\"required\\\": true}, {\\\"type\\\": \\\"integer\\\", \\\"name\\\": \\\"hr\\\", \\\"required\\\": true}, {\\\"type\\\": \\\"boolean\\\", \\\"name\\\": \\\"holiday\\\", \\\"required\\\": true}, {\\\"type\\\": \\\"integer\\\", \\\"name\\\": \\\"weekday\\\", \\\"required\\\": true}, {\\\"type\\\": \\\"boolean\\\", \\\"name\\\": \\\"workingday\\\", \\\"required\\\": true}, {\\\"type\\\": \\\"integer\\\", \\\"name\\\": \\\"weathersit\\\", \\\"required\\\": true}, {\\\"type\\\": \\\"float\\\", \\\"name\\\": \\\"temp\\\", \\\"required\\\": true}, {\\\"type\\\": \\\"float\\\", \\\"name\\\": \\\"atemp\\\", \\\"required\\\": true}, {\\\"type\\\": \\\"float\\\", \\\"name\\\": \\\"hum\\\", \\\"required\\\": true}, {\\\"type\\\": \\\"float\\\", \\\"name\\\": \\\"windspeed\\\", \\\"required\\\": true}, {\\\"type\\\": \\\"long\\\", \\\"name\\\": \\\"casual\\\", \\\"required\\\": true}, {\\\"type\\\": \\\"long\\\", \\\"name\\\": \\\"registered\\\", \\\"required\\\": true}]\", \"outputs\": \"[{\\\"type\\\": \\\"long\\\", \\\"name\\\": \\\"prediction\\\", \\\"required\\\": true}]\", \"params\": null}, \"saved_input_example_info\": {\"artifact_path\": \"input_example.json\", \"type\": \"dataframe\", \"pandas_orient\": \"split\"}, \"model_size_bytes\": 3713919}]",
           null,
           null
          ],
          [
           "file:///home/fmind/mlops-python-package/mlruns/562757566260573932/bc6a629fbacf4dfb93d73cf49d2fadb2/artifacts",
           "2024-07-20T12:46:03.231000",
           "562757566260573932",
           "active",
           "bc6a629fbacf4dfb93d73cf49d2fadb2",
           "gentle-jay-790",
           "bc6a629fbacf4dfb93d73cf49d2fadb2",
           "FINISHED",
           "fmind",
           {
            "mean_fit_time": 3.0013614892959595,
            "mean_score_time": 0.18937814235687256,
            "mean_test_score": -16644.957118055558,
            "rank_test_score": 3,
            "std_fit_time": 0.48890581262807953,
            "std_score_time": 0.06921257470224487,
            "std_test_score": 5315.459715152708
           },
           {
            "max_depth": "3",
            "n_estimators": "200",
            "random_state": "42"
           },
           {
            "estimator_class": "bikes.core.models.BaselineSklearnModel",
            "estimator_name": "BaselineSklearnModel",
            "mlflow.autologging": "sklearn",
            "mlflow.parentRunId": "bab549993e48428fb3f5a0b4b83d5645",
            "mlflow.runName": "gentle-jay-790",
            "mlflow.source.git.commit": "50ee7202afcbac4516be893b3c96c5434a5fd05b",
            "mlflow.source.name": "/home/fmind/mlops-python-package/src/bikes/__main__.py",
            "mlflow.source.type": "LOCAL",
            "mlflow.user": "fmind"
           },
           "fmind",
           "/home/fmind/mlops-python-package/src/bikes/__main__.py",
           "LOCAL",
           null,
           "50ee7202afcbac4516be893b3c96c5434a5fd05b",
           null,
           null,
           "gentle-jay-790",
           null,
           null,
           null,
           "BaselineSklearnModel",
           "bikes.core.models.BaselineSklearnModel",
           null,
           "sklearn",
           "bab549993e48428fb3f5a0b4b83d5645"
          ],
          [
           "file:///home/fmind/mlops-python-package/mlruns/562757566260573932/e7a424df7a474652984ebab24398f78e/artifacts",
           "2024-07-20T12:46:03.231000",
           "562757566260573932",
           "active",
           "e7a424df7a474652984ebab24398f78e",
           "clean-sloth-537",
           "e7a424df7a474652984ebab24398f78e",
           "FINISHED",
           "fmind",
           {
            "mean_fit_time": 3.5007389187812805,
            "mean_score_time": 0.05425143241882324,
            "mean_test_score": -5517.252604166667,
            "rank_test_score": 1,
            "std_fit_time": 0.3245513505947697,
            "std_score_time": 0.005157635720925865,
            "std_test_score": 1613.520146542553
           },
           {
            "max_depth": "7",
            "n_estimators": "200",
            "random_state": "42"
           },
           {
            "estimator_class": "bikes.core.models.BaselineSklearnModel",
            "estimator_name": "BaselineSklearnModel",
            "mlflow.autologging": "sklearn",
            "mlflow.parentRunId": "bab549993e48428fb3f5a0b4b83d5645",
            "mlflow.runName": "clean-sloth-537",
            "mlflow.source.git.commit": "50ee7202afcbac4516be893b3c96c5434a5fd05b",
            "mlflow.source.name": "/home/fmind/mlops-python-package/src/bikes/__main__.py",
            "mlflow.source.type": "LOCAL",
            "mlflow.user": "fmind"
           },
           "fmind",
           "/home/fmind/mlops-python-package/src/bikes/__main__.py",
           "LOCAL",
           null,
           "50ee7202afcbac4516be893b3c96c5434a5fd05b",
           null,
           null,
           "clean-sloth-537",
           null,
           null,
           null,
           "BaselineSklearnModel",
           "bikes.core.models.BaselineSklearnModel",
           null,
           "sklearn",
           "bab549993e48428fb3f5a0b4b83d5645"
          ],
          [
           "file:///home/fmind/mlops-python-package/mlruns/562757566260573932/6f23412a2dd34ff4944cad9d545448f1/artifacts",
           null,
           "562757566260573932",
           "active",
           "6f23412a2dd34ff4944cad9d545448f1",
           "polite-snail-973",
           "6f23412a2dd34ff4944cad9d545448f1",
           "RUNNING",
           "fmind",
           {},
           {
            "conf_file": "confs/tuning.yaml"
           },
           {
            "mlflow.gitRepoURL": "git@github.com:fmind/mlops-python-package",
            "mlflow.project.entryPoint": "main",
            "mlflow.project.env": "virtualenv",
            "mlflow.runName": "polite-snail-973",
            "mlflow.source.git.commit": "50ee7202afcbac4516be893b3c96c5434a5fd05b",
            "mlflow.source.git.repoURL": "git@github.com:fmind/mlops-python-package",
            "mlflow.source.name": "file:///home/fmind/mlops-python-package",
            "mlflow.source.type": "PROJECT",
            "mlflow.user": "fmind"
           },
           "fmind",
           "file:///home/fmind/mlops-python-package",
           "PROJECT",
           "main",
           "50ee7202afcbac4516be893b3c96c5434a5fd05b",
           "git@github.com:fmind/mlops-python-package",
           "git@github.com:fmind/mlops-python-package",
           "polite-snail-973",
           "virtualenv",
           null,
           null,
           null,
           null,
           null,
           null,
           null
          ]
         ],
         "fillcolor": "rgba(255,255,255,0)",
         "hoveron": "points",
         "hovertemplate": "<b>%{hovertext}</b><br><br>experiment_id=%{customdata[2]}<br>start_time=%{x}<br>artifact_uri=%{customdata[0]}<br>end_time=%{customdata[1]}<br>lifecycle_stage=%{customdata[3]}<br>run_id=%{customdata[4]}<br>run_name=%{customdata[5]}<br>run_uuid=%{customdata[6]}<br>status=%{customdata[7]}<br>user_id=%{customdata[8]}<br>metrics=%{customdata[9]}<br>params=%{customdata[10]}<br>tags=%{customdata[11]}<br>mlflow.user=%{customdata[12]}<br>mlflow.source.name=%{customdata[13]}<br>mlflow.source.type=%{customdata[14]}<br>mlflow.project.entryPoint=%{customdata[15]}<br>mlflow.source.git.commit=%{customdata[16]}<br>mlflow.source.git.repoURL=%{customdata[17]}<br>mlflow.gitRepoURL=%{customdata[18]}<br>mlflow.runName=%{customdata[19]}<br>mlflow.project.env=%{customdata[20]}<br>mlflow.project.backend=%{customdata[21]}<br>mlflow.datasets=%{customdata[22]}<br>estimator_name=%{customdata[23]}<br>estimator_class=%{customdata[24]}<br>mlflow.log-model.history=%{customdata[25]}<br>mlflow.autologging=%{customdata[26]}<br>mlflow.parentRunId=%{customdata[27]}<extra></extra>",
         "hovertext": [
          "Explanations",
          "Evaluations",
          "Inference",
          "Promotion",
          "Training",
          "nimble-grouse-107",
          "youthful-dog-682",
          "hilarious-frog-164",
          "Tuning",
          "EXPLANATIONS",
          "EVALUATIONS",
          "INFERENCE",
          "PROMOTION",
          "TRAINING",
          "TUNING",
          "treasured-shrimp-728",
          "angry-cub-96",
          "adaptable-gull-964",
          "explanations",
          "evaluations",
          "inference",
          "promotion",
          "training",
          "learned-mole-85",
          "tuning",
          "gentle-jay-790",
          "clean-sloth-537",
          "polite-snail-973"
         ],
         "legendgroup": "562757566260573932",
         "line": {
          "color": "rgba(255,255,255,0)"
         },
         "marker": {
          "color": "#636efa"
         },
         "name": "562757566260573932",
         "offsetgroup": "562757566260573932",
         "orientation": "h",
         "pointpos": 0,
         "showlegend": true,
         "type": "box",
         "x": [
          "2024-07-21T14:08:29.817000",
          "2024-07-21T14:08:24.395000",
          "2024-07-21T14:08:19.775000",
          "2024-07-21T14:08:15.431000",
          "2024-07-21T14:07:54.473000",
          "2024-07-21T14:07:19.282000",
          "2024-07-21T14:07:19.282000",
          "2024-07-21T14:07:19.282000",
          "2024-07-21T14:07:19.282000",
          "2024-07-20T12:52:44.033000",
          "2024-07-20T12:52:39.147000",
          "2024-07-20T12:52:35.057000",
          "2024-07-20T12:52:31.479000",
          "2024-07-20T12:52:13.797000",
          "2024-07-20T12:51:43.548000",
          "2024-07-20T12:51:43.548000",
          "2024-07-20T12:51:43.548000",
          "2024-07-20T12:51:43.548000",
          "2024-07-20T12:46:41.664000",
          "2024-07-20T12:46:36.460000",
          "2024-07-20T12:46:32.379000",
          "2024-07-20T12:46:28.853000",
          "2024-07-20T12:46:05.345000",
          "2024-07-20T12:44:40.852000",
          "2024-07-20T12:44:40.852000",
          "2024-07-20T12:44:40.852000",
          "2024-07-20T12:44:40.852000",
          "2024-07-20T12:43:59.876000"
         ],
         "x0": " ",
         "xaxis": "x",
         "y0": " ",
         "yaxis": "y"
        }
       ],
       "layout": {
        "boxmode": "group",
        "legend": {
         "title": {
          "text": "experiment_id"
         },
         "tracegroupgap": 0
        },
        "template": {
         "data": {
          "bar": [
           {
            "error_x": {
             "color": "#2a3f5f"
            },
            "error_y": {
             "color": "#2a3f5f"
            },
            "marker": {
             "line": {
              "color": "#E5ECF6",
              "width": 0.5
             },
             "pattern": {
              "fillmode": "overlay",
              "size": 10,
              "solidity": 0.2
             }
            },
            "type": "bar"
           }
          ],
          "barpolar": [
           {
            "marker": {
             "line": {
              "color": "#E5ECF6",
              "width": 0.5
             },
             "pattern": {
              "fillmode": "overlay",
              "size": 10,
              "solidity": 0.2
             }
            },
            "type": "barpolar"
           }
          ],
          "carpet": [
           {
            "aaxis": {
             "endlinecolor": "#2a3f5f",
             "gridcolor": "white",
             "linecolor": "white",
             "minorgridcolor": "white",
             "startlinecolor": "#2a3f5f"
            },
            "baxis": {
             "endlinecolor": "#2a3f5f",
             "gridcolor": "white",
             "linecolor": "white",
             "minorgridcolor": "white",
             "startlinecolor": "#2a3f5f"
            },
            "type": "carpet"
           }
          ],
          "choropleth": [
           {
            "colorbar": {
             "outlinewidth": 0,
             "ticks": ""
            },
            "type": "choropleth"
           }
          ],
          "contour": [
           {
            "colorbar": {
             "outlinewidth": 0,
             "ticks": ""
            },
            "colorscale": [
             [
              0,
              "#0d0887"
             ],
             [
              0.1111111111111111,
              "#46039f"
             ],
             [
              0.2222222222222222,
              "#7201a8"
             ],
             [
              0.3333333333333333,
              "#9c179e"
             ],
             [
              0.4444444444444444,
              "#bd3786"
             ],
             [
              0.5555555555555556,
              "#d8576b"
             ],
             [
              0.6666666666666666,
              "#ed7953"
             ],
             [
              0.7777777777777778,
              "#fb9f3a"
             ],
             [
              0.8888888888888888,
              "#fdca26"
             ],
             [
              1,
              "#f0f921"
             ]
            ],
            "type": "contour"
           }
          ],
          "contourcarpet": [
           {
            "colorbar": {
             "outlinewidth": 0,
             "ticks": ""
            },
            "type": "contourcarpet"
           }
          ],
          "heatmap": [
           {
            "colorbar": {
             "outlinewidth": 0,
             "ticks": ""
            },
            "colorscale": [
             [
              0,
              "#0d0887"
             ],
             [
              0.1111111111111111,
              "#46039f"
             ],
             [
              0.2222222222222222,
              "#7201a8"
             ],
             [
              0.3333333333333333,
              "#9c179e"
             ],
             [
              0.4444444444444444,
              "#bd3786"
             ],
             [
              0.5555555555555556,
              "#d8576b"
             ],
             [
              0.6666666666666666,
              "#ed7953"
             ],
             [
              0.7777777777777778,
              "#fb9f3a"
             ],
             [
              0.8888888888888888,
              "#fdca26"
             ],
             [
              1,
              "#f0f921"
             ]
            ],
            "type": "heatmap"
           }
          ],
          "heatmapgl": [
           {
            "colorbar": {
             "outlinewidth": 0,
             "ticks": ""
            },
            "colorscale": [
             [
              0,
              "#0d0887"
             ],
             [
              0.1111111111111111,
              "#46039f"
             ],
             [
              0.2222222222222222,
              "#7201a8"
             ],
             [
              0.3333333333333333,
              "#9c179e"
             ],
             [
              0.4444444444444444,
              "#bd3786"
             ],
             [
              0.5555555555555556,
              "#d8576b"
             ],
             [
              0.6666666666666666,
              "#ed7953"
             ],
             [
              0.7777777777777778,
              "#fb9f3a"
             ],
             [
              0.8888888888888888,
              "#fdca26"
             ],
             [
              1,
              "#f0f921"
             ]
            ],
            "type": "heatmapgl"
           }
          ],
          "histogram": [
           {
            "marker": {
             "pattern": {
              "fillmode": "overlay",
              "size": 10,
              "solidity": 0.2
             }
            },
            "type": "histogram"
           }
          ],
          "histogram2d": [
           {
            "colorbar": {
             "outlinewidth": 0,
             "ticks": ""
            },
            "colorscale": [
             [
              0,
              "#0d0887"
             ],
             [
              0.1111111111111111,
              "#46039f"
             ],
             [
              0.2222222222222222,
              "#7201a8"
             ],
             [
              0.3333333333333333,
              "#9c179e"
             ],
             [
              0.4444444444444444,
              "#bd3786"
             ],
             [
              0.5555555555555556,
              "#d8576b"
             ],
             [
              0.6666666666666666,
              "#ed7953"
             ],
             [
              0.7777777777777778,
              "#fb9f3a"
             ],
             [
              0.8888888888888888,
              "#fdca26"
             ],
             [
              1,
              "#f0f921"
             ]
            ],
            "type": "histogram2d"
           }
          ],
          "histogram2dcontour": [
           {
            "colorbar": {
             "outlinewidth": 0,
             "ticks": ""
            },
            "colorscale": [
             [
              0,
              "#0d0887"
             ],
             [
              0.1111111111111111,
              "#46039f"
             ],
             [
              0.2222222222222222,
              "#7201a8"
             ],
             [
              0.3333333333333333,
              "#9c179e"
             ],
             [
              0.4444444444444444,
              "#bd3786"
             ],
             [
              0.5555555555555556,
              "#d8576b"
             ],
             [
              0.6666666666666666,
              "#ed7953"
             ],
             [
              0.7777777777777778,
              "#fb9f3a"
             ],
             [
              0.8888888888888888,
              "#fdca26"
             ],
             [
              1,
              "#f0f921"
             ]
            ],
            "type": "histogram2dcontour"
           }
          ],
          "mesh3d": [
           {
            "colorbar": {
             "outlinewidth": 0,
             "ticks": ""
            },
            "type": "mesh3d"
           }
          ],
          "parcoords": [
           {
            "line": {
             "colorbar": {
              "outlinewidth": 0,
              "ticks": ""
             }
            },
            "type": "parcoords"
           }
          ],
          "pie": [
           {
            "automargin": true,
            "type": "pie"
           }
          ],
          "scatter": [
           {
            "fillpattern": {
             "fillmode": "overlay",
             "size": 10,
             "solidity": 0.2
            },
            "type": "scatter"
           }
          ],
          "scatter3d": [
           {
            "line": {
             "colorbar": {
              "outlinewidth": 0,
              "ticks": ""
             }
            },
            "marker": {
             "colorbar": {
              "outlinewidth": 0,
              "ticks": ""
             }
            },
            "type": "scatter3d"
           }
          ],
          "scattercarpet": [
           {
            "marker": {
             "colorbar": {
              "outlinewidth": 0,
              "ticks": ""
             }
            },
            "type": "scattercarpet"
           }
          ],
          "scattergeo": [
           {
            "marker": {
             "colorbar": {
              "outlinewidth": 0,
              "ticks": ""
             }
            },
            "type": "scattergeo"
           }
          ],
          "scattergl": [
           {
            "marker": {
             "colorbar": {
              "outlinewidth": 0,
              "ticks": ""
             }
            },
            "type": "scattergl"
           }
          ],
          "scattermapbox": [
           {
            "marker": {
             "colorbar": {
              "outlinewidth": 0,
              "ticks": ""
             }
            },
            "type": "scattermapbox"
           }
          ],
          "scatterpolar": [
           {
            "marker": {
             "colorbar": {
              "outlinewidth": 0,
              "ticks": ""
             }
            },
            "type": "scatterpolar"
           }
          ],
          "scatterpolargl": [
           {
            "marker": {
             "colorbar": {
              "outlinewidth": 0,
              "ticks": ""
             }
            },
            "type": "scatterpolargl"
           }
          ],
          "scatterternary": [
           {
            "marker": {
             "colorbar": {
              "outlinewidth": 0,
              "ticks": ""
             }
            },
            "type": "scatterternary"
           }
          ],
          "surface": [
           {
            "colorbar": {
             "outlinewidth": 0,
             "ticks": ""
            },
            "colorscale": [
             [
              0,
              "#0d0887"
             ],
             [
              0.1111111111111111,
              "#46039f"
             ],
             [
              0.2222222222222222,
              "#7201a8"
             ],
             [
              0.3333333333333333,
              "#9c179e"
             ],
             [
              0.4444444444444444,
              "#bd3786"
             ],
             [
              0.5555555555555556,
              "#d8576b"
             ],
             [
              0.6666666666666666,
              "#ed7953"
             ],
             [
              0.7777777777777778,
              "#fb9f3a"
             ],
             [
              0.8888888888888888,
              "#fdca26"
             ],
             [
              1,
              "#f0f921"
             ]
            ],
            "type": "surface"
           }
          ],
          "table": [
           {
            "cells": {
             "fill": {
              "color": "#EBF0F8"
             },
             "line": {
              "color": "white"
             }
            },
            "header": {
             "fill": {
              "color": "#C8D4E3"
             },
             "line": {
              "color": "white"
             }
            },
            "type": "table"
           }
          ]
         },
         "layout": {
          "annotationdefaults": {
           "arrowcolor": "#2a3f5f",
           "arrowhead": 0,
           "arrowwidth": 1
          },
          "autotypenumbers": "strict",
          "coloraxis": {
           "colorbar": {
            "outlinewidth": 0,
            "ticks": ""
           }
          },
          "colorscale": {
           "diverging": [
            [
             0,
             "#8e0152"
            ],
            [
             0.1,
             "#c51b7d"
            ],
            [
             0.2,
             "#de77ae"
            ],
            [
             0.3,
             "#f1b6da"
            ],
            [
             0.4,
             "#fde0ef"
            ],
            [
             0.5,
             "#f7f7f7"
            ],
            [
             0.6,
             "#e6f5d0"
            ],
            [
             0.7,
             "#b8e186"
            ],
            [
             0.8,
             "#7fbc41"
            ],
            [
             0.9,
             "#4d9221"
            ],
            [
             1,
             "#276419"
            ]
           ],
           "sequential": [
            [
             0,
             "#0d0887"
            ],
            [
             0.1111111111111111,
             "#46039f"
            ],
            [
             0.2222222222222222,
             "#7201a8"
            ],
            [
             0.3333333333333333,
             "#9c179e"
            ],
            [
             0.4444444444444444,
             "#bd3786"
            ],
            [
             0.5555555555555556,
             "#d8576b"
            ],
            [
             0.6666666666666666,
             "#ed7953"
            ],
            [
             0.7777777777777778,
             "#fb9f3a"
            ],
            [
             0.8888888888888888,
             "#fdca26"
            ],
            [
             1,
             "#f0f921"
            ]
           ],
           "sequentialminus": [
            [
             0,
             "#0d0887"
            ],
            [
             0.1111111111111111,
             "#46039f"
            ],
            [
             0.2222222222222222,
             "#7201a8"
            ],
            [
             0.3333333333333333,
             "#9c179e"
            ],
            [
             0.4444444444444444,
             "#bd3786"
            ],
            [
             0.5555555555555556,
             "#d8576b"
            ],
            [
             0.6666666666666666,
             "#ed7953"
            ],
            [
             0.7777777777777778,
             "#fb9f3a"
            ],
            [
             0.8888888888888888,
             "#fdca26"
            ],
            [
             1,
             "#f0f921"
            ]
           ]
          },
          "colorway": [
           "#636efa",
           "#EF553B",
           "#00cc96",
           "#ab63fa",
           "#FFA15A",
           "#19d3f3",
           "#FF6692",
           "#B6E880",
           "#FF97FF",
           "#FECB52"
          ],
          "font": {
           "color": "#2a3f5f"
          },
          "geo": {
           "bgcolor": "white",
           "lakecolor": "white",
           "landcolor": "#E5ECF6",
           "showlakes": true,
           "showland": true,
           "subunitcolor": "white"
          },
          "hoverlabel": {
           "align": "left"
          },
          "hovermode": "closest",
          "mapbox": {
           "style": "light"
          },
          "paper_bgcolor": "white",
          "plot_bgcolor": "#E5ECF6",
          "polar": {
           "angularaxis": {
            "gridcolor": "white",
            "linecolor": "white",
            "ticks": ""
           },
           "bgcolor": "#E5ECF6",
           "radialaxis": {
            "gridcolor": "white",
            "linecolor": "white",
            "ticks": ""
           }
          },
          "scene": {
           "xaxis": {
            "backgroundcolor": "#E5ECF6",
            "gridcolor": "white",
            "gridwidth": 2,
            "linecolor": "white",
            "showbackground": true,
            "ticks": "",
            "zerolinecolor": "white"
           },
           "yaxis": {
            "backgroundcolor": "#E5ECF6",
            "gridcolor": "white",
            "gridwidth": 2,
            "linecolor": "white",
            "showbackground": true,
            "ticks": "",
            "zerolinecolor": "white"
           },
           "zaxis": {
            "backgroundcolor": "#E5ECF6",
            "gridcolor": "white",
            "gridwidth": 2,
            "linecolor": "white",
            "showbackground": true,
            "ticks": "",
            "zerolinecolor": "white"
           }
          },
          "shapedefaults": {
           "line": {
            "color": "#2a3f5f"
           }
          },
          "ternary": {
           "aaxis": {
            "gridcolor": "white",
            "linecolor": "white",
            "ticks": ""
           },
           "baxis": {
            "gridcolor": "white",
            "linecolor": "white",
            "ticks": ""
           },
           "bgcolor": "#E5ECF6",
           "caxis": {
            "gridcolor": "white",
            "linecolor": "white",
            "ticks": ""
           }
          },
          "title": {
           "x": 0.05
          },
          "xaxis": {
           "automargin": true,
           "gridcolor": "white",
           "linecolor": "white",
           "ticks": "",
           "title": {
            "standoff": 15
           },
           "zerolinecolor": "white",
           "zerolinewidth": 2
          },
          "yaxis": {
           "automargin": true,
           "gridcolor": "white",
           "linecolor": "white",
           "ticks": "",
           "title": {
            "standoff": 15
           },
           "zerolinecolor": "white",
           "zerolinewidth": 2
          }
         }
        },
        "title": {
         "text": "Run Start Time"
        },
        "xaxis": {
         "anchor": "y",
         "domain": [
          0,
          1
         ],
         "title": {
          "text": "start_time"
         }
        },
        "yaxis": {
         "anchor": "x",
         "domain": [
          0,
          1
         ]
        }
       }
      }
     },
     "metadata": {},
     "output_type": "display_data"
    }
   ],
   "source": [
    "px.strip(\n",
    "    runs,\n",
    "    x=\"start_time\",\n",
    "    color=\"experiment_id\",\n",
    "    hover_name=\"run_name\",\n",
    "    hover_data=runs.columns,\n",
    "    title=\"Run Start Time\",\n",
    ")"
   ]
  },
  {
   "cell_type": "code",
   "execution_count": 14,
   "metadata": {},
   "outputs": [
    {
     "data": {
      "application/vnd.plotly.v1+json": {
       "config": {
        "plotlyServerURL": "https://plot.ly"
       },
       "data": [
        {
         "alignmentgroup": "True",
         "hovertemplate": "estimator_class=%{x}<br>count=%{y}<extra></extra>",
         "legendgroup": "",
         "marker": {
          "color": "#636efa",
          "pattern": {
           "shape": ""
          }
         },
         "name": "",
         "offsetgroup": "",
         "orientation": "v",
         "showlegend": false,
         "textposition": "auto",
         "type": "bar",
         "x": [
          null,
          null,
          null,
          null,
          "sklearn.pipeline.Pipeline",
          "bikes.core.models.BaselineSklearnModel",
          "bikes.core.models.BaselineSklearnModel",
          "bikes.core.models.BaselineSklearnModel",
          "sklearn.model_selection._search.GridSearchCV",
          null,
          null,
          null,
          null,
          "sklearn.pipeline.Pipeline",
          "sklearn.model_selection._search.GridSearchCV",
          "bikes.core.models.BaselineSklearnModel",
          "bikes.core.models.BaselineSklearnModel",
          "bikes.core.models.BaselineSklearnModel",
          null,
          null,
          null,
          null,
          "sklearn.pipeline.Pipeline",
          "bikes.core.models.BaselineSklearnModel",
          "sklearn.model_selection._search.GridSearchCV",
          "bikes.core.models.BaselineSklearnModel",
          "bikes.core.models.BaselineSklearnModel",
          null
         ],
         "xaxis": "x",
         "y": [
          1,
          1,
          1,
          1,
          1,
          1,
          1,
          1,
          1,
          1,
          1,
          1,
          1,
          1,
          1,
          1,
          1,
          1,
          1,
          1,
          1,
          1,
          1,
          1,
          1,
          1,
          1,
          1
         ],
         "yaxis": "y"
        }
       ],
       "layout": {
        "barmode": "relative",
        "legend": {
         "tracegroupgap": 0
        },
        "template": {
         "data": {
          "bar": [
           {
            "error_x": {
             "color": "#2a3f5f"
            },
            "error_y": {
             "color": "#2a3f5f"
            },
            "marker": {
             "line": {
              "color": "#E5ECF6",
              "width": 0.5
             },
             "pattern": {
              "fillmode": "overlay",
              "size": 10,
              "solidity": 0.2
             }
            },
            "type": "bar"
           }
          ],
          "barpolar": [
           {
            "marker": {
             "line": {
              "color": "#E5ECF6",
              "width": 0.5
             },
             "pattern": {
              "fillmode": "overlay",
              "size": 10,
              "solidity": 0.2
             }
            },
            "type": "barpolar"
           }
          ],
          "carpet": [
           {
            "aaxis": {
             "endlinecolor": "#2a3f5f",
             "gridcolor": "white",
             "linecolor": "white",
             "minorgridcolor": "white",
             "startlinecolor": "#2a3f5f"
            },
            "baxis": {
             "endlinecolor": "#2a3f5f",
             "gridcolor": "white",
             "linecolor": "white",
             "minorgridcolor": "white",
             "startlinecolor": "#2a3f5f"
            },
            "type": "carpet"
           }
          ],
          "choropleth": [
           {
            "colorbar": {
             "outlinewidth": 0,
             "ticks": ""
            },
            "type": "choropleth"
           }
          ],
          "contour": [
           {
            "colorbar": {
             "outlinewidth": 0,
             "ticks": ""
            },
            "colorscale": [
             [
              0,
              "#0d0887"
             ],
             [
              0.1111111111111111,
              "#46039f"
             ],
             [
              0.2222222222222222,
              "#7201a8"
             ],
             [
              0.3333333333333333,
              "#9c179e"
             ],
             [
              0.4444444444444444,
              "#bd3786"
             ],
             [
              0.5555555555555556,
              "#d8576b"
             ],
             [
              0.6666666666666666,
              "#ed7953"
             ],
             [
              0.7777777777777778,
              "#fb9f3a"
             ],
             [
              0.8888888888888888,
              "#fdca26"
             ],
             [
              1,
              "#f0f921"
             ]
            ],
            "type": "contour"
           }
          ],
          "contourcarpet": [
           {
            "colorbar": {
             "outlinewidth": 0,
             "ticks": ""
            },
            "type": "contourcarpet"
           }
          ],
          "heatmap": [
           {
            "colorbar": {
             "outlinewidth": 0,
             "ticks": ""
            },
            "colorscale": [
             [
              0,
              "#0d0887"
             ],
             [
              0.1111111111111111,
              "#46039f"
             ],
             [
              0.2222222222222222,
              "#7201a8"
             ],
             [
              0.3333333333333333,
              "#9c179e"
             ],
             [
              0.4444444444444444,
              "#bd3786"
             ],
             [
              0.5555555555555556,
              "#d8576b"
             ],
             [
              0.6666666666666666,
              "#ed7953"
             ],
             [
              0.7777777777777778,
              "#fb9f3a"
             ],
             [
              0.8888888888888888,
              "#fdca26"
             ],
             [
              1,
              "#f0f921"
             ]
            ],
            "type": "heatmap"
           }
          ],
          "heatmapgl": [
           {
            "colorbar": {
             "outlinewidth": 0,
             "ticks": ""
            },
            "colorscale": [
             [
              0,
              "#0d0887"
             ],
             [
              0.1111111111111111,
              "#46039f"
             ],
             [
              0.2222222222222222,
              "#7201a8"
             ],
             [
              0.3333333333333333,
              "#9c179e"
             ],
             [
              0.4444444444444444,
              "#bd3786"
             ],
             [
              0.5555555555555556,
              "#d8576b"
             ],
             [
              0.6666666666666666,
              "#ed7953"
             ],
             [
              0.7777777777777778,
              "#fb9f3a"
             ],
             [
              0.8888888888888888,
              "#fdca26"
             ],
             [
              1,
              "#f0f921"
             ]
            ],
            "type": "heatmapgl"
           }
          ],
          "histogram": [
           {
            "marker": {
             "pattern": {
              "fillmode": "overlay",
              "size": 10,
              "solidity": 0.2
             }
            },
            "type": "histogram"
           }
          ],
          "histogram2d": [
           {
            "colorbar": {
             "outlinewidth": 0,
             "ticks": ""
            },
            "colorscale": [
             [
              0,
              "#0d0887"
             ],
             [
              0.1111111111111111,
              "#46039f"
             ],
             [
              0.2222222222222222,
              "#7201a8"
             ],
             [
              0.3333333333333333,
              "#9c179e"
             ],
             [
              0.4444444444444444,
              "#bd3786"
             ],
             [
              0.5555555555555556,
              "#d8576b"
             ],
             [
              0.6666666666666666,
              "#ed7953"
             ],
             [
              0.7777777777777778,
              "#fb9f3a"
             ],
             [
              0.8888888888888888,
              "#fdca26"
             ],
             [
              1,
              "#f0f921"
             ]
            ],
            "type": "histogram2d"
           }
          ],
          "histogram2dcontour": [
           {
            "colorbar": {
             "outlinewidth": 0,
             "ticks": ""
            },
            "colorscale": [
             [
              0,
              "#0d0887"
             ],
             [
              0.1111111111111111,
              "#46039f"
             ],
             [
              0.2222222222222222,
              "#7201a8"
             ],
             [
              0.3333333333333333,
              "#9c179e"
             ],
             [
              0.4444444444444444,
              "#bd3786"
             ],
             [
              0.5555555555555556,
              "#d8576b"
             ],
             [
              0.6666666666666666,
              "#ed7953"
             ],
             [
              0.7777777777777778,
              "#fb9f3a"
             ],
             [
              0.8888888888888888,
              "#fdca26"
             ],
             [
              1,
              "#f0f921"
             ]
            ],
            "type": "histogram2dcontour"
           }
          ],
          "mesh3d": [
           {
            "colorbar": {
             "outlinewidth": 0,
             "ticks": ""
            },
            "type": "mesh3d"
           }
          ],
          "parcoords": [
           {
            "line": {
             "colorbar": {
              "outlinewidth": 0,
              "ticks": ""
             }
            },
            "type": "parcoords"
           }
          ],
          "pie": [
           {
            "automargin": true,
            "type": "pie"
           }
          ],
          "scatter": [
           {
            "fillpattern": {
             "fillmode": "overlay",
             "size": 10,
             "solidity": 0.2
            },
            "type": "scatter"
           }
          ],
          "scatter3d": [
           {
            "line": {
             "colorbar": {
              "outlinewidth": 0,
              "ticks": ""
             }
            },
            "marker": {
             "colorbar": {
              "outlinewidth": 0,
              "ticks": ""
             }
            },
            "type": "scatter3d"
           }
          ],
          "scattercarpet": [
           {
            "marker": {
             "colorbar": {
              "outlinewidth": 0,
              "ticks": ""
             }
            },
            "type": "scattercarpet"
           }
          ],
          "scattergeo": [
           {
            "marker": {
             "colorbar": {
              "outlinewidth": 0,
              "ticks": ""
             }
            },
            "type": "scattergeo"
           }
          ],
          "scattergl": [
           {
            "marker": {
             "colorbar": {
              "outlinewidth": 0,
              "ticks": ""
             }
            },
            "type": "scattergl"
           }
          ],
          "scattermapbox": [
           {
            "marker": {
             "colorbar": {
              "outlinewidth": 0,
              "ticks": ""
             }
            },
            "type": "scattermapbox"
           }
          ],
          "scatterpolar": [
           {
            "marker": {
             "colorbar": {
              "outlinewidth": 0,
              "ticks": ""
             }
            },
            "type": "scatterpolar"
           }
          ],
          "scatterpolargl": [
           {
            "marker": {
             "colorbar": {
              "outlinewidth": 0,
              "ticks": ""
             }
            },
            "type": "scatterpolargl"
           }
          ],
          "scatterternary": [
           {
            "marker": {
             "colorbar": {
              "outlinewidth": 0,
              "ticks": ""
             }
            },
            "type": "scatterternary"
           }
          ],
          "surface": [
           {
            "colorbar": {
             "outlinewidth": 0,
             "ticks": ""
            },
            "colorscale": [
             [
              0,
              "#0d0887"
             ],
             [
              0.1111111111111111,
              "#46039f"
             ],
             [
              0.2222222222222222,
              "#7201a8"
             ],
             [
              0.3333333333333333,
              "#9c179e"
             ],
             [
              0.4444444444444444,
              "#bd3786"
             ],
             [
              0.5555555555555556,
              "#d8576b"
             ],
             [
              0.6666666666666666,
              "#ed7953"
             ],
             [
              0.7777777777777778,
              "#fb9f3a"
             ],
             [
              0.8888888888888888,
              "#fdca26"
             ],
             [
              1,
              "#f0f921"
             ]
            ],
            "type": "surface"
           }
          ],
          "table": [
           {
            "cells": {
             "fill": {
              "color": "#EBF0F8"
             },
             "line": {
              "color": "white"
             }
            },
            "header": {
             "fill": {
              "color": "#C8D4E3"
             },
             "line": {
              "color": "white"
             }
            },
            "type": "table"
           }
          ]
         },
         "layout": {
          "annotationdefaults": {
           "arrowcolor": "#2a3f5f",
           "arrowhead": 0,
           "arrowwidth": 1
          },
          "autotypenumbers": "strict",
          "coloraxis": {
           "colorbar": {
            "outlinewidth": 0,
            "ticks": ""
           }
          },
          "colorscale": {
           "diverging": [
            [
             0,
             "#8e0152"
            ],
            [
             0.1,
             "#c51b7d"
            ],
            [
             0.2,
             "#de77ae"
            ],
            [
             0.3,
             "#f1b6da"
            ],
            [
             0.4,
             "#fde0ef"
            ],
            [
             0.5,
             "#f7f7f7"
            ],
            [
             0.6,
             "#e6f5d0"
            ],
            [
             0.7,
             "#b8e186"
            ],
            [
             0.8,
             "#7fbc41"
            ],
            [
             0.9,
             "#4d9221"
            ],
            [
             1,
             "#276419"
            ]
           ],
           "sequential": [
            [
             0,
             "#0d0887"
            ],
            [
             0.1111111111111111,
             "#46039f"
            ],
            [
             0.2222222222222222,
             "#7201a8"
            ],
            [
             0.3333333333333333,
             "#9c179e"
            ],
            [
             0.4444444444444444,
             "#bd3786"
            ],
            [
             0.5555555555555556,
             "#d8576b"
            ],
            [
             0.6666666666666666,
             "#ed7953"
            ],
            [
             0.7777777777777778,
             "#fb9f3a"
            ],
            [
             0.8888888888888888,
             "#fdca26"
            ],
            [
             1,
             "#f0f921"
            ]
           ],
           "sequentialminus": [
            [
             0,
             "#0d0887"
            ],
            [
             0.1111111111111111,
             "#46039f"
            ],
            [
             0.2222222222222222,
             "#7201a8"
            ],
            [
             0.3333333333333333,
             "#9c179e"
            ],
            [
             0.4444444444444444,
             "#bd3786"
            ],
            [
             0.5555555555555556,
             "#d8576b"
            ],
            [
             0.6666666666666666,
             "#ed7953"
            ],
            [
             0.7777777777777778,
             "#fb9f3a"
            ],
            [
             0.8888888888888888,
             "#fdca26"
            ],
            [
             1,
             "#f0f921"
            ]
           ]
          },
          "colorway": [
           "#636efa",
           "#EF553B",
           "#00cc96",
           "#ab63fa",
           "#FFA15A",
           "#19d3f3",
           "#FF6692",
           "#B6E880",
           "#FF97FF",
           "#FECB52"
          ],
          "font": {
           "color": "#2a3f5f"
          },
          "geo": {
           "bgcolor": "white",
           "lakecolor": "white",
           "landcolor": "#E5ECF6",
           "showlakes": true,
           "showland": true,
           "subunitcolor": "white"
          },
          "hoverlabel": {
           "align": "left"
          },
          "hovermode": "closest",
          "mapbox": {
           "style": "light"
          },
          "paper_bgcolor": "white",
          "plot_bgcolor": "#E5ECF6",
          "polar": {
           "angularaxis": {
            "gridcolor": "white",
            "linecolor": "white",
            "ticks": ""
           },
           "bgcolor": "#E5ECF6",
           "radialaxis": {
            "gridcolor": "white",
            "linecolor": "white",
            "ticks": ""
           }
          },
          "scene": {
           "xaxis": {
            "backgroundcolor": "#E5ECF6",
            "gridcolor": "white",
            "gridwidth": 2,
            "linecolor": "white",
            "showbackground": true,
            "ticks": "",
            "zerolinecolor": "white"
           },
           "yaxis": {
            "backgroundcolor": "#E5ECF6",
            "gridcolor": "white",
            "gridwidth": 2,
            "linecolor": "white",
            "showbackground": true,
            "ticks": "",
            "zerolinecolor": "white"
           },
           "zaxis": {
            "backgroundcolor": "#E5ECF6",
            "gridcolor": "white",
            "gridwidth": 2,
            "linecolor": "white",
            "showbackground": true,
            "ticks": "",
            "zerolinecolor": "white"
           }
          },
          "shapedefaults": {
           "line": {
            "color": "#2a3f5f"
           }
          },
          "ternary": {
           "aaxis": {
            "gridcolor": "white",
            "linecolor": "white",
            "ticks": ""
           },
           "baxis": {
            "gridcolor": "white",
            "linecolor": "white",
            "ticks": ""
           },
           "bgcolor": "#E5ECF6",
           "caxis": {
            "gridcolor": "white",
            "linecolor": "white",
            "ticks": ""
           }
          },
          "title": {
           "x": 0.05
          },
          "xaxis": {
           "automargin": true,
           "gridcolor": "white",
           "linecolor": "white",
           "ticks": "",
           "title": {
            "standoff": 15
           },
           "zerolinecolor": "white",
           "zerolinewidth": 2
          },
          "yaxis": {
           "automargin": true,
           "gridcolor": "white",
           "linecolor": "white",
           "ticks": "",
           "title": {
            "standoff": 15
           },
           "zerolinecolor": "white",
           "zerolinewidth": 2
          }
         }
        },
        "title": {
         "text": "Run Estimator Class Distribution"
        },
        "xaxis": {
         "anchor": "y",
         "domain": [
          0,
          1
         ],
         "title": {
          "text": "estimator_class"
         }
        },
        "yaxis": {
         "anchor": "x",
         "domain": [
          0,
          1
         ],
         "title": {
          "text": "count"
         }
        }
       }
      }
     },
     "metadata": {},
     "output_type": "display_data"
    }
   ],
   "source": [
    "px.bar(runs, x=\"estimator_class\", title=\"Run Estimator Class Distribution\")"
   ]
  }
 ],
 "metadata": {
  "kernelspec": {
   "display_name": ".venv",
   "language": "python",
   "name": "python3"
  },
  "language_info": {
   "codemirror_mode": {
    "name": "ipython",
    "version": 3
   },
   "file_extension": ".py",
   "mimetype": "text/x-python",
   "name": "python",
   "nbconvert_exporter": "python",
   "pygments_lexer": "ipython3",
   "version": "3.12.4"
  }
 },
 "nbformat": 4,
 "nbformat_minor": 2
}
