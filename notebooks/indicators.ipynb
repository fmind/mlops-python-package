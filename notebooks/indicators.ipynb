{
 "cells": [
  {
   "cell_type": "markdown",
   "metadata": {},
   "source": [
    "**Compute Key-Performance Indicators (KPIs) from the MLflow server.**"
   ]
  },
  {
   "cell_type": "markdown",
   "metadata": {},
   "source": [
    "# IMPORTS"
   ]
  },
  {
   "cell_type": "code",
   "execution_count": 1,
   "metadata": {},
   "outputs": [],
   "source": [
    "import mlflow\n",
    "import pandas as pd\n",
    "import plotly.express as px"
   ]
  },
  {
   "cell_type": "markdown",
   "metadata": {},
   "source": [
    "# OPTIONS"
   ]
  },
  {
   "cell_type": "code",
   "execution_count": 2,
   "metadata": {},
   "outputs": [],
   "source": [
    "pd.options.display.max_columns = None"
   ]
  },
  {
   "cell_type": "markdown",
   "metadata": {},
   "source": [
    "# CONFIGS"
   ]
  },
  {
   "cell_type": "code",
   "execution_count": 3,
   "metadata": {},
   "outputs": [],
   "source": [
    "MAX_RESULTS = 100\n",
    "TRACKING_URI = \"http://localhost:5000\"\n",
    "REGISTRY_URI = \"http://localhost:5000\""
   ]
  },
  {
   "cell_type": "markdown",
   "metadata": {},
   "source": [
    "# CLIENTS"
   ]
  },
  {
   "cell_type": "code",
   "execution_count": 4,
   "metadata": {},
   "outputs": [],
   "source": [
    "client = mlflow.tracking.MlflowClient(tracking_uri=TRACKING_URI, registry_uri=REGISTRY_URI)"
   ]
  },
  {
   "cell_type": "markdown",
   "metadata": {},
   "source": [
    "# INDICATORS"
   ]
  },
  {
   "cell_type": "code",
   "execution_count": 5,
   "metadata": {},
   "outputs": [
    {
     "name": "stdout",
     "output_type": "stream",
     "text": [
      "(1, 7)\n"
     ]
    },
    {
     "data": {
      "text/html": [
       "<div>\n",
       "<style scoped>\n",
       "    .dataframe tbody tr th:only-of-type {\n",
       "        vertical-align: middle;\n",
       "    }\n",
       "\n",
       "    .dataframe tbody tr th {\n",
       "        vertical-align: top;\n",
       "    }\n",
       "\n",
       "    .dataframe thead th {\n",
       "        text-align: right;\n",
       "    }\n",
       "</style>\n",
       "<table border=\"1\" class=\"dataframe\">\n",
       "  <thead>\n",
       "    <tr style=\"text-align: right;\">\n",
       "      <th></th>\n",
       "      <th>artifact_location</th>\n",
       "      <th>creation_time</th>\n",
       "      <th>experiment_id</th>\n",
       "      <th>last_update_time</th>\n",
       "      <th>lifecycle_stage</th>\n",
       "      <th>name</th>\n",
       "      <th>tags</th>\n",
       "    </tr>\n",
       "  </thead>\n",
       "  <tbody>\n",
       "    <tr>\n",
       "      <th>0</th>\n",
       "      <td>file:///home/fmind/mlops-python-package/mlruns...</td>\n",
       "      <td>2024-12-14 14:35:02.439</td>\n",
       "      <td>300971336194126583</td>\n",
       "      <td>2024-12-14 14:35:02.439</td>\n",
       "      <td>active</td>\n",
       "      <td>bikes</td>\n",
       "      <td>{}</td>\n",
       "    </tr>\n",
       "  </tbody>\n",
       "</table>\n",
       "</div>"
      ],
      "text/plain": [
       "                                   artifact_location           creation_time  \\\n",
       "0  file:///home/fmind/mlops-python-package/mlruns... 2024-12-14 14:35:02.439   \n",
       "\n",
       "        experiment_id        last_update_time lifecycle_stage   name tags  \n",
       "0  300971336194126583 2024-12-14 14:35:02.439          active  bikes   {}  "
      ]
     },
     "execution_count": 5,
     "metadata": {},
     "output_type": "execute_result"
    }
   ],
   "source": [
    "experiments = client.search_experiments(\n",
    "    view_type=mlflow.entities.ViewType.ALL, max_results=MAX_RESULTS, order_by=[\"creation_time DESC\"]\n",
    ")\n",
    "experiments = [dict(experiment) for experiment in experiments]\n",
    "experiments = pd.DataFrame(experiments).assign(\n",
    "    creation_time=lambda data: pd.to_datetime(data[\"creation_time\"], unit=\"ms\"),\n",
    "    last_update_time=lambda data: pd.to_datetime(data[\"last_update_time\"], unit=\"ms\"),\n",
    ")\n",
    "print(experiments.shape)\n",
    "experiments.head()"
   ]
  },
  {
   "cell_type": "code",
   "execution_count": 6,
   "metadata": {},
   "outputs": [
    {
     "name": "stdout",
     "output_type": "stream",
     "text": [
      "(27, 29)\n"
     ]
    },
    {
     "data": {
      "text/html": [
       "<div>\n",
       "<style scoped>\n",
       "    .dataframe tbody tr th:only-of-type {\n",
       "        vertical-align: middle;\n",
       "    }\n",
       "\n",
       "    .dataframe tbody tr th {\n",
       "        vertical-align: top;\n",
       "    }\n",
       "\n",
       "    .dataframe thead th {\n",
       "        text-align: right;\n",
       "    }\n",
       "</style>\n",
       "<table border=\"1\" class=\"dataframe\">\n",
       "  <thead>\n",
       "    <tr style=\"text-align: right;\">\n",
       "      <th></th>\n",
       "      <th>artifact_uri</th>\n",
       "      <th>end_time</th>\n",
       "      <th>experiment_id</th>\n",
       "      <th>lifecycle_stage</th>\n",
       "      <th>run_id</th>\n",
       "      <th>run_name</th>\n",
       "      <th>run_uuid</th>\n",
       "      <th>start_time</th>\n",
       "      <th>status</th>\n",
       "      <th>user_id</th>\n",
       "      <th>metrics</th>\n",
       "      <th>params</th>\n",
       "      <th>tags</th>\n",
       "      <th>run_time_secs</th>\n",
       "      <th>mlflow.user</th>\n",
       "      <th>mlflow.source.name</th>\n",
       "      <th>mlflow.source.type</th>\n",
       "      <th>mlflow.project.entryPoint</th>\n",
       "      <th>mlflow.source.git.commit</th>\n",
       "      <th>mlflow.source.git.repoURL</th>\n",
       "      <th>mlflow.gitRepoURL</th>\n",
       "      <th>mlflow.runName</th>\n",
       "      <th>mlflow.project.env</th>\n",
       "      <th>mlflow.project.backend</th>\n",
       "      <th>estimator_name</th>\n",
       "      <th>estimator_class</th>\n",
       "      <th>mlflow.log-model.history</th>\n",
       "      <th>mlflow.autologging</th>\n",
       "      <th>mlflow.parentRunId</th>\n",
       "    </tr>\n",
       "  </thead>\n",
       "  <tbody>\n",
       "    <tr>\n",
       "      <th>0</th>\n",
       "      <td>file:///home/fmind/mlops-python-package/mlruns...</td>\n",
       "      <td>2024-12-14 14:42:28.056</td>\n",
       "      <td>300971336194126583</td>\n",
       "      <td>active</td>\n",
       "      <td>9923cb99c1824857b68c0bedb63f8446</td>\n",
       "      <td>Explanations</td>\n",
       "      <td>9923cb99c1824857b68c0bedb63f8446</td>\n",
       "      <td>2024-12-14 14:42:16.077</td>\n",
       "      <td>FINISHED</td>\n",
       "      <td>fmind</td>\n",
       "      <td>{}</td>\n",
       "      <td>{'conf_file': 'confs/explanations.yaml'}</td>\n",
       "      <td>{'mlflow.user': 'fmind', 'mlflow.source.name':...</td>\n",
       "      <td>11.979</td>\n",
       "      <td>fmind</td>\n",
       "      <td>file:///home/fmind/mlops-python-package</td>\n",
       "      <td>PROJECT</td>\n",
       "      <td>main</td>\n",
       "      <td>1a4b8a25a32f0e933a7db9ec47f763cc7bd17d1c</td>\n",
       "      <td>git@github.com:fmind/mlops-python-package</td>\n",
       "      <td>git@github.com:fmind/mlops-python-package</td>\n",
       "      <td>Explanations</td>\n",
       "      <td>virtualenv</td>\n",
       "      <td>local</td>\n",
       "      <td>NaN</td>\n",
       "      <td>NaN</td>\n",
       "      <td>NaN</td>\n",
       "      <td>NaN</td>\n",
       "      <td>NaN</td>\n",
       "    </tr>\n",
       "    <tr>\n",
       "      <th>1</th>\n",
       "      <td>file:///home/fmind/mlops-python-package/mlruns...</td>\n",
       "      <td>2024-12-14 14:42:13.733</td>\n",
       "      <td>300971336194126583</td>\n",
       "      <td>active</td>\n",
       "      <td>bfce074e34834054b84e5794450a4fa2</td>\n",
       "      <td>Evaluations</td>\n",
       "      <td>bfce074e34834054b84e5794450a4fa2</td>\n",
       "      <td>2024-12-14 14:42:07.488</td>\n",
       "      <td>FINISHED</td>\n",
       "      <td>fmind</td>\n",
       "      <td>{'example_count': 13903.0, 'mean_absolute_erro...</td>\n",
       "      <td>{'conf_file': 'confs/evaluations.yaml'}</td>\n",
       "      <td>{'mlflow.user': 'fmind', 'mlflow.source.name':...</td>\n",
       "      <td>6.245</td>\n",
       "      <td>fmind</td>\n",
       "      <td>file:///home/fmind/mlops-python-package</td>\n",
       "      <td>PROJECT</td>\n",
       "      <td>main</td>\n",
       "      <td>1a4b8a25a32f0e933a7db9ec47f763cc7bd17d1c</td>\n",
       "      <td>git@github.com:fmind/mlops-python-package</td>\n",
       "      <td>git@github.com:fmind/mlops-python-package</td>\n",
       "      <td>Evaluations</td>\n",
       "      <td>virtualenv</td>\n",
       "      <td>local</td>\n",
       "      <td>NaN</td>\n",
       "      <td>NaN</td>\n",
       "      <td>NaN</td>\n",
       "      <td>NaN</td>\n",
       "      <td>NaN</td>\n",
       "    </tr>\n",
       "    <tr>\n",
       "      <th>2</th>\n",
       "      <td>file:///home/fmind/mlops-python-package/mlruns...</td>\n",
       "      <td>2024-12-14 14:42:05.031</td>\n",
       "      <td>300971336194126583</td>\n",
       "      <td>active</td>\n",
       "      <td>5ebe28d67ed54300a177eb61825a6688</td>\n",
       "      <td>Inference</td>\n",
       "      <td>5ebe28d67ed54300a177eb61825a6688</td>\n",
       "      <td>2024-12-14 14:41:59.607</td>\n",
       "      <td>FINISHED</td>\n",
       "      <td>fmind</td>\n",
       "      <td>{}</td>\n",
       "      <td>{'conf_file': 'confs/inference.yaml'}</td>\n",
       "      <td>{'mlflow.user': 'fmind', 'mlflow.source.name':...</td>\n",
       "      <td>5.424</td>\n",
       "      <td>fmind</td>\n",
       "      <td>file:///home/fmind/mlops-python-package</td>\n",
       "      <td>PROJECT</td>\n",
       "      <td>main</td>\n",
       "      <td>1a4b8a25a32f0e933a7db9ec47f763cc7bd17d1c</td>\n",
       "      <td>git@github.com:fmind/mlops-python-package</td>\n",
       "      <td>git@github.com:fmind/mlops-python-package</td>\n",
       "      <td>Inference</td>\n",
       "      <td>virtualenv</td>\n",
       "      <td>local</td>\n",
       "      <td>NaN</td>\n",
       "      <td>NaN</td>\n",
       "      <td>NaN</td>\n",
       "      <td>NaN</td>\n",
       "      <td>NaN</td>\n",
       "    </tr>\n",
       "    <tr>\n",
       "      <th>3</th>\n",
       "      <td>file:///home/fmind/mlops-python-package/mlruns...</td>\n",
       "      <td>2024-12-14 14:41:57.245</td>\n",
       "      <td>300971336194126583</td>\n",
       "      <td>active</td>\n",
       "      <td>f29b930df5a54f1fa9ec5fe4b27df8b9</td>\n",
       "      <td>Promotion</td>\n",
       "      <td>f29b930df5a54f1fa9ec5fe4b27df8b9</td>\n",
       "      <td>2024-12-14 14:41:52.639</td>\n",
       "      <td>FINISHED</td>\n",
       "      <td>fmind</td>\n",
       "      <td>{}</td>\n",
       "      <td>{'conf_file': 'confs/promotion.yaml'}</td>\n",
       "      <td>{'mlflow.user': 'fmind', 'mlflow.source.name':...</td>\n",
       "      <td>4.606</td>\n",
       "      <td>fmind</td>\n",
       "      <td>file:///home/fmind/mlops-python-package</td>\n",
       "      <td>PROJECT</td>\n",
       "      <td>main</td>\n",
       "      <td>1a4b8a25a32f0e933a7db9ec47f763cc7bd17d1c</td>\n",
       "      <td>git@github.com:fmind/mlops-python-package</td>\n",
       "      <td>git@github.com:fmind/mlops-python-package</td>\n",
       "      <td>Promotion</td>\n",
       "      <td>virtualenv</td>\n",
       "      <td>local</td>\n",
       "      <td>NaN</td>\n",
       "      <td>NaN</td>\n",
       "      <td>NaN</td>\n",
       "      <td>NaN</td>\n",
       "      <td>NaN</td>\n",
       "    </tr>\n",
       "    <tr>\n",
       "      <th>4</th>\n",
       "      <td>file:///home/fmind/mlops-python-package/mlruns...</td>\n",
       "      <td>2024-12-14 14:41:49.910</td>\n",
       "      <td>300971336194126583</td>\n",
       "      <td>active</td>\n",
       "      <td>4753bf6b106845d19eca79b7cb329343</td>\n",
       "      <td>Training</td>\n",
       "      <td>4753bf6b106845d19eca79b7cb329343</td>\n",
       "      <td>2024-12-14 14:41:23.914</td>\n",
       "      <td>FINISHED</td>\n",
       "      <td>fmind</td>\n",
       "      <td>{'training_mean_squared_error': 1.280665585452...</td>\n",
       "      <td>{'conf_file': 'confs/training.yaml', 'memory':...</td>\n",
       "      <td>{'mlflow.user': 'fmind', 'mlflow.source.name':...</td>\n",
       "      <td>25.996</td>\n",
       "      <td>fmind</td>\n",
       "      <td>file:///home/fmind/mlops-python-package</td>\n",
       "      <td>PROJECT</td>\n",
       "      <td>main</td>\n",
       "      <td>1a4b8a25a32f0e933a7db9ec47f763cc7bd17d1c</td>\n",
       "      <td>git@github.com:fmind/mlops-python-package</td>\n",
       "      <td>git@github.com:fmind/mlops-python-package</td>\n",
       "      <td>Training</td>\n",
       "      <td>virtualenv</td>\n",
       "      <td>local</td>\n",
       "      <td>Pipeline</td>\n",
       "      <td>sklearn.pipeline.Pipeline</td>\n",
       "      <td>[{\"run_id\": \"4753bf6b106845d19eca79b7cb329343\"...</td>\n",
       "      <td>NaN</td>\n",
       "      <td>NaN</td>\n",
       "    </tr>\n",
       "  </tbody>\n",
       "</table>\n",
       "</div>"
      ],
      "text/plain": [
       "                                        artifact_uri                end_time  \\\n",
       "0  file:///home/fmind/mlops-python-package/mlruns... 2024-12-14 14:42:28.056   \n",
       "1  file:///home/fmind/mlops-python-package/mlruns... 2024-12-14 14:42:13.733   \n",
       "2  file:///home/fmind/mlops-python-package/mlruns... 2024-12-14 14:42:05.031   \n",
       "3  file:///home/fmind/mlops-python-package/mlruns... 2024-12-14 14:41:57.245   \n",
       "4  file:///home/fmind/mlops-python-package/mlruns... 2024-12-14 14:41:49.910   \n",
       "\n",
       "        experiment_id lifecycle_stage                            run_id  \\\n",
       "0  300971336194126583          active  9923cb99c1824857b68c0bedb63f8446   \n",
       "1  300971336194126583          active  bfce074e34834054b84e5794450a4fa2   \n",
       "2  300971336194126583          active  5ebe28d67ed54300a177eb61825a6688   \n",
       "3  300971336194126583          active  f29b930df5a54f1fa9ec5fe4b27df8b9   \n",
       "4  300971336194126583          active  4753bf6b106845d19eca79b7cb329343   \n",
       "\n",
       "       run_name                          run_uuid              start_time  \\\n",
       "0  Explanations  9923cb99c1824857b68c0bedb63f8446 2024-12-14 14:42:16.077   \n",
       "1   Evaluations  bfce074e34834054b84e5794450a4fa2 2024-12-14 14:42:07.488   \n",
       "2     Inference  5ebe28d67ed54300a177eb61825a6688 2024-12-14 14:41:59.607   \n",
       "3     Promotion  f29b930df5a54f1fa9ec5fe4b27df8b9 2024-12-14 14:41:52.639   \n",
       "4      Training  4753bf6b106845d19eca79b7cb329343 2024-12-14 14:41:23.914   \n",
       "\n",
       "     status user_id                                            metrics  \\\n",
       "0  FINISHED   fmind                                                 {}   \n",
       "1  FINISHED   fmind  {'example_count': 13903.0, 'mean_absolute_erro...   \n",
       "2  FINISHED   fmind                                                 {}   \n",
       "3  FINISHED   fmind                                                 {}   \n",
       "4  FINISHED   fmind  {'training_mean_squared_error': 1.280665585452...   \n",
       "\n",
       "                                              params  \\\n",
       "0           {'conf_file': 'confs/explanations.yaml'}   \n",
       "1            {'conf_file': 'confs/evaluations.yaml'}   \n",
       "2              {'conf_file': 'confs/inference.yaml'}   \n",
       "3              {'conf_file': 'confs/promotion.yaml'}   \n",
       "4  {'conf_file': 'confs/training.yaml', 'memory':...   \n",
       "\n",
       "                                                tags  run_time_secs  \\\n",
       "0  {'mlflow.user': 'fmind', 'mlflow.source.name':...         11.979   \n",
       "1  {'mlflow.user': 'fmind', 'mlflow.source.name':...          6.245   \n",
       "2  {'mlflow.user': 'fmind', 'mlflow.source.name':...          5.424   \n",
       "3  {'mlflow.user': 'fmind', 'mlflow.source.name':...          4.606   \n",
       "4  {'mlflow.user': 'fmind', 'mlflow.source.name':...         25.996   \n",
       "\n",
       "  mlflow.user                       mlflow.source.name mlflow.source.type  \\\n",
       "0       fmind  file:///home/fmind/mlops-python-package            PROJECT   \n",
       "1       fmind  file:///home/fmind/mlops-python-package            PROJECT   \n",
       "2       fmind  file:///home/fmind/mlops-python-package            PROJECT   \n",
       "3       fmind  file:///home/fmind/mlops-python-package            PROJECT   \n",
       "4       fmind  file:///home/fmind/mlops-python-package            PROJECT   \n",
       "\n",
       "  mlflow.project.entryPoint                  mlflow.source.git.commit  \\\n",
       "0                      main  1a4b8a25a32f0e933a7db9ec47f763cc7bd17d1c   \n",
       "1                      main  1a4b8a25a32f0e933a7db9ec47f763cc7bd17d1c   \n",
       "2                      main  1a4b8a25a32f0e933a7db9ec47f763cc7bd17d1c   \n",
       "3                      main  1a4b8a25a32f0e933a7db9ec47f763cc7bd17d1c   \n",
       "4                      main  1a4b8a25a32f0e933a7db9ec47f763cc7bd17d1c   \n",
       "\n",
       "                   mlflow.source.git.repoURL  \\\n",
       "0  git@github.com:fmind/mlops-python-package   \n",
       "1  git@github.com:fmind/mlops-python-package   \n",
       "2  git@github.com:fmind/mlops-python-package   \n",
       "3  git@github.com:fmind/mlops-python-package   \n",
       "4  git@github.com:fmind/mlops-python-package   \n",
       "\n",
       "                           mlflow.gitRepoURL mlflow.runName  \\\n",
       "0  git@github.com:fmind/mlops-python-package   Explanations   \n",
       "1  git@github.com:fmind/mlops-python-package    Evaluations   \n",
       "2  git@github.com:fmind/mlops-python-package      Inference   \n",
       "3  git@github.com:fmind/mlops-python-package      Promotion   \n",
       "4  git@github.com:fmind/mlops-python-package       Training   \n",
       "\n",
       "  mlflow.project.env mlflow.project.backend estimator_name  \\\n",
       "0         virtualenv                  local            NaN   \n",
       "1         virtualenv                  local            NaN   \n",
       "2         virtualenv                  local            NaN   \n",
       "3         virtualenv                  local            NaN   \n",
       "4         virtualenv                  local       Pipeline   \n",
       "\n",
       "             estimator_class  \\\n",
       "0                        NaN   \n",
       "1                        NaN   \n",
       "2                        NaN   \n",
       "3                        NaN   \n",
       "4  sklearn.pipeline.Pipeline   \n",
       "\n",
       "                            mlflow.log-model.history mlflow.autologging  \\\n",
       "0                                                NaN                NaN   \n",
       "1                                                NaN                NaN   \n",
       "2                                                NaN                NaN   \n",
       "3                                                NaN                NaN   \n",
       "4  [{\"run_id\": \"4753bf6b106845d19eca79b7cb329343\"...                NaN   \n",
       "\n",
       "  mlflow.parentRunId  \n",
       "0                NaN  \n",
       "1                NaN  \n",
       "2                NaN  \n",
       "3                NaN  \n",
       "4                NaN  "
      ]
     },
     "execution_count": 6,
     "metadata": {},
     "output_type": "execute_result"
    }
   ],
   "source": [
    "runs = client.search_runs(\n",
    "    experiment_ids=experiments[\"experiment_id\"].unique(),\n",
    "    run_view_type=mlflow.entities.ViewType.ALL,\n",
    "    max_results=MAX_RESULTS,\n",
    "    order_by=[\"created DESC\"],\n",
    ")\n",
    "runs = [dict(run.info) | dict(run.data) for run in runs]\n",
    "runs = pd.DataFrame(runs).assign(\n",
    "    end_time=lambda data: pd.to_datetime(data[\"end_time\"], unit=\"ms\"),\n",
    "    start_time=lambda data: pd.to_datetime(data[\"start_time\"], unit=\"ms\"),\n",
    "    run_time_secs=lambda data: (data[\"end_time\"] - data[\"start_time\"]).map(\n",
    "        lambda t: t.total_seconds()\n",
    "    ),\n",
    ")\n",
    "runs = pd.concat([runs, pd.json_normalize(runs[\"tags\"])], axis=\"columns\")\n",
    "print(runs.shape)\n",
    "runs.head()"
   ]
  },
  {
   "cell_type": "code",
   "execution_count": 7,
   "metadata": {},
   "outputs": [
    {
     "name": "stdout",
     "output_type": "stream",
     "text": [
      "(1, 6)\n"
     ]
    },
    {
     "data": {
      "text/html": [
       "<div>\n",
       "<style scoped>\n",
       "    .dataframe tbody tr th:only-of-type {\n",
       "        vertical-align: middle;\n",
       "    }\n",
       "\n",
       "    .dataframe tbody tr th {\n",
       "        vertical-align: top;\n",
       "    }\n",
       "\n",
       "    .dataframe thead th {\n",
       "        text-align: right;\n",
       "    }\n",
       "</style>\n",
       "<table border=\"1\" class=\"dataframe\">\n",
       "  <thead>\n",
       "    <tr style=\"text-align: right;\">\n",
       "      <th></th>\n",
       "      <th>aliases</th>\n",
       "      <th>creation_timestamp</th>\n",
       "      <th>description</th>\n",
       "      <th>last_updated_timestamp</th>\n",
       "      <th>name</th>\n",
       "      <th>tags</th>\n",
       "    </tr>\n",
       "  </thead>\n",
       "  <tbody>\n",
       "    <tr>\n",
       "      <th>0</th>\n",
       "      <td>{'Champion': '3'}</td>\n",
       "      <td>2024-12-14 14:37:45.482</td>\n",
       "      <td></td>\n",
       "      <td>2024-12-14 14:41:56.590</td>\n",
       "      <td>bikes</td>\n",
       "      <td>{}</td>\n",
       "    </tr>\n",
       "  </tbody>\n",
       "</table>\n",
       "</div>"
      ],
      "text/plain": [
       "             aliases      creation_timestamp description  \\\n",
       "0  {'Champion': '3'} 2024-12-14 14:37:45.482               \n",
       "\n",
       "   last_updated_timestamp   name tags  \n",
       "0 2024-12-14 14:41:56.590  bikes   {}  "
      ]
     },
     "execution_count": 7,
     "metadata": {},
     "output_type": "execute_result"
    }
   ],
   "source": [
    "models = client.search_registered_models(\n",
    "    max_results=MAX_RESULTS, order_by=[\"creation_timestamp DESC\"]\n",
    ")\n",
    "models = [dict(model) for model in models]\n",
    "models = (\n",
    "    pd.DataFrame(models)\n",
    "    .assign(\n",
    "        creation_timestamp=lambda data: pd.to_datetime(data[\"creation_timestamp\"], unit=\"ms\"),\n",
    "        last_updated_timestamp=lambda data: pd.to_datetime(\n",
    "            data[\"last_updated_timestamp\"], unit=\"ms\"\n",
    "        ),\n",
    "    )\n",
    "    .drop(columns=[\"latest_versions\"])\n",
    ")\n",
    "print(models.shape)\n",
    "models"
   ]
  },
  {
   "cell_type": "code",
   "execution_count": 8,
   "metadata": {},
   "outputs": [
    {
     "name": "stdout",
     "output_type": "stream",
     "text": [
      "(3, 14)\n"
     ]
    },
    {
     "data": {
      "text/html": [
       "<div>\n",
       "<style scoped>\n",
       "    .dataframe tbody tr th:only-of-type {\n",
       "        vertical-align: middle;\n",
       "    }\n",
       "\n",
       "    .dataframe tbody tr th {\n",
       "        vertical-align: top;\n",
       "    }\n",
       "\n",
       "    .dataframe thead th {\n",
       "        text-align: right;\n",
       "    }\n",
       "</style>\n",
       "<table border=\"1\" class=\"dataframe\">\n",
       "  <thead>\n",
       "    <tr style=\"text-align: right;\">\n",
       "      <th></th>\n",
       "      <th>aliases</th>\n",
       "      <th>creation_timestamp</th>\n",
       "      <th>current_stage</th>\n",
       "      <th>description</th>\n",
       "      <th>last_updated_timestamp</th>\n",
       "      <th>name</th>\n",
       "      <th>run_id</th>\n",
       "      <th>run_link</th>\n",
       "      <th>source</th>\n",
       "      <th>status</th>\n",
       "      <th>status_message</th>\n",
       "      <th>tags</th>\n",
       "      <th>user_id</th>\n",
       "      <th>version</th>\n",
       "    </tr>\n",
       "  </thead>\n",
       "  <tbody>\n",
       "    <tr>\n",
       "      <th>0</th>\n",
       "      <td>Champion</td>\n",
       "      <td>2024-12-14 14:41:48.936</td>\n",
       "      <td>None</td>\n",
       "      <td></td>\n",
       "      <td>2024-12-14 14:41:48.936</td>\n",
       "      <td>bikes</td>\n",
       "      <td>4753bf6b106845d19eca79b7cb329343</td>\n",
       "      <td></td>\n",
       "      <td>file:///home/fmind/mlops-python-package/mlruns...</td>\n",
       "      <td>READY</td>\n",
       "      <td></td>\n",
       "      <td>{}</td>\n",
       "      <td></td>\n",
       "      <td>3</td>\n",
       "    </tr>\n",
       "    <tr>\n",
       "      <th>1</th>\n",
       "      <td>None</td>\n",
       "      <td>2024-12-14 14:39:49.417</td>\n",
       "      <td>None</td>\n",
       "      <td></td>\n",
       "      <td>2024-12-14 14:39:49.417</td>\n",
       "      <td>bikes</td>\n",
       "      <td>ae9f673f6b264240bb79ffd94ca49fe2</td>\n",
       "      <td></td>\n",
       "      <td>file:///home/fmind/mlops-python-package/mlruns...</td>\n",
       "      <td>READY</td>\n",
       "      <td></td>\n",
       "      <td>{}</td>\n",
       "      <td></td>\n",
       "      <td>2</td>\n",
       "    </tr>\n",
       "    <tr>\n",
       "      <th>2</th>\n",
       "      <td>None</td>\n",
       "      <td>2024-12-14 14:37:45.487</td>\n",
       "      <td>None</td>\n",
       "      <td></td>\n",
       "      <td>2024-12-14 14:37:45.487</td>\n",
       "      <td>bikes</td>\n",
       "      <td>d2aed973c12b475f849743599f7bc973</td>\n",
       "      <td></td>\n",
       "      <td>file:///home/fmind/mlops-python-package/mlruns...</td>\n",
       "      <td>READY</td>\n",
       "      <td></td>\n",
       "      <td>{}</td>\n",
       "      <td></td>\n",
       "      <td>1</td>\n",
       "    </tr>\n",
       "  </tbody>\n",
       "</table>\n",
       "</div>"
      ],
      "text/plain": [
       "    aliases      creation_timestamp current_stage description  \\\n",
       "0  Champion 2024-12-14 14:41:48.936          None               \n",
       "1      None 2024-12-14 14:39:49.417          None               \n",
       "2      None 2024-12-14 14:37:45.487          None               \n",
       "\n",
       "   last_updated_timestamp   name                            run_id run_link  \\\n",
       "0 2024-12-14 14:41:48.936  bikes  4753bf6b106845d19eca79b7cb329343            \n",
       "1 2024-12-14 14:39:49.417  bikes  ae9f673f6b264240bb79ffd94ca49fe2            \n",
       "2 2024-12-14 14:37:45.487  bikes  d2aed973c12b475f849743599f7bc973            \n",
       "\n",
       "                                              source status status_message  \\\n",
       "0  file:///home/fmind/mlops-python-package/mlruns...  READY                  \n",
       "1  file:///home/fmind/mlops-python-package/mlruns...  READY                  \n",
       "2  file:///home/fmind/mlops-python-package/mlruns...  READY                  \n",
       "\n",
       "  tags user_id version  \n",
       "0   {}               3  \n",
       "1   {}               2  \n",
       "2   {}               1  "
      ]
     },
     "execution_count": 8,
     "metadata": {},
     "output_type": "execute_result"
    }
   ],
   "source": [
    "versions = client.search_model_versions(\n",
    "    max_results=MAX_RESULTS, order_by=[\"creation_timestamp DESC\"]\n",
    ")\n",
    "versions = [dict(version) for version in versions]\n",
    "versions = pd.DataFrame(versions).assign(\n",
    "    aliases=lambda data: data[\"aliases\"].map(lambda x: x[0] if len(x) else None),\n",
    "    creation_timestamp=lambda data: pd.to_datetime(data[\"creation_timestamp\"], unit=\"ms\"),\n",
    "    last_updated_timestamp=lambda data: pd.to_datetime(data[\"last_updated_timestamp\"], unit=\"ms\"),\n",
    ")\n",
    "print(versions.shape)\n",
    "versions.head()"
   ]
  },
  {
   "cell_type": "markdown",
   "metadata": {},
   "source": [
    "# DASHBOARDS"
   ]
  },
  {
   "cell_type": "code",
   "execution_count": 9,
   "metadata": {},
   "outputs": [
    {
     "data": {
      "application/vnd.plotly.v1+json": {
       "config": {
        "plotlyServerURL": "https://plot.ly"
       },
       "data": [
        {
         "alignmentgroup": "True",
         "boxpoints": "all",
         "customdata": [
          [
           "file:///home/fmind/mlops-python-package/mlruns/300971336194126583",
           "300971336194126583",
           "2024-12-14T14:35:02.439000",
           "active",
           "bikes",
           {}
          ]
         ],
         "fillcolor": "rgba(255,255,255,0)",
         "hoveron": "points",
         "hovertemplate": "<b>%{hovertext}</b><br><br>lifecycle_stage=%{customdata[3]}<br>creation_time=%{x}<br>artifact_location=%{customdata[0]}<br>experiment_id=%{customdata[1]}<br>last_update_time=%{customdata[2]}<br>name=%{customdata[4]}<br>tags=%{customdata[5]}<extra></extra>",
         "hovertext": [
          "bikes"
         ],
         "legendgroup": "active",
         "line": {
          "color": "rgba(255,255,255,0)"
         },
         "marker": {
          "color": "#636efa"
         },
         "name": "active",
         "offsetgroup": "active",
         "orientation": "h",
         "pointpos": 0,
         "showlegend": true,
         "type": "box",
         "x": [
          "2024-12-14T14:35:02.439000"
         ],
         "x0": " ",
         "xaxis": "x",
         "y0": " ",
         "yaxis": "y"
        }
       ],
       "layout": {
        "boxmode": "group",
        "legend": {
         "title": {
          "text": "lifecycle_stage"
         },
         "tracegroupgap": 0
        },
        "template": {
         "data": {
          "bar": [
           {
            "error_x": {
             "color": "#2a3f5f"
            },
            "error_y": {
             "color": "#2a3f5f"
            },
            "marker": {
             "line": {
              "color": "#E5ECF6",
              "width": 0.5
             },
             "pattern": {
              "fillmode": "overlay",
              "size": 10,
              "solidity": 0.2
             }
            },
            "type": "bar"
           }
          ],
          "barpolar": [
           {
            "marker": {
             "line": {
              "color": "#E5ECF6",
              "width": 0.5
             },
             "pattern": {
              "fillmode": "overlay",
              "size": 10,
              "solidity": 0.2
             }
            },
            "type": "barpolar"
           }
          ],
          "carpet": [
           {
            "aaxis": {
             "endlinecolor": "#2a3f5f",
             "gridcolor": "white",
             "linecolor": "white",
             "minorgridcolor": "white",
             "startlinecolor": "#2a3f5f"
            },
            "baxis": {
             "endlinecolor": "#2a3f5f",
             "gridcolor": "white",
             "linecolor": "white",
             "minorgridcolor": "white",
             "startlinecolor": "#2a3f5f"
            },
            "type": "carpet"
           }
          ],
          "choropleth": [
           {
            "colorbar": {
             "outlinewidth": 0,
             "ticks": ""
            },
            "type": "choropleth"
           }
          ],
          "contour": [
           {
            "colorbar": {
             "outlinewidth": 0,
             "ticks": ""
            },
            "colorscale": [
             [
              0,
              "#0d0887"
             ],
             [
              0.1111111111111111,
              "#46039f"
             ],
             [
              0.2222222222222222,
              "#7201a8"
             ],
             [
              0.3333333333333333,
              "#9c179e"
             ],
             [
              0.4444444444444444,
              "#bd3786"
             ],
             [
              0.5555555555555556,
              "#d8576b"
             ],
             [
              0.6666666666666666,
              "#ed7953"
             ],
             [
              0.7777777777777778,
              "#fb9f3a"
             ],
             [
              0.8888888888888888,
              "#fdca26"
             ],
             [
              1,
              "#f0f921"
             ]
            ],
            "type": "contour"
           }
          ],
          "contourcarpet": [
           {
            "colorbar": {
             "outlinewidth": 0,
             "ticks": ""
            },
            "type": "contourcarpet"
           }
          ],
          "heatmap": [
           {
            "colorbar": {
             "outlinewidth": 0,
             "ticks": ""
            },
            "colorscale": [
             [
              0,
              "#0d0887"
             ],
             [
              0.1111111111111111,
              "#46039f"
             ],
             [
              0.2222222222222222,
              "#7201a8"
             ],
             [
              0.3333333333333333,
              "#9c179e"
             ],
             [
              0.4444444444444444,
              "#bd3786"
             ],
             [
              0.5555555555555556,
              "#d8576b"
             ],
             [
              0.6666666666666666,
              "#ed7953"
             ],
             [
              0.7777777777777778,
              "#fb9f3a"
             ],
             [
              0.8888888888888888,
              "#fdca26"
             ],
             [
              1,
              "#f0f921"
             ]
            ],
            "type": "heatmap"
           }
          ],
          "heatmapgl": [
           {
            "colorbar": {
             "outlinewidth": 0,
             "ticks": ""
            },
            "colorscale": [
             [
              0,
              "#0d0887"
             ],
             [
              0.1111111111111111,
              "#46039f"
             ],
             [
              0.2222222222222222,
              "#7201a8"
             ],
             [
              0.3333333333333333,
              "#9c179e"
             ],
             [
              0.4444444444444444,
              "#bd3786"
             ],
             [
              0.5555555555555556,
              "#d8576b"
             ],
             [
              0.6666666666666666,
              "#ed7953"
             ],
             [
              0.7777777777777778,
              "#fb9f3a"
             ],
             [
              0.8888888888888888,
              "#fdca26"
             ],
             [
              1,
              "#f0f921"
             ]
            ],
            "type": "heatmapgl"
           }
          ],
          "histogram": [
           {
            "marker": {
             "pattern": {
              "fillmode": "overlay",
              "size": 10,
              "solidity": 0.2
             }
            },
            "type": "histogram"
           }
          ],
          "histogram2d": [
           {
            "colorbar": {
             "outlinewidth": 0,
             "ticks": ""
            },
            "colorscale": [
             [
              0,
              "#0d0887"
             ],
             [
              0.1111111111111111,
              "#46039f"
             ],
             [
              0.2222222222222222,
              "#7201a8"
             ],
             [
              0.3333333333333333,
              "#9c179e"
             ],
             [
              0.4444444444444444,
              "#bd3786"
             ],
             [
              0.5555555555555556,
              "#d8576b"
             ],
             [
              0.6666666666666666,
              "#ed7953"
             ],
             [
              0.7777777777777778,
              "#fb9f3a"
             ],
             [
              0.8888888888888888,
              "#fdca26"
             ],
             [
              1,
              "#f0f921"
             ]
            ],
            "type": "histogram2d"
           }
          ],
          "histogram2dcontour": [
           {
            "colorbar": {
             "outlinewidth": 0,
             "ticks": ""
            },
            "colorscale": [
             [
              0,
              "#0d0887"
             ],
             [
              0.1111111111111111,
              "#46039f"
             ],
             [
              0.2222222222222222,
              "#7201a8"
             ],
             [
              0.3333333333333333,
              "#9c179e"
             ],
             [
              0.4444444444444444,
              "#bd3786"
             ],
             [
              0.5555555555555556,
              "#d8576b"
             ],
             [
              0.6666666666666666,
              "#ed7953"
             ],
             [
              0.7777777777777778,
              "#fb9f3a"
             ],
             [
              0.8888888888888888,
              "#fdca26"
             ],
             [
              1,
              "#f0f921"
             ]
            ],
            "type": "histogram2dcontour"
           }
          ],
          "mesh3d": [
           {
            "colorbar": {
             "outlinewidth": 0,
             "ticks": ""
            },
            "type": "mesh3d"
           }
          ],
          "parcoords": [
           {
            "line": {
             "colorbar": {
              "outlinewidth": 0,
              "ticks": ""
             }
            },
            "type": "parcoords"
           }
          ],
          "pie": [
           {
            "automargin": true,
            "type": "pie"
           }
          ],
          "scatter": [
           {
            "fillpattern": {
             "fillmode": "overlay",
             "size": 10,
             "solidity": 0.2
            },
            "type": "scatter"
           }
          ],
          "scatter3d": [
           {
            "line": {
             "colorbar": {
              "outlinewidth": 0,
              "ticks": ""
             }
            },
            "marker": {
             "colorbar": {
              "outlinewidth": 0,
              "ticks": ""
             }
            },
            "type": "scatter3d"
           }
          ],
          "scattercarpet": [
           {
            "marker": {
             "colorbar": {
              "outlinewidth": 0,
              "ticks": ""
             }
            },
            "type": "scattercarpet"
           }
          ],
          "scattergeo": [
           {
            "marker": {
             "colorbar": {
              "outlinewidth": 0,
              "ticks": ""
             }
            },
            "type": "scattergeo"
           }
          ],
          "scattergl": [
           {
            "marker": {
             "colorbar": {
              "outlinewidth": 0,
              "ticks": ""
             }
            },
            "type": "scattergl"
           }
          ],
          "scattermapbox": [
           {
            "marker": {
             "colorbar": {
              "outlinewidth": 0,
              "ticks": ""
             }
            },
            "type": "scattermapbox"
           }
          ],
          "scatterpolar": [
           {
            "marker": {
             "colorbar": {
              "outlinewidth": 0,
              "ticks": ""
             }
            },
            "type": "scatterpolar"
           }
          ],
          "scatterpolargl": [
           {
            "marker": {
             "colorbar": {
              "outlinewidth": 0,
              "ticks": ""
             }
            },
            "type": "scatterpolargl"
           }
          ],
          "scatterternary": [
           {
            "marker": {
             "colorbar": {
              "outlinewidth": 0,
              "ticks": ""
             }
            },
            "type": "scatterternary"
           }
          ],
          "surface": [
           {
            "colorbar": {
             "outlinewidth": 0,
             "ticks": ""
            },
            "colorscale": [
             [
              0,
              "#0d0887"
             ],
             [
              0.1111111111111111,
              "#46039f"
             ],
             [
              0.2222222222222222,
              "#7201a8"
             ],
             [
              0.3333333333333333,
              "#9c179e"
             ],
             [
              0.4444444444444444,
              "#bd3786"
             ],
             [
              0.5555555555555556,
              "#d8576b"
             ],
             [
              0.6666666666666666,
              "#ed7953"
             ],
             [
              0.7777777777777778,
              "#fb9f3a"
             ],
             [
              0.8888888888888888,
              "#fdca26"
             ],
             [
              1,
              "#f0f921"
             ]
            ],
            "type": "surface"
           }
          ],
          "table": [
           {
            "cells": {
             "fill": {
              "color": "#EBF0F8"
             },
             "line": {
              "color": "white"
             }
            },
            "header": {
             "fill": {
              "color": "#C8D4E3"
             },
             "line": {
              "color": "white"
             }
            },
            "type": "table"
           }
          ]
         },
         "layout": {
          "annotationdefaults": {
           "arrowcolor": "#2a3f5f",
           "arrowhead": 0,
           "arrowwidth": 1
          },
          "autotypenumbers": "strict",
          "coloraxis": {
           "colorbar": {
            "outlinewidth": 0,
            "ticks": ""
           }
          },
          "colorscale": {
           "diverging": [
            [
             0,
             "#8e0152"
            ],
            [
             0.1,
             "#c51b7d"
            ],
            [
             0.2,
             "#de77ae"
            ],
            [
             0.3,
             "#f1b6da"
            ],
            [
             0.4,
             "#fde0ef"
            ],
            [
             0.5,
             "#f7f7f7"
            ],
            [
             0.6,
             "#e6f5d0"
            ],
            [
             0.7,
             "#b8e186"
            ],
            [
             0.8,
             "#7fbc41"
            ],
            [
             0.9,
             "#4d9221"
            ],
            [
             1,
             "#276419"
            ]
           ],
           "sequential": [
            [
             0,
             "#0d0887"
            ],
            [
             0.1111111111111111,
             "#46039f"
            ],
            [
             0.2222222222222222,
             "#7201a8"
            ],
            [
             0.3333333333333333,
             "#9c179e"
            ],
            [
             0.4444444444444444,
             "#bd3786"
            ],
            [
             0.5555555555555556,
             "#d8576b"
            ],
            [
             0.6666666666666666,
             "#ed7953"
            ],
            [
             0.7777777777777778,
             "#fb9f3a"
            ],
            [
             0.8888888888888888,
             "#fdca26"
            ],
            [
             1,
             "#f0f921"
            ]
           ],
           "sequentialminus": [
            [
             0,
             "#0d0887"
            ],
            [
             0.1111111111111111,
             "#46039f"
            ],
            [
             0.2222222222222222,
             "#7201a8"
            ],
            [
             0.3333333333333333,
             "#9c179e"
            ],
            [
             0.4444444444444444,
             "#bd3786"
            ],
            [
             0.5555555555555556,
             "#d8576b"
            ],
            [
             0.6666666666666666,
             "#ed7953"
            ],
            [
             0.7777777777777778,
             "#fb9f3a"
            ],
            [
             0.8888888888888888,
             "#fdca26"
            ],
            [
             1,
             "#f0f921"
            ]
           ]
          },
          "colorway": [
           "#636efa",
           "#EF553B",
           "#00cc96",
           "#ab63fa",
           "#FFA15A",
           "#19d3f3",
           "#FF6692",
           "#B6E880",
           "#FF97FF",
           "#FECB52"
          ],
          "font": {
           "color": "#2a3f5f"
          },
          "geo": {
           "bgcolor": "white",
           "lakecolor": "white",
           "landcolor": "#E5ECF6",
           "showlakes": true,
           "showland": true,
           "subunitcolor": "white"
          },
          "hoverlabel": {
           "align": "left"
          },
          "hovermode": "closest",
          "mapbox": {
           "style": "light"
          },
          "paper_bgcolor": "white",
          "plot_bgcolor": "#E5ECF6",
          "polar": {
           "angularaxis": {
            "gridcolor": "white",
            "linecolor": "white",
            "ticks": ""
           },
           "bgcolor": "#E5ECF6",
           "radialaxis": {
            "gridcolor": "white",
            "linecolor": "white",
            "ticks": ""
           }
          },
          "scene": {
           "xaxis": {
            "backgroundcolor": "#E5ECF6",
            "gridcolor": "white",
            "gridwidth": 2,
            "linecolor": "white",
            "showbackground": true,
            "ticks": "",
            "zerolinecolor": "white"
           },
           "yaxis": {
            "backgroundcolor": "#E5ECF6",
            "gridcolor": "white",
            "gridwidth": 2,
            "linecolor": "white",
            "showbackground": true,
            "ticks": "",
            "zerolinecolor": "white"
           },
           "zaxis": {
            "backgroundcolor": "#E5ECF6",
            "gridcolor": "white",
            "gridwidth": 2,
            "linecolor": "white",
            "showbackground": true,
            "ticks": "",
            "zerolinecolor": "white"
           }
          },
          "shapedefaults": {
           "line": {
            "color": "#2a3f5f"
           }
          },
          "ternary": {
           "aaxis": {
            "gridcolor": "white",
            "linecolor": "white",
            "ticks": ""
           },
           "baxis": {
            "gridcolor": "white",
            "linecolor": "white",
            "ticks": ""
           },
           "bgcolor": "#E5ECF6",
           "caxis": {
            "gridcolor": "white",
            "linecolor": "white",
            "ticks": ""
           }
          },
          "title": {
           "x": 0.05
          },
          "xaxis": {
           "automargin": true,
           "gridcolor": "white",
           "linecolor": "white",
           "ticks": "",
           "title": {
            "standoff": 15
           },
           "zerolinecolor": "white",
           "zerolinewidth": 2
          },
          "yaxis": {
           "automargin": true,
           "gridcolor": "white",
           "linecolor": "white",
           "ticks": "",
           "title": {
            "standoff": 15
           },
           "zerolinecolor": "white",
           "zerolinewidth": 2
          }
         }
        },
        "title": {
         "text": "Experiment Creation Time"
        },
        "xaxis": {
         "anchor": "y",
         "domain": [
          0,
          1
         ],
         "title": {
          "text": "creation_time"
         }
        },
        "yaxis": {
         "anchor": "x",
         "domain": [
          0,
          1
         ]
        }
       }
      }
     },
     "metadata": {},
     "output_type": "display_data"
    }
   ],
   "source": [
    "px.strip(\n",
    "    experiments,\n",
    "    x=\"creation_time\",\n",
    "    color=\"lifecycle_stage\",\n",
    "    hover_name=\"name\",\n",
    "    hover_data=experiments.columns,\n",
    "    title=\"Experiment Creation Time\",\n",
    ")"
   ]
  },
  {
   "cell_type": "code",
   "execution_count": 10,
   "metadata": {},
   "outputs": [
    {
     "data": {
      "application/vnd.plotly.v1+json": {
       "config": {
        "plotlyServerURL": "https://plot.ly"
       },
       "data": [
        {
         "alignmentgroup": "True",
         "boxpoints": "all",
         "customdata": [
          [
           {
            "Champion": "3"
           },
           "",
           "2024-12-14T14:41:56.590000",
           "bikes",
           {}
          ]
         ],
         "fillcolor": "rgba(255,255,255,0)",
         "hoveron": "points",
         "hovertemplate": "<b>%{hovertext}</b><br><br>creation_timestamp=%{x}<br>aliases=%{customdata[0]}<br>description=%{customdata[1]}<br>last_updated_timestamp=%{customdata[2]}<br>name=%{customdata[3]}<br>tags=%{customdata[4]}<extra></extra>",
         "hovertext": [
          "bikes"
         ],
         "legendgroup": "",
         "line": {
          "color": "rgba(255,255,255,0)"
         },
         "marker": {
          "color": "#636efa"
         },
         "name": "",
         "offsetgroup": "",
         "orientation": "h",
         "pointpos": 0,
         "showlegend": false,
         "type": "box",
         "x": [
          "2024-12-14T14:37:45.482000"
         ],
         "x0": " ",
         "xaxis": "x",
         "y0": " ",
         "yaxis": "y"
        }
       ],
       "layout": {
        "boxmode": "group",
        "legend": {
         "tracegroupgap": 0
        },
        "template": {
         "data": {
          "bar": [
           {
            "error_x": {
             "color": "#2a3f5f"
            },
            "error_y": {
             "color": "#2a3f5f"
            },
            "marker": {
             "line": {
              "color": "#E5ECF6",
              "width": 0.5
             },
             "pattern": {
              "fillmode": "overlay",
              "size": 10,
              "solidity": 0.2
             }
            },
            "type": "bar"
           }
          ],
          "barpolar": [
           {
            "marker": {
             "line": {
              "color": "#E5ECF6",
              "width": 0.5
             },
             "pattern": {
              "fillmode": "overlay",
              "size": 10,
              "solidity": 0.2
             }
            },
            "type": "barpolar"
           }
          ],
          "carpet": [
           {
            "aaxis": {
             "endlinecolor": "#2a3f5f",
             "gridcolor": "white",
             "linecolor": "white",
             "minorgridcolor": "white",
             "startlinecolor": "#2a3f5f"
            },
            "baxis": {
             "endlinecolor": "#2a3f5f",
             "gridcolor": "white",
             "linecolor": "white",
             "minorgridcolor": "white",
             "startlinecolor": "#2a3f5f"
            },
            "type": "carpet"
           }
          ],
          "choropleth": [
           {
            "colorbar": {
             "outlinewidth": 0,
             "ticks": ""
            },
            "type": "choropleth"
           }
          ],
          "contour": [
           {
            "colorbar": {
             "outlinewidth": 0,
             "ticks": ""
            },
            "colorscale": [
             [
              0,
              "#0d0887"
             ],
             [
              0.1111111111111111,
              "#46039f"
             ],
             [
              0.2222222222222222,
              "#7201a8"
             ],
             [
              0.3333333333333333,
              "#9c179e"
             ],
             [
              0.4444444444444444,
              "#bd3786"
             ],
             [
              0.5555555555555556,
              "#d8576b"
             ],
             [
              0.6666666666666666,
              "#ed7953"
             ],
             [
              0.7777777777777778,
              "#fb9f3a"
             ],
             [
              0.8888888888888888,
              "#fdca26"
             ],
             [
              1,
              "#f0f921"
             ]
            ],
            "type": "contour"
           }
          ],
          "contourcarpet": [
           {
            "colorbar": {
             "outlinewidth": 0,
             "ticks": ""
            },
            "type": "contourcarpet"
           }
          ],
          "heatmap": [
           {
            "colorbar": {
             "outlinewidth": 0,
             "ticks": ""
            },
            "colorscale": [
             [
              0,
              "#0d0887"
             ],
             [
              0.1111111111111111,
              "#46039f"
             ],
             [
              0.2222222222222222,
              "#7201a8"
             ],
             [
              0.3333333333333333,
              "#9c179e"
             ],
             [
              0.4444444444444444,
              "#bd3786"
             ],
             [
              0.5555555555555556,
              "#d8576b"
             ],
             [
              0.6666666666666666,
              "#ed7953"
             ],
             [
              0.7777777777777778,
              "#fb9f3a"
             ],
             [
              0.8888888888888888,
              "#fdca26"
             ],
             [
              1,
              "#f0f921"
             ]
            ],
            "type": "heatmap"
           }
          ],
          "heatmapgl": [
           {
            "colorbar": {
             "outlinewidth": 0,
             "ticks": ""
            },
            "colorscale": [
             [
              0,
              "#0d0887"
             ],
             [
              0.1111111111111111,
              "#46039f"
             ],
             [
              0.2222222222222222,
              "#7201a8"
             ],
             [
              0.3333333333333333,
              "#9c179e"
             ],
             [
              0.4444444444444444,
              "#bd3786"
             ],
             [
              0.5555555555555556,
              "#d8576b"
             ],
             [
              0.6666666666666666,
              "#ed7953"
             ],
             [
              0.7777777777777778,
              "#fb9f3a"
             ],
             [
              0.8888888888888888,
              "#fdca26"
             ],
             [
              1,
              "#f0f921"
             ]
            ],
            "type": "heatmapgl"
           }
          ],
          "histogram": [
           {
            "marker": {
             "pattern": {
              "fillmode": "overlay",
              "size": 10,
              "solidity": 0.2
             }
            },
            "type": "histogram"
           }
          ],
          "histogram2d": [
           {
            "colorbar": {
             "outlinewidth": 0,
             "ticks": ""
            },
            "colorscale": [
             [
              0,
              "#0d0887"
             ],
             [
              0.1111111111111111,
              "#46039f"
             ],
             [
              0.2222222222222222,
              "#7201a8"
             ],
             [
              0.3333333333333333,
              "#9c179e"
             ],
             [
              0.4444444444444444,
              "#bd3786"
             ],
             [
              0.5555555555555556,
              "#d8576b"
             ],
             [
              0.6666666666666666,
              "#ed7953"
             ],
             [
              0.7777777777777778,
              "#fb9f3a"
             ],
             [
              0.8888888888888888,
              "#fdca26"
             ],
             [
              1,
              "#f0f921"
             ]
            ],
            "type": "histogram2d"
           }
          ],
          "histogram2dcontour": [
           {
            "colorbar": {
             "outlinewidth": 0,
             "ticks": ""
            },
            "colorscale": [
             [
              0,
              "#0d0887"
             ],
             [
              0.1111111111111111,
              "#46039f"
             ],
             [
              0.2222222222222222,
              "#7201a8"
             ],
             [
              0.3333333333333333,
              "#9c179e"
             ],
             [
              0.4444444444444444,
              "#bd3786"
             ],
             [
              0.5555555555555556,
              "#d8576b"
             ],
             [
              0.6666666666666666,
              "#ed7953"
             ],
             [
              0.7777777777777778,
              "#fb9f3a"
             ],
             [
              0.8888888888888888,
              "#fdca26"
             ],
             [
              1,
              "#f0f921"
             ]
            ],
            "type": "histogram2dcontour"
           }
          ],
          "mesh3d": [
           {
            "colorbar": {
             "outlinewidth": 0,
             "ticks": ""
            },
            "type": "mesh3d"
           }
          ],
          "parcoords": [
           {
            "line": {
             "colorbar": {
              "outlinewidth": 0,
              "ticks": ""
             }
            },
            "type": "parcoords"
           }
          ],
          "pie": [
           {
            "automargin": true,
            "type": "pie"
           }
          ],
          "scatter": [
           {
            "fillpattern": {
             "fillmode": "overlay",
             "size": 10,
             "solidity": 0.2
            },
            "type": "scatter"
           }
          ],
          "scatter3d": [
           {
            "line": {
             "colorbar": {
              "outlinewidth": 0,
              "ticks": ""
             }
            },
            "marker": {
             "colorbar": {
              "outlinewidth": 0,
              "ticks": ""
             }
            },
            "type": "scatter3d"
           }
          ],
          "scattercarpet": [
           {
            "marker": {
             "colorbar": {
              "outlinewidth": 0,
              "ticks": ""
             }
            },
            "type": "scattercarpet"
           }
          ],
          "scattergeo": [
           {
            "marker": {
             "colorbar": {
              "outlinewidth": 0,
              "ticks": ""
             }
            },
            "type": "scattergeo"
           }
          ],
          "scattergl": [
           {
            "marker": {
             "colorbar": {
              "outlinewidth": 0,
              "ticks": ""
             }
            },
            "type": "scattergl"
           }
          ],
          "scattermapbox": [
           {
            "marker": {
             "colorbar": {
              "outlinewidth": 0,
              "ticks": ""
             }
            },
            "type": "scattermapbox"
           }
          ],
          "scatterpolar": [
           {
            "marker": {
             "colorbar": {
              "outlinewidth": 0,
              "ticks": ""
             }
            },
            "type": "scatterpolar"
           }
          ],
          "scatterpolargl": [
           {
            "marker": {
             "colorbar": {
              "outlinewidth": 0,
              "ticks": ""
             }
            },
            "type": "scatterpolargl"
           }
          ],
          "scatterternary": [
           {
            "marker": {
             "colorbar": {
              "outlinewidth": 0,
              "ticks": ""
             }
            },
            "type": "scatterternary"
           }
          ],
          "surface": [
           {
            "colorbar": {
             "outlinewidth": 0,
             "ticks": ""
            },
            "colorscale": [
             [
              0,
              "#0d0887"
             ],
             [
              0.1111111111111111,
              "#46039f"
             ],
             [
              0.2222222222222222,
              "#7201a8"
             ],
             [
              0.3333333333333333,
              "#9c179e"
             ],
             [
              0.4444444444444444,
              "#bd3786"
             ],
             [
              0.5555555555555556,
              "#d8576b"
             ],
             [
              0.6666666666666666,
              "#ed7953"
             ],
             [
              0.7777777777777778,
              "#fb9f3a"
             ],
             [
              0.8888888888888888,
              "#fdca26"
             ],
             [
              1,
              "#f0f921"
             ]
            ],
            "type": "surface"
           }
          ],
          "table": [
           {
            "cells": {
             "fill": {
              "color": "#EBF0F8"
             },
             "line": {
              "color": "white"
             }
            },
            "header": {
             "fill": {
              "color": "#C8D4E3"
             },
             "line": {
              "color": "white"
             }
            },
            "type": "table"
           }
          ]
         },
         "layout": {
          "annotationdefaults": {
           "arrowcolor": "#2a3f5f",
           "arrowhead": 0,
           "arrowwidth": 1
          },
          "autotypenumbers": "strict",
          "coloraxis": {
           "colorbar": {
            "outlinewidth": 0,
            "ticks": ""
           }
          },
          "colorscale": {
           "diverging": [
            [
             0,
             "#8e0152"
            ],
            [
             0.1,
             "#c51b7d"
            ],
            [
             0.2,
             "#de77ae"
            ],
            [
             0.3,
             "#f1b6da"
            ],
            [
             0.4,
             "#fde0ef"
            ],
            [
             0.5,
             "#f7f7f7"
            ],
            [
             0.6,
             "#e6f5d0"
            ],
            [
             0.7,
             "#b8e186"
            ],
            [
             0.8,
             "#7fbc41"
            ],
            [
             0.9,
             "#4d9221"
            ],
            [
             1,
             "#276419"
            ]
           ],
           "sequential": [
            [
             0,
             "#0d0887"
            ],
            [
             0.1111111111111111,
             "#46039f"
            ],
            [
             0.2222222222222222,
             "#7201a8"
            ],
            [
             0.3333333333333333,
             "#9c179e"
            ],
            [
             0.4444444444444444,
             "#bd3786"
            ],
            [
             0.5555555555555556,
             "#d8576b"
            ],
            [
             0.6666666666666666,
             "#ed7953"
            ],
            [
             0.7777777777777778,
             "#fb9f3a"
            ],
            [
             0.8888888888888888,
             "#fdca26"
            ],
            [
             1,
             "#f0f921"
            ]
           ],
           "sequentialminus": [
            [
             0,
             "#0d0887"
            ],
            [
             0.1111111111111111,
             "#46039f"
            ],
            [
             0.2222222222222222,
             "#7201a8"
            ],
            [
             0.3333333333333333,
             "#9c179e"
            ],
            [
             0.4444444444444444,
             "#bd3786"
            ],
            [
             0.5555555555555556,
             "#d8576b"
            ],
            [
             0.6666666666666666,
             "#ed7953"
            ],
            [
             0.7777777777777778,
             "#fb9f3a"
            ],
            [
             0.8888888888888888,
             "#fdca26"
            ],
            [
             1,
             "#f0f921"
            ]
           ]
          },
          "colorway": [
           "#636efa",
           "#EF553B",
           "#00cc96",
           "#ab63fa",
           "#FFA15A",
           "#19d3f3",
           "#FF6692",
           "#B6E880",
           "#FF97FF",
           "#FECB52"
          ],
          "font": {
           "color": "#2a3f5f"
          },
          "geo": {
           "bgcolor": "white",
           "lakecolor": "white",
           "landcolor": "#E5ECF6",
           "showlakes": true,
           "showland": true,
           "subunitcolor": "white"
          },
          "hoverlabel": {
           "align": "left"
          },
          "hovermode": "closest",
          "mapbox": {
           "style": "light"
          },
          "paper_bgcolor": "white",
          "plot_bgcolor": "#E5ECF6",
          "polar": {
           "angularaxis": {
            "gridcolor": "white",
            "linecolor": "white",
            "ticks": ""
           },
           "bgcolor": "#E5ECF6",
           "radialaxis": {
            "gridcolor": "white",
            "linecolor": "white",
            "ticks": ""
           }
          },
          "scene": {
           "xaxis": {
            "backgroundcolor": "#E5ECF6",
            "gridcolor": "white",
            "gridwidth": 2,
            "linecolor": "white",
            "showbackground": true,
            "ticks": "",
            "zerolinecolor": "white"
           },
           "yaxis": {
            "backgroundcolor": "#E5ECF6",
            "gridcolor": "white",
            "gridwidth": 2,
            "linecolor": "white",
            "showbackground": true,
            "ticks": "",
            "zerolinecolor": "white"
           },
           "zaxis": {
            "backgroundcolor": "#E5ECF6",
            "gridcolor": "white",
            "gridwidth": 2,
            "linecolor": "white",
            "showbackground": true,
            "ticks": "",
            "zerolinecolor": "white"
           }
          },
          "shapedefaults": {
           "line": {
            "color": "#2a3f5f"
           }
          },
          "ternary": {
           "aaxis": {
            "gridcolor": "white",
            "linecolor": "white",
            "ticks": ""
           },
           "baxis": {
            "gridcolor": "white",
            "linecolor": "white",
            "ticks": ""
           },
           "bgcolor": "#E5ECF6",
           "caxis": {
            "gridcolor": "white",
            "linecolor": "white",
            "ticks": ""
           }
          },
          "title": {
           "x": 0.05
          },
          "xaxis": {
           "automargin": true,
           "gridcolor": "white",
           "linecolor": "white",
           "ticks": "",
           "title": {
            "standoff": 15
           },
           "zerolinecolor": "white",
           "zerolinewidth": 2
          },
          "yaxis": {
           "automargin": true,
           "gridcolor": "white",
           "linecolor": "white",
           "ticks": "",
           "title": {
            "standoff": 15
           },
           "zerolinecolor": "white",
           "zerolinewidth": 2
          }
         }
        },
        "title": {
         "text": "Model Creation Timestamp"
        },
        "xaxis": {
         "anchor": "y",
         "domain": [
          0,
          1
         ],
         "title": {
          "text": "creation_timestamp"
         }
        },
        "yaxis": {
         "anchor": "x",
         "domain": [
          0,
          1
         ]
        }
       }
      }
     },
     "metadata": {},
     "output_type": "display_data"
    }
   ],
   "source": [
    "px.strip(\n",
    "    models,\n",
    "    x=\"creation_timestamp\",\n",
    "    hover_name=\"name\",\n",
    "    hover_data=models.columns,\n",
    "    title=\"Model Creation Timestamp\",\n",
    ")"
   ]
  },
  {
   "cell_type": "code",
   "execution_count": 11,
   "metadata": {},
   "outputs": [
    {
     "data": {
      "application/vnd.plotly.v1+json": {
       "config": {
        "plotlyServerURL": "https://plot.ly"
       },
       "data": [
        {
         "alignmentgroup": "True",
         "boxpoints": "all",
         "customdata": [
          [
           {
            "Champion": "3"
           },
           "",
           "2024-12-14T14:41:56.590000",
           "bikes",
           {}
          ]
         ],
         "fillcolor": "rgba(255,255,255,0)",
         "hoveron": "points",
         "hovertemplate": "<b>%{hovertext}</b><br><br>creation_timestamp=%{x}<br>aliases=%{customdata[0]}<br>description=%{customdata[1]}<br>last_updated_timestamp=%{customdata[2]}<br>name=%{customdata[3]}<br>tags=%{customdata[4]}<extra></extra>",
         "hovertext": [
          "bikes"
         ],
         "legendgroup": "",
         "line": {
          "color": "rgba(255,255,255,0)"
         },
         "marker": {
          "color": "#636efa"
         },
         "name": "",
         "offsetgroup": "",
         "orientation": "h",
         "pointpos": 0,
         "showlegend": false,
         "type": "box",
         "x": [
          "2024-12-14T14:37:45.482000"
         ],
         "x0": " ",
         "xaxis": "x",
         "y0": " ",
         "yaxis": "y"
        }
       ],
       "layout": {
        "boxmode": "group",
        "legend": {
         "tracegroupgap": 0
        },
        "template": {
         "data": {
          "bar": [
           {
            "error_x": {
             "color": "#2a3f5f"
            },
            "error_y": {
             "color": "#2a3f5f"
            },
            "marker": {
             "line": {
              "color": "#E5ECF6",
              "width": 0.5
             },
             "pattern": {
              "fillmode": "overlay",
              "size": 10,
              "solidity": 0.2
             }
            },
            "type": "bar"
           }
          ],
          "barpolar": [
           {
            "marker": {
             "line": {
              "color": "#E5ECF6",
              "width": 0.5
             },
             "pattern": {
              "fillmode": "overlay",
              "size": 10,
              "solidity": 0.2
             }
            },
            "type": "barpolar"
           }
          ],
          "carpet": [
           {
            "aaxis": {
             "endlinecolor": "#2a3f5f",
             "gridcolor": "white",
             "linecolor": "white",
             "minorgridcolor": "white",
             "startlinecolor": "#2a3f5f"
            },
            "baxis": {
             "endlinecolor": "#2a3f5f",
             "gridcolor": "white",
             "linecolor": "white",
             "minorgridcolor": "white",
             "startlinecolor": "#2a3f5f"
            },
            "type": "carpet"
           }
          ],
          "choropleth": [
           {
            "colorbar": {
             "outlinewidth": 0,
             "ticks": ""
            },
            "type": "choropleth"
           }
          ],
          "contour": [
           {
            "colorbar": {
             "outlinewidth": 0,
             "ticks": ""
            },
            "colorscale": [
             [
              0,
              "#0d0887"
             ],
             [
              0.1111111111111111,
              "#46039f"
             ],
             [
              0.2222222222222222,
              "#7201a8"
             ],
             [
              0.3333333333333333,
              "#9c179e"
             ],
             [
              0.4444444444444444,
              "#bd3786"
             ],
             [
              0.5555555555555556,
              "#d8576b"
             ],
             [
              0.6666666666666666,
              "#ed7953"
             ],
             [
              0.7777777777777778,
              "#fb9f3a"
             ],
             [
              0.8888888888888888,
              "#fdca26"
             ],
             [
              1,
              "#f0f921"
             ]
            ],
            "type": "contour"
           }
          ],
          "contourcarpet": [
           {
            "colorbar": {
             "outlinewidth": 0,
             "ticks": ""
            },
            "type": "contourcarpet"
           }
          ],
          "heatmap": [
           {
            "colorbar": {
             "outlinewidth": 0,
             "ticks": ""
            },
            "colorscale": [
             [
              0,
              "#0d0887"
             ],
             [
              0.1111111111111111,
              "#46039f"
             ],
             [
              0.2222222222222222,
              "#7201a8"
             ],
             [
              0.3333333333333333,
              "#9c179e"
             ],
             [
              0.4444444444444444,
              "#bd3786"
             ],
             [
              0.5555555555555556,
              "#d8576b"
             ],
             [
              0.6666666666666666,
              "#ed7953"
             ],
             [
              0.7777777777777778,
              "#fb9f3a"
             ],
             [
              0.8888888888888888,
              "#fdca26"
             ],
             [
              1,
              "#f0f921"
             ]
            ],
            "type": "heatmap"
           }
          ],
          "heatmapgl": [
           {
            "colorbar": {
             "outlinewidth": 0,
             "ticks": ""
            },
            "colorscale": [
             [
              0,
              "#0d0887"
             ],
             [
              0.1111111111111111,
              "#46039f"
             ],
             [
              0.2222222222222222,
              "#7201a8"
             ],
             [
              0.3333333333333333,
              "#9c179e"
             ],
             [
              0.4444444444444444,
              "#bd3786"
             ],
             [
              0.5555555555555556,
              "#d8576b"
             ],
             [
              0.6666666666666666,
              "#ed7953"
             ],
             [
              0.7777777777777778,
              "#fb9f3a"
             ],
             [
              0.8888888888888888,
              "#fdca26"
             ],
             [
              1,
              "#f0f921"
             ]
            ],
            "type": "heatmapgl"
           }
          ],
          "histogram": [
           {
            "marker": {
             "pattern": {
              "fillmode": "overlay",
              "size": 10,
              "solidity": 0.2
             }
            },
            "type": "histogram"
           }
          ],
          "histogram2d": [
           {
            "colorbar": {
             "outlinewidth": 0,
             "ticks": ""
            },
            "colorscale": [
             [
              0,
              "#0d0887"
             ],
             [
              0.1111111111111111,
              "#46039f"
             ],
             [
              0.2222222222222222,
              "#7201a8"
             ],
             [
              0.3333333333333333,
              "#9c179e"
             ],
             [
              0.4444444444444444,
              "#bd3786"
             ],
             [
              0.5555555555555556,
              "#d8576b"
             ],
             [
              0.6666666666666666,
              "#ed7953"
             ],
             [
              0.7777777777777778,
              "#fb9f3a"
             ],
             [
              0.8888888888888888,
              "#fdca26"
             ],
             [
              1,
              "#f0f921"
             ]
            ],
            "type": "histogram2d"
           }
          ],
          "histogram2dcontour": [
           {
            "colorbar": {
             "outlinewidth": 0,
             "ticks": ""
            },
            "colorscale": [
             [
              0,
              "#0d0887"
             ],
             [
              0.1111111111111111,
              "#46039f"
             ],
             [
              0.2222222222222222,
              "#7201a8"
             ],
             [
              0.3333333333333333,
              "#9c179e"
             ],
             [
              0.4444444444444444,
              "#bd3786"
             ],
             [
              0.5555555555555556,
              "#d8576b"
             ],
             [
              0.6666666666666666,
              "#ed7953"
             ],
             [
              0.7777777777777778,
              "#fb9f3a"
             ],
             [
              0.8888888888888888,
              "#fdca26"
             ],
             [
              1,
              "#f0f921"
             ]
            ],
            "type": "histogram2dcontour"
           }
          ],
          "mesh3d": [
           {
            "colorbar": {
             "outlinewidth": 0,
             "ticks": ""
            },
            "type": "mesh3d"
           }
          ],
          "parcoords": [
           {
            "line": {
             "colorbar": {
              "outlinewidth": 0,
              "ticks": ""
             }
            },
            "type": "parcoords"
           }
          ],
          "pie": [
           {
            "automargin": true,
            "type": "pie"
           }
          ],
          "scatter": [
           {
            "fillpattern": {
             "fillmode": "overlay",
             "size": 10,
             "solidity": 0.2
            },
            "type": "scatter"
           }
          ],
          "scatter3d": [
           {
            "line": {
             "colorbar": {
              "outlinewidth": 0,
              "ticks": ""
             }
            },
            "marker": {
             "colorbar": {
              "outlinewidth": 0,
              "ticks": ""
             }
            },
            "type": "scatter3d"
           }
          ],
          "scattercarpet": [
           {
            "marker": {
             "colorbar": {
              "outlinewidth": 0,
              "ticks": ""
             }
            },
            "type": "scattercarpet"
           }
          ],
          "scattergeo": [
           {
            "marker": {
             "colorbar": {
              "outlinewidth": 0,
              "ticks": ""
             }
            },
            "type": "scattergeo"
           }
          ],
          "scattergl": [
           {
            "marker": {
             "colorbar": {
              "outlinewidth": 0,
              "ticks": ""
             }
            },
            "type": "scattergl"
           }
          ],
          "scattermapbox": [
           {
            "marker": {
             "colorbar": {
              "outlinewidth": 0,
              "ticks": ""
             }
            },
            "type": "scattermapbox"
           }
          ],
          "scatterpolar": [
           {
            "marker": {
             "colorbar": {
              "outlinewidth": 0,
              "ticks": ""
             }
            },
            "type": "scatterpolar"
           }
          ],
          "scatterpolargl": [
           {
            "marker": {
             "colorbar": {
              "outlinewidth": 0,
              "ticks": ""
             }
            },
            "type": "scatterpolargl"
           }
          ],
          "scatterternary": [
           {
            "marker": {
             "colorbar": {
              "outlinewidth": 0,
              "ticks": ""
             }
            },
            "type": "scatterternary"
           }
          ],
          "surface": [
           {
            "colorbar": {
             "outlinewidth": 0,
             "ticks": ""
            },
            "colorscale": [
             [
              0,
              "#0d0887"
             ],
             [
              0.1111111111111111,
              "#46039f"
             ],
             [
              0.2222222222222222,
              "#7201a8"
             ],
             [
              0.3333333333333333,
              "#9c179e"
             ],
             [
              0.4444444444444444,
              "#bd3786"
             ],
             [
              0.5555555555555556,
              "#d8576b"
             ],
             [
              0.6666666666666666,
              "#ed7953"
             ],
             [
              0.7777777777777778,
              "#fb9f3a"
             ],
             [
              0.8888888888888888,
              "#fdca26"
             ],
             [
              1,
              "#f0f921"
             ]
            ],
            "type": "surface"
           }
          ],
          "table": [
           {
            "cells": {
             "fill": {
              "color": "#EBF0F8"
             },
             "line": {
              "color": "white"
             }
            },
            "header": {
             "fill": {
              "color": "#C8D4E3"
             },
             "line": {
              "color": "white"
             }
            },
            "type": "table"
           }
          ]
         },
         "layout": {
          "annotationdefaults": {
           "arrowcolor": "#2a3f5f",
           "arrowhead": 0,
           "arrowwidth": 1
          },
          "autotypenumbers": "strict",
          "coloraxis": {
           "colorbar": {
            "outlinewidth": 0,
            "ticks": ""
           }
          },
          "colorscale": {
           "diverging": [
            [
             0,
             "#8e0152"
            ],
            [
             0.1,
             "#c51b7d"
            ],
            [
             0.2,
             "#de77ae"
            ],
            [
             0.3,
             "#f1b6da"
            ],
            [
             0.4,
             "#fde0ef"
            ],
            [
             0.5,
             "#f7f7f7"
            ],
            [
             0.6,
             "#e6f5d0"
            ],
            [
             0.7,
             "#b8e186"
            ],
            [
             0.8,
             "#7fbc41"
            ],
            [
             0.9,
             "#4d9221"
            ],
            [
             1,
             "#276419"
            ]
           ],
           "sequential": [
            [
             0,
             "#0d0887"
            ],
            [
             0.1111111111111111,
             "#46039f"
            ],
            [
             0.2222222222222222,
             "#7201a8"
            ],
            [
             0.3333333333333333,
             "#9c179e"
            ],
            [
             0.4444444444444444,
             "#bd3786"
            ],
            [
             0.5555555555555556,
             "#d8576b"
            ],
            [
             0.6666666666666666,
             "#ed7953"
            ],
            [
             0.7777777777777778,
             "#fb9f3a"
            ],
            [
             0.8888888888888888,
             "#fdca26"
            ],
            [
             1,
             "#f0f921"
            ]
           ],
           "sequentialminus": [
            [
             0,
             "#0d0887"
            ],
            [
             0.1111111111111111,
             "#46039f"
            ],
            [
             0.2222222222222222,
             "#7201a8"
            ],
            [
             0.3333333333333333,
             "#9c179e"
            ],
            [
             0.4444444444444444,
             "#bd3786"
            ],
            [
             0.5555555555555556,
             "#d8576b"
            ],
            [
             0.6666666666666666,
             "#ed7953"
            ],
            [
             0.7777777777777778,
             "#fb9f3a"
            ],
            [
             0.8888888888888888,
             "#fdca26"
            ],
            [
             1,
             "#f0f921"
            ]
           ]
          },
          "colorway": [
           "#636efa",
           "#EF553B",
           "#00cc96",
           "#ab63fa",
           "#FFA15A",
           "#19d3f3",
           "#FF6692",
           "#B6E880",
           "#FF97FF",
           "#FECB52"
          ],
          "font": {
           "color": "#2a3f5f"
          },
          "geo": {
           "bgcolor": "white",
           "lakecolor": "white",
           "landcolor": "#E5ECF6",
           "showlakes": true,
           "showland": true,
           "subunitcolor": "white"
          },
          "hoverlabel": {
           "align": "left"
          },
          "hovermode": "closest",
          "mapbox": {
           "style": "light"
          },
          "paper_bgcolor": "white",
          "plot_bgcolor": "#E5ECF6",
          "polar": {
           "angularaxis": {
            "gridcolor": "white",
            "linecolor": "white",
            "ticks": ""
           },
           "bgcolor": "#E5ECF6",
           "radialaxis": {
            "gridcolor": "white",
            "linecolor": "white",
            "ticks": ""
           }
          },
          "scene": {
           "xaxis": {
            "backgroundcolor": "#E5ECF6",
            "gridcolor": "white",
            "gridwidth": 2,
            "linecolor": "white",
            "showbackground": true,
            "ticks": "",
            "zerolinecolor": "white"
           },
           "yaxis": {
            "backgroundcolor": "#E5ECF6",
            "gridcolor": "white",
            "gridwidth": 2,
            "linecolor": "white",
            "showbackground": true,
            "ticks": "",
            "zerolinecolor": "white"
           },
           "zaxis": {
            "backgroundcolor": "#E5ECF6",
            "gridcolor": "white",
            "gridwidth": 2,
            "linecolor": "white",
            "showbackground": true,
            "ticks": "",
            "zerolinecolor": "white"
           }
          },
          "shapedefaults": {
           "line": {
            "color": "#2a3f5f"
           }
          },
          "ternary": {
           "aaxis": {
            "gridcolor": "white",
            "linecolor": "white",
            "ticks": ""
           },
           "baxis": {
            "gridcolor": "white",
            "linecolor": "white",
            "ticks": ""
           },
           "bgcolor": "#E5ECF6",
           "caxis": {
            "gridcolor": "white",
            "linecolor": "white",
            "ticks": ""
           }
          },
          "title": {
           "x": 0.05
          },
          "xaxis": {
           "automargin": true,
           "gridcolor": "white",
           "linecolor": "white",
           "ticks": "",
           "title": {
            "standoff": 15
           },
           "zerolinecolor": "white",
           "zerolinewidth": 2
          },
          "yaxis": {
           "automargin": true,
           "gridcolor": "white",
           "linecolor": "white",
           "ticks": "",
           "title": {
            "standoff": 15
           },
           "zerolinecolor": "white",
           "zerolinewidth": 2
          }
         }
        },
        "title": {
         "text": "Model Creation Timestamp"
        },
        "xaxis": {
         "anchor": "y",
         "domain": [
          0,
          1
         ],
         "title": {
          "text": "creation_timestamp"
         }
        },
        "yaxis": {
         "anchor": "x",
         "domain": [
          0,
          1
         ]
        }
       }
      }
     },
     "metadata": {},
     "output_type": "display_data"
    }
   ],
   "source": [
    "px.strip(\n",
    "    models,\n",
    "    x=\"creation_timestamp\",\n",
    "    hover_name=\"name\",\n",
    "    hover_data=models.columns,\n",
    "    title=\"Model Creation Timestamp\",\n",
    ")"
   ]
  },
  {
   "cell_type": "code",
   "execution_count": 12,
   "metadata": {},
   "outputs": [
    {
     "data": {
      "application/vnd.plotly.v1+json": {
       "config": {
        "plotlyServerURL": "https://plot.ly"
       },
       "data": [
        {
         "alignmentgroup": "True",
         "boxpoints": "all",
         "customdata": [
          [
           "Champion",
           "None",
           "",
           "2024-12-14T14:41:48.936000",
           "bikes",
           "4753bf6b106845d19eca79b7cb329343",
           "",
           "file:///home/fmind/mlops-python-package/mlruns/300971336194126583/4753bf6b106845d19eca79b7cb329343/artifacts/model",
           "READY",
           "",
           {},
           "",
           "3"
          ],
          [
           null,
           "None",
           "",
           "2024-12-14T14:39:49.417000",
           "bikes",
           "ae9f673f6b264240bb79ffd94ca49fe2",
           "",
           "file:///home/fmind/mlops-python-package/mlruns/300971336194126583/ae9f673f6b264240bb79ffd94ca49fe2/artifacts/model",
           "READY",
           "",
           {},
           "",
           "2"
          ],
          [
           null,
           "None",
           "",
           "2024-12-14T14:37:45.487000",
           "bikes",
           "d2aed973c12b475f849743599f7bc973",
           "",
           "file:///home/fmind/mlops-python-package/mlruns/300971336194126583/d2aed973c12b475f849743599f7bc973/artifacts/model",
           "READY",
           "",
           {},
           "",
           "1"
          ]
         ],
         "fillcolor": "rgba(255,255,255,0)",
         "hoveron": "points",
         "hovertemplate": "<b>%{hovertext}</b><br><br>name=%{customdata[4]}<br>creation_timestamp=%{x}<br>aliases=%{customdata[0]}<br>current_stage=%{customdata[1]}<br>description=%{customdata[2]}<br>last_updated_timestamp=%{customdata[3]}<br>run_id=%{customdata[5]}<br>run_link=%{customdata[6]}<br>source=%{customdata[7]}<br>status=%{customdata[8]}<br>status_message=%{customdata[9]}<br>tags=%{customdata[10]}<br>user_id=%{customdata[11]}<br>version=%{customdata[12]}<extra></extra>",
         "hovertext": [
          "bikes",
          "bikes",
          "bikes"
         ],
         "legendgroup": "bikes",
         "line": {
          "color": "rgba(255,255,255,0)"
         },
         "marker": {
          "color": "#636efa"
         },
         "name": "bikes",
         "offsetgroup": "bikes",
         "orientation": "h",
         "pointpos": 0,
         "showlegend": true,
         "type": "box",
         "x": [
          "2024-12-14T14:41:48.936000",
          "2024-12-14T14:39:49.417000",
          "2024-12-14T14:37:45.487000"
         ],
         "x0": " ",
         "xaxis": "x",
         "y0": " ",
         "yaxis": "y"
        }
       ],
       "layout": {
        "boxmode": "group",
        "legend": {
         "title": {
          "text": "name"
         },
         "tracegroupgap": 0
        },
        "template": {
         "data": {
          "bar": [
           {
            "error_x": {
             "color": "#2a3f5f"
            },
            "error_y": {
             "color": "#2a3f5f"
            },
            "marker": {
             "line": {
              "color": "#E5ECF6",
              "width": 0.5
             },
             "pattern": {
              "fillmode": "overlay",
              "size": 10,
              "solidity": 0.2
             }
            },
            "type": "bar"
           }
          ],
          "barpolar": [
           {
            "marker": {
             "line": {
              "color": "#E5ECF6",
              "width": 0.5
             },
             "pattern": {
              "fillmode": "overlay",
              "size": 10,
              "solidity": 0.2
             }
            },
            "type": "barpolar"
           }
          ],
          "carpet": [
           {
            "aaxis": {
             "endlinecolor": "#2a3f5f",
             "gridcolor": "white",
             "linecolor": "white",
             "minorgridcolor": "white",
             "startlinecolor": "#2a3f5f"
            },
            "baxis": {
             "endlinecolor": "#2a3f5f",
             "gridcolor": "white",
             "linecolor": "white",
             "minorgridcolor": "white",
             "startlinecolor": "#2a3f5f"
            },
            "type": "carpet"
           }
          ],
          "choropleth": [
           {
            "colorbar": {
             "outlinewidth": 0,
             "ticks": ""
            },
            "type": "choropleth"
           }
          ],
          "contour": [
           {
            "colorbar": {
             "outlinewidth": 0,
             "ticks": ""
            },
            "colorscale": [
             [
              0,
              "#0d0887"
             ],
             [
              0.1111111111111111,
              "#46039f"
             ],
             [
              0.2222222222222222,
              "#7201a8"
             ],
             [
              0.3333333333333333,
              "#9c179e"
             ],
             [
              0.4444444444444444,
              "#bd3786"
             ],
             [
              0.5555555555555556,
              "#d8576b"
             ],
             [
              0.6666666666666666,
              "#ed7953"
             ],
             [
              0.7777777777777778,
              "#fb9f3a"
             ],
             [
              0.8888888888888888,
              "#fdca26"
             ],
             [
              1,
              "#f0f921"
             ]
            ],
            "type": "contour"
           }
          ],
          "contourcarpet": [
           {
            "colorbar": {
             "outlinewidth": 0,
             "ticks": ""
            },
            "type": "contourcarpet"
           }
          ],
          "heatmap": [
           {
            "colorbar": {
             "outlinewidth": 0,
             "ticks": ""
            },
            "colorscale": [
             [
              0,
              "#0d0887"
             ],
             [
              0.1111111111111111,
              "#46039f"
             ],
             [
              0.2222222222222222,
              "#7201a8"
             ],
             [
              0.3333333333333333,
              "#9c179e"
             ],
             [
              0.4444444444444444,
              "#bd3786"
             ],
             [
              0.5555555555555556,
              "#d8576b"
             ],
             [
              0.6666666666666666,
              "#ed7953"
             ],
             [
              0.7777777777777778,
              "#fb9f3a"
             ],
             [
              0.8888888888888888,
              "#fdca26"
             ],
             [
              1,
              "#f0f921"
             ]
            ],
            "type": "heatmap"
           }
          ],
          "heatmapgl": [
           {
            "colorbar": {
             "outlinewidth": 0,
             "ticks": ""
            },
            "colorscale": [
             [
              0,
              "#0d0887"
             ],
             [
              0.1111111111111111,
              "#46039f"
             ],
             [
              0.2222222222222222,
              "#7201a8"
             ],
             [
              0.3333333333333333,
              "#9c179e"
             ],
             [
              0.4444444444444444,
              "#bd3786"
             ],
             [
              0.5555555555555556,
              "#d8576b"
             ],
             [
              0.6666666666666666,
              "#ed7953"
             ],
             [
              0.7777777777777778,
              "#fb9f3a"
             ],
             [
              0.8888888888888888,
              "#fdca26"
             ],
             [
              1,
              "#f0f921"
             ]
            ],
            "type": "heatmapgl"
           }
          ],
          "histogram": [
           {
            "marker": {
             "pattern": {
              "fillmode": "overlay",
              "size": 10,
              "solidity": 0.2
             }
            },
            "type": "histogram"
           }
          ],
          "histogram2d": [
           {
            "colorbar": {
             "outlinewidth": 0,
             "ticks": ""
            },
            "colorscale": [
             [
              0,
              "#0d0887"
             ],
             [
              0.1111111111111111,
              "#46039f"
             ],
             [
              0.2222222222222222,
              "#7201a8"
             ],
             [
              0.3333333333333333,
              "#9c179e"
             ],
             [
              0.4444444444444444,
              "#bd3786"
             ],
             [
              0.5555555555555556,
              "#d8576b"
             ],
             [
              0.6666666666666666,
              "#ed7953"
             ],
             [
              0.7777777777777778,
              "#fb9f3a"
             ],
             [
              0.8888888888888888,
              "#fdca26"
             ],
             [
              1,
              "#f0f921"
             ]
            ],
            "type": "histogram2d"
           }
          ],
          "histogram2dcontour": [
           {
            "colorbar": {
             "outlinewidth": 0,
             "ticks": ""
            },
            "colorscale": [
             [
              0,
              "#0d0887"
             ],
             [
              0.1111111111111111,
              "#46039f"
             ],
             [
              0.2222222222222222,
              "#7201a8"
             ],
             [
              0.3333333333333333,
              "#9c179e"
             ],
             [
              0.4444444444444444,
              "#bd3786"
             ],
             [
              0.5555555555555556,
              "#d8576b"
             ],
             [
              0.6666666666666666,
              "#ed7953"
             ],
             [
              0.7777777777777778,
              "#fb9f3a"
             ],
             [
              0.8888888888888888,
              "#fdca26"
             ],
             [
              1,
              "#f0f921"
             ]
            ],
            "type": "histogram2dcontour"
           }
          ],
          "mesh3d": [
           {
            "colorbar": {
             "outlinewidth": 0,
             "ticks": ""
            },
            "type": "mesh3d"
           }
          ],
          "parcoords": [
           {
            "line": {
             "colorbar": {
              "outlinewidth": 0,
              "ticks": ""
             }
            },
            "type": "parcoords"
           }
          ],
          "pie": [
           {
            "automargin": true,
            "type": "pie"
           }
          ],
          "scatter": [
           {
            "fillpattern": {
             "fillmode": "overlay",
             "size": 10,
             "solidity": 0.2
            },
            "type": "scatter"
           }
          ],
          "scatter3d": [
           {
            "line": {
             "colorbar": {
              "outlinewidth": 0,
              "ticks": ""
             }
            },
            "marker": {
             "colorbar": {
              "outlinewidth": 0,
              "ticks": ""
             }
            },
            "type": "scatter3d"
           }
          ],
          "scattercarpet": [
           {
            "marker": {
             "colorbar": {
              "outlinewidth": 0,
              "ticks": ""
             }
            },
            "type": "scattercarpet"
           }
          ],
          "scattergeo": [
           {
            "marker": {
             "colorbar": {
              "outlinewidth": 0,
              "ticks": ""
             }
            },
            "type": "scattergeo"
           }
          ],
          "scattergl": [
           {
            "marker": {
             "colorbar": {
              "outlinewidth": 0,
              "ticks": ""
             }
            },
            "type": "scattergl"
           }
          ],
          "scattermapbox": [
           {
            "marker": {
             "colorbar": {
              "outlinewidth": 0,
              "ticks": ""
             }
            },
            "type": "scattermapbox"
           }
          ],
          "scatterpolar": [
           {
            "marker": {
             "colorbar": {
              "outlinewidth": 0,
              "ticks": ""
             }
            },
            "type": "scatterpolar"
           }
          ],
          "scatterpolargl": [
           {
            "marker": {
             "colorbar": {
              "outlinewidth": 0,
              "ticks": ""
             }
            },
            "type": "scatterpolargl"
           }
          ],
          "scatterternary": [
           {
            "marker": {
             "colorbar": {
              "outlinewidth": 0,
              "ticks": ""
             }
            },
            "type": "scatterternary"
           }
          ],
          "surface": [
           {
            "colorbar": {
             "outlinewidth": 0,
             "ticks": ""
            },
            "colorscale": [
             [
              0,
              "#0d0887"
             ],
             [
              0.1111111111111111,
              "#46039f"
             ],
             [
              0.2222222222222222,
              "#7201a8"
             ],
             [
              0.3333333333333333,
              "#9c179e"
             ],
             [
              0.4444444444444444,
              "#bd3786"
             ],
             [
              0.5555555555555556,
              "#d8576b"
             ],
             [
              0.6666666666666666,
              "#ed7953"
             ],
             [
              0.7777777777777778,
              "#fb9f3a"
             ],
             [
              0.8888888888888888,
              "#fdca26"
             ],
             [
              1,
              "#f0f921"
             ]
            ],
            "type": "surface"
           }
          ],
          "table": [
           {
            "cells": {
             "fill": {
              "color": "#EBF0F8"
             },
             "line": {
              "color": "white"
             }
            },
            "header": {
             "fill": {
              "color": "#C8D4E3"
             },
             "line": {
              "color": "white"
             }
            },
            "type": "table"
           }
          ]
         },
         "layout": {
          "annotationdefaults": {
           "arrowcolor": "#2a3f5f",
           "arrowhead": 0,
           "arrowwidth": 1
          },
          "autotypenumbers": "strict",
          "coloraxis": {
           "colorbar": {
            "outlinewidth": 0,
            "ticks": ""
           }
          },
          "colorscale": {
           "diverging": [
            [
             0,
             "#8e0152"
            ],
            [
             0.1,
             "#c51b7d"
            ],
            [
             0.2,
             "#de77ae"
            ],
            [
             0.3,
             "#f1b6da"
            ],
            [
             0.4,
             "#fde0ef"
            ],
            [
             0.5,
             "#f7f7f7"
            ],
            [
             0.6,
             "#e6f5d0"
            ],
            [
             0.7,
             "#b8e186"
            ],
            [
             0.8,
             "#7fbc41"
            ],
            [
             0.9,
             "#4d9221"
            ],
            [
             1,
             "#276419"
            ]
           ],
           "sequential": [
            [
             0,
             "#0d0887"
            ],
            [
             0.1111111111111111,
             "#46039f"
            ],
            [
             0.2222222222222222,
             "#7201a8"
            ],
            [
             0.3333333333333333,
             "#9c179e"
            ],
            [
             0.4444444444444444,
             "#bd3786"
            ],
            [
             0.5555555555555556,
             "#d8576b"
            ],
            [
             0.6666666666666666,
             "#ed7953"
            ],
            [
             0.7777777777777778,
             "#fb9f3a"
            ],
            [
             0.8888888888888888,
             "#fdca26"
            ],
            [
             1,
             "#f0f921"
            ]
           ],
           "sequentialminus": [
            [
             0,
             "#0d0887"
            ],
            [
             0.1111111111111111,
             "#46039f"
            ],
            [
             0.2222222222222222,
             "#7201a8"
            ],
            [
             0.3333333333333333,
             "#9c179e"
            ],
            [
             0.4444444444444444,
             "#bd3786"
            ],
            [
             0.5555555555555556,
             "#d8576b"
            ],
            [
             0.6666666666666666,
             "#ed7953"
            ],
            [
             0.7777777777777778,
             "#fb9f3a"
            ],
            [
             0.8888888888888888,
             "#fdca26"
            ],
            [
             1,
             "#f0f921"
            ]
           ]
          },
          "colorway": [
           "#636efa",
           "#EF553B",
           "#00cc96",
           "#ab63fa",
           "#FFA15A",
           "#19d3f3",
           "#FF6692",
           "#B6E880",
           "#FF97FF",
           "#FECB52"
          ],
          "font": {
           "color": "#2a3f5f"
          },
          "geo": {
           "bgcolor": "white",
           "lakecolor": "white",
           "landcolor": "#E5ECF6",
           "showlakes": true,
           "showland": true,
           "subunitcolor": "white"
          },
          "hoverlabel": {
           "align": "left"
          },
          "hovermode": "closest",
          "mapbox": {
           "style": "light"
          },
          "paper_bgcolor": "white",
          "plot_bgcolor": "#E5ECF6",
          "polar": {
           "angularaxis": {
            "gridcolor": "white",
            "linecolor": "white",
            "ticks": ""
           },
           "bgcolor": "#E5ECF6",
           "radialaxis": {
            "gridcolor": "white",
            "linecolor": "white",
            "ticks": ""
           }
          },
          "scene": {
           "xaxis": {
            "backgroundcolor": "#E5ECF6",
            "gridcolor": "white",
            "gridwidth": 2,
            "linecolor": "white",
            "showbackground": true,
            "ticks": "",
            "zerolinecolor": "white"
           },
           "yaxis": {
            "backgroundcolor": "#E5ECF6",
            "gridcolor": "white",
            "gridwidth": 2,
            "linecolor": "white",
            "showbackground": true,
            "ticks": "",
            "zerolinecolor": "white"
           },
           "zaxis": {
            "backgroundcolor": "#E5ECF6",
            "gridcolor": "white",
            "gridwidth": 2,
            "linecolor": "white",
            "showbackground": true,
            "ticks": "",
            "zerolinecolor": "white"
           }
          },
          "shapedefaults": {
           "line": {
            "color": "#2a3f5f"
           }
          },
          "ternary": {
           "aaxis": {
            "gridcolor": "white",
            "linecolor": "white",
            "ticks": ""
           },
           "baxis": {
            "gridcolor": "white",
            "linecolor": "white",
            "ticks": ""
           },
           "bgcolor": "#E5ECF6",
           "caxis": {
            "gridcolor": "white",
            "linecolor": "white",
            "ticks": ""
           }
          },
          "title": {
           "x": 0.05
          },
          "xaxis": {
           "automargin": true,
           "gridcolor": "white",
           "linecolor": "white",
           "ticks": "",
           "title": {
            "standoff": 15
           },
           "zerolinecolor": "white",
           "zerolinewidth": 2
          },
          "yaxis": {
           "automargin": true,
           "gridcolor": "white",
           "linecolor": "white",
           "ticks": "",
           "title": {
            "standoff": 15
           },
           "zerolinecolor": "white",
           "zerolinewidth": 2
          }
         }
        },
        "title": {
         "text": "Version Creation Timestamp"
        },
        "xaxis": {
         "anchor": "y",
         "domain": [
          0,
          1
         ],
         "title": {
          "text": "creation_timestamp"
         }
        },
        "yaxis": {
         "anchor": "x",
         "domain": [
          0,
          1
         ]
        }
       }
      }
     },
     "metadata": {},
     "output_type": "display_data"
    }
   ],
   "source": [
    "px.strip(\n",
    "    versions,\n",
    "    x=\"creation_timestamp\",\n",
    "    color=\"name\",\n",
    "    hover_name=\"name\",\n",
    "    hover_data=versions.columns,\n",
    "    title=\"Version Creation Timestamp\",\n",
    ")"
   ]
  },
  {
   "cell_type": "code",
   "execution_count": 13,
   "metadata": {},
   "outputs": [
    {
     "data": {
      "application/vnd.plotly.v1+json": {
       "config": {
        "plotlyServerURL": "https://plot.ly"
       },
       "data": [
        {
         "alignmentgroup": "True",
         "boxpoints": "all",
         "customdata": [
          [
           "file:///home/fmind/mlops-python-package/mlruns/300971336194126583/9923cb99c1824857b68c0bedb63f8446/artifacts",
           "2024-12-14T14:42:28.056000",
           "300971336194126583",
           "active",
           "9923cb99c1824857b68c0bedb63f8446",
           "Explanations",
           "9923cb99c1824857b68c0bedb63f8446",
           "FINISHED",
           "fmind",
           {},
           {
            "conf_file": "confs/explanations.yaml"
           },
           {
            "mlflow.gitRepoURL": "git@github.com:fmind/mlops-python-package",
            "mlflow.project.backend": "local",
            "mlflow.project.entryPoint": "main",
            "mlflow.project.env": "virtualenv",
            "mlflow.runName": "Explanations",
            "mlflow.source.git.commit": "1a4b8a25a32f0e933a7db9ec47f763cc7bd17d1c",
            "mlflow.source.git.repoURL": "git@github.com:fmind/mlops-python-package",
            "mlflow.source.name": "file:///home/fmind/mlops-python-package",
            "mlflow.source.type": "PROJECT",
            "mlflow.user": "fmind"
           },
           11.979,
           "fmind",
           "file:///home/fmind/mlops-python-package",
           "PROJECT",
           "main",
           "1a4b8a25a32f0e933a7db9ec47f763cc7bd17d1c",
           "git@github.com:fmind/mlops-python-package",
           "git@github.com:fmind/mlops-python-package",
           "Explanations",
           "virtualenv",
           "local",
           null,
           null,
           null,
           null,
           null
          ],
          [
           "file:///home/fmind/mlops-python-package/mlruns/300971336194126583/bfce074e34834054b84e5794450a4fa2/artifacts",
           "2024-12-14T14:42:13.733000",
           "300971336194126583",
           "active",
           "bfce074e34834054b84e5794450a4fa2",
           "Evaluations",
           "bfce074e34834054b84e5794450a4fa2",
           "FINISHED",
           "fmind",
           {
            "example_count": 13903,
            "max_error": 4294967295,
            "mean_absolute_error": 1959503528.083579,
            "mean_absolute_percentage_error": 23650884.88200852,
            "mean_on_target": 174.63914263108683,
            "mean_squared_error": 4.060274760842984,
            "r2_score": 0.9998543247906146,
            "root_mean_squared_error": 2.0150123475658863,
            "sum_on_target": 2428008
           },
           {
            "conf_file": "confs/evaluations.yaml"
           },
           {
            "mlflow.gitRepoURL": "git@github.com:fmind/mlops-python-package",
            "mlflow.project.backend": "local",
            "mlflow.project.entryPoint": "main",
            "mlflow.project.env": "virtualenv",
            "mlflow.runName": "Evaluations",
            "mlflow.source.git.commit": "1a4b8a25a32f0e933a7db9ec47f763cc7bd17d1c",
            "mlflow.source.git.repoURL": "git@github.com:fmind/mlops-python-package",
            "mlflow.source.name": "file:///home/fmind/mlops-python-package",
            "mlflow.source.type": "PROJECT",
            "mlflow.user": "fmind"
           },
           6.245,
           "fmind",
           "file:///home/fmind/mlops-python-package",
           "PROJECT",
           "main",
           "1a4b8a25a32f0e933a7db9ec47f763cc7bd17d1c",
           "git@github.com:fmind/mlops-python-package",
           "git@github.com:fmind/mlops-python-package",
           "Evaluations",
           "virtualenv",
           "local",
           null,
           null,
           null,
           null,
           null
          ],
          [
           "file:///home/fmind/mlops-python-package/mlruns/300971336194126583/5ebe28d67ed54300a177eb61825a6688/artifacts",
           "2024-12-14T14:42:05.031000",
           "300971336194126583",
           "active",
           "5ebe28d67ed54300a177eb61825a6688",
           "Inference",
           "5ebe28d67ed54300a177eb61825a6688",
           "FINISHED",
           "fmind",
           {},
           {
            "conf_file": "confs/inference.yaml"
           },
           {
            "mlflow.gitRepoURL": "git@github.com:fmind/mlops-python-package",
            "mlflow.project.backend": "local",
            "mlflow.project.entryPoint": "main",
            "mlflow.project.env": "virtualenv",
            "mlflow.runName": "Inference",
            "mlflow.source.git.commit": "1a4b8a25a32f0e933a7db9ec47f763cc7bd17d1c",
            "mlflow.source.git.repoURL": "git@github.com:fmind/mlops-python-package",
            "mlflow.source.name": "file:///home/fmind/mlops-python-package",
            "mlflow.source.type": "PROJECT",
            "mlflow.user": "fmind"
           },
           5.424,
           "fmind",
           "file:///home/fmind/mlops-python-package",
           "PROJECT",
           "main",
           "1a4b8a25a32f0e933a7db9ec47f763cc7bd17d1c",
           "git@github.com:fmind/mlops-python-package",
           "git@github.com:fmind/mlops-python-package",
           "Inference",
           "virtualenv",
           "local",
           null,
           null,
           null,
           null,
           null
          ],
          [
           "file:///home/fmind/mlops-python-package/mlruns/300971336194126583/f29b930df5a54f1fa9ec5fe4b27df8b9/artifacts",
           "2024-12-14T14:41:57.245000",
           "300971336194126583",
           "active",
           "f29b930df5a54f1fa9ec5fe4b27df8b9",
           "Promotion",
           "f29b930df5a54f1fa9ec5fe4b27df8b9",
           "FINISHED",
           "fmind",
           {},
           {
            "conf_file": "confs/promotion.yaml"
           },
           {
            "mlflow.gitRepoURL": "git@github.com:fmind/mlops-python-package",
            "mlflow.project.backend": "local",
            "mlflow.project.entryPoint": "main",
            "mlflow.project.env": "virtualenv",
            "mlflow.runName": "Promotion",
            "mlflow.source.git.commit": "1a4b8a25a32f0e933a7db9ec47f763cc7bd17d1c",
            "mlflow.source.git.repoURL": "git@github.com:fmind/mlops-python-package",
            "mlflow.source.name": "file:///home/fmind/mlops-python-package",
            "mlflow.source.type": "PROJECT",
            "mlflow.user": "fmind"
           },
           4.606,
           "fmind",
           "file:///home/fmind/mlops-python-package",
           "PROJECT",
           "main",
           "1a4b8a25a32f0e933a7db9ec47f763cc7bd17d1c",
           "git@github.com:fmind/mlops-python-package",
           "git@github.com:fmind/mlops-python-package",
           "Promotion",
           "virtualenv",
           "local",
           null,
           null,
           null,
           null,
           null
          ],
          [
           "file:///home/fmind/mlops-python-package/mlruns/300971336194126583/4753bf6b106845d19eca79b7cb329343/artifacts",
           "2024-12-14T14:41:49.910000",
           "300971336194126583",
           "active",
           "4753bf6b106845d19eca79b7cb329343",
           "Training",
           "4753bf6b106845d19eca79b7cb329343",
           "FINISHED",
           "fmind",
           {
            "mean_squared_error": -24.55763888888889,
            "system/cpu_utilization_percentage": 14.3,
            "system/disk_available_megabytes": 7454.1,
            "system/disk_usage_megabytes": 108457.2,
            "system/disk_usage_percentage": 93.6,
            "system/network_receive_megabytes": 0,
            "system/network_transmit_megabytes": 0,
            "system/system_memory_usage_megabytes": 4700.3,
            "system/system_memory_usage_percentage": 31.2,
            "training_mean_absolute_error": 0.3561289343195786,
            "training_mean_squared_error": 1.2806655854526316,
            "training_r2_score": 0.9999473906118655,
            "training_root_mean_squared_error": 1.1316649616616359,
            "training_score": 0.9999473906118655
           },
           {
            "conf_file": "confs/training.yaml",
            "memory": "None",
            "regressor": "RandomForestRegressor(max_depth=20, n_estimators=200, random_state=42)",
            "regressor__bootstrap": "True",
            "regressor__ccp_alpha": "0.0",
            "regressor__criterion": "squared_error",
            "regressor__max_depth": "20",
            "regressor__max_features": "1.0",
            "regressor__max_leaf_nodes": "None",
            "regressor__max_samples": "None",
            "regressor__min_impurity_decrease": "0.0",
            "regressor__min_samples_leaf": "1",
            "regressor__min_samples_split": "2",
            "regressor__min_weight_fraction_leaf": "0.0",
            "regressor__monotonic_cst": "None",
            "regressor__n_estimators": "200",
            "regressor__n_jobs": "None",
            "regressor__oob_score": "False",
            "regressor__random_state": "42",
            "regressor__verbose": "0",
            "regressor__warm_start": "False",
            "steps": "[('transformer', ColumnTransformer(transformers=[('categoricals',\n                                 OneHotEncoder(handle_unknown='ignore',\n                                               sparse_output=False),\n                                 ['season', 'weathersit']),\n                                ('numericals', 'passthrough',\n                                 ['yr', 'mnth', 'hr', 'holiday', 'weekday',\n                                  'workingday', 'temp', 'atemp', 'hum',\n                                  'windspeed', 'casual', 'registered'])])), ('regressor', RandomForestRegressor(max_depth=20, n_estimators=200, random_state=42))]",
            "transformer": "ColumnTransformer(transformers=[('categoricals',\n                                 OneHotEncoder(handle_unknown='ignore',\n                                               sparse_output=False),\n                                 ['season', 'weathersit']),\n                                ('numericals', 'passthrough',\n                                 ['yr', 'mnth', 'hr', 'holiday', 'weekday',\n                                  'workingday', 'temp', 'atemp', 'hum',\n                                  'windspeed', 'casual', 'registered'])])",
            "transformer__categoricals": "OneHotEncoder(handle_unknown='ignore', sparse_output=False)",
            "transformer__categoricals__categories": "auto",
            "transformer__categoricals__drop": "None",
            "transformer__categoricals__dtype": "<class 'numpy.float64'>",
            "transformer__categoricals__feature_name_combiner": "concat",
            "transformer__categoricals__handle_unknown": "ignore",
            "transformer__categoricals__max_categories": "None",
            "transformer__categoricals__min_frequency": "None",
            "transformer__categoricals__sparse_output": "False",
            "transformer__force_int_remainder_cols": "True",
            "transformer__n_jobs": "None",
            "transformer__numericals": "passthrough",
            "transformer__remainder": "drop",
            "transformer__sparse_threshold": "0.3",
            "transformer__transformer_weights": "None",
            "transformer__transformers": "[('categoricals', OneHotEncoder(handle_unknown='ignore', sparse_output=False), ['season', 'weathersit']), ('numericals', 'passthrough', ['yr', 'mnth', 'hr', 'holiday', 'weekday', 'workingday', 'temp', 'atemp', 'hum', 'windspeed', 'casual', 'registered'])]",
            "transformer__verbose": "False",
            "transformer__verbose_feature_names_out": "True",
            "verbose": "False"
           },
           {
            "estimator_class": "sklearn.pipeline.Pipeline",
            "estimator_name": "Pipeline",
            "mlflow.gitRepoURL": "git@github.com:fmind/mlops-python-package",
            "mlflow.log-model.history": "[{\"run_id\": \"4753bf6b106845d19eca79b7cb329343\", \"artifact_path\": \"model\", \"utc_time_created\": \"2024-12-14 14:41:38.398638\", \"model_uuid\": \"77e276c4bf79429ca932062f2825649b\", \"flavors\": {\"python_function\": {\"model_path\": \"model.pkl\", \"predict_fn\": \"predict\", \"loader_module\": \"mlflow.sklearn\", \"python_version\": \"3.12.7\", \"env\": {\"conda\": \"conda.yaml\", \"virtualenv\": \"python_env.yaml\"}}, \"sklearn\": {\"pickled_model\": \"model.pkl\", \"sklearn_version\": \"1.5.2\", \"serialization_format\": \"cloudpickle\", \"code\": null}}}, {\"run_id\": \"4753bf6b106845d19eca79b7cb329343\", \"artifact_path\": \"model\", \"utc_time_created\": \"2024-12-14 14:41:42.667182\", \"model_uuid\": \"50dd5f99ebb944c7a02879fd4dc8d43c\", \"flavors\": {\"python_function\": {\"streamable\": false, \"cloudpickle_version\": \"3.1.0\", \"python_model\": \"python_model.pkl\", \"loader_module\": \"mlflow.pyfunc.model\", \"python_version\": \"3.12.7\", \"env\": {\"conda\": \"conda.yaml\", \"virtualenv\": \"python_env.yaml\"}, \"code\": null}}}]",
            "mlflow.project.backend": "local",
            "mlflow.project.entryPoint": "main",
            "mlflow.project.env": "virtualenv",
            "mlflow.runName": "Training",
            "mlflow.source.git.commit": "1a4b8a25a32f0e933a7db9ec47f763cc7bd17d1c",
            "mlflow.source.git.repoURL": "git@github.com:fmind/mlops-python-package",
            "mlflow.source.name": "file:///home/fmind/mlops-python-package",
            "mlflow.source.type": "PROJECT",
            "mlflow.user": "fmind"
           },
           25.996,
           "fmind",
           "file:///home/fmind/mlops-python-package",
           "PROJECT",
           "main",
           "1a4b8a25a32f0e933a7db9ec47f763cc7bd17d1c",
           "git@github.com:fmind/mlops-python-package",
           "git@github.com:fmind/mlops-python-package",
           "Training",
           "virtualenv",
           "local",
           "Pipeline",
           "sklearn.pipeline.Pipeline",
           "[{\"run_id\": \"4753bf6b106845d19eca79b7cb329343\", \"artifact_path\": \"model\", \"utc_time_created\": \"2024-12-14 14:41:38.398638\", \"model_uuid\": \"77e276c4bf79429ca932062f2825649b\", \"flavors\": {\"python_function\": {\"model_path\": \"model.pkl\", \"predict_fn\": \"predict\", \"loader_module\": \"mlflow.sklearn\", \"python_version\": \"3.12.7\", \"env\": {\"conda\": \"conda.yaml\", \"virtualenv\": \"python_env.yaml\"}}, \"sklearn\": {\"pickled_model\": \"model.pkl\", \"sklearn_version\": \"1.5.2\", \"serialization_format\": \"cloudpickle\", \"code\": null}}}, {\"run_id\": \"4753bf6b106845d19eca79b7cb329343\", \"artifact_path\": \"model\", \"utc_time_created\": \"2024-12-14 14:41:42.667182\", \"model_uuid\": \"50dd5f99ebb944c7a02879fd4dc8d43c\", \"flavors\": {\"python_function\": {\"streamable\": false, \"cloudpickle_version\": \"3.1.0\", \"python_model\": \"python_model.pkl\", \"loader_module\": \"mlflow.pyfunc.model\", \"python_version\": \"3.12.7\", \"env\": {\"conda\": \"conda.yaml\", \"virtualenv\": \"python_env.yaml\"}, \"code\": null}}}]",
           null,
           null
          ],
          [
           "file:///home/fmind/mlops-python-package/mlruns/300971336194126583/066cf65cd3214378a7675e2536c6eb60/artifacts",
           "2024-12-14T14:41:20.607000",
           "300971336194126583",
           "active",
           "066cf65cd3214378a7675e2536c6eb60",
           "wise-hound-335",
           "066cf65cd3214378a7675e2536c6eb60",
           "FINISHED",
           "fmind",
           {
            "mean_fit_time": 2.2717891335487366,
            "mean_score_time": 0.04655104875564575,
            "mean_test_score": -711.7982638888889,
            "rank_test_score": 2,
            "std_fit_time": 0.2744423843818404,
            "std_score_time": 0.0008752424197515631,
            "std_test_score": 506.2583283876414
           },
           {
            "max_depth": "5",
            "n_estimators": "200",
            "random_state": "42"
           },
           {
            "estimator_class": "bikes.core.models.BaselineSklearnModel",
            "estimator_name": "BaselineSklearnModel",
            "mlflow.autologging": "sklearn",
            "mlflow.parentRunId": "6f68ed7fee59407f83bff115536fdfc0",
            "mlflow.runName": "wise-hound-335",
            "mlflow.source.git.commit": "1a4b8a25a32f0e933a7db9ec47f763cc7bd17d1c",
            "mlflow.source.name": "/home/fmind/mlops-python-package/src/bikes/__main__.py",
            "mlflow.source.type": "LOCAL",
            "mlflow.user": "fmind"
           },
           46.191,
           "fmind",
           "/home/fmind/mlops-python-package/src/bikes/__main__.py",
           "LOCAL",
           null,
           "1a4b8a25a32f0e933a7db9ec47f763cc7bd17d1c",
           null,
           null,
           "wise-hound-335",
           null,
           null,
           "BaselineSklearnModel",
           "bikes.core.models.BaselineSklearnModel",
           null,
           "sklearn",
           "6f68ed7fee59407f83bff115536fdfc0"
          ],
          [
           "file:///home/fmind/mlops-python-package/mlruns/300971336194126583/0cdfaf5a0e7b44ea88d7297746e6af1f/artifacts",
           "2024-12-14T14:41:20.607000",
           "300971336194126583",
           "active",
           "0cdfaf5a0e7b44ea88d7297746e6af1f",
           "auspicious-fly-358",
           "0cdfaf5a0e7b44ea88d7297746e6af1f",
           "FINISHED",
           "fmind",
           {
            "mean_fit_time": 3.0942174792289734,
            "mean_score_time": 0.054158151149749756,
            "mean_test_score": -319.5045138888889,
            "rank_test_score": 1,
            "std_fit_time": 0.41821529328335627,
            "std_score_time": 0.0011713553122119475,
            "std_test_score": 350.4638291591938
           },
           {
            "max_depth": "7",
            "n_estimators": "200",
            "random_state": "42"
           },
           {
            "estimator_class": "bikes.core.models.BaselineSklearnModel",
            "estimator_name": "BaselineSklearnModel",
            "mlflow.autologging": "sklearn",
            "mlflow.parentRunId": "6f68ed7fee59407f83bff115536fdfc0",
            "mlflow.runName": "auspicious-fly-358",
            "mlflow.source.git.commit": "1a4b8a25a32f0e933a7db9ec47f763cc7bd17d1c",
            "mlflow.source.name": "/home/fmind/mlops-python-package/src/bikes/__main__.py",
            "mlflow.source.type": "LOCAL",
            "mlflow.user": "fmind"
           },
           46.191,
           "fmind",
           "/home/fmind/mlops-python-package/src/bikes/__main__.py",
           "LOCAL",
           null,
           "1a4b8a25a32f0e933a7db9ec47f763cc7bd17d1c",
           null,
           null,
           "auspicious-fly-358",
           null,
           null,
           "BaselineSklearnModel",
           "bikes.core.models.BaselineSklearnModel",
           null,
           "sklearn",
           "6f68ed7fee59407f83bff115536fdfc0"
          ],
          [
           "file:///home/fmind/mlops-python-package/mlruns/300971336194126583/6f68ed7fee59407f83bff115536fdfc0/artifacts",
           "2024-12-14T14:41:21.575000",
           "300971336194126583",
           "active",
           "6f68ed7fee59407f83bff115536fdfc0",
           "Tuning",
           "6f68ed7fee59407f83bff115536fdfc0",
           "FINISHED",
           "fmind",
           {
            "best_cv_score": -319.5045138888889,
            "system/cpu_utilization_percentage": 13.8,
            "system/disk_available_megabytes": 7460.8,
            "system/disk_usage_megabytes": 108450.2,
            "system/disk_usage_percentage": 93.6,
            "system/network_receive_megabytes": 0.1935390000001007,
            "system/network_transmit_megabytes": 0.2145869999999377,
            "system/system_memory_usage_megabytes": 4516.7,
            "system/system_memory_usage_percentage": 30,
            "training_score": -25.253110839387183
           },
           {
            "best_max_depth": "7",
            "conf_file": "confs/tuning.yaml",
            "cv": "KIND='TimeSeriesSplitter' gap=0 n_splits=4 test_size=1440",
            "error_score": "raise",
            "estimator": "KIND='BaselineSklearnModel' max_depth=20 n_estimators=200 random_state=42",
            "n_jobs": "None",
            "param_grid": "{'max_depth': [3, 5, 7]}",
            "pre_dispatch": "2*n_jobs",
            "refit": "True",
            "return_train_score": "False",
            "scoring": "<bound method Metric.scorer of SklearnMetric(KIND='SklearnMetric', name='mean_squared_error', greater_is_better=False)>",
            "verbose": "3"
           },
           {
            "estimator_class": "sklearn.model_selection._search.GridSearchCV",
            "estimator_name": "GridSearchCV",
            "mlflow.gitRepoURL": "git@github.com:fmind/mlops-python-package",
            "mlflow.log-model.history": "[{\"run_id\": \"6f68ed7fee59407f83bff115536fdfc0\", \"artifact_path\": \"model\", \"utc_time_created\": \"2024-12-14 14:41:11.433265\", \"model_uuid\": \"77b9177b6a914d2d83f8c6062bcaa438\", \"flavors\": {\"python_function\": {\"model_path\": \"model.pkl\", \"predict_fn\": \"predict\", \"loader_module\": \"mlflow.sklearn\", \"python_version\": \"3.12.7\", \"env\": {\"conda\": \"conda.yaml\", \"virtualenv\": \"python_env.yaml\"}}, \"sklearn\": {\"pickled_model\": \"model.pkl\", \"sklearn_version\": \"1.5.2\", \"serialization_format\": \"cloudpickle\", \"code\": null}}}, {\"run_id\": \"6f68ed7fee59407f83bff115536fdfc0\", \"artifact_path\": \"best_estimator\", \"utc_time_created\": \"2024-12-14 14:41:16.492519\", \"model_uuid\": \"862871d930c845ec882f4b82890fc495\", \"flavors\": {\"python_function\": {\"model_path\": \"model.pkl\", \"predict_fn\": \"predict\", \"loader_module\": \"mlflow.sklearn\", \"python_version\": \"3.12.7\", \"env\": {\"conda\": \"conda.yaml\", \"virtualenv\": \"python_env.yaml\"}}, \"sklearn\": {\"pickled_model\": \"model.pkl\", \"sklearn_version\": \"1.5.2\", \"serialization_format\": \"cloudpickle\", \"code\": null}}}]",
            "mlflow.project.backend": "local",
            "mlflow.project.entryPoint": "main",
            "mlflow.project.env": "virtualenv",
            "mlflow.runName": "Tuning",
            "mlflow.source.git.commit": "1a4b8a25a32f0e933a7db9ec47f763cc7bd17d1c",
            "mlflow.source.git.repoURL": "git@github.com:fmind/mlops-python-package",
            "mlflow.source.name": "file:///home/fmind/mlops-python-package",
            "mlflow.source.type": "PROJECT",
            "mlflow.user": "fmind"
           },
           47.159,
           "fmind",
           "file:///home/fmind/mlops-python-package",
           "PROJECT",
           "main",
           "1a4b8a25a32f0e933a7db9ec47f763cc7bd17d1c",
           "git@github.com:fmind/mlops-python-package",
           "git@github.com:fmind/mlops-python-package",
           "Tuning",
           "virtualenv",
           "local",
           "GridSearchCV",
           "sklearn.model_selection._search.GridSearchCV",
           "[{\"run_id\": \"6f68ed7fee59407f83bff115536fdfc0\", \"artifact_path\": \"model\", \"utc_time_created\": \"2024-12-14 14:41:11.433265\", \"model_uuid\": \"77b9177b6a914d2d83f8c6062bcaa438\", \"flavors\": {\"python_function\": {\"model_path\": \"model.pkl\", \"predict_fn\": \"predict\", \"loader_module\": \"mlflow.sklearn\", \"python_version\": \"3.12.7\", \"env\": {\"conda\": \"conda.yaml\", \"virtualenv\": \"python_env.yaml\"}}, \"sklearn\": {\"pickled_model\": \"model.pkl\", \"sklearn_version\": \"1.5.2\", \"serialization_format\": \"cloudpickle\", \"code\": null}}}, {\"run_id\": \"6f68ed7fee59407f83bff115536fdfc0\", \"artifact_path\": \"best_estimator\", \"utc_time_created\": \"2024-12-14 14:41:16.492519\", \"model_uuid\": \"862871d930c845ec882f4b82890fc495\", \"flavors\": {\"python_function\": {\"model_path\": \"model.pkl\", \"predict_fn\": \"predict\", \"loader_module\": \"mlflow.sklearn\", \"python_version\": \"3.12.7\", \"env\": {\"conda\": \"conda.yaml\", \"virtualenv\": \"python_env.yaml\"}}, \"sklearn\": {\"pickled_model\": \"model.pkl\", \"sklearn_version\": \"1.5.2\", \"serialization_format\": \"cloudpickle\", \"code\": null}}}]",
           null,
           null
          ],
          [
           "file:///home/fmind/mlops-python-package/mlruns/300971336194126583/e3975321ef4645b698cd8832a2ead79d/artifacts",
           "2024-12-14T14:41:20.607000",
           "300971336194126583",
           "active",
           "e3975321ef4645b698cd8832a2ead79d",
           "lyrical-asp-40",
           "e3975321ef4645b698cd8832a2ead79d",
           "FINISHED",
           "fmind",
           {
            "mean_fit_time": 1.5403740406036377,
            "mean_score_time": 0.04439198970794678,
            "mean_test_score": -2845.011111111111,
            "rank_test_score": 3,
            "std_fit_time": 0.26986769561457347,
            "std_score_time": 0.0011455098275932603,
            "std_test_score": 1362.0703338739036
           },
           {
            "max_depth": "3",
            "n_estimators": "200",
            "random_state": "42"
           },
           {
            "estimator_class": "bikes.core.models.BaselineSklearnModel",
            "estimator_name": "BaselineSklearnModel",
            "mlflow.autologging": "sklearn",
            "mlflow.parentRunId": "6f68ed7fee59407f83bff115536fdfc0",
            "mlflow.runName": "lyrical-asp-40",
            "mlflow.source.git.commit": "1a4b8a25a32f0e933a7db9ec47f763cc7bd17d1c",
            "mlflow.source.name": "/home/fmind/mlops-python-package/src/bikes/__main__.py",
            "mlflow.source.type": "LOCAL",
            "mlflow.user": "fmind"
           },
           46.191,
           "fmind",
           "/home/fmind/mlops-python-package/src/bikes/__main__.py",
           "LOCAL",
           null,
           "1a4b8a25a32f0e933a7db9ec47f763cc7bd17d1c",
           null,
           null,
           "lyrical-asp-40",
           null,
           null,
           "BaselineSklearnModel",
           "bikes.core.models.BaselineSklearnModel",
           null,
           "sklearn",
           "6f68ed7fee59407f83bff115536fdfc0"
          ],
          [
           "file:///home/fmind/mlops-python-package/mlruns/300971336194126583/149bc47563a94ae5bc05bbcb7853c122/artifacts",
           "2024-12-14T14:40:29.333000",
           "300971336194126583",
           "active",
           "149bc47563a94ae5bc05bbcb7853c122",
           "Explanations",
           "149bc47563a94ae5bc05bbcb7853c122",
           "FINISHED",
           "fmind",
           {},
           {
            "conf_file": "confs/explanations.yaml"
           },
           {
            "mlflow.gitRepoURL": "git@github.com:fmind/mlops-python-package",
            "mlflow.project.backend": "local",
            "mlflow.project.entryPoint": "main",
            "mlflow.project.env": "virtualenv",
            "mlflow.runName": "Explanations",
            "mlflow.source.git.commit": "1a4b8a25a32f0e933a7db9ec47f763cc7bd17d1c",
            "mlflow.source.git.repoURL": "git@github.com:fmind/mlops-python-package",
            "mlflow.source.name": "file:///home/fmind/mlops-python-package",
            "mlflow.source.type": "PROJECT",
            "mlflow.user": "fmind"
           },
           12.229,
           "fmind",
           "file:///home/fmind/mlops-python-package",
           "PROJECT",
           "main",
           "1a4b8a25a32f0e933a7db9ec47f763cc7bd17d1c",
           "git@github.com:fmind/mlops-python-package",
           "git@github.com:fmind/mlops-python-package",
           "Explanations",
           "virtualenv",
           "local",
           null,
           null,
           null,
           null,
           null
          ],
          [
           "file:///home/fmind/mlops-python-package/mlruns/300971336194126583/534a4ff3a1b04ae3b7c5c5e5295b87a8/artifacts",
           "2024-12-14T14:40:14.595000",
           "300971336194126583",
           "active",
           "534a4ff3a1b04ae3b7c5c5e5295b87a8",
           "Evaluations",
           "534a4ff3a1b04ae3b7c5c5e5295b87a8",
           "FINISHED",
           "fmind",
           {
            "example_count": 13903,
            "max_error": 4294967295,
            "mean_absolute_error": 1959503528.083579,
            "mean_absolute_percentage_error": 23650884.88200852,
            "mean_on_target": 174.63914263108683,
            "mean_squared_error": 4.060274760842984,
            "r2_score": 0.9998543247906146,
            "root_mean_squared_error": 2.0150123475658863,
            "sum_on_target": 2428008
           },
           {
            "conf_file": "confs/evaluations.yaml"
           },
           {
            "mlflow.gitRepoURL": "git@github.com:fmind/mlops-python-package",
            "mlflow.project.backend": "local",
            "mlflow.project.entryPoint": "main",
            "mlflow.project.env": "virtualenv",
            "mlflow.runName": "Evaluations",
            "mlflow.source.git.commit": "1a4b8a25a32f0e933a7db9ec47f763cc7bd17d1c",
            "mlflow.source.git.repoURL": "git@github.com:fmind/mlops-python-package",
            "mlflow.source.name": "file:///home/fmind/mlops-python-package",
            "mlflow.source.type": "PROJECT",
            "mlflow.user": "fmind"
           },
           6.616,
           "fmind",
           "file:///home/fmind/mlops-python-package",
           "PROJECT",
           "main",
           "1a4b8a25a32f0e933a7db9ec47f763cc7bd17d1c",
           "git@github.com:fmind/mlops-python-package",
           "git@github.com:fmind/mlops-python-package",
           "Evaluations",
           "virtualenv",
           "local",
           null,
           null,
           null,
           null,
           null
          ],
          [
           "file:///home/fmind/mlops-python-package/mlruns/300971336194126583/4a629039b6c84ad3947f7529f9a28e21/artifacts",
           "2024-12-14T14:40:05.598000",
           "300971336194126583",
           "active",
           "4a629039b6c84ad3947f7529f9a28e21",
           "Inference",
           "4a629039b6c84ad3947f7529f9a28e21",
           "FINISHED",
           "fmind",
           {},
           {
            "conf_file": "confs/inference.yaml"
           },
           {
            "mlflow.gitRepoURL": "git@github.com:fmind/mlops-python-package",
            "mlflow.project.backend": "local",
            "mlflow.project.entryPoint": "main",
            "mlflow.project.env": "virtualenv",
            "mlflow.runName": "Inference",
            "mlflow.source.git.commit": "1a4b8a25a32f0e933a7db9ec47f763cc7bd17d1c",
            "mlflow.source.git.repoURL": "git@github.com:fmind/mlops-python-package",
            "mlflow.source.name": "file:///home/fmind/mlops-python-package",
            "mlflow.source.type": "PROJECT",
            "mlflow.user": "fmind"
           },
           5.034,
           "fmind",
           "file:///home/fmind/mlops-python-package",
           "PROJECT",
           "main",
           "1a4b8a25a32f0e933a7db9ec47f763cc7bd17d1c",
           "git@github.com:fmind/mlops-python-package",
           "git@github.com:fmind/mlops-python-package",
           "Inference",
           "virtualenv",
           "local",
           null,
           null,
           null,
           null,
           null
          ],
          [
           "file:///home/fmind/mlops-python-package/mlruns/300971336194126583/e20be51c8bbb4cfb98ad440209dd2ea6/artifacts",
           "2024-12-14T14:39:58.173000",
           "300971336194126583",
           "active",
           "e20be51c8bbb4cfb98ad440209dd2ea6",
           "Promotion",
           "e20be51c8bbb4cfb98ad440209dd2ea6",
           "FINISHED",
           "fmind",
           {},
           {
            "conf_file": "confs/promotion.yaml"
           },
           {
            "mlflow.gitRepoURL": "git@github.com:fmind/mlops-python-package",
            "mlflow.project.backend": "local",
            "mlflow.project.entryPoint": "main",
            "mlflow.project.env": "virtualenv",
            "mlflow.runName": "Promotion",
            "mlflow.source.git.commit": "1a4b8a25a32f0e933a7db9ec47f763cc7bd17d1c",
            "mlflow.source.git.repoURL": "git@github.com:fmind/mlops-python-package",
            "mlflow.source.name": "file:///home/fmind/mlops-python-package",
            "mlflow.source.type": "PROJECT",
            "mlflow.user": "fmind"
           },
           5.05,
           "fmind",
           "file:///home/fmind/mlops-python-package",
           "PROJECT",
           "main",
           "1a4b8a25a32f0e933a7db9ec47f763cc7bd17d1c",
           "git@github.com:fmind/mlops-python-package",
           "git@github.com:fmind/mlops-python-package",
           "Promotion",
           "virtualenv",
           "local",
           null,
           null,
           null,
           null,
           null
          ],
          [
           "file:///home/fmind/mlops-python-package/mlruns/300971336194126583/ae9f673f6b264240bb79ffd94ca49fe2/artifacts",
           "2024-12-14T14:39:50.546000",
           "300971336194126583",
           "active",
           "ae9f673f6b264240bb79ffd94ca49fe2",
           "Training",
           "ae9f673f6b264240bb79ffd94ca49fe2",
           "FINISHED",
           "fmind",
           {
            "mean_squared_error": -24.55763888888889,
            "system/cpu_utilization_percentage": 14.8,
            "system/disk_available_megabytes": 7735.1,
            "system/disk_usage_megabytes": 108174.9,
            "system/disk_usage_percentage": 93.3,
            "system/network_receive_megabytes": 0.006746999999904801,
            "system/network_transmit_megabytes": 0.006637000000068838,
            "system/system_memory_usage_megabytes": 4542,
            "system/system_memory_usage_percentage": 30.1,
            "training_mean_absolute_error": 0.3561289343195786,
            "training_mean_squared_error": 1.2806655854526316,
            "training_r2_score": 0.9999473906118655,
            "training_root_mean_squared_error": 1.1316649616616359,
            "training_score": 0.9999473906118655
           },
           {
            "conf_file": "confs/training.yaml",
            "memory": "None",
            "regressor": "RandomForestRegressor(max_depth=20, n_estimators=200, random_state=42)",
            "regressor__bootstrap": "True",
            "regressor__ccp_alpha": "0.0",
            "regressor__criterion": "squared_error",
            "regressor__max_depth": "20",
            "regressor__max_features": "1.0",
            "regressor__max_leaf_nodes": "None",
            "regressor__max_samples": "None",
            "regressor__min_impurity_decrease": "0.0",
            "regressor__min_samples_leaf": "1",
            "regressor__min_samples_split": "2",
            "regressor__min_weight_fraction_leaf": "0.0",
            "regressor__monotonic_cst": "None",
            "regressor__n_estimators": "200",
            "regressor__n_jobs": "None",
            "regressor__oob_score": "False",
            "regressor__random_state": "42",
            "regressor__verbose": "0",
            "regressor__warm_start": "False",
            "steps": "[('transformer', ColumnTransformer(transformers=[('categoricals',\n                                 OneHotEncoder(handle_unknown='ignore',\n                                               sparse_output=False),\n                                 ['season', 'weathersit']),\n                                ('numericals', 'passthrough',\n                                 ['yr', 'mnth', 'hr', 'holiday', 'weekday',\n                                  'workingday', 'temp', 'atemp', 'hum',\n                                  'windspeed', 'casual', 'registered'])])), ('regressor', RandomForestRegressor(max_depth=20, n_estimators=200, random_state=42))]",
            "transformer": "ColumnTransformer(transformers=[('categoricals',\n                                 OneHotEncoder(handle_unknown='ignore',\n                                               sparse_output=False),\n                                 ['season', 'weathersit']),\n                                ('numericals', 'passthrough',\n                                 ['yr', 'mnth', 'hr', 'holiday', 'weekday',\n                                  'workingday', 'temp', 'atemp', 'hum',\n                                  'windspeed', 'casual', 'registered'])])",
            "transformer__categoricals": "OneHotEncoder(handle_unknown='ignore', sparse_output=False)",
            "transformer__categoricals__categories": "auto",
            "transformer__categoricals__drop": "None",
            "transformer__categoricals__dtype": "<class 'numpy.float64'>",
            "transformer__categoricals__feature_name_combiner": "concat",
            "transformer__categoricals__handle_unknown": "ignore",
            "transformer__categoricals__max_categories": "None",
            "transformer__categoricals__min_frequency": "None",
            "transformer__categoricals__sparse_output": "False",
            "transformer__force_int_remainder_cols": "True",
            "transformer__n_jobs": "None",
            "transformer__numericals": "passthrough",
            "transformer__remainder": "drop",
            "transformer__sparse_threshold": "0.3",
            "transformer__transformer_weights": "None",
            "transformer__transformers": "[('categoricals', OneHotEncoder(handle_unknown='ignore', sparse_output=False), ['season', 'weathersit']), ('numericals', 'passthrough', ['yr', 'mnth', 'hr', 'holiday', 'weekday', 'workingday', 'temp', 'atemp', 'hum', 'windspeed', 'casual', 'registered'])]",
            "transformer__verbose": "False",
            "transformer__verbose_feature_names_out": "True",
            "verbose": "False"
           },
           {
            "estimator_class": "sklearn.pipeline.Pipeline",
            "estimator_name": "Pipeline",
            "mlflow.gitRepoURL": "git@github.com:fmind/mlops-python-package",
            "mlflow.log-model.history": "[{\"run_id\": \"ae9f673f6b264240bb79ffd94ca49fe2\", \"artifact_path\": \"model\", \"utc_time_created\": \"2024-12-14 14:39:38.524131\", \"model_uuid\": \"18f54df2a682488593dd0412c7be229e\", \"flavors\": {\"python_function\": {\"model_path\": \"model.pkl\", \"predict_fn\": \"predict\", \"loader_module\": \"mlflow.sklearn\", \"python_version\": \"3.12.7\", \"env\": {\"conda\": \"conda.yaml\", \"virtualenv\": \"python_env.yaml\"}}, \"sklearn\": {\"pickled_model\": \"model.pkl\", \"sklearn_version\": \"1.5.2\", \"serialization_format\": \"cloudpickle\", \"code\": null}}}, {\"run_id\": \"ae9f673f6b264240bb79ffd94ca49fe2\", \"artifact_path\": \"model\", \"utc_time_created\": \"2024-12-14 14:39:42.939094\", \"model_uuid\": \"4cc5e6d8a7d841059b37797a371ea10d\", \"flavors\": {\"python_function\": {\"streamable\": false, \"cloudpickle_version\": \"3.1.0\", \"python_model\": \"python_model.pkl\", \"loader_module\": \"mlflow.pyfunc.model\", \"python_version\": \"3.12.7\", \"env\": {\"conda\": \"conda.yaml\", \"virtualenv\": \"python_env.yaml\"}, \"code\": null}}}]",
            "mlflow.project.backend": "local",
            "mlflow.project.entryPoint": "main",
            "mlflow.project.env": "virtualenv",
            "mlflow.runName": "Training",
            "mlflow.source.git.commit": "1a4b8a25a32f0e933a7db9ec47f763cc7bd17d1c",
            "mlflow.source.git.repoURL": "git@github.com:fmind/mlops-python-package",
            "mlflow.source.name": "file:///home/fmind/mlops-python-package",
            "mlflow.source.type": "PROJECT",
            "mlflow.user": "fmind"
           },
           25.986,
           "fmind",
           "file:///home/fmind/mlops-python-package",
           "PROJECT",
           "main",
           "1a4b8a25a32f0e933a7db9ec47f763cc7bd17d1c",
           "git@github.com:fmind/mlops-python-package",
           "git@github.com:fmind/mlops-python-package",
           "Training",
           "virtualenv",
           "local",
           "Pipeline",
           "sklearn.pipeline.Pipeline",
           "[{\"run_id\": \"ae9f673f6b264240bb79ffd94ca49fe2\", \"artifact_path\": \"model\", \"utc_time_created\": \"2024-12-14 14:39:38.524131\", \"model_uuid\": \"18f54df2a682488593dd0412c7be229e\", \"flavors\": {\"python_function\": {\"model_path\": \"model.pkl\", \"predict_fn\": \"predict\", \"loader_module\": \"mlflow.sklearn\", \"python_version\": \"3.12.7\", \"env\": {\"conda\": \"conda.yaml\", \"virtualenv\": \"python_env.yaml\"}}, \"sklearn\": {\"pickled_model\": \"model.pkl\", \"sklearn_version\": \"1.5.2\", \"serialization_format\": \"cloudpickle\", \"code\": null}}}, {\"run_id\": \"ae9f673f6b264240bb79ffd94ca49fe2\", \"artifact_path\": \"model\", \"utc_time_created\": \"2024-12-14 14:39:42.939094\", \"model_uuid\": \"4cc5e6d8a7d841059b37797a371ea10d\", \"flavors\": {\"python_function\": {\"streamable\": false, \"cloudpickle_version\": \"3.1.0\", \"python_model\": \"python_model.pkl\", \"loader_module\": \"mlflow.pyfunc.model\", \"python_version\": \"3.12.7\", \"env\": {\"conda\": \"conda.yaml\", \"virtualenv\": \"python_env.yaml\"}, \"code\": null}}}]",
           null,
           null
          ],
          [
           "file:///home/fmind/mlops-python-package/mlruns/300971336194126583/71d90d8febd9448584236ff7da490944/artifacts",
           "2024-12-14T14:39:21.213000",
           "300971336194126583",
           "active",
           "71d90d8febd9448584236ff7da490944",
           "classy-yak-743",
           "71d90d8febd9448584236ff7da490944",
           "FINISHED",
           "fmind",
           {
            "mean_fit_time": 2.310912549495697,
            "mean_score_time": 0.04688429832458496,
            "mean_test_score": -711.7982638888889,
            "rank_test_score": 2,
            "std_fit_time": 0.34795851007651757,
            "std_score_time": 0.0015674315113117095,
            "std_test_score": 506.2583283876414
           },
           {
            "max_depth": "5",
            "n_estimators": "200",
            "random_state": "42"
           },
           {
            "estimator_class": "bikes.core.models.BaselineSklearnModel",
            "estimator_name": "BaselineSklearnModel",
            "mlflow.autologging": "sklearn",
            "mlflow.parentRunId": "9c36f396f2214f7bb0c6d9713d5e833e",
            "mlflow.runName": "classy-yak-743",
            "mlflow.source.git.commit": "1a4b8a25a32f0e933a7db9ec47f763cc7bd17d1c",
            "mlflow.source.name": "/home/fmind/mlops-python-package/src/bikes/__main__.py",
            "mlflow.source.type": "LOCAL",
            "mlflow.user": "fmind"
           },
           46.567,
           "fmind",
           "/home/fmind/mlops-python-package/src/bikes/__main__.py",
           "LOCAL",
           null,
           "1a4b8a25a32f0e933a7db9ec47f763cc7bd17d1c",
           null,
           null,
           "classy-yak-743",
           null,
           null,
           "BaselineSklearnModel",
           "bikes.core.models.BaselineSklearnModel",
           null,
           "sklearn",
           "9c36f396f2214f7bb0c6d9713d5e833e"
          ],
          [
           "file:///home/fmind/mlops-python-package/mlruns/300971336194126583/9c36f396f2214f7bb0c6d9713d5e833e/artifacts",
           "2024-12-14T14:39:22.225000",
           "300971336194126583",
           "active",
           "9c36f396f2214f7bb0c6d9713d5e833e",
           "Tuning",
           "9c36f396f2214f7bb0c6d9713d5e833e",
           "FINISHED",
           "fmind",
           {
            "best_cv_score": -319.5045138888889,
            "system/cpu_utilization_percentage": 13.7,
            "system/disk_available_megabytes": 7735.1,
            "system/disk_usage_megabytes": 108174.9,
            "system/disk_usage_percentage": 93.3,
            "system/network_receive_megabytes": 0.013674000000037267,
            "system/network_transmit_megabytes": 0.0075299999999742795,
            "system/system_memory_usage_megabytes": 4324.7,
            "system/system_memory_usage_percentage": 28.7,
            "training_score": -25.253110839387183
           },
           {
            "best_max_depth": "7",
            "conf_file": "confs/tuning.yaml",
            "cv": "KIND='TimeSeriesSplitter' gap=0 n_splits=4 test_size=1440",
            "error_score": "raise",
            "estimator": "KIND='BaselineSklearnModel' max_depth=20 n_estimators=200 random_state=42",
            "n_jobs": "None",
            "param_grid": "{'max_depth': [3, 5, 7]}",
            "pre_dispatch": "2*n_jobs",
            "refit": "True",
            "return_train_score": "False",
            "scoring": "<bound method Metric.scorer of SklearnMetric(KIND='SklearnMetric', name='mean_squared_error', greater_is_better=False)>",
            "verbose": "3"
           },
           {
            "estimator_class": "sklearn.model_selection._search.GridSearchCV",
            "estimator_name": "GridSearchCV",
            "mlflow.gitRepoURL": "git@github.com:fmind/mlops-python-package",
            "mlflow.log-model.history": "[{\"run_id\": \"9c36f396f2214f7bb0c6d9713d5e833e\", \"artifact_path\": \"model\", \"utc_time_created\": \"2024-12-14 14:39:11.770616\", \"model_uuid\": \"ba0e722effe1437ba691fb61e730dfb7\", \"flavors\": {\"python_function\": {\"model_path\": \"model.pkl\", \"predict_fn\": \"predict\", \"loader_module\": \"mlflow.sklearn\", \"python_version\": \"3.12.7\", \"env\": {\"conda\": \"conda.yaml\", \"virtualenv\": \"python_env.yaml\"}}, \"sklearn\": {\"pickled_model\": \"model.pkl\", \"sklearn_version\": \"1.5.2\", \"serialization_format\": \"cloudpickle\", \"code\": null}}}, {\"run_id\": \"9c36f396f2214f7bb0c6d9713d5e833e\", \"artifact_path\": \"best_estimator\", \"utc_time_created\": \"2024-12-14 14:39:16.824355\", \"model_uuid\": \"c561b4012c1445eca99fcd5d7260ad62\", \"flavors\": {\"python_function\": {\"model_path\": \"model.pkl\", \"predict_fn\": \"predict\", \"loader_module\": \"mlflow.sklearn\", \"python_version\": \"3.12.7\", \"env\": {\"conda\": \"conda.yaml\", \"virtualenv\": \"python_env.yaml\"}}, \"sklearn\": {\"pickled_model\": \"model.pkl\", \"sklearn_version\": \"1.5.2\", \"serialization_format\": \"cloudpickle\", \"code\": null}}}]",
            "mlflow.project.backend": "local",
            "mlflow.project.entryPoint": "main",
            "mlflow.project.env": "virtualenv",
            "mlflow.runName": "Tuning",
            "mlflow.source.git.commit": "1a4b8a25a32f0e933a7db9ec47f763cc7bd17d1c",
            "mlflow.source.git.repoURL": "git@github.com:fmind/mlops-python-package",
            "mlflow.source.name": "file:///home/fmind/mlops-python-package",
            "mlflow.source.type": "PROJECT",
            "mlflow.user": "fmind"
           },
           47.579,
           "fmind",
           "file:///home/fmind/mlops-python-package",
           "PROJECT",
           "main",
           "1a4b8a25a32f0e933a7db9ec47f763cc7bd17d1c",
           "git@github.com:fmind/mlops-python-package",
           "git@github.com:fmind/mlops-python-package",
           "Tuning",
           "virtualenv",
           "local",
           "GridSearchCV",
           "sklearn.model_selection._search.GridSearchCV",
           "[{\"run_id\": \"9c36f396f2214f7bb0c6d9713d5e833e\", \"artifact_path\": \"model\", \"utc_time_created\": \"2024-12-14 14:39:11.770616\", \"model_uuid\": \"ba0e722effe1437ba691fb61e730dfb7\", \"flavors\": {\"python_function\": {\"model_path\": \"model.pkl\", \"predict_fn\": \"predict\", \"loader_module\": \"mlflow.sklearn\", \"python_version\": \"3.12.7\", \"env\": {\"conda\": \"conda.yaml\", \"virtualenv\": \"python_env.yaml\"}}, \"sklearn\": {\"pickled_model\": \"model.pkl\", \"sklearn_version\": \"1.5.2\", \"serialization_format\": \"cloudpickle\", \"code\": null}}}, {\"run_id\": \"9c36f396f2214f7bb0c6d9713d5e833e\", \"artifact_path\": \"best_estimator\", \"utc_time_created\": \"2024-12-14 14:39:16.824355\", \"model_uuid\": \"c561b4012c1445eca99fcd5d7260ad62\", \"flavors\": {\"python_function\": {\"model_path\": \"model.pkl\", \"predict_fn\": \"predict\", \"loader_module\": \"mlflow.sklearn\", \"python_version\": \"3.12.7\", \"env\": {\"conda\": \"conda.yaml\", \"virtualenv\": \"python_env.yaml\"}}, \"sklearn\": {\"pickled_model\": \"model.pkl\", \"sklearn_version\": \"1.5.2\", \"serialization_format\": \"cloudpickle\", \"code\": null}}}]",
           null,
           null
          ],
          [
           "file:///home/fmind/mlops-python-package/mlruns/300971336194126583/d927facc28d74fbe8d607c7f1656321a/artifacts",
           "2024-12-14T14:39:21.213000",
           "300971336194126583",
           "active",
           "d927facc28d74fbe8d607c7f1656321a",
           "legendary-dove-782",
           "d927facc28d74fbe8d607c7f1656321a",
           "FINISHED",
           "fmind",
           {
            "mean_fit_time": 3.1809995770454407,
            "mean_score_time": 0.05519115924835205,
            "mean_test_score": -319.5045138888889,
            "rank_test_score": 1,
            "std_fit_time": 0.4297416271813794,
            "std_score_time": 0.002215700766888834,
            "std_test_score": 350.4638291591938
           },
           {
            "max_depth": "7",
            "n_estimators": "200",
            "random_state": "42"
           },
           {
            "estimator_class": "bikes.core.models.BaselineSklearnModel",
            "estimator_name": "BaselineSklearnModel",
            "mlflow.autologging": "sklearn",
            "mlflow.parentRunId": "9c36f396f2214f7bb0c6d9713d5e833e",
            "mlflow.runName": "legendary-dove-782",
            "mlflow.source.git.commit": "1a4b8a25a32f0e933a7db9ec47f763cc7bd17d1c",
            "mlflow.source.name": "/home/fmind/mlops-python-package/src/bikes/__main__.py",
            "mlflow.source.type": "LOCAL",
            "mlflow.user": "fmind"
           },
           46.567,
           "fmind",
           "/home/fmind/mlops-python-package/src/bikes/__main__.py",
           "LOCAL",
           null,
           "1a4b8a25a32f0e933a7db9ec47f763cc7bd17d1c",
           null,
           null,
           "legendary-dove-782",
           null,
           null,
           "BaselineSklearnModel",
           "bikes.core.models.BaselineSklearnModel",
           null,
           "sklearn",
           "9c36f396f2214f7bb0c6d9713d5e833e"
          ],
          [
           "file:///home/fmind/mlops-python-package/mlruns/300971336194126583/dafb45859edf45979643cccb32ea3828/artifacts",
           "2024-12-14T14:39:21.213000",
           "300971336194126583",
           "active",
           "dafb45859edf45979643cccb32ea3828",
           "big-duck-612",
           "dafb45859edf45979643cccb32ea3828",
           "FINISHED",
           "fmind",
           {
            "mean_fit_time": 1.4297820329666138,
            "mean_score_time": 0.042337894439697266,
            "mean_test_score": -2845.011111111111,
            "rank_test_score": 3,
            "std_fit_time": 0.1887011060177697,
            "std_score_time": 0.0005584766538439517,
            "std_test_score": 1362.0703338739036
           },
           {
            "max_depth": "3",
            "n_estimators": "200",
            "random_state": "42"
           },
           {
            "estimator_class": "bikes.core.models.BaselineSklearnModel",
            "estimator_name": "BaselineSklearnModel",
            "mlflow.autologging": "sklearn",
            "mlflow.parentRunId": "9c36f396f2214f7bb0c6d9713d5e833e",
            "mlflow.runName": "big-duck-612",
            "mlflow.source.git.commit": "1a4b8a25a32f0e933a7db9ec47f763cc7bd17d1c",
            "mlflow.source.name": "/home/fmind/mlops-python-package/src/bikes/__main__.py",
            "mlflow.source.type": "LOCAL",
            "mlflow.user": "fmind"
           },
           46.567,
           "fmind",
           "/home/fmind/mlops-python-package/src/bikes/__main__.py",
           "LOCAL",
           null,
           "1a4b8a25a32f0e933a7db9ec47f763cc7bd17d1c",
           null,
           null,
           "big-duck-612",
           null,
           null,
           "BaselineSklearnModel",
           "bikes.core.models.BaselineSklearnModel",
           null,
           "sklearn",
           "9c36f396f2214f7bb0c6d9713d5e833e"
          ],
          [
           "file:///home/fmind/mlops-python-package/mlruns/300971336194126583/422986fde3df4962b0765cdf008a721b/artifacts",
           "2024-12-14T14:38:26.878000",
           "300971336194126583",
           "active",
           "422986fde3df4962b0765cdf008a721b",
           "Explanations",
           "422986fde3df4962b0765cdf008a721b",
           "FINISHED",
           "fmind",
           {},
           {
            "conf_file": "confs/explanations.yaml"
           },
           {
            "mlflow.gitRepoURL": "git@github.com:fmind/mlops-python-package",
            "mlflow.project.backend": "local",
            "mlflow.project.entryPoint": "main",
            "mlflow.project.env": "virtualenv",
            "mlflow.runName": "Explanations",
            "mlflow.source.git.commit": "1a4b8a25a32f0e933a7db9ec47f763cc7bd17d1c",
            "mlflow.source.git.repoURL": "git@github.com:fmind/mlops-python-package",
            "mlflow.source.name": "file:///home/fmind/mlops-python-package",
            "mlflow.source.type": "PROJECT",
            "mlflow.user": "fmind"
           },
           12.349,
           "fmind",
           "file:///home/fmind/mlops-python-package",
           "PROJECT",
           "main",
           "1a4b8a25a32f0e933a7db9ec47f763cc7bd17d1c",
           "git@github.com:fmind/mlops-python-package",
           "git@github.com:fmind/mlops-python-package",
           "Explanations",
           "virtualenv",
           "local",
           null,
           null,
           null,
           null,
           null
          ],
          [
           "file:///home/fmind/mlops-python-package/mlruns/300971336194126583/b486861e5799446c9bc40c37413acf46/artifacts",
           "2024-12-14T14:38:12.143000",
           "300971336194126583",
           "active",
           "b486861e5799446c9bc40c37413acf46",
           "Evaluations",
           "b486861e5799446c9bc40c37413acf46",
           "FINISHED",
           "fmind",
           {
            "example_count": 13903,
            "max_error": 4294967295,
            "mean_absolute_error": 1959503528.083579,
            "mean_absolute_percentage_error": 23650884.88200852,
            "mean_on_target": 174.63914263108683,
            "mean_squared_error": 4.060274760842984,
            "r2_score": 0.9998543247906146,
            "root_mean_squared_error": 2.0150123475658863,
            "sum_on_target": 2428008
           },
           {
            "conf_file": "confs/evaluations.yaml"
           },
           {
            "mlflow.gitRepoURL": "git@github.com:fmind/mlops-python-package",
            "mlflow.project.backend": "local",
            "mlflow.project.entryPoint": "main",
            "mlflow.project.env": "virtualenv",
            "mlflow.runName": "Evaluations",
            "mlflow.source.git.commit": "1a4b8a25a32f0e933a7db9ec47f763cc7bd17d1c",
            "mlflow.source.git.repoURL": "git@github.com:fmind/mlops-python-package",
            "mlflow.source.name": "file:///home/fmind/mlops-python-package",
            "mlflow.source.type": "PROJECT",
            "mlflow.user": "fmind"
           },
           6.338,
           "fmind",
           "file:///home/fmind/mlops-python-package",
           "PROJECT",
           "main",
           "1a4b8a25a32f0e933a7db9ec47f763cc7bd17d1c",
           "git@github.com:fmind/mlops-python-package",
           "git@github.com:fmind/mlops-python-package",
           "Evaluations",
           "virtualenv",
           "local",
           null,
           null,
           null,
           null,
           null
          ],
          [
           "file:///home/fmind/mlops-python-package/mlruns/300971336194126583/dd848a2a73d6469d860c54c519b4cab4/artifacts",
           "2024-12-14T14:38:03.147000",
           "300971336194126583",
           "active",
           "dd848a2a73d6469d860c54c519b4cab4",
           "Inference",
           "dd848a2a73d6469d860c54c519b4cab4",
           "FINISHED",
           "fmind",
           {},
           {
            "conf_file": "confs/inference.yaml"
           },
           {
            "mlflow.gitRepoURL": "git@github.com:fmind/mlops-python-package",
            "mlflow.project.backend": "local",
            "mlflow.project.entryPoint": "main",
            "mlflow.project.env": "virtualenv",
            "mlflow.runName": "Inference",
            "mlflow.source.git.commit": "1a4b8a25a32f0e933a7db9ec47f763cc7bd17d1c",
            "mlflow.source.git.repoURL": "git@github.com:fmind/mlops-python-package",
            "mlflow.source.name": "file:///home/fmind/mlops-python-package",
            "mlflow.source.type": "PROJECT",
            "mlflow.user": "fmind"
           },
           5.776,
           "fmind",
           "file:///home/fmind/mlops-python-package",
           "PROJECT",
           "main",
           "1a4b8a25a32f0e933a7db9ec47f763cc7bd17d1c",
           "git@github.com:fmind/mlops-python-package",
           "git@github.com:fmind/mlops-python-package",
           "Inference",
           "virtualenv",
           "local",
           null,
           null,
           null,
           null,
           null
          ],
          [
           "file:///home/fmind/mlops-python-package/mlruns/300971336194126583/a9225f3845ab4da6baf77885d9c75dfd/artifacts",
           "2024-12-14T14:37:54.740000",
           "300971336194126583",
           "active",
           "a9225f3845ab4da6baf77885d9c75dfd",
           "Promotion",
           "a9225f3845ab4da6baf77885d9c75dfd",
           "FINISHED",
           "fmind",
           {},
           {
            "conf_file": "confs/promotion.yaml"
           },
           {
            "mlflow.gitRepoURL": "git@github.com:fmind/mlops-python-package",
            "mlflow.project.backend": "local",
            "mlflow.project.entryPoint": "main",
            "mlflow.project.env": "virtualenv",
            "mlflow.runName": "Promotion",
            "mlflow.source.git.commit": "1a4b8a25a32f0e933a7db9ec47f763cc7bd17d1c",
            "mlflow.source.git.repoURL": "git@github.com:fmind/mlops-python-package",
            "mlflow.source.name": "file:///home/fmind/mlops-python-package",
            "mlflow.source.type": "PROJECT",
            "mlflow.user": "fmind"
           },
           5.117,
           "fmind",
           "file:///home/fmind/mlops-python-package",
           "PROJECT",
           "main",
           "1a4b8a25a32f0e933a7db9ec47f763cc7bd17d1c",
           "git@github.com:fmind/mlops-python-package",
           "git@github.com:fmind/mlops-python-package",
           "Promotion",
           "virtualenv",
           "local",
           null,
           null,
           null,
           null,
           null
          ],
          [
           "file:///home/fmind/mlops-python-package/mlruns/300971336194126583/d2aed973c12b475f849743599f7bc973/artifacts",
           "2024-12-14T14:37:46.512000",
           "300971336194126583",
           "active",
           "d2aed973c12b475f849743599f7bc973",
           "Training",
           "d2aed973c12b475f849743599f7bc973",
           "FINISHED",
           "fmind",
           {
            "mean_squared_error": -24.55763888888889,
            "system/cpu_utilization_percentage": 20.8,
            "system/disk_available_megabytes": 8002.4,
            "system/disk_usage_megabytes": 107906.7,
            "system/disk_usage_percentage": 93.1,
            "system/network_receive_megabytes": 0.006799000000000888,
            "system/network_transmit_megabytes": 0.004778000000101201,
            "system/system_memory_usage_megabytes": 4375.5,
            "system/system_memory_usage_percentage": 29,
            "training_mean_absolute_error": 0.3561289343195786,
            "training_mean_squared_error": 1.2806655854526316,
            "training_r2_score": 0.9999473906118655,
            "training_root_mean_squared_error": 1.1316649616616359,
            "training_score": 0.9999473906118655
           },
           {
            "conf_file": "confs/training.yaml",
            "memory": "None",
            "regressor": "RandomForestRegressor(max_depth=20, n_estimators=200, random_state=42)",
            "regressor__bootstrap": "True",
            "regressor__ccp_alpha": "0.0",
            "regressor__criterion": "squared_error",
            "regressor__max_depth": "20",
            "regressor__max_features": "1.0",
            "regressor__max_leaf_nodes": "None",
            "regressor__max_samples": "None",
            "regressor__min_impurity_decrease": "0.0",
            "regressor__min_samples_leaf": "1",
            "regressor__min_samples_split": "2",
            "regressor__min_weight_fraction_leaf": "0.0",
            "regressor__monotonic_cst": "None",
            "regressor__n_estimators": "200",
            "regressor__n_jobs": "None",
            "regressor__oob_score": "False",
            "regressor__random_state": "42",
            "regressor__verbose": "0",
            "regressor__warm_start": "False",
            "steps": "[('transformer', ColumnTransformer(transformers=[('categoricals',\n                                 OneHotEncoder(handle_unknown='ignore',\n                                               sparse_output=False),\n                                 ['season', 'weathersit']),\n                                ('numericals', 'passthrough',\n                                 ['yr', 'mnth', 'hr', 'holiday', 'weekday',\n                                  'workingday', 'temp', 'atemp', 'hum',\n                                  'windspeed', 'casual', 'registered'])])), ('regressor', RandomForestRegressor(max_depth=20, n_estimators=200, random_state=42))]",
            "transformer": "ColumnTransformer(transformers=[('categoricals',\n                                 OneHotEncoder(handle_unknown='ignore',\n                                               sparse_output=False),\n                                 ['season', 'weathersit']),\n                                ('numericals', 'passthrough',\n                                 ['yr', 'mnth', 'hr', 'holiday', 'weekday',\n                                  'workingday', 'temp', 'atemp', 'hum',\n                                  'windspeed', 'casual', 'registered'])])",
            "transformer__categoricals": "OneHotEncoder(handle_unknown='ignore', sparse_output=False)",
            "transformer__categoricals__categories": "auto",
            "transformer__categoricals__drop": "None",
            "transformer__categoricals__dtype": "<class 'numpy.float64'>",
            "transformer__categoricals__feature_name_combiner": "concat",
            "transformer__categoricals__handle_unknown": "ignore",
            "transformer__categoricals__max_categories": "None",
            "transformer__categoricals__min_frequency": "None",
            "transformer__categoricals__sparse_output": "False",
            "transformer__force_int_remainder_cols": "True",
            "transformer__n_jobs": "None",
            "transformer__numericals": "passthrough",
            "transformer__remainder": "drop",
            "transformer__sparse_threshold": "0.3",
            "transformer__transformer_weights": "None",
            "transformer__transformers": "[('categoricals', OneHotEncoder(handle_unknown='ignore', sparse_output=False), ['season', 'weathersit']), ('numericals', 'passthrough', ['yr', 'mnth', 'hr', 'holiday', 'weekday', 'workingday', 'temp', 'atemp', 'hum', 'windspeed', 'casual', 'registered'])]",
            "transformer__verbose": "False",
            "transformer__verbose_feature_names_out": "True",
            "verbose": "False"
           },
           {
            "estimator_class": "sklearn.pipeline.Pipeline",
            "estimator_name": "Pipeline",
            "mlflow.gitRepoURL": "git@github.com:fmind/mlops-python-package",
            "mlflow.log-model.history": "[{\"run_id\": \"d2aed973c12b475f849743599f7bc973\", \"artifact_path\": \"model\", \"utc_time_created\": \"2024-12-14 14:37:33.468367\", \"model_uuid\": \"e6f77661d7214385a83cc9a45c689a0a\", \"flavors\": {\"python_function\": {\"model_path\": \"model.pkl\", \"predict_fn\": \"predict\", \"loader_module\": \"mlflow.sklearn\", \"python_version\": \"3.12.7\", \"env\": {\"conda\": \"conda.yaml\", \"virtualenv\": \"python_env.yaml\"}}, \"sklearn\": {\"pickled_model\": \"model.pkl\", \"sklearn_version\": \"1.5.2\", \"serialization_format\": \"cloudpickle\", \"code\": null}}}, {\"run_id\": \"d2aed973c12b475f849743599f7bc973\", \"artifact_path\": \"model\", \"utc_time_created\": \"2024-12-14 14:37:38.175626\", \"model_uuid\": \"4b143c2fc8234dac9c98bbdfb03aaa1a\", \"flavors\": {\"python_function\": {\"streamable\": false, \"cloudpickle_version\": \"3.1.0\", \"python_model\": \"python_model.pkl\", \"loader_module\": \"mlflow.pyfunc.model\", \"python_version\": \"3.12.7\", \"env\": {\"conda\": \"conda.yaml\", \"virtualenv\": \"python_env.yaml\"}, \"code\": null}}}]",
            "mlflow.project.backend": "local",
            "mlflow.project.entryPoint": "main",
            "mlflow.project.env": "virtualenv",
            "mlflow.runName": "Training",
            "mlflow.source.git.commit": "1a4b8a25a32f0e933a7db9ec47f763cc7bd17d1c",
            "mlflow.source.git.repoURL": "git@github.com:fmind/mlops-python-package",
            "mlflow.source.name": "file:///home/fmind/mlops-python-package",
            "mlflow.source.type": "PROJECT",
            "mlflow.user": "fmind"
           },
           28.042,
           "fmind",
           "file:///home/fmind/mlops-python-package",
           "PROJECT",
           "main",
           "1a4b8a25a32f0e933a7db9ec47f763cc7bd17d1c",
           "git@github.com:fmind/mlops-python-package",
           "git@github.com:fmind/mlops-python-package",
           "Training",
           "virtualenv",
           "local",
           "Pipeline",
           "sklearn.pipeline.Pipeline",
           "[{\"run_id\": \"d2aed973c12b475f849743599f7bc973\", \"artifact_path\": \"model\", \"utc_time_created\": \"2024-12-14 14:37:33.468367\", \"model_uuid\": \"e6f77661d7214385a83cc9a45c689a0a\", \"flavors\": {\"python_function\": {\"model_path\": \"model.pkl\", \"predict_fn\": \"predict\", \"loader_module\": \"mlflow.sklearn\", \"python_version\": \"3.12.7\", \"env\": {\"conda\": \"conda.yaml\", \"virtualenv\": \"python_env.yaml\"}}, \"sklearn\": {\"pickled_model\": \"model.pkl\", \"sklearn_version\": \"1.5.2\", \"serialization_format\": \"cloudpickle\", \"code\": null}}}, {\"run_id\": \"d2aed973c12b475f849743599f7bc973\", \"artifact_path\": \"model\", \"utc_time_created\": \"2024-12-14 14:37:38.175626\", \"model_uuid\": \"4b143c2fc8234dac9c98bbdfb03aaa1a\", \"flavors\": {\"python_function\": {\"streamable\": false, \"cloudpickle_version\": \"3.1.0\", \"python_model\": \"python_model.pkl\", \"loader_module\": \"mlflow.pyfunc.model\", \"python_version\": \"3.12.7\", \"env\": {\"conda\": \"conda.yaml\", \"virtualenv\": \"python_env.yaml\"}, \"code\": null}}}]",
           null,
           null
          ],
          [
           "file:///home/fmind/mlops-python-package/mlruns/300971336194126583/006ccc2cf48e489099b285ab6d538d1a/artifacts",
           "2024-12-14T14:37:15.261000",
           "300971336194126583",
           "active",
           "006ccc2cf48e489099b285ab6d538d1a",
           "sincere-sow-522",
           "006ccc2cf48e489099b285ab6d538d1a",
           "FINISHED",
           "fmind",
           {
            "mean_fit_time": 1.635141909122467,
            "mean_score_time": 0.04768478870391846,
            "mean_test_score": -2845.011111111111,
            "rank_test_score": 3,
            "std_fit_time": 0.16971366972379937,
            "std_score_time": 0.002114185952165752,
            "std_test_score": 1362.0703338739036
           },
           {
            "max_depth": "3",
            "n_estimators": "200",
            "random_state": "42"
           },
           {
            "estimator_class": "bikes.core.models.BaselineSklearnModel",
            "estimator_name": "BaselineSklearnModel",
            "mlflow.autologging": "sklearn",
            "mlflow.parentRunId": "857f0dd0a344439693b8cb9ecbf3ee10",
            "mlflow.runName": "sincere-sow-522",
            "mlflow.source.git.commit": "1a4b8a25a32f0e933a7db9ec47f763cc7bd17d1c",
            "mlflow.source.name": "/home/fmind/mlops-python-package/src/bikes/__main__.py",
            "mlflow.source.type": "LOCAL",
            "mlflow.user": "fmind"
           },
           132.755,
           "fmind",
           "/home/fmind/mlops-python-package/src/bikes/__main__.py",
           "LOCAL",
           null,
           "1a4b8a25a32f0e933a7db9ec47f763cc7bd17d1c",
           null,
           null,
           "sincere-sow-522",
           null,
           null,
           "BaselineSklearnModel",
           "bikes.core.models.BaselineSklearnModel",
           null,
           "sklearn",
           "857f0dd0a344439693b8cb9ecbf3ee10"
          ],
          [
           "file:///home/fmind/mlops-python-package/mlruns/300971336194126583/44be742accc846c784acacab379cdca3/artifacts",
           "2024-12-14T14:37:15.261000",
           "300971336194126583",
           "active",
           "44be742accc846c784acacab379cdca3",
           "bittersweet-fowl-631",
           "44be742accc846c784acacab379cdca3",
           "FINISHED",
           "fmind",
           {
            "mean_fit_time": 2.448797047138214,
            "mean_score_time": 0.05008918046951294,
            "mean_test_score": -711.7982638888889,
            "rank_test_score": 2,
            "std_fit_time": 0.33258931824071436,
            "std_score_time": 0.0004049252455184904,
            "std_test_score": 506.2583283876414
           },
           {
            "max_depth": "5",
            "n_estimators": "200",
            "random_state": "42"
           },
           {
            "estimator_class": "bikes.core.models.BaselineSklearnModel",
            "estimator_name": "BaselineSklearnModel",
            "mlflow.autologging": "sklearn",
            "mlflow.parentRunId": "857f0dd0a344439693b8cb9ecbf3ee10",
            "mlflow.runName": "bittersweet-fowl-631",
            "mlflow.source.git.commit": "1a4b8a25a32f0e933a7db9ec47f763cc7bd17d1c",
            "mlflow.source.name": "/home/fmind/mlops-python-package/src/bikes/__main__.py",
            "mlflow.source.type": "LOCAL",
            "mlflow.user": "fmind"
           },
           132.755,
           "fmind",
           "/home/fmind/mlops-python-package/src/bikes/__main__.py",
           "LOCAL",
           null,
           "1a4b8a25a32f0e933a7db9ec47f763cc7bd17d1c",
           null,
           null,
           "bittersweet-fowl-631",
           null,
           null,
           "BaselineSklearnModel",
           "bikes.core.models.BaselineSklearnModel",
           null,
           "sklearn",
           "857f0dd0a344439693b8cb9ecbf3ee10"
          ],
          [
           "file:///home/fmind/mlops-python-package/mlruns/300971336194126583/857f0dd0a344439693b8cb9ecbf3ee10/artifacts",
           "2024-12-14T14:37:16.048000",
           "300971336194126583",
           "active",
           "857f0dd0a344439693b8cb9ecbf3ee10",
           "Tuning",
           "857f0dd0a344439693b8cb9ecbf3ee10",
           "FINISHED",
           "fmind",
           {
            "best_cv_score": -319.5045138888889,
            "system/cpu_utilization_percentage": 21.5,
            "system/disk_available_megabytes": 8003.8,
            "system/disk_usage_megabytes": 107904.9,
            "system/disk_usage_percentage": 93.1,
            "system/network_receive_megabytes": 0.012895999999955166,
            "system/network_transmit_megabytes": 0.0012200000001030276,
            "system/system_memory_usage_megabytes": 4608.4,
            "system/system_memory_usage_percentage": 30.6,
            "training_score": -25.253110839387183
           },
           {
            "best_max_depth": "7",
            "conf_file": "confs/tuning.yaml",
            "cv": "KIND='TimeSeriesSplitter' gap=0 n_splits=4 test_size=1440",
            "error_score": "raise",
            "estimator": "KIND='BaselineSklearnModel' max_depth=20 n_estimators=200 random_state=42",
            "n_jobs": "None",
            "param_grid": "{'max_depth': [3, 5, 7]}",
            "pre_dispatch": "2*n_jobs",
            "refit": "True",
            "return_train_score": "False",
            "scoring": "<bound method Metric.scorer of SklearnMetric(KIND='SklearnMetric', name='mean_squared_error', greater_is_better=False)>",
            "verbose": "3"
           },
           {
            "estimator_class": "sklearn.model_selection._search.GridSearchCV",
            "estimator_name": "GridSearchCV",
            "mlflow.gitRepoURL": "git@github.com:fmind/mlops-python-package",
            "mlflow.log-model.history": "[{\"run_id\": \"857f0dd0a344439693b8cb9ecbf3ee10\", \"artifact_path\": \"model\", \"utc_time_created\": \"2024-12-14 14:37:05.731840\", \"model_uuid\": \"4ada6a336e424391bf2cdf750e2c7042\", \"flavors\": {\"python_function\": {\"model_path\": \"model.pkl\", \"predict_fn\": \"predict\", \"loader_module\": \"mlflow.sklearn\", \"python_version\": \"3.12.7\", \"env\": {\"conda\": \"conda.yaml\", \"virtualenv\": \"python_env.yaml\"}}, \"sklearn\": {\"pickled_model\": \"model.pkl\", \"sklearn_version\": \"1.5.2\", \"serialization_format\": \"cloudpickle\", \"code\": null}}}, {\"run_id\": \"857f0dd0a344439693b8cb9ecbf3ee10\", \"artifact_path\": \"best_estimator\", \"utc_time_created\": \"2024-12-14 14:37:11.174511\", \"model_uuid\": \"7be250b39fd343ec99975be2a910fb2a\", \"flavors\": {\"python_function\": {\"model_path\": \"model.pkl\", \"predict_fn\": \"predict\", \"loader_module\": \"mlflow.sklearn\", \"python_version\": \"3.12.7\", \"env\": {\"conda\": \"conda.yaml\", \"virtualenv\": \"python_env.yaml\"}}, \"sklearn\": {\"pickled_model\": \"model.pkl\", \"sklearn_version\": \"1.5.2\", \"serialization_format\": \"cloudpickle\", \"code\": null}}}]",
            "mlflow.project.backend": "local",
            "mlflow.project.entryPoint": "main",
            "mlflow.project.env": "virtualenv",
            "mlflow.runName": "Tuning",
            "mlflow.source.git.commit": "1a4b8a25a32f0e933a7db9ec47f763cc7bd17d1c",
            "mlflow.source.git.repoURL": "git@github.com:fmind/mlops-python-package",
            "mlflow.source.name": "file:///home/fmind/mlops-python-package",
            "mlflow.source.type": "PROJECT",
            "mlflow.user": "fmind"
           },
           133.542,
           "fmind",
           "file:///home/fmind/mlops-python-package",
           "PROJECT",
           "main",
           "1a4b8a25a32f0e933a7db9ec47f763cc7bd17d1c",
           "git@github.com:fmind/mlops-python-package",
           "git@github.com:fmind/mlops-python-package",
           "Tuning",
           "virtualenv",
           "local",
           "GridSearchCV",
           "sklearn.model_selection._search.GridSearchCV",
           "[{\"run_id\": \"857f0dd0a344439693b8cb9ecbf3ee10\", \"artifact_path\": \"model\", \"utc_time_created\": \"2024-12-14 14:37:05.731840\", \"model_uuid\": \"4ada6a336e424391bf2cdf750e2c7042\", \"flavors\": {\"python_function\": {\"model_path\": \"model.pkl\", \"predict_fn\": \"predict\", \"loader_module\": \"mlflow.sklearn\", \"python_version\": \"3.12.7\", \"env\": {\"conda\": \"conda.yaml\", \"virtualenv\": \"python_env.yaml\"}}, \"sklearn\": {\"pickled_model\": \"model.pkl\", \"sklearn_version\": \"1.5.2\", \"serialization_format\": \"cloudpickle\", \"code\": null}}}, {\"run_id\": \"857f0dd0a344439693b8cb9ecbf3ee10\", \"artifact_path\": \"best_estimator\", \"utc_time_created\": \"2024-12-14 14:37:11.174511\", \"model_uuid\": \"7be250b39fd343ec99975be2a910fb2a\", \"flavors\": {\"python_function\": {\"model_path\": \"model.pkl\", \"predict_fn\": \"predict\", \"loader_module\": \"mlflow.sklearn\", \"python_version\": \"3.12.7\", \"env\": {\"conda\": \"conda.yaml\", \"virtualenv\": \"python_env.yaml\"}}, \"sklearn\": {\"pickled_model\": \"model.pkl\", \"sklearn_version\": \"1.5.2\", \"serialization_format\": \"cloudpickle\", \"code\": null}}}]",
           null,
           null
          ],
          [
           "file:///home/fmind/mlops-python-package/mlruns/300971336194126583/e9980ab9c8db4f80a18aadfa47a3e83e/artifacts",
           "2024-12-14T14:37:15.261000",
           "300971336194126583",
           "active",
           "e9980ab9c8db4f80a18aadfa47a3e83e",
           "smiling-hound-227",
           "e9980ab9c8db4f80a18aadfa47a3e83e",
           "FINISHED",
           "fmind",
           {
            "mean_fit_time": 3.4514302015304565,
            "mean_score_time": 0.060173630714416504,
            "mean_test_score": -319.5045138888889,
            "rank_test_score": 1,
            "std_fit_time": 0.44103751840131455,
            "std_score_time": 0.002450930454703554,
            "std_test_score": 350.4638291591938
           },
           {
            "max_depth": "7",
            "n_estimators": "200",
            "random_state": "42"
           },
           {
            "estimator_class": "bikes.core.models.BaselineSklearnModel",
            "estimator_name": "BaselineSklearnModel",
            "mlflow.autologging": "sklearn",
            "mlflow.parentRunId": "857f0dd0a344439693b8cb9ecbf3ee10",
            "mlflow.runName": "smiling-hound-227",
            "mlflow.source.git.commit": "1a4b8a25a32f0e933a7db9ec47f763cc7bd17d1c",
            "mlflow.source.name": "/home/fmind/mlops-python-package/src/bikes/__main__.py",
            "mlflow.source.type": "LOCAL",
            "mlflow.user": "fmind"
           },
           132.755,
           "fmind",
           "/home/fmind/mlops-python-package/src/bikes/__main__.py",
           "LOCAL",
           null,
           "1a4b8a25a32f0e933a7db9ec47f763cc7bd17d1c",
           null,
           null,
           "smiling-hound-227",
           null,
           null,
           "BaselineSklearnModel",
           "bikes.core.models.BaselineSklearnModel",
           null,
           "sklearn",
           "857f0dd0a344439693b8cb9ecbf3ee10"
          ]
         ],
         "fillcolor": "rgba(255,255,255,0)",
         "hoveron": "points",
         "hovertemplate": "<b>%{hovertext}</b><br><br>experiment_id=%{customdata[2]}<br>start_time=%{x}<br>artifact_uri=%{customdata[0]}<br>end_time=%{customdata[1]}<br>lifecycle_stage=%{customdata[3]}<br>run_id=%{customdata[4]}<br>run_name=%{customdata[5]}<br>run_uuid=%{customdata[6]}<br>status=%{customdata[7]}<br>user_id=%{customdata[8]}<br>metrics=%{customdata[9]}<br>params=%{customdata[10]}<br>tags=%{customdata[11]}<br>run_time_secs=%{customdata[12]}<br>mlflow.user=%{customdata[13]}<br>mlflow.source.name=%{customdata[14]}<br>mlflow.source.type=%{customdata[15]}<br>mlflow.project.entryPoint=%{customdata[16]}<br>mlflow.source.git.commit=%{customdata[17]}<br>mlflow.source.git.repoURL=%{customdata[18]}<br>mlflow.gitRepoURL=%{customdata[19]}<br>mlflow.runName=%{customdata[20]}<br>mlflow.project.env=%{customdata[21]}<br>mlflow.project.backend=%{customdata[22]}<br>estimator_name=%{customdata[23]}<br>estimator_class=%{customdata[24]}<br>mlflow.log-model.history=%{customdata[25]}<br>mlflow.autologging=%{customdata[26]}<br>mlflow.parentRunId=%{customdata[27]}<extra></extra>",
         "hovertext": [
          "Explanations",
          "Evaluations",
          "Inference",
          "Promotion",
          "Training",
          "wise-hound-335",
          "auspicious-fly-358",
          "Tuning",
          "lyrical-asp-40",
          "Explanations",
          "Evaluations",
          "Inference",
          "Promotion",
          "Training",
          "classy-yak-743",
          "Tuning",
          "legendary-dove-782",
          "big-duck-612",
          "Explanations",
          "Evaluations",
          "Inference",
          "Promotion",
          "Training",
          "sincere-sow-522",
          "bittersweet-fowl-631",
          "Tuning",
          "smiling-hound-227"
         ],
         "legendgroup": "300971336194126583",
         "line": {
          "color": "rgba(255,255,255,0)"
         },
         "marker": {
          "color": "#636efa"
         },
         "name": "300971336194126583",
         "offsetgroup": "300971336194126583",
         "orientation": "h",
         "pointpos": 0,
         "showlegend": true,
         "type": "box",
         "x": [
          "2024-12-14T14:42:16.077000",
          "2024-12-14T14:42:07.488000",
          "2024-12-14T14:41:59.607000",
          "2024-12-14T14:41:52.639000",
          "2024-12-14T14:41:23.914000",
          "2024-12-14T14:40:34.416000",
          "2024-12-14T14:40:34.416000",
          "2024-12-14T14:40:34.416000",
          "2024-12-14T14:40:34.416000",
          "2024-12-14T14:40:17.104000",
          "2024-12-14T14:40:07.979000",
          "2024-12-14T14:40:00.564000",
          "2024-12-14T14:39:53.123000",
          "2024-12-14T14:39:24.560000",
          "2024-12-14T14:38:34.646000",
          "2024-12-14T14:38:34.646000",
          "2024-12-14T14:38:34.646000",
          "2024-12-14T14:38:34.646000",
          "2024-12-14T14:38:14.529000",
          "2024-12-14T14:38:05.805000",
          "2024-12-14T14:37:57.371000",
          "2024-12-14T14:37:49.623000",
          "2024-12-14T14:37:18.470000",
          "2024-12-14T14:35:02.506000",
          "2024-12-14T14:35:02.506000",
          "2024-12-14T14:35:02.506000",
          "2024-12-14T14:35:02.506000"
         ],
         "x0": " ",
         "xaxis": "x",
         "y0": " ",
         "yaxis": "y"
        }
       ],
       "layout": {
        "boxmode": "group",
        "legend": {
         "title": {
          "text": "experiment_id"
         },
         "tracegroupgap": 0
        },
        "template": {
         "data": {
          "bar": [
           {
            "error_x": {
             "color": "#2a3f5f"
            },
            "error_y": {
             "color": "#2a3f5f"
            },
            "marker": {
             "line": {
              "color": "#E5ECF6",
              "width": 0.5
             },
             "pattern": {
              "fillmode": "overlay",
              "size": 10,
              "solidity": 0.2
             }
            },
            "type": "bar"
           }
          ],
          "barpolar": [
           {
            "marker": {
             "line": {
              "color": "#E5ECF6",
              "width": 0.5
             },
             "pattern": {
              "fillmode": "overlay",
              "size": 10,
              "solidity": 0.2
             }
            },
            "type": "barpolar"
           }
          ],
          "carpet": [
           {
            "aaxis": {
             "endlinecolor": "#2a3f5f",
             "gridcolor": "white",
             "linecolor": "white",
             "minorgridcolor": "white",
             "startlinecolor": "#2a3f5f"
            },
            "baxis": {
             "endlinecolor": "#2a3f5f",
             "gridcolor": "white",
             "linecolor": "white",
             "minorgridcolor": "white",
             "startlinecolor": "#2a3f5f"
            },
            "type": "carpet"
           }
          ],
          "choropleth": [
           {
            "colorbar": {
             "outlinewidth": 0,
             "ticks": ""
            },
            "type": "choropleth"
           }
          ],
          "contour": [
           {
            "colorbar": {
             "outlinewidth": 0,
             "ticks": ""
            },
            "colorscale": [
             [
              0,
              "#0d0887"
             ],
             [
              0.1111111111111111,
              "#46039f"
             ],
             [
              0.2222222222222222,
              "#7201a8"
             ],
             [
              0.3333333333333333,
              "#9c179e"
             ],
             [
              0.4444444444444444,
              "#bd3786"
             ],
             [
              0.5555555555555556,
              "#d8576b"
             ],
             [
              0.6666666666666666,
              "#ed7953"
             ],
             [
              0.7777777777777778,
              "#fb9f3a"
             ],
             [
              0.8888888888888888,
              "#fdca26"
             ],
             [
              1,
              "#f0f921"
             ]
            ],
            "type": "contour"
           }
          ],
          "contourcarpet": [
           {
            "colorbar": {
             "outlinewidth": 0,
             "ticks": ""
            },
            "type": "contourcarpet"
           }
          ],
          "heatmap": [
           {
            "colorbar": {
             "outlinewidth": 0,
             "ticks": ""
            },
            "colorscale": [
             [
              0,
              "#0d0887"
             ],
             [
              0.1111111111111111,
              "#46039f"
             ],
             [
              0.2222222222222222,
              "#7201a8"
             ],
             [
              0.3333333333333333,
              "#9c179e"
             ],
             [
              0.4444444444444444,
              "#bd3786"
             ],
             [
              0.5555555555555556,
              "#d8576b"
             ],
             [
              0.6666666666666666,
              "#ed7953"
             ],
             [
              0.7777777777777778,
              "#fb9f3a"
             ],
             [
              0.8888888888888888,
              "#fdca26"
             ],
             [
              1,
              "#f0f921"
             ]
            ],
            "type": "heatmap"
           }
          ],
          "heatmapgl": [
           {
            "colorbar": {
             "outlinewidth": 0,
             "ticks": ""
            },
            "colorscale": [
             [
              0,
              "#0d0887"
             ],
             [
              0.1111111111111111,
              "#46039f"
             ],
             [
              0.2222222222222222,
              "#7201a8"
             ],
             [
              0.3333333333333333,
              "#9c179e"
             ],
             [
              0.4444444444444444,
              "#bd3786"
             ],
             [
              0.5555555555555556,
              "#d8576b"
             ],
             [
              0.6666666666666666,
              "#ed7953"
             ],
             [
              0.7777777777777778,
              "#fb9f3a"
             ],
             [
              0.8888888888888888,
              "#fdca26"
             ],
             [
              1,
              "#f0f921"
             ]
            ],
            "type": "heatmapgl"
           }
          ],
          "histogram": [
           {
            "marker": {
             "pattern": {
              "fillmode": "overlay",
              "size": 10,
              "solidity": 0.2
             }
            },
            "type": "histogram"
           }
          ],
          "histogram2d": [
           {
            "colorbar": {
             "outlinewidth": 0,
             "ticks": ""
            },
            "colorscale": [
             [
              0,
              "#0d0887"
             ],
             [
              0.1111111111111111,
              "#46039f"
             ],
             [
              0.2222222222222222,
              "#7201a8"
             ],
             [
              0.3333333333333333,
              "#9c179e"
             ],
             [
              0.4444444444444444,
              "#bd3786"
             ],
             [
              0.5555555555555556,
              "#d8576b"
             ],
             [
              0.6666666666666666,
              "#ed7953"
             ],
             [
              0.7777777777777778,
              "#fb9f3a"
             ],
             [
              0.8888888888888888,
              "#fdca26"
             ],
             [
              1,
              "#f0f921"
             ]
            ],
            "type": "histogram2d"
           }
          ],
          "histogram2dcontour": [
           {
            "colorbar": {
             "outlinewidth": 0,
             "ticks": ""
            },
            "colorscale": [
             [
              0,
              "#0d0887"
             ],
             [
              0.1111111111111111,
              "#46039f"
             ],
             [
              0.2222222222222222,
              "#7201a8"
             ],
             [
              0.3333333333333333,
              "#9c179e"
             ],
             [
              0.4444444444444444,
              "#bd3786"
             ],
             [
              0.5555555555555556,
              "#d8576b"
             ],
             [
              0.6666666666666666,
              "#ed7953"
             ],
             [
              0.7777777777777778,
              "#fb9f3a"
             ],
             [
              0.8888888888888888,
              "#fdca26"
             ],
             [
              1,
              "#f0f921"
             ]
            ],
            "type": "histogram2dcontour"
           }
          ],
          "mesh3d": [
           {
            "colorbar": {
             "outlinewidth": 0,
             "ticks": ""
            },
            "type": "mesh3d"
           }
          ],
          "parcoords": [
           {
            "line": {
             "colorbar": {
              "outlinewidth": 0,
              "ticks": ""
             }
            },
            "type": "parcoords"
           }
          ],
          "pie": [
           {
            "automargin": true,
            "type": "pie"
           }
          ],
          "scatter": [
           {
            "fillpattern": {
             "fillmode": "overlay",
             "size": 10,
             "solidity": 0.2
            },
            "type": "scatter"
           }
          ],
          "scatter3d": [
           {
            "line": {
             "colorbar": {
              "outlinewidth": 0,
              "ticks": ""
             }
            },
            "marker": {
             "colorbar": {
              "outlinewidth": 0,
              "ticks": ""
             }
            },
            "type": "scatter3d"
           }
          ],
          "scattercarpet": [
           {
            "marker": {
             "colorbar": {
              "outlinewidth": 0,
              "ticks": ""
             }
            },
            "type": "scattercarpet"
           }
          ],
          "scattergeo": [
           {
            "marker": {
             "colorbar": {
              "outlinewidth": 0,
              "ticks": ""
             }
            },
            "type": "scattergeo"
           }
          ],
          "scattergl": [
           {
            "marker": {
             "colorbar": {
              "outlinewidth": 0,
              "ticks": ""
             }
            },
            "type": "scattergl"
           }
          ],
          "scattermapbox": [
           {
            "marker": {
             "colorbar": {
              "outlinewidth": 0,
              "ticks": ""
             }
            },
            "type": "scattermapbox"
           }
          ],
          "scatterpolar": [
           {
            "marker": {
             "colorbar": {
              "outlinewidth": 0,
              "ticks": ""
             }
            },
            "type": "scatterpolar"
           }
          ],
          "scatterpolargl": [
           {
            "marker": {
             "colorbar": {
              "outlinewidth": 0,
              "ticks": ""
             }
            },
            "type": "scatterpolargl"
           }
          ],
          "scatterternary": [
           {
            "marker": {
             "colorbar": {
              "outlinewidth": 0,
              "ticks": ""
             }
            },
            "type": "scatterternary"
           }
          ],
          "surface": [
           {
            "colorbar": {
             "outlinewidth": 0,
             "ticks": ""
            },
            "colorscale": [
             [
              0,
              "#0d0887"
             ],
             [
              0.1111111111111111,
              "#46039f"
             ],
             [
              0.2222222222222222,
              "#7201a8"
             ],
             [
              0.3333333333333333,
              "#9c179e"
             ],
             [
              0.4444444444444444,
              "#bd3786"
             ],
             [
              0.5555555555555556,
              "#d8576b"
             ],
             [
              0.6666666666666666,
              "#ed7953"
             ],
             [
              0.7777777777777778,
              "#fb9f3a"
             ],
             [
              0.8888888888888888,
              "#fdca26"
             ],
             [
              1,
              "#f0f921"
             ]
            ],
            "type": "surface"
           }
          ],
          "table": [
           {
            "cells": {
             "fill": {
              "color": "#EBF0F8"
             },
             "line": {
              "color": "white"
             }
            },
            "header": {
             "fill": {
              "color": "#C8D4E3"
             },
             "line": {
              "color": "white"
             }
            },
            "type": "table"
           }
          ]
         },
         "layout": {
          "annotationdefaults": {
           "arrowcolor": "#2a3f5f",
           "arrowhead": 0,
           "arrowwidth": 1
          },
          "autotypenumbers": "strict",
          "coloraxis": {
           "colorbar": {
            "outlinewidth": 0,
            "ticks": ""
           }
          },
          "colorscale": {
           "diverging": [
            [
             0,
             "#8e0152"
            ],
            [
             0.1,
             "#c51b7d"
            ],
            [
             0.2,
             "#de77ae"
            ],
            [
             0.3,
             "#f1b6da"
            ],
            [
             0.4,
             "#fde0ef"
            ],
            [
             0.5,
             "#f7f7f7"
            ],
            [
             0.6,
             "#e6f5d0"
            ],
            [
             0.7,
             "#b8e186"
            ],
            [
             0.8,
             "#7fbc41"
            ],
            [
             0.9,
             "#4d9221"
            ],
            [
             1,
             "#276419"
            ]
           ],
           "sequential": [
            [
             0,
             "#0d0887"
            ],
            [
             0.1111111111111111,
             "#46039f"
            ],
            [
             0.2222222222222222,
             "#7201a8"
            ],
            [
             0.3333333333333333,
             "#9c179e"
            ],
            [
             0.4444444444444444,
             "#bd3786"
            ],
            [
             0.5555555555555556,
             "#d8576b"
            ],
            [
             0.6666666666666666,
             "#ed7953"
            ],
            [
             0.7777777777777778,
             "#fb9f3a"
            ],
            [
             0.8888888888888888,
             "#fdca26"
            ],
            [
             1,
             "#f0f921"
            ]
           ],
           "sequentialminus": [
            [
             0,
             "#0d0887"
            ],
            [
             0.1111111111111111,
             "#46039f"
            ],
            [
             0.2222222222222222,
             "#7201a8"
            ],
            [
             0.3333333333333333,
             "#9c179e"
            ],
            [
             0.4444444444444444,
             "#bd3786"
            ],
            [
             0.5555555555555556,
             "#d8576b"
            ],
            [
             0.6666666666666666,
             "#ed7953"
            ],
            [
             0.7777777777777778,
             "#fb9f3a"
            ],
            [
             0.8888888888888888,
             "#fdca26"
            ],
            [
             1,
             "#f0f921"
            ]
           ]
          },
          "colorway": [
           "#636efa",
           "#EF553B",
           "#00cc96",
           "#ab63fa",
           "#FFA15A",
           "#19d3f3",
           "#FF6692",
           "#B6E880",
           "#FF97FF",
           "#FECB52"
          ],
          "font": {
           "color": "#2a3f5f"
          },
          "geo": {
           "bgcolor": "white",
           "lakecolor": "white",
           "landcolor": "#E5ECF6",
           "showlakes": true,
           "showland": true,
           "subunitcolor": "white"
          },
          "hoverlabel": {
           "align": "left"
          },
          "hovermode": "closest",
          "mapbox": {
           "style": "light"
          },
          "paper_bgcolor": "white",
          "plot_bgcolor": "#E5ECF6",
          "polar": {
           "angularaxis": {
            "gridcolor": "white",
            "linecolor": "white",
            "ticks": ""
           },
           "bgcolor": "#E5ECF6",
           "radialaxis": {
            "gridcolor": "white",
            "linecolor": "white",
            "ticks": ""
           }
          },
          "scene": {
           "xaxis": {
            "backgroundcolor": "#E5ECF6",
            "gridcolor": "white",
            "gridwidth": 2,
            "linecolor": "white",
            "showbackground": true,
            "ticks": "",
            "zerolinecolor": "white"
           },
           "yaxis": {
            "backgroundcolor": "#E5ECF6",
            "gridcolor": "white",
            "gridwidth": 2,
            "linecolor": "white",
            "showbackground": true,
            "ticks": "",
            "zerolinecolor": "white"
           },
           "zaxis": {
            "backgroundcolor": "#E5ECF6",
            "gridcolor": "white",
            "gridwidth": 2,
            "linecolor": "white",
            "showbackground": true,
            "ticks": "",
            "zerolinecolor": "white"
           }
          },
          "shapedefaults": {
           "line": {
            "color": "#2a3f5f"
           }
          },
          "ternary": {
           "aaxis": {
            "gridcolor": "white",
            "linecolor": "white",
            "ticks": ""
           },
           "baxis": {
            "gridcolor": "white",
            "linecolor": "white",
            "ticks": ""
           },
           "bgcolor": "#E5ECF6",
           "caxis": {
            "gridcolor": "white",
            "linecolor": "white",
            "ticks": ""
           }
          },
          "title": {
           "x": 0.05
          },
          "xaxis": {
           "automargin": true,
           "gridcolor": "white",
           "linecolor": "white",
           "ticks": "",
           "title": {
            "standoff": 15
           },
           "zerolinecolor": "white",
           "zerolinewidth": 2
          },
          "yaxis": {
           "automargin": true,
           "gridcolor": "white",
           "linecolor": "white",
           "ticks": "",
           "title": {
            "standoff": 15
           },
           "zerolinecolor": "white",
           "zerolinewidth": 2
          }
         }
        },
        "title": {
         "text": "Run Start Time"
        },
        "xaxis": {
         "anchor": "y",
         "domain": [
          0,
          1
         ],
         "title": {
          "text": "start_time"
         }
        },
        "yaxis": {
         "anchor": "x",
         "domain": [
          0,
          1
         ]
        }
       }
      }
     },
     "metadata": {},
     "output_type": "display_data"
    }
   ],
   "source": [
    "px.strip(\n",
    "    runs,\n",
    "    x=\"start_time\",\n",
    "    color=\"experiment_id\",\n",
    "    hover_name=\"run_name\",\n",
    "    hover_data=runs.columns,\n",
    "    title=\"Run Start Time\",\n",
    ")"
   ]
  },
  {
   "cell_type": "code",
   "execution_count": 14,
   "metadata": {},
   "outputs": [
    {
     "data": {
      "application/vnd.plotly.v1+json": {
       "config": {
        "plotlyServerURL": "https://plot.ly"
       },
       "data": [
        {
         "alignmentgroup": "True",
         "boxpoints": "all",
         "customdata": [
          [
           "file:///home/fmind/mlops-python-package/mlruns/300971336194126583/9923cb99c1824857b68c0bedb63f8446/artifacts",
           "2024-12-14T14:42:28.056000",
           "300971336194126583",
           "active",
           "9923cb99c1824857b68c0bedb63f8446",
           "Explanations",
           "9923cb99c1824857b68c0bedb63f8446",
           "2024-12-14T14:42:16.077000",
           "FINISHED",
           "fmind",
           {},
           {
            "conf_file": "confs/explanations.yaml"
           },
           {
            "mlflow.gitRepoURL": "git@github.com:fmind/mlops-python-package",
            "mlflow.project.backend": "local",
            "mlflow.project.entryPoint": "main",
            "mlflow.project.env": "virtualenv",
            "mlflow.runName": "Explanations",
            "mlflow.source.git.commit": "1a4b8a25a32f0e933a7db9ec47f763cc7bd17d1c",
            "mlflow.source.git.repoURL": "git@github.com:fmind/mlops-python-package",
            "mlflow.source.name": "file:///home/fmind/mlops-python-package",
            "mlflow.source.type": "PROJECT",
            "mlflow.user": "fmind"
           },
           "fmind",
           "file:///home/fmind/mlops-python-package",
           "PROJECT",
           "main",
           "1a4b8a25a32f0e933a7db9ec47f763cc7bd17d1c",
           "git@github.com:fmind/mlops-python-package",
           "git@github.com:fmind/mlops-python-package",
           "Explanations",
           "virtualenv",
           "local",
           null,
           null,
           null,
           null,
           null
          ],
          [
           "file:///home/fmind/mlops-python-package/mlruns/300971336194126583/149bc47563a94ae5bc05bbcb7853c122/artifacts",
           "2024-12-14T14:40:29.333000",
           "300971336194126583",
           "active",
           "149bc47563a94ae5bc05bbcb7853c122",
           "Explanations",
           "149bc47563a94ae5bc05bbcb7853c122",
           "2024-12-14T14:40:17.104000",
           "FINISHED",
           "fmind",
           {},
           {
            "conf_file": "confs/explanations.yaml"
           },
           {
            "mlflow.gitRepoURL": "git@github.com:fmind/mlops-python-package",
            "mlflow.project.backend": "local",
            "mlflow.project.entryPoint": "main",
            "mlflow.project.env": "virtualenv",
            "mlflow.runName": "Explanations",
            "mlflow.source.git.commit": "1a4b8a25a32f0e933a7db9ec47f763cc7bd17d1c",
            "mlflow.source.git.repoURL": "git@github.com:fmind/mlops-python-package",
            "mlflow.source.name": "file:///home/fmind/mlops-python-package",
            "mlflow.source.type": "PROJECT",
            "mlflow.user": "fmind"
           },
           "fmind",
           "file:///home/fmind/mlops-python-package",
           "PROJECT",
           "main",
           "1a4b8a25a32f0e933a7db9ec47f763cc7bd17d1c",
           "git@github.com:fmind/mlops-python-package",
           "git@github.com:fmind/mlops-python-package",
           "Explanations",
           "virtualenv",
           "local",
           null,
           null,
           null,
           null,
           null
          ],
          [
           "file:///home/fmind/mlops-python-package/mlruns/300971336194126583/422986fde3df4962b0765cdf008a721b/artifacts",
           "2024-12-14T14:38:26.878000",
           "300971336194126583",
           "active",
           "422986fde3df4962b0765cdf008a721b",
           "Explanations",
           "422986fde3df4962b0765cdf008a721b",
           "2024-12-14T14:38:14.529000",
           "FINISHED",
           "fmind",
           {},
           {
            "conf_file": "confs/explanations.yaml"
           },
           {
            "mlflow.gitRepoURL": "git@github.com:fmind/mlops-python-package",
            "mlflow.project.backend": "local",
            "mlflow.project.entryPoint": "main",
            "mlflow.project.env": "virtualenv",
            "mlflow.runName": "Explanations",
            "mlflow.source.git.commit": "1a4b8a25a32f0e933a7db9ec47f763cc7bd17d1c",
            "mlflow.source.git.repoURL": "git@github.com:fmind/mlops-python-package",
            "mlflow.source.name": "file:///home/fmind/mlops-python-package",
            "mlflow.source.type": "PROJECT",
            "mlflow.user": "fmind"
           },
           "fmind",
           "file:///home/fmind/mlops-python-package",
           "PROJECT",
           "main",
           "1a4b8a25a32f0e933a7db9ec47f763cc7bd17d1c",
           "git@github.com:fmind/mlops-python-package",
           "git@github.com:fmind/mlops-python-package",
           "Explanations",
           "virtualenv",
           "local",
           null,
           null,
           null,
           null,
           null
          ]
         ],
         "fillcolor": "rgba(255,255,255,0)",
         "hoveron": "points",
         "hovertemplate": "<b>%{hovertext}</b><br><br>run_name=%{customdata[5]}<br>run_time_secs=%{x}<br>artifact_uri=%{customdata[0]}<br>end_time=%{customdata[1]}<br>experiment_id=%{customdata[2]}<br>lifecycle_stage=%{customdata[3]}<br>run_id=%{customdata[4]}<br>run_uuid=%{customdata[6]}<br>start_time=%{customdata[7]}<br>status=%{customdata[8]}<br>user_id=%{customdata[9]}<br>metrics=%{customdata[10]}<br>params=%{customdata[11]}<br>tags=%{customdata[12]}<br>mlflow.user=%{customdata[13]}<br>mlflow.source.name=%{customdata[14]}<br>mlflow.source.type=%{customdata[15]}<br>mlflow.project.entryPoint=%{customdata[16]}<br>mlflow.source.git.commit=%{customdata[17]}<br>mlflow.source.git.repoURL=%{customdata[18]}<br>mlflow.gitRepoURL=%{customdata[19]}<br>mlflow.runName=%{customdata[20]}<br>mlflow.project.env=%{customdata[21]}<br>mlflow.project.backend=%{customdata[22]}<br>estimator_name=%{customdata[23]}<br>estimator_class=%{customdata[24]}<br>mlflow.log-model.history=%{customdata[25]}<br>mlflow.autologging=%{customdata[26]}<br>mlflow.parentRunId=%{customdata[27]}<extra></extra>",
         "hovertext": [
          "9923cb99c1824857b68c0bedb63f8446",
          "149bc47563a94ae5bc05bbcb7853c122",
          "422986fde3df4962b0765cdf008a721b"
         ],
         "legendgroup": "Explanations",
         "line": {
          "color": "rgba(255,255,255,0)"
         },
         "marker": {
          "color": "#636efa"
         },
         "name": "Explanations",
         "offsetgroup": "Explanations",
         "orientation": "h",
         "pointpos": 0,
         "showlegend": true,
         "type": "box",
         "x": [
          11.979,
          12.229,
          12.349
         ],
         "x0": " ",
         "xaxis": "x",
         "y0": " ",
         "yaxis": "y"
        },
        {
         "alignmentgroup": "True",
         "boxpoints": "all",
         "customdata": [
          [
           "file:///home/fmind/mlops-python-package/mlruns/300971336194126583/bfce074e34834054b84e5794450a4fa2/artifacts",
           "2024-12-14T14:42:13.733000",
           "300971336194126583",
           "active",
           "bfce074e34834054b84e5794450a4fa2",
           "Evaluations",
           "bfce074e34834054b84e5794450a4fa2",
           "2024-12-14T14:42:07.488000",
           "FINISHED",
           "fmind",
           {
            "example_count": 13903,
            "max_error": 4294967295,
            "mean_absolute_error": 1959503528.083579,
            "mean_absolute_percentage_error": 23650884.88200852,
            "mean_on_target": 174.63914263108683,
            "mean_squared_error": 4.060274760842984,
            "r2_score": 0.9998543247906146,
            "root_mean_squared_error": 2.0150123475658863,
            "sum_on_target": 2428008
           },
           {
            "conf_file": "confs/evaluations.yaml"
           },
           {
            "mlflow.gitRepoURL": "git@github.com:fmind/mlops-python-package",
            "mlflow.project.backend": "local",
            "mlflow.project.entryPoint": "main",
            "mlflow.project.env": "virtualenv",
            "mlflow.runName": "Evaluations",
            "mlflow.source.git.commit": "1a4b8a25a32f0e933a7db9ec47f763cc7bd17d1c",
            "mlflow.source.git.repoURL": "git@github.com:fmind/mlops-python-package",
            "mlflow.source.name": "file:///home/fmind/mlops-python-package",
            "mlflow.source.type": "PROJECT",
            "mlflow.user": "fmind"
           },
           "fmind",
           "file:///home/fmind/mlops-python-package",
           "PROJECT",
           "main",
           "1a4b8a25a32f0e933a7db9ec47f763cc7bd17d1c",
           "git@github.com:fmind/mlops-python-package",
           "git@github.com:fmind/mlops-python-package",
           "Evaluations",
           "virtualenv",
           "local",
           null,
           null,
           null,
           null,
           null
          ],
          [
           "file:///home/fmind/mlops-python-package/mlruns/300971336194126583/534a4ff3a1b04ae3b7c5c5e5295b87a8/artifacts",
           "2024-12-14T14:40:14.595000",
           "300971336194126583",
           "active",
           "534a4ff3a1b04ae3b7c5c5e5295b87a8",
           "Evaluations",
           "534a4ff3a1b04ae3b7c5c5e5295b87a8",
           "2024-12-14T14:40:07.979000",
           "FINISHED",
           "fmind",
           {
            "example_count": 13903,
            "max_error": 4294967295,
            "mean_absolute_error": 1959503528.083579,
            "mean_absolute_percentage_error": 23650884.88200852,
            "mean_on_target": 174.63914263108683,
            "mean_squared_error": 4.060274760842984,
            "r2_score": 0.9998543247906146,
            "root_mean_squared_error": 2.0150123475658863,
            "sum_on_target": 2428008
           },
           {
            "conf_file": "confs/evaluations.yaml"
           },
           {
            "mlflow.gitRepoURL": "git@github.com:fmind/mlops-python-package",
            "mlflow.project.backend": "local",
            "mlflow.project.entryPoint": "main",
            "mlflow.project.env": "virtualenv",
            "mlflow.runName": "Evaluations",
            "mlflow.source.git.commit": "1a4b8a25a32f0e933a7db9ec47f763cc7bd17d1c",
            "mlflow.source.git.repoURL": "git@github.com:fmind/mlops-python-package",
            "mlflow.source.name": "file:///home/fmind/mlops-python-package",
            "mlflow.source.type": "PROJECT",
            "mlflow.user": "fmind"
           },
           "fmind",
           "file:///home/fmind/mlops-python-package",
           "PROJECT",
           "main",
           "1a4b8a25a32f0e933a7db9ec47f763cc7bd17d1c",
           "git@github.com:fmind/mlops-python-package",
           "git@github.com:fmind/mlops-python-package",
           "Evaluations",
           "virtualenv",
           "local",
           null,
           null,
           null,
           null,
           null
          ],
          [
           "file:///home/fmind/mlops-python-package/mlruns/300971336194126583/b486861e5799446c9bc40c37413acf46/artifacts",
           "2024-12-14T14:38:12.143000",
           "300971336194126583",
           "active",
           "b486861e5799446c9bc40c37413acf46",
           "Evaluations",
           "b486861e5799446c9bc40c37413acf46",
           "2024-12-14T14:38:05.805000",
           "FINISHED",
           "fmind",
           {
            "example_count": 13903,
            "max_error": 4294967295,
            "mean_absolute_error": 1959503528.083579,
            "mean_absolute_percentage_error": 23650884.88200852,
            "mean_on_target": 174.63914263108683,
            "mean_squared_error": 4.060274760842984,
            "r2_score": 0.9998543247906146,
            "root_mean_squared_error": 2.0150123475658863,
            "sum_on_target": 2428008
           },
           {
            "conf_file": "confs/evaluations.yaml"
           },
           {
            "mlflow.gitRepoURL": "git@github.com:fmind/mlops-python-package",
            "mlflow.project.backend": "local",
            "mlflow.project.entryPoint": "main",
            "mlflow.project.env": "virtualenv",
            "mlflow.runName": "Evaluations",
            "mlflow.source.git.commit": "1a4b8a25a32f0e933a7db9ec47f763cc7bd17d1c",
            "mlflow.source.git.repoURL": "git@github.com:fmind/mlops-python-package",
            "mlflow.source.name": "file:///home/fmind/mlops-python-package",
            "mlflow.source.type": "PROJECT",
            "mlflow.user": "fmind"
           },
           "fmind",
           "file:///home/fmind/mlops-python-package",
           "PROJECT",
           "main",
           "1a4b8a25a32f0e933a7db9ec47f763cc7bd17d1c",
           "git@github.com:fmind/mlops-python-package",
           "git@github.com:fmind/mlops-python-package",
           "Evaluations",
           "virtualenv",
           "local",
           null,
           null,
           null,
           null,
           null
          ]
         ],
         "fillcolor": "rgba(255,255,255,0)",
         "hoveron": "points",
         "hovertemplate": "<b>%{hovertext}</b><br><br>run_name=%{customdata[5]}<br>run_time_secs=%{x}<br>artifact_uri=%{customdata[0]}<br>end_time=%{customdata[1]}<br>experiment_id=%{customdata[2]}<br>lifecycle_stage=%{customdata[3]}<br>run_id=%{customdata[4]}<br>run_uuid=%{customdata[6]}<br>start_time=%{customdata[7]}<br>status=%{customdata[8]}<br>user_id=%{customdata[9]}<br>metrics=%{customdata[10]}<br>params=%{customdata[11]}<br>tags=%{customdata[12]}<br>mlflow.user=%{customdata[13]}<br>mlflow.source.name=%{customdata[14]}<br>mlflow.source.type=%{customdata[15]}<br>mlflow.project.entryPoint=%{customdata[16]}<br>mlflow.source.git.commit=%{customdata[17]}<br>mlflow.source.git.repoURL=%{customdata[18]}<br>mlflow.gitRepoURL=%{customdata[19]}<br>mlflow.runName=%{customdata[20]}<br>mlflow.project.env=%{customdata[21]}<br>mlflow.project.backend=%{customdata[22]}<br>estimator_name=%{customdata[23]}<br>estimator_class=%{customdata[24]}<br>mlflow.log-model.history=%{customdata[25]}<br>mlflow.autologging=%{customdata[26]}<br>mlflow.parentRunId=%{customdata[27]}<extra></extra>",
         "hovertext": [
          "bfce074e34834054b84e5794450a4fa2",
          "534a4ff3a1b04ae3b7c5c5e5295b87a8",
          "b486861e5799446c9bc40c37413acf46"
         ],
         "legendgroup": "Evaluations",
         "line": {
          "color": "rgba(255,255,255,0)"
         },
         "marker": {
          "color": "#EF553B"
         },
         "name": "Evaluations",
         "offsetgroup": "Evaluations",
         "orientation": "h",
         "pointpos": 0,
         "showlegend": true,
         "type": "box",
         "x": [
          6.245,
          6.616,
          6.338
         ],
         "x0": " ",
         "xaxis": "x",
         "y0": " ",
         "yaxis": "y"
        },
        {
         "alignmentgroup": "True",
         "boxpoints": "all",
         "customdata": [
          [
           "file:///home/fmind/mlops-python-package/mlruns/300971336194126583/5ebe28d67ed54300a177eb61825a6688/artifacts",
           "2024-12-14T14:42:05.031000",
           "300971336194126583",
           "active",
           "5ebe28d67ed54300a177eb61825a6688",
           "Inference",
           "5ebe28d67ed54300a177eb61825a6688",
           "2024-12-14T14:41:59.607000",
           "FINISHED",
           "fmind",
           {},
           {
            "conf_file": "confs/inference.yaml"
           },
           {
            "mlflow.gitRepoURL": "git@github.com:fmind/mlops-python-package",
            "mlflow.project.backend": "local",
            "mlflow.project.entryPoint": "main",
            "mlflow.project.env": "virtualenv",
            "mlflow.runName": "Inference",
            "mlflow.source.git.commit": "1a4b8a25a32f0e933a7db9ec47f763cc7bd17d1c",
            "mlflow.source.git.repoURL": "git@github.com:fmind/mlops-python-package",
            "mlflow.source.name": "file:///home/fmind/mlops-python-package",
            "mlflow.source.type": "PROJECT",
            "mlflow.user": "fmind"
           },
           "fmind",
           "file:///home/fmind/mlops-python-package",
           "PROJECT",
           "main",
           "1a4b8a25a32f0e933a7db9ec47f763cc7bd17d1c",
           "git@github.com:fmind/mlops-python-package",
           "git@github.com:fmind/mlops-python-package",
           "Inference",
           "virtualenv",
           "local",
           null,
           null,
           null,
           null,
           null
          ],
          [
           "file:///home/fmind/mlops-python-package/mlruns/300971336194126583/4a629039b6c84ad3947f7529f9a28e21/artifacts",
           "2024-12-14T14:40:05.598000",
           "300971336194126583",
           "active",
           "4a629039b6c84ad3947f7529f9a28e21",
           "Inference",
           "4a629039b6c84ad3947f7529f9a28e21",
           "2024-12-14T14:40:00.564000",
           "FINISHED",
           "fmind",
           {},
           {
            "conf_file": "confs/inference.yaml"
           },
           {
            "mlflow.gitRepoURL": "git@github.com:fmind/mlops-python-package",
            "mlflow.project.backend": "local",
            "mlflow.project.entryPoint": "main",
            "mlflow.project.env": "virtualenv",
            "mlflow.runName": "Inference",
            "mlflow.source.git.commit": "1a4b8a25a32f0e933a7db9ec47f763cc7bd17d1c",
            "mlflow.source.git.repoURL": "git@github.com:fmind/mlops-python-package",
            "mlflow.source.name": "file:///home/fmind/mlops-python-package",
            "mlflow.source.type": "PROJECT",
            "mlflow.user": "fmind"
           },
           "fmind",
           "file:///home/fmind/mlops-python-package",
           "PROJECT",
           "main",
           "1a4b8a25a32f0e933a7db9ec47f763cc7bd17d1c",
           "git@github.com:fmind/mlops-python-package",
           "git@github.com:fmind/mlops-python-package",
           "Inference",
           "virtualenv",
           "local",
           null,
           null,
           null,
           null,
           null
          ],
          [
           "file:///home/fmind/mlops-python-package/mlruns/300971336194126583/dd848a2a73d6469d860c54c519b4cab4/artifacts",
           "2024-12-14T14:38:03.147000",
           "300971336194126583",
           "active",
           "dd848a2a73d6469d860c54c519b4cab4",
           "Inference",
           "dd848a2a73d6469d860c54c519b4cab4",
           "2024-12-14T14:37:57.371000",
           "FINISHED",
           "fmind",
           {},
           {
            "conf_file": "confs/inference.yaml"
           },
           {
            "mlflow.gitRepoURL": "git@github.com:fmind/mlops-python-package",
            "mlflow.project.backend": "local",
            "mlflow.project.entryPoint": "main",
            "mlflow.project.env": "virtualenv",
            "mlflow.runName": "Inference",
            "mlflow.source.git.commit": "1a4b8a25a32f0e933a7db9ec47f763cc7bd17d1c",
            "mlflow.source.git.repoURL": "git@github.com:fmind/mlops-python-package",
            "mlflow.source.name": "file:///home/fmind/mlops-python-package",
            "mlflow.source.type": "PROJECT",
            "mlflow.user": "fmind"
           },
           "fmind",
           "file:///home/fmind/mlops-python-package",
           "PROJECT",
           "main",
           "1a4b8a25a32f0e933a7db9ec47f763cc7bd17d1c",
           "git@github.com:fmind/mlops-python-package",
           "git@github.com:fmind/mlops-python-package",
           "Inference",
           "virtualenv",
           "local",
           null,
           null,
           null,
           null,
           null
          ]
         ],
         "fillcolor": "rgba(255,255,255,0)",
         "hoveron": "points",
         "hovertemplate": "<b>%{hovertext}</b><br><br>run_name=%{customdata[5]}<br>run_time_secs=%{x}<br>artifact_uri=%{customdata[0]}<br>end_time=%{customdata[1]}<br>experiment_id=%{customdata[2]}<br>lifecycle_stage=%{customdata[3]}<br>run_id=%{customdata[4]}<br>run_uuid=%{customdata[6]}<br>start_time=%{customdata[7]}<br>status=%{customdata[8]}<br>user_id=%{customdata[9]}<br>metrics=%{customdata[10]}<br>params=%{customdata[11]}<br>tags=%{customdata[12]}<br>mlflow.user=%{customdata[13]}<br>mlflow.source.name=%{customdata[14]}<br>mlflow.source.type=%{customdata[15]}<br>mlflow.project.entryPoint=%{customdata[16]}<br>mlflow.source.git.commit=%{customdata[17]}<br>mlflow.source.git.repoURL=%{customdata[18]}<br>mlflow.gitRepoURL=%{customdata[19]}<br>mlflow.runName=%{customdata[20]}<br>mlflow.project.env=%{customdata[21]}<br>mlflow.project.backend=%{customdata[22]}<br>estimator_name=%{customdata[23]}<br>estimator_class=%{customdata[24]}<br>mlflow.log-model.history=%{customdata[25]}<br>mlflow.autologging=%{customdata[26]}<br>mlflow.parentRunId=%{customdata[27]}<extra></extra>",
         "hovertext": [
          "5ebe28d67ed54300a177eb61825a6688",
          "4a629039b6c84ad3947f7529f9a28e21",
          "dd848a2a73d6469d860c54c519b4cab4"
         ],
         "legendgroup": "Inference",
         "line": {
          "color": "rgba(255,255,255,0)"
         },
         "marker": {
          "color": "#00cc96"
         },
         "name": "Inference",
         "offsetgroup": "Inference",
         "orientation": "h",
         "pointpos": 0,
         "showlegend": true,
         "type": "box",
         "x": [
          5.424,
          5.034,
          5.776
         ],
         "x0": " ",
         "xaxis": "x",
         "y0": " ",
         "yaxis": "y"
        },
        {
         "alignmentgroup": "True",
         "boxpoints": "all",
         "customdata": [
          [
           "file:///home/fmind/mlops-python-package/mlruns/300971336194126583/f29b930df5a54f1fa9ec5fe4b27df8b9/artifacts",
           "2024-12-14T14:41:57.245000",
           "300971336194126583",
           "active",
           "f29b930df5a54f1fa9ec5fe4b27df8b9",
           "Promotion",
           "f29b930df5a54f1fa9ec5fe4b27df8b9",
           "2024-12-14T14:41:52.639000",
           "FINISHED",
           "fmind",
           {},
           {
            "conf_file": "confs/promotion.yaml"
           },
           {
            "mlflow.gitRepoURL": "git@github.com:fmind/mlops-python-package",
            "mlflow.project.backend": "local",
            "mlflow.project.entryPoint": "main",
            "mlflow.project.env": "virtualenv",
            "mlflow.runName": "Promotion",
            "mlflow.source.git.commit": "1a4b8a25a32f0e933a7db9ec47f763cc7bd17d1c",
            "mlflow.source.git.repoURL": "git@github.com:fmind/mlops-python-package",
            "mlflow.source.name": "file:///home/fmind/mlops-python-package",
            "mlflow.source.type": "PROJECT",
            "mlflow.user": "fmind"
           },
           "fmind",
           "file:///home/fmind/mlops-python-package",
           "PROJECT",
           "main",
           "1a4b8a25a32f0e933a7db9ec47f763cc7bd17d1c",
           "git@github.com:fmind/mlops-python-package",
           "git@github.com:fmind/mlops-python-package",
           "Promotion",
           "virtualenv",
           "local",
           null,
           null,
           null,
           null,
           null
          ],
          [
           "file:///home/fmind/mlops-python-package/mlruns/300971336194126583/e20be51c8bbb4cfb98ad440209dd2ea6/artifacts",
           "2024-12-14T14:39:58.173000",
           "300971336194126583",
           "active",
           "e20be51c8bbb4cfb98ad440209dd2ea6",
           "Promotion",
           "e20be51c8bbb4cfb98ad440209dd2ea6",
           "2024-12-14T14:39:53.123000",
           "FINISHED",
           "fmind",
           {},
           {
            "conf_file": "confs/promotion.yaml"
           },
           {
            "mlflow.gitRepoURL": "git@github.com:fmind/mlops-python-package",
            "mlflow.project.backend": "local",
            "mlflow.project.entryPoint": "main",
            "mlflow.project.env": "virtualenv",
            "mlflow.runName": "Promotion",
            "mlflow.source.git.commit": "1a4b8a25a32f0e933a7db9ec47f763cc7bd17d1c",
            "mlflow.source.git.repoURL": "git@github.com:fmind/mlops-python-package",
            "mlflow.source.name": "file:///home/fmind/mlops-python-package",
            "mlflow.source.type": "PROJECT",
            "mlflow.user": "fmind"
           },
           "fmind",
           "file:///home/fmind/mlops-python-package",
           "PROJECT",
           "main",
           "1a4b8a25a32f0e933a7db9ec47f763cc7bd17d1c",
           "git@github.com:fmind/mlops-python-package",
           "git@github.com:fmind/mlops-python-package",
           "Promotion",
           "virtualenv",
           "local",
           null,
           null,
           null,
           null,
           null
          ],
          [
           "file:///home/fmind/mlops-python-package/mlruns/300971336194126583/a9225f3845ab4da6baf77885d9c75dfd/artifacts",
           "2024-12-14T14:37:54.740000",
           "300971336194126583",
           "active",
           "a9225f3845ab4da6baf77885d9c75dfd",
           "Promotion",
           "a9225f3845ab4da6baf77885d9c75dfd",
           "2024-12-14T14:37:49.623000",
           "FINISHED",
           "fmind",
           {},
           {
            "conf_file": "confs/promotion.yaml"
           },
           {
            "mlflow.gitRepoURL": "git@github.com:fmind/mlops-python-package",
            "mlflow.project.backend": "local",
            "mlflow.project.entryPoint": "main",
            "mlflow.project.env": "virtualenv",
            "mlflow.runName": "Promotion",
            "mlflow.source.git.commit": "1a4b8a25a32f0e933a7db9ec47f763cc7bd17d1c",
            "mlflow.source.git.repoURL": "git@github.com:fmind/mlops-python-package",
            "mlflow.source.name": "file:///home/fmind/mlops-python-package",
            "mlflow.source.type": "PROJECT",
            "mlflow.user": "fmind"
           },
           "fmind",
           "file:///home/fmind/mlops-python-package",
           "PROJECT",
           "main",
           "1a4b8a25a32f0e933a7db9ec47f763cc7bd17d1c",
           "git@github.com:fmind/mlops-python-package",
           "git@github.com:fmind/mlops-python-package",
           "Promotion",
           "virtualenv",
           "local",
           null,
           null,
           null,
           null,
           null
          ]
         ],
         "fillcolor": "rgba(255,255,255,0)",
         "hoveron": "points",
         "hovertemplate": "<b>%{hovertext}</b><br><br>run_name=%{customdata[5]}<br>run_time_secs=%{x}<br>artifact_uri=%{customdata[0]}<br>end_time=%{customdata[1]}<br>experiment_id=%{customdata[2]}<br>lifecycle_stage=%{customdata[3]}<br>run_id=%{customdata[4]}<br>run_uuid=%{customdata[6]}<br>start_time=%{customdata[7]}<br>status=%{customdata[8]}<br>user_id=%{customdata[9]}<br>metrics=%{customdata[10]}<br>params=%{customdata[11]}<br>tags=%{customdata[12]}<br>mlflow.user=%{customdata[13]}<br>mlflow.source.name=%{customdata[14]}<br>mlflow.source.type=%{customdata[15]}<br>mlflow.project.entryPoint=%{customdata[16]}<br>mlflow.source.git.commit=%{customdata[17]}<br>mlflow.source.git.repoURL=%{customdata[18]}<br>mlflow.gitRepoURL=%{customdata[19]}<br>mlflow.runName=%{customdata[20]}<br>mlflow.project.env=%{customdata[21]}<br>mlflow.project.backend=%{customdata[22]}<br>estimator_name=%{customdata[23]}<br>estimator_class=%{customdata[24]}<br>mlflow.log-model.history=%{customdata[25]}<br>mlflow.autologging=%{customdata[26]}<br>mlflow.parentRunId=%{customdata[27]}<extra></extra>",
         "hovertext": [
          "f29b930df5a54f1fa9ec5fe4b27df8b9",
          "e20be51c8bbb4cfb98ad440209dd2ea6",
          "a9225f3845ab4da6baf77885d9c75dfd"
         ],
         "legendgroup": "Promotion",
         "line": {
          "color": "rgba(255,255,255,0)"
         },
         "marker": {
          "color": "#ab63fa"
         },
         "name": "Promotion",
         "offsetgroup": "Promotion",
         "orientation": "h",
         "pointpos": 0,
         "showlegend": true,
         "type": "box",
         "x": [
          4.606,
          5.05,
          5.117
         ],
         "x0": " ",
         "xaxis": "x",
         "y0": " ",
         "yaxis": "y"
        },
        {
         "alignmentgroup": "True",
         "boxpoints": "all",
         "customdata": [
          [
           "file:///home/fmind/mlops-python-package/mlruns/300971336194126583/4753bf6b106845d19eca79b7cb329343/artifacts",
           "2024-12-14T14:41:49.910000",
           "300971336194126583",
           "active",
           "4753bf6b106845d19eca79b7cb329343",
           "Training",
           "4753bf6b106845d19eca79b7cb329343",
           "2024-12-14T14:41:23.914000",
           "FINISHED",
           "fmind",
           {
            "mean_squared_error": -24.55763888888889,
            "system/cpu_utilization_percentage": 14.3,
            "system/disk_available_megabytes": 7454.1,
            "system/disk_usage_megabytes": 108457.2,
            "system/disk_usage_percentage": 93.6,
            "system/network_receive_megabytes": 0,
            "system/network_transmit_megabytes": 0,
            "system/system_memory_usage_megabytes": 4700.3,
            "system/system_memory_usage_percentage": 31.2,
            "training_mean_absolute_error": 0.3561289343195786,
            "training_mean_squared_error": 1.2806655854526316,
            "training_r2_score": 0.9999473906118655,
            "training_root_mean_squared_error": 1.1316649616616359,
            "training_score": 0.9999473906118655
           },
           {
            "conf_file": "confs/training.yaml",
            "memory": "None",
            "regressor": "RandomForestRegressor(max_depth=20, n_estimators=200, random_state=42)",
            "regressor__bootstrap": "True",
            "regressor__ccp_alpha": "0.0",
            "regressor__criterion": "squared_error",
            "regressor__max_depth": "20",
            "regressor__max_features": "1.0",
            "regressor__max_leaf_nodes": "None",
            "regressor__max_samples": "None",
            "regressor__min_impurity_decrease": "0.0",
            "regressor__min_samples_leaf": "1",
            "regressor__min_samples_split": "2",
            "regressor__min_weight_fraction_leaf": "0.0",
            "regressor__monotonic_cst": "None",
            "regressor__n_estimators": "200",
            "regressor__n_jobs": "None",
            "regressor__oob_score": "False",
            "regressor__random_state": "42",
            "regressor__verbose": "0",
            "regressor__warm_start": "False",
            "steps": "[('transformer', ColumnTransformer(transformers=[('categoricals',\n                                 OneHotEncoder(handle_unknown='ignore',\n                                               sparse_output=False),\n                                 ['season', 'weathersit']),\n                                ('numericals', 'passthrough',\n                                 ['yr', 'mnth', 'hr', 'holiday', 'weekday',\n                                  'workingday', 'temp', 'atemp', 'hum',\n                                  'windspeed', 'casual', 'registered'])])), ('regressor', RandomForestRegressor(max_depth=20, n_estimators=200, random_state=42))]",
            "transformer": "ColumnTransformer(transformers=[('categoricals',\n                                 OneHotEncoder(handle_unknown='ignore',\n                                               sparse_output=False),\n                                 ['season', 'weathersit']),\n                                ('numericals', 'passthrough',\n                                 ['yr', 'mnth', 'hr', 'holiday', 'weekday',\n                                  'workingday', 'temp', 'atemp', 'hum',\n                                  'windspeed', 'casual', 'registered'])])",
            "transformer__categoricals": "OneHotEncoder(handle_unknown='ignore', sparse_output=False)",
            "transformer__categoricals__categories": "auto",
            "transformer__categoricals__drop": "None",
            "transformer__categoricals__dtype": "<class 'numpy.float64'>",
            "transformer__categoricals__feature_name_combiner": "concat",
            "transformer__categoricals__handle_unknown": "ignore",
            "transformer__categoricals__max_categories": "None",
            "transformer__categoricals__min_frequency": "None",
            "transformer__categoricals__sparse_output": "False",
            "transformer__force_int_remainder_cols": "True",
            "transformer__n_jobs": "None",
            "transformer__numericals": "passthrough",
            "transformer__remainder": "drop",
            "transformer__sparse_threshold": "0.3",
            "transformer__transformer_weights": "None",
            "transformer__transformers": "[('categoricals', OneHotEncoder(handle_unknown='ignore', sparse_output=False), ['season', 'weathersit']), ('numericals', 'passthrough', ['yr', 'mnth', 'hr', 'holiday', 'weekday', 'workingday', 'temp', 'atemp', 'hum', 'windspeed', 'casual', 'registered'])]",
            "transformer__verbose": "False",
            "transformer__verbose_feature_names_out": "True",
            "verbose": "False"
           },
           {
            "estimator_class": "sklearn.pipeline.Pipeline",
            "estimator_name": "Pipeline",
            "mlflow.gitRepoURL": "git@github.com:fmind/mlops-python-package",
            "mlflow.log-model.history": "[{\"run_id\": \"4753bf6b106845d19eca79b7cb329343\", \"artifact_path\": \"model\", \"utc_time_created\": \"2024-12-14 14:41:38.398638\", \"model_uuid\": \"77e276c4bf79429ca932062f2825649b\", \"flavors\": {\"python_function\": {\"model_path\": \"model.pkl\", \"predict_fn\": \"predict\", \"loader_module\": \"mlflow.sklearn\", \"python_version\": \"3.12.7\", \"env\": {\"conda\": \"conda.yaml\", \"virtualenv\": \"python_env.yaml\"}}, \"sklearn\": {\"pickled_model\": \"model.pkl\", \"sklearn_version\": \"1.5.2\", \"serialization_format\": \"cloudpickle\", \"code\": null}}}, {\"run_id\": \"4753bf6b106845d19eca79b7cb329343\", \"artifact_path\": \"model\", \"utc_time_created\": \"2024-12-14 14:41:42.667182\", \"model_uuid\": \"50dd5f99ebb944c7a02879fd4dc8d43c\", \"flavors\": {\"python_function\": {\"streamable\": false, \"cloudpickle_version\": \"3.1.0\", \"python_model\": \"python_model.pkl\", \"loader_module\": \"mlflow.pyfunc.model\", \"python_version\": \"3.12.7\", \"env\": {\"conda\": \"conda.yaml\", \"virtualenv\": \"python_env.yaml\"}, \"code\": null}}}]",
            "mlflow.project.backend": "local",
            "mlflow.project.entryPoint": "main",
            "mlflow.project.env": "virtualenv",
            "mlflow.runName": "Training",
            "mlflow.source.git.commit": "1a4b8a25a32f0e933a7db9ec47f763cc7bd17d1c",
            "mlflow.source.git.repoURL": "git@github.com:fmind/mlops-python-package",
            "mlflow.source.name": "file:///home/fmind/mlops-python-package",
            "mlflow.source.type": "PROJECT",
            "mlflow.user": "fmind"
           },
           "fmind",
           "file:///home/fmind/mlops-python-package",
           "PROJECT",
           "main",
           "1a4b8a25a32f0e933a7db9ec47f763cc7bd17d1c",
           "git@github.com:fmind/mlops-python-package",
           "git@github.com:fmind/mlops-python-package",
           "Training",
           "virtualenv",
           "local",
           "Pipeline",
           "sklearn.pipeline.Pipeline",
           "[{\"run_id\": \"4753bf6b106845d19eca79b7cb329343\", \"artifact_path\": \"model\", \"utc_time_created\": \"2024-12-14 14:41:38.398638\", \"model_uuid\": \"77e276c4bf79429ca932062f2825649b\", \"flavors\": {\"python_function\": {\"model_path\": \"model.pkl\", \"predict_fn\": \"predict\", \"loader_module\": \"mlflow.sklearn\", \"python_version\": \"3.12.7\", \"env\": {\"conda\": \"conda.yaml\", \"virtualenv\": \"python_env.yaml\"}}, \"sklearn\": {\"pickled_model\": \"model.pkl\", \"sklearn_version\": \"1.5.2\", \"serialization_format\": \"cloudpickle\", \"code\": null}}}, {\"run_id\": \"4753bf6b106845d19eca79b7cb329343\", \"artifact_path\": \"model\", \"utc_time_created\": \"2024-12-14 14:41:42.667182\", \"model_uuid\": \"50dd5f99ebb944c7a02879fd4dc8d43c\", \"flavors\": {\"python_function\": {\"streamable\": false, \"cloudpickle_version\": \"3.1.0\", \"python_model\": \"python_model.pkl\", \"loader_module\": \"mlflow.pyfunc.model\", \"python_version\": \"3.12.7\", \"env\": {\"conda\": \"conda.yaml\", \"virtualenv\": \"python_env.yaml\"}, \"code\": null}}}]",
           null,
           null
          ],
          [
           "file:///home/fmind/mlops-python-package/mlruns/300971336194126583/ae9f673f6b264240bb79ffd94ca49fe2/artifacts",
           "2024-12-14T14:39:50.546000",
           "300971336194126583",
           "active",
           "ae9f673f6b264240bb79ffd94ca49fe2",
           "Training",
           "ae9f673f6b264240bb79ffd94ca49fe2",
           "2024-12-14T14:39:24.560000",
           "FINISHED",
           "fmind",
           {
            "mean_squared_error": -24.55763888888889,
            "system/cpu_utilization_percentage": 14.8,
            "system/disk_available_megabytes": 7735.1,
            "system/disk_usage_megabytes": 108174.9,
            "system/disk_usage_percentage": 93.3,
            "system/network_receive_megabytes": 0.006746999999904801,
            "system/network_transmit_megabytes": 0.006637000000068838,
            "system/system_memory_usage_megabytes": 4542,
            "system/system_memory_usage_percentage": 30.1,
            "training_mean_absolute_error": 0.3561289343195786,
            "training_mean_squared_error": 1.2806655854526316,
            "training_r2_score": 0.9999473906118655,
            "training_root_mean_squared_error": 1.1316649616616359,
            "training_score": 0.9999473906118655
           },
           {
            "conf_file": "confs/training.yaml",
            "memory": "None",
            "regressor": "RandomForestRegressor(max_depth=20, n_estimators=200, random_state=42)",
            "regressor__bootstrap": "True",
            "regressor__ccp_alpha": "0.0",
            "regressor__criterion": "squared_error",
            "regressor__max_depth": "20",
            "regressor__max_features": "1.0",
            "regressor__max_leaf_nodes": "None",
            "regressor__max_samples": "None",
            "regressor__min_impurity_decrease": "0.0",
            "regressor__min_samples_leaf": "1",
            "regressor__min_samples_split": "2",
            "regressor__min_weight_fraction_leaf": "0.0",
            "regressor__monotonic_cst": "None",
            "regressor__n_estimators": "200",
            "regressor__n_jobs": "None",
            "regressor__oob_score": "False",
            "regressor__random_state": "42",
            "regressor__verbose": "0",
            "regressor__warm_start": "False",
            "steps": "[('transformer', ColumnTransformer(transformers=[('categoricals',\n                                 OneHotEncoder(handle_unknown='ignore',\n                                               sparse_output=False),\n                                 ['season', 'weathersit']),\n                                ('numericals', 'passthrough',\n                                 ['yr', 'mnth', 'hr', 'holiday', 'weekday',\n                                  'workingday', 'temp', 'atemp', 'hum',\n                                  'windspeed', 'casual', 'registered'])])), ('regressor', RandomForestRegressor(max_depth=20, n_estimators=200, random_state=42))]",
            "transformer": "ColumnTransformer(transformers=[('categoricals',\n                                 OneHotEncoder(handle_unknown='ignore',\n                                               sparse_output=False),\n                                 ['season', 'weathersit']),\n                                ('numericals', 'passthrough',\n                                 ['yr', 'mnth', 'hr', 'holiday', 'weekday',\n                                  'workingday', 'temp', 'atemp', 'hum',\n                                  'windspeed', 'casual', 'registered'])])",
            "transformer__categoricals": "OneHotEncoder(handle_unknown='ignore', sparse_output=False)",
            "transformer__categoricals__categories": "auto",
            "transformer__categoricals__drop": "None",
            "transformer__categoricals__dtype": "<class 'numpy.float64'>",
            "transformer__categoricals__feature_name_combiner": "concat",
            "transformer__categoricals__handle_unknown": "ignore",
            "transformer__categoricals__max_categories": "None",
            "transformer__categoricals__min_frequency": "None",
            "transformer__categoricals__sparse_output": "False",
            "transformer__force_int_remainder_cols": "True",
            "transformer__n_jobs": "None",
            "transformer__numericals": "passthrough",
            "transformer__remainder": "drop",
            "transformer__sparse_threshold": "0.3",
            "transformer__transformer_weights": "None",
            "transformer__transformers": "[('categoricals', OneHotEncoder(handle_unknown='ignore', sparse_output=False), ['season', 'weathersit']), ('numericals', 'passthrough', ['yr', 'mnth', 'hr', 'holiday', 'weekday', 'workingday', 'temp', 'atemp', 'hum', 'windspeed', 'casual', 'registered'])]",
            "transformer__verbose": "False",
            "transformer__verbose_feature_names_out": "True",
            "verbose": "False"
           },
           {
            "estimator_class": "sklearn.pipeline.Pipeline",
            "estimator_name": "Pipeline",
            "mlflow.gitRepoURL": "git@github.com:fmind/mlops-python-package",
            "mlflow.log-model.history": "[{\"run_id\": \"ae9f673f6b264240bb79ffd94ca49fe2\", \"artifact_path\": \"model\", \"utc_time_created\": \"2024-12-14 14:39:38.524131\", \"model_uuid\": \"18f54df2a682488593dd0412c7be229e\", \"flavors\": {\"python_function\": {\"model_path\": \"model.pkl\", \"predict_fn\": \"predict\", \"loader_module\": \"mlflow.sklearn\", \"python_version\": \"3.12.7\", \"env\": {\"conda\": \"conda.yaml\", \"virtualenv\": \"python_env.yaml\"}}, \"sklearn\": {\"pickled_model\": \"model.pkl\", \"sklearn_version\": \"1.5.2\", \"serialization_format\": \"cloudpickle\", \"code\": null}}}, {\"run_id\": \"ae9f673f6b264240bb79ffd94ca49fe2\", \"artifact_path\": \"model\", \"utc_time_created\": \"2024-12-14 14:39:42.939094\", \"model_uuid\": \"4cc5e6d8a7d841059b37797a371ea10d\", \"flavors\": {\"python_function\": {\"streamable\": false, \"cloudpickle_version\": \"3.1.0\", \"python_model\": \"python_model.pkl\", \"loader_module\": \"mlflow.pyfunc.model\", \"python_version\": \"3.12.7\", \"env\": {\"conda\": \"conda.yaml\", \"virtualenv\": \"python_env.yaml\"}, \"code\": null}}}]",
            "mlflow.project.backend": "local",
            "mlflow.project.entryPoint": "main",
            "mlflow.project.env": "virtualenv",
            "mlflow.runName": "Training",
            "mlflow.source.git.commit": "1a4b8a25a32f0e933a7db9ec47f763cc7bd17d1c",
            "mlflow.source.git.repoURL": "git@github.com:fmind/mlops-python-package",
            "mlflow.source.name": "file:///home/fmind/mlops-python-package",
            "mlflow.source.type": "PROJECT",
            "mlflow.user": "fmind"
           },
           "fmind",
           "file:///home/fmind/mlops-python-package",
           "PROJECT",
           "main",
           "1a4b8a25a32f0e933a7db9ec47f763cc7bd17d1c",
           "git@github.com:fmind/mlops-python-package",
           "git@github.com:fmind/mlops-python-package",
           "Training",
           "virtualenv",
           "local",
           "Pipeline",
           "sklearn.pipeline.Pipeline",
           "[{\"run_id\": \"ae9f673f6b264240bb79ffd94ca49fe2\", \"artifact_path\": \"model\", \"utc_time_created\": \"2024-12-14 14:39:38.524131\", \"model_uuid\": \"18f54df2a682488593dd0412c7be229e\", \"flavors\": {\"python_function\": {\"model_path\": \"model.pkl\", \"predict_fn\": \"predict\", \"loader_module\": \"mlflow.sklearn\", \"python_version\": \"3.12.7\", \"env\": {\"conda\": \"conda.yaml\", \"virtualenv\": \"python_env.yaml\"}}, \"sklearn\": {\"pickled_model\": \"model.pkl\", \"sklearn_version\": \"1.5.2\", \"serialization_format\": \"cloudpickle\", \"code\": null}}}, {\"run_id\": \"ae9f673f6b264240bb79ffd94ca49fe2\", \"artifact_path\": \"model\", \"utc_time_created\": \"2024-12-14 14:39:42.939094\", \"model_uuid\": \"4cc5e6d8a7d841059b37797a371ea10d\", \"flavors\": {\"python_function\": {\"streamable\": false, \"cloudpickle_version\": \"3.1.0\", \"python_model\": \"python_model.pkl\", \"loader_module\": \"mlflow.pyfunc.model\", \"python_version\": \"3.12.7\", \"env\": {\"conda\": \"conda.yaml\", \"virtualenv\": \"python_env.yaml\"}, \"code\": null}}}]",
           null,
           null
          ],
          [
           "file:///home/fmind/mlops-python-package/mlruns/300971336194126583/d2aed973c12b475f849743599f7bc973/artifacts",
           "2024-12-14T14:37:46.512000",
           "300971336194126583",
           "active",
           "d2aed973c12b475f849743599f7bc973",
           "Training",
           "d2aed973c12b475f849743599f7bc973",
           "2024-12-14T14:37:18.470000",
           "FINISHED",
           "fmind",
           {
            "mean_squared_error": -24.55763888888889,
            "system/cpu_utilization_percentage": 20.8,
            "system/disk_available_megabytes": 8002.4,
            "system/disk_usage_megabytes": 107906.7,
            "system/disk_usage_percentage": 93.1,
            "system/network_receive_megabytes": 0.006799000000000888,
            "system/network_transmit_megabytes": 0.004778000000101201,
            "system/system_memory_usage_megabytes": 4375.5,
            "system/system_memory_usage_percentage": 29,
            "training_mean_absolute_error": 0.3561289343195786,
            "training_mean_squared_error": 1.2806655854526316,
            "training_r2_score": 0.9999473906118655,
            "training_root_mean_squared_error": 1.1316649616616359,
            "training_score": 0.9999473906118655
           },
           {
            "conf_file": "confs/training.yaml",
            "memory": "None",
            "regressor": "RandomForestRegressor(max_depth=20, n_estimators=200, random_state=42)",
            "regressor__bootstrap": "True",
            "regressor__ccp_alpha": "0.0",
            "regressor__criterion": "squared_error",
            "regressor__max_depth": "20",
            "regressor__max_features": "1.0",
            "regressor__max_leaf_nodes": "None",
            "regressor__max_samples": "None",
            "regressor__min_impurity_decrease": "0.0",
            "regressor__min_samples_leaf": "1",
            "regressor__min_samples_split": "2",
            "regressor__min_weight_fraction_leaf": "0.0",
            "regressor__monotonic_cst": "None",
            "regressor__n_estimators": "200",
            "regressor__n_jobs": "None",
            "regressor__oob_score": "False",
            "regressor__random_state": "42",
            "regressor__verbose": "0",
            "regressor__warm_start": "False",
            "steps": "[('transformer', ColumnTransformer(transformers=[('categoricals',\n                                 OneHotEncoder(handle_unknown='ignore',\n                                               sparse_output=False),\n                                 ['season', 'weathersit']),\n                                ('numericals', 'passthrough',\n                                 ['yr', 'mnth', 'hr', 'holiday', 'weekday',\n                                  'workingday', 'temp', 'atemp', 'hum',\n                                  'windspeed', 'casual', 'registered'])])), ('regressor', RandomForestRegressor(max_depth=20, n_estimators=200, random_state=42))]",
            "transformer": "ColumnTransformer(transformers=[('categoricals',\n                                 OneHotEncoder(handle_unknown='ignore',\n                                               sparse_output=False),\n                                 ['season', 'weathersit']),\n                                ('numericals', 'passthrough',\n                                 ['yr', 'mnth', 'hr', 'holiday', 'weekday',\n                                  'workingday', 'temp', 'atemp', 'hum',\n                                  'windspeed', 'casual', 'registered'])])",
            "transformer__categoricals": "OneHotEncoder(handle_unknown='ignore', sparse_output=False)",
            "transformer__categoricals__categories": "auto",
            "transformer__categoricals__drop": "None",
            "transformer__categoricals__dtype": "<class 'numpy.float64'>",
            "transformer__categoricals__feature_name_combiner": "concat",
            "transformer__categoricals__handle_unknown": "ignore",
            "transformer__categoricals__max_categories": "None",
            "transformer__categoricals__min_frequency": "None",
            "transformer__categoricals__sparse_output": "False",
            "transformer__force_int_remainder_cols": "True",
            "transformer__n_jobs": "None",
            "transformer__numericals": "passthrough",
            "transformer__remainder": "drop",
            "transformer__sparse_threshold": "0.3",
            "transformer__transformer_weights": "None",
            "transformer__transformers": "[('categoricals', OneHotEncoder(handle_unknown='ignore', sparse_output=False), ['season', 'weathersit']), ('numericals', 'passthrough', ['yr', 'mnth', 'hr', 'holiday', 'weekday', 'workingday', 'temp', 'atemp', 'hum', 'windspeed', 'casual', 'registered'])]",
            "transformer__verbose": "False",
            "transformer__verbose_feature_names_out": "True",
            "verbose": "False"
           },
           {
            "estimator_class": "sklearn.pipeline.Pipeline",
            "estimator_name": "Pipeline",
            "mlflow.gitRepoURL": "git@github.com:fmind/mlops-python-package",
            "mlflow.log-model.history": "[{\"run_id\": \"d2aed973c12b475f849743599f7bc973\", \"artifact_path\": \"model\", \"utc_time_created\": \"2024-12-14 14:37:33.468367\", \"model_uuid\": \"e6f77661d7214385a83cc9a45c689a0a\", \"flavors\": {\"python_function\": {\"model_path\": \"model.pkl\", \"predict_fn\": \"predict\", \"loader_module\": \"mlflow.sklearn\", \"python_version\": \"3.12.7\", \"env\": {\"conda\": \"conda.yaml\", \"virtualenv\": \"python_env.yaml\"}}, \"sklearn\": {\"pickled_model\": \"model.pkl\", \"sklearn_version\": \"1.5.2\", \"serialization_format\": \"cloudpickle\", \"code\": null}}}, {\"run_id\": \"d2aed973c12b475f849743599f7bc973\", \"artifact_path\": \"model\", \"utc_time_created\": \"2024-12-14 14:37:38.175626\", \"model_uuid\": \"4b143c2fc8234dac9c98bbdfb03aaa1a\", \"flavors\": {\"python_function\": {\"streamable\": false, \"cloudpickle_version\": \"3.1.0\", \"python_model\": \"python_model.pkl\", \"loader_module\": \"mlflow.pyfunc.model\", \"python_version\": \"3.12.7\", \"env\": {\"conda\": \"conda.yaml\", \"virtualenv\": \"python_env.yaml\"}, \"code\": null}}}]",
            "mlflow.project.backend": "local",
            "mlflow.project.entryPoint": "main",
            "mlflow.project.env": "virtualenv",
            "mlflow.runName": "Training",
            "mlflow.source.git.commit": "1a4b8a25a32f0e933a7db9ec47f763cc7bd17d1c",
            "mlflow.source.git.repoURL": "git@github.com:fmind/mlops-python-package",
            "mlflow.source.name": "file:///home/fmind/mlops-python-package",
            "mlflow.source.type": "PROJECT",
            "mlflow.user": "fmind"
           },
           "fmind",
           "file:///home/fmind/mlops-python-package",
           "PROJECT",
           "main",
           "1a4b8a25a32f0e933a7db9ec47f763cc7bd17d1c",
           "git@github.com:fmind/mlops-python-package",
           "git@github.com:fmind/mlops-python-package",
           "Training",
           "virtualenv",
           "local",
           "Pipeline",
           "sklearn.pipeline.Pipeline",
           "[{\"run_id\": \"d2aed973c12b475f849743599f7bc973\", \"artifact_path\": \"model\", \"utc_time_created\": \"2024-12-14 14:37:33.468367\", \"model_uuid\": \"e6f77661d7214385a83cc9a45c689a0a\", \"flavors\": {\"python_function\": {\"model_path\": \"model.pkl\", \"predict_fn\": \"predict\", \"loader_module\": \"mlflow.sklearn\", \"python_version\": \"3.12.7\", \"env\": {\"conda\": \"conda.yaml\", \"virtualenv\": \"python_env.yaml\"}}, \"sklearn\": {\"pickled_model\": \"model.pkl\", \"sklearn_version\": \"1.5.2\", \"serialization_format\": \"cloudpickle\", \"code\": null}}}, {\"run_id\": \"d2aed973c12b475f849743599f7bc973\", \"artifact_path\": \"model\", \"utc_time_created\": \"2024-12-14 14:37:38.175626\", \"model_uuid\": \"4b143c2fc8234dac9c98bbdfb03aaa1a\", \"flavors\": {\"python_function\": {\"streamable\": false, \"cloudpickle_version\": \"3.1.0\", \"python_model\": \"python_model.pkl\", \"loader_module\": \"mlflow.pyfunc.model\", \"python_version\": \"3.12.7\", \"env\": {\"conda\": \"conda.yaml\", \"virtualenv\": \"python_env.yaml\"}, \"code\": null}}}]",
           null,
           null
          ]
         ],
         "fillcolor": "rgba(255,255,255,0)",
         "hoveron": "points",
         "hovertemplate": "<b>%{hovertext}</b><br><br>run_name=%{customdata[5]}<br>run_time_secs=%{x}<br>artifact_uri=%{customdata[0]}<br>end_time=%{customdata[1]}<br>experiment_id=%{customdata[2]}<br>lifecycle_stage=%{customdata[3]}<br>run_id=%{customdata[4]}<br>run_uuid=%{customdata[6]}<br>start_time=%{customdata[7]}<br>status=%{customdata[8]}<br>user_id=%{customdata[9]}<br>metrics=%{customdata[10]}<br>params=%{customdata[11]}<br>tags=%{customdata[12]}<br>mlflow.user=%{customdata[13]}<br>mlflow.source.name=%{customdata[14]}<br>mlflow.source.type=%{customdata[15]}<br>mlflow.project.entryPoint=%{customdata[16]}<br>mlflow.source.git.commit=%{customdata[17]}<br>mlflow.source.git.repoURL=%{customdata[18]}<br>mlflow.gitRepoURL=%{customdata[19]}<br>mlflow.runName=%{customdata[20]}<br>mlflow.project.env=%{customdata[21]}<br>mlflow.project.backend=%{customdata[22]}<br>estimator_name=%{customdata[23]}<br>estimator_class=%{customdata[24]}<br>mlflow.log-model.history=%{customdata[25]}<br>mlflow.autologging=%{customdata[26]}<br>mlflow.parentRunId=%{customdata[27]}<extra></extra>",
         "hovertext": [
          "4753bf6b106845d19eca79b7cb329343",
          "ae9f673f6b264240bb79ffd94ca49fe2",
          "d2aed973c12b475f849743599f7bc973"
         ],
         "legendgroup": "Training",
         "line": {
          "color": "rgba(255,255,255,0)"
         },
         "marker": {
          "color": "#FFA15A"
         },
         "name": "Training",
         "offsetgroup": "Training",
         "orientation": "h",
         "pointpos": 0,
         "showlegend": true,
         "type": "box",
         "x": [
          25.996,
          25.986,
          28.042
         ],
         "x0": " ",
         "xaxis": "x",
         "y0": " ",
         "yaxis": "y"
        },
        {
         "alignmentgroup": "True",
         "boxpoints": "all",
         "customdata": [
          [
           "file:///home/fmind/mlops-python-package/mlruns/300971336194126583/066cf65cd3214378a7675e2536c6eb60/artifacts",
           "2024-12-14T14:41:20.607000",
           "300971336194126583",
           "active",
           "066cf65cd3214378a7675e2536c6eb60",
           "wise-hound-335",
           "066cf65cd3214378a7675e2536c6eb60",
           "2024-12-14T14:40:34.416000",
           "FINISHED",
           "fmind",
           {
            "mean_fit_time": 2.2717891335487366,
            "mean_score_time": 0.04655104875564575,
            "mean_test_score": -711.7982638888889,
            "rank_test_score": 2,
            "std_fit_time": 0.2744423843818404,
            "std_score_time": 0.0008752424197515631,
            "std_test_score": 506.2583283876414
           },
           {
            "max_depth": "5",
            "n_estimators": "200",
            "random_state": "42"
           },
           {
            "estimator_class": "bikes.core.models.BaselineSklearnModel",
            "estimator_name": "BaselineSklearnModel",
            "mlflow.autologging": "sklearn",
            "mlflow.parentRunId": "6f68ed7fee59407f83bff115536fdfc0",
            "mlflow.runName": "wise-hound-335",
            "mlflow.source.git.commit": "1a4b8a25a32f0e933a7db9ec47f763cc7bd17d1c",
            "mlflow.source.name": "/home/fmind/mlops-python-package/src/bikes/__main__.py",
            "mlflow.source.type": "LOCAL",
            "mlflow.user": "fmind"
           },
           "fmind",
           "/home/fmind/mlops-python-package/src/bikes/__main__.py",
           "LOCAL",
           null,
           "1a4b8a25a32f0e933a7db9ec47f763cc7bd17d1c",
           null,
           null,
           "wise-hound-335",
           null,
           null,
           "BaselineSklearnModel",
           "bikes.core.models.BaselineSklearnModel",
           null,
           "sklearn",
           "6f68ed7fee59407f83bff115536fdfc0"
          ]
         ],
         "fillcolor": "rgba(255,255,255,0)",
         "hoveron": "points",
         "hovertemplate": "<b>%{hovertext}</b><br><br>run_name=%{customdata[5]}<br>run_time_secs=%{x}<br>artifact_uri=%{customdata[0]}<br>end_time=%{customdata[1]}<br>experiment_id=%{customdata[2]}<br>lifecycle_stage=%{customdata[3]}<br>run_id=%{customdata[4]}<br>run_uuid=%{customdata[6]}<br>start_time=%{customdata[7]}<br>status=%{customdata[8]}<br>user_id=%{customdata[9]}<br>metrics=%{customdata[10]}<br>params=%{customdata[11]}<br>tags=%{customdata[12]}<br>mlflow.user=%{customdata[13]}<br>mlflow.source.name=%{customdata[14]}<br>mlflow.source.type=%{customdata[15]}<br>mlflow.project.entryPoint=%{customdata[16]}<br>mlflow.source.git.commit=%{customdata[17]}<br>mlflow.source.git.repoURL=%{customdata[18]}<br>mlflow.gitRepoURL=%{customdata[19]}<br>mlflow.runName=%{customdata[20]}<br>mlflow.project.env=%{customdata[21]}<br>mlflow.project.backend=%{customdata[22]}<br>estimator_name=%{customdata[23]}<br>estimator_class=%{customdata[24]}<br>mlflow.log-model.history=%{customdata[25]}<br>mlflow.autologging=%{customdata[26]}<br>mlflow.parentRunId=%{customdata[27]}<extra></extra>",
         "hovertext": [
          "066cf65cd3214378a7675e2536c6eb60"
         ],
         "legendgroup": "wise-hound-335",
         "line": {
          "color": "rgba(255,255,255,0)"
         },
         "marker": {
          "color": "#19d3f3"
         },
         "name": "wise-hound-335",
         "offsetgroup": "wise-hound-335",
         "orientation": "h",
         "pointpos": 0,
         "showlegend": true,
         "type": "box",
         "x": [
          46.191
         ],
         "x0": " ",
         "xaxis": "x",
         "y0": " ",
         "yaxis": "y"
        },
        {
         "alignmentgroup": "True",
         "boxpoints": "all",
         "customdata": [
          [
           "file:///home/fmind/mlops-python-package/mlruns/300971336194126583/0cdfaf5a0e7b44ea88d7297746e6af1f/artifacts",
           "2024-12-14T14:41:20.607000",
           "300971336194126583",
           "active",
           "0cdfaf5a0e7b44ea88d7297746e6af1f",
           "auspicious-fly-358",
           "0cdfaf5a0e7b44ea88d7297746e6af1f",
           "2024-12-14T14:40:34.416000",
           "FINISHED",
           "fmind",
           {
            "mean_fit_time": 3.0942174792289734,
            "mean_score_time": 0.054158151149749756,
            "mean_test_score": -319.5045138888889,
            "rank_test_score": 1,
            "std_fit_time": 0.41821529328335627,
            "std_score_time": 0.0011713553122119475,
            "std_test_score": 350.4638291591938
           },
           {
            "max_depth": "7",
            "n_estimators": "200",
            "random_state": "42"
           },
           {
            "estimator_class": "bikes.core.models.BaselineSklearnModel",
            "estimator_name": "BaselineSklearnModel",
            "mlflow.autologging": "sklearn",
            "mlflow.parentRunId": "6f68ed7fee59407f83bff115536fdfc0",
            "mlflow.runName": "auspicious-fly-358",
            "mlflow.source.git.commit": "1a4b8a25a32f0e933a7db9ec47f763cc7bd17d1c",
            "mlflow.source.name": "/home/fmind/mlops-python-package/src/bikes/__main__.py",
            "mlflow.source.type": "LOCAL",
            "mlflow.user": "fmind"
           },
           "fmind",
           "/home/fmind/mlops-python-package/src/bikes/__main__.py",
           "LOCAL",
           null,
           "1a4b8a25a32f0e933a7db9ec47f763cc7bd17d1c",
           null,
           null,
           "auspicious-fly-358",
           null,
           null,
           "BaselineSklearnModel",
           "bikes.core.models.BaselineSklearnModel",
           null,
           "sklearn",
           "6f68ed7fee59407f83bff115536fdfc0"
          ]
         ],
         "fillcolor": "rgba(255,255,255,0)",
         "hoveron": "points",
         "hovertemplate": "<b>%{hovertext}</b><br><br>run_name=%{customdata[5]}<br>run_time_secs=%{x}<br>artifact_uri=%{customdata[0]}<br>end_time=%{customdata[1]}<br>experiment_id=%{customdata[2]}<br>lifecycle_stage=%{customdata[3]}<br>run_id=%{customdata[4]}<br>run_uuid=%{customdata[6]}<br>start_time=%{customdata[7]}<br>status=%{customdata[8]}<br>user_id=%{customdata[9]}<br>metrics=%{customdata[10]}<br>params=%{customdata[11]}<br>tags=%{customdata[12]}<br>mlflow.user=%{customdata[13]}<br>mlflow.source.name=%{customdata[14]}<br>mlflow.source.type=%{customdata[15]}<br>mlflow.project.entryPoint=%{customdata[16]}<br>mlflow.source.git.commit=%{customdata[17]}<br>mlflow.source.git.repoURL=%{customdata[18]}<br>mlflow.gitRepoURL=%{customdata[19]}<br>mlflow.runName=%{customdata[20]}<br>mlflow.project.env=%{customdata[21]}<br>mlflow.project.backend=%{customdata[22]}<br>estimator_name=%{customdata[23]}<br>estimator_class=%{customdata[24]}<br>mlflow.log-model.history=%{customdata[25]}<br>mlflow.autologging=%{customdata[26]}<br>mlflow.parentRunId=%{customdata[27]}<extra></extra>",
         "hovertext": [
          "0cdfaf5a0e7b44ea88d7297746e6af1f"
         ],
         "legendgroup": "auspicious-fly-358",
         "line": {
          "color": "rgba(255,255,255,0)"
         },
         "marker": {
          "color": "#FF6692"
         },
         "name": "auspicious-fly-358",
         "offsetgroup": "auspicious-fly-358",
         "orientation": "h",
         "pointpos": 0,
         "showlegend": true,
         "type": "box",
         "x": [
          46.191
         ],
         "x0": " ",
         "xaxis": "x",
         "y0": " ",
         "yaxis": "y"
        },
        {
         "alignmentgroup": "True",
         "boxpoints": "all",
         "customdata": [
          [
           "file:///home/fmind/mlops-python-package/mlruns/300971336194126583/6f68ed7fee59407f83bff115536fdfc0/artifacts",
           "2024-12-14T14:41:21.575000",
           "300971336194126583",
           "active",
           "6f68ed7fee59407f83bff115536fdfc0",
           "Tuning",
           "6f68ed7fee59407f83bff115536fdfc0",
           "2024-12-14T14:40:34.416000",
           "FINISHED",
           "fmind",
           {
            "best_cv_score": -319.5045138888889,
            "system/cpu_utilization_percentage": 13.8,
            "system/disk_available_megabytes": 7460.8,
            "system/disk_usage_megabytes": 108450.2,
            "system/disk_usage_percentage": 93.6,
            "system/network_receive_megabytes": 0.1935390000001007,
            "system/network_transmit_megabytes": 0.2145869999999377,
            "system/system_memory_usage_megabytes": 4516.7,
            "system/system_memory_usage_percentage": 30,
            "training_score": -25.253110839387183
           },
           {
            "best_max_depth": "7",
            "conf_file": "confs/tuning.yaml",
            "cv": "KIND='TimeSeriesSplitter' gap=0 n_splits=4 test_size=1440",
            "error_score": "raise",
            "estimator": "KIND='BaselineSklearnModel' max_depth=20 n_estimators=200 random_state=42",
            "n_jobs": "None",
            "param_grid": "{'max_depth': [3, 5, 7]}",
            "pre_dispatch": "2*n_jobs",
            "refit": "True",
            "return_train_score": "False",
            "scoring": "<bound method Metric.scorer of SklearnMetric(KIND='SklearnMetric', name='mean_squared_error', greater_is_better=False)>",
            "verbose": "3"
           },
           {
            "estimator_class": "sklearn.model_selection._search.GridSearchCV",
            "estimator_name": "GridSearchCV",
            "mlflow.gitRepoURL": "git@github.com:fmind/mlops-python-package",
            "mlflow.log-model.history": "[{\"run_id\": \"6f68ed7fee59407f83bff115536fdfc0\", \"artifact_path\": \"model\", \"utc_time_created\": \"2024-12-14 14:41:11.433265\", \"model_uuid\": \"77b9177b6a914d2d83f8c6062bcaa438\", \"flavors\": {\"python_function\": {\"model_path\": \"model.pkl\", \"predict_fn\": \"predict\", \"loader_module\": \"mlflow.sklearn\", \"python_version\": \"3.12.7\", \"env\": {\"conda\": \"conda.yaml\", \"virtualenv\": \"python_env.yaml\"}}, \"sklearn\": {\"pickled_model\": \"model.pkl\", \"sklearn_version\": \"1.5.2\", \"serialization_format\": \"cloudpickle\", \"code\": null}}}, {\"run_id\": \"6f68ed7fee59407f83bff115536fdfc0\", \"artifact_path\": \"best_estimator\", \"utc_time_created\": \"2024-12-14 14:41:16.492519\", \"model_uuid\": \"862871d930c845ec882f4b82890fc495\", \"flavors\": {\"python_function\": {\"model_path\": \"model.pkl\", \"predict_fn\": \"predict\", \"loader_module\": \"mlflow.sklearn\", \"python_version\": \"3.12.7\", \"env\": {\"conda\": \"conda.yaml\", \"virtualenv\": \"python_env.yaml\"}}, \"sklearn\": {\"pickled_model\": \"model.pkl\", \"sklearn_version\": \"1.5.2\", \"serialization_format\": \"cloudpickle\", \"code\": null}}}]",
            "mlflow.project.backend": "local",
            "mlflow.project.entryPoint": "main",
            "mlflow.project.env": "virtualenv",
            "mlflow.runName": "Tuning",
            "mlflow.source.git.commit": "1a4b8a25a32f0e933a7db9ec47f763cc7bd17d1c",
            "mlflow.source.git.repoURL": "git@github.com:fmind/mlops-python-package",
            "mlflow.source.name": "file:///home/fmind/mlops-python-package",
            "mlflow.source.type": "PROJECT",
            "mlflow.user": "fmind"
           },
           "fmind",
           "file:///home/fmind/mlops-python-package",
           "PROJECT",
           "main",
           "1a4b8a25a32f0e933a7db9ec47f763cc7bd17d1c",
           "git@github.com:fmind/mlops-python-package",
           "git@github.com:fmind/mlops-python-package",
           "Tuning",
           "virtualenv",
           "local",
           "GridSearchCV",
           "sklearn.model_selection._search.GridSearchCV",
           "[{\"run_id\": \"6f68ed7fee59407f83bff115536fdfc0\", \"artifact_path\": \"model\", \"utc_time_created\": \"2024-12-14 14:41:11.433265\", \"model_uuid\": \"77b9177b6a914d2d83f8c6062bcaa438\", \"flavors\": {\"python_function\": {\"model_path\": \"model.pkl\", \"predict_fn\": \"predict\", \"loader_module\": \"mlflow.sklearn\", \"python_version\": \"3.12.7\", \"env\": {\"conda\": \"conda.yaml\", \"virtualenv\": \"python_env.yaml\"}}, \"sklearn\": {\"pickled_model\": \"model.pkl\", \"sklearn_version\": \"1.5.2\", \"serialization_format\": \"cloudpickle\", \"code\": null}}}, {\"run_id\": \"6f68ed7fee59407f83bff115536fdfc0\", \"artifact_path\": \"best_estimator\", \"utc_time_created\": \"2024-12-14 14:41:16.492519\", \"model_uuid\": \"862871d930c845ec882f4b82890fc495\", \"flavors\": {\"python_function\": {\"model_path\": \"model.pkl\", \"predict_fn\": \"predict\", \"loader_module\": \"mlflow.sklearn\", \"python_version\": \"3.12.7\", \"env\": {\"conda\": \"conda.yaml\", \"virtualenv\": \"python_env.yaml\"}}, \"sklearn\": {\"pickled_model\": \"model.pkl\", \"sklearn_version\": \"1.5.2\", \"serialization_format\": \"cloudpickle\", \"code\": null}}}]",
           null,
           null
          ],
          [
           "file:///home/fmind/mlops-python-package/mlruns/300971336194126583/9c36f396f2214f7bb0c6d9713d5e833e/artifacts",
           "2024-12-14T14:39:22.225000",
           "300971336194126583",
           "active",
           "9c36f396f2214f7bb0c6d9713d5e833e",
           "Tuning",
           "9c36f396f2214f7bb0c6d9713d5e833e",
           "2024-12-14T14:38:34.646000",
           "FINISHED",
           "fmind",
           {
            "best_cv_score": -319.5045138888889,
            "system/cpu_utilization_percentage": 13.7,
            "system/disk_available_megabytes": 7735.1,
            "system/disk_usage_megabytes": 108174.9,
            "system/disk_usage_percentage": 93.3,
            "system/network_receive_megabytes": 0.013674000000037267,
            "system/network_transmit_megabytes": 0.0075299999999742795,
            "system/system_memory_usage_megabytes": 4324.7,
            "system/system_memory_usage_percentage": 28.7,
            "training_score": -25.253110839387183
           },
           {
            "best_max_depth": "7",
            "conf_file": "confs/tuning.yaml",
            "cv": "KIND='TimeSeriesSplitter' gap=0 n_splits=4 test_size=1440",
            "error_score": "raise",
            "estimator": "KIND='BaselineSklearnModel' max_depth=20 n_estimators=200 random_state=42",
            "n_jobs": "None",
            "param_grid": "{'max_depth': [3, 5, 7]}",
            "pre_dispatch": "2*n_jobs",
            "refit": "True",
            "return_train_score": "False",
            "scoring": "<bound method Metric.scorer of SklearnMetric(KIND='SklearnMetric', name='mean_squared_error', greater_is_better=False)>",
            "verbose": "3"
           },
           {
            "estimator_class": "sklearn.model_selection._search.GridSearchCV",
            "estimator_name": "GridSearchCV",
            "mlflow.gitRepoURL": "git@github.com:fmind/mlops-python-package",
            "mlflow.log-model.history": "[{\"run_id\": \"9c36f396f2214f7bb0c6d9713d5e833e\", \"artifact_path\": \"model\", \"utc_time_created\": \"2024-12-14 14:39:11.770616\", \"model_uuid\": \"ba0e722effe1437ba691fb61e730dfb7\", \"flavors\": {\"python_function\": {\"model_path\": \"model.pkl\", \"predict_fn\": \"predict\", \"loader_module\": \"mlflow.sklearn\", \"python_version\": \"3.12.7\", \"env\": {\"conda\": \"conda.yaml\", \"virtualenv\": \"python_env.yaml\"}}, \"sklearn\": {\"pickled_model\": \"model.pkl\", \"sklearn_version\": \"1.5.2\", \"serialization_format\": \"cloudpickle\", \"code\": null}}}, {\"run_id\": \"9c36f396f2214f7bb0c6d9713d5e833e\", \"artifact_path\": \"best_estimator\", \"utc_time_created\": \"2024-12-14 14:39:16.824355\", \"model_uuid\": \"c561b4012c1445eca99fcd5d7260ad62\", \"flavors\": {\"python_function\": {\"model_path\": \"model.pkl\", \"predict_fn\": \"predict\", \"loader_module\": \"mlflow.sklearn\", \"python_version\": \"3.12.7\", \"env\": {\"conda\": \"conda.yaml\", \"virtualenv\": \"python_env.yaml\"}}, \"sklearn\": {\"pickled_model\": \"model.pkl\", \"sklearn_version\": \"1.5.2\", \"serialization_format\": \"cloudpickle\", \"code\": null}}}]",
            "mlflow.project.backend": "local",
            "mlflow.project.entryPoint": "main",
            "mlflow.project.env": "virtualenv",
            "mlflow.runName": "Tuning",
            "mlflow.source.git.commit": "1a4b8a25a32f0e933a7db9ec47f763cc7bd17d1c",
            "mlflow.source.git.repoURL": "git@github.com:fmind/mlops-python-package",
            "mlflow.source.name": "file:///home/fmind/mlops-python-package",
            "mlflow.source.type": "PROJECT",
            "mlflow.user": "fmind"
           },
           "fmind",
           "file:///home/fmind/mlops-python-package",
           "PROJECT",
           "main",
           "1a4b8a25a32f0e933a7db9ec47f763cc7bd17d1c",
           "git@github.com:fmind/mlops-python-package",
           "git@github.com:fmind/mlops-python-package",
           "Tuning",
           "virtualenv",
           "local",
           "GridSearchCV",
           "sklearn.model_selection._search.GridSearchCV",
           "[{\"run_id\": \"9c36f396f2214f7bb0c6d9713d5e833e\", \"artifact_path\": \"model\", \"utc_time_created\": \"2024-12-14 14:39:11.770616\", \"model_uuid\": \"ba0e722effe1437ba691fb61e730dfb7\", \"flavors\": {\"python_function\": {\"model_path\": \"model.pkl\", \"predict_fn\": \"predict\", \"loader_module\": \"mlflow.sklearn\", \"python_version\": \"3.12.7\", \"env\": {\"conda\": \"conda.yaml\", \"virtualenv\": \"python_env.yaml\"}}, \"sklearn\": {\"pickled_model\": \"model.pkl\", \"sklearn_version\": \"1.5.2\", \"serialization_format\": \"cloudpickle\", \"code\": null}}}, {\"run_id\": \"9c36f396f2214f7bb0c6d9713d5e833e\", \"artifact_path\": \"best_estimator\", \"utc_time_created\": \"2024-12-14 14:39:16.824355\", \"model_uuid\": \"c561b4012c1445eca99fcd5d7260ad62\", \"flavors\": {\"python_function\": {\"model_path\": \"model.pkl\", \"predict_fn\": \"predict\", \"loader_module\": \"mlflow.sklearn\", \"python_version\": \"3.12.7\", \"env\": {\"conda\": \"conda.yaml\", \"virtualenv\": \"python_env.yaml\"}}, \"sklearn\": {\"pickled_model\": \"model.pkl\", \"sklearn_version\": \"1.5.2\", \"serialization_format\": \"cloudpickle\", \"code\": null}}}]",
           null,
           null
          ],
          [
           "file:///home/fmind/mlops-python-package/mlruns/300971336194126583/857f0dd0a344439693b8cb9ecbf3ee10/artifacts",
           "2024-12-14T14:37:16.048000",
           "300971336194126583",
           "active",
           "857f0dd0a344439693b8cb9ecbf3ee10",
           "Tuning",
           "857f0dd0a344439693b8cb9ecbf3ee10",
           "2024-12-14T14:35:02.506000",
           "FINISHED",
           "fmind",
           {
            "best_cv_score": -319.5045138888889,
            "system/cpu_utilization_percentage": 21.5,
            "system/disk_available_megabytes": 8003.8,
            "system/disk_usage_megabytes": 107904.9,
            "system/disk_usage_percentage": 93.1,
            "system/network_receive_megabytes": 0.012895999999955166,
            "system/network_transmit_megabytes": 0.0012200000001030276,
            "system/system_memory_usage_megabytes": 4608.4,
            "system/system_memory_usage_percentage": 30.6,
            "training_score": -25.253110839387183
           },
           {
            "best_max_depth": "7",
            "conf_file": "confs/tuning.yaml",
            "cv": "KIND='TimeSeriesSplitter' gap=0 n_splits=4 test_size=1440",
            "error_score": "raise",
            "estimator": "KIND='BaselineSklearnModel' max_depth=20 n_estimators=200 random_state=42",
            "n_jobs": "None",
            "param_grid": "{'max_depth': [3, 5, 7]}",
            "pre_dispatch": "2*n_jobs",
            "refit": "True",
            "return_train_score": "False",
            "scoring": "<bound method Metric.scorer of SklearnMetric(KIND='SklearnMetric', name='mean_squared_error', greater_is_better=False)>",
            "verbose": "3"
           },
           {
            "estimator_class": "sklearn.model_selection._search.GridSearchCV",
            "estimator_name": "GridSearchCV",
            "mlflow.gitRepoURL": "git@github.com:fmind/mlops-python-package",
            "mlflow.log-model.history": "[{\"run_id\": \"857f0dd0a344439693b8cb9ecbf3ee10\", \"artifact_path\": \"model\", \"utc_time_created\": \"2024-12-14 14:37:05.731840\", \"model_uuid\": \"4ada6a336e424391bf2cdf750e2c7042\", \"flavors\": {\"python_function\": {\"model_path\": \"model.pkl\", \"predict_fn\": \"predict\", \"loader_module\": \"mlflow.sklearn\", \"python_version\": \"3.12.7\", \"env\": {\"conda\": \"conda.yaml\", \"virtualenv\": \"python_env.yaml\"}}, \"sklearn\": {\"pickled_model\": \"model.pkl\", \"sklearn_version\": \"1.5.2\", \"serialization_format\": \"cloudpickle\", \"code\": null}}}, {\"run_id\": \"857f0dd0a344439693b8cb9ecbf3ee10\", \"artifact_path\": \"best_estimator\", \"utc_time_created\": \"2024-12-14 14:37:11.174511\", \"model_uuid\": \"7be250b39fd343ec99975be2a910fb2a\", \"flavors\": {\"python_function\": {\"model_path\": \"model.pkl\", \"predict_fn\": \"predict\", \"loader_module\": \"mlflow.sklearn\", \"python_version\": \"3.12.7\", \"env\": {\"conda\": \"conda.yaml\", \"virtualenv\": \"python_env.yaml\"}}, \"sklearn\": {\"pickled_model\": \"model.pkl\", \"sklearn_version\": \"1.5.2\", \"serialization_format\": \"cloudpickle\", \"code\": null}}}]",
            "mlflow.project.backend": "local",
            "mlflow.project.entryPoint": "main",
            "mlflow.project.env": "virtualenv",
            "mlflow.runName": "Tuning",
            "mlflow.source.git.commit": "1a4b8a25a32f0e933a7db9ec47f763cc7bd17d1c",
            "mlflow.source.git.repoURL": "git@github.com:fmind/mlops-python-package",
            "mlflow.source.name": "file:///home/fmind/mlops-python-package",
            "mlflow.source.type": "PROJECT",
            "mlflow.user": "fmind"
           },
           "fmind",
           "file:///home/fmind/mlops-python-package",
           "PROJECT",
           "main",
           "1a4b8a25a32f0e933a7db9ec47f763cc7bd17d1c",
           "git@github.com:fmind/mlops-python-package",
           "git@github.com:fmind/mlops-python-package",
           "Tuning",
           "virtualenv",
           "local",
           "GridSearchCV",
           "sklearn.model_selection._search.GridSearchCV",
           "[{\"run_id\": \"857f0dd0a344439693b8cb9ecbf3ee10\", \"artifact_path\": \"model\", \"utc_time_created\": \"2024-12-14 14:37:05.731840\", \"model_uuid\": \"4ada6a336e424391bf2cdf750e2c7042\", \"flavors\": {\"python_function\": {\"model_path\": \"model.pkl\", \"predict_fn\": \"predict\", \"loader_module\": \"mlflow.sklearn\", \"python_version\": \"3.12.7\", \"env\": {\"conda\": \"conda.yaml\", \"virtualenv\": \"python_env.yaml\"}}, \"sklearn\": {\"pickled_model\": \"model.pkl\", \"sklearn_version\": \"1.5.2\", \"serialization_format\": \"cloudpickle\", \"code\": null}}}, {\"run_id\": \"857f0dd0a344439693b8cb9ecbf3ee10\", \"artifact_path\": \"best_estimator\", \"utc_time_created\": \"2024-12-14 14:37:11.174511\", \"model_uuid\": \"7be250b39fd343ec99975be2a910fb2a\", \"flavors\": {\"python_function\": {\"model_path\": \"model.pkl\", \"predict_fn\": \"predict\", \"loader_module\": \"mlflow.sklearn\", \"python_version\": \"3.12.7\", \"env\": {\"conda\": \"conda.yaml\", \"virtualenv\": \"python_env.yaml\"}}, \"sklearn\": {\"pickled_model\": \"model.pkl\", \"sklearn_version\": \"1.5.2\", \"serialization_format\": \"cloudpickle\", \"code\": null}}}]",
           null,
           null
          ]
         ],
         "fillcolor": "rgba(255,255,255,0)",
         "hoveron": "points",
         "hovertemplate": "<b>%{hovertext}</b><br><br>run_name=%{customdata[5]}<br>run_time_secs=%{x}<br>artifact_uri=%{customdata[0]}<br>end_time=%{customdata[1]}<br>experiment_id=%{customdata[2]}<br>lifecycle_stage=%{customdata[3]}<br>run_id=%{customdata[4]}<br>run_uuid=%{customdata[6]}<br>start_time=%{customdata[7]}<br>status=%{customdata[8]}<br>user_id=%{customdata[9]}<br>metrics=%{customdata[10]}<br>params=%{customdata[11]}<br>tags=%{customdata[12]}<br>mlflow.user=%{customdata[13]}<br>mlflow.source.name=%{customdata[14]}<br>mlflow.source.type=%{customdata[15]}<br>mlflow.project.entryPoint=%{customdata[16]}<br>mlflow.source.git.commit=%{customdata[17]}<br>mlflow.source.git.repoURL=%{customdata[18]}<br>mlflow.gitRepoURL=%{customdata[19]}<br>mlflow.runName=%{customdata[20]}<br>mlflow.project.env=%{customdata[21]}<br>mlflow.project.backend=%{customdata[22]}<br>estimator_name=%{customdata[23]}<br>estimator_class=%{customdata[24]}<br>mlflow.log-model.history=%{customdata[25]}<br>mlflow.autologging=%{customdata[26]}<br>mlflow.parentRunId=%{customdata[27]}<extra></extra>",
         "hovertext": [
          "6f68ed7fee59407f83bff115536fdfc0",
          "9c36f396f2214f7bb0c6d9713d5e833e",
          "857f0dd0a344439693b8cb9ecbf3ee10"
         ],
         "legendgroup": "Tuning",
         "line": {
          "color": "rgba(255,255,255,0)"
         },
         "marker": {
          "color": "#B6E880"
         },
         "name": "Tuning",
         "offsetgroup": "Tuning",
         "orientation": "h",
         "pointpos": 0,
         "showlegend": true,
         "type": "box",
         "x": [
          47.159,
          47.579,
          133.542
         ],
         "x0": " ",
         "xaxis": "x",
         "y0": " ",
         "yaxis": "y"
        },
        {
         "alignmentgroup": "True",
         "boxpoints": "all",
         "customdata": [
          [
           "file:///home/fmind/mlops-python-package/mlruns/300971336194126583/e3975321ef4645b698cd8832a2ead79d/artifacts",
           "2024-12-14T14:41:20.607000",
           "300971336194126583",
           "active",
           "e3975321ef4645b698cd8832a2ead79d",
           "lyrical-asp-40",
           "e3975321ef4645b698cd8832a2ead79d",
           "2024-12-14T14:40:34.416000",
           "FINISHED",
           "fmind",
           {
            "mean_fit_time": 1.5403740406036377,
            "mean_score_time": 0.04439198970794678,
            "mean_test_score": -2845.011111111111,
            "rank_test_score": 3,
            "std_fit_time": 0.26986769561457347,
            "std_score_time": 0.0011455098275932603,
            "std_test_score": 1362.0703338739036
           },
           {
            "max_depth": "3",
            "n_estimators": "200",
            "random_state": "42"
           },
           {
            "estimator_class": "bikes.core.models.BaselineSklearnModel",
            "estimator_name": "BaselineSklearnModel",
            "mlflow.autologging": "sklearn",
            "mlflow.parentRunId": "6f68ed7fee59407f83bff115536fdfc0",
            "mlflow.runName": "lyrical-asp-40",
            "mlflow.source.git.commit": "1a4b8a25a32f0e933a7db9ec47f763cc7bd17d1c",
            "mlflow.source.name": "/home/fmind/mlops-python-package/src/bikes/__main__.py",
            "mlflow.source.type": "LOCAL",
            "mlflow.user": "fmind"
           },
           "fmind",
           "/home/fmind/mlops-python-package/src/bikes/__main__.py",
           "LOCAL",
           null,
           "1a4b8a25a32f0e933a7db9ec47f763cc7bd17d1c",
           null,
           null,
           "lyrical-asp-40",
           null,
           null,
           "BaselineSklearnModel",
           "bikes.core.models.BaselineSklearnModel",
           null,
           "sklearn",
           "6f68ed7fee59407f83bff115536fdfc0"
          ]
         ],
         "fillcolor": "rgba(255,255,255,0)",
         "hoveron": "points",
         "hovertemplate": "<b>%{hovertext}</b><br><br>run_name=%{customdata[5]}<br>run_time_secs=%{x}<br>artifact_uri=%{customdata[0]}<br>end_time=%{customdata[1]}<br>experiment_id=%{customdata[2]}<br>lifecycle_stage=%{customdata[3]}<br>run_id=%{customdata[4]}<br>run_uuid=%{customdata[6]}<br>start_time=%{customdata[7]}<br>status=%{customdata[8]}<br>user_id=%{customdata[9]}<br>metrics=%{customdata[10]}<br>params=%{customdata[11]}<br>tags=%{customdata[12]}<br>mlflow.user=%{customdata[13]}<br>mlflow.source.name=%{customdata[14]}<br>mlflow.source.type=%{customdata[15]}<br>mlflow.project.entryPoint=%{customdata[16]}<br>mlflow.source.git.commit=%{customdata[17]}<br>mlflow.source.git.repoURL=%{customdata[18]}<br>mlflow.gitRepoURL=%{customdata[19]}<br>mlflow.runName=%{customdata[20]}<br>mlflow.project.env=%{customdata[21]}<br>mlflow.project.backend=%{customdata[22]}<br>estimator_name=%{customdata[23]}<br>estimator_class=%{customdata[24]}<br>mlflow.log-model.history=%{customdata[25]}<br>mlflow.autologging=%{customdata[26]}<br>mlflow.parentRunId=%{customdata[27]}<extra></extra>",
         "hovertext": [
          "e3975321ef4645b698cd8832a2ead79d"
         ],
         "legendgroup": "lyrical-asp-40",
         "line": {
          "color": "rgba(255,255,255,0)"
         },
         "marker": {
          "color": "#FF97FF"
         },
         "name": "lyrical-asp-40",
         "offsetgroup": "lyrical-asp-40",
         "orientation": "h",
         "pointpos": 0,
         "showlegend": true,
         "type": "box",
         "x": [
          46.191
         ],
         "x0": " ",
         "xaxis": "x",
         "y0": " ",
         "yaxis": "y"
        },
        {
         "alignmentgroup": "True",
         "boxpoints": "all",
         "customdata": [
          [
           "file:///home/fmind/mlops-python-package/mlruns/300971336194126583/71d90d8febd9448584236ff7da490944/artifacts",
           "2024-12-14T14:39:21.213000",
           "300971336194126583",
           "active",
           "71d90d8febd9448584236ff7da490944",
           "classy-yak-743",
           "71d90d8febd9448584236ff7da490944",
           "2024-12-14T14:38:34.646000",
           "FINISHED",
           "fmind",
           {
            "mean_fit_time": 2.310912549495697,
            "mean_score_time": 0.04688429832458496,
            "mean_test_score": -711.7982638888889,
            "rank_test_score": 2,
            "std_fit_time": 0.34795851007651757,
            "std_score_time": 0.0015674315113117095,
            "std_test_score": 506.2583283876414
           },
           {
            "max_depth": "5",
            "n_estimators": "200",
            "random_state": "42"
           },
           {
            "estimator_class": "bikes.core.models.BaselineSklearnModel",
            "estimator_name": "BaselineSklearnModel",
            "mlflow.autologging": "sklearn",
            "mlflow.parentRunId": "9c36f396f2214f7bb0c6d9713d5e833e",
            "mlflow.runName": "classy-yak-743",
            "mlflow.source.git.commit": "1a4b8a25a32f0e933a7db9ec47f763cc7bd17d1c",
            "mlflow.source.name": "/home/fmind/mlops-python-package/src/bikes/__main__.py",
            "mlflow.source.type": "LOCAL",
            "mlflow.user": "fmind"
           },
           "fmind",
           "/home/fmind/mlops-python-package/src/bikes/__main__.py",
           "LOCAL",
           null,
           "1a4b8a25a32f0e933a7db9ec47f763cc7bd17d1c",
           null,
           null,
           "classy-yak-743",
           null,
           null,
           "BaselineSklearnModel",
           "bikes.core.models.BaselineSklearnModel",
           null,
           "sklearn",
           "9c36f396f2214f7bb0c6d9713d5e833e"
          ]
         ],
         "fillcolor": "rgba(255,255,255,0)",
         "hoveron": "points",
         "hovertemplate": "<b>%{hovertext}</b><br><br>run_name=%{customdata[5]}<br>run_time_secs=%{x}<br>artifact_uri=%{customdata[0]}<br>end_time=%{customdata[1]}<br>experiment_id=%{customdata[2]}<br>lifecycle_stage=%{customdata[3]}<br>run_id=%{customdata[4]}<br>run_uuid=%{customdata[6]}<br>start_time=%{customdata[7]}<br>status=%{customdata[8]}<br>user_id=%{customdata[9]}<br>metrics=%{customdata[10]}<br>params=%{customdata[11]}<br>tags=%{customdata[12]}<br>mlflow.user=%{customdata[13]}<br>mlflow.source.name=%{customdata[14]}<br>mlflow.source.type=%{customdata[15]}<br>mlflow.project.entryPoint=%{customdata[16]}<br>mlflow.source.git.commit=%{customdata[17]}<br>mlflow.source.git.repoURL=%{customdata[18]}<br>mlflow.gitRepoURL=%{customdata[19]}<br>mlflow.runName=%{customdata[20]}<br>mlflow.project.env=%{customdata[21]}<br>mlflow.project.backend=%{customdata[22]}<br>estimator_name=%{customdata[23]}<br>estimator_class=%{customdata[24]}<br>mlflow.log-model.history=%{customdata[25]}<br>mlflow.autologging=%{customdata[26]}<br>mlflow.parentRunId=%{customdata[27]}<extra></extra>",
         "hovertext": [
          "71d90d8febd9448584236ff7da490944"
         ],
         "legendgroup": "classy-yak-743",
         "line": {
          "color": "rgba(255,255,255,0)"
         },
         "marker": {
          "color": "#FECB52"
         },
         "name": "classy-yak-743",
         "offsetgroup": "classy-yak-743",
         "orientation": "h",
         "pointpos": 0,
         "showlegend": true,
         "type": "box",
         "x": [
          46.567
         ],
         "x0": " ",
         "xaxis": "x",
         "y0": " ",
         "yaxis": "y"
        },
        {
         "alignmentgroup": "True",
         "boxpoints": "all",
         "customdata": [
          [
           "file:///home/fmind/mlops-python-package/mlruns/300971336194126583/d927facc28d74fbe8d607c7f1656321a/artifacts",
           "2024-12-14T14:39:21.213000",
           "300971336194126583",
           "active",
           "d927facc28d74fbe8d607c7f1656321a",
           "legendary-dove-782",
           "d927facc28d74fbe8d607c7f1656321a",
           "2024-12-14T14:38:34.646000",
           "FINISHED",
           "fmind",
           {
            "mean_fit_time": 3.1809995770454407,
            "mean_score_time": 0.05519115924835205,
            "mean_test_score": -319.5045138888889,
            "rank_test_score": 1,
            "std_fit_time": 0.4297416271813794,
            "std_score_time": 0.002215700766888834,
            "std_test_score": 350.4638291591938
           },
           {
            "max_depth": "7",
            "n_estimators": "200",
            "random_state": "42"
           },
           {
            "estimator_class": "bikes.core.models.BaselineSklearnModel",
            "estimator_name": "BaselineSklearnModel",
            "mlflow.autologging": "sklearn",
            "mlflow.parentRunId": "9c36f396f2214f7bb0c6d9713d5e833e",
            "mlflow.runName": "legendary-dove-782",
            "mlflow.source.git.commit": "1a4b8a25a32f0e933a7db9ec47f763cc7bd17d1c",
            "mlflow.source.name": "/home/fmind/mlops-python-package/src/bikes/__main__.py",
            "mlflow.source.type": "LOCAL",
            "mlflow.user": "fmind"
           },
           "fmind",
           "/home/fmind/mlops-python-package/src/bikes/__main__.py",
           "LOCAL",
           null,
           "1a4b8a25a32f0e933a7db9ec47f763cc7bd17d1c",
           null,
           null,
           "legendary-dove-782",
           null,
           null,
           "BaselineSklearnModel",
           "bikes.core.models.BaselineSklearnModel",
           null,
           "sklearn",
           "9c36f396f2214f7bb0c6d9713d5e833e"
          ]
         ],
         "fillcolor": "rgba(255,255,255,0)",
         "hoveron": "points",
         "hovertemplate": "<b>%{hovertext}</b><br><br>run_name=%{customdata[5]}<br>run_time_secs=%{x}<br>artifact_uri=%{customdata[0]}<br>end_time=%{customdata[1]}<br>experiment_id=%{customdata[2]}<br>lifecycle_stage=%{customdata[3]}<br>run_id=%{customdata[4]}<br>run_uuid=%{customdata[6]}<br>start_time=%{customdata[7]}<br>status=%{customdata[8]}<br>user_id=%{customdata[9]}<br>metrics=%{customdata[10]}<br>params=%{customdata[11]}<br>tags=%{customdata[12]}<br>mlflow.user=%{customdata[13]}<br>mlflow.source.name=%{customdata[14]}<br>mlflow.source.type=%{customdata[15]}<br>mlflow.project.entryPoint=%{customdata[16]}<br>mlflow.source.git.commit=%{customdata[17]}<br>mlflow.source.git.repoURL=%{customdata[18]}<br>mlflow.gitRepoURL=%{customdata[19]}<br>mlflow.runName=%{customdata[20]}<br>mlflow.project.env=%{customdata[21]}<br>mlflow.project.backend=%{customdata[22]}<br>estimator_name=%{customdata[23]}<br>estimator_class=%{customdata[24]}<br>mlflow.log-model.history=%{customdata[25]}<br>mlflow.autologging=%{customdata[26]}<br>mlflow.parentRunId=%{customdata[27]}<extra></extra>",
         "hovertext": [
          "d927facc28d74fbe8d607c7f1656321a"
         ],
         "legendgroup": "legendary-dove-782",
         "line": {
          "color": "rgba(255,255,255,0)"
         },
         "marker": {
          "color": "#636efa"
         },
         "name": "legendary-dove-782",
         "offsetgroup": "legendary-dove-782",
         "orientation": "h",
         "pointpos": 0,
         "showlegend": true,
         "type": "box",
         "x": [
          46.567
         ],
         "x0": " ",
         "xaxis": "x",
         "y0": " ",
         "yaxis": "y"
        },
        {
         "alignmentgroup": "True",
         "boxpoints": "all",
         "customdata": [
          [
           "file:///home/fmind/mlops-python-package/mlruns/300971336194126583/dafb45859edf45979643cccb32ea3828/artifacts",
           "2024-12-14T14:39:21.213000",
           "300971336194126583",
           "active",
           "dafb45859edf45979643cccb32ea3828",
           "big-duck-612",
           "dafb45859edf45979643cccb32ea3828",
           "2024-12-14T14:38:34.646000",
           "FINISHED",
           "fmind",
           {
            "mean_fit_time": 1.4297820329666138,
            "mean_score_time": 0.042337894439697266,
            "mean_test_score": -2845.011111111111,
            "rank_test_score": 3,
            "std_fit_time": 0.1887011060177697,
            "std_score_time": 0.0005584766538439517,
            "std_test_score": 1362.0703338739036
           },
           {
            "max_depth": "3",
            "n_estimators": "200",
            "random_state": "42"
           },
           {
            "estimator_class": "bikes.core.models.BaselineSklearnModel",
            "estimator_name": "BaselineSklearnModel",
            "mlflow.autologging": "sklearn",
            "mlflow.parentRunId": "9c36f396f2214f7bb0c6d9713d5e833e",
            "mlflow.runName": "big-duck-612",
            "mlflow.source.git.commit": "1a4b8a25a32f0e933a7db9ec47f763cc7bd17d1c",
            "mlflow.source.name": "/home/fmind/mlops-python-package/src/bikes/__main__.py",
            "mlflow.source.type": "LOCAL",
            "mlflow.user": "fmind"
           },
           "fmind",
           "/home/fmind/mlops-python-package/src/bikes/__main__.py",
           "LOCAL",
           null,
           "1a4b8a25a32f0e933a7db9ec47f763cc7bd17d1c",
           null,
           null,
           "big-duck-612",
           null,
           null,
           "BaselineSklearnModel",
           "bikes.core.models.BaselineSklearnModel",
           null,
           "sklearn",
           "9c36f396f2214f7bb0c6d9713d5e833e"
          ]
         ],
         "fillcolor": "rgba(255,255,255,0)",
         "hoveron": "points",
         "hovertemplate": "<b>%{hovertext}</b><br><br>run_name=%{customdata[5]}<br>run_time_secs=%{x}<br>artifact_uri=%{customdata[0]}<br>end_time=%{customdata[1]}<br>experiment_id=%{customdata[2]}<br>lifecycle_stage=%{customdata[3]}<br>run_id=%{customdata[4]}<br>run_uuid=%{customdata[6]}<br>start_time=%{customdata[7]}<br>status=%{customdata[8]}<br>user_id=%{customdata[9]}<br>metrics=%{customdata[10]}<br>params=%{customdata[11]}<br>tags=%{customdata[12]}<br>mlflow.user=%{customdata[13]}<br>mlflow.source.name=%{customdata[14]}<br>mlflow.source.type=%{customdata[15]}<br>mlflow.project.entryPoint=%{customdata[16]}<br>mlflow.source.git.commit=%{customdata[17]}<br>mlflow.source.git.repoURL=%{customdata[18]}<br>mlflow.gitRepoURL=%{customdata[19]}<br>mlflow.runName=%{customdata[20]}<br>mlflow.project.env=%{customdata[21]}<br>mlflow.project.backend=%{customdata[22]}<br>estimator_name=%{customdata[23]}<br>estimator_class=%{customdata[24]}<br>mlflow.log-model.history=%{customdata[25]}<br>mlflow.autologging=%{customdata[26]}<br>mlflow.parentRunId=%{customdata[27]}<extra></extra>",
         "hovertext": [
          "dafb45859edf45979643cccb32ea3828"
         ],
         "legendgroup": "big-duck-612",
         "line": {
          "color": "rgba(255,255,255,0)"
         },
         "marker": {
          "color": "#EF553B"
         },
         "name": "big-duck-612",
         "offsetgroup": "big-duck-612",
         "orientation": "h",
         "pointpos": 0,
         "showlegend": true,
         "type": "box",
         "x": [
          46.567
         ],
         "x0": " ",
         "xaxis": "x",
         "y0": " ",
         "yaxis": "y"
        },
        {
         "alignmentgroup": "True",
         "boxpoints": "all",
         "customdata": [
          [
           "file:///home/fmind/mlops-python-package/mlruns/300971336194126583/006ccc2cf48e489099b285ab6d538d1a/artifacts",
           "2024-12-14T14:37:15.261000",
           "300971336194126583",
           "active",
           "006ccc2cf48e489099b285ab6d538d1a",
           "sincere-sow-522",
           "006ccc2cf48e489099b285ab6d538d1a",
           "2024-12-14T14:35:02.506000",
           "FINISHED",
           "fmind",
           {
            "mean_fit_time": 1.635141909122467,
            "mean_score_time": 0.04768478870391846,
            "mean_test_score": -2845.011111111111,
            "rank_test_score": 3,
            "std_fit_time": 0.16971366972379937,
            "std_score_time": 0.002114185952165752,
            "std_test_score": 1362.0703338739036
           },
           {
            "max_depth": "3",
            "n_estimators": "200",
            "random_state": "42"
           },
           {
            "estimator_class": "bikes.core.models.BaselineSklearnModel",
            "estimator_name": "BaselineSklearnModel",
            "mlflow.autologging": "sklearn",
            "mlflow.parentRunId": "857f0dd0a344439693b8cb9ecbf3ee10",
            "mlflow.runName": "sincere-sow-522",
            "mlflow.source.git.commit": "1a4b8a25a32f0e933a7db9ec47f763cc7bd17d1c",
            "mlflow.source.name": "/home/fmind/mlops-python-package/src/bikes/__main__.py",
            "mlflow.source.type": "LOCAL",
            "mlflow.user": "fmind"
           },
           "fmind",
           "/home/fmind/mlops-python-package/src/bikes/__main__.py",
           "LOCAL",
           null,
           "1a4b8a25a32f0e933a7db9ec47f763cc7bd17d1c",
           null,
           null,
           "sincere-sow-522",
           null,
           null,
           "BaselineSklearnModel",
           "bikes.core.models.BaselineSklearnModel",
           null,
           "sklearn",
           "857f0dd0a344439693b8cb9ecbf3ee10"
          ]
         ],
         "fillcolor": "rgba(255,255,255,0)",
         "hoveron": "points",
         "hovertemplate": "<b>%{hovertext}</b><br><br>run_name=%{customdata[5]}<br>run_time_secs=%{x}<br>artifact_uri=%{customdata[0]}<br>end_time=%{customdata[1]}<br>experiment_id=%{customdata[2]}<br>lifecycle_stage=%{customdata[3]}<br>run_id=%{customdata[4]}<br>run_uuid=%{customdata[6]}<br>start_time=%{customdata[7]}<br>status=%{customdata[8]}<br>user_id=%{customdata[9]}<br>metrics=%{customdata[10]}<br>params=%{customdata[11]}<br>tags=%{customdata[12]}<br>mlflow.user=%{customdata[13]}<br>mlflow.source.name=%{customdata[14]}<br>mlflow.source.type=%{customdata[15]}<br>mlflow.project.entryPoint=%{customdata[16]}<br>mlflow.source.git.commit=%{customdata[17]}<br>mlflow.source.git.repoURL=%{customdata[18]}<br>mlflow.gitRepoURL=%{customdata[19]}<br>mlflow.runName=%{customdata[20]}<br>mlflow.project.env=%{customdata[21]}<br>mlflow.project.backend=%{customdata[22]}<br>estimator_name=%{customdata[23]}<br>estimator_class=%{customdata[24]}<br>mlflow.log-model.history=%{customdata[25]}<br>mlflow.autologging=%{customdata[26]}<br>mlflow.parentRunId=%{customdata[27]}<extra></extra>",
         "hovertext": [
          "006ccc2cf48e489099b285ab6d538d1a"
         ],
         "legendgroup": "sincere-sow-522",
         "line": {
          "color": "rgba(255,255,255,0)"
         },
         "marker": {
          "color": "#00cc96"
         },
         "name": "sincere-sow-522",
         "offsetgroup": "sincere-sow-522",
         "orientation": "h",
         "pointpos": 0,
         "showlegend": true,
         "type": "box",
         "x": [
          132.755
         ],
         "x0": " ",
         "xaxis": "x",
         "y0": " ",
         "yaxis": "y"
        },
        {
         "alignmentgroup": "True",
         "boxpoints": "all",
         "customdata": [
          [
           "file:///home/fmind/mlops-python-package/mlruns/300971336194126583/44be742accc846c784acacab379cdca3/artifacts",
           "2024-12-14T14:37:15.261000",
           "300971336194126583",
           "active",
           "44be742accc846c784acacab379cdca3",
           "bittersweet-fowl-631",
           "44be742accc846c784acacab379cdca3",
           "2024-12-14T14:35:02.506000",
           "FINISHED",
           "fmind",
           {
            "mean_fit_time": 2.448797047138214,
            "mean_score_time": 0.05008918046951294,
            "mean_test_score": -711.7982638888889,
            "rank_test_score": 2,
            "std_fit_time": 0.33258931824071436,
            "std_score_time": 0.0004049252455184904,
            "std_test_score": 506.2583283876414
           },
           {
            "max_depth": "5",
            "n_estimators": "200",
            "random_state": "42"
           },
           {
            "estimator_class": "bikes.core.models.BaselineSklearnModel",
            "estimator_name": "BaselineSklearnModel",
            "mlflow.autologging": "sklearn",
            "mlflow.parentRunId": "857f0dd0a344439693b8cb9ecbf3ee10",
            "mlflow.runName": "bittersweet-fowl-631",
            "mlflow.source.git.commit": "1a4b8a25a32f0e933a7db9ec47f763cc7bd17d1c",
            "mlflow.source.name": "/home/fmind/mlops-python-package/src/bikes/__main__.py",
            "mlflow.source.type": "LOCAL",
            "mlflow.user": "fmind"
           },
           "fmind",
           "/home/fmind/mlops-python-package/src/bikes/__main__.py",
           "LOCAL",
           null,
           "1a4b8a25a32f0e933a7db9ec47f763cc7bd17d1c",
           null,
           null,
           "bittersweet-fowl-631",
           null,
           null,
           "BaselineSklearnModel",
           "bikes.core.models.BaselineSklearnModel",
           null,
           "sklearn",
           "857f0dd0a344439693b8cb9ecbf3ee10"
          ]
         ],
         "fillcolor": "rgba(255,255,255,0)",
         "hoveron": "points",
         "hovertemplate": "<b>%{hovertext}</b><br><br>run_name=%{customdata[5]}<br>run_time_secs=%{x}<br>artifact_uri=%{customdata[0]}<br>end_time=%{customdata[1]}<br>experiment_id=%{customdata[2]}<br>lifecycle_stage=%{customdata[3]}<br>run_id=%{customdata[4]}<br>run_uuid=%{customdata[6]}<br>start_time=%{customdata[7]}<br>status=%{customdata[8]}<br>user_id=%{customdata[9]}<br>metrics=%{customdata[10]}<br>params=%{customdata[11]}<br>tags=%{customdata[12]}<br>mlflow.user=%{customdata[13]}<br>mlflow.source.name=%{customdata[14]}<br>mlflow.source.type=%{customdata[15]}<br>mlflow.project.entryPoint=%{customdata[16]}<br>mlflow.source.git.commit=%{customdata[17]}<br>mlflow.source.git.repoURL=%{customdata[18]}<br>mlflow.gitRepoURL=%{customdata[19]}<br>mlflow.runName=%{customdata[20]}<br>mlflow.project.env=%{customdata[21]}<br>mlflow.project.backend=%{customdata[22]}<br>estimator_name=%{customdata[23]}<br>estimator_class=%{customdata[24]}<br>mlflow.log-model.history=%{customdata[25]}<br>mlflow.autologging=%{customdata[26]}<br>mlflow.parentRunId=%{customdata[27]}<extra></extra>",
         "hovertext": [
          "44be742accc846c784acacab379cdca3"
         ],
         "legendgroup": "bittersweet-fowl-631",
         "line": {
          "color": "rgba(255,255,255,0)"
         },
         "marker": {
          "color": "#ab63fa"
         },
         "name": "bittersweet-fowl-631",
         "offsetgroup": "bittersweet-fowl-631",
         "orientation": "h",
         "pointpos": 0,
         "showlegend": true,
         "type": "box",
         "x": [
          132.755
         ],
         "x0": " ",
         "xaxis": "x",
         "y0": " ",
         "yaxis": "y"
        },
        {
         "alignmentgroup": "True",
         "boxpoints": "all",
         "customdata": [
          [
           "file:///home/fmind/mlops-python-package/mlruns/300971336194126583/e9980ab9c8db4f80a18aadfa47a3e83e/artifacts",
           "2024-12-14T14:37:15.261000",
           "300971336194126583",
           "active",
           "e9980ab9c8db4f80a18aadfa47a3e83e",
           "smiling-hound-227",
           "e9980ab9c8db4f80a18aadfa47a3e83e",
           "2024-12-14T14:35:02.506000",
           "FINISHED",
           "fmind",
           {
            "mean_fit_time": 3.4514302015304565,
            "mean_score_time": 0.060173630714416504,
            "mean_test_score": -319.5045138888889,
            "rank_test_score": 1,
            "std_fit_time": 0.44103751840131455,
            "std_score_time": 0.002450930454703554,
            "std_test_score": 350.4638291591938
           },
           {
            "max_depth": "7",
            "n_estimators": "200",
            "random_state": "42"
           },
           {
            "estimator_class": "bikes.core.models.BaselineSklearnModel",
            "estimator_name": "BaselineSklearnModel",
            "mlflow.autologging": "sklearn",
            "mlflow.parentRunId": "857f0dd0a344439693b8cb9ecbf3ee10",
            "mlflow.runName": "smiling-hound-227",
            "mlflow.source.git.commit": "1a4b8a25a32f0e933a7db9ec47f763cc7bd17d1c",
            "mlflow.source.name": "/home/fmind/mlops-python-package/src/bikes/__main__.py",
            "mlflow.source.type": "LOCAL",
            "mlflow.user": "fmind"
           },
           "fmind",
           "/home/fmind/mlops-python-package/src/bikes/__main__.py",
           "LOCAL",
           null,
           "1a4b8a25a32f0e933a7db9ec47f763cc7bd17d1c",
           null,
           null,
           "smiling-hound-227",
           null,
           null,
           "BaselineSklearnModel",
           "bikes.core.models.BaselineSklearnModel",
           null,
           "sklearn",
           "857f0dd0a344439693b8cb9ecbf3ee10"
          ]
         ],
         "fillcolor": "rgba(255,255,255,0)",
         "hoveron": "points",
         "hovertemplate": "<b>%{hovertext}</b><br><br>run_name=%{customdata[5]}<br>run_time_secs=%{x}<br>artifact_uri=%{customdata[0]}<br>end_time=%{customdata[1]}<br>experiment_id=%{customdata[2]}<br>lifecycle_stage=%{customdata[3]}<br>run_id=%{customdata[4]}<br>run_uuid=%{customdata[6]}<br>start_time=%{customdata[7]}<br>status=%{customdata[8]}<br>user_id=%{customdata[9]}<br>metrics=%{customdata[10]}<br>params=%{customdata[11]}<br>tags=%{customdata[12]}<br>mlflow.user=%{customdata[13]}<br>mlflow.source.name=%{customdata[14]}<br>mlflow.source.type=%{customdata[15]}<br>mlflow.project.entryPoint=%{customdata[16]}<br>mlflow.source.git.commit=%{customdata[17]}<br>mlflow.source.git.repoURL=%{customdata[18]}<br>mlflow.gitRepoURL=%{customdata[19]}<br>mlflow.runName=%{customdata[20]}<br>mlflow.project.env=%{customdata[21]}<br>mlflow.project.backend=%{customdata[22]}<br>estimator_name=%{customdata[23]}<br>estimator_class=%{customdata[24]}<br>mlflow.log-model.history=%{customdata[25]}<br>mlflow.autologging=%{customdata[26]}<br>mlflow.parentRunId=%{customdata[27]}<extra></extra>",
         "hovertext": [
          "e9980ab9c8db4f80a18aadfa47a3e83e"
         ],
         "legendgroup": "smiling-hound-227",
         "line": {
          "color": "rgba(255,255,255,0)"
         },
         "marker": {
          "color": "#FFA15A"
         },
         "name": "smiling-hound-227",
         "offsetgroup": "smiling-hound-227",
         "orientation": "h",
         "pointpos": 0,
         "showlegend": true,
         "type": "box",
         "x": [
          132.755
         ],
         "x0": " ",
         "xaxis": "x",
         "y0": " ",
         "yaxis": "y"
        }
       ],
       "layout": {
        "boxmode": "group",
        "legend": {
         "title": {
          "text": "run_name"
         },
         "tracegroupgap": 0
        },
        "template": {
         "data": {
          "bar": [
           {
            "error_x": {
             "color": "#2a3f5f"
            },
            "error_y": {
             "color": "#2a3f5f"
            },
            "marker": {
             "line": {
              "color": "#E5ECF6",
              "width": 0.5
             },
             "pattern": {
              "fillmode": "overlay",
              "size": 10,
              "solidity": 0.2
             }
            },
            "type": "bar"
           }
          ],
          "barpolar": [
           {
            "marker": {
             "line": {
              "color": "#E5ECF6",
              "width": 0.5
             },
             "pattern": {
              "fillmode": "overlay",
              "size": 10,
              "solidity": 0.2
             }
            },
            "type": "barpolar"
           }
          ],
          "carpet": [
           {
            "aaxis": {
             "endlinecolor": "#2a3f5f",
             "gridcolor": "white",
             "linecolor": "white",
             "minorgridcolor": "white",
             "startlinecolor": "#2a3f5f"
            },
            "baxis": {
             "endlinecolor": "#2a3f5f",
             "gridcolor": "white",
             "linecolor": "white",
             "minorgridcolor": "white",
             "startlinecolor": "#2a3f5f"
            },
            "type": "carpet"
           }
          ],
          "choropleth": [
           {
            "colorbar": {
             "outlinewidth": 0,
             "ticks": ""
            },
            "type": "choropleth"
           }
          ],
          "contour": [
           {
            "colorbar": {
             "outlinewidth": 0,
             "ticks": ""
            },
            "colorscale": [
             [
              0,
              "#0d0887"
             ],
             [
              0.1111111111111111,
              "#46039f"
             ],
             [
              0.2222222222222222,
              "#7201a8"
             ],
             [
              0.3333333333333333,
              "#9c179e"
             ],
             [
              0.4444444444444444,
              "#bd3786"
             ],
             [
              0.5555555555555556,
              "#d8576b"
             ],
             [
              0.6666666666666666,
              "#ed7953"
             ],
             [
              0.7777777777777778,
              "#fb9f3a"
             ],
             [
              0.8888888888888888,
              "#fdca26"
             ],
             [
              1,
              "#f0f921"
             ]
            ],
            "type": "contour"
           }
          ],
          "contourcarpet": [
           {
            "colorbar": {
             "outlinewidth": 0,
             "ticks": ""
            },
            "type": "contourcarpet"
           }
          ],
          "heatmap": [
           {
            "colorbar": {
             "outlinewidth": 0,
             "ticks": ""
            },
            "colorscale": [
             [
              0,
              "#0d0887"
             ],
             [
              0.1111111111111111,
              "#46039f"
             ],
             [
              0.2222222222222222,
              "#7201a8"
             ],
             [
              0.3333333333333333,
              "#9c179e"
             ],
             [
              0.4444444444444444,
              "#bd3786"
             ],
             [
              0.5555555555555556,
              "#d8576b"
             ],
             [
              0.6666666666666666,
              "#ed7953"
             ],
             [
              0.7777777777777778,
              "#fb9f3a"
             ],
             [
              0.8888888888888888,
              "#fdca26"
             ],
             [
              1,
              "#f0f921"
             ]
            ],
            "type": "heatmap"
           }
          ],
          "heatmapgl": [
           {
            "colorbar": {
             "outlinewidth": 0,
             "ticks": ""
            },
            "colorscale": [
             [
              0,
              "#0d0887"
             ],
             [
              0.1111111111111111,
              "#46039f"
             ],
             [
              0.2222222222222222,
              "#7201a8"
             ],
             [
              0.3333333333333333,
              "#9c179e"
             ],
             [
              0.4444444444444444,
              "#bd3786"
             ],
             [
              0.5555555555555556,
              "#d8576b"
             ],
             [
              0.6666666666666666,
              "#ed7953"
             ],
             [
              0.7777777777777778,
              "#fb9f3a"
             ],
             [
              0.8888888888888888,
              "#fdca26"
             ],
             [
              1,
              "#f0f921"
             ]
            ],
            "type": "heatmapgl"
           }
          ],
          "histogram": [
           {
            "marker": {
             "pattern": {
              "fillmode": "overlay",
              "size": 10,
              "solidity": 0.2
             }
            },
            "type": "histogram"
           }
          ],
          "histogram2d": [
           {
            "colorbar": {
             "outlinewidth": 0,
             "ticks": ""
            },
            "colorscale": [
             [
              0,
              "#0d0887"
             ],
             [
              0.1111111111111111,
              "#46039f"
             ],
             [
              0.2222222222222222,
              "#7201a8"
             ],
             [
              0.3333333333333333,
              "#9c179e"
             ],
             [
              0.4444444444444444,
              "#bd3786"
             ],
             [
              0.5555555555555556,
              "#d8576b"
             ],
             [
              0.6666666666666666,
              "#ed7953"
             ],
             [
              0.7777777777777778,
              "#fb9f3a"
             ],
             [
              0.8888888888888888,
              "#fdca26"
             ],
             [
              1,
              "#f0f921"
             ]
            ],
            "type": "histogram2d"
           }
          ],
          "histogram2dcontour": [
           {
            "colorbar": {
             "outlinewidth": 0,
             "ticks": ""
            },
            "colorscale": [
             [
              0,
              "#0d0887"
             ],
             [
              0.1111111111111111,
              "#46039f"
             ],
             [
              0.2222222222222222,
              "#7201a8"
             ],
             [
              0.3333333333333333,
              "#9c179e"
             ],
             [
              0.4444444444444444,
              "#bd3786"
             ],
             [
              0.5555555555555556,
              "#d8576b"
             ],
             [
              0.6666666666666666,
              "#ed7953"
             ],
             [
              0.7777777777777778,
              "#fb9f3a"
             ],
             [
              0.8888888888888888,
              "#fdca26"
             ],
             [
              1,
              "#f0f921"
             ]
            ],
            "type": "histogram2dcontour"
           }
          ],
          "mesh3d": [
           {
            "colorbar": {
             "outlinewidth": 0,
             "ticks": ""
            },
            "type": "mesh3d"
           }
          ],
          "parcoords": [
           {
            "line": {
             "colorbar": {
              "outlinewidth": 0,
              "ticks": ""
             }
            },
            "type": "parcoords"
           }
          ],
          "pie": [
           {
            "automargin": true,
            "type": "pie"
           }
          ],
          "scatter": [
           {
            "fillpattern": {
             "fillmode": "overlay",
             "size": 10,
             "solidity": 0.2
            },
            "type": "scatter"
           }
          ],
          "scatter3d": [
           {
            "line": {
             "colorbar": {
              "outlinewidth": 0,
              "ticks": ""
             }
            },
            "marker": {
             "colorbar": {
              "outlinewidth": 0,
              "ticks": ""
             }
            },
            "type": "scatter3d"
           }
          ],
          "scattercarpet": [
           {
            "marker": {
             "colorbar": {
              "outlinewidth": 0,
              "ticks": ""
             }
            },
            "type": "scattercarpet"
           }
          ],
          "scattergeo": [
           {
            "marker": {
             "colorbar": {
              "outlinewidth": 0,
              "ticks": ""
             }
            },
            "type": "scattergeo"
           }
          ],
          "scattergl": [
           {
            "marker": {
             "colorbar": {
              "outlinewidth": 0,
              "ticks": ""
             }
            },
            "type": "scattergl"
           }
          ],
          "scattermapbox": [
           {
            "marker": {
             "colorbar": {
              "outlinewidth": 0,
              "ticks": ""
             }
            },
            "type": "scattermapbox"
           }
          ],
          "scatterpolar": [
           {
            "marker": {
             "colorbar": {
              "outlinewidth": 0,
              "ticks": ""
             }
            },
            "type": "scatterpolar"
           }
          ],
          "scatterpolargl": [
           {
            "marker": {
             "colorbar": {
              "outlinewidth": 0,
              "ticks": ""
             }
            },
            "type": "scatterpolargl"
           }
          ],
          "scatterternary": [
           {
            "marker": {
             "colorbar": {
              "outlinewidth": 0,
              "ticks": ""
             }
            },
            "type": "scatterternary"
           }
          ],
          "surface": [
           {
            "colorbar": {
             "outlinewidth": 0,
             "ticks": ""
            },
            "colorscale": [
             [
              0,
              "#0d0887"
             ],
             [
              0.1111111111111111,
              "#46039f"
             ],
             [
              0.2222222222222222,
              "#7201a8"
             ],
             [
              0.3333333333333333,
              "#9c179e"
             ],
             [
              0.4444444444444444,
              "#bd3786"
             ],
             [
              0.5555555555555556,
              "#d8576b"
             ],
             [
              0.6666666666666666,
              "#ed7953"
             ],
             [
              0.7777777777777778,
              "#fb9f3a"
             ],
             [
              0.8888888888888888,
              "#fdca26"
             ],
             [
              1,
              "#f0f921"
             ]
            ],
            "type": "surface"
           }
          ],
          "table": [
           {
            "cells": {
             "fill": {
              "color": "#EBF0F8"
             },
             "line": {
              "color": "white"
             }
            },
            "header": {
             "fill": {
              "color": "#C8D4E3"
             },
             "line": {
              "color": "white"
             }
            },
            "type": "table"
           }
          ]
         },
         "layout": {
          "annotationdefaults": {
           "arrowcolor": "#2a3f5f",
           "arrowhead": 0,
           "arrowwidth": 1
          },
          "autotypenumbers": "strict",
          "coloraxis": {
           "colorbar": {
            "outlinewidth": 0,
            "ticks": ""
           }
          },
          "colorscale": {
           "diverging": [
            [
             0,
             "#8e0152"
            ],
            [
             0.1,
             "#c51b7d"
            ],
            [
             0.2,
             "#de77ae"
            ],
            [
             0.3,
             "#f1b6da"
            ],
            [
             0.4,
             "#fde0ef"
            ],
            [
             0.5,
             "#f7f7f7"
            ],
            [
             0.6,
             "#e6f5d0"
            ],
            [
             0.7,
             "#b8e186"
            ],
            [
             0.8,
             "#7fbc41"
            ],
            [
             0.9,
             "#4d9221"
            ],
            [
             1,
             "#276419"
            ]
           ],
           "sequential": [
            [
             0,
             "#0d0887"
            ],
            [
             0.1111111111111111,
             "#46039f"
            ],
            [
             0.2222222222222222,
             "#7201a8"
            ],
            [
             0.3333333333333333,
             "#9c179e"
            ],
            [
             0.4444444444444444,
             "#bd3786"
            ],
            [
             0.5555555555555556,
             "#d8576b"
            ],
            [
             0.6666666666666666,
             "#ed7953"
            ],
            [
             0.7777777777777778,
             "#fb9f3a"
            ],
            [
             0.8888888888888888,
             "#fdca26"
            ],
            [
             1,
             "#f0f921"
            ]
           ],
           "sequentialminus": [
            [
             0,
             "#0d0887"
            ],
            [
             0.1111111111111111,
             "#46039f"
            ],
            [
             0.2222222222222222,
             "#7201a8"
            ],
            [
             0.3333333333333333,
             "#9c179e"
            ],
            [
             0.4444444444444444,
             "#bd3786"
            ],
            [
             0.5555555555555556,
             "#d8576b"
            ],
            [
             0.6666666666666666,
             "#ed7953"
            ],
            [
             0.7777777777777778,
             "#fb9f3a"
            ],
            [
             0.8888888888888888,
             "#fdca26"
            ],
            [
             1,
             "#f0f921"
            ]
           ]
          },
          "colorway": [
           "#636efa",
           "#EF553B",
           "#00cc96",
           "#ab63fa",
           "#FFA15A",
           "#19d3f3",
           "#FF6692",
           "#B6E880",
           "#FF97FF",
           "#FECB52"
          ],
          "font": {
           "color": "#2a3f5f"
          },
          "geo": {
           "bgcolor": "white",
           "lakecolor": "white",
           "landcolor": "#E5ECF6",
           "showlakes": true,
           "showland": true,
           "subunitcolor": "white"
          },
          "hoverlabel": {
           "align": "left"
          },
          "hovermode": "closest",
          "mapbox": {
           "style": "light"
          },
          "paper_bgcolor": "white",
          "plot_bgcolor": "#E5ECF6",
          "polar": {
           "angularaxis": {
            "gridcolor": "white",
            "linecolor": "white",
            "ticks": ""
           },
           "bgcolor": "#E5ECF6",
           "radialaxis": {
            "gridcolor": "white",
            "linecolor": "white",
            "ticks": ""
           }
          },
          "scene": {
           "xaxis": {
            "backgroundcolor": "#E5ECF6",
            "gridcolor": "white",
            "gridwidth": 2,
            "linecolor": "white",
            "showbackground": true,
            "ticks": "",
            "zerolinecolor": "white"
           },
           "yaxis": {
            "backgroundcolor": "#E5ECF6",
            "gridcolor": "white",
            "gridwidth": 2,
            "linecolor": "white",
            "showbackground": true,
            "ticks": "",
            "zerolinecolor": "white"
           },
           "zaxis": {
            "backgroundcolor": "#E5ECF6",
            "gridcolor": "white",
            "gridwidth": 2,
            "linecolor": "white",
            "showbackground": true,
            "ticks": "",
            "zerolinecolor": "white"
           }
          },
          "shapedefaults": {
           "line": {
            "color": "#2a3f5f"
           }
          },
          "ternary": {
           "aaxis": {
            "gridcolor": "white",
            "linecolor": "white",
            "ticks": ""
           },
           "baxis": {
            "gridcolor": "white",
            "linecolor": "white",
            "ticks": ""
           },
           "bgcolor": "#E5ECF6",
           "caxis": {
            "gridcolor": "white",
            "linecolor": "white",
            "ticks": ""
           }
          },
          "title": {
           "x": 0.05
          },
          "xaxis": {
           "automargin": true,
           "gridcolor": "white",
           "linecolor": "white",
           "ticks": "",
           "title": {
            "standoff": 15
           },
           "zerolinecolor": "white",
           "zerolinewidth": 2
          },
          "yaxis": {
           "automargin": true,
           "gridcolor": "white",
           "linecolor": "white",
           "ticks": "",
           "title": {
            "standoff": 15
           },
           "zerolinecolor": "white",
           "zerolinewidth": 2
          }
         }
        },
        "title": {
         "text": "Run Time"
        },
        "xaxis": {
         "anchor": "y",
         "domain": [
          0,
          1
         ],
         "title": {
          "text": "run_time_secs"
         }
        },
        "yaxis": {
         "anchor": "x",
         "domain": [
          0,
          1
         ]
        }
       }
      }
     },
     "metadata": {},
     "output_type": "display_data"
    }
   ],
   "source": [
    "px.strip(\n",
    "    runs,\n",
    "    x=\"run_time_secs\",\n",
    "    color=\"run_name\",\n",
    "    hover_name=\"run_id\",\n",
    "    hover_data=runs.columns,\n",
    "    title=\"Run Time\",\n",
    ")"
   ]
  },
  {
   "cell_type": "code",
   "execution_count": 15,
   "metadata": {},
   "outputs": [
    {
     "data": {
      "application/vnd.plotly.v1+json": {
       "config": {
        "plotlyServerURL": "https://plot.ly"
       },
       "data": [
        {
         "alignmentgroup": "True",
         "hovertemplate": "estimator_class=%{x}<br>count=%{y}<extra></extra>",
         "legendgroup": "",
         "marker": {
          "color": "#636efa",
          "pattern": {
           "shape": ""
          }
         },
         "name": "",
         "offsetgroup": "",
         "orientation": "v",
         "showlegend": false,
         "textposition": "auto",
         "type": "bar",
         "x": [
          null,
          null,
          null,
          null,
          "sklearn.pipeline.Pipeline",
          "bikes.core.models.BaselineSklearnModel",
          "bikes.core.models.BaselineSklearnModel",
          "sklearn.model_selection._search.GridSearchCV",
          "bikes.core.models.BaselineSklearnModel",
          null,
          null,
          null,
          null,
          "sklearn.pipeline.Pipeline",
          "bikes.core.models.BaselineSklearnModel",
          "sklearn.model_selection._search.GridSearchCV",
          "bikes.core.models.BaselineSklearnModel",
          "bikes.core.models.BaselineSklearnModel",
          null,
          null,
          null,
          null,
          "sklearn.pipeline.Pipeline",
          "bikes.core.models.BaselineSklearnModel",
          "bikes.core.models.BaselineSklearnModel",
          "sklearn.model_selection._search.GridSearchCV",
          "bikes.core.models.BaselineSklearnModel"
         ],
         "xaxis": "x",
         "y": [
          1,
          1,
          1,
          1,
          1,
          1,
          1,
          1,
          1,
          1,
          1,
          1,
          1,
          1,
          1,
          1,
          1,
          1,
          1,
          1,
          1,
          1,
          1,
          1,
          1,
          1,
          1
         ],
         "yaxis": "y"
        }
       ],
       "layout": {
        "barmode": "relative",
        "legend": {
         "tracegroupgap": 0
        },
        "template": {
         "data": {
          "bar": [
           {
            "error_x": {
             "color": "#2a3f5f"
            },
            "error_y": {
             "color": "#2a3f5f"
            },
            "marker": {
             "line": {
              "color": "#E5ECF6",
              "width": 0.5
             },
             "pattern": {
              "fillmode": "overlay",
              "size": 10,
              "solidity": 0.2
             }
            },
            "type": "bar"
           }
          ],
          "barpolar": [
           {
            "marker": {
             "line": {
              "color": "#E5ECF6",
              "width": 0.5
             },
             "pattern": {
              "fillmode": "overlay",
              "size": 10,
              "solidity": 0.2
             }
            },
            "type": "barpolar"
           }
          ],
          "carpet": [
           {
            "aaxis": {
             "endlinecolor": "#2a3f5f",
             "gridcolor": "white",
             "linecolor": "white",
             "minorgridcolor": "white",
             "startlinecolor": "#2a3f5f"
            },
            "baxis": {
             "endlinecolor": "#2a3f5f",
             "gridcolor": "white",
             "linecolor": "white",
             "minorgridcolor": "white",
             "startlinecolor": "#2a3f5f"
            },
            "type": "carpet"
           }
          ],
          "choropleth": [
           {
            "colorbar": {
             "outlinewidth": 0,
             "ticks": ""
            },
            "type": "choropleth"
           }
          ],
          "contour": [
           {
            "colorbar": {
             "outlinewidth": 0,
             "ticks": ""
            },
            "colorscale": [
             [
              0,
              "#0d0887"
             ],
             [
              0.1111111111111111,
              "#46039f"
             ],
             [
              0.2222222222222222,
              "#7201a8"
             ],
             [
              0.3333333333333333,
              "#9c179e"
             ],
             [
              0.4444444444444444,
              "#bd3786"
             ],
             [
              0.5555555555555556,
              "#d8576b"
             ],
             [
              0.6666666666666666,
              "#ed7953"
             ],
             [
              0.7777777777777778,
              "#fb9f3a"
             ],
             [
              0.8888888888888888,
              "#fdca26"
             ],
             [
              1,
              "#f0f921"
             ]
            ],
            "type": "contour"
           }
          ],
          "contourcarpet": [
           {
            "colorbar": {
             "outlinewidth": 0,
             "ticks": ""
            },
            "type": "contourcarpet"
           }
          ],
          "heatmap": [
           {
            "colorbar": {
             "outlinewidth": 0,
             "ticks": ""
            },
            "colorscale": [
             [
              0,
              "#0d0887"
             ],
             [
              0.1111111111111111,
              "#46039f"
             ],
             [
              0.2222222222222222,
              "#7201a8"
             ],
             [
              0.3333333333333333,
              "#9c179e"
             ],
             [
              0.4444444444444444,
              "#bd3786"
             ],
             [
              0.5555555555555556,
              "#d8576b"
             ],
             [
              0.6666666666666666,
              "#ed7953"
             ],
             [
              0.7777777777777778,
              "#fb9f3a"
             ],
             [
              0.8888888888888888,
              "#fdca26"
             ],
             [
              1,
              "#f0f921"
             ]
            ],
            "type": "heatmap"
           }
          ],
          "heatmapgl": [
           {
            "colorbar": {
             "outlinewidth": 0,
             "ticks": ""
            },
            "colorscale": [
             [
              0,
              "#0d0887"
             ],
             [
              0.1111111111111111,
              "#46039f"
             ],
             [
              0.2222222222222222,
              "#7201a8"
             ],
             [
              0.3333333333333333,
              "#9c179e"
             ],
             [
              0.4444444444444444,
              "#bd3786"
             ],
             [
              0.5555555555555556,
              "#d8576b"
             ],
             [
              0.6666666666666666,
              "#ed7953"
             ],
             [
              0.7777777777777778,
              "#fb9f3a"
             ],
             [
              0.8888888888888888,
              "#fdca26"
             ],
             [
              1,
              "#f0f921"
             ]
            ],
            "type": "heatmapgl"
           }
          ],
          "histogram": [
           {
            "marker": {
             "pattern": {
              "fillmode": "overlay",
              "size": 10,
              "solidity": 0.2
             }
            },
            "type": "histogram"
           }
          ],
          "histogram2d": [
           {
            "colorbar": {
             "outlinewidth": 0,
             "ticks": ""
            },
            "colorscale": [
             [
              0,
              "#0d0887"
             ],
             [
              0.1111111111111111,
              "#46039f"
             ],
             [
              0.2222222222222222,
              "#7201a8"
             ],
             [
              0.3333333333333333,
              "#9c179e"
             ],
             [
              0.4444444444444444,
              "#bd3786"
             ],
             [
              0.5555555555555556,
              "#d8576b"
             ],
             [
              0.6666666666666666,
              "#ed7953"
             ],
             [
              0.7777777777777778,
              "#fb9f3a"
             ],
             [
              0.8888888888888888,
              "#fdca26"
             ],
             [
              1,
              "#f0f921"
             ]
            ],
            "type": "histogram2d"
           }
          ],
          "histogram2dcontour": [
           {
            "colorbar": {
             "outlinewidth": 0,
             "ticks": ""
            },
            "colorscale": [
             [
              0,
              "#0d0887"
             ],
             [
              0.1111111111111111,
              "#46039f"
             ],
             [
              0.2222222222222222,
              "#7201a8"
             ],
             [
              0.3333333333333333,
              "#9c179e"
             ],
             [
              0.4444444444444444,
              "#bd3786"
             ],
             [
              0.5555555555555556,
              "#d8576b"
             ],
             [
              0.6666666666666666,
              "#ed7953"
             ],
             [
              0.7777777777777778,
              "#fb9f3a"
             ],
             [
              0.8888888888888888,
              "#fdca26"
             ],
             [
              1,
              "#f0f921"
             ]
            ],
            "type": "histogram2dcontour"
           }
          ],
          "mesh3d": [
           {
            "colorbar": {
             "outlinewidth": 0,
             "ticks": ""
            },
            "type": "mesh3d"
           }
          ],
          "parcoords": [
           {
            "line": {
             "colorbar": {
              "outlinewidth": 0,
              "ticks": ""
             }
            },
            "type": "parcoords"
           }
          ],
          "pie": [
           {
            "automargin": true,
            "type": "pie"
           }
          ],
          "scatter": [
           {
            "fillpattern": {
             "fillmode": "overlay",
             "size": 10,
             "solidity": 0.2
            },
            "type": "scatter"
           }
          ],
          "scatter3d": [
           {
            "line": {
             "colorbar": {
              "outlinewidth": 0,
              "ticks": ""
             }
            },
            "marker": {
             "colorbar": {
              "outlinewidth": 0,
              "ticks": ""
             }
            },
            "type": "scatter3d"
           }
          ],
          "scattercarpet": [
           {
            "marker": {
             "colorbar": {
              "outlinewidth": 0,
              "ticks": ""
             }
            },
            "type": "scattercarpet"
           }
          ],
          "scattergeo": [
           {
            "marker": {
             "colorbar": {
              "outlinewidth": 0,
              "ticks": ""
             }
            },
            "type": "scattergeo"
           }
          ],
          "scattergl": [
           {
            "marker": {
             "colorbar": {
              "outlinewidth": 0,
              "ticks": ""
             }
            },
            "type": "scattergl"
           }
          ],
          "scattermapbox": [
           {
            "marker": {
             "colorbar": {
              "outlinewidth": 0,
              "ticks": ""
             }
            },
            "type": "scattermapbox"
           }
          ],
          "scatterpolar": [
           {
            "marker": {
             "colorbar": {
              "outlinewidth": 0,
              "ticks": ""
             }
            },
            "type": "scatterpolar"
           }
          ],
          "scatterpolargl": [
           {
            "marker": {
             "colorbar": {
              "outlinewidth": 0,
              "ticks": ""
             }
            },
            "type": "scatterpolargl"
           }
          ],
          "scatterternary": [
           {
            "marker": {
             "colorbar": {
              "outlinewidth": 0,
              "ticks": ""
             }
            },
            "type": "scatterternary"
           }
          ],
          "surface": [
           {
            "colorbar": {
             "outlinewidth": 0,
             "ticks": ""
            },
            "colorscale": [
             [
              0,
              "#0d0887"
             ],
             [
              0.1111111111111111,
              "#46039f"
             ],
             [
              0.2222222222222222,
              "#7201a8"
             ],
             [
              0.3333333333333333,
              "#9c179e"
             ],
             [
              0.4444444444444444,
              "#bd3786"
             ],
             [
              0.5555555555555556,
              "#d8576b"
             ],
             [
              0.6666666666666666,
              "#ed7953"
             ],
             [
              0.7777777777777778,
              "#fb9f3a"
             ],
             [
              0.8888888888888888,
              "#fdca26"
             ],
             [
              1,
              "#f0f921"
             ]
            ],
            "type": "surface"
           }
          ],
          "table": [
           {
            "cells": {
             "fill": {
              "color": "#EBF0F8"
             },
             "line": {
              "color": "white"
             }
            },
            "header": {
             "fill": {
              "color": "#C8D4E3"
             },
             "line": {
              "color": "white"
             }
            },
            "type": "table"
           }
          ]
         },
         "layout": {
          "annotationdefaults": {
           "arrowcolor": "#2a3f5f",
           "arrowhead": 0,
           "arrowwidth": 1
          },
          "autotypenumbers": "strict",
          "coloraxis": {
           "colorbar": {
            "outlinewidth": 0,
            "ticks": ""
           }
          },
          "colorscale": {
           "diverging": [
            [
             0,
             "#8e0152"
            ],
            [
             0.1,
             "#c51b7d"
            ],
            [
             0.2,
             "#de77ae"
            ],
            [
             0.3,
             "#f1b6da"
            ],
            [
             0.4,
             "#fde0ef"
            ],
            [
             0.5,
             "#f7f7f7"
            ],
            [
             0.6,
             "#e6f5d0"
            ],
            [
             0.7,
             "#b8e186"
            ],
            [
             0.8,
             "#7fbc41"
            ],
            [
             0.9,
             "#4d9221"
            ],
            [
             1,
             "#276419"
            ]
           ],
           "sequential": [
            [
             0,
             "#0d0887"
            ],
            [
             0.1111111111111111,
             "#46039f"
            ],
            [
             0.2222222222222222,
             "#7201a8"
            ],
            [
             0.3333333333333333,
             "#9c179e"
            ],
            [
             0.4444444444444444,
             "#bd3786"
            ],
            [
             0.5555555555555556,
             "#d8576b"
            ],
            [
             0.6666666666666666,
             "#ed7953"
            ],
            [
             0.7777777777777778,
             "#fb9f3a"
            ],
            [
             0.8888888888888888,
             "#fdca26"
            ],
            [
             1,
             "#f0f921"
            ]
           ],
           "sequentialminus": [
            [
             0,
             "#0d0887"
            ],
            [
             0.1111111111111111,
             "#46039f"
            ],
            [
             0.2222222222222222,
             "#7201a8"
            ],
            [
             0.3333333333333333,
             "#9c179e"
            ],
            [
             0.4444444444444444,
             "#bd3786"
            ],
            [
             0.5555555555555556,
             "#d8576b"
            ],
            [
             0.6666666666666666,
             "#ed7953"
            ],
            [
             0.7777777777777778,
             "#fb9f3a"
            ],
            [
             0.8888888888888888,
             "#fdca26"
            ],
            [
             1,
             "#f0f921"
            ]
           ]
          },
          "colorway": [
           "#636efa",
           "#EF553B",
           "#00cc96",
           "#ab63fa",
           "#FFA15A",
           "#19d3f3",
           "#FF6692",
           "#B6E880",
           "#FF97FF",
           "#FECB52"
          ],
          "font": {
           "color": "#2a3f5f"
          },
          "geo": {
           "bgcolor": "white",
           "lakecolor": "white",
           "landcolor": "#E5ECF6",
           "showlakes": true,
           "showland": true,
           "subunitcolor": "white"
          },
          "hoverlabel": {
           "align": "left"
          },
          "hovermode": "closest",
          "mapbox": {
           "style": "light"
          },
          "paper_bgcolor": "white",
          "plot_bgcolor": "#E5ECF6",
          "polar": {
           "angularaxis": {
            "gridcolor": "white",
            "linecolor": "white",
            "ticks": ""
           },
           "bgcolor": "#E5ECF6",
           "radialaxis": {
            "gridcolor": "white",
            "linecolor": "white",
            "ticks": ""
           }
          },
          "scene": {
           "xaxis": {
            "backgroundcolor": "#E5ECF6",
            "gridcolor": "white",
            "gridwidth": 2,
            "linecolor": "white",
            "showbackground": true,
            "ticks": "",
            "zerolinecolor": "white"
           },
           "yaxis": {
            "backgroundcolor": "#E5ECF6",
            "gridcolor": "white",
            "gridwidth": 2,
            "linecolor": "white",
            "showbackground": true,
            "ticks": "",
            "zerolinecolor": "white"
           },
           "zaxis": {
            "backgroundcolor": "#E5ECF6",
            "gridcolor": "white",
            "gridwidth": 2,
            "linecolor": "white",
            "showbackground": true,
            "ticks": "",
            "zerolinecolor": "white"
           }
          },
          "shapedefaults": {
           "line": {
            "color": "#2a3f5f"
           }
          },
          "ternary": {
           "aaxis": {
            "gridcolor": "white",
            "linecolor": "white",
            "ticks": ""
           },
           "baxis": {
            "gridcolor": "white",
            "linecolor": "white",
            "ticks": ""
           },
           "bgcolor": "#E5ECF6",
           "caxis": {
            "gridcolor": "white",
            "linecolor": "white",
            "ticks": ""
           }
          },
          "title": {
           "x": 0.05
          },
          "xaxis": {
           "automargin": true,
           "gridcolor": "white",
           "linecolor": "white",
           "ticks": "",
           "title": {
            "standoff": 15
           },
           "zerolinecolor": "white",
           "zerolinewidth": 2
          },
          "yaxis": {
           "automargin": true,
           "gridcolor": "white",
           "linecolor": "white",
           "ticks": "",
           "title": {
            "standoff": 15
           },
           "zerolinecolor": "white",
           "zerolinewidth": 2
          }
         }
        },
        "title": {
         "text": "Run Estimator Class Distribution"
        },
        "xaxis": {
         "anchor": "y",
         "domain": [
          0,
          1
         ],
         "title": {
          "text": "estimator_class"
         }
        },
        "yaxis": {
         "anchor": "x",
         "domain": [
          0,
          1
         ],
         "title": {
          "text": "count"
         }
        }
       }
      }
     },
     "metadata": {},
     "output_type": "display_data"
    }
   ],
   "source": [
    "px.bar(runs, x=\"estimator_class\", title=\"Run Estimator Class Distribution\")"
   ]
  }
 ],
 "metadata": {
  "kernelspec": {
   "display_name": ".venv",
   "language": "python",
   "name": "python3"
  },
  "language_info": {
   "codemirror_mode": {
    "name": "ipython",
    "version": 3
   },
   "file_extension": ".py",
   "mimetype": "text/x-python",
   "name": "python",
   "nbconvert_exporter": "python",
   "pygments_lexer": "ipython3",
   "version": "3.12.5"
  }
 },
 "nbformat": 4,
 "nbformat_minor": 2
}
