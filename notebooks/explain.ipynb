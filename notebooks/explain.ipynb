{
 "cells": [
  {
   "cell_type": "markdown",
   "metadata": {},
   "source": [
    "**Analyze model and sample explanations from feature importances and SHAP values.**"
   ]
  },
  {
   "cell_type": "markdown",
   "metadata": {},
   "source": [
    "# IMPORTS"
   ]
  },
  {
   "cell_type": "code",
   "execution_count": 1,
   "metadata": {},
   "outputs": [
    {
     "name": "stderr",
     "output_type": "stream",
     "text": [
      "/home/fmind/mlops-python-package/.venv/lib/python3.12/site-packages/tqdm/auto.py:21: TqdmWarning: IProgress not found. Please update jupyter and ipywidgets. See https://ipywidgets.readthedocs.io/en/stable/user_install.html\n",
      "  from .autonotebook import tqdm as notebook_tqdm\n"
     ]
    }
   ],
   "source": [
    "import shap\n",
    "import pandas as pd\n",
    "import plotly.express as px"
   ]
  },
  {
   "cell_type": "markdown",
   "metadata": {},
   "source": [
    "# CONFIGS"
   ]
  },
  {
   "cell_type": "code",
   "execution_count": 2,
   "metadata": {},
   "outputs": [],
   "source": [
    "# note: you must run the explanations job first to generate the output\n",
    "MODELS_EXPLANATIONS = '../outputs/models_explanations.parquet'\n",
    "SAMPLES_EXPLANATIONS = '../outputs/samples_explanations.parquet'"
   ]
  },
  {
   "cell_type": "markdown",
   "metadata": {},
   "source": [
    "# DATASETS"
   ]
  },
  {
   "cell_type": "code",
   "execution_count": 3,
   "metadata": {},
   "outputs": [
    {
     "name": "stdout",
     "output_type": "stream",
     "text": [
      "(19, 2)\n"
     ]
    },
    {
     "data": {
      "text/html": [
       "<div>\n",
       "<style scoped>\n",
       "    .dataframe tbody tr th:only-of-type {\n",
       "        vertical-align: middle;\n",
       "    }\n",
       "\n",
       "    .dataframe tbody tr th {\n",
       "        vertical-align: top;\n",
       "    }\n",
       "\n",
       "    .dataframe thead th {\n",
       "        text-align: right;\n",
       "    }\n",
       "</style>\n",
       "<table border=\"1\" class=\"dataframe\">\n",
       "  <thead>\n",
       "    <tr style=\"text-align: right;\">\n",
       "      <th></th>\n",
       "      <th>feature</th>\n",
       "      <th>importance</th>\n",
       "    </tr>\n",
       "  </thead>\n",
       "  <tbody>\n",
       "    <tr>\n",
       "      <th>18</th>\n",
       "      <td>numericals__casual</td>\n",
       "      <td>0.579146</td>\n",
       "    </tr>\n",
       "    <tr>\n",
       "      <th>10</th>\n",
       "      <td>numericals__hr</td>\n",
       "      <td>0.250726</td>\n",
       "    </tr>\n",
       "    <tr>\n",
       "      <th>13</th>\n",
       "      <td>numericals__workingday</td>\n",
       "      <td>0.078542</td>\n",
       "    </tr>\n",
       "    <tr>\n",
       "      <th>8</th>\n",
       "      <td>numericals__yr</td>\n",
       "      <td>0.038600</td>\n",
       "    </tr>\n",
       "    <tr>\n",
       "      <th>9</th>\n",
       "      <td>numericals__mnth</td>\n",
       "      <td>0.012079</td>\n",
       "    </tr>\n",
       "  </tbody>\n",
       "</table>\n",
       "</div>"
      ],
      "text/plain": [
       "                   feature  importance\n",
       "18      numericals__casual    0.579146\n",
       "10          numericals__hr    0.250726\n",
       "13  numericals__workingday    0.078542\n",
       "8           numericals__yr    0.038600\n",
       "9         numericals__mnth    0.012079"
      ]
     },
     "execution_count": 3,
     "metadata": {},
     "output_type": "execute_result"
    }
   ],
   "source": [
    "models_explanations = pd.read_parquet(MODELS_EXPLANATIONS).sort_values(\n",
    "    \"importance\", ascending=False\n",
    ")\n",
    "print(models_explanations.shape)\n",
    "models_explanations.head()"
   ]
  },
  {
   "cell_type": "code",
   "execution_count": 4,
   "metadata": {},
   "outputs": [
    {
     "name": "stdout",
     "output_type": "stream",
     "text": [
      "(100, 19)\n"
     ]
    },
    {
     "data": {
      "text/html": [
       "<div>\n",
       "<style scoped>\n",
       "    .dataframe tbody tr th:only-of-type {\n",
       "        vertical-align: middle;\n",
       "    }\n",
       "\n",
       "    .dataframe tbody tr th {\n",
       "        vertical-align: top;\n",
       "    }\n",
       "\n",
       "    .dataframe thead th {\n",
       "        text-align: right;\n",
       "    }\n",
       "</style>\n",
       "<table border=\"1\" class=\"dataframe\">\n",
       "  <thead>\n",
       "    <tr style=\"text-align: right;\">\n",
       "      <th></th>\n",
       "      <th>categoricals__season_1</th>\n",
       "      <th>categoricals__season_2</th>\n",
       "      <th>categoricals__season_3</th>\n",
       "      <th>categoricals__season_4</th>\n",
       "      <th>categoricals__weathersit_1</th>\n",
       "      <th>categoricals__weathersit_2</th>\n",
       "      <th>categoricals__weathersit_3</th>\n",
       "      <th>categoricals__weathersit_4</th>\n",
       "      <th>numericals__yr</th>\n",
       "      <th>numericals__mnth</th>\n",
       "      <th>numericals__hr</th>\n",
       "      <th>numericals__holiday</th>\n",
       "      <th>numericals__weekday</th>\n",
       "      <th>numericals__workingday</th>\n",
       "      <th>numericals__temp</th>\n",
       "      <th>numericals__atemp</th>\n",
       "      <th>numericals__hum</th>\n",
       "      <th>numericals__windspeed</th>\n",
       "      <th>numericals__casual</th>\n",
       "    </tr>\n",
       "  </thead>\n",
       "  <tbody>\n",
       "    <tr>\n",
       "      <th>0</th>\n",
       "      <td>0.169155</td>\n",
       "      <td>-0.124650</td>\n",
       "      <td>-0.203503</td>\n",
       "      <td>-0.758982</td>\n",
       "      <td>-1.474484</td>\n",
       "      <td>-1.076349</td>\n",
       "      <td>0.801956</td>\n",
       "      <td>0.000513</td>\n",
       "      <td>31.495134</td>\n",
       "      <td>2.905728</td>\n",
       "      <td>-74.036369</td>\n",
       "      <td>-0.019947</td>\n",
       "      <td>-7.118968</td>\n",
       "      <td>18.640795</td>\n",
       "      <td>2.613896</td>\n",
       "      <td>1.898717</td>\n",
       "      <td>-1.322058</td>\n",
       "      <td>-0.210363</td>\n",
       "      <td>147.338089</td>\n",
       "    </tr>\n",
       "    <tr>\n",
       "      <th>1</th>\n",
       "      <td>0.142295</td>\n",
       "      <td>-0.242301</td>\n",
       "      <td>-0.061819</td>\n",
       "      <td>-0.650959</td>\n",
       "      <td>-1.001739</td>\n",
       "      <td>-0.523719</td>\n",
       "      <td>0.824141</td>\n",
       "      <td>0.000501</td>\n",
       "      <td>32.251492</td>\n",
       "      <td>2.752874</td>\n",
       "      <td>-68.468292</td>\n",
       "      <td>-0.037579</td>\n",
       "      <td>-4.272335</td>\n",
       "      <td>19.723166</td>\n",
       "      <td>1.812452</td>\n",
       "      <td>1.462143</td>\n",
       "      <td>0.369532</td>\n",
       "      <td>0.374412</td>\n",
       "      <td>117.786423</td>\n",
       "    </tr>\n",
       "    <tr>\n",
       "      <th>2</th>\n",
       "      <td>0.168699</td>\n",
       "      <td>-0.173419</td>\n",
       "      <td>-0.054359</td>\n",
       "      <td>-0.723623</td>\n",
       "      <td>-1.554552</td>\n",
       "      <td>-1.033979</td>\n",
       "      <td>0.762942</td>\n",
       "      <td>0.000534</td>\n",
       "      <td>32.245430</td>\n",
       "      <td>3.195950</td>\n",
       "      <td>-82.515167</td>\n",
       "      <td>0.009938</td>\n",
       "      <td>-2.856529</td>\n",
       "      <td>19.824303</td>\n",
       "      <td>1.498975</td>\n",
       "      <td>2.046780</td>\n",
       "      <td>1.559438</td>\n",
       "      <td>2.603706</td>\n",
       "      <td>127.694664</td>\n",
       "    </tr>\n",
       "    <tr>\n",
       "      <th>3</th>\n",
       "      <td>0.253636</td>\n",
       "      <td>-0.791483</td>\n",
       "      <td>-0.218226</td>\n",
       "      <td>-0.612611</td>\n",
       "      <td>0.499581</td>\n",
       "      <td>0.039798</td>\n",
       "      <td>0.778988</td>\n",
       "      <td>0.000518</td>\n",
       "      <td>30.905354</td>\n",
       "      <td>2.808645</td>\n",
       "      <td>-70.180222</td>\n",
       "      <td>0.097680</td>\n",
       "      <td>-6.699857</td>\n",
       "      <td>19.206472</td>\n",
       "      <td>4.468694</td>\n",
       "      <td>7.614378</td>\n",
       "      <td>-0.776883</td>\n",
       "      <td>1.582501</td>\n",
       "      <td>180.403839</td>\n",
       "    </tr>\n",
       "    <tr>\n",
       "      <th>4</th>\n",
       "      <td>0.130902</td>\n",
       "      <td>-0.788029</td>\n",
       "      <td>-0.395371</td>\n",
       "      <td>-0.614574</td>\n",
       "      <td>-1.558409</td>\n",
       "      <td>0.111731</td>\n",
       "      <td>-3.927900</td>\n",
       "      <td>0.000904</td>\n",
       "      <td>47.191067</td>\n",
       "      <td>6.631704</td>\n",
       "      <td>-4.315243</td>\n",
       "      <td>0.029141</td>\n",
       "      <td>-0.157620</td>\n",
       "      <td>29.401426</td>\n",
       "      <td>4.704289</td>\n",
       "      <td>4.135256</td>\n",
       "      <td>-3.774523</td>\n",
       "      <td>0.583940</td>\n",
       "      <td>202.349609</td>\n",
       "    </tr>\n",
       "  </tbody>\n",
       "</table>\n",
       "</div>"
      ],
      "text/plain": [
       "   categoricals__season_1  categoricals__season_2  categoricals__season_3  \\\n",
       "0                0.169155               -0.124650               -0.203503   \n",
       "1                0.142295               -0.242301               -0.061819   \n",
       "2                0.168699               -0.173419               -0.054359   \n",
       "3                0.253636               -0.791483               -0.218226   \n",
       "4                0.130902               -0.788029               -0.395371   \n",
       "\n",
       "   categoricals__season_4  categoricals__weathersit_1  \\\n",
       "0               -0.758982                   -1.474484   \n",
       "1               -0.650959                   -1.001739   \n",
       "2               -0.723623                   -1.554552   \n",
       "3               -0.612611                    0.499581   \n",
       "4               -0.614574                   -1.558409   \n",
       "\n",
       "   categoricals__weathersit_2  categoricals__weathersit_3  \\\n",
       "0                   -1.076349                    0.801956   \n",
       "1                   -0.523719                    0.824141   \n",
       "2                   -1.033979                    0.762942   \n",
       "3                    0.039798                    0.778988   \n",
       "4                    0.111731                   -3.927900   \n",
       "\n",
       "   categoricals__weathersit_4  numericals__yr  numericals__mnth  \\\n",
       "0                    0.000513       31.495134          2.905728   \n",
       "1                    0.000501       32.251492          2.752874   \n",
       "2                    0.000534       32.245430          3.195950   \n",
       "3                    0.000518       30.905354          2.808645   \n",
       "4                    0.000904       47.191067          6.631704   \n",
       "\n",
       "   numericals__hr  numericals__holiday  numericals__weekday  \\\n",
       "0      -74.036369            -0.019947            -7.118968   \n",
       "1      -68.468292            -0.037579            -4.272335   \n",
       "2      -82.515167             0.009938            -2.856529   \n",
       "3      -70.180222             0.097680            -6.699857   \n",
       "4       -4.315243             0.029141            -0.157620   \n",
       "\n",
       "   numericals__workingday  numericals__temp  numericals__atemp  \\\n",
       "0               18.640795          2.613896           1.898717   \n",
       "1               19.723166          1.812452           1.462143   \n",
       "2               19.824303          1.498975           2.046780   \n",
       "3               19.206472          4.468694           7.614378   \n",
       "4               29.401426          4.704289           4.135256   \n",
       "\n",
       "   numericals__hum  numericals__windspeed  numericals__casual  \n",
       "0        -1.322058              -0.210363          147.338089  \n",
       "1         0.369532               0.374412          117.786423  \n",
       "2         1.559438               2.603706          127.694664  \n",
       "3        -0.776883               1.582501          180.403839  \n",
       "4        -3.774523               0.583940          202.349609  "
      ]
     },
     "execution_count": 4,
     "metadata": {},
     "output_type": "execute_result"
    }
   ],
   "source": [
    "samples_explanations = pd.read_parquet(SAMPLES_EXPLANATIONS)\n",
    "print(samples_explanations.shape)\n",
    "samples_explanations.head()"
   ]
  },
  {
   "cell_type": "code",
   "execution_count": 5,
   "metadata": {},
   "outputs": [
    {
     "data": {
      "text/plain": [
       ".values =\n",
       "    categoricals__season_1  categoricals__season_2  categoricals__season_3  \\\n",
       "0                 0.169155               -0.124650               -0.203503   \n",
       "1                 0.142295               -0.242301               -0.061819   \n",
       "2                 0.168699               -0.173419               -0.054359   \n",
       "3                 0.253636               -0.791483               -0.218226   \n",
       "4                 0.130902               -0.788029               -0.395371   \n",
       "..                     ...                     ...                     ...   \n",
       "95                0.032898                0.004389               -0.022684   \n",
       "96               -0.039833               -0.035329               -0.022280   \n",
       "97               -0.029910               -0.054200               -0.015400   \n",
       "98                0.002795               -0.055408               -0.033671   \n",
       "99                0.001024               -0.061020               -0.034896   \n",
       "\n",
       "    categoricals__season_4  categoricals__weathersit_1  \\\n",
       "0                -0.758982                   -1.474484   \n",
       "1                -0.650959                   -1.001739   \n",
       "2                -0.723623                   -1.554552   \n",
       "3                -0.612611                    0.499581   \n",
       "4                -0.614574                   -1.558409   \n",
       "..                     ...                         ...   \n",
       "95               -0.615178                    0.264237   \n",
       "96               -0.627357                    0.463110   \n",
       "97               -0.607787                    0.455338   \n",
       "98               -0.623416                    0.560994   \n",
       "99               -0.625861                    0.542756   \n",
       "\n",
       "    categoricals__weathersit_2  categoricals__weathersit_3  \\\n",
       "0                    -1.076349                    0.801956   \n",
       "1                    -0.523719                    0.824141   \n",
       "2                    -1.033979                    0.762942   \n",
       "3                     0.039798                    0.778988   \n",
       "4                     0.111731                   -3.927900   \n",
       "..                         ...                         ...   \n",
       "95                   -0.054727                    0.568837   \n",
       "96                   -0.015223                    0.565861   \n",
       "97                    0.003094                    0.551169   \n",
       "98                    0.020387                    0.537736   \n",
       "99                    0.013132                    0.532625   \n",
       "\n",
       "    categoricals__weathersit_4  numericals__yr  numericals__mnth  \\\n",
       "0                     0.000513       31.495134          2.905728   \n",
       "1                     0.000501       32.251492          2.752874   \n",
       "2                     0.000534       32.245430          3.195950   \n",
       "3                     0.000518       30.905354          2.808645   \n",
       "4                     0.000904       47.191067          6.631704   \n",
       "..                         ...             ...               ...   \n",
       "95                    0.000399       40.124039          6.724072   \n",
       "96                    0.000403       35.804981         20.436369   \n",
       "97                    0.000411       32.999043         26.067795   \n",
       "98                    0.000392       32.314198         23.293106   \n",
       "99                    0.000388       32.588284         24.576950   \n",
       "\n",
       "    numericals__hr  numericals__holiday  numericals__weekday  \\\n",
       "0       -74.036369            -0.019947            -7.118968   \n",
       "1       -68.468292            -0.037579            -4.272335   \n",
       "2       -82.515167             0.009938            -2.856529   \n",
       "3       -70.180222             0.097680            -6.699857   \n",
       "4        -4.315243             0.029141            -0.157620   \n",
       "..             ...                  ...                  ...   \n",
       "95       -3.901324             0.138933             0.979801   \n",
       "96        4.877304            -0.027108             2.595324   \n",
       "97        5.580533            -0.012089             2.779204   \n",
       "98        1.114409             0.254242             2.357220   \n",
       "99        1.200160             0.254306             2.411582   \n",
       "\n",
       "    numericals__workingday  numericals__temp  numericals__atemp  \\\n",
       "0                18.640795          2.613896           1.898717   \n",
       "1                19.723166          1.812452           1.462143   \n",
       "2                19.824303          1.498975           2.046780   \n",
       "3                19.206472          4.468694           7.614378   \n",
       "4                29.401426          4.704289           4.135256   \n",
       "..                     ...               ...                ...   \n",
       "95              -21.420794         -1.613000          -4.774735   \n",
       "96              -20.015820         -0.422287          -6.170654   \n",
       "97              -19.195932         -3.357377          -8.327322   \n",
       "98              -18.854221         -0.914422         -15.955507   \n",
       "99              -19.075937         -1.693157         -12.839770   \n",
       "\n",
       "    numericals__hum  numericals__windspeed  numericals__casual  \n",
       "0         -1.322058              -0.210363          147.338089  \n",
       "1          0.369532               0.374412          117.786423  \n",
       "2          1.559438               2.603706          127.694664  \n",
       "3         -0.776883               1.582501          180.403839  \n",
       "4         -3.774523               0.583940          202.349609  \n",
       "..              ...                    ...                 ...  \n",
       "95        -2.793116               1.410505          319.295746  \n",
       "96        -1.366720              -0.086119          363.113678  \n",
       "97         1.297852               0.499207          374.674683  \n",
       "98         1.504436              -0.023106          381.828125  \n",
       "99         3.381457              -0.181553          378.957825  \n",
       "\n",
       "[100 rows x 19 columns]"
      ]
     },
     "execution_count": 5,
     "metadata": {},
     "output_type": "execute_result"
    }
   ],
   "source": [
    "shap_values = shap.Explanation(samples_explanations, feature_names=samples_explanations.columns.to_list())\n",
    "shap_values.feature_names\n",
    "shap_values"
   ]
  },
  {
   "cell_type": "markdown",
   "metadata": {},
   "source": [
    "# EXPLANATIONS"
   ]
  },
  {
   "cell_type": "markdown",
   "metadata": {},
   "source": [
    "## Model"
   ]
  },
  {
   "cell_type": "code",
   "execution_count": 6,
   "metadata": {},
   "outputs": [
    {
     "data": {
      "application/vnd.plotly.v1+json": {
       "config": {
        "plotlyServerURL": "https://plot.ly"
       },
       "data": [
        {
         "alignmentgroup": "True",
         "hovertemplate": "feature=%{x}<br>importance=%{y}<extra></extra>",
         "legendgroup": "",
         "marker": {
          "color": "#636efa",
          "pattern": {
           "shape": ""
          }
         },
         "name": "",
         "offsetgroup": "",
         "orientation": "v",
         "showlegend": false,
         "textposition": "auto",
         "type": "bar",
         "x": [
          "numericals__casual",
          "numericals__hr",
          "numericals__workingday",
          "numericals__yr",
          "numericals__mnth",
          "numericals__hum",
          "numericals__atemp",
          "numericals__temp",
          "numericals__weekday",
          "numericals__windspeed",
          "categoricals__weathersit_3",
          "categoricals__season_4",
          "categoricals__season_1",
          "numericals__holiday",
          "categoricals__weathersit_1",
          "categoricals__weathersit_2",
          "categoricals__season_2",
          "categoricals__season_3",
          "categoricals__weathersit_4"
         ],
         "xaxis": "x",
         "y": [
          0.5791462063789368,
          0.2507259249687195,
          0.0785420835018158,
          0.038599804043769836,
          0.0120792705565691,
          0.008070561103522778,
          0.006674219388514757,
          0.006322493776679039,
          0.00494948448613286,
          0.004703037440776825,
          0.0028446626383811235,
          0.002690249355509877,
          0.0013275929959490895,
          0.0011345595121383667,
          0.0009102495387196541,
          0.0005809680442325771,
          0.0005128193879500031,
          0.00018277487833984196,
          0.0000030518597213813337
         ],
         "yaxis": "y"
        }
       ],
       "layout": {
        "barmode": "relative",
        "legend": {
         "tracegroupgap": 0
        },
        "template": {
         "data": {
          "bar": [
           {
            "error_x": {
             "color": "#2a3f5f"
            },
            "error_y": {
             "color": "#2a3f5f"
            },
            "marker": {
             "line": {
              "color": "#E5ECF6",
              "width": 0.5
             },
             "pattern": {
              "fillmode": "overlay",
              "size": 10,
              "solidity": 0.2
             }
            },
            "type": "bar"
           }
          ],
          "barpolar": [
           {
            "marker": {
             "line": {
              "color": "#E5ECF6",
              "width": 0.5
             },
             "pattern": {
              "fillmode": "overlay",
              "size": 10,
              "solidity": 0.2
             }
            },
            "type": "barpolar"
           }
          ],
          "carpet": [
           {
            "aaxis": {
             "endlinecolor": "#2a3f5f",
             "gridcolor": "white",
             "linecolor": "white",
             "minorgridcolor": "white",
             "startlinecolor": "#2a3f5f"
            },
            "baxis": {
             "endlinecolor": "#2a3f5f",
             "gridcolor": "white",
             "linecolor": "white",
             "minorgridcolor": "white",
             "startlinecolor": "#2a3f5f"
            },
            "type": "carpet"
           }
          ],
          "choropleth": [
           {
            "colorbar": {
             "outlinewidth": 0,
             "ticks": ""
            },
            "type": "choropleth"
           }
          ],
          "contour": [
           {
            "colorbar": {
             "outlinewidth": 0,
             "ticks": ""
            },
            "colorscale": [
             [
              0,
              "#0d0887"
             ],
             [
              0.1111111111111111,
              "#46039f"
             ],
             [
              0.2222222222222222,
              "#7201a8"
             ],
             [
              0.3333333333333333,
              "#9c179e"
             ],
             [
              0.4444444444444444,
              "#bd3786"
             ],
             [
              0.5555555555555556,
              "#d8576b"
             ],
             [
              0.6666666666666666,
              "#ed7953"
             ],
             [
              0.7777777777777778,
              "#fb9f3a"
             ],
             [
              0.8888888888888888,
              "#fdca26"
             ],
             [
              1,
              "#f0f921"
             ]
            ],
            "type": "contour"
           }
          ],
          "contourcarpet": [
           {
            "colorbar": {
             "outlinewidth": 0,
             "ticks": ""
            },
            "type": "contourcarpet"
           }
          ],
          "heatmap": [
           {
            "colorbar": {
             "outlinewidth": 0,
             "ticks": ""
            },
            "colorscale": [
             [
              0,
              "#0d0887"
             ],
             [
              0.1111111111111111,
              "#46039f"
             ],
             [
              0.2222222222222222,
              "#7201a8"
             ],
             [
              0.3333333333333333,
              "#9c179e"
             ],
             [
              0.4444444444444444,
              "#bd3786"
             ],
             [
              0.5555555555555556,
              "#d8576b"
             ],
             [
              0.6666666666666666,
              "#ed7953"
             ],
             [
              0.7777777777777778,
              "#fb9f3a"
             ],
             [
              0.8888888888888888,
              "#fdca26"
             ],
             [
              1,
              "#f0f921"
             ]
            ],
            "type": "heatmap"
           }
          ],
          "heatmapgl": [
           {
            "colorbar": {
             "outlinewidth": 0,
             "ticks": ""
            },
            "colorscale": [
             [
              0,
              "#0d0887"
             ],
             [
              0.1111111111111111,
              "#46039f"
             ],
             [
              0.2222222222222222,
              "#7201a8"
             ],
             [
              0.3333333333333333,
              "#9c179e"
             ],
             [
              0.4444444444444444,
              "#bd3786"
             ],
             [
              0.5555555555555556,
              "#d8576b"
             ],
             [
              0.6666666666666666,
              "#ed7953"
             ],
             [
              0.7777777777777778,
              "#fb9f3a"
             ],
             [
              0.8888888888888888,
              "#fdca26"
             ],
             [
              1,
              "#f0f921"
             ]
            ],
            "type": "heatmapgl"
           }
          ],
          "histogram": [
           {
            "marker": {
             "pattern": {
              "fillmode": "overlay",
              "size": 10,
              "solidity": 0.2
             }
            },
            "type": "histogram"
           }
          ],
          "histogram2d": [
           {
            "colorbar": {
             "outlinewidth": 0,
             "ticks": ""
            },
            "colorscale": [
             [
              0,
              "#0d0887"
             ],
             [
              0.1111111111111111,
              "#46039f"
             ],
             [
              0.2222222222222222,
              "#7201a8"
             ],
             [
              0.3333333333333333,
              "#9c179e"
             ],
             [
              0.4444444444444444,
              "#bd3786"
             ],
             [
              0.5555555555555556,
              "#d8576b"
             ],
             [
              0.6666666666666666,
              "#ed7953"
             ],
             [
              0.7777777777777778,
              "#fb9f3a"
             ],
             [
              0.8888888888888888,
              "#fdca26"
             ],
             [
              1,
              "#f0f921"
             ]
            ],
            "type": "histogram2d"
           }
          ],
          "histogram2dcontour": [
           {
            "colorbar": {
             "outlinewidth": 0,
             "ticks": ""
            },
            "colorscale": [
             [
              0,
              "#0d0887"
             ],
             [
              0.1111111111111111,
              "#46039f"
             ],
             [
              0.2222222222222222,
              "#7201a8"
             ],
             [
              0.3333333333333333,
              "#9c179e"
             ],
             [
              0.4444444444444444,
              "#bd3786"
             ],
             [
              0.5555555555555556,
              "#d8576b"
             ],
             [
              0.6666666666666666,
              "#ed7953"
             ],
             [
              0.7777777777777778,
              "#fb9f3a"
             ],
             [
              0.8888888888888888,
              "#fdca26"
             ],
             [
              1,
              "#f0f921"
             ]
            ],
            "type": "histogram2dcontour"
           }
          ],
          "mesh3d": [
           {
            "colorbar": {
             "outlinewidth": 0,
             "ticks": ""
            },
            "type": "mesh3d"
           }
          ],
          "parcoords": [
           {
            "line": {
             "colorbar": {
              "outlinewidth": 0,
              "ticks": ""
             }
            },
            "type": "parcoords"
           }
          ],
          "pie": [
           {
            "automargin": true,
            "type": "pie"
           }
          ],
          "scatter": [
           {
            "fillpattern": {
             "fillmode": "overlay",
             "size": 10,
             "solidity": 0.2
            },
            "type": "scatter"
           }
          ],
          "scatter3d": [
           {
            "line": {
             "colorbar": {
              "outlinewidth": 0,
              "ticks": ""
             }
            },
            "marker": {
             "colorbar": {
              "outlinewidth": 0,
              "ticks": ""
             }
            },
            "type": "scatter3d"
           }
          ],
          "scattercarpet": [
           {
            "marker": {
             "colorbar": {
              "outlinewidth": 0,
              "ticks": ""
             }
            },
            "type": "scattercarpet"
           }
          ],
          "scattergeo": [
           {
            "marker": {
             "colorbar": {
              "outlinewidth": 0,
              "ticks": ""
             }
            },
            "type": "scattergeo"
           }
          ],
          "scattergl": [
           {
            "marker": {
             "colorbar": {
              "outlinewidth": 0,
              "ticks": ""
             }
            },
            "type": "scattergl"
           }
          ],
          "scattermapbox": [
           {
            "marker": {
             "colorbar": {
              "outlinewidth": 0,
              "ticks": ""
             }
            },
            "type": "scattermapbox"
           }
          ],
          "scatterpolar": [
           {
            "marker": {
             "colorbar": {
              "outlinewidth": 0,
              "ticks": ""
             }
            },
            "type": "scatterpolar"
           }
          ],
          "scatterpolargl": [
           {
            "marker": {
             "colorbar": {
              "outlinewidth": 0,
              "ticks": ""
             }
            },
            "type": "scatterpolargl"
           }
          ],
          "scatterternary": [
           {
            "marker": {
             "colorbar": {
              "outlinewidth": 0,
              "ticks": ""
             }
            },
            "type": "scatterternary"
           }
          ],
          "surface": [
           {
            "colorbar": {
             "outlinewidth": 0,
             "ticks": ""
            },
            "colorscale": [
             [
              0,
              "#0d0887"
             ],
             [
              0.1111111111111111,
              "#46039f"
             ],
             [
              0.2222222222222222,
              "#7201a8"
             ],
             [
              0.3333333333333333,
              "#9c179e"
             ],
             [
              0.4444444444444444,
              "#bd3786"
             ],
             [
              0.5555555555555556,
              "#d8576b"
             ],
             [
              0.6666666666666666,
              "#ed7953"
             ],
             [
              0.7777777777777778,
              "#fb9f3a"
             ],
             [
              0.8888888888888888,
              "#fdca26"
             ],
             [
              1,
              "#f0f921"
             ]
            ],
            "type": "surface"
           }
          ],
          "table": [
           {
            "cells": {
             "fill": {
              "color": "#EBF0F8"
             },
             "line": {
              "color": "white"
             }
            },
            "header": {
             "fill": {
              "color": "#C8D4E3"
             },
             "line": {
              "color": "white"
             }
            },
            "type": "table"
           }
          ]
         },
         "layout": {
          "annotationdefaults": {
           "arrowcolor": "#2a3f5f",
           "arrowhead": 0,
           "arrowwidth": 1
          },
          "autotypenumbers": "strict",
          "coloraxis": {
           "colorbar": {
            "outlinewidth": 0,
            "ticks": ""
           }
          },
          "colorscale": {
           "diverging": [
            [
             0,
             "#8e0152"
            ],
            [
             0.1,
             "#c51b7d"
            ],
            [
             0.2,
             "#de77ae"
            ],
            [
             0.3,
             "#f1b6da"
            ],
            [
             0.4,
             "#fde0ef"
            ],
            [
             0.5,
             "#f7f7f7"
            ],
            [
             0.6,
             "#e6f5d0"
            ],
            [
             0.7,
             "#b8e186"
            ],
            [
             0.8,
             "#7fbc41"
            ],
            [
             0.9,
             "#4d9221"
            ],
            [
             1,
             "#276419"
            ]
           ],
           "sequential": [
            [
             0,
             "#0d0887"
            ],
            [
             0.1111111111111111,
             "#46039f"
            ],
            [
             0.2222222222222222,
             "#7201a8"
            ],
            [
             0.3333333333333333,
             "#9c179e"
            ],
            [
             0.4444444444444444,
             "#bd3786"
            ],
            [
             0.5555555555555556,
             "#d8576b"
            ],
            [
             0.6666666666666666,
             "#ed7953"
            ],
            [
             0.7777777777777778,
             "#fb9f3a"
            ],
            [
             0.8888888888888888,
             "#fdca26"
            ],
            [
             1,
             "#f0f921"
            ]
           ],
           "sequentialminus": [
            [
             0,
             "#0d0887"
            ],
            [
             0.1111111111111111,
             "#46039f"
            ],
            [
             0.2222222222222222,
             "#7201a8"
            ],
            [
             0.3333333333333333,
             "#9c179e"
            ],
            [
             0.4444444444444444,
             "#bd3786"
            ],
            [
             0.5555555555555556,
             "#d8576b"
            ],
            [
             0.6666666666666666,
             "#ed7953"
            ],
            [
             0.7777777777777778,
             "#fb9f3a"
            ],
            [
             0.8888888888888888,
             "#fdca26"
            ],
            [
             1,
             "#f0f921"
            ]
           ]
          },
          "colorway": [
           "#636efa",
           "#EF553B",
           "#00cc96",
           "#ab63fa",
           "#FFA15A",
           "#19d3f3",
           "#FF6692",
           "#B6E880",
           "#FF97FF",
           "#FECB52"
          ],
          "font": {
           "color": "#2a3f5f"
          },
          "geo": {
           "bgcolor": "white",
           "lakecolor": "white",
           "landcolor": "#E5ECF6",
           "showlakes": true,
           "showland": true,
           "subunitcolor": "white"
          },
          "hoverlabel": {
           "align": "left"
          },
          "hovermode": "closest",
          "mapbox": {
           "style": "light"
          },
          "paper_bgcolor": "white",
          "plot_bgcolor": "#E5ECF6",
          "polar": {
           "angularaxis": {
            "gridcolor": "white",
            "linecolor": "white",
            "ticks": ""
           },
           "bgcolor": "#E5ECF6",
           "radialaxis": {
            "gridcolor": "white",
            "linecolor": "white",
            "ticks": ""
           }
          },
          "scene": {
           "xaxis": {
            "backgroundcolor": "#E5ECF6",
            "gridcolor": "white",
            "gridwidth": 2,
            "linecolor": "white",
            "showbackground": true,
            "ticks": "",
            "zerolinecolor": "white"
           },
           "yaxis": {
            "backgroundcolor": "#E5ECF6",
            "gridcolor": "white",
            "gridwidth": 2,
            "linecolor": "white",
            "showbackground": true,
            "ticks": "",
            "zerolinecolor": "white"
           },
           "zaxis": {
            "backgroundcolor": "#E5ECF6",
            "gridcolor": "white",
            "gridwidth": 2,
            "linecolor": "white",
            "showbackground": true,
            "ticks": "",
            "zerolinecolor": "white"
           }
          },
          "shapedefaults": {
           "line": {
            "color": "#2a3f5f"
           }
          },
          "ternary": {
           "aaxis": {
            "gridcolor": "white",
            "linecolor": "white",
            "ticks": ""
           },
           "baxis": {
            "gridcolor": "white",
            "linecolor": "white",
            "ticks": ""
           },
           "bgcolor": "#E5ECF6",
           "caxis": {
            "gridcolor": "white",
            "linecolor": "white",
            "ticks": ""
           }
          },
          "title": {
           "x": 0.05
          },
          "xaxis": {
           "automargin": true,
           "gridcolor": "white",
           "linecolor": "white",
           "ticks": "",
           "title": {
            "standoff": 15
           },
           "zerolinecolor": "white",
           "zerolinewidth": 2
          },
          "yaxis": {
           "automargin": true,
           "gridcolor": "white",
           "linecolor": "white",
           "ticks": "",
           "title": {
            "standoff": 15
           },
           "zerolinecolor": "white",
           "zerolinewidth": 2
          }
         }
        },
        "title": {
         "text": "Feature Importances"
        },
        "xaxis": {
         "anchor": "y",
         "domain": [
          0,
          1
         ],
         "title": {
          "text": "feature"
         }
        },
        "yaxis": {
         "anchor": "x",
         "domain": [
          0,
          1
         ],
         "title": {
          "text": "importance"
         }
        }
       }
      }
     },
     "metadata": {},
     "output_type": "display_data"
    }
   ],
   "source": [
    "px.bar(models_explanations, x='feature', y='importance', title='Feature Importances')"
   ]
  },
  {
   "cell_type": "markdown",
   "metadata": {},
   "source": [
    "## Samples"
   ]
  },
  {
   "cell_type": "code",
   "execution_count": 7,
   "metadata": {},
   "outputs": [
    {
     "data": {
      "application/vnd.plotly.v1+json": {
       "config": {
        "plotlyServerURL": "https://plot.ly"
       },
       "data": [
        {
         "coloraxis": "coloraxis",
         "hovertemplate": "x: %{x}<br>y: %{y}<br>color: %{z}<extra></extra>",
         "name": "0",
         "type": "heatmap",
         "x": [
          "categoricals__season_1",
          "categoricals__season_2",
          "categoricals__season_3",
          "categoricals__season_4",
          "categoricals__weathersit_1",
          "categoricals__weathersit_2",
          "categoricals__weathersit_3",
          "categoricals__weathersit_4",
          "numericals__yr",
          "numericals__mnth",
          "numericals__hr",
          "numericals__holiday",
          "numericals__weekday",
          "numericals__workingday",
          "numericals__temp",
          "numericals__atemp",
          "numericals__hum",
          "numericals__windspeed",
          "numericals__casual"
         ],
         "xaxis": "x",
         "y": [
          0,
          1,
          2,
          3,
          4,
          5,
          6,
          7,
          8,
          9,
          10,
          11,
          12,
          13,
          14,
          15,
          16,
          17,
          18,
          19,
          20,
          21,
          22,
          23,
          24,
          25,
          26,
          27,
          28,
          29,
          30,
          31,
          32,
          33,
          34,
          35,
          36,
          37,
          38,
          39,
          40,
          41,
          42,
          43,
          44,
          45,
          46,
          47,
          48,
          49,
          50,
          51,
          52,
          53,
          54,
          55,
          56,
          57,
          58,
          59,
          60,
          61,
          62,
          63,
          64,
          65,
          66,
          67,
          68,
          69,
          70,
          71,
          72,
          73,
          74,
          75,
          76,
          77,
          78,
          79,
          80,
          81,
          82,
          83,
          84,
          85,
          86,
          87,
          88,
          89,
          90,
          91,
          92,
          93,
          94,
          95,
          96,
          97,
          98,
          99
         ],
         "yaxis": "y",
         "z": [
          [
           0.169154554605484,
           -0.12465005367994308,
           -0.20350304245948792,
           -0.7589821815490723,
           -1.4744840860366821,
           -1.0763494968414307,
           0.8019556403160095,
           0.0005125635070726275,
           31.495134353637695,
           2.905728340148926,
           -74.03636932373047,
           -0.01994742453098297,
           -7.118968486785889,
           18.64079475402832,
           2.613896131515503,
           1.898716688156128,
           -1.322058081626892,
           -0.21036271750926971,
           147.3380889892578
          ],
          [
           0.14229492843151093,
           -0.24230052530765533,
           -0.06181931495666504,
           -0.6509594321250916,
           -1.0017391443252563,
           -0.523719310760498,
           0.8241411447525024,
           0.0005005813436582685,
           32.25149154663086,
           2.7528738975524902,
           -68.46829223632812,
           -0.037578750401735306,
           -4.272334575653076,
           19.72316551208496,
           1.8124518394470215,
           1.4621434211730957,
           0.3695316016674042,
           0.37441232800483704,
           117.78642272949219
          ],
          [
           0.16869859397411346,
           -0.17341940104961395,
           -0.054359059780836105,
           -0.7236232757568359,
           -1.5545519590377808,
           -1.0339789390563965,
           0.762941837310791,
           0.0005341940559446812,
           32.24542999267578,
           3.1959495544433594,
           -82.51516723632812,
           0.009938172064721584,
           -2.8565289974212646,
           19.824302673339844,
           1.4989748001098633,
           2.0467801094055176,
           1.55943763256073,
           2.603705883026123,
           127.69466400146484
          ],
          [
           0.25363633036613464,
           -0.7914834022521973,
           -0.2182263433933258,
           -0.6126111149787903,
           0.4995812475681305,
           0.03979773819446564,
           0.7789877653121948,
           0.0005178267601877451,
           30.905353546142578,
           2.808645009994507,
           -70.18022155761719,
           0.09768002480268478,
           -6.699856758117676,
           19.206472396850586,
           4.46869421005249,
           7.614377975463867,
           -0.7768831253051758,
           1.5825011730194092,
           180.40383911132812
          ],
          [
           0.13090188801288605,
           -0.7880292534828186,
           -0.3953709006309509,
           -0.6145736575126648,
           -1.5584088563919067,
           0.11173088103532791,
           -3.9278995990753174,
           0.0009037204436026514,
           47.19106674194336,
           6.631704330444336,
           -4.315243244171143,
           0.029140517115592957,
           -0.1576196849346161,
           29.401426315307617,
           4.704289436340332,
           4.135255813598633,
           -3.7745230197906494,
           0.583940327167511,
           202.349609375
          ],
          [
           0.09980977326631546,
           -0.1289137452840805,
           0.04262050241231918,
           -1.0114322900772095,
           -1.5444451570510864,
           -0.3063795566558838,
           1.2926396131515503,
           0.007032076362520456,
           77.94355010986328,
           5.943662643432617,
           176.00094604492188,
           0.0029676654376089573,
           4.077856063842773,
           77.48359680175781,
           2.1760151386260986,
           -4.81910514831543,
           -3.676065444946289,
           0.42632120847702026,
           252.67762756347656
          ],
          [
           0.17066802084445953,
           -0.2959515154361725,
           -0.11001028120517731,
           -1.0064359903335571,
           -1.6547470092773438,
           -0.7146743535995483,
           1.3593095541000366,
           0.006959938909858465,
           67.61687469482422,
           7.270330429077148,
           177.5045623779297,
           -0.15282031893730164,
           6.387446403503418,
           96.7355728149414,
           2.823650360107422,
           -3.538238763809204,
           -3.534722089767456,
           1.1455564498901367,
           236.20997619628906
          ],
          [
           0.21100318431854248,
           -0.5323825478553772,
           -0.11136386543512344,
           -0.7844051122665405,
           -3.295231342315674,
           -4.226391315460205,
           1.0265041589736938,
           0.006217549089342356,
           52.71641540527344,
           5.100271701812744,
           64.47308349609375,
           -0.13248220086097717,
           6.663832187652588,
           58.35783386230469,
           3.418996572494507,
           2.1445350646972656,
           -2.514310836791992,
           1.3115136623382568,
           195.78465270996094
          ],
          [
           0.15828295052051544,
           -0.10273899137973785,
           -0.23303288221359253,
           -0.7537844181060791,
           -1.0537359714508057,
           -0.3776755928993225,
           0.923829197883606,
           0.0001359017041977495,
           39.298519134521484,
           1.023025631904602,
           -0.3841829001903534,
           -0.09258145093917847,
           3.8694167137145996,
           46.602294921875,
           3.19360613822937,
           3.103475332260132,
           -3.797464370727539,
           -1.9199837446212769,
           138.60589599609375
          ],
          [
           0.15737031400203705,
           0.0520184300839901,
           -0.4065300226211548,
           -0.6695138812065125,
           -0.9999762773513794,
           -0.3622300326824188,
           0.7322946190834045,
           0.0005345836980268359,
           41.25462341308594,
           0.020151332020759583,
           -39.13706970214844,
           -0.08169162273406982,
           4.318027496337891,
           40.69746780395508,
           2.7966856956481934,
           2.3097407817840576,
           -4.547541618347168,
           -1.7421387434005737,
           140.1410675048828
          ],
          [
           0.2103569209575653,
           -0.6580501794815063,
           -0.018581287935376167,
           -0.5772673487663269,
           0.5382667779922485,
           0.07692182064056396,
           0.7319211959838867,
           0.0004881093336734921,
           36.82917022705078,
           2.3916404247283936,
           -56.327823638916016,
           -0.10369519889354706,
           -3.7037088871002197,
           17.519577026367188,
           3.3487110137939453,
           4.850150108337402,
           -1.7671900987625122,
           0.2815130054950714,
           62.255897521972656
          ],
          [
           0.23457731306552887,
           -0.3182263970375061,
           -0.03401074558496475,
           -0.5962135195732117,
           0.6905218958854675,
           0.0343155562877655,
           0.6870012283325195,
           0.0006443400052376091,
           21.72657585144043,
           2.088026762008667,
           -64.06810760498047,
           -0.028121035546064377,
           -2.425230026245117,
           10.60973072052002,
           1.6931196451187134,
           1.4571316242218018,
           -2.226402521133423,
           0.7569981217384338,
           -37.61403274536133
          ],
          [
           0.1959066241979599,
           -0.18706031143665314,
           -0.02977874130010605,
           -0.5241200923919678,
           0.7009141445159912,
           0.07782352715730667,
           0.6562888622283936,
           0.0007873308495618403,
           18.619783401489258,
           1.6802222728729248,
           -87.85552978515625,
           0.008099825121462345,
           -2.5846824645996094,
           2.4992663860321045,
           1.3333842754364014,
           1.8203318119049072,
           -3.4116618633270264,
           0.13050484657287598,
           -54.8721809387207
          ],
          [
           0.22012750804424286,
           -0.1243598610162735,
           0.04713971167802811,
           -0.4951706528663635,
           0.5279565453529358,
           0.006826077122241259,
           1.2234665155410767,
           0.0020947991870343685,
           16.840295791625977,
           1.5345487594604492,
           -78.14442443847656,
           0.06610047072172165,
           -0.40369319915771484,
           6.414614200592041,
           1.874184489250183,
           1.5743393898010254,
           -1.5664819478988647,
           0.8207980394363403,
           -93.91680145263672
          ],
          [
           0.23642316460609436,
           -0.07295327633619308,
           0.02021026983857155,
           -0.46774348616600037,
           0.5260272026062012,
           -0.0433531254529953,
           1.3350751399993896,
           0.0008117177058011293,
           16.031938552856445,
           1.671962857246399,
           -78.07720947265625,
           0.022589685395359993,
           -0.31112754344940186,
           7.640243053436279,
           1.160016655921936,
           1.7891626358032227,
           -2.236783981323242,
           0.45728132128715515,
           -104.49085235595703
          ],
          [
           0.24079622328281403,
           -0.04550537094473839,
           0.10600541532039642,
           -0.4731599688529968,
           0.5193852782249451,
           -0.02344142273068428,
           1.3347171545028687,
           0.000648858433123678,
           15.789037704467773,
           1.5652916431427002,
           -80.2547836303711,
           -0.0102729182690382,
           -0.08482003957033157,
           8.450746536254883,
           1.0162487030029297,
           1.6323434114456177,
           -2.069530487060547,
           0.407787561416626,
           -104.59845733642578
          ],
          [
           0.2427425980567932,
           -0.0384024940431118,
           0.10925472527742386,
           -0.4685764014720917,
           0.6121373176574707,
           -0.010323641821742058,
           1.344220519065857,
           0.000648858433123678,
           17.439502716064453,
           1.6917942762374878,
           -73.54963684082031,
           -0.021768908947706223,
           -0.015513437800109386,
           10.325225830078125,
           0.9995515942573547,
           1.6338378190994263,
           -1.988153100013733,
           0.34100043773651123,
           -114.72674560546875
          ],
          [
           0.19245152175426483,
           -0.08253858983516693,
           -0.0036932018119841814,
           -0.47749078273773193,
           -0.778639554977417,
           -0.12267234921455383,
           1.2741750478744507,
           0.0017355340532958508,
           19.329111099243164,
           1.9788233041763306,
           -49.32539367675781,
           -0.014683695510029793,
           0.3591795265674591,
           14.508062362670898,
           1.2764817476272583,
           1.9689347743988037,
           -3.1787121295928955,
           -0.0871240571141243,
           -117.06720733642578
          ],
          [
           0.26470598578453064,
           -0.20068220794200897,
           0.04700566455721855,
           -0.5295122861862183,
           -2.3159399032592773,
           -0.5527059435844421,
           1.4427541494369507,
           0.002121501136571169,
           23.01054573059082,
           4.577113151550293,
           4.840754985809326,
           -0.04685033857822418,
           1.0733647346496582,
           24.8539981842041,
           2.3293471336364746,
           2.876255512237549,
           -2.0436370372772217,
           0.4947572350502014,
           -95.24009704589844
          ],
          [
           0.6009383797645569,
           -0.53944331407547,
           0.07307998836040497,
           -0.5650307536125183,
           -1.6178886890411377,
           -1.9659442901611328,
           1.523211121559143,
           0.0005157730774953961,
           55.051509857177734,
           11.02030086517334,
           134.98486328125,
           -0.21013426780700684,
           1.3449642658233643,
           48.54542541503906,
           4.885603427886963,
           7.470324516296387,
           -3.7808265686035156,
           -0.40304115414619446,
           21.054868698120117
          ],
          [
           1.0368555784225464,
           -4.67413330078125,
           -0.0035402767825871706,
           -0.6122829914093018,
           -1.3186876773834229,
           -0.3487352132797241,
           2.466224431991577,
           0.0005312719731591642,
           84.37887573242188,
           6.363649368286133,
           223.41319274902344,
           -0.32166752219200134,
           1.1088142395019531,
           57.85630798339844,
           -3.1717469692230225,
           0.9009676575660706,
           1.3160041570663452,
           1.3381297588348389,
           127.35955047607422
          ],
          [
           0.12387402355670929,
           0.07819881290197372,
           -0.009967210702598095,
           -0.7128632664680481,
           -0.6675121784210205,
           0.03523243963718414,
           1.462039589881897,
           0.0005336896283552051,
           54.256168365478516,
           2.884908437728882,
           24.965435028076172,
           -0.05086776614189148,
           1.2107491493225098,
           28.869901657104492,
           -0.03788652643561363,
           0.46800532937049866,
           0.19632861018180847,
           1.7283220291137695,
           36.397701263427734
          ],
          [
           0.15390318632125854,
           -0.24831996858119965,
           -0.005272223148494959,
           -0.5715996026992798,
           -0.8208709955215454,
           -0.1594245284795761,
           0.7970048189163208,
           0.0005079301190562546,
           31.991912841796875,
           2.542576551437378,
           -94.4873275756836,
           -0.09413846582174301,
           -1.5950297117233276,
           12.353922843933105,
           3.599046468734741,
           2.71368408203125,
           1.3042409420013428,
           0.17937436699867249,
           94.56910705566406
          ],
          [
           0.12881344556808472,
           -0.23975999653339386,
           -0.11960572004318237,
           -0.7206676602363586,
           -1.1241790056228638,
           -0.6253287196159363,
           0.7455617189407349,
           0.0005503954016603529,
           27.759973526000977,
           2.76396107673645,
           -93.7419662475586,
           0.02968677505850792,
           -0.7746119499206543,
           19.718368530273438,
           2.5528836250305176,
           1.075609564781189,
           0.22086085379123688,
           2.4454987049102783,
           129.79888916015625
          ],
          [
           0.12905992567539215,
           -0.2558153569698334,
           -0.021835684776306152,
           -0.5680426955223083,
           -1.2032192945480347,
           -0.269516259431839,
           0.8631099462509155,
           0.0005503954016603529,
           41.81741714477539,
           3.8032913208007812,
           -56.884029388427734,
           -0.1119290143251419,
           0.18008644878864288,
           14.842578887939453,
           3.691838026046753,
           2.833195447921753,
           0.746959924697876,
           2.0351486206054688,
           112.8614273071289
          ],
          [
           0.25078874826431274,
           -0.7432373762130737,
           0.15399301052093506,
           -0.5888906717300415,
           -0.9327319860458374,
           -0.34541767835617065,
           0.8261586427688599,
           0.0005503954016603529,
           31.770305633544922,
           2.8528950214385986,
           -65.05724334716797,
           0.10114981979131699,
           -4.877957344055176,
           19.00931167602539,
           4.283749580383301,
           7.261184215545654,
           -0.10680069774389267,
           1.2539360523223877,
           181.61904907226562
          ],
          [
           0.16916249692440033,
           -0.3376086950302124,
           -0.017634164541959763,
           -0.5719799995422363,
           -0.8471976518630981,
           -0.2293485701084137,
           0.8150206208229065,
           0.00047357301809825003,
           37.48652648925781,
           3.877255439758301,
           -68.99298858642578,
           -0.11778315156698227,
           -0.25162991881370544,
           13.409579277038574,
           3.3177073001861572,
           2.5264971256256104,
           0.631689190864563,
           -0.2489928901195526,
           105.84652709960938
          ],
          [
           0.2764410376548767,
           -0.5664715766906738,
           -0.22968539595603943,
           -0.572463870048523,
           -0.6430850028991699,
           0.0533578097820282,
           0.785500168800354,
           0.00045881280675530434,
           33.81791687011719,
           2.6530468463897705,
           -68.8091812133789,
           0.40473902225494385,
           -5.343265533447266,
           16.448652267456055,
           5.755948543548584,
           8.034867286682129,
           1.9738346338272095,
           0.8543528914451599,
           193.16583251953125
          ],
          [
           0.19928956031799316,
           -0.7926640510559082,
           -0.33886241912841797,
           -0.6365681886672974,
           -1.6411441564559937,
           -0.41482436656951904,
           0.953245222568512,
           0.0018760856473818421,
           48.95395278930664,
           6.103858470916748,
           -5.4297051429748535,
           0.1609586477279663,
           0.6505838632583618,
           23.07547950744629,
           5.43159818649292,
           4.431673526763916,
           0.35956060886383057,
           0.3377896845340729,
           203.73019409179688
          ],
          [
           0.12561261653900146,
           -0.31200775504112244,
           -0.12821342051029205,
           -0.9878201484680176,
           -1.5346041917800903,
           -0.7124462723731995,
           1.3390915393829346,
           0.0067122639156877995,
           68.63040924072266,
           8.366534233093262,
           181.4793243408203,
           -0.048752136528491974,
           5.048268795013428,
           87.0127944946289,
           3.649786949157715,
           -1.8663026094436646,
           -1.0483384132385254,
           0.7698644399642944,
           246.24838256835938
          ],
          [
           0.14318406581878662,
           -0.16817134618759155,
           0.044656164944171906,
           -1.000720500946045,
           -1.4363611936569214,
           -0.39889147877693176,
           1.3321622610092163,
           0.006973070092499256,
           69.49068450927734,
           6.908123016357422,
           178.58457946777344,
           0.028811536729335785,
           6.33791971206665,
           78.09114837646484,
           2.4604194164276123,
           -5.162672996520996,
           -1.9589805603027344,
           1.2794933319091797,
           250.82594299316406
          ],
          [
           0.25990957021713257,
           -0.45059436559677124,
           0.06157448887825012,
           -0.7794139385223389,
           0.6918620467185974,
           0.44951292872428894,
           1.0499746799468994,
           0.005841830279678106,
           56.292964935302734,
           5.9671502113342285,
           66.78968811035156,
           0.03751257807016373,
           8.603753089904785,
           47.94328689575195,
           3.6040074825286865,
           1.6773055791854858,
           -2.9190239906311035,
           -1.7982277870178223,
           209.1162109375
          ],
          [
           0.15738365054130554,
           -0.1990543156862259,
           -0.21096879243850708,
           -0.7437237501144409,
           0.5962345600128174,
           0.12838692963123322,
           0.9325858354568481,
           0.00018758232181426138,
           41.38226318359375,
           1.345165729522705,
           -2.0313286781311035,
           -0.07635390013456345,
           5.108170986175537,
           47.13261795043945,
           3.0720739364624023,
           3.1783692836761475,
           -3.6837525367736816,
           0.8788055777549744,
           142.00624084472656
          ],
          [
           0.17235073447227478,
           0.01019226387143135,
           -0.35296082496643066,
           -0.6621893048286438,
           0.5560445189476013,
           0.11236726492643356,
           0.7399334907531738,
           0.0004884038353338838,
           41.968544006347656,
           0.2141100913286209,
           -38.599220275878906,
           -0.06284061074256897,
           5.414779186248779,
           39.87111282348633,
           3.059467315673828,
           2.390272378921509,
           -3.2591283321380615,
           -3.486874580383301,
           138.43185424804688
          ],
          [
           0.23794770240783691,
           -0.4900645613670349,
           -0.011707608588039875,
           -0.6704952716827393,
           0.5372632741928101,
           0.051002152264118195,
           0.7467884421348572,
           0.0004856945888604969,
           40.592533111572266,
           2.753553867340088,
           -42.574153900146484,
           -0.07540760189294815,
           3.0798721313476562,
           20.167428970336914,
           3.7870593070983887,
           4.918464660644531,
           -0.7026727199554443,
           1.1029096841812134,
           51.432491302490234
          ],
          [
           0.2759004533290863,
           -0.5924070477485657,
           0.020931249484419823,
           -0.5460458993911743,
           0.6820108890533447,
           0.09886196255683899,
           0.7167019248008728,
           0.0005002596299163997,
           21.094329833984375,
           2.4871826171875,
           -60.72250747680664,
           -0.03376798704266548,
           1.3835946321487427,
           10.921226501464844,
           1.651340365409851,
           1.753352403640747,
           -1.0688366889953613,
           0.4954444169998169,
           -39.085052490234375
          ],
          [
           0.2188735157251358,
           -0.3142482340335846,
           -0.014533264562487602,
           -0.5839090347290039,
           0.518755316734314,
           0.000005135694664204493,
           0.6131640672683716,
           0.0006211507134139538,
           20.23552703857422,
           2.1691536903381348,
           -94.65522003173828,
           0.03900580108165741,
           3.6193885803222656,
           2.670538902282715,
           1.6299409866333008,
           1.5473499298095703,
           -0.8562081456184387,
           0.4622454047203064,
           -39.50715255737305
          ],
          [
           0.198481485247612,
           -0.07439839094877243,
           0.06274367868900299,
           -0.5037127137184143,
           0.5450150966644287,
           0.04884336516261101,
           1.023443341255188,
           0.0030024913139641285,
           16.98451042175293,
           1.5871094465255737,
           -81.69155883789062,
           0.050032585859298706,
           2.0760021209716797,
           5.364504337310791,
           1.3132153749465942,
           1.8380100727081299,
           -1.8052141666412354,
           0.11141256988048553,
           -87.30631256103516
          ],
          [
           0.2194717824459076,
           -0.11921803653240204,
           0.019222011789679527,
           -0.47156256437301636,
           0.5185927748680115,
           0.005403690971434116,
           1.1428186893463135,
           0.0012586560333147645,
           16.242998123168945,
           1.5087487697601318,
           -79.564453125,
           0.027658730745315552,
           0.8004121780395508,
           7.296459674835205,
           1.0413297414779663,
           1.63692045211792,
           -2.1477887630462646,
           0.16242094337940216,
           -102.68614196777344
          ],
          [
           0.24611498415470123,
           -0.05045967549085617,
           0.09174752235412598,
           -0.46277180314064026,
           0.5304945111274719,
           -0.012623950839042664,
           1.2979978322982788,
           0.000569057185202837,
           15.881168365478516,
           1.5359578132629395,
           -79.95002746582031,
           -0.00878177210688591,
           0.9832655191421509,
           8.446954727172852,
           0.997465968132019,
           1.639317512512207,
           -1.9241515398025513,
           0.2967201769351959,
           -105.7148666381836
          ],
          [
           0.23592261970043182,
           -0.056163568049669266,
           0.04964485019445419,
           -0.4659730792045593,
           -0.7095680236816406,
           0.048651017248630524,
           1.2980189323425293,
           0.0007347611244767904,
           16.73440933227539,
           1.762690544128418,
           -70.92251586914062,
           -0.032373104244470596,
           1.05104398727417,
           10.196749687194824,
           1.0973315238952637,
           1.7885221242904663,
           -2.9193472862243652,
           0.2187758833169937,
           -115.69583129882812
          ],
          [
           0.15151800215244293,
           -0.09102077037096024,
           0.014796901494264603,
           -0.4803575873374939,
           -0.7396679520606995,
           -0.0007302318117581308,
           1.1593388319015503,
           0.0025926027446985245,
           20.630054473876953,
           1.8797599077224731,
           -52.01689910888672,
           -0.03619256988167763,
           1.1444971561431885,
           15.103338241577148,
           1.2100002765655518,
           1.3989856243133545,
           -3.14176082611084,
           0.16095776855945587,
           -110.93091583251953
          ],
          [
           0.3331563174724579,
           -0.5375060439109802,
           0.07809200137853622,
           -0.5034290552139282,
           1.7812379598617554,
           0.2593395709991455,
           1.1528451442718506,
           0.0026077369693666697,
           27.796009063720703,
           6.520780563354492,
           10.290216445922852,
           -0.047430116683244705,
           1.8525245189666748,
           26.498050689697266,
           2.599048137664795,
           2.684617519378662,
           -1.538456916809082,
           0.2234235405921936,
           -85.03682708740234
          ],
          [
           0.6148445010185242,
           -0.5458109974861145,
           0.07436816394329071,
           -0.5558772683143616,
           -1.6022089719772339,
           -1.8660619258880615,
           1.4260317087173462,
           0.0005109156481921673,
           55.66039276123047,
           10.748068809509277,
           133.65122985839844,
           -0.20039774477481842,
           2.7093417644500732,
           47.711605072021484,
           4.897413730621338,
           7.3790411949157715,
           -3.70729398727417,
           -0.4770473539829254,
           20.235145568847656
          ],
          [
           1.219691514968872,
           -3.930114984512329,
           -0.05820227786898613,
           -0.7105394601821899,
           1.1356737613677979,
           0.3353612422943115,
           2.251840114593506,
           0.00047251631622202694,
           85.90479278564453,
           6.80287504196167,
           229.81942749023438,
           -0.07705919444561005,
           2.6597917079925537,
           64.78392791748047,
           -2.5225374698638916,
           1.3843309879302979,
           1.1906018257141113,
           -0.05136825144290924,
           86.52433013916016
          ],
          [
           0.20475554466247559,
           -0.21365594863891602,
           -0.00399854127317667,
           -0.5768263339996338,
           0.4638493061065674,
           -0.025749268010258675,
           1.2562960386276245,
           0.00046094285789877176,
           65.2007827758789,
           3.486802816390991,
           11.989641189575195,
           -0.14037208259105682,
           1.885317325592041,
           18.04607582092285,
           2.0254745483398438,
           2.0944604873657227,
           -0.48780372738838196,
           0.42370009422302246,
           81.5890884399414
          ],
          [
           0.10137239098548889,
           -0.37388700246810913,
           -0.020501015707850456,
           -0.6074191927909851,
           0.4287753403186798,
           0.115017831325531,
           0.7555304169654846,
           0.00048564354074187577,
           29.506513595581055,
           2.9056577682495117,
           -94.57997131347656,
           0.03204174339771271,
           3.9000699520111084,
           19.290468215942383,
           1.8547735214233398,
           1.6670939922332764,
           0.32219696044921875,
           -0.3370084762573242,
           123.68209075927734
          ],
          [
           0.18710395693778992,
           -0.19680142402648926,
           -0.32244470715522766,
           -0.5688077807426453,
           0.4720882475376129,
           0.0397401861846447,
           0.7683758735656738,
           0.0005462547997012734,
           31.28867530822754,
           3.731929063796997,
           -90.71562957763672,
           -0.03494120389223099,
           0.08460897952318192,
           17.6873836517334,
           3.125368118286133,
           3.4693655967712402,
           2.5074703693389893,
           2.282147169113159,
           160.0921173095703
          ],
          [
           0.1529584527015686,
           -0.0030397260561585426,
           -0.1533682495355606,
           -0.709664523601532,
           0.893938422203064,
           0.5760723352432251,
           0.8047239184379578,
           0.0004966786364093423,
           36.98611068725586,
           3.146008014678955,
           -71.38362121582031,
           0.018817907199263573,
           3.2452728748321533,
           19.201480865478516,
           2.6668121814727783,
           1.8272329568862915,
           3.000004291534424,
           0.04630224406719208,
           150.34600830078125
          ],
          [
           0.12564659118652344,
           -0.10856067389249802,
           -0.13760994374752045,
           -0.6819873452186584,
           0.985526442527771,
           0.5328243970870972,
           0.8184333443641663,
           0.0004991660825908184,
           36.06460952758789,
           2.3818607330322266,
           -67.15582275390625,
           0.06724181771278381,
           4.003010272979736,
           20.30370330810547,
           1.7372372150421143,
           0.7887271046638489,
           3.711036205291748,
           -0.16165831685066223,
           140.82354736328125
          ],
          [
           0.2156868875026703,
           -0.21970093250274658,
           -0.17157238721847534,
           -0.582151472568512,
           0.7571473121643066,
           0.34388917684555054,
           0.8021156191825867,
           0.0004671056231018156,
           35.37557601928711,
           3.965250015258789,
           -80.08492279052734,
           -0.020001837983727455,
           -0.5407283902168274,
           18.760866165161133,
           2.503405809402466,
           1.832324504852295,
           2.6140968799591064,
           -0.19020792841911316,
           150.99533081054688
          ],
          [
           0.1412637084722519,
           -0.30071574449539185,
           -0.022506190463900566,
           -0.5232022404670715,
           0.5742732882499695,
           0.07827191799879074,
           0.8163344860076904,
           0.0004601764085236937,
           40.39252471923828,
           3.7928383350372314,
           -66.60188293457031,
           -0.05314407870173454,
           1.8710877895355225,
           12.72307300567627,
           2.8527181148529053,
           2.524333953857422,
           2.7482614517211914,
           0.30411258339881897,
           106.4751968383789
          ],
          [
           0.21904438734054565,
           -0.9796338081359863,
           -0.20808185636997223,
           -0.6725241541862488,
           0.76905757188797,
           0.1507904976606369,
           0.9582247138023376,
           0.0018147160299122334,
           51.486236572265625,
           8.145078659057617,
           2.00826358795166,
           -0.02299480140209198,
           1.78370201587677,
           28.655366897583008,
           3.6398465633392334,
           3.2651970386505127,
           3.6815109252929688,
           0.6304918527603149,
           186.10191345214844
          ],
          [
           0.14291352033615112,
           -0.4092702567577362,
           -0.016462016850709915,
           -1.0074352025985718,
           0.7507007122039795,
           0.0233329888433218,
           1.2622381448745728,
           0.00662043783813715,
           76.708984375,
           9.956892013549805,
           188.7099609375,
           -0.10155251622200012,
           3.933154344558716,
           78.10543823242188,
           4.067844390869141,
           -2.402595281600952,
           6.157655715942383,
           0.5734622478485107,
           253.45640563964844
          ],
          [
           0.020308295264840126,
           -0.12989488244056702,
           0.012950842268764973,
           -1.0508146286010742,
           -1.8382384777069092,
           -0.18744176626205444,
           1.3021883964538574,
           0.007097089663147926,
           64.22801971435547,
           5.043331623077393,
           185.12010192871094,
           -0.11849214881658554,
           5.452884197235107,
           99.28350067138672,
           6.566226959228516,
           2.2203423976898193,
           3.2472586631774902,
           -0.5647582411766052,
           199.72872924804688
          ],
          [
           0.3228916525840759,
           -0.3939247727394104,
           -0.07691303640604019,
           -0.835760772228241,
           0.7163823246955872,
           0.5999462008476257,
           1.0237541198730469,
           0.005271204747259617,
           60.66386795043945,
           6.487387657165527,
           80.66358947753906,
           -0.23649781942367554,
           6.688722610473633,
           65.82988739013672,
           4.051763534545898,
           1.3767602443695068,
           1.2283387184143066,
           -1.5445997714996338,
           189.17742919921875
          ],
          [
           0.22933758795261383,
           -0.5853457450866699,
           -0.40808942914009094,
           -0.7420495748519897,
           0.5262842774391174,
           0.12272506207227707,
           0.8630633354187012,
           0.0002305197558598593,
           45.97563552856445,
           1.6473886966705322,
           0.2738247513771057,
           -0.25354090332984924,
           5.018074989318848,
           49.321250915527344,
           4.49329948425293,
           3.769881010055542,
           0.5061792135238647,
           2.4303884506225586,
           171.16476440429688
          ],
          [
           0.10595784336328506,
           -0.3034239709377289,
           0.004209194332361221,
           -0.5913828015327454,
           -0.6290345191955566,
           -0.1300378441810608,
           0.795529842376709,
           0.0004703139129560441,
           38.556922912597656,
           2.611149787902832,
           -29.965702056884766,
           -0.2867933511734009,
           3.7744107246398926,
           19.35792350769043,
           4.308314323425293,
           5.401734352111816,
           -1.5967721939086914,
           1.1559562683105469,
           80.67886352539062
          ],
          [
           0.18422643840312958,
           -0.61520916223526,
           0.00014860428927931935,
           -0.5726089477539062,
           -0.8390034437179565,
           -0.28560081124305725,
           0.7249773144721985,
           0.00046326289884746075,
           36.372188568115234,
           2.6457676887512207,
           -49.63511276245117,
           -0.1284542679786682,
           2.8439812660217285,
           17.921478271484375,
           4.430426597595215,
           5.805295467376709,
           -0.828450620174408,
           -0.8559787273406982,
           57.3697624206543
          ],
          [
           0.3403075337409973,
           -0.49216631054878235,
           0.03154202178120613,
           -0.5617940425872803,
           0.6211637854576111,
           0.0806439071893692,
           0.7029438614845276,
           0.0005348918493837118,
           21.42361831665039,
           2.2635087966918945,
           -63.300052642822266,
           -0.04405362904071808,
           5.08213472366333,
           11.197439193725586,
           1.9858449697494507,
           2.1883108615875244,
           -1.1526974439620972,
           1.0649752616882324,
           -30.624439239501953
          ],
          [
           0.25372663140296936,
           -0.320645272731781,
           -0.07507364451885223,
           -0.5897619724273682,
           0.5589356422424316,
           0.04340376704931259,
           0.5946183800697327,
           0.0006588282412849367,
           20.094369888305664,
           1.8859014511108398,
           -93.14723205566406,
           0.04088236391544342,
           4.745431900024414,
           3.4518299102783203,
           2.009272336959839,
           2.3444361686706543,
           0.32627999782562256,
           -0.770842432975769,
           -38.7278938293457
          ],
          [
           0.21943247318267822,
           -0.12726733088493347,
           0.037228118628263474,
           -0.534363865852356,
           0.5164883732795715,
           0.03384561836719513,
           0.8946473002433777,
           0.002717023016884923,
           17.320478439331055,
           1.5989444255828857,
           -83.35277557373047,
           0.04878876730799675,
           2.4009861946105957,
           5.762009620666504,
           1.32908034324646,
           1.8349647521972656,
           -0.21863609552383423,
           -0.023395920172333717,
           -84.03746795654297
          ],
          [
           0.20040203630924225,
           -0.11559498310089111,
           0.06417270004749298,
           -0.5235376954078674,
           0.4606982469558716,
           -0.03526902571320534,
           0.9255168437957764,
           0.0023979234974831343,
           16.93575096130371,
           1.9022513628005981,
           -88.30435943603516,
           0.0501277782022953,
           0.9381177425384521,
           5.077188014984131,
           1.1604444980621338,
           1.5118155479431152,
           -1.317555546760559,
           0.08588874340057373,
           -85.24915313720703
          ],
          [
           0.18269747495651245,
           -0.07605229318141937,
           0.07173091173171997,
           -0.4844357669353485,
           -0.5732073783874512,
           0.007844681851565838,
           1.12010657787323,
           0.0014891471946612,
           16.58222198486328,
           1.64606511592865,
           -83.35057067871094,
           -0.01078686024993658,
           0.7091659903526306,
           8.082894325256348,
           1.1329712867736816,
           1.1000499725341797,
           -1.6158696413040161,
           -0.04177570715546608,
           -96.3712387084961
          ],
          [
           0.1609257012605667,
           -0.05698171257972717,
           0.04584861919283867,
           -0.43657249212265015,
           -0.9378309845924377,
           -0.03391912952065468,
           -4.230218887329102,
           0.0004189460596535355,
           16.555925369262695,
           1.4549293518066406,
           -62.00870895385742,
           -0.03154341131448746,
           0.8709114193916321,
           9.55553913116455,
           0.9311321973800659,
           1.621904730796814,
           -2.1065187454223633,
           -0.09628447890281677,
           -117.97828674316406
          ],
          [
           0.08872067928314209,
           -0.08316853642463684,
           0.0016095149330794811,
           -0.45677241683006287,
           -0.7193160057067871,
           -0.004891686141490936,
           -4.217394828796387,
           0.0008948497707024217,
           19.923673629760742,
           1.6255260705947876,
           -43.96807098388672,
           -0.023817621171474457,
           0.6935403347015381,
           14.397486686706543,
           1.1161388158798218,
           1.7200865745544434,
           -2.053905487060547,
           -0.18823200464248657,
           -113.9238052368164
          ],
          [
           0.0777093768119812,
           0.013259045779705048,
           0.03686278313398361,
           -0.5079013109207153,
           -2.0132761001586914,
           0.0010254626395180821,
           -6.094466209411621,
           0.000774412474129349,
           20.7618408203125,
           3.0023746490478516,
           0.21572139859199524,
           -0.04260637238621712,
           -0.36693641543388367,
           19.99711799621582,
           1.3040275573730469,
           1.5885565280914307,
           -3.245990514755249,
           -1.6222633123397827,
           -111.28253173828125
          ],
          [
           1.3190847635269165,
           -0.5746856927871704,
           0.17855508625507355,
           -0.4402800500392914,
           -0.9835253357887268,
           -0.10344929993152618,
           -23.086894989013672,
           0.0010899447370320559,
           33.84690856933594,
           6.115768909454346,
           89.60429382324219,
           -0.07197070121765137,
           7.1410698890686035,
           31.115278244018555,
           -0.05915360897779465,
           0.12214836478233337,
           -7.519678592681885,
           0.6514346599578857,
           -114.10769653320312
          ],
          [
           1.2231159210205078,
           -0.9607287645339966,
           0.11360731720924377,
           -0.8973789811134338,
           -3.622178554534912,
           -0.04175031557679176,
           -31.327651977539062,
           0.00081804976798594,
           55.58741760253906,
           7.034365653991699,
           180.90435791015625,
           -0.1258937418460846,
           5.686140060424805,
           43.01454544067383,
           -2.399845838546753,
           -6.53320837020874,
           -8.385109901428223,
           -0.6005556583404541,
           -81.34176635742188
          ],
          [
           0.1511291116476059,
           -0.14357897639274597,
           -0.040454570204019547,
           -0.6771087646484375,
           -0.9349943995475769,
           -0.18844249844551086,
           1.8697611093521118,
           0.0005906057194806635,
           48.79141616821289,
           3.4771835803985596,
           64.20134735107422,
           -0.07858435064554214,
           1.188006043434143,
           29.33063316345215,
           2.216262102127075,
           2.483311891555786,
           -2.1261587142944336,
           1.5241737365722656,
           -3.6361958980560303
          ],
          [
           0.08736417442560196,
           -0.08311426639556885,
           -0.01806890033185482,
           -0.624649703502655,
           0.6050037741661072,
           -0.02681633271276951,
           1.0923813581466675,
           0.0006138867465779185,
           32.609310150146484,
           1.8777395486831665,
           -67.16415405273438,
           -0.06076953560113907,
           1.5194796323776245,
           12.951915740966797,
           3.7513234615325928,
           1.5240014791488647,
           -8.173264503479004,
           0.45639482140541077,
           18.55360984802246
          ],
          [
           0.04419853538274765,
           -0.4252106249332428,
           -0.06638911366462708,
           -0.5873331427574158,
           -0.6901756525039673,
           0.05158567801117897,
           -3.1602203845977783,
           0.00033470726339146495,
           27.93245506286621,
           2.6492807865142822,
           -81.19194030761719,
           0.005892109125852585,
           2.6808066368103027,
           19.46100425720215,
           1.354649305343628,
           2.2994210720062256,
           -3.287984609603882,
           -0.13685253262519836,
           129.00477600097656
          ],
          [
           0.11973437666893005,
           -0.10793077945709229,
           -0.10786595940589905,
           -0.6045520305633545,
           -1.2147974967956543,
           -0.9284350872039795,
           0.7844049334526062,
           0.00048030438483692706,
           32.625423431396484,
           2.515143632888794,
           -56.58749771118164,
           0.0021387909073382616,
           4.255259990692139,
           19.609878540039062,
           2.299473524093628,
           2.23740553855896,
           -1.2034484148025513,
           0.1916126310825348,
           136.5943603515625
          ],
          [
           0.1082364097237587,
           -0.21223677694797516,
           -0.05490153655409813,
           -0.545283854007721,
           -1.429426908493042,
           -0.3627423346042633,
           0.8043985962867737,
           0.0004843123606406152,
           34.36043167114258,
           2.9854509830474854,
           -57.13039016723633,
           -0.08268441259860992,
           3.9013848304748535,
           18.15716552734375,
           3.1370790004730225,
           2.550403594970703,
           -0.14497748017311096,
           0.07626056671142578,
           119.68839263916016
          ],
          [
           0.12623703479766846,
           -0.09981473535299301,
           -0.022092686966061592,
           -0.6123619675636292,
           0.6960574984550476,
           0.17629790306091309,
           0.7644410729408264,
           0.0004500673967413604,
           31.243064880371094,
           2.7847800254821777,
           -71.42472076416016,
           0.029871594160795212,
           1.6017038822174072,
           18.788877487182617,
           1.5603853464126587,
           2.075836181640625,
           -0.5787506103515625,
           -0.8384397029876709,
           123.85447692871094
          ],
          [
           0.30559927225112915,
           -0.6843422055244446,
           -0.5509061217308044,
           -0.5843949317932129,
           0.49212977290153503,
           0.05200646445155144,
           0.7462283372879028,
           0.0004433387366589159,
           36.03656768798828,
           1.8012105226516724,
           -52.44881057739258,
           0.08841561526060104,
           4.25314474105835,
           18.274324417114258,
           6.6279802322387695,
           9.095296859741211,
           1.1217288970947266,
           -1.7296305894851685,
           186.48130798339844
          ],
          [
           0.19026543200016022,
           -0.9811125993728638,
           -0.24197007715702057,
           -0.6790480017662048,
           0.826160728931427,
           0.1361076533794403,
           0.9567856788635254,
           0.0017447572899982333,
           44.38533020019531,
           6.729168891906738,
           8.35029125213623,
           -0.008922005072236061,
           -0.3479408025741577,
           27.414697647094727,
           4.110133647918701,
           3.7592267990112305,
           -2.021366596221924,
           -0.2974810302257538,
           183.8362274169922
          ],
          [
           0.11138199269771576,
           -0.21216361224651337,
           -0.07062851637601852,
           -1.0341061353683472,
           0.7042338252067566,
           -0.03752940893173218,
           1.26123046875,
           0.006767518352717161,
           65.3997802734375,
           5.077115058898926,
           168.5412139892578,
           -0.07065502554178238,
           -21.741933822631836,
           66.58692932128906,
           3.9180402755737305,
           -2.6938364505767822,
           -0.8006421327590942,
           0.15820886194705963,
           232.139892578125
          ],
          [
           0.11156803369522095,
           -0.14972706139087677,
           -0.03701518103480339,
           -1.0750479698181152,
           0.7851226925849915,
           0.05880920961499214,
           1.2723593711853027,
           0.006968651432543993,
           71.91404724121094,
           5.302643775939941,
           160.10682678222656,
           -0.32071197032928467,
           -27.322114944458008,
           81.18883514404297,
           3.3621318340301514,
           -2.1586947441101074,
           -3.7938132286071777,
           -0.14915278553962708,
           197.42027282714844
          ],
          [
           0.204599067568779,
           -0.2461235225200653,
           -0.21333153545856476,
           -0.7938452959060669,
           0.4815913140773773,
           0.1256493330001831,
           1.0464138984680176,
           0.00518224760890007,
           49.97133255004883,
           4.894437789916992,
           53.68952941894531,
           -0.19911928474903107,
           -23.529586791992188,
           55.32871627807617,
           3.3635354042053223,
           1.538684368133545,
           -2.1115994453430176,
           -0.26926857233047485,
           174.94149780273438
          ],
          [
           0.284850537776947,
           -0.7224855422973633,
           -0.10599470883607864,
           -0.7012123465538025,
           0.6031214594841003,
           0.1194339394569397,
           1.062707781791687,
           0.0002201393072027713,
           47.41392517089844,
           3.0333330631256104,
           15.15195083618164,
           -0.16700708866119385,
           -11.840907096862793,
           22.97865104675293,
           4.272884368896484,
           3.205537796020508,
           1.213819980621338,
           0.24470829963684082,
           102.32076263427734
          ],
          [
           0.08558260649442673,
           -0.26781657338142395,
           -0.03651169314980507,
           -0.6109598875045776,
           0.4114564061164856,
           0.024791114032268524,
           0.7712389230728149,
           0.00045804245746694505,
           41.705875396728516,
           2.4311540126800537,
           -35.981204986572266,
           -0.18467994034290314,
           -3.1382734775543213,
           16.870887756347656,
           4.5229268074035645,
           4.405489921569824,
           -2.3479084968566895,
           0.03791113942861557,
           82.2328872680664
          ],
          [
           0.18889480829238892,
           -0.7775468826293945,
           -0.034241363406181335,
           -0.4900377690792084,
           0.4668247401714325,
           0.03599352017045021,
           0.6572790741920471,
           0.0004563787078950554,
           38.646183013916016,
           2.2688169479370117,
           -59.59256362915039,
           -0.18536728620529175,
           0.9315031170845032,
           13.838233947753906,
           4.0595269203186035,
           5.059770107269287,
           -1.8184020519256592,
           0.10285140573978424,
           80.02012634277344
          ],
          [
           0.11466164141893387,
           -0.16193976998329163,
           -0.050843071192502975,
           -0.5839547514915466,
           0.4238177239894867,
           0.0644395723938942,
           0.6787403225898743,
           0.0004557965148705989,
           29.917152404785156,
           1.2996795177459717,
           -81.47754669189453,
           -0.07345428317785263,
           2.0325613021850586,
           13.935806274414062,
           0.7567772269248962,
           1.9554189443588257,
           -1.8155736923217773,
           -0.9485164284706116,
           40.475616455078125
          ],
          [
           -0.3174290060997009,
           0.3310340642929077,
           -0.12958554923534393,
           -1.3448700904846191,
           0.5881621837615967,
           -0.004714091308414936,
           0.5277523994445801,
           0.001710362615995109,
           25.41599464416504,
           1.3539729118347168,
           -50.08005142211914,
           -0.3727305829524994,
           3.743600845336914,
           -26.54120445251465,
           -1.3080363273620605,
           1.7957813739776611,
           -2.2712464332580566,
           0.7923770546913147,
           41.63277816772461
          ],
          [
           -0.19238382577896118,
           0.16576017439365387,
           -0.06331092119216919,
           -0.877108633518219,
           0.5804239511489868,
           0.02127970941364765,
           0.5031863451004028,
           0.002146092476323247,
           22.907079696655273,
           2.157161235809326,
           -53.333221435546875,
           -0.15660357475280762,
           4.341437339782715,
           -30.90949821472168,
           -1.8963706493377686,
           0.18700070679187775,
           -1.8457233905792236,
           0.1540101170539856,
           31.643033981323242
          ],
          [
           0.04668380692601204,
           0.046534158289432526,
           0.20892439782619476,
           -0.6090874671936035,
           -0.5739677548408508,
           0.020424511283636093,
           -2.284179449081421,
           0.0005521719576790929,
           15.208908081054688,
           0.8874129056930542,
           -55.6029167175293,
           0.15441690385341644,
           1.6044375896453857,
           -19.737382888793945,
           0.18790587782859802,
           0.5347346067428589,
           -1.110144853591919,
           -0.07951051741838455,
           -30.715444564819336
          ],
          [
           0.0704040378332138,
           0.00306660495698452,
           0.005788542330265045,
           -0.5281633138656616,
           -0.3896014392375946,
           -0.051410697400569916,
           -2.4512624740600586,
           0.0005640322342514992,
           14.02071762084961,
           0.9111858606338501,
           -42.93519592285156,
           0.022168485447764397,
           1.2551944255828857,
           -14.146629333496094,
           0.7183982133865356,
           1.0827301740646362,
           -1.948799967765808,
           0.03619908541440964,
           -95.28205108642578
          ],
          [
           0.07861907035112381,
           -0.041344404220581055,
           -0.00439880695194006,
           -0.5452210307121277,
           0.32789313793182373,
           -0.01280132308602333,
           0.6400336027145386,
           0.0008225631900131702,
           14.963103294372559,
           1.159946084022522,
           -51.35942840576172,
           -0.10364393144845963,
           1.2107940912246704,
           -22.75741958618164,
           0.4763311743736267,
           0.853819727897644,
           -1.950206995010376,
           0.16697914898395538,
           -95.26329803466797
          ],
          [
           0.13270977139472961,
           -0.01503751054406166,
           0.03497190773487091,
           -0.5262167453765869,
           0.37883010506629944,
           0.0026681271847337484,
           0.6798986196517944,
           0.0008393845055252314,
           14.390527725219727,
           1.1559127569198608,
           -34.342041015625,
           -0.2232520431280136,
           0.9509322047233582,
           -32.627685546875,
           0.7535831928253174,
           1.1008868217468262,
           -2.6093475818634033,
           0.02177518419921398,
           -103.45665740966797
          ],
          [
           0.15651755034923553,
           -0.15258224308490753,
           0.03707513585686684,
           -0.5549656748771667,
           -0.8716737031936646,
           -0.17876099050045013,
           0.5893511772155762,
           0.0012780610704794526,
           16.52436065673828,
           1.6463030576705933,
           -15.422141075134277,
           -0.3689005374908447,
           1.9884896278381348,
           -55.493408203125,
           0.8239267468452454,
           0.7360613942146301,
           -2.750591278076172,
           -0.06881178915500641,
           -82.84323120117188
          ],
          [
           0.4447348117828369,
           -0.4231981933116913,
           -0.02228293940424919,
           -0.7803685665130615,
           0.7693158984184265,
           0.3406188488006592,
           1.031157374382019,
           0.0005409898003563285,
           26.59900665283203,
           4.324277877807617,
           44.66126251220703,
           -0.6762575507164001,
           4.063052177429199,
           -120.94087219238281,
           2.1688156127929688,
           2.7925262451171875,
           -2.3223366737365723,
           0.47057315707206726,
           -57.06726837158203
          ],
          [
           0.3455011546611786,
           -0.34853312373161316,
           -0.07679200172424316,
           -0.7773706316947937,
           0.8298165798187256,
           0.1192348450422287,
           1.2219772338867188,
           0.0004078227502759546,
           40.303794860839844,
           3.6706557273864746,
           87.4390869140625,
           -0.5022661089897156,
           5.4427337646484375,
           -179.41114807128906,
           -2.2335124015808105,
           0.38430309295654297,
           -3.290996789932251,
           0.5145955681800842,
           37.80179977416992
          ],
          [
           -0.9017656445503235,
           0.4451572299003601,
           0.06388839334249496,
           -0.7944748997688293,
           0.6035032272338867,
           -0.0905015766620636,
           0.7729612588882446,
           0.00041011886787600815,
           37.274715423583984,
           1.159719467163086,
           14.937543869018555,
           -2.050440788269043,
           3.1982452869415283,
           -70.25680541992188,
           -1.3633711338043213,
           0.7603104114532471,
           -5.101544380187988,
           -0.42048677802085876,
           83.18323516845703
          ],
          [
           0.11393378674983978,
           0.11304812133312225,
           -0.16461777687072754,
           -0.7269461154937744,
           0.16770629584789276,
           -0.1017497181892395,
           0.5087674260139465,
           0.0004202720010653138,
           27.24408531188965,
           1.5593397617340088,
           -28.239973068237305,
           0.4899006187915802,
           1.0886896848678589,
           -24.55528450012207,
           2.7483482360839844,
           2.03686785697937,
           -0.42894095182418823,
           1.3455692529678345,
           204.861572265625
          ],
          [
           0.03289812058210373,
           0.00438904482871294,
           -0.02268366888165474,
           -0.6151777505874634,
           0.26423653960227966,
           -0.05472677946090698,
           0.5688372254371643,
           0.00039869867032393813,
           40.12403869628906,
           6.724072456359863,
           -3.9013240337371826,
           0.13893280923366547,
           0.9798011779785156,
           -21.420793533325195,
           -1.6129995584487915,
           -4.774735450744629,
           -2.7931156158447266,
           1.4105048179626465,
           319.2957458496094
          ],
          [
           -0.03983254358172417,
           -0.03532906994223595,
           -0.022279951721429825,
           -0.627357006072998,
           0.4631103277206421,
           -0.015223309397697449,
           0.5658614635467529,
           0.00040272370097227395,
           35.80498123168945,
           20.436368942260742,
           4.8773040771484375,
           -0.02710779756307602,
           2.5953235626220703,
           -20.015819549560547,
           -0.4222872853279114,
           -6.170653820037842,
           -1.3667196035385132,
           -0.08611901849508286,
           363.1136779785156
          ],
          [
           -0.029909580945968628,
           -0.054200202226638794,
           -0.015400067903101444,
           -0.6077865958213806,
           0.45533764362335205,
           0.003094450104981661,
           0.5511691570281982,
           0.00041140950634144247,
           32.99904251098633,
           26.067794799804688,
           5.580532550811768,
           -0.01208861917257309,
           2.7792036533355713,
           -19.195932388305664,
           -3.357377052307129,
           -8.327322006225586,
           1.2978521585464478,
           0.4992067217826843,
           374.6746826171875
          ],
          [
           0.002795484848320484,
           -0.0554082915186882,
           -0.033671021461486816,
           -0.6234163641929626,
           0.560994029045105,
           0.020386941730976105,
           0.5377357006072998,
           0.00039178752922452986,
           32.3141975402832,
           23.293106079101562,
           1.1144087314605713,
           0.2542417645454407,
           2.357220411300659,
           -18.85422134399414,
           -0.9144224524497986,
           -15.955507278442383,
           1.5044362545013428,
           -0.023106178268790245,
           381.828125
          ],
          [
           0.0010237160604447126,
           -0.06102044880390167,
           -0.034895896911621094,
           -0.625860869884491,
           0.5427557229995728,
           0.013131984509527683,
           0.5326250195503235,
           0.0003884797915816307,
           32.58828353881836,
           24.576950073242188,
           1.2001595497131348,
           0.25430577993392944,
           2.411581516265869,
           -19.075937271118164,
           -1.6931570768356323,
           -12.839770317077637,
           3.3814566135406494,
           -0.1815534234046936,
           378.95782470703125
          ]
         ]
        }
       ],
       "layout": {
        "coloraxis": {
         "colorscale": [
          [
           0,
           "rgb(0,0,255)"
          ],
          [
           1,
           "rgb(255,0,0)"
          ]
         ]
        },
        "height": 700,
        "template": {
         "data": {
          "bar": [
           {
            "error_x": {
             "color": "#2a3f5f"
            },
            "error_y": {
             "color": "#2a3f5f"
            },
            "marker": {
             "line": {
              "color": "#E5ECF6",
              "width": 0.5
             },
             "pattern": {
              "fillmode": "overlay",
              "size": 10,
              "solidity": 0.2
             }
            },
            "type": "bar"
           }
          ],
          "barpolar": [
           {
            "marker": {
             "line": {
              "color": "#E5ECF6",
              "width": 0.5
             },
             "pattern": {
              "fillmode": "overlay",
              "size": 10,
              "solidity": 0.2
             }
            },
            "type": "barpolar"
           }
          ],
          "carpet": [
           {
            "aaxis": {
             "endlinecolor": "#2a3f5f",
             "gridcolor": "white",
             "linecolor": "white",
             "minorgridcolor": "white",
             "startlinecolor": "#2a3f5f"
            },
            "baxis": {
             "endlinecolor": "#2a3f5f",
             "gridcolor": "white",
             "linecolor": "white",
             "minorgridcolor": "white",
             "startlinecolor": "#2a3f5f"
            },
            "type": "carpet"
           }
          ],
          "choropleth": [
           {
            "colorbar": {
             "outlinewidth": 0,
             "ticks": ""
            },
            "type": "choropleth"
           }
          ],
          "contour": [
           {
            "colorbar": {
             "outlinewidth": 0,
             "ticks": ""
            },
            "colorscale": [
             [
              0,
              "#0d0887"
             ],
             [
              0.1111111111111111,
              "#46039f"
             ],
             [
              0.2222222222222222,
              "#7201a8"
             ],
             [
              0.3333333333333333,
              "#9c179e"
             ],
             [
              0.4444444444444444,
              "#bd3786"
             ],
             [
              0.5555555555555556,
              "#d8576b"
             ],
             [
              0.6666666666666666,
              "#ed7953"
             ],
             [
              0.7777777777777778,
              "#fb9f3a"
             ],
             [
              0.8888888888888888,
              "#fdca26"
             ],
             [
              1,
              "#f0f921"
             ]
            ],
            "type": "contour"
           }
          ],
          "contourcarpet": [
           {
            "colorbar": {
             "outlinewidth": 0,
             "ticks": ""
            },
            "type": "contourcarpet"
           }
          ],
          "heatmap": [
           {
            "colorbar": {
             "outlinewidth": 0,
             "ticks": ""
            },
            "colorscale": [
             [
              0,
              "#0d0887"
             ],
             [
              0.1111111111111111,
              "#46039f"
             ],
             [
              0.2222222222222222,
              "#7201a8"
             ],
             [
              0.3333333333333333,
              "#9c179e"
             ],
             [
              0.4444444444444444,
              "#bd3786"
             ],
             [
              0.5555555555555556,
              "#d8576b"
             ],
             [
              0.6666666666666666,
              "#ed7953"
             ],
             [
              0.7777777777777778,
              "#fb9f3a"
             ],
             [
              0.8888888888888888,
              "#fdca26"
             ],
             [
              1,
              "#f0f921"
             ]
            ],
            "type": "heatmap"
           }
          ],
          "heatmapgl": [
           {
            "colorbar": {
             "outlinewidth": 0,
             "ticks": ""
            },
            "colorscale": [
             [
              0,
              "#0d0887"
             ],
             [
              0.1111111111111111,
              "#46039f"
             ],
             [
              0.2222222222222222,
              "#7201a8"
             ],
             [
              0.3333333333333333,
              "#9c179e"
             ],
             [
              0.4444444444444444,
              "#bd3786"
             ],
             [
              0.5555555555555556,
              "#d8576b"
             ],
             [
              0.6666666666666666,
              "#ed7953"
             ],
             [
              0.7777777777777778,
              "#fb9f3a"
             ],
             [
              0.8888888888888888,
              "#fdca26"
             ],
             [
              1,
              "#f0f921"
             ]
            ],
            "type": "heatmapgl"
           }
          ],
          "histogram": [
           {
            "marker": {
             "pattern": {
              "fillmode": "overlay",
              "size": 10,
              "solidity": 0.2
             }
            },
            "type": "histogram"
           }
          ],
          "histogram2d": [
           {
            "colorbar": {
             "outlinewidth": 0,
             "ticks": ""
            },
            "colorscale": [
             [
              0,
              "#0d0887"
             ],
             [
              0.1111111111111111,
              "#46039f"
             ],
             [
              0.2222222222222222,
              "#7201a8"
             ],
             [
              0.3333333333333333,
              "#9c179e"
             ],
             [
              0.4444444444444444,
              "#bd3786"
             ],
             [
              0.5555555555555556,
              "#d8576b"
             ],
             [
              0.6666666666666666,
              "#ed7953"
             ],
             [
              0.7777777777777778,
              "#fb9f3a"
             ],
             [
              0.8888888888888888,
              "#fdca26"
             ],
             [
              1,
              "#f0f921"
             ]
            ],
            "type": "histogram2d"
           }
          ],
          "histogram2dcontour": [
           {
            "colorbar": {
             "outlinewidth": 0,
             "ticks": ""
            },
            "colorscale": [
             [
              0,
              "#0d0887"
             ],
             [
              0.1111111111111111,
              "#46039f"
             ],
             [
              0.2222222222222222,
              "#7201a8"
             ],
             [
              0.3333333333333333,
              "#9c179e"
             ],
             [
              0.4444444444444444,
              "#bd3786"
             ],
             [
              0.5555555555555556,
              "#d8576b"
             ],
             [
              0.6666666666666666,
              "#ed7953"
             ],
             [
              0.7777777777777778,
              "#fb9f3a"
             ],
             [
              0.8888888888888888,
              "#fdca26"
             ],
             [
              1,
              "#f0f921"
             ]
            ],
            "type": "histogram2dcontour"
           }
          ],
          "mesh3d": [
           {
            "colorbar": {
             "outlinewidth": 0,
             "ticks": ""
            },
            "type": "mesh3d"
           }
          ],
          "parcoords": [
           {
            "line": {
             "colorbar": {
              "outlinewidth": 0,
              "ticks": ""
             }
            },
            "type": "parcoords"
           }
          ],
          "pie": [
           {
            "automargin": true,
            "type": "pie"
           }
          ],
          "scatter": [
           {
            "fillpattern": {
             "fillmode": "overlay",
             "size": 10,
             "solidity": 0.2
            },
            "type": "scatter"
           }
          ],
          "scatter3d": [
           {
            "line": {
             "colorbar": {
              "outlinewidth": 0,
              "ticks": ""
             }
            },
            "marker": {
             "colorbar": {
              "outlinewidth": 0,
              "ticks": ""
             }
            },
            "type": "scatter3d"
           }
          ],
          "scattercarpet": [
           {
            "marker": {
             "colorbar": {
              "outlinewidth": 0,
              "ticks": ""
             }
            },
            "type": "scattercarpet"
           }
          ],
          "scattergeo": [
           {
            "marker": {
             "colorbar": {
              "outlinewidth": 0,
              "ticks": ""
             }
            },
            "type": "scattergeo"
           }
          ],
          "scattergl": [
           {
            "marker": {
             "colorbar": {
              "outlinewidth": 0,
              "ticks": ""
             }
            },
            "type": "scattergl"
           }
          ],
          "scattermapbox": [
           {
            "marker": {
             "colorbar": {
              "outlinewidth": 0,
              "ticks": ""
             }
            },
            "type": "scattermapbox"
           }
          ],
          "scatterpolar": [
           {
            "marker": {
             "colorbar": {
              "outlinewidth": 0,
              "ticks": ""
             }
            },
            "type": "scatterpolar"
           }
          ],
          "scatterpolargl": [
           {
            "marker": {
             "colorbar": {
              "outlinewidth": 0,
              "ticks": ""
             }
            },
            "type": "scatterpolargl"
           }
          ],
          "scatterternary": [
           {
            "marker": {
             "colorbar": {
              "outlinewidth": 0,
              "ticks": ""
             }
            },
            "type": "scatterternary"
           }
          ],
          "surface": [
           {
            "colorbar": {
             "outlinewidth": 0,
             "ticks": ""
            },
            "colorscale": [
             [
              0,
              "#0d0887"
             ],
             [
              0.1111111111111111,
              "#46039f"
             ],
             [
              0.2222222222222222,
              "#7201a8"
             ],
             [
              0.3333333333333333,
              "#9c179e"
             ],
             [
              0.4444444444444444,
              "#bd3786"
             ],
             [
              0.5555555555555556,
              "#d8576b"
             ],
             [
              0.6666666666666666,
              "#ed7953"
             ],
             [
              0.7777777777777778,
              "#fb9f3a"
             ],
             [
              0.8888888888888888,
              "#fdca26"
             ],
             [
              1,
              "#f0f921"
             ]
            ],
            "type": "surface"
           }
          ],
          "table": [
           {
            "cells": {
             "fill": {
              "color": "#EBF0F8"
             },
             "line": {
              "color": "white"
             }
            },
            "header": {
             "fill": {
              "color": "#C8D4E3"
             },
             "line": {
              "color": "white"
             }
            },
            "type": "table"
           }
          ]
         },
         "layout": {
          "annotationdefaults": {
           "arrowcolor": "#2a3f5f",
           "arrowhead": 0,
           "arrowwidth": 1
          },
          "autotypenumbers": "strict",
          "coloraxis": {
           "colorbar": {
            "outlinewidth": 0,
            "ticks": ""
           }
          },
          "colorscale": {
           "diverging": [
            [
             0,
             "#8e0152"
            ],
            [
             0.1,
             "#c51b7d"
            ],
            [
             0.2,
             "#de77ae"
            ],
            [
             0.3,
             "#f1b6da"
            ],
            [
             0.4,
             "#fde0ef"
            ],
            [
             0.5,
             "#f7f7f7"
            ],
            [
             0.6,
             "#e6f5d0"
            ],
            [
             0.7,
             "#b8e186"
            ],
            [
             0.8,
             "#7fbc41"
            ],
            [
             0.9,
             "#4d9221"
            ],
            [
             1,
             "#276419"
            ]
           ],
           "sequential": [
            [
             0,
             "#0d0887"
            ],
            [
             0.1111111111111111,
             "#46039f"
            ],
            [
             0.2222222222222222,
             "#7201a8"
            ],
            [
             0.3333333333333333,
             "#9c179e"
            ],
            [
             0.4444444444444444,
             "#bd3786"
            ],
            [
             0.5555555555555556,
             "#d8576b"
            ],
            [
             0.6666666666666666,
             "#ed7953"
            ],
            [
             0.7777777777777778,
             "#fb9f3a"
            ],
            [
             0.8888888888888888,
             "#fdca26"
            ],
            [
             1,
             "#f0f921"
            ]
           ],
           "sequentialminus": [
            [
             0,
             "#0d0887"
            ],
            [
             0.1111111111111111,
             "#46039f"
            ],
            [
             0.2222222222222222,
             "#7201a8"
            ],
            [
             0.3333333333333333,
             "#9c179e"
            ],
            [
             0.4444444444444444,
             "#bd3786"
            ],
            [
             0.5555555555555556,
             "#d8576b"
            ],
            [
             0.6666666666666666,
             "#ed7953"
            ],
            [
             0.7777777777777778,
             "#fb9f3a"
            ],
            [
             0.8888888888888888,
             "#fdca26"
            ],
            [
             1,
             "#f0f921"
            ]
           ]
          },
          "colorway": [
           "#636efa",
           "#EF553B",
           "#00cc96",
           "#ab63fa",
           "#FFA15A",
           "#19d3f3",
           "#FF6692",
           "#B6E880",
           "#FF97FF",
           "#FECB52"
          ],
          "font": {
           "color": "#2a3f5f"
          },
          "geo": {
           "bgcolor": "white",
           "lakecolor": "white",
           "landcolor": "#E5ECF6",
           "showlakes": true,
           "showland": true,
           "subunitcolor": "white"
          },
          "hoverlabel": {
           "align": "left"
          },
          "hovermode": "closest",
          "mapbox": {
           "style": "light"
          },
          "paper_bgcolor": "white",
          "plot_bgcolor": "#E5ECF6",
          "polar": {
           "angularaxis": {
            "gridcolor": "white",
            "linecolor": "white",
            "ticks": ""
           },
           "bgcolor": "#E5ECF6",
           "radialaxis": {
            "gridcolor": "white",
            "linecolor": "white",
            "ticks": ""
           }
          },
          "scene": {
           "xaxis": {
            "backgroundcolor": "#E5ECF6",
            "gridcolor": "white",
            "gridwidth": 2,
            "linecolor": "white",
            "showbackground": true,
            "ticks": "",
            "zerolinecolor": "white"
           },
           "yaxis": {
            "backgroundcolor": "#E5ECF6",
            "gridcolor": "white",
            "gridwidth": 2,
            "linecolor": "white",
            "showbackground": true,
            "ticks": "",
            "zerolinecolor": "white"
           },
           "zaxis": {
            "backgroundcolor": "#E5ECF6",
            "gridcolor": "white",
            "gridwidth": 2,
            "linecolor": "white",
            "showbackground": true,
            "ticks": "",
            "zerolinecolor": "white"
           }
          },
          "shapedefaults": {
           "line": {
            "color": "#2a3f5f"
           }
          },
          "ternary": {
           "aaxis": {
            "gridcolor": "white",
            "linecolor": "white",
            "ticks": ""
           },
           "baxis": {
            "gridcolor": "white",
            "linecolor": "white",
            "ticks": ""
           },
           "bgcolor": "#E5ECF6",
           "caxis": {
            "gridcolor": "white",
            "linecolor": "white",
            "ticks": ""
           }
          },
          "title": {
           "x": 0.05
          },
          "xaxis": {
           "automargin": true,
           "gridcolor": "white",
           "linecolor": "white",
           "ticks": "",
           "title": {
            "standoff": 15
           },
           "zerolinecolor": "white",
           "zerolinewidth": 2
          },
          "yaxis": {
           "automargin": true,
           "gridcolor": "white",
           "linecolor": "white",
           "ticks": "",
           "title": {
            "standoff": 15
           },
           "zerolinecolor": "white",
           "zerolinewidth": 2
          }
         }
        },
        "title": {
         "text": "Sample Explanations"
        },
        "xaxis": {
         "anchor": "y",
         "constrain": "domain",
         "domain": [
          0,
          1
         ],
         "scaleanchor": "y"
        },
        "yaxis": {
         "anchor": "x",
         "autorange": "reversed",
         "constrain": "domain",
         "domain": [
          0,
          1
         ]
        }
       }
      }
     },
     "metadata": {},
     "output_type": "display_data"
    }
   ],
   "source": [
    "px.imshow(samples_explanations, height=700, color_continuous_scale='Bluered', title=\"Sample Explanations\")"
   ]
  }
 ],
 "metadata": {
  "kernelspec": {
   "display_name": ".venv",
   "language": "python",
   "name": "python3"
  },
  "language_info": {
   "codemirror_mode": {
    "name": "ipython",
    "version": 3
   },
   "file_extension": ".py",
   "mimetype": "text/x-python",
   "name": "python",
   "nbconvert_exporter": "python",
   "pygments_lexer": "ipython3",
   "version": "3.12.4"
  }
 },
 "nbformat": 4,
 "nbformat_minor": 2
}
