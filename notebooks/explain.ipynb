{
 "cells": [
  {
   "cell_type": "markdown",
   "metadata": {},
   "source": [
    "**Analyze model and sample explanations from feature importances and SHAP values.**"
   ]
  },
  {
   "cell_type": "markdown",
   "metadata": {},
   "source": [
    "# IMPORTS"
   ]
  },
  {
   "cell_type": "code",
   "execution_count": 1,
   "metadata": {},
   "outputs": [
    {
     "name": "stderr",
     "output_type": "stream",
     "text": [
      "/home/fmind/mlops-python-package/.venv/lib/python3.12/site-packages/tqdm/auto.py:21: TqdmWarning: IProgress not found. Please update jupyter and ipywidgets. See https://ipywidgets.readthedocs.io/en/stable/user_install.html\n",
      "  from .autonotebook import tqdm as notebook_tqdm\n"
     ]
    }
   ],
   "source": [
    "import pandas as pd\n",
    "import plotly.express as px\n",
    "import shap"
   ]
  },
  {
   "cell_type": "markdown",
   "metadata": {},
   "source": [
    "# CONFIGS"
   ]
  },
  {
   "cell_type": "code",
   "execution_count": 2,
   "metadata": {},
   "outputs": [],
   "source": [
    "# note: you must run the explanations job first to generate the output\n",
    "MODELS_EXPLANATIONS = \"../outputs/models_explanations.parquet\"\n",
    "SAMPLES_EXPLANATIONS = \"../outputs/samples_explanations.parquet\""
   ]
  },
  {
   "cell_type": "markdown",
   "metadata": {},
   "source": [
    "# DATASETS"
   ]
  },
  {
   "cell_type": "code",
   "execution_count": 3,
   "metadata": {},
   "outputs": [
    {
     "name": "stdout",
     "output_type": "stream",
     "text": [
      "(20, 2)\n"
     ]
    },
    {
     "data": {
      "text/html": [
       "<div>\n",
       "<style scoped>\n",
       "    .dataframe tbody tr th:only-of-type {\n",
       "        vertical-align: middle;\n",
       "    }\n",
       "\n",
       "    .dataframe tbody tr th {\n",
       "        vertical-align: top;\n",
       "    }\n",
       "\n",
       "    .dataframe thead th {\n",
       "        text-align: right;\n",
       "    }\n",
       "</style>\n",
       "<table border=\"1\" class=\"dataframe\">\n",
       "  <thead>\n",
       "    <tr style=\"text-align: right;\">\n",
       "      <th></th>\n",
       "      <th>feature</th>\n",
       "      <th>importance</th>\n",
       "    </tr>\n",
       "  </thead>\n",
       "  <tbody>\n",
       "    <tr>\n",
       "      <th>19</th>\n",
       "      <td>numericals__registered</td>\n",
       "      <td>0.939335</td>\n",
       "    </tr>\n",
       "    <tr>\n",
       "      <th>18</th>\n",
       "      <td>numericals__casual</td>\n",
       "      <td>0.060139</td>\n",
       "    </tr>\n",
       "    <tr>\n",
       "      <th>8</th>\n",
       "      <td>numericals__yr</td>\n",
       "      <td>0.000161</td>\n",
       "    </tr>\n",
       "    <tr>\n",
       "      <th>16</th>\n",
       "      <td>numericals__hum</td>\n",
       "      <td>0.000064</td>\n",
       "    </tr>\n",
       "    <tr>\n",
       "      <th>10</th>\n",
       "      <td>numericals__hr</td>\n",
       "      <td>0.000059</td>\n",
       "    </tr>\n",
       "  </tbody>\n",
       "</table>\n",
       "</div>"
      ],
      "text/plain": [
       "                   feature  importance\n",
       "19  numericals__registered    0.939335\n",
       "18      numericals__casual    0.060139\n",
       "8           numericals__yr    0.000161\n",
       "16         numericals__hum    0.000064\n",
       "10          numericals__hr    0.000059"
      ]
     },
     "execution_count": 3,
     "metadata": {},
     "output_type": "execute_result"
    }
   ],
   "source": [
    "models_explanations = pd.read_parquet(MODELS_EXPLANATIONS).sort_values(\n",
    "    \"importance\", ascending=False\n",
    ")\n",
    "print(models_explanations.shape)\n",
    "models_explanations.head()"
   ]
  },
  {
   "cell_type": "code",
   "execution_count": 4,
   "metadata": {},
   "outputs": [
    {
     "name": "stdout",
     "output_type": "stream",
     "text": [
      "(100, 20)\n"
     ]
    },
    {
     "data": {
      "text/html": [
       "<div>\n",
       "<style scoped>\n",
       "    .dataframe tbody tr th:only-of-type {\n",
       "        vertical-align: middle;\n",
       "    }\n",
       "\n",
       "    .dataframe tbody tr th {\n",
       "        vertical-align: top;\n",
       "    }\n",
       "\n",
       "    .dataframe thead th {\n",
       "        text-align: right;\n",
       "    }\n",
       "</style>\n",
       "<table border=\"1\" class=\"dataframe\">\n",
       "  <thead>\n",
       "    <tr style=\"text-align: right;\">\n",
       "      <th></th>\n",
       "      <th>categoricals__season_1</th>\n",
       "      <th>categoricals__season_2</th>\n",
       "      <th>categoricals__season_3</th>\n",
       "      <th>categoricals__season_4</th>\n",
       "      <th>categoricals__weathersit_1</th>\n",
       "      <th>categoricals__weathersit_2</th>\n",
       "      <th>categoricals__weathersit_3</th>\n",
       "      <th>categoricals__weathersit_4</th>\n",
       "      <th>numericals__yr</th>\n",
       "      <th>numericals__mnth</th>\n",
       "      <th>numericals__hr</th>\n",
       "      <th>numericals__holiday</th>\n",
       "      <th>numericals__weekday</th>\n",
       "      <th>numericals__workingday</th>\n",
       "      <th>numericals__temp</th>\n",
       "      <th>numericals__atemp</th>\n",
       "      <th>numericals__hum</th>\n",
       "      <th>numericals__windspeed</th>\n",
       "      <th>numericals__casual</th>\n",
       "      <th>numericals__registered</th>\n",
       "    </tr>\n",
       "  </thead>\n",
       "  <tbody>\n",
       "    <tr>\n",
       "      <th>0</th>\n",
       "      <td>0.006652</td>\n",
       "      <td>0.027727</td>\n",
       "      <td>0.006341</td>\n",
       "      <td>-0.004617</td>\n",
       "      <td>0.007796</td>\n",
       "      <td>-0.002922</td>\n",
       "      <td>0.001006</td>\n",
       "      <td>-5.551742e-07</td>\n",
       "      <td>0.079501</td>\n",
       "      <td>-0.032553</td>\n",
       "      <td>0.019730</td>\n",
       "      <td>-0.005449</td>\n",
       "      <td>-0.091014</td>\n",
       "      <td>-0.040552</td>\n",
       "      <td>0.024861</td>\n",
       "      <td>0.003903</td>\n",
       "      <td>-0.012946</td>\n",
       "      <td>0.083744</td>\n",
       "      <td>25.231182</td>\n",
       "      <td>93.615906</td>\n",
       "    </tr>\n",
       "    <tr>\n",
       "      <th>1</th>\n",
       "      <td>-0.000006</td>\n",
       "      <td>0.015149</td>\n",
       "      <td>0.013882</td>\n",
       "      <td>-0.003549</td>\n",
       "      <td>0.009620</td>\n",
       "      <td>0.034864</td>\n",
       "      <td>0.004730</td>\n",
       "      <td>-5.551742e-07</td>\n",
       "      <td>0.080114</td>\n",
       "      <td>-0.001672</td>\n",
       "      <td>0.052958</td>\n",
       "      <td>-0.005971</td>\n",
       "      <td>0.013171</td>\n",
       "      <td>-0.020272</td>\n",
       "      <td>0.069661</td>\n",
       "      <td>0.010426</td>\n",
       "      <td>0.060713</td>\n",
       "      <td>-0.055690</td>\n",
       "      <td>11.599885</td>\n",
       "      <td>79.890282</td>\n",
       "    </tr>\n",
       "    <tr>\n",
       "      <th>2</th>\n",
       "      <td>0.001510</td>\n",
       "      <td>0.008787</td>\n",
       "      <td>-0.031662</td>\n",
       "      <td>-0.005680</td>\n",
       "      <td>0.003407</td>\n",
       "      <td>0.007366</td>\n",
       "      <td>0.002644</td>\n",
       "      <td>-5.384581e-07</td>\n",
       "      <td>0.075888</td>\n",
       "      <td>-0.039858</td>\n",
       "      <td>0.066534</td>\n",
       "      <td>-0.008654</td>\n",
       "      <td>-0.043778</td>\n",
       "      <td>-0.015179</td>\n",
       "      <td>0.120411</td>\n",
       "      <td>0.004957</td>\n",
       "      <td>0.042915</td>\n",
       "      <td>-0.029475</td>\n",
       "      <td>17.027773</td>\n",
       "      <td>80.330391</td>\n",
       "    </tr>\n",
       "    <tr>\n",
       "      <th>3</th>\n",
       "      <td>0.002116</td>\n",
       "      <td>0.000101</td>\n",
       "      <td>-0.030228</td>\n",
       "      <td>-0.008386</td>\n",
       "      <td>-0.001240</td>\n",
       "      <td>-0.001726</td>\n",
       "      <td>0.001956</td>\n",
       "      <td>-5.384581e-07</td>\n",
       "      <td>0.089552</td>\n",
       "      <td>-0.000123</td>\n",
       "      <td>0.059446</td>\n",
       "      <td>-0.009938</td>\n",
       "      <td>0.050032</td>\n",
       "      <td>-0.025889</td>\n",
       "      <td>-0.006929</td>\n",
       "      <td>-0.059649</td>\n",
       "      <td>-0.040841</td>\n",
       "      <td>0.017910</td>\n",
       "      <td>36.772224</td>\n",
       "      <td>106.574913</td>\n",
       "    </tr>\n",
       "    <tr>\n",
       "      <th>4</th>\n",
       "      <td>0.012335</td>\n",
       "      <td>0.003437</td>\n",
       "      <td>0.013386</td>\n",
       "      <td>-0.027833</td>\n",
       "      <td>0.021164</td>\n",
       "      <td>-0.005834</td>\n",
       "      <td>-0.004372</td>\n",
       "      <td>-6.086659e-07</td>\n",
       "      <td>0.018141</td>\n",
       "      <td>0.174302</td>\n",
       "      <td>0.120672</td>\n",
       "      <td>-0.003116</td>\n",
       "      <td>0.040308</td>\n",
       "      <td>-0.074956</td>\n",
       "      <td>0.069545</td>\n",
       "      <td>0.015809</td>\n",
       "      <td>0.074836</td>\n",
       "      <td>-0.040882</td>\n",
       "      <td>38.722881</td>\n",
       "      <td>246.853470</td>\n",
       "    </tr>\n",
       "  </tbody>\n",
       "</table>\n",
       "</div>"
      ],
      "text/plain": [
       "   categoricals__season_1  categoricals__season_2  categoricals__season_3  \\\n",
       "0                0.006652                0.027727                0.006341   \n",
       "1               -0.000006                0.015149                0.013882   \n",
       "2                0.001510                0.008787               -0.031662   \n",
       "3                0.002116                0.000101               -0.030228   \n",
       "4                0.012335                0.003437                0.013386   \n",
       "\n",
       "   categoricals__season_4  categoricals__weathersit_1  \\\n",
       "0               -0.004617                    0.007796   \n",
       "1               -0.003549                    0.009620   \n",
       "2               -0.005680                    0.003407   \n",
       "3               -0.008386                   -0.001240   \n",
       "4               -0.027833                    0.021164   \n",
       "\n",
       "   categoricals__weathersit_2  categoricals__weathersit_3  \\\n",
       "0                   -0.002922                    0.001006   \n",
       "1                    0.034864                    0.004730   \n",
       "2                    0.007366                    0.002644   \n",
       "3                   -0.001726                    0.001956   \n",
       "4                   -0.005834                   -0.004372   \n",
       "\n",
       "   categoricals__weathersit_4  numericals__yr  numericals__mnth  \\\n",
       "0               -5.551742e-07        0.079501         -0.032553   \n",
       "1               -5.551742e-07        0.080114         -0.001672   \n",
       "2               -5.384581e-07        0.075888         -0.039858   \n",
       "3               -5.384581e-07        0.089552         -0.000123   \n",
       "4               -6.086659e-07        0.018141          0.174302   \n",
       "\n",
       "   numericals__hr  numericals__holiday  numericals__weekday  \\\n",
       "0        0.019730            -0.005449            -0.091014   \n",
       "1        0.052958            -0.005971             0.013171   \n",
       "2        0.066534            -0.008654            -0.043778   \n",
       "3        0.059446            -0.009938             0.050032   \n",
       "4        0.120672            -0.003116             0.040308   \n",
       "\n",
       "   numericals__workingday  numericals__temp  numericals__atemp  \\\n",
       "0               -0.040552          0.024861           0.003903   \n",
       "1               -0.020272          0.069661           0.010426   \n",
       "2               -0.015179          0.120411           0.004957   \n",
       "3               -0.025889         -0.006929          -0.059649   \n",
       "4               -0.074956          0.069545           0.015809   \n",
       "\n",
       "   numericals__hum  numericals__windspeed  numericals__casual  \\\n",
       "0        -0.012946               0.083744           25.231182   \n",
       "1         0.060713              -0.055690           11.599885   \n",
       "2         0.042915              -0.029475           17.027773   \n",
       "3        -0.040841               0.017910           36.772224   \n",
       "4         0.074836              -0.040882           38.722881   \n",
       "\n",
       "   numericals__registered  \n",
       "0               93.615906  \n",
       "1               79.890282  \n",
       "2               80.330391  \n",
       "3              106.574913  \n",
       "4              246.853470  "
      ]
     },
     "execution_count": 4,
     "metadata": {},
     "output_type": "execute_result"
    }
   ],
   "source": [
    "samples_explanations = pd.read_parquet(SAMPLES_EXPLANATIONS)\n",
    "print(samples_explanations.shape)\n",
    "samples_explanations.head()"
   ]
  },
  {
   "cell_type": "code",
   "execution_count": 5,
   "metadata": {},
   "outputs": [
    {
     "name": "stdout",
     "output_type": "stream",
     "text": [
      "Features: ['categoricals__season_1', 'categoricals__season_2', 'categoricals__season_3', 'categoricals__season_4', 'categoricals__weathersit_1', 'categoricals__weathersit_2', 'categoricals__weathersit_3', 'categoricals__weathersit_4', 'numericals__yr', 'numericals__mnth', 'numericals__hr', 'numericals__holiday', 'numericals__weekday', 'numericals__workingday', 'numericals__temp', 'numericals__atemp', 'numericals__hum', 'numericals__windspeed', 'numericals__casual', 'numericals__registered']\n"
     ]
    },
    {
     "data": {
      "text/plain": [
       ".values =\n",
       "    categoricals__season_1  categoricals__season_2  categoricals__season_3  \\\n",
       "0                 0.006652                0.027727                0.006341   \n",
       "1                -0.000006                0.015149                0.013882   \n",
       "2                 0.001510                0.008787               -0.031662   \n",
       "3                 0.002116                0.000101               -0.030228   \n",
       "4                 0.012335                0.003437                0.013386   \n",
       "..                     ...                     ...                     ...   \n",
       "95                0.023137                0.013332               -0.107473   \n",
       "96                0.004738               -0.013562               -0.005693   \n",
       "97               -0.019759                0.010218               -0.009712   \n",
       "98                0.003229               -0.000393               -0.161296   \n",
       "99               -0.002694               -0.024382               -0.013047   \n",
       "\n",
       "    categoricals__season_4  categoricals__weathersit_1  \\\n",
       "0                -0.004617                    0.007796   \n",
       "1                -0.003549                    0.009620   \n",
       "2                -0.005680                    0.003407   \n",
       "3                -0.008386                   -0.001240   \n",
       "4                -0.027833                    0.021164   \n",
       "..                     ...                         ...   \n",
       "95               -0.000028                    0.015664   \n",
       "96                0.006259                    0.040204   \n",
       "97               -0.002168                    0.050850   \n",
       "98                0.001767                    0.032412   \n",
       "99               -0.000830                    0.073416   \n",
       "\n",
       "    categoricals__weathersit_2  categoricals__weathersit_3  \\\n",
       "0                    -0.002922                    0.001006   \n",
       "1                     0.034864                    0.004730   \n",
       "2                     0.007366                    0.002644   \n",
       "3                    -0.001726                    0.001956   \n",
       "4                    -0.005834                   -0.004372   \n",
       "..                         ...                         ...   \n",
       "95                    0.042348                    0.001443   \n",
       "96                    0.015874                    0.000851   \n",
       "97                    0.016159                    0.000913   \n",
       "98                    0.004988                    0.001736   \n",
       "99                    0.008803                    0.005390   \n",
       "\n",
       "    categoricals__weathersit_4  numericals__yr  numericals__mnth  \\\n",
       "0                -5.551742e-07        0.079501         -0.032553   \n",
       "1                -5.551742e-07        0.080114         -0.001672   \n",
       "2                -5.384581e-07        0.075888         -0.039858   \n",
       "3                -5.384581e-07        0.089552         -0.000123   \n",
       "4                -6.086659e-07        0.018141          0.174302   \n",
       "..                         ...             ...               ...   \n",
       "95               -5.602442e-07        1.145752          0.013935   \n",
       "96               -5.903332e-07        0.702181         -0.239828   \n",
       "97               -5.234687e-07        0.233502          0.053566   \n",
       "98               -5.234687e-07        1.738129         -0.242034   \n",
       "99               -5.903332e-07        2.091767         -0.134973   \n",
       "\n",
       "    numericals__hr  numericals__holiday  numericals__weekday  \\\n",
       "0         0.019730            -0.005449            -0.091014   \n",
       "1         0.052958            -0.005971             0.013171   \n",
       "2         0.066534            -0.008654            -0.043778   \n",
       "3         0.059446            -0.009938             0.050032   \n",
       "4         0.120672            -0.003116             0.040308   \n",
       "..             ...                  ...                  ...   \n",
       "95        0.233593            -0.001234             0.026021   \n",
       "96       -0.003729            -0.001246             0.083014   \n",
       "97        0.239605            -0.001948             0.132541   \n",
       "98        0.097312             0.015623             0.146109   \n",
       "99        0.258849            -0.001218             0.013697   \n",
       "\n",
       "    numericals__workingday  numericals__temp  numericals__atemp  \\\n",
       "0                -0.040552          0.024861           0.003903   \n",
       "1                -0.020272          0.069661           0.010426   \n",
       "2                -0.015179          0.120411           0.004957   \n",
       "3                -0.025889         -0.006929          -0.059649   \n",
       "4                -0.074956          0.069545           0.015809   \n",
       "..                     ...               ...                ...   \n",
       "95                0.033179          0.099047           0.023928   \n",
       "96                0.006335         -0.164110          -0.198730   \n",
       "97                0.047977         -0.179421          -0.228707   \n",
       "98                0.029174          0.148351           0.050507   \n",
       "99                0.039286          0.102756           0.067073   \n",
       "\n",
       "    numericals__hum  numericals__windspeed  numericals__casual  \\\n",
       "0         -0.012946               0.083744           25.231182   \n",
       "1          0.060713              -0.055690           11.599885   \n",
       "2          0.042915              -0.029475           17.027773   \n",
       "3         -0.040841               0.017910           36.772224   \n",
       "4          0.074836              -0.040882           38.722881   \n",
       "..              ...                    ...                 ...   \n",
       "95         0.094390               0.061557          118.444702   \n",
       "96        -0.431589               0.055392          125.518913   \n",
       "97        -0.302664              -0.151566          136.479645   \n",
       "98        -0.501217               0.015435          146.480164   \n",
       "99        -0.028538               0.062194          143.070084   \n",
       "\n",
       "    numericals__registered  \n",
       "0                93.615906  \n",
       "1                79.890282  \n",
       "2                80.330391  \n",
       "3               106.574913  \n",
       "4               246.853470  \n",
       "..                     ...  \n",
       "95              216.020004  \n",
       "96              256.033020  \n",
       "97              273.089264  \n",
       "98              224.673309  \n",
       "99              245.905670  \n",
       "\n",
       "[100 rows x 20 columns]"
      ]
     },
     "execution_count": 5,
     "metadata": {},
     "output_type": "execute_result"
    }
   ],
   "source": [
    "shap_values = shap.Explanation(\n",
    "    samples_explanations, feature_names=samples_explanations.columns.to_list()\n",
    ")\n",
    "print(\"Features:\", shap_values.feature_names)\n",
    "shap_values"
   ]
  },
  {
   "cell_type": "markdown",
   "metadata": {},
   "source": [
    "# EXPLANATIONS"
   ]
  },
  {
   "cell_type": "markdown",
   "metadata": {},
   "source": [
    "## Model"
   ]
  },
  {
   "cell_type": "code",
   "execution_count": 6,
   "metadata": {},
   "outputs": [
    {
     "data": {
      "application/vnd.plotly.v1+json": {
       "config": {
        "plotlyServerURL": "https://plot.ly"
       },
       "data": [
        {
         "alignmentgroup": "True",
         "hovertemplate": "feature=%{x}<br>importance=%{y}<extra></extra>",
         "legendgroup": "",
         "marker": {
          "color": "#636efa",
          "pattern": {
           "shape": ""
          }
         },
         "name": "",
         "offsetgroup": "",
         "orientation": "v",
         "showlegend": false,
         "textposition": "auto",
         "type": "bar",
         "x": [
          "numericals__registered",
          "numericals__casual",
          "numericals__yr",
          "numericals__hum",
          "numericals__hr",
          "numericals__windspeed",
          "numericals__temp",
          "numericals__atemp",
          "numericals__mnth",
          "numericals__weekday",
          "categoricals__weathersit_2",
          "categoricals__weathersit_1",
          "categoricals__season_2",
          "categoricals__season_3",
          "numericals__workingday",
          "categoricals__season_1",
          "categoricals__season_4",
          "numericals__holiday",
          "categoricals__weathersit_3",
          "categoricals__weathersit_4"
         ],
         "xaxis": "x",
         "y": [
          0.939335286617279,
          0.06013893708586693,
          0.00016115649486891925,
          0.00006372830830514431,
          0.000059160523960599676,
          0.000047698642447358,
          0.00004084747706656344,
          0.00003856617695419118,
          0.000034207892895210534,
          0.000027639429390546866,
          0.000021623562133754604,
          0.000008339592568518128,
          0.0000059107342167408206,
          0.000005159051852388075,
          0.000004351996267359937,
          0.000003020162239408819,
          0.0000021705050130549353,
          0.000001173117652797373,
          0.0000010395727940704091,
          1.8287782399539765e-10
         ],
         "yaxis": "y"
        }
       ],
       "layout": {
        "barmode": "relative",
        "legend": {
         "tracegroupgap": 0
        },
        "template": {
         "data": {
          "bar": [
           {
            "error_x": {
             "color": "#2a3f5f"
            },
            "error_y": {
             "color": "#2a3f5f"
            },
            "marker": {
             "line": {
              "color": "#E5ECF6",
              "width": 0.5
             },
             "pattern": {
              "fillmode": "overlay",
              "size": 10,
              "solidity": 0.2
             }
            },
            "type": "bar"
           }
          ],
          "barpolar": [
           {
            "marker": {
             "line": {
              "color": "#E5ECF6",
              "width": 0.5
             },
             "pattern": {
              "fillmode": "overlay",
              "size": 10,
              "solidity": 0.2
             }
            },
            "type": "barpolar"
           }
          ],
          "carpet": [
           {
            "aaxis": {
             "endlinecolor": "#2a3f5f",
             "gridcolor": "white",
             "linecolor": "white",
             "minorgridcolor": "white",
             "startlinecolor": "#2a3f5f"
            },
            "baxis": {
             "endlinecolor": "#2a3f5f",
             "gridcolor": "white",
             "linecolor": "white",
             "minorgridcolor": "white",
             "startlinecolor": "#2a3f5f"
            },
            "type": "carpet"
           }
          ],
          "choropleth": [
           {
            "colorbar": {
             "outlinewidth": 0,
             "ticks": ""
            },
            "type": "choropleth"
           }
          ],
          "contour": [
           {
            "colorbar": {
             "outlinewidth": 0,
             "ticks": ""
            },
            "colorscale": [
             [
              0,
              "#0d0887"
             ],
             [
              0.1111111111111111,
              "#46039f"
             ],
             [
              0.2222222222222222,
              "#7201a8"
             ],
             [
              0.3333333333333333,
              "#9c179e"
             ],
             [
              0.4444444444444444,
              "#bd3786"
             ],
             [
              0.5555555555555556,
              "#d8576b"
             ],
             [
              0.6666666666666666,
              "#ed7953"
             ],
             [
              0.7777777777777778,
              "#fb9f3a"
             ],
             [
              0.8888888888888888,
              "#fdca26"
             ],
             [
              1,
              "#f0f921"
             ]
            ],
            "type": "contour"
           }
          ],
          "contourcarpet": [
           {
            "colorbar": {
             "outlinewidth": 0,
             "ticks": ""
            },
            "type": "contourcarpet"
           }
          ],
          "heatmap": [
           {
            "colorbar": {
             "outlinewidth": 0,
             "ticks": ""
            },
            "colorscale": [
             [
              0,
              "#0d0887"
             ],
             [
              0.1111111111111111,
              "#46039f"
             ],
             [
              0.2222222222222222,
              "#7201a8"
             ],
             [
              0.3333333333333333,
              "#9c179e"
             ],
             [
              0.4444444444444444,
              "#bd3786"
             ],
             [
              0.5555555555555556,
              "#d8576b"
             ],
             [
              0.6666666666666666,
              "#ed7953"
             ],
             [
              0.7777777777777778,
              "#fb9f3a"
             ],
             [
              0.8888888888888888,
              "#fdca26"
             ],
             [
              1,
              "#f0f921"
             ]
            ],
            "type": "heatmap"
           }
          ],
          "heatmapgl": [
           {
            "colorbar": {
             "outlinewidth": 0,
             "ticks": ""
            },
            "colorscale": [
             [
              0,
              "#0d0887"
             ],
             [
              0.1111111111111111,
              "#46039f"
             ],
             [
              0.2222222222222222,
              "#7201a8"
             ],
             [
              0.3333333333333333,
              "#9c179e"
             ],
             [
              0.4444444444444444,
              "#bd3786"
             ],
             [
              0.5555555555555556,
              "#d8576b"
             ],
             [
              0.6666666666666666,
              "#ed7953"
             ],
             [
              0.7777777777777778,
              "#fb9f3a"
             ],
             [
              0.8888888888888888,
              "#fdca26"
             ],
             [
              1,
              "#f0f921"
             ]
            ],
            "type": "heatmapgl"
           }
          ],
          "histogram": [
           {
            "marker": {
             "pattern": {
              "fillmode": "overlay",
              "size": 10,
              "solidity": 0.2
             }
            },
            "type": "histogram"
           }
          ],
          "histogram2d": [
           {
            "colorbar": {
             "outlinewidth": 0,
             "ticks": ""
            },
            "colorscale": [
             [
              0,
              "#0d0887"
             ],
             [
              0.1111111111111111,
              "#46039f"
             ],
             [
              0.2222222222222222,
              "#7201a8"
             ],
             [
              0.3333333333333333,
              "#9c179e"
             ],
             [
              0.4444444444444444,
              "#bd3786"
             ],
             [
              0.5555555555555556,
              "#d8576b"
             ],
             [
              0.6666666666666666,
              "#ed7953"
             ],
             [
              0.7777777777777778,
              "#fb9f3a"
             ],
             [
              0.8888888888888888,
              "#fdca26"
             ],
             [
              1,
              "#f0f921"
             ]
            ],
            "type": "histogram2d"
           }
          ],
          "histogram2dcontour": [
           {
            "colorbar": {
             "outlinewidth": 0,
             "ticks": ""
            },
            "colorscale": [
             [
              0,
              "#0d0887"
             ],
             [
              0.1111111111111111,
              "#46039f"
             ],
             [
              0.2222222222222222,
              "#7201a8"
             ],
             [
              0.3333333333333333,
              "#9c179e"
             ],
             [
              0.4444444444444444,
              "#bd3786"
             ],
             [
              0.5555555555555556,
              "#d8576b"
             ],
             [
              0.6666666666666666,
              "#ed7953"
             ],
             [
              0.7777777777777778,
              "#fb9f3a"
             ],
             [
              0.8888888888888888,
              "#fdca26"
             ],
             [
              1,
              "#f0f921"
             ]
            ],
            "type": "histogram2dcontour"
           }
          ],
          "mesh3d": [
           {
            "colorbar": {
             "outlinewidth": 0,
             "ticks": ""
            },
            "type": "mesh3d"
           }
          ],
          "parcoords": [
           {
            "line": {
             "colorbar": {
              "outlinewidth": 0,
              "ticks": ""
             }
            },
            "type": "parcoords"
           }
          ],
          "pie": [
           {
            "automargin": true,
            "type": "pie"
           }
          ],
          "scatter": [
           {
            "fillpattern": {
             "fillmode": "overlay",
             "size": 10,
             "solidity": 0.2
            },
            "type": "scatter"
           }
          ],
          "scatter3d": [
           {
            "line": {
             "colorbar": {
              "outlinewidth": 0,
              "ticks": ""
             }
            },
            "marker": {
             "colorbar": {
              "outlinewidth": 0,
              "ticks": ""
             }
            },
            "type": "scatter3d"
           }
          ],
          "scattercarpet": [
           {
            "marker": {
             "colorbar": {
              "outlinewidth": 0,
              "ticks": ""
             }
            },
            "type": "scattercarpet"
           }
          ],
          "scattergeo": [
           {
            "marker": {
             "colorbar": {
              "outlinewidth": 0,
              "ticks": ""
             }
            },
            "type": "scattergeo"
           }
          ],
          "scattergl": [
           {
            "marker": {
             "colorbar": {
              "outlinewidth": 0,
              "ticks": ""
             }
            },
            "type": "scattergl"
           }
          ],
          "scattermapbox": [
           {
            "marker": {
             "colorbar": {
              "outlinewidth": 0,
              "ticks": ""
             }
            },
            "type": "scattermapbox"
           }
          ],
          "scatterpolar": [
           {
            "marker": {
             "colorbar": {
              "outlinewidth": 0,
              "ticks": ""
             }
            },
            "type": "scatterpolar"
           }
          ],
          "scatterpolargl": [
           {
            "marker": {
             "colorbar": {
              "outlinewidth": 0,
              "ticks": ""
             }
            },
            "type": "scatterpolargl"
           }
          ],
          "scatterternary": [
           {
            "marker": {
             "colorbar": {
              "outlinewidth": 0,
              "ticks": ""
             }
            },
            "type": "scatterternary"
           }
          ],
          "surface": [
           {
            "colorbar": {
             "outlinewidth": 0,
             "ticks": ""
            },
            "colorscale": [
             [
              0,
              "#0d0887"
             ],
             [
              0.1111111111111111,
              "#46039f"
             ],
             [
              0.2222222222222222,
              "#7201a8"
             ],
             [
              0.3333333333333333,
              "#9c179e"
             ],
             [
              0.4444444444444444,
              "#bd3786"
             ],
             [
              0.5555555555555556,
              "#d8576b"
             ],
             [
              0.6666666666666666,
              "#ed7953"
             ],
             [
              0.7777777777777778,
              "#fb9f3a"
             ],
             [
              0.8888888888888888,
              "#fdca26"
             ],
             [
              1,
              "#f0f921"
             ]
            ],
            "type": "surface"
           }
          ],
          "table": [
           {
            "cells": {
             "fill": {
              "color": "#EBF0F8"
             },
             "line": {
              "color": "white"
             }
            },
            "header": {
             "fill": {
              "color": "#C8D4E3"
             },
             "line": {
              "color": "white"
             }
            },
            "type": "table"
           }
          ]
         },
         "layout": {
          "annotationdefaults": {
           "arrowcolor": "#2a3f5f",
           "arrowhead": 0,
           "arrowwidth": 1
          },
          "autotypenumbers": "strict",
          "coloraxis": {
           "colorbar": {
            "outlinewidth": 0,
            "ticks": ""
           }
          },
          "colorscale": {
           "diverging": [
            [
             0,
             "#8e0152"
            ],
            [
             0.1,
             "#c51b7d"
            ],
            [
             0.2,
             "#de77ae"
            ],
            [
             0.3,
             "#f1b6da"
            ],
            [
             0.4,
             "#fde0ef"
            ],
            [
             0.5,
             "#f7f7f7"
            ],
            [
             0.6,
             "#e6f5d0"
            ],
            [
             0.7,
             "#b8e186"
            ],
            [
             0.8,
             "#7fbc41"
            ],
            [
             0.9,
             "#4d9221"
            ],
            [
             1,
             "#276419"
            ]
           ],
           "sequential": [
            [
             0,
             "#0d0887"
            ],
            [
             0.1111111111111111,
             "#46039f"
            ],
            [
             0.2222222222222222,
             "#7201a8"
            ],
            [
             0.3333333333333333,
             "#9c179e"
            ],
            [
             0.4444444444444444,
             "#bd3786"
            ],
            [
             0.5555555555555556,
             "#d8576b"
            ],
            [
             0.6666666666666666,
             "#ed7953"
            ],
            [
             0.7777777777777778,
             "#fb9f3a"
            ],
            [
             0.8888888888888888,
             "#fdca26"
            ],
            [
             1,
             "#f0f921"
            ]
           ],
           "sequentialminus": [
            [
             0,
             "#0d0887"
            ],
            [
             0.1111111111111111,
             "#46039f"
            ],
            [
             0.2222222222222222,
             "#7201a8"
            ],
            [
             0.3333333333333333,
             "#9c179e"
            ],
            [
             0.4444444444444444,
             "#bd3786"
            ],
            [
             0.5555555555555556,
             "#d8576b"
            ],
            [
             0.6666666666666666,
             "#ed7953"
            ],
            [
             0.7777777777777778,
             "#fb9f3a"
            ],
            [
             0.8888888888888888,
             "#fdca26"
            ],
            [
             1,
             "#f0f921"
            ]
           ]
          },
          "colorway": [
           "#636efa",
           "#EF553B",
           "#00cc96",
           "#ab63fa",
           "#FFA15A",
           "#19d3f3",
           "#FF6692",
           "#B6E880",
           "#FF97FF",
           "#FECB52"
          ],
          "font": {
           "color": "#2a3f5f"
          },
          "geo": {
           "bgcolor": "white",
           "lakecolor": "white",
           "landcolor": "#E5ECF6",
           "showlakes": true,
           "showland": true,
           "subunitcolor": "white"
          },
          "hoverlabel": {
           "align": "left"
          },
          "hovermode": "closest",
          "mapbox": {
           "style": "light"
          },
          "paper_bgcolor": "white",
          "plot_bgcolor": "#E5ECF6",
          "polar": {
           "angularaxis": {
            "gridcolor": "white",
            "linecolor": "white",
            "ticks": ""
           },
           "bgcolor": "#E5ECF6",
           "radialaxis": {
            "gridcolor": "white",
            "linecolor": "white",
            "ticks": ""
           }
          },
          "scene": {
           "xaxis": {
            "backgroundcolor": "#E5ECF6",
            "gridcolor": "white",
            "gridwidth": 2,
            "linecolor": "white",
            "showbackground": true,
            "ticks": "",
            "zerolinecolor": "white"
           },
           "yaxis": {
            "backgroundcolor": "#E5ECF6",
            "gridcolor": "white",
            "gridwidth": 2,
            "linecolor": "white",
            "showbackground": true,
            "ticks": "",
            "zerolinecolor": "white"
           },
           "zaxis": {
            "backgroundcolor": "#E5ECF6",
            "gridcolor": "white",
            "gridwidth": 2,
            "linecolor": "white",
            "showbackground": true,
            "ticks": "",
            "zerolinecolor": "white"
           }
          },
          "shapedefaults": {
           "line": {
            "color": "#2a3f5f"
           }
          },
          "ternary": {
           "aaxis": {
            "gridcolor": "white",
            "linecolor": "white",
            "ticks": ""
           },
           "baxis": {
            "gridcolor": "white",
            "linecolor": "white",
            "ticks": ""
           },
           "bgcolor": "#E5ECF6",
           "caxis": {
            "gridcolor": "white",
            "linecolor": "white",
            "ticks": ""
           }
          },
          "title": {
           "x": 0.05
          },
          "xaxis": {
           "automargin": true,
           "gridcolor": "white",
           "linecolor": "white",
           "ticks": "",
           "title": {
            "standoff": 15
           },
           "zerolinecolor": "white",
           "zerolinewidth": 2
          },
          "yaxis": {
           "automargin": true,
           "gridcolor": "white",
           "linecolor": "white",
           "ticks": "",
           "title": {
            "standoff": 15
           },
           "zerolinecolor": "white",
           "zerolinewidth": 2
          }
         }
        },
        "title": {
         "text": "Feature Importances"
        },
        "xaxis": {
         "anchor": "y",
         "domain": [
          0,
          1
         ],
         "title": {
          "text": "feature"
         }
        },
        "yaxis": {
         "anchor": "x",
         "domain": [
          0,
          1
         ],
         "title": {
          "text": "importance"
         }
        }
       }
      }
     },
     "metadata": {},
     "output_type": "display_data"
    }
   ],
   "source": [
    "px.bar(models_explanations, x=\"feature\", y=\"importance\", title=\"Feature Importances\")"
   ]
  },
  {
   "cell_type": "markdown",
   "metadata": {},
   "source": [
    "## Samples"
   ]
  },
  {
   "cell_type": "code",
   "execution_count": 7,
   "metadata": {},
   "outputs": [
    {
     "data": {
      "application/vnd.plotly.v1+json": {
       "config": {
        "plotlyServerURL": "https://plot.ly"
       },
       "data": [
        {
         "coloraxis": "coloraxis",
         "hovertemplate": "x: %{x}<br>y: %{y}<br>color: %{z}<extra></extra>",
         "name": "0",
         "type": "heatmap",
         "x": [
          "categoricals__season_1",
          "categoricals__season_2",
          "categoricals__season_3",
          "categoricals__season_4",
          "categoricals__weathersit_1",
          "categoricals__weathersit_2",
          "categoricals__weathersit_3",
          "categoricals__weathersit_4",
          "numericals__yr",
          "numericals__mnth",
          "numericals__hr",
          "numericals__holiday",
          "numericals__weekday",
          "numericals__workingday",
          "numericals__temp",
          "numericals__atemp",
          "numericals__hum",
          "numericals__windspeed",
          "numericals__casual",
          "numericals__registered"
         ],
         "xaxis": "x",
         "y": [
          0,
          1,
          2,
          3,
          4,
          5,
          6,
          7,
          8,
          9,
          10,
          11,
          12,
          13,
          14,
          15,
          16,
          17,
          18,
          19,
          20,
          21,
          22,
          23,
          24,
          25,
          26,
          27,
          28,
          29,
          30,
          31,
          32,
          33,
          34,
          35,
          36,
          37,
          38,
          39,
          40,
          41,
          42,
          43,
          44,
          45,
          46,
          47,
          48,
          49,
          50,
          51,
          52,
          53,
          54,
          55,
          56,
          57,
          58,
          59,
          60,
          61,
          62,
          63,
          64,
          65,
          66,
          67,
          68,
          69,
          70,
          71,
          72,
          73,
          74,
          75,
          76,
          77,
          78,
          79,
          80,
          81,
          82,
          83,
          84,
          85,
          86,
          87,
          88,
          89,
          90,
          91,
          92,
          93,
          94,
          95,
          96,
          97,
          98,
          99
         ],
         "yaxis": "y",
         "z": [
          [
           0.006651927717030048,
           0.027727307751774788,
           0.006340912077575922,
           -0.004616885911673307,
           0.007796195801347494,
           -0.0029222434386610985,
           0.0010060640051960945,
           -5.551742106035817e-7,
           0.07950128614902496,
           -0.03255324438214302,
           0.019729897379875183,
           -0.005449031479656696,
           -0.09101399779319763,
           -0.04055198282003403,
           0.024861138314008713,
           0.003903420874848962,
           -0.01294585969299078,
           0.08374375104904175,
           25.231182098388672,
           93.61590576171875
          ],
          [
           -0.000005508778485818766,
           0.015149489045143127,
           0.013882013969123363,
           -0.0035485560074448586,
           0.009620439261198044,
           0.03486402705311775,
           0.00472987350076437,
           -5.551742106035817e-7,
           0.08011361956596375,
           -0.0016723755979910493,
           0.05295836552977562,
           -0.00597083056345582,
           0.013171305879950523,
           -0.020272132009267807,
           0.06966143101453781,
           0.010425924323499203,
           0.06071314588189125,
           -0.055689744651317596,
           11.599884986877441,
           79.8902816772461
          ],
          [
           0.0015104314079508185,
           0.008786758407950401,
           -0.03166200965642929,
           -0.00567967165261507,
           0.003407492069527507,
           0.007365649100393057,
           0.002644443651661277,
           -5.384580958889273e-7,
           0.07588770985603333,
           -0.03985791280865669,
           0.06653440743684769,
           -0.008654243312776089,
           -0.04377765581011772,
           -0.015179304406046867,
           0.12041128426790237,
           0.0049573155120015144,
           0.042915187776088715,
           -0.029475096613168716,
           17.027772903442383,
           80.33039093017578
          ],
          [
           0.0021160715259611607,
           0.00010051442950498313,
           -0.03022756800055504,
           -0.008386158384382725,
           -0.0012403222499415278,
           -0.001726397080346942,
           0.001956117106601596,
           -5.384580958889273e-7,
           0.08955230563879013,
           -0.00012346371659077704,
           0.05944574624300003,
           -0.00993797555565834,
           0.05003214627504349,
           -0.025889070704579353,
           -0.00692921644076705,
           -0.059649284929037094,
           -0.04084114730358124,
           0.01790992170572281,
           36.77222442626953,
           106.57491302490234
          ],
          [
           0.012334555387496948,
           0.0034372410736978054,
           0.013385637663304806,
           -0.027833398431539536,
           0.021164117380976677,
           -0.005833676550537348,
           -0.004372060764580965,
           -6.086659141146811e-7,
           0.018141459673643112,
           0.17430205643177032,
           0.12067165970802307,
           -0.0031163603998720646,
           0.040307920426130295,
           -0.07495581358671188,
           0.0695449560880661,
           0.0158088356256485,
           0.07483598589897156,
           -0.040882423520088196,
           38.72288131713867,
           246.8534698486328
          ],
          [
           0.001423245994374156,
           -0.023805150762200356,
           -0.0017604439053684473,
           -0.0032613121438771486,
           2.322108030319214,
           9.371479988098145,
           0.002707292325794697,
           -5.551742106035817e-7,
           0.030152510851621628,
           -0.22498054802417755,
           1.348039984703064,
           -0.0029431453440338373,
           -0.20665644109249115,
           -0.009681344032287598,
           -0.2660611867904663,
           0.05648881942033768,
           -2.369138717651367,
           0.2110820710659027,
           40.40130615234375,
           653.5117797851562
          ],
          [
           0.0010418965248391032,
           -0.012846914120018482,
           0.00026803204673342407,
           -0.003396972781047225,
           2.951350450515747,
           11.435035705566406,
           0.014215871691703796,
           -5.551742106035817e-7,
           0.027390284463763237,
           -0.3635384142398834,
           0.7165672183036804,
           -0.0036144033074378967,
           -0.20825642347335815,
           -0.014535687863826752,
           0.4040703773498535,
           0.15121860802173615,
           -2.0535378456115723,
           0.40650585293769836,
           27.834957122802734,
           634.140380859375
          ],
          [
           0.011715793050825596,
           0.003498691599816084,
           0.01716129295527935,
           0.004922044463455677,
           -0.11751722544431686,
           -0.007312047760933638,
           0.004228171892464161,
           -5.384580958889273e-7,
           -0.014053408987820148,
           -0.009733003564178944,
           -0.3451545536518097,
           -0.003562246449291706,
           0.00381058850325644,
           -0.0142894946038723,
           0.14947956800460815,
           -0.007123587653040886,
           -0.06559731066226959,
           0.08480101823806763,
           38.38937759399414,
           393.67364501953125
          ],
          [
           0.007220177445560694,
           0.0215398408472538,
           0.0016394491540268064,
           0.0030258353799581528,
           0.06396777927875519,
           0.029478909447789192,
           -0.011835450306534767,
           -5.551742106035817e-7,
           -0.052763741463422775,
           0.10569187998771667,
           -0.11298134922981262,
           -0.0036906185559928417,
           -0.12399685382843018,
           -0.04884563386440277,
           0.12146088480949402,
           0.10700148344039917,
           -0.08078912645578384,
           0.029259132221341133,
           17.277523040771484,
           268.6304016113281
          ],
          [
           -0.001569658750668168,
           0.0036461090203374624,
           -0.01135318260639906,
           -0.000772456347476691,
           -0.004854164086282253,
           0.018403340131044388,
           -0.0022952479775995016,
           -5.232615762906789e-7,
           0.05307045578956604,
           -0.003736469428986311,
           -0.025117889046669006,
           0.005081627052277327,
           -0.035275302827358246,
           -0.015301229432225227,
           0.03121856227517128,
           0.0745277926325798,
           -0.056133806705474854,
           -0.042364202439785004,
           12.01944637298584,
           140.9316864013672
          ],
          [
           0.0001924146490637213,
           0.04092865809798241,
           -0.0015011084033176303,
           -0.0033650179393589497,
           -0.0006705141859129071,
           0.006108311004936695,
           0.00045175253762863576,
           -5.232615762906789e-7,
           0.08092037588357925,
           0.007637431379407644,
           -0.05110520124435425,
           -0.0013185016578063369,
           -0.020542727783322334,
           0.0018261007498949766,
           0.035800348967313766,
           -0.015426475554704666,
           -0.022554943338036537,
           0.03824063017964363,
           -10.589357376098633,
           71.0620346069336
          ],
          [
           0.003995981998741627,
           0.0006536968285217881,
           0.005731872282922268,
           -0.0013177760411053896,
           0.0039686947129666805,
           0.000600155268330127,
           0.0003653279854916036,
           -5.232615762906789e-7,
           0.028297729790210724,
           0.010578276589512825,
           0.04005580022931099,
           -0.0003057414141949266,
           -0.037189945578575134,
           -0.0021838219836354256,
           0.019763674587011337,
           0.03748919442296028,
           0.024632716551423073,
           0.05713146924972534,
           -12.713790893554688,
           -11.780177116394043
          ],
          [
           0.0007210383773781359,
           0.0036300288047641516,
           0.0031402234453707933,
           -0.006010253448039293,
           -0.0015569813549518585,
           -0.005153910256922245,
           -0.0003303317353129387,
           -6.387549547071103e-7,
           0.0020087563898414373,
           0.04483729600906372,
           0.0020666068885475397,
           -0.0010454640723764896,
           -0.009915451519191265,
           0.0017118079122155905,
           0.03720792382955551,
           0.02716696262359619,
           -0.023839706555008888,
           -0.007197789382189512,
           -8.53911304473877,
           -96.36003112792969
          ],
          [
           0.0019598952494561672,
           -0.00007570861635031179,
           -0.00884841289371252,
           -0.00023431282897945493,
           0.00014444779662881047,
           -0.0015234807506203651,
           0.00046563331852667034,
           -0.00000278572633760632,
           0.027526993304491043,
           0.007481624837964773,
           -0.006813213229179382,
           0.0014300434850156307,
           -0.02230777032673359,
           0.0006117512239143252,
           0.025103237479925156,
           0.01750626228749752,
           -0.016068970784544945,
           0.002960961777716875,
           -14.311731338500977,
           -125.42428588867188
          ],
          [
           0.0017088694730773568,
           0.00015139536117203534,
           0.0020067566074430943,
           0.00004777113281306811,
           -0.00038464966928586364,
           -0.0017217871500179172,
           0.000292366516077891,
           -0.0000018034877484751632,
           0.027422193437814713,
           0.007868070155382156,
           -0.007023367565125227,
           -0.00004148716834606603,
           -0.005028950981795788,
           -0.0002758684568107128,
           0.029125582426786423,
           0.030005553737282753,
           -0.0170501247048378,
           -0.0033129926305264235,
           -14.520783424377441,
           -142.10971069335938
          ],
          [
           0.0017002519452944398,
           0.000153756482177414,
           0.0019306479953229427,
           0.000020420211512828246,
           -0.000408702006097883,
           -0.0017167264595627785,
           0.00031555621535517275,
           -0.0000018034877484751632,
           0.027525680139660835,
           0.007822387851774693,
           -0.006818796042352915,
           -0.00004227953832014464,
           -0.005034175235778093,
           -0.00025318050757050514,
           0.02901722490787506,
           0.029881330206990242,
           -0.016946304589509964,
           -0.002256162464618683,
           -14.518677711486816,
           -141.1129150390625
          ],
          [
           0.0017017937498167157,
           0.0001543604739708826,
           0.0019258393440395594,
           0.000020506889995886013,
           -0.0004134212795179337,
           -0.0017175067914649844,
           0.0003159851476084441,
           -0.0000018034877484751632,
           0.027518579736351967,
           0.007817110046744347,
           -0.006939616519957781,
           -0.0000423185047111474,
           -0.0050295256078243256,
           -0.00025328496121801436,
           0.028996039181947708,
           0.029887082055211067,
           -0.016934210434556007,
           -0.0022415604908019304,
           -14.518477439880371,
           -141.1129913330078
          ],
          [
           0.0069075231440365314,
           -0.0023793235886842012,
           0.002408546395599842,
           -0.0002046683948719874,
           0.0034174283500760794,
           0.017605656757950783,
           -0.0013891690177842975,
           -0.0000028024423954775557,
           0.013808869756758213,
           0.007753540761768818,
           -0.058710016310214996,
           -0.0004907532129436731,
           0.0027976674027740955,
           0.002934164833277464,
           0.03329596668481827,
           0.02990683913230896,
           -0.004108473192900419,
           0.009282576851546764,
           -16.78298568725586,
           -103.1865463256836
          ],
          [
           0.01696089841425419,
           -0.0008815972250886261,
           0.0016786563210189342,
           -0.01154683344066143,
           -0.010079937055706978,
           -0.030534395948052406,
           -0.00013122665404807776,
           -0.0000028024423954775557,
           0.09249408543109894,
           0.0228847898542881,
           -0.015595098957419395,
           0.0001536715280963108,
           -0.011061187833547592,
           -0.01067361794412136,
           0.010136430151760578,
           -0.0036386067513376474,
           -0.03060462884604931,
           0.046657461673021317,
           -36.773563385009766,
           48.45564651489258
          ],
          [
           -0.006166016682982445,
           -0.011735131032764912,
           0.06870537251234055,
           0.011978757567703724,
           0.008082941174507141,
           -0.0017754751024767756,
           0.0006361235864460468,
           -6.554711262651836e-7,
           -0.004149665590375662,
           0.039941489696502686,
           0.1018957570195198,
           -0.0005749366246163845,
           0.02964543178677559,
           0.0020867306739091873,
           0.33774110674858093,
           0.16967691481113434,
           -0.19295023381710052,
           0.08954022079706192,
           -23.142898559570312,
           340.13360595703125
          ],
          [
           0.00004884159716311842,
           0.030575351789593697,
           0.0035347396042197943,
           0.0003978738677687943,
           1.5647059679031372,
           7.639703750610352,
           0.010119368322193623,
           -6.387549547071103e-7,
           0.026196055114269257,
           -0.19718025624752045,
           -5.4047746658325195,
           -0.0004433723515830934,
           -0.10173637419939041,
           -0.0020036129280924797,
           0.6015021800994873,
           0.8079819083213806,
           -3.4430339336395264,
           -0.1915404051542282,
           -7.461704730987549,
           610.700927734375
          ],
          [
           0.01107970904558897,
           0.019075576215982437,
           0.0007419644971378148,
           -0.004295518156141043,
           -0.007189751137048006,
           0.01976017840206623,
           0.004607226699590683,
           -6.387549547071103e-7,
           0.07562561333179474,
           0.0512821190059185,
           -0.04846164584159851,
           -0.0002875449717976153,
           0.0070600989274680614,
           -0.006363027263432741,
           0.15419448912143707,
           0.12018619477748871,
           -0.02885739505290985,
           -0.13140086829662323,
           -16.955368041992188,
           195.36190795898438
          ],
          [
           0.007070349995046854,
           -0.000687244173604995,
           0.002845907583832741,
           -0.0002750162675511092,
           0.0028887975495308638,
           0.010263207368552685,
           0.0008025174611248076,
           -6.554711262651836e-7,
           0.01467940304428339,
           0.03249873220920563,
           0.062460750341415405,
           -0.0018362159607931972,
           -0.04076463729143143,
           -0.023052731528878212,
           0.01790039800107479,
           0.05104433745145798,
           -0.0140243424102664,
           -0.013928093016147614,
           20.689077377319336,
           30.211336135864258
          ],
          [
           -0.0013728635385632515,
           0.003555235220119357,
           0.012853462249040604,
           -0.0044914111495018005,
           0.010545231401920319,
           0.04375496879220009,
           0.0016766720218583941,
           -0.000019832026737276465,
           -0.06388916820287704,
           0.03887112811207771,
           0.05932518467307091,
           -0.0039627430960536,
           -0.04522162303328514,
           -0.007923176512122154,
           0.06569643318653107,
           0.03602413088083267,
           0.07286236435174942,
           0.024239348247647285,
           35.06470489501953,
           41.411067962646484
          ],
          [
           -0.005357834044843912,
           -0.0024086281191557646,
           -0.011844372376799583,
           -0.006876323372125626,
           -0.021737243980169296,
           -0.02633604034781456,
           -0.0050690569914877415,
           -6.387549547071103e-7,
           0.0784100890159607,
           0.022716082632541656,
           -0.011831552721560001,
           -0.008972804993391037,
           -0.07032527029514313,
           -0.024393701925873756,
           0.023493792861700058,
           0.022155527025461197,
           -0.02042342908680439,
           -0.11591413617134094,
           6.390263557434082,
           109.77275085449219
          ],
          [
           0.0015200352063402534,
           -0.020375456660985947,
           -0.04013394936919212,
           -0.003758674720302224,
           0.009769490920007229,
           0.021521659567952156,
           0.001385631039738655,
           -6.387549547071103e-7,
           0.07661083340644836,
           0.010276454500854015,
           0.04247245937585831,
           0.00020689915982075036,
           0.0011735770385712385,
           -0.026015259325504303,
           -0.027183126658201218,
           -0.06629268079996109,
           -0.023692011833190918,
           0.01652384363114834,
           36.633907318115234,
           111.5453872680664
          ],
          [
           -0.0036602288018912077,
           0.009597549214959145,
           0.006920626387000084,
           0.0017092397902160883,
           -0.15817248821258545,
           0.02177630364894867,
           0.006648613605648279,
           -6.855601668576128e-7,
           0.06737770140171051,
           -0.06644362956285477,
           0.06349306553602219,
           -0.006875206716358662,
           0.0113212950527668,
           -0.014268136583268642,
           0.04104361683130264,
           0.042025383561849594,
           -0.013791737146675587,
           -0.014658568426966667,
           6.079195976257324,
           67.1900634765625
          ],
          [
           0.0051155900582671165,
           0.013708611018955708,
           0.0586785227060318,
           -0.00521049415692687,
           -0.006021605804562569,
           0.0021888241171836853,
           0.0016582651296630502,
           -6.60333967061888e-7,
           0.01028458122164011,
           0.004753753077238798,
           -0.04624764621257782,
           0.0144317876547575,
           -0.0520596019923687,
           -0.02623317949473858,
           0.1910277158021927,
           0.13933075964450836,
           0.024587323889136314,
           0.039449431002140045,
           54.07745361328125,
           59.98140335083008
          ],
          [
           0.006552720908075571,
           0.021093690767884254,
           -0.004166960250586271,
           -0.004569957032799721,
           0.1000647097826004,
           0.02844686061143875,
           0.001574114547111094,
           -6.855601668576128e-7,
           0.06880180537700653,
           0.24191595613956451,
           0.016743412241339684,
           -0.0017078702803701162,
           -0.16520315408706665,
           -0.04825649783015251,
           0.16505631804466248,
           0.008172517642378807,
           -0.22833600640296936,
           0.012792401015758514,
           46.16494369506836,
           229.34437561035156
          ],
          [
           0.0027308680582791567,
           0.0021503602620214224,
           -0.0008001903188414872,
           -0.003485697554424405,
           2.2844645977020264,
           8.986417770385742,
           0.0015294291079044342,
           -6.855601668576128e-7,
           0.026866432279348373,
           -0.2701061964035034,
           1.371681809425354,
           -0.0037539168260991573,
           -0.12190468609333038,
           -0.01394245121628046,
           -0.3494392931461334,
           0.09893947094678879,
           -2.0895285606384277,
           -0.1872989535331726,
           33.96226119995117,
           659.6015014648438
          ],
          [
           0.0024374150671064854,
           -0.020248033106327057,
           0.00034445818164385855,
           -0.003253122791647911,
           2.324909210205078,
           9.341946601867676,
           0.002594148041680455,
           -6.554711262651836e-7,
           0.02889416366815567,
           -0.2641706168651581,
           0.3747313618659973,
           -0.003101702779531479,
           -0.10966076701879501,
           -0.009845799766480923,
           -0.18709450960159302,
           0.04467674717307091,
           -2.2230875492095947,
           0.6362816691398621,
           37.760650634765625,
           654.1412963867188
          ],
          [
           0.034104444086551666,
           -0.23246055841445923,
           -0.13084915280342102,
           0.036282431334257126,
           0.004120054189115763,
           0.006236033979803324,
           0.0056472113355994225,
           -6.855601668576128e-7,
           0.2013559192419052,
           -0.4898975193500519,
           0.6545728445053101,
           0.01100543886423111,
           -0.1647973209619522,
           0.15560060739517212,
           0.5139564871788025,
           0.12526537477970123,
           0.005154544487595558,
           0.6279791593551636,
           52.74618148803711,
           458.1688537597656
          ],
          [
           0.01109375525265932,
           0.013730977661907673,
           0.03841618075966835,
           -0.001548058702610433,
           -0.02407185547053814,
           0.001612392719835043,
           -0.007716449908912182,
           -6.554711262651836e-7,
           -0.023874696344137192,
           0.49692827463150024,
           -0.10035189986228943,
           -0.003512770403176546,
           -0.012134197168052197,
           -0.006361364386975765,
           0.054602764546871185,
           0.0893259271979332,
           -0.15294845402240753,
           0.06783509254455566,
           20.251659393310547,
           318.2106018066406
          ],
          [
           -0.0028282429557293653,
           -0.0014945812290534377,
           0.046444203704595566,
           -0.003155444748699665,
           0.004562507849186659,
           -0.005724669434130192,
           0.0009992136619985104,
           -6.235584919522807e-7,
           0.10754438489675522,
           0.045591022819280624,
           -0.27491089701652527,
           -0.0031523474026471376,
           0.027146119624376297,
           -0.01713075302541256,
           0.041630007326602936,
           0.1728299856185913,
           -0.08897142112255096,
           -0.09937268495559692,
           14.589468002319336,
           204.3438262939453
          ],
          [
           -0.0014534194488078356,
           -0.0009526879875920713,
           -0.004172423854470253,
           0.0006921079475432634,
           -0.0021921396255493164,
           -0.004376234021037817,
           -0.011242687702178955,
           -6.235584919522807e-7,
           0.07362504303455353,
           -0.013226994313299656,
           -0.007348771672695875,
           -0.0006700772792100906,
           -0.011323693208396435,
           -0.006611754186451435,
           0.0238584503531456,
           0.010366292670369148,
           0.13107959926128387,
           -0.00043945739162154496,
           -16.430917739868164,
           87.13360595703125
          ],
          [
           0.006273296661674976,
           0.0011205810587853193,
           0.007991373538970947,
           0.001794453477486968,
           0.006793729029595852,
           -0.0004884173977188766,
           0.0004177966620773077,
           -6.402746066669351e-7,
           0.02280062809586525,
           0.003200351260602474,
           0.027727358043193817,
           -0.0004356981662567705,
           0.022232266142964363,
           -0.0014346633106470108,
           0.020758768543601036,
           0.03470739349722862,
           0.015497592277824879,
           0.022245561704039574,
           -14.392223358154297,
           -11.860679626464844
          ],
          [
           0.0006121488404460251,
           0.0009147220989689231,
           0.0064460719004273415,
           -0.0014003872638568282,
           0.010643861256539822,
           -0.0014645555056631565,
           0.0024916932452470064,
           -6.296804713201709e-7,
           0.017859121784567833,
           0.0019433759152889252,
           -0.031107306480407715,
           0.0020908708684146404,
           -0.006044676527380943,
           0.0004562509711831808,
           0.03634059801697731,
           0.022720249369740486,
           -0.022457778453826904,
           0.008153820410370827,
           -4.730391502380371,
           -91.0995101928711
          ],
          [
           0.0018851486966013908,
           0.0054558501578867435,
           -0.0007014277507551014,
           -0.00039270296110771596,
           -0.0003778787504415959,
           -0.0013664799043908715,
           -0.0002624162589199841,
           -0.000002671184802238713,
           0.019027940928936005,
           0.00520913302898407,
           0.023297913372516632,
           -0.00020716941799037158,
           0.001424801885150373,
           -0.0018882871372625232,
           0.031407516449689865,
           0.030792301520705223,
           -0.012409285642206669,
           -0.0012749603483825922,
           -12.370261192321777,
           -121.95105743408203
          ],
          [
           0.0018644777592271566,
           0.0017501466209068894,
           0.0034476486034691334,
           -0.00004615205034497194,
           0.0001728174975141883,
           -0.0016761317383497953,
           0.0005739852203987539,
           -0.0000017286308775510406,
           0.026555201038718224,
           0.009488275274634361,
           -0.00799616239964962,
           -0.00029638581327162683,
           0.0008565817843191326,
           -0.0007673294749110937,
           0.028684915974736214,
           0.0361049585044384,
           -0.017951123416423798,
           0.0011661732569336891,
           -14.519098281860352,
           -134.12452697753906
          ],
          [
           0.0017109895125031471,
           0.00012154371506767347,
           0.0018292537424713373,
           0.00003634540917119011,
           -0.0003699215012602508,
           -0.0017253721598535776,
           0.00027517296257428825,
           -0.0000017776970935301506,
           0.027265286073088646,
           0.007882017642259598,
           -0.007030893117189407,
           -0.00004591633114614524,
           0.0005454054335132241,
           -0.0003182536456733942,
           0.02650558389723301,
           0.02703513577580452,
           -0.016857491806149483,
           0.0005129948258399963,
           -14.51955509185791,
           -142.11451721191406
          ],
          [
           0.001764987246133387,
           0.00040870634256862104,
           0.0026142201386392117,
           0.00010971222218358889,
           0.003135998034849763,
           0.018326980993151665,
           0.00003488236325210892,
           -0.0000018250796074426034,
           0.02729359269142151,
           0.0074472576379776,
           -0.008192232809960842,
           -0.0003391087520867586,
           0.00003360493064974435,
           -0.0019099856726825237,
           0.026653960347175598,
           0.026819605380296707,
           -0.018351014703512192,
           0.00594355771318078,
           -15.885224342346191,
           -136.7732696533203
          ],
          [
           0.000326479144860059,
           -0.00044680634164251387,
           0.0017102574929594994,
           -0.0006227491539902985,
           0.003544948995113373,
           0.012842614203691483,
           0.00040936892037279904,
           -0.000002505772727090516,
           0.018943898379802704,
           0.015294032171368599,
           -0.015672592446208,
           0.0010230701882392168,
           0.007264846470206976,
           -0.0006108736852183938,
           0.016240650787949562,
           0.015199842862784863,
           -0.022456450387835503,
           0.0007514688186347485,
           -15.68520450592041,
           -105.30023956298828
          ],
          [
           0.020400794222950935,
           -0.00768673000857234,
           0.004406789317727089,
           -0.0033031501807272434,
           0.011665650643408298,
           -0.010954625904560089,
           0.002179280389100313,
           -0.000035670920624397695,
           0.025301825255155563,
           0.05416324362158775,
           0.15290139615535736,
           -0.0024674225132912397,
           0.025210324674844742,
           -0.002035625744611025,
           0.05389327183365822,
           0.04954264312982559,
           0.01483103260397911,
           0.011409739032387733,
           -30.215980529785156,
           35.14985656738281
          ],
          [
           0.012882553972303867,
           0.0020992765203118324,
           0.015202692709863186,
           -0.012168941088020802,
           0.01564415544271469,
           -0.04519487917423248,
           0.001339140348136425,
           -6.296804713201709e-7,
           0.07985254377126694,
           -0.007246454246342182,
           0.16258569061756134,
           -0.000311128213070333,
           0.06551415473222733,
           0.00241997092962265,
           0.15746580064296722,
           0.11649887263774872,
           -0.06699211150407791,
           0.031001735478639603,
           -24.172758102416992,
           332.6954650878906
          ],
          [
           0.0011922651901841164,
           0.005094096530228853,
           0.0011413958854973316,
           -0.00010120282968273386,
           0.05222266912460327,
           0.0006828928599134088,
           0.0006594562437385321,
           -6.129643566055165e-7,
           0.025119218975305557,
           0.0019202145049348474,
           -1.602044939994812,
           -0.0006180015043355525,
           -0.29915931820869446,
           -0.0013092391891404986,
           0.504203200340271,
           0.388370543718338,
           -0.2482994943857193,
           -0.1138865202665329,
           -26.923301696777344,
           561.306396484375
          ],
          [
           0.0009351265616714954,
           0.007318131625652313,
           0.04327269643545151,
           -0.0027673649601638317,
           -0.0015376709634438157,
           0.003044597338885069,
           -0.00017425682744942605,
           -6.296804713201709e-7,
           0.0480995737016201,
           0.03952695056796074,
           0.0067872400395572186,
           -0.0007200067047961056,
           0.04268776252865791,
           -0.010047940537333488,
           0.1016235202550888,
           0.09350592643022537,
           -0.00942146684974432,
           -0.041886553168296814,
           1.6088515520095825,
           190.7541961669922
          ],
          [
           0.009475890547037125,
           -0.012754441238939762,
           0.014517473988234997,
           0.0007223412394523621,
           0.011792725883424282,
           0.0030101898591965437,
           0.0049566421657800674,
           -6.59769568756019e-7,
           0.01913546212017536,
           0.04366765916347504,
           0.0042127324268221855,
           -0.0028712258208543062,
           -0.025256698951125145,
           -0.0007370527018792927,
           0.06467468291521072,
           0.09340886771678925,
           0.007270434405654669,
           -0.019520539790391922,
           26.672191619873047,
           12.285402297973633
          ],
          [
           -0.003595867194235325,
           0.02590436488389969,
           0.02023005299270153,
           -0.003800253849476576,
           0.008041446097195148,
           0.00385810574516654,
           -0.003484839340671897,
           -6.245136887628178e-7,
           0.06476068496704102,
           0.002525066491216421,
           -0.029194869101047516,
           -0.00638494873419404,
           0.016409598290920258,
           0.012734143063426018,
           -0.08917476236820221,
           -0.09934348613023758,
           -0.040918078273534775,
           -0.040972184389829636,
           44.671382904052734,
           48.46432113647461
          ],
          [
           -0.0027415738441050053,
           0.012843387201428413,
           0.012368951924145222,
           -0.007282966282218695,
           -0.0036422843113541603,
           0.002714993664994836,
           0.0008106424356810749,
           -6.245136887628178e-7,
           0.0859946459531784,
           -0.024970823898911476,
           0.03838440030813217,
           -0.003770943032577634,
           -0.004189699422568083,
           -0.042557600885629654,
           0.048626914620399475,
           -0.04452104866504669,
           -0.03643934056162834,
           0.1041995957493782,
           23.8453311920166,
           88.74214172363281
          ],
          [
           0.003854126902297139,
           0.001576035632751882,
           0.008885622955858707,
           -0.005271625705063343,
           -0.0023203503806144,
           -0.005372942890971899,
           0.003013846930116415,
           -6.245136887628178e-7,
           0.08896153420209885,
           -0.03911498188972473,
           0.12514419853687286,
           -0.0035561970435082912,
           0.02814716473221779,
           -0.033137667924165726,
           0.03835460543632507,
           -0.03409173712134361,
           0.04170946776866913,
           0.045622568577528,
           20.829662322998047,
           96.88123321533203
          ],
          [
           -0.0012652892619371414,
           0.032153572887182236,
           0.002453049411997199,
           -0.0032540622632950544,
           0.013310075737535954,
           0.0272426325827837,
           -0.001575018628500402,
           -0.000013358599062485155,
           -0.0164583008736372,
           -0.007747939322143793,
           0.04255817458033562,
           -0.004524235147982836,
           0.011644282378256321,
           -0.0521705225110054,
           -0.013563261367380619,
           0.02266467735171318,
           0.03389376029372215,
           0.04875112324953079,
           39.69292068481445,
           43.906280517578125
          ],
          [
           -0.01138776820152998,
           -0.019260939210653305,
           0.01770198903977871,
           -0.0008159659337252378,
           -0.0118977976962924,
           -0.003278925083577633,
           0.002105925465002656,
           -6.713189009133202e-7,
           0.07362348586320877,
           0.02034197747707367,
           0.07931266725063324,
           -0.010636311955749989,
           0.050536494702100754,
           -0.015463519841432571,
           -0.009573938325047493,
           -0.00405559316277504,
           -0.004031286109238863,
           -0.03622780740261078,
           7.665294170379639,
           98.60101318359375
          ],
          [
           -0.0025428812950849533,
           0.024447908625006676,
           0.016216157004237175,
           -0.00737366545945406,
           0.017084097489714622,
           0.02352946251630783,
           0.00334238656796515,
           -6.713189009133202e-7,
           0.14979508519172668,
           0.14088411629199982,
           0.12428082525730133,
           -0.00471983989700675,
           0.01947079412639141,
           -0.053790025413036346,
           -0.010958381928503513,
           -0.024521172046661377,
           -0.259072870016098,
           0.07200291752815247,
           32.92738342285156,
           214.14283752441406
          ],
          [
           0.013717562891542912,
           -0.024167805910110474,
           -0.002355935052037239,
           -0.0032061149831861258,
           -0.36795344948768616,
           -0.9022139310836792,
           0.01909729652106762,
           -6.713189009133202e-7,
           0.028088895604014397,
           -0.3541243374347687,
           0.9499292373657227,
           -0.002360778860747814,
           -0.03607526794075966,
           -0.012956582941114902,
           0.12242666631937027,
           -0.13002637028694153,
           1.0533497333526611,
           0.7263461351394653,
           31.455093383789062,
           618.6956787109375
          ],
          [
           0.0025698402896523476,
           0.0009632104774937034,
           0.0006638492341153324,
           -0.0029753427952528,
           2.0014991760253906,
           8.14316463470459,
           0.0006877673440612853,
           -6.59769568756019e-7,
           0.02777082286775112,
           -0.1344112604856491,
           0.4689863324165344,
           -0.003940984606742859,
           0.39745262265205383,
           -0.014108015224337578,
           0.06260238587856293,
           0.40793123841285706,
           0.5186389684677124,
           0.4311058521270752,
           8.814284324645996,
           650.5953979492188
          ],
          [
           -0.0006769955507479608,
           -0.033583804965019226,
           -0.10036676377058029,
           0.04574335739016533,
           0.013621430844068527,
           0.02133261412382126,
           -0.004449136555194855,
           -6.296804713201709e-7,
           0.21215377748012543,
           -0.0750940814614296,
           0.1647428721189499,
           -0.005425931885838509,
           -0.1541910171508789,
           -0.017091935500502586,
           0.2820179760456085,
           0.7086883187294006,
           -0.14498333632946014,
           0.24409180879592896,
           34.18855285644531,
           426.7582092285156
          ],
          [
           0.002609187038615346,
           0.1641944944858551,
           0.0361909493803978,
           -0.001093503786250949,
           0.0005517358658835292,
           0.017809666693210602,
           0.014160111546516418,
           -6.59769568756019e-7,
           0.062133464962244034,
           -0.013912361115217209,
           -0.13000942766666412,
           -0.0074212695471942425,
           -0.07604885846376419,
           -0.03963059186935425,
           0.23234203457832336,
           0.11440657079219818,
           -0.09428989887237549,
           0.020115243270993233,
           29.244321823120117,
           281.5018615722656
          ],
          [
           0.0069834040477871895,
           0.041601769626140594,
           0.0057310424745082855,
           -0.00531318923458457,
           0.02157048135995865,
           0.01661366969347,
           0.015246346592903137,
           -6.211704430825193e-7,
           0.06806056946516037,
           0.05313645675778389,
           -0.00100362254306674,
           -0.0005730095435865223,
           0.13145634531974792,
           -0.0034821562003344297,
           0.1268721967935562,
           0.019754214212298393,
           0.050151947885751724,
           -0.08839767426252365,
           -2.570124626159668,
           177.4750213623047
          ],
          [
           0.0025039881002157927,
           0.007702127564698458,
           -0.00045940163545310497,
           -0.004002944100648165,
           0.0037886283826082945,
           0.0017252910183742642,
           0.00038392742862924933,
           -6.512594836749486e-7,
           0.09889813512563705,
           0.04272354394197464,
           -0.010497978888452053,
           -0.0003051680396310985,
           0.00895459670573473,
           0.017775943502783775,
           0.012162710539996624,
           0.035248011350631714,
           -0.04287286102771759,
           0.06903758645057678,
           -10.82508659362793,
           107.75061798095703
          ],
          [
           0.011076230555772781,
           0.0014311260310932994,
           -0.004055170342326164,
           -0.004592095036059618,
           -0.0031197774223983288,
           -0.004475312773138285,
           0.0040420591831207275,
           -6.044542715244461e-7,
           0.013708456419408321,
           0.02070705033838749,
           -0.0036784380208700895,
           0.002353113144636154,
           -0.007001507095992565,
           -0.0014610891230404377,
           0.10256830602884293,
           0.10486700385808945,
           0.024727050215005875,
           0.01584123820066452,
           -17.319719314575195,
           11.110079765319824
          ],
          [
           0.0016084255184978247,
           -0.000058056619309354573,
           0.0035995407961308956,
           -0.0002546110190451145,
           0.0032382626086473465,
           0.0009177429601550102,
           0.0005268087261356413,
           -5.435280172605417e-7,
           0.022768178954720497,
           -0.005499211139976978,
           -0.010610557161271572,
           0.00007200468826340511,
           0.028107669204473495,
           0.0039767916314303875,
           0.017439140006899834,
           0.04443226754665375,
           -0.02291657216846943,
           -0.000984368845820427,
           -6.033478736877441,
           -72.48958587646484
          ],
          [
           0.005728207994252443,
           0.007338241674005985,
           -0.0013876617886126041,
           -0.00005841227903147228,
           0.0013115369947627187,
           -0.0034035714343190193,
           0.0010424795327708125,
           -0.0000039857986848801374,
           0.007220836356282234,
           -0.0009676579502411187,
           0.002990919165313244,
           0.00002437340845062863,
           0.015586882829666138,
           -0.004794564098119736,
           0.021078355610370636,
           0.010257022455334663,
           -0.007763806264847517,
           -0.001913520391099155,
           -12.853437423706055,
           -109.05554962158203
          ],
          [
           0.0019176827045157552,
           -0.0012269424041733146,
           -0.004493480548262596,
           -0.0009640853968448937,
           -0.0024018618278205395,
           -0.0006162429344840348,
           0.0007012590649537742,
           -0.0000021855248633073643,
           0.03149329870939255,
           0.00817134790122509,
           -0.013098659925162792,
           -0.0008149266359396279,
           -0.005814816802740097,
           -0.0018502436578273773,
           0.004352622199803591,
           -0.024434806779026985,
           -0.007340642623603344,
           0.004219281952828169,
           -10.980875968933105,
           -131.90362548828125
          ],
          [
           0.0019435613648965955,
           0.00003689707591547631,
           0.0017084202263504267,
           -0.0002471527550369501,
           0.0029769781976938248,
           0.018473217263817787,
           0.00022028482635505497,
           -0.0000024530525024601957,
           0.02743135206401348,
           0.007595893461257219,
           -0.00796431303024292,
           -0.000054649990488542244,
           0.014777128584682941,
           -0.0003132588171865791,
           0.033614858984947205,
           0.028629209846258163,
           -0.013384222984313965,
           0.002354757394641638,
           -12.905701637268066,
           -140.77879333496094
          ],
          [
           0.0016929584089666605,
           0.00031156433396972716,
           0.002085567219182849,
           -0.0001084033865481615,
           0.0029236648697406054,
           -0.0015846418682485819,
           -0.0027090918738394976,
           -0.0000020209704416629393,
           0.027477720752358437,
           0.007388049270957708,
           -0.006592149846255779,
           -0.0001898197369882837,
           0.013151525519788265,
           -0.0005260236794129014,
           0.027983564883470535,
           0.02940315008163452,
           -0.016687549650669098,
           0.001318069058470428,
           -15.724103927612305,
           -139.9279327392578
          ],
          [
           0.0016968236304819584,
           0.00046028036740608513,
           0.002799232956022024,
           -0.00018599066243041307,
           0.0006236761691980064,
           -0.002048034919425845,
           -0.0023637674748897552,
           -0.0000027183796191820875,
           0.030608220025897026,
           0.008410527370870113,
           -0.010060888715088367,
           -0.000538619002327323,
           0.025311332195997238,
           0.00013549694267567247,
           0.03711697831749916,
           0.03740866854786873,
           -0.01991852931678295,
           -0.0007309842039830983,
           -13.930608749389648,
           -115.61981201171875
          ],
          [
           0.005469616036862135,
           -0.0009162102942354977,
           0.0019053783034905791,
           -0.0007327375351451337,
           0.004812548402696848,
           -0.0004097820492461324,
           -0.0005595733528025448,
           -0.0000019636120214272523,
           0.018957683816552162,
           0.01140508335083723,
           -0.04296485334634781,
           -0.001897835754789412,
           0.01194736547768116,
           0.00017597072292119265,
           0.03229542076587677,
           0.027351053431630135,
           -0.00648263655602932,
           -0.004493009764701128,
           -16.884206771850586,
           -102.13335418701172
          ],
          [
           0.0011101252166554332,
           0.009871318936347961,
           0.004710619803518057,
           0.00038246429176069796,
           0.011278638616204262,
           -0.0013867070665583014,
           -0.006719605997204781,
           -0.000002404046654191916,
           0.022509479895234108,
           0.04487566649913788,
           -0.02667502872645855,
           0.0001557477517053485,
           0.039571698755025864,
           -0.0008765723323449492,
           0.029532067477703094,
           0.03739596903324127,
           -0.02450568601489067,
           0.0043879104778170586,
           -30.45172691345215,
           1.7444103956222534
          ],
          [
           -0.012205596081912518,
           0.0015175752341747284,
           -0.008626663126051426,
           -0.0012961893808096647,
           -0.0022021764889359474,
           0.0011928001185879111,
           -0.010106973350048065,
           -0.0000016436210898973513,
           0.02495524100959301,
           -0.01598449982702732,
           -0.01273770909756422,
           0.0000033652813726803288,
           0.024278419092297554,
           -0.005338772665709257,
           -0.01608208194375038,
           0.0007213237113319337,
           -0.05310326814651489,
           0.008837436325848103,
           -21.1495361328125,
           -22.980985641479492
          ],
          [
           -0.0024537891149520874,
           -0.018920551985502243,
           -0.0028547083493322134,
           0.009560754522681236,
           0.008460825309157372,
           0.03177504241466522,
           0.0004432738642208278,
           -5.435280172605417e-7,
           0.06357890367507935,
           -0.0159006230533123,
           -0.01408358383923769,
           -0.00013421075709629804,
           0.05839915946125984,
           -0.0030350429005920887,
           0.04186831787228584,
           0.05348591133952141,
           -0.07922319322824478,
           -0.016010867431759834,
           -29.424467086791992,
           86.34281158447266
          ],
          [
           0.00821803230792284,
           -0.0036728119011968374,
           0.009658719412982464,
           -0.0037206667475402355,
           -0.0028535432647913694,
           0.0010842755436897278,
           0.0011418440844863653,
           -5.435280172605417e-7,
           -0.005440083798021078,
           0.03370354324579239,
           0.013569224625825882,
           -0.0003185592941008508,
           -0.002975594252347946,
           0.001179794897325337,
           0.016818633303046227,
           0.01726139709353447,
           -0.008923901244997978,
           0.004194809589534998,
           -9.714076042175293,
           39.888450622558594
          ],
          [
           -0.0011057185474783182,
           -0.016233308240771294,
           0.0075501915998756886,
           -0.0035093214828521013,
           -0.017202753573656082,
           -0.0008982795989140868,
           -0.04288431257009506,
           -5.836467948938662e-7,
           0.09137625247240067,
           0.013150972314178944,
           0.16757790744304657,
           -0.005765180569142103,
           0.04132239520549774,
           0.10927649587392807,
           0.07402195036411285,
           0.015537441708147526,
           -0.020421525463461876,
           0.02361263893544674,
           15.355531692504883,
           74.1473617553711
          ],
          [
           0.0004184774006716907,
           0.00017482656403444707,
           -0.012260599061846733,
           0.016875242814421654,
           -0.009085153229534626,
           -0.00348266726359725,
           0.0010970159200951457,
           -5.234686568655889e-7,
           0.04750418663024902,
           0.0015898060519248247,
           0.07386710494756699,
           -0.003485350403934717,
           0.06950930505990982,
           -0.006707921624183655,
           0.05835278332233429,
           0.05805078148841858,
           0.04707755893468857,
           -0.029627811163663864,
           15.726099014282227,
           134.1823272705078
          ],
          [
           0.001450967974960804,
           0.008663523942232132,
           -0.08330849558115005,
           -0.001517414697445929,
           -0.004734954796731472,
           0.0226710457354784,
           0.0012432464864104986,
           -5.234686568655889e-7,
           0.07729528844356537,
           -0.013958658091723919,
           0.13128314912319183,
           0.0057492125779390335,
           0.012975051067769527,
           -0.021029822528362274,
           -0.10661817342042923,
           -0.03641486167907715,
           -0.05615438148379326,
           0.07721966505050659,
           10.229193687438965,
           117.00929260253906
          ],
          [
           0.01717088557779789,
           -0.011571023613214493,
           -0.06975243985652924,
           -0.006548789795488119,
           -0.006513265427201986,
           -0.0033634547144174576,
           0.001120731350965798,
           -5.234686568655889e-7,
           0.03558531403541565,
           0.021320698782801628,
           0.1137283593416214,
           -0.0044189924374222755,
           0.15400280058383942,
           0.0007578463992103934,
           -0.01506777387112379,
           0.0024891418870538473,
           -0.006772348657250404,
           0.02102750353515148,
           12.581000328063965,
           129.55410766601562
          ],
          [
           -0.001816046074964106,
           -0.012102648615837097,
           0.01982852630317211,
           0.0004926009569317102,
           0.007860597223043442,
           -0.0018960374873131514,
           0.0008538152324035764,
           -5.234686568655889e-7,
           0.06222555786371231,
           -0.021105941385030746,
           0.06905367970466614,
           -0.0040780240669846535,
           0.031888414174318314,
           -0.03257666528224945,
           0.025799615308642387,
           -0.02419019676744938,
           0.04766393452882767,
           0.0015151231782510877,
           36.550254821777344,
           123.88862609863281
          ],
          [
           0.001257514231838286,
           -0.015130575746297836,
           -0.004414551891386509,
           0.008090966381132603,
           0.004658644087612629,
           -0.015146417543292046,
           0.00020971645426470786,
           -5.234686568655889e-7,
           0.011706914752721786,
           0.20146164298057556,
           0.19861085712909698,
           -0.00803178921341896,
           0.12098423391580582,
           -0.06273028999567032,
           0.10733574628829956,
           0.044928617775440216,
           0.17564228177070618,
           -0.03375009447336197,
           32.01504898071289,
           267.82757568359375
          ],
          [
           0.024126891046762466,
           -0.06981115788221359,
           -0.002126110251992941,
           -0.0030447172466665506,
           0.01010955311357975,
           -0.016713373363018036,
           0.0011414185864850879,
           -5.903332294110442e-7,
           0.02796195261180401,
           0.10212533921003342,
           0.21606597304344177,
           0.028450297191739082,
           0.3123534023761749,
           0.03849228844046593,
           0.19616052508354187,
           0.06000271439552307,
           -0.15320873260498047,
           0.07142939418554306,
           38.81772994995117,
           528.9920654296875
          ],
          [
           0.0007653198554180562,
           -0.03893428295850754,
           -0.11176957935094833,
           0.04548726975917816,
           0.013672908768057823,
           0.025302406400442123,
           0.0037610491272062063,
           -5.234686568655889e-7,
           0.15557515621185303,
           -0.1976618766784668,
           0.15321378409862518,
           -0.0045678457245230675,
           0.9221652150154114,
           -0.016127025708556175,
           0.3365885019302368,
           0.441148966550827,
           -0.19978415966033936,
           0.14800995588302612,
           29.793498992919922,
           436.032958984375
          ],
          [
           0.0014974954538047314,
           0.1354808211326599,
           0.14720602333545685,
           0.00072560302214697,
           0.008653385564684868,
           0.002555368933826685,
           0.017076756805181503,
           -5.903332294110442e-7,
           0.024949247017502785,
           0.18119129538536072,
           -0.10510391741991043,
           -0.004335414152592421,
           0.26319852471351624,
           -0.035990964621305466,
           0.4638155400753021,
           0.37781164050102234,
           0.023205336183309555,
           0.1530095487833023,
           36.669219970703125,
           291.54913330078125
          ],
          [
           0.0005830085137858987,
           -0.0147970886901021,
           -0.0005603164900094271,
           -0.0021417096722871065,
           0.009206392802298069,
           0.0026123817078769207,
           0.004351895302534103,
           -5.234686568655889e-7,
           0.08664233982563019,
           0.03897193819284439,
           0.1724054217338562,
           -0.0003045381745323539,
           -0.017801929265260696,
           -0.016221223399043083,
           0.09720641374588013,
           0.11877352744340897,
           0.012688951566815376,
           0.0767255648970604,
           1.4028081893920898,
           205.1221466064453
          ],
          [
           0.0000801934365881607,
           -0.004456205293536186,
           -0.006387252826243639,
           0.0043287803418934345,
           0.011961555108428001,
           0.004476806148886681,
           -0.00011448755685705692,
           -5.818232011733926e-7,
           0.06868594884872437,
           -0.039755579084157944,
           -0.00942378118634224,
           -0.0001892316504381597,
           0.05081229656934738,
           -0.002565302886068821,
           0.09789375215768814,
           0.05228988081216812,
           0.002476600231602788,
           -0.011131628416478634,
           -3.6125998497009277,
           127.83191680908203
          ],
          [
           -0.0021726444829255342,
           0.002795000094920397,
           -0.005302713718265295,
           -0.0017264267662540078,
           -0.017086002975702286,
           -0.022952895611524582,
           -0.0018570241518318653,
           -5.818232011733926e-7,
           0.04155479371547699,
           -0.0010825778590515256,
           0.0496688187122345,
           -0.00024980775197036564,
           -0.006641995161771774,
           -0.003954743500798941,
           0.05811557173728943,
           0.01580921560525894,
           0.0028322285506874323,
           -0.004397578537464142,
           6.032445907592773,
           49.352500915527344
          ],
          [
           0.00346371834166348,
           -0.007487223017960787,
           -0.010854658670723438,
           0.007249853573739529,
           0.009227815084159374,
           0.007073963526636362,
           0.0002005675487453118,
           -0.000016336676708306186,
           0.027244770899415016,
           0.014673888683319092,
           0.02144038863480091,
           -0.0003468676586635411,
           -0.019865011796355247,
           -0.0020196696277707815,
           0.024652913212776184,
           0.01293950341641903,
           -0.02054225280880928,
           0.002757658250629902,
           -4.6295037269592285,
           33.4580078125
          ],
          [
           0.004500665236264467,
           0.004311287775635719,
           -0.0015911366790533066,
           -0.00004341434396337718,
           -0.0036416773218661547,
           -0.008009851910173893,
           0.0007097645429894328,
           -5.903332294110442e-7,
           0.025420092046260834,
           0.024150747805833817,
           -0.030794087797403336,
           0.00014085270231589675,
           0.010085618123412132,
           -0.005375177599489689,
           0.04862995073199272,
           0.018579328432679176,
           0.013278493657708168,
           0.008740434423089027,
           -0.2043718844652176,
           17.173580169677734
          ],
          [
           0.0003680420632008463,
           -0.0021799395326524973,
           -0.0031030476093292236,
           0.000007032229859760264,
           0.002278556814417243,
           -0.0001272457739105448,
           0.0002727881073951721,
           -5.903332294110442e-7,
           0.049778763204813004,
           0.00500711053609848,
           -0.06298993527889252,
           -0.0000027592561764322454,
           0.01155101228505373,
           0.005016802344471216,
           0.022589804604649544,
           0.0030735796317458153,
           0.00017903615662362427,
           0.020538311451673508,
           2.777050256729126,
           -49.536006927490234
          ],
          [
           0.0019602749962359667,
           -0.0002076018718071282,
           0.000924740161281079,
           -0.004042718093842268,
           0.0015761936083436012,
           -0.003634627675637603,
           -0.002123443875461817,
           -5.836467948938662e-7,
           0.012589669786393642,
           0.008601898327469826,
           -0.002863467438146472,
           -0.00037004690966568887,
           0.0030082284938544035,
           -0.00837839674204588,
           0.03412327915430069,
           0.03683372959494591,
           0.011561469174921513,
           -0.007075319532305002,
           -3.8904707431793213,
           -73.40371704101562
          ],
          [
           0.0021590138785541058,
           -0.0012494655093178153,
           0.00531137827783823,
           -0.0006216082256287336,
           0.0023445889819413424,
           -0.0018516307463869452,
           -0.002895719138905406,
           -0.0000019111487290501827,
           0.026525065302848816,
           0.008116654120385647,
           -0.009352079592645168,
           -0.000039801943785278127,
           0.0064659519121050835,
           0.0032814410515129566,
           0.023766664788126945,
           0.022764375433325768,
           -0.014719526283442974,
           0.003942584618926048,
           -15.14365291595459,
           -126.5219955444336
          ],
          [
           0.001963126240298152,
           0.0004278573323972523,
           0.0017210913356393576,
           -0.0004960409132763743,
           -0.0002697939344216138,
           -0.0012964805355295539,
           0.0002213371335528791,
           -0.0000024363362172152847,
           0.027362344786524773,
           0.007259185891598463,
           -0.0072751338593661785,
           -0.0002024852583417669,
           0.01341261062771082,
           0.0028589600697159767,
           0.022945748642086983,
           0.021707018837332726,
           -0.01633487455546856,
           0.0010154079645872116,
           -13.435151100158691,
           -139.20156860351562
          ],
          [
           0.0017983439611271024,
           -0.00022226972214411944,
           0.0023725302889943123,
           0.000009755483915796503,
           -0.0004627624002750963,
           -0.0018390193581581116,
           0.0001538219948997721,
           -0.0000016591945950494846,
           0.0263361856341362,
           0.007185096386820078,
           -0.00688078161329031,
           -0.00026726291980594397,
           0.012591404840350151,
           0.004633589182049036,
           0.02266033925116062,
           0.018868226557970047,
           -0.019568270072340965,
           0.0014882589457556605,
           -14.473722457885742,
           -137.16183471679688
          ],
          [
           0.0027924291789531708,
           0.0006672564777545631,
           0.019606126472353935,
           0.0042277052998542786,
           0.0055525414645671844,
           0.016647664830088615,
           -0.0005231742397882044,
           -0.0000021688085780624533,
           0.02380349487066269,
           0.008502909913659096,
           -0.008627854287624359,
           -0.0001291552180191502,
           0.015335661359131336,
           0.008100496605038643,
           0.02183554135262966,
           0.02545825205743313,
           -0.007043658755719662,
           0.021084072068333626,
           -12.392168998718262,
           -127.07182312011719
          ],
          [
           0.0008910028263926506,
           -0.0023655213881284,
           -0.00016925547970458865,
           0.0007772634271532297,
           -0.00028832152020186186,
           -0.0015376099618151784,
           0.00120789825450629,
           -2.7600034968600085e-7,
           0.025869540870189667,
           0.010142544284462929,
           0.01182663906365633,
           -0.0011886279098689556,
           -0.002079905942082405,
           0.020062390714883804,
           0.022434281185269356,
           0.028602467849850655,
           -0.0005579907447099686,
           0.0041159093379974365,
           -13.156085968017578,
           -87.2933578491211
          ],
          [
           0.002520846202969551,
           -0.0016090237768366933,
           -0.011034599505364895,
           -0.0037454143166542053,
           -0.006465476006269455,
           0.004928687121719122,
           0.00012173393770353869,
           -5.435280172605417e-7,
           0.02550685405731201,
           -0.00030980102019384503,
           -0.0033666309900581837,
           0.00003521377220749855,
           0.015116547234356403,
           0.0031370152719318867,
           0.023118756711483,
           0.037078917026519775,
           -0.03095299005508423,
           -0.0003248572757001966,
           -7.020362377166748,
           6.664906024932861
          ],
          [
           -0.0011328888358548284,
           -0.0006776886293664575,
           0.0025607720017433167,
           -0.0010662269778549671,
           -0.004179570358246565,
           0.01139034517109394,
           0.00048582968884147704,
           -5.602441888186149e-7,
           0.051470667123794556,
           0.0793420597910881,
           -0.021775605157017708,
           -0.00029938897932879627,
           -0.042126886546611786,
           0.019091205671429634,
           0.05989614129066467,
           0.03380190581083298,
           0.01294303871691227,
           -0.00526716373860836,
           -0.6558831930160522,
           108.92472839355469
          ],
          [
           0.004372152499854565,
           -0.08473900705575943,
           -0.033088285475969315,
           0.011379732750356197,
           -0.07079089432954788,
           -0.05249302461743355,
           0.0011294371215626597,
           -5.435280172605417e-7,
           0.07675136625766754,
           -0.1803426742553711,
           0.04048972204327583,
           -0.0025652775075286627,
           0.022899962961673737,
           0.02303881011903286,
           -0.01693040505051613,
           0.05974923074245453,
           -0.053477831184864044,
           -0.13646526634693146,
           58.41898727416992,
           188.3303985595703
          ],
          [
           0.023136653006076813,
           0.013332482427358627,
           -0.10747312754392624,
           -0.000027626136215985753,
           0.01566438376903534,
           0.04234756901860237,
           0.0014431572053581476,
           -5.602441888186149e-7,
           1.1457523107528687,
           0.013935286551713943,
           0.23359306156635284,
           -0.0012342684203758836,
           0.026020588353276253,
           0.03317909687757492,
           0.09904667735099792,
           0.02392827905714512,
           0.09438963979482651,
           0.06155690178275108,
           118.4447021484375,
           216.02000427246094
          ],
          [
           0.00473807705566287,
           -0.013561918400228024,
           -0.00569318188354373,
           0.006259304471313953,
           0.04020430147647858,
           0.015873584896326065,
           0.0008505901205353439,
           -5.903332294110442e-7,
           0.7021811008453369,
           -0.2398284673690796,
           -0.003728893818333745,
           -0.001245810417458415,
           0.08301378786563873,
           0.006334937177598476,
           -0.1641101986169815,
           -0.19872988760471344,
           -0.43158915638923645,
           0.0553923100233078,
           125.51891326904297,
           256.03302001953125
          ],
          [
           -0.019758548587560654,
           0.010217578150331974,
           -0.00971164833754301,
           -0.002168492414057255,
           0.050850387662649155,
           0.01615949533879757,
           0.000913315627258271,
           -5.234686568655889e-7,
           0.23350246250629425,
           0.05356588959693909,
           0.2396046668291092,
           -0.0019483801443129778,
           0.1325407475233078,
           0.047976866364479065,
           -0.17942087352275848,
           -0.22870692610740662,
           -0.30266401171684265,
           -0.15156613290309906,
           136.47964477539062,
           273.0892639160156
          ],
          [
           0.003229377791285515,
           -0.0003926470235455781,
           -0.16129636764526367,
           0.0017673897091299295,
           0.032411836087703705,
           0.004987923428416252,
           0.0017363234655931592,
           -5.234686568655889e-7,
           1.7381287813186646,
           -0.24203439056873322,
           0.09731228649616241,
           0.015623160637915134,
           0.1461087167263031,
           0.029173608869314194,
           0.1483512818813324,
           0.050507497042417526,
           -0.5012174844741821,
           0.01543451752513647,
           146.48016357421875,
           224.67330932617188
          ],
          [
           -0.0026937625370919704,
           -0.024381984025239944,
           -0.013046693056821823,
           -0.0008301987545564771,
           0.07341579347848892,
           0.008803494274616241,
           0.005390099715441465,
           -5.903332294110442e-7,
           2.091766834259033,
           -0.13497331738471985,
           0.25884851813316345,
           -0.0012181127676740289,
           0.013696557842195034,
           0.03928625211119652,
           0.10275577008724213,
           0.0670732632279396,
           -0.028537996113300323,
           0.06219366192817688,
           143.07008361816406,
           245.90567016601562
          ]
         ]
        }
       ],
       "layout": {
        "coloraxis": {
         "colorscale": [
          [
           0,
           "rgb(0,0,255)"
          ],
          [
           1,
           "rgb(255,0,0)"
          ]
         ]
        },
        "height": 700,
        "template": {
         "data": {
          "bar": [
           {
            "error_x": {
             "color": "#2a3f5f"
            },
            "error_y": {
             "color": "#2a3f5f"
            },
            "marker": {
             "line": {
              "color": "#E5ECF6",
              "width": 0.5
             },
             "pattern": {
              "fillmode": "overlay",
              "size": 10,
              "solidity": 0.2
             }
            },
            "type": "bar"
           }
          ],
          "barpolar": [
           {
            "marker": {
             "line": {
              "color": "#E5ECF6",
              "width": 0.5
             },
             "pattern": {
              "fillmode": "overlay",
              "size": 10,
              "solidity": 0.2
             }
            },
            "type": "barpolar"
           }
          ],
          "carpet": [
           {
            "aaxis": {
             "endlinecolor": "#2a3f5f",
             "gridcolor": "white",
             "linecolor": "white",
             "minorgridcolor": "white",
             "startlinecolor": "#2a3f5f"
            },
            "baxis": {
             "endlinecolor": "#2a3f5f",
             "gridcolor": "white",
             "linecolor": "white",
             "minorgridcolor": "white",
             "startlinecolor": "#2a3f5f"
            },
            "type": "carpet"
           }
          ],
          "choropleth": [
           {
            "colorbar": {
             "outlinewidth": 0,
             "ticks": ""
            },
            "type": "choropleth"
           }
          ],
          "contour": [
           {
            "colorbar": {
             "outlinewidth": 0,
             "ticks": ""
            },
            "colorscale": [
             [
              0,
              "#0d0887"
             ],
             [
              0.1111111111111111,
              "#46039f"
             ],
             [
              0.2222222222222222,
              "#7201a8"
             ],
             [
              0.3333333333333333,
              "#9c179e"
             ],
             [
              0.4444444444444444,
              "#bd3786"
             ],
             [
              0.5555555555555556,
              "#d8576b"
             ],
             [
              0.6666666666666666,
              "#ed7953"
             ],
             [
              0.7777777777777778,
              "#fb9f3a"
             ],
             [
              0.8888888888888888,
              "#fdca26"
             ],
             [
              1,
              "#f0f921"
             ]
            ],
            "type": "contour"
           }
          ],
          "contourcarpet": [
           {
            "colorbar": {
             "outlinewidth": 0,
             "ticks": ""
            },
            "type": "contourcarpet"
           }
          ],
          "heatmap": [
           {
            "colorbar": {
             "outlinewidth": 0,
             "ticks": ""
            },
            "colorscale": [
             [
              0,
              "#0d0887"
             ],
             [
              0.1111111111111111,
              "#46039f"
             ],
             [
              0.2222222222222222,
              "#7201a8"
             ],
             [
              0.3333333333333333,
              "#9c179e"
             ],
             [
              0.4444444444444444,
              "#bd3786"
             ],
             [
              0.5555555555555556,
              "#d8576b"
             ],
             [
              0.6666666666666666,
              "#ed7953"
             ],
             [
              0.7777777777777778,
              "#fb9f3a"
             ],
             [
              0.8888888888888888,
              "#fdca26"
             ],
             [
              1,
              "#f0f921"
             ]
            ],
            "type": "heatmap"
           }
          ],
          "heatmapgl": [
           {
            "colorbar": {
             "outlinewidth": 0,
             "ticks": ""
            },
            "colorscale": [
             [
              0,
              "#0d0887"
             ],
             [
              0.1111111111111111,
              "#46039f"
             ],
             [
              0.2222222222222222,
              "#7201a8"
             ],
             [
              0.3333333333333333,
              "#9c179e"
             ],
             [
              0.4444444444444444,
              "#bd3786"
             ],
             [
              0.5555555555555556,
              "#d8576b"
             ],
             [
              0.6666666666666666,
              "#ed7953"
             ],
             [
              0.7777777777777778,
              "#fb9f3a"
             ],
             [
              0.8888888888888888,
              "#fdca26"
             ],
             [
              1,
              "#f0f921"
             ]
            ],
            "type": "heatmapgl"
           }
          ],
          "histogram": [
           {
            "marker": {
             "pattern": {
              "fillmode": "overlay",
              "size": 10,
              "solidity": 0.2
             }
            },
            "type": "histogram"
           }
          ],
          "histogram2d": [
           {
            "colorbar": {
             "outlinewidth": 0,
             "ticks": ""
            },
            "colorscale": [
             [
              0,
              "#0d0887"
             ],
             [
              0.1111111111111111,
              "#46039f"
             ],
             [
              0.2222222222222222,
              "#7201a8"
             ],
             [
              0.3333333333333333,
              "#9c179e"
             ],
             [
              0.4444444444444444,
              "#bd3786"
             ],
             [
              0.5555555555555556,
              "#d8576b"
             ],
             [
              0.6666666666666666,
              "#ed7953"
             ],
             [
              0.7777777777777778,
              "#fb9f3a"
             ],
             [
              0.8888888888888888,
              "#fdca26"
             ],
             [
              1,
              "#f0f921"
             ]
            ],
            "type": "histogram2d"
           }
          ],
          "histogram2dcontour": [
           {
            "colorbar": {
             "outlinewidth": 0,
             "ticks": ""
            },
            "colorscale": [
             [
              0,
              "#0d0887"
             ],
             [
              0.1111111111111111,
              "#46039f"
             ],
             [
              0.2222222222222222,
              "#7201a8"
             ],
             [
              0.3333333333333333,
              "#9c179e"
             ],
             [
              0.4444444444444444,
              "#bd3786"
             ],
             [
              0.5555555555555556,
              "#d8576b"
             ],
             [
              0.6666666666666666,
              "#ed7953"
             ],
             [
              0.7777777777777778,
              "#fb9f3a"
             ],
             [
              0.8888888888888888,
              "#fdca26"
             ],
             [
              1,
              "#f0f921"
             ]
            ],
            "type": "histogram2dcontour"
           }
          ],
          "mesh3d": [
           {
            "colorbar": {
             "outlinewidth": 0,
             "ticks": ""
            },
            "type": "mesh3d"
           }
          ],
          "parcoords": [
           {
            "line": {
             "colorbar": {
              "outlinewidth": 0,
              "ticks": ""
             }
            },
            "type": "parcoords"
           }
          ],
          "pie": [
           {
            "automargin": true,
            "type": "pie"
           }
          ],
          "scatter": [
           {
            "fillpattern": {
             "fillmode": "overlay",
             "size": 10,
             "solidity": 0.2
            },
            "type": "scatter"
           }
          ],
          "scatter3d": [
           {
            "line": {
             "colorbar": {
              "outlinewidth": 0,
              "ticks": ""
             }
            },
            "marker": {
             "colorbar": {
              "outlinewidth": 0,
              "ticks": ""
             }
            },
            "type": "scatter3d"
           }
          ],
          "scattercarpet": [
           {
            "marker": {
             "colorbar": {
              "outlinewidth": 0,
              "ticks": ""
             }
            },
            "type": "scattercarpet"
           }
          ],
          "scattergeo": [
           {
            "marker": {
             "colorbar": {
              "outlinewidth": 0,
              "ticks": ""
             }
            },
            "type": "scattergeo"
           }
          ],
          "scattergl": [
           {
            "marker": {
             "colorbar": {
              "outlinewidth": 0,
              "ticks": ""
             }
            },
            "type": "scattergl"
           }
          ],
          "scattermapbox": [
           {
            "marker": {
             "colorbar": {
              "outlinewidth": 0,
              "ticks": ""
             }
            },
            "type": "scattermapbox"
           }
          ],
          "scatterpolar": [
           {
            "marker": {
             "colorbar": {
              "outlinewidth": 0,
              "ticks": ""
             }
            },
            "type": "scatterpolar"
           }
          ],
          "scatterpolargl": [
           {
            "marker": {
             "colorbar": {
              "outlinewidth": 0,
              "ticks": ""
             }
            },
            "type": "scatterpolargl"
           }
          ],
          "scatterternary": [
           {
            "marker": {
             "colorbar": {
              "outlinewidth": 0,
              "ticks": ""
             }
            },
            "type": "scatterternary"
           }
          ],
          "surface": [
           {
            "colorbar": {
             "outlinewidth": 0,
             "ticks": ""
            },
            "colorscale": [
             [
              0,
              "#0d0887"
             ],
             [
              0.1111111111111111,
              "#46039f"
             ],
             [
              0.2222222222222222,
              "#7201a8"
             ],
             [
              0.3333333333333333,
              "#9c179e"
             ],
             [
              0.4444444444444444,
              "#bd3786"
             ],
             [
              0.5555555555555556,
              "#d8576b"
             ],
             [
              0.6666666666666666,
              "#ed7953"
             ],
             [
              0.7777777777777778,
              "#fb9f3a"
             ],
             [
              0.8888888888888888,
              "#fdca26"
             ],
             [
              1,
              "#f0f921"
             ]
            ],
            "type": "surface"
           }
          ],
          "table": [
           {
            "cells": {
             "fill": {
              "color": "#EBF0F8"
             },
             "line": {
              "color": "white"
             }
            },
            "header": {
             "fill": {
              "color": "#C8D4E3"
             },
             "line": {
              "color": "white"
             }
            },
            "type": "table"
           }
          ]
         },
         "layout": {
          "annotationdefaults": {
           "arrowcolor": "#2a3f5f",
           "arrowhead": 0,
           "arrowwidth": 1
          },
          "autotypenumbers": "strict",
          "coloraxis": {
           "colorbar": {
            "outlinewidth": 0,
            "ticks": ""
           }
          },
          "colorscale": {
           "diverging": [
            [
             0,
             "#8e0152"
            ],
            [
             0.1,
             "#c51b7d"
            ],
            [
             0.2,
             "#de77ae"
            ],
            [
             0.3,
             "#f1b6da"
            ],
            [
             0.4,
             "#fde0ef"
            ],
            [
             0.5,
             "#f7f7f7"
            ],
            [
             0.6,
             "#e6f5d0"
            ],
            [
             0.7,
             "#b8e186"
            ],
            [
             0.8,
             "#7fbc41"
            ],
            [
             0.9,
             "#4d9221"
            ],
            [
             1,
             "#276419"
            ]
           ],
           "sequential": [
            [
             0,
             "#0d0887"
            ],
            [
             0.1111111111111111,
             "#46039f"
            ],
            [
             0.2222222222222222,
             "#7201a8"
            ],
            [
             0.3333333333333333,
             "#9c179e"
            ],
            [
             0.4444444444444444,
             "#bd3786"
            ],
            [
             0.5555555555555556,
             "#d8576b"
            ],
            [
             0.6666666666666666,
             "#ed7953"
            ],
            [
             0.7777777777777778,
             "#fb9f3a"
            ],
            [
             0.8888888888888888,
             "#fdca26"
            ],
            [
             1,
             "#f0f921"
            ]
           ],
           "sequentialminus": [
            [
             0,
             "#0d0887"
            ],
            [
             0.1111111111111111,
             "#46039f"
            ],
            [
             0.2222222222222222,
             "#7201a8"
            ],
            [
             0.3333333333333333,
             "#9c179e"
            ],
            [
             0.4444444444444444,
             "#bd3786"
            ],
            [
             0.5555555555555556,
             "#d8576b"
            ],
            [
             0.6666666666666666,
             "#ed7953"
            ],
            [
             0.7777777777777778,
             "#fb9f3a"
            ],
            [
             0.8888888888888888,
             "#fdca26"
            ],
            [
             1,
             "#f0f921"
            ]
           ]
          },
          "colorway": [
           "#636efa",
           "#EF553B",
           "#00cc96",
           "#ab63fa",
           "#FFA15A",
           "#19d3f3",
           "#FF6692",
           "#B6E880",
           "#FF97FF",
           "#FECB52"
          ],
          "font": {
           "color": "#2a3f5f"
          },
          "geo": {
           "bgcolor": "white",
           "lakecolor": "white",
           "landcolor": "#E5ECF6",
           "showlakes": true,
           "showland": true,
           "subunitcolor": "white"
          },
          "hoverlabel": {
           "align": "left"
          },
          "hovermode": "closest",
          "mapbox": {
           "style": "light"
          },
          "paper_bgcolor": "white",
          "plot_bgcolor": "#E5ECF6",
          "polar": {
           "angularaxis": {
            "gridcolor": "white",
            "linecolor": "white",
            "ticks": ""
           },
           "bgcolor": "#E5ECF6",
           "radialaxis": {
            "gridcolor": "white",
            "linecolor": "white",
            "ticks": ""
           }
          },
          "scene": {
           "xaxis": {
            "backgroundcolor": "#E5ECF6",
            "gridcolor": "white",
            "gridwidth": 2,
            "linecolor": "white",
            "showbackground": true,
            "ticks": "",
            "zerolinecolor": "white"
           },
           "yaxis": {
            "backgroundcolor": "#E5ECF6",
            "gridcolor": "white",
            "gridwidth": 2,
            "linecolor": "white",
            "showbackground": true,
            "ticks": "",
            "zerolinecolor": "white"
           },
           "zaxis": {
            "backgroundcolor": "#E5ECF6",
            "gridcolor": "white",
            "gridwidth": 2,
            "linecolor": "white",
            "showbackground": true,
            "ticks": "",
            "zerolinecolor": "white"
           }
          },
          "shapedefaults": {
           "line": {
            "color": "#2a3f5f"
           }
          },
          "ternary": {
           "aaxis": {
            "gridcolor": "white",
            "linecolor": "white",
            "ticks": ""
           },
           "baxis": {
            "gridcolor": "white",
            "linecolor": "white",
            "ticks": ""
           },
           "bgcolor": "#E5ECF6",
           "caxis": {
            "gridcolor": "white",
            "linecolor": "white",
            "ticks": ""
           }
          },
          "title": {
           "x": 0.05
          },
          "xaxis": {
           "automargin": true,
           "gridcolor": "white",
           "linecolor": "white",
           "ticks": "",
           "title": {
            "standoff": 15
           },
           "zerolinecolor": "white",
           "zerolinewidth": 2
          },
          "yaxis": {
           "automargin": true,
           "gridcolor": "white",
           "linecolor": "white",
           "ticks": "",
           "title": {
            "standoff": 15
           },
           "zerolinecolor": "white",
           "zerolinewidth": 2
          }
         }
        },
        "title": {
         "text": "Sample Explanations"
        },
        "xaxis": {
         "anchor": "y",
         "constrain": "domain",
         "domain": [
          0,
          1
         ],
         "scaleanchor": "y"
        },
        "yaxis": {
         "anchor": "x",
         "autorange": "reversed",
         "constrain": "domain",
         "domain": [
          0,
          1
         ]
        }
       }
      }
     },
     "metadata": {},
     "output_type": "display_data"
    }
   ],
   "source": [
    "px.imshow(\n",
    "    samples_explanations, height=700, color_continuous_scale=\"Bluered\", title=\"Sample Explanations\"\n",
    ")"
   ]
  }
 ],
 "metadata": {
  "kernelspec": {
   "display_name": ".venv",
   "language": "python",
   "name": "python3"
  },
  "language_info": {
   "codemirror_mode": {
    "name": "ipython",
    "version": 3
   },
   "file_extension": ".py",
   "mimetype": "text/x-python",
   "name": "python",
   "nbconvert_exporter": "python",
   "pygments_lexer": "ipython3",
   "version": "3.12.5"
  }
 },
 "nbformat": 4,
 "nbformat_minor": 2
}
